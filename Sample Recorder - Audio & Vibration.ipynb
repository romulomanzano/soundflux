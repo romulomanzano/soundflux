{
 "cells": [
  {
   "cell_type": "markdown",
   "metadata": {},
   "source": [
    "# Sample Recorder"
   ]
  },
  {
   "cell_type": "code",
   "execution_count": 1,
   "metadata": {},
   "outputs": [],
   "source": [
    "import datetime as dt\n",
    "import matplotlib.pyplot as plt\n",
    "import matplotlib.animation as animation\n",
    "import smbus\n",
    "import time\n",
    "import os\n",
    "import math\n",
    "from accelerometer import Accelerometer\n",
    "from soundflux import SoundFlux\n",
    "import soundfile\n",
    "import tempfile\n",
    "import wave\n",
    "import numpy as np\n",
    "from sample_recorder import SampleRecorder"
   ]
  },
  {
   "cell_type": "code",
   "execution_count": 2,
   "metadata": {},
   "outputs": [],
   "source": [
    "rec = SampleRecorder()"
   ]
  },
  {
   "cell_type": "code",
   "execution_count": 3,
   "metadata": {},
   "outputs": [
    {
     "name": "stdout",
     "output_type": "stream",
     "text": [
      "Time to finish 3.997559070587158\n"
     ]
    },
    {
     "data": {
      "image/png": "[encoded data removed]",
      "text/plain": [
       "<Figure size 432x288 with 1 Axes>"
      ]
     },
     "metadata": {
      "needs_background": "light"
     },
     "output_type": "display_data"
    }
   ],
   "source": [
    "rec.capture_x_seconds(4,exclude_vibration=True)\n",
    "rec.plot_sample()"
   ]
  },
  {
   "cell_type": "markdown",
   "metadata": {},
   "source": [
    "# ATTENTION - This will save the file"
   ]
  },
  {
   "cell_type": "markdown",
   "metadata": {},
   "source": [
    "## Define name, class and other details"
   ]
  },
  {
   "cell_type": "code",
   "execution_count": 4,
   "metadata": {},
   "outputs": [],
   "source": [
    "prefix = 'random_sample'\n",
    "_class = 'falling_object'\n",
    "#include distance in inches\n",
    "metadata = {\n",
    "    'distance_from_device' : 12,\n",
    "    'floor_type' : 'wooden_floor'\n",
    "}"
   ]
  },
  {
   "cell_type": "code",
   "execution_count": 5,
   "metadata": {},
   "outputs": [
    {
     "data": {
      "text/plain": [
       "{'audio_file': 'random_sample_id_1549845401.813809.wav',\n",
       " 'class': 'falling_object',\n",
       " 'id': '1549845401.813809',\n",
       " 'index_file': 'random_sample_id_1549845401.813809_index.json',\n",
       " 'metadata': {'distance_from_device': 12, 'floor_type': 'wooden_floor'},\n",
       " 'prefix': 'random_sample',\n",
       " 'sample_length': 4,\n",
       " 'timestamp': '02/11/2019, 00:36:41'}"
      ]
     },
     "execution_count": 5,
     "metadata": {},
     "output_type": "execute_result"
    }
   ],
   "source": [
    "rec.save_sample(prefix,_class,metadata=metadata)"
   ]
  }
 ],
 "metadata": {
  "kernelspec": {
   "display_name": "Python 3",
   "language": "python",
   "name": "python3"
  },
  "language_info": {
   "codemirror_mode": {
    "name": "ipython",
    "version": 3
   },
   "file_extension": ".py",
   "mimetype": "text/x-python",
   "name": "python",
   "nbconvert_exporter": "python",
   "pygments_lexer": "ipython3",
   "version": "3.5.3"
  }
 },
 "nbformat": 4,
 "nbformat_minor": 2
}
