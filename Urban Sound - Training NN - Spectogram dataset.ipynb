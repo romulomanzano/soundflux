{
 "cells": [
  {
   "cell_type": "markdown",
   "metadata": {},
   "source": [
    "#  Training a CNN based on the extracted Spectrograms"
   ]
  },
  {
   "cell_type": "code",
   "execution_count": 1,
   "metadata": {},
   "outputs": [
    {
     "name": "stderr",
     "output_type": "stream",
     "text": [
      "/home/nvidia/github/python_environments/soundflux/lib/python3.5/site-packages/librosa/cache.py:36: DeprecationWarning: The 'cachedir' attribute has been deprecated in version 0.12 and will be removed in version 0.14.\n",
      "Use os.path.join(memory.location, 'joblib') attribute instead.\n",
      "  if self.cachedir is not None:\n",
      "/home/nvidia/github/python_environments/soundflux/lib/python3.5/site-packages/librosa/cache.py:36: DeprecationWarning: The 'cachedir' attribute has been deprecated in version 0.12 and will be removed in version 0.14.\n",
      "Use os.path.join(memory.location, 'joblib') attribute instead.\n",
      "  if self.cachedir is not None:\n",
      "/home/nvidia/github/python_environments/soundflux/lib/python3.5/site-packages/librosa/cache.py:36: DeprecationWarning: The 'cachedir' attribute has been deprecated in version 0.12 and will be removed in version 0.14.\n",
      "Use os.path.join(memory.location, 'joblib') attribute instead.\n",
      "  if self.cachedir is not None:\n",
      "/home/nvidia/github/python_environments/soundflux/lib/python3.5/site-packages/librosa/cache.py:36: DeprecationWarning: The 'cachedir' attribute has been deprecated in version 0.12 and will be removed in version 0.14.\n",
      "Use os.path.join(memory.location, 'joblib') attribute instead.\n",
      "  if self.cachedir is not None:\n",
      "/home/nvidia/github/python_environments/soundflux/lib/python3.5/site-packages/librosa/cache.py:36: DeprecationWarning: The 'cachedir' attribute has been deprecated in version 0.12 and will be removed in version 0.14.\n",
      "Use os.path.join(memory.location, 'joblib') attribute instead.\n",
      "  if self.cachedir is not None:\n",
      "/home/nvidia/github/python_environments/soundflux/lib/python3.5/site-packages/librosa/cache.py:36: DeprecationWarning: The 'cachedir' attribute has been deprecated in version 0.12 and will be removed in version 0.14.\n",
      "Use os.path.join(memory.location, 'joblib') attribute instead.\n",
      "  if self.cachedir is not None:\n",
      "/home/nvidia/github/python_environments/soundflux/lib/python3.5/site-packages/librosa/cache.py:36: DeprecationWarning: The 'cachedir' attribute has been deprecated in version 0.12 and will be removed in version 0.14.\n",
      "Use os.path.join(memory.location, 'joblib') attribute instead.\n",
      "  if self.cachedir is not None:\n",
      "/home/nvidia/github/python_environments/soundflux/lib/python3.5/site-packages/librosa/cache.py:36: DeprecationWarning: The 'cachedir' attribute has been deprecated in version 0.12 and will be removed in version 0.14.\n",
      "Use os.path.join(memory.location, 'joblib') attribute instead.\n",
      "  if self.cachedir is not None:\n",
      "/home/nvidia/github/python_environments/soundflux/lib/python3.5/site-packages/librosa/cache.py:36: DeprecationWarning: The 'cachedir' attribute has been deprecated in version 0.12 and will be removed in version 0.14.\n",
      "Use os.path.join(memory.location, 'joblib') attribute instead.\n",
      "  if self.cachedir is not None:\n",
      "/home/nvidia/github/python_environments/soundflux/lib/python3.5/site-packages/librosa/cache.py:36: DeprecationWarning: The 'cachedir' attribute has been deprecated in version 0.12 and will be removed in version 0.14.\n",
      "Use os.path.join(memory.location, 'joblib') attribute instead.\n",
      "  if self.cachedir is not None:\n",
      "/home/nvidia/github/python_environments/soundflux/lib/python3.5/site-packages/librosa/cache.py:36: DeprecationWarning: The 'cachedir' attribute has been deprecated in version 0.12 and will be removed in version 0.14.\n",
      "Use os.path.join(memory.location, 'joblib') attribute instead.\n",
      "  if self.cachedir is not None:\n",
      "/home/nvidia/github/python_environments/soundflux/lib/python3.5/site-packages/librosa/core/audio.py:37: UserWarning: Could not import scikits.samplerate. Falling back to scipy.signal\n",
      "  warnings.warn('Could not import scikits.samplerate. '\n",
      "/home/nvidia/github/python_environments/soundflux/lib/python3.5/site-packages/librosa/cache.py:36: DeprecationWarning: The 'cachedir' attribute has been deprecated in version 0.12 and will be removed in version 0.14.\n",
      "Use os.path.join(memory.location, 'joblib') attribute instead.\n",
      "  if self.cachedir is not None:\n",
      "/home/nvidia/github/python_environments/soundflux/lib/python3.5/site-packages/librosa/cache.py:36: DeprecationWarning: The 'cachedir' attribute has been deprecated in version 0.12 and will be removed in version 0.14.\n",
      "Use os.path.join(memory.location, 'joblib') attribute instead.\n",
      "  if self.cachedir is not None:\n",
      "/home/nvidia/github/python_environments/soundflux/lib/python3.5/site-packages/librosa/cache.py:36: DeprecationWarning: The 'cachedir' attribute has been deprecated in version 0.12 and will be removed in version 0.14.\n",
      "Use os.path.join(memory.location, 'joblib') attribute instead.\n",
      "  if self.cachedir is not None:\n",
      "/home/nvidia/github/python_environments/soundflux/lib/python3.5/site-packages/librosa/cache.py:36: DeprecationWarning: The 'cachedir' attribute has been deprecated in version 0.12 and will be removed in version 0.14.\n",
      "Use os.path.join(memory.location, 'joblib') attribute instead.\n",
      "  if self.cachedir is not None:\n",
      "/home/nvidia/github/python_environments/soundflux/lib/python3.5/site-packages/librosa/cache.py:36: DeprecationWarning: The 'cachedir' attribute has been deprecated in version 0.12 and will be removed in version 0.14.\n",
      "Use os.path.join(memory.location, 'joblib') attribute instead.\n",
      "  if self.cachedir is not None:\n",
      "/home/nvidia/github/python_environments/soundflux/lib/python3.5/site-packages/librosa/cache.py:36: DeprecationWarning: The 'cachedir' attribute has been deprecated in version 0.12 and will be removed in version 0.14.\n",
      "Use os.path.join(memory.location, 'joblib') attribute instead.\n",
      "  if self.cachedir is not None:\n",
      "/home/nvidia/github/python_environments/soundflux/lib/python3.5/site-packages/librosa/cache.py:36: DeprecationWarning: The 'cachedir' attribute has been deprecated in version 0.12 and will be removed in version 0.14.\n",
      "Use os.path.join(memory.location, 'joblib') attribute instead.\n",
      "  if self.cachedir is not None:\n",
      "/home/nvidia/github/python_environments/soundflux/lib/python3.5/site-packages/librosa/cache.py:36: DeprecationWarning: The 'cachedir' attribute has been deprecated in version 0.12 and will be removed in version 0.14.\n",
      "Use os.path.join(memory.location, 'joblib') attribute instead.\n",
      "  if self.cachedir is not None:\n",
      "/home/nvidia/github/python_environments/soundflux/lib/python3.5/site-packages/librosa/cache.py:36: DeprecationWarning: The 'cachedir' attribute has been deprecated in version 0.12 and will be removed in version 0.14.\n",
      "Use os.path.join(memory.location, 'joblib') attribute instead.\n",
      "  if self.cachedir is not None:\n",
      "/home/nvidia/github/python_environments/soundflux/lib/python3.5/site-packages/librosa/cache.py:36: DeprecationWarning: The 'cachedir' attribute has been deprecated in version 0.12 and will be removed in version 0.14.\n",
      "Use os.path.join(memory.location, 'joblib') attribute instead.\n",
      "  if self.cachedir is not None:\n",
      "/home/nvidia/github/python_environments/soundflux/lib/python3.5/site-packages/librosa/cache.py:36: DeprecationWarning: The 'cachedir' attribute has been deprecated in version 0.12 and will be removed in version 0.14.\n",
      "Use os.path.join(memory.location, 'joblib') attribute instead.\n",
      "  if self.cachedir is not None:\n",
      "/home/nvidia/github/python_environments/soundflux/lib/python3.5/site-packages/librosa/cache.py:36: DeprecationWarning: The 'cachedir' attribute has been deprecated in version 0.12 and will be removed in version 0.14.\n",
      "Use os.path.join(memory.location, 'joblib') attribute instead.\n",
      "  if self.cachedir is not None:\n",
      "/home/nvidia/github/python_environments/soundflux/lib/python3.5/site-packages/librosa/cache.py:36: DeprecationWarning: The 'cachedir' attribute has been deprecated in version 0.12 and will be removed in version 0.14.\n",
      "Use os.path.join(memory.location, 'joblib') attribute instead.\n",
      "  if self.cachedir is not None:\n",
      "/home/nvidia/github/python_environments/soundflux/lib/python3.5/site-packages/librosa/cache.py:36: DeprecationWarning: The 'cachedir' attribute has been deprecated in version 0.12 and will be removed in version 0.14.\n",
      "Use os.path.join(memory.location, 'joblib') attribute instead.\n",
      "  if self.cachedir is not None:\n",
      "/home/nvidia/github/python_environments/soundflux/lib/python3.5/site-packages/librosa/cache.py:36: DeprecationWarning: The 'cachedir' attribute has been deprecated in version 0.12 and will be removed in version 0.14.\n",
      "Use os.path.join(memory.location, 'joblib') attribute instead.\n",
      "  if self.cachedir is not None:\n",
      "/home/nvidia/github/python_environments/soundflux/lib/python3.5/site-packages/librosa/cache.py:36: DeprecationWarning: The 'cachedir' attribute has been deprecated in version 0.12 and will be removed in version 0.14.\n",
      "Use os.path.join(memory.location, 'joblib') attribute instead.\n",
      "  if self.cachedir is not None:\n",
      "/home/nvidia/github/python_environments/soundflux/lib/python3.5/site-packages/librosa/cache.py:36: DeprecationWarning: The 'cachedir' attribute has been deprecated in version 0.12 and will be removed in version 0.14.\n",
      "Use os.path.join(memory.location, 'joblib') attribute instead.\n",
      "  if self.cachedir is not None:\n",
      "/home/nvidia/github/python_environments/soundflux/lib/python3.5/site-packages/librosa/cache.py:36: DeprecationWarning: The 'cachedir' attribute has been deprecated in version 0.12 and will be removed in version 0.14.\n",
      "Use os.path.join(memory.location, 'joblib') attribute instead.\n",
      "  if self.cachedir is not None:\n",
      "/home/nvidia/github/python_environments/soundflux/lib/python3.5/site-packages/librosa/cache.py:36: DeprecationWarning: The 'cachedir' attribute has been deprecated in version 0.12 and will be removed in version 0.14.\n",
      "Use os.path.join(memory.location, 'joblib') attribute instead.\n",
      "  if self.cachedir is not None:\n",
      "/home/nvidia/github/python_environments/soundflux/lib/python3.5/site-packages/librosa/cache.py:36: DeprecationWarning: The 'cachedir' attribute has been deprecated in version 0.12 and will be removed in version 0.14.\n",
      "Use os.path.join(memory.location, 'joblib') attribute instead.\n",
      "  if self.cachedir is not None:\n",
      "/home/nvidia/github/python_environments/soundflux/lib/python3.5/site-packages/librosa/cache.py:36: DeprecationWarning: The 'cachedir' attribute has been deprecated in version 0.12 and will be removed in version 0.14.\n",
      "Use os.path.join(memory.location, 'joblib') attribute instead.\n",
      "  if self.cachedir is not None:\n",
      "/home/nvidia/github/python_environments/soundflux/lib/python3.5/site-packages/librosa/cache.py:36: DeprecationWarning: The 'cachedir' attribute has been deprecated in version 0.12 and will be removed in version 0.14.\n",
      "Use os.path.join(memory.location, 'joblib') attribute instead.\n",
      "  if self.cachedir is not None:\n",
      "/home/nvidia/github/python_environments/soundflux/lib/python3.5/site-packages/librosa/cache.py:36: DeprecationWarning: The 'cachedir' attribute has been deprecated in version 0.12 and will be removed in version 0.14.\n",
      "Use os.path.join(memory.location, 'joblib') attribute instead.\n",
      "  if self.cachedir is not None:\n",
      "/home/nvidia/github/python_environments/soundflux/lib/python3.5/site-packages/librosa/cache.py:36: DeprecationWarning: The 'cachedir' attribute has been deprecated in version 0.12 and will be removed in version 0.14.\n",
      "Use os.path.join(memory.location, 'joblib') attribute instead.\n",
      "  if self.cachedir is not None:\n",
      "/home/nvidia/github/python_environments/soundflux/lib/python3.5/site-packages/librosa/cache.py:36: DeprecationWarning: The 'cachedir' attribute has been deprecated in version 0.12 and will be removed in version 0.14.\n",
      "Use os.path.join(memory.location, 'joblib') attribute instead.\n",
      "  if self.cachedir is not None:\n",
      "/home/nvidia/github/python_environments/soundflux/lib/python3.5/site-packages/librosa/cache.py:36: DeprecationWarning: The 'cachedir' attribute has been deprecated in version 0.12 and will be removed in version 0.14.\n",
      "Use os.path.join(memory.location, 'joblib') attribute instead.\n",
      "  if self.cachedir is not None:\n",
      "/home/nvidia/github/python_environments/soundflux/lib/python3.5/site-packages/librosa/cache.py:36: DeprecationWarning: The 'cachedir' attribute has been deprecated in version 0.12 and will be removed in version 0.14.\n",
      "Use os.path.join(memory.location, 'joblib') attribute instead.\n",
      "  if self.cachedir is not None:\n",
      "/home/nvidia/github/python_environments/soundflux/lib/python3.5/site-packages/librosa/cache.py:36: DeprecationWarning: The 'cachedir' attribute has been deprecated in version 0.12 and will be removed in version 0.14.\n",
      "Use os.path.join(memory.location, 'joblib') attribute instead.\n",
      "  if self.cachedir is not None:\n",
      "/home/nvidia/github/python_environments/soundflux/lib/python3.5/site-packages/librosa/cache.py:36: DeprecationWarning: The 'cachedir' attribute has been deprecated in version 0.12 and will be removed in version 0.14.\n",
      "Use os.path.join(memory.location, 'joblib') attribute instead.\n",
      "  if self.cachedir is not None:\n",
      "/home/nvidia/github/python_environments/soundflux/lib/python3.5/site-packages/librosa/cache.py:36: DeprecationWarning: The 'cachedir' attribute has been deprecated in version 0.12 and will be removed in version 0.14.\n",
      "Use os.path.join(memory.location, 'joblib') attribute instead.\n",
      "  if self.cachedir is not None:\n"
     ]
    },
    {
     "name": "stderr",
     "output_type": "stream",
     "text": [
      "/home/nvidia/github/python_environments/soundflux/lib/python3.5/site-packages/librosa/cache.py:36: DeprecationWarning: The 'cachedir' attribute has been deprecated in version 0.12 and will be removed in version 0.14.\n",
      "Use os.path.join(memory.location, 'joblib') attribute instead.\n",
      "  if self.cachedir is not None:\n",
      "/home/nvidia/github/python_environments/soundflux/lib/python3.5/site-packages/librosa/cache.py:36: DeprecationWarning: The 'cachedir' attribute has been deprecated in version 0.12 and will be removed in version 0.14.\n",
      "Use os.path.join(memory.location, 'joblib') attribute instead.\n",
      "  if self.cachedir is not None:\n",
      "/home/nvidia/github/python_environments/soundflux/lib/python3.5/site-packages/librosa/cache.py:36: DeprecationWarning: The 'cachedir' attribute has been deprecated in version 0.12 and will be removed in version 0.14.\n",
      "Use os.path.join(memory.location, 'joblib') attribute instead.\n",
      "  if self.cachedir is not None:\n",
      "/home/nvidia/github/python_environments/soundflux/lib/python3.5/site-packages/librosa/cache.py:36: DeprecationWarning: The 'cachedir' attribute has been deprecated in version 0.12 and will be removed in version 0.14.\n",
      "Use os.path.join(memory.location, 'joblib') attribute instead.\n",
      "  if self.cachedir is not None:\n"
     ]
    }
   ],
   "source": [
    "import matplotlib.pyplot as plt\n",
    "from python_speech_features import mfcc, ssc, logfbank\n",
    "import pandas as pd\n",
    "import os\n",
    "import numpy as np\n",
    "import soundfile\n",
    "from scipy import signal\n",
    "import librosa\n",
    "import matplotlib.pyplot as plt\n",
    "import librosa.display\n",
    "from tensorflow import keras"
   ]
  },
  {
   "cell_type": "markdown",
   "metadata": {},
   "source": [
    "# Loading the data"
   ]
  },
  {
   "cell_type": "code",
   "execution_count": 2,
   "metadata": {},
   "outputs": [],
   "source": [
    "URBAN_SOUND_DIR = \"/media/nvidia/ROMULO'S/urban_sound_challenge/\""
   ]
  },
  {
   "cell_type": "code",
   "execution_count": 3,
   "metadata": {},
   "outputs": [],
   "source": [
    "temp = pd.read_json(URBAN_SOUND_DIR+\"train_mel_spectrogram_transformed.json\")"
   ]
  },
  {
   "cell_type": "code",
   "execution_count": 4,
   "metadata": {},
   "outputs": [],
   "source": [
    "x = np.array(temp.feature.tolist())"
   ]
  },
  {
   "cell_type": "code",
   "execution_count": 5,
   "metadata": {},
   "outputs": [],
   "source": [
    "x_features = []\n",
    "for i in range(x.shape[0]):\n",
    "    _x_array = np.array([np.array(m) for m in x[i]])\n",
    "    x_features.append(_x_array[:,:99])\n",
    "x_features= np.array(x_features)"
   ]
  },
  {
   "cell_type": "code",
   "execution_count": 6,
   "metadata": {},
   "outputs": [
    {
     "data": {
      "text/plain": [
       "(5435, 23, 99)"
      ]
     },
     "execution_count": 6,
     "metadata": {},
     "output_type": "execute_result"
    }
   ],
   "source": [
    "x_features.shape"
   ]
  },
  {
   "cell_type": "code",
   "execution_count": 7,
   "metadata": {},
   "outputs": [],
   "source": [
    "encoded_classes = {'siren' :0,\n",
    " 'street_music' :1,\n",
    " 'engine_idling':2,\n",
    " 'jackhammer':3,\n",
    " 'car_horn':4,\n",
    " 'drilling':5,\n",
    " 'dog_bark':6,\n",
    " 'air_conditioner':7,\n",
    " 'children_playing':8,\n",
    " 'gun_shot':9}"
   ]
  },
  {
   "cell_type": "code",
   "execution_count": 8,
   "metadata": {},
   "outputs": [],
   "source": [
    "def find_class(x):\n",
    "    return encoded_classes[x]"
   ]
  },
  {
   "cell_type": "code",
   "execution_count": 9,
   "metadata": {},
   "outputs": [],
   "source": [
    "temp['label_encoded'] = temp['label'].apply(find_class) "
   ]
  },
  {
   "cell_type": "code",
   "execution_count": 10,
   "metadata": {},
   "outputs": [],
   "source": [
    "y= np.array(temp.label_encoded.tolist())"
   ]
  },
  {
   "cell_type": "code",
   "execution_count": 11,
   "metadata": {},
   "outputs": [
    {
     "data": {
      "text/plain": [
       "(5435,)"
      ]
     },
     "execution_count": 11,
     "metadata": {},
     "output_type": "execute_result"
    }
   ],
   "source": [
    "y.shape"
   ]
  },
  {
   "cell_type": "markdown",
   "metadata": {},
   "source": [
    "# Simple NN Architecture"
   ]
  },
  {
   "cell_type": "code",
   "execution_count": 137,
   "metadata": {},
   "outputs": [],
   "source": [
    "import tensorflow as tf\n",
    "from tensorflow import keras\n",
    "from tensorflow.keras.optimizers import SGD"
   ]
  },
  {
   "cell_type": "code",
   "execution_count": 138,
   "metadata": {},
   "outputs": [],
   "source": [
    "tf.keras.backend.clear_session()"
   ]
  },
  {
   "cell_type": "code",
   "execution_count": 139,
   "metadata": {},
   "outputs": [],
   "source": [
    "conv_layer = keras.layers.Conv1D(80, (3),\n",
    "                                 input_shape = (23,99),\n",
    "                                 strides=1, padding='same', \n",
    "                                 data_format='channels_last', \n",
    "                                 dilation_rate=1, \n",
    "                                 activation=tf.nn.relu, \n",
    "                                 use_bias=True, \n",
    "                                 kernel_initializer='glorot_uniform', \n",
    "                                 bias_initializer='zeros', \n",
    "                                 kernel_regularizer=None, \n",
    "                                 bias_regularizer=None, \n",
    "                                 activity_regularizer=None,\n",
    "                                 kernel_constraint=None, bias_constraint=None)"
   ]
  },
  {
   "cell_type": "code",
   "execution_count": 140,
   "metadata": {},
   "outputs": [],
   "source": [
    "model = keras.Sequential([\n",
    "    conv_layer,\n",
    "    keras.layers.Flatten(input_shape=(23,99)),\n",
    "    keras.layers.Dense(3000, activation=tf.nn.tanh),\n",
    "    keras.layers.Dropout(0.2, noise_shape=None, seed=None),\n",
    "    keras.layers.Dense(1200, activation=tf.nn.tanh),\n",
    "    keras.layers.Dense(500, activation=tf.nn.tanh),\n",
    "    keras.layers.Dense(200, activation=tf.nn.relu),\n",
    "    keras.layers.Dense(200, activation=tf.nn.relu),\n",
    "    keras.layers.Dense(200, activation=tf.nn.relu),\n",
    "    keras.layers.Dropout(0.2, noise_shape=None, seed=None),\n",
    "    keras.layers.Dense(200, activation=tf.nn.relu),\n",
    "    keras.layers.Dense(200, activation=tf.nn.relu),\n",
    "    keras.layers.Dense(200, activation=tf.nn.relu),\n",
    "    keras.layers.Dense(10, activation=tf.nn.softmax)\n",
    "])"
   ]
  },
  {
   "cell_type": "code",
   "execution_count": 141,
   "metadata": {},
   "outputs": [],
   "source": [
    "epochs = 80\n",
    "learning_rate = 0.05\n",
    "decay_rate = learning_rate / (epochs*3)\n",
    "momentum = 0.8\n",
    "sgd = SGD(lr=learning_rate, momentum=momentum, decay=decay_rate, nesterov=False)"
   ]
  },
  {
   "cell_type": "code",
   "execution_count": 142,
   "metadata": {},
   "outputs": [],
   "source": [
    "model.reset_states()"
   ]
  },
  {
   "cell_type": "code",
   "execution_count": 143,
   "metadata": {},
   "outputs": [],
   "source": [
    "model.compile(optimizer='sgd', \n",
    "              loss='sparse_categorical_crossentropy',\n",
    "              metrics=['accuracy'])"
   ]
  },
  {
   "cell_type": "code",
   "execution_count": 144,
   "metadata": {},
   "outputs": [
    {
     "name": "stdout",
     "output_type": "stream",
     "text": [
      "Train on 4891 samples, validate on 544 samples\n",
      "Epoch 1/80\n",
      "4891/4891 [==============================] - 38s 8ms/step - loss: 2.2216 - acc: 0.1441 - val_loss: 2.4342 - val_acc: 0.1526\n",
      "Epoch 2/80\n",
      "4891/4891 [==============================] - 36s 7ms/step - loss: 2.0920 - acc: 0.1938 - val_loss: 2.0558 - val_acc: 0.2206\n",
      "Epoch 3/80\n",
      "4891/4891 [==============================] - 36s 7ms/step - loss: 1.9405 - acc: 0.2631 - val_loss: 2.0251 - val_acc: 0.2518.259 - ETA: 4s - los - ETA: 0s - loss: 1.9418 - acc: 0.2\n",
      "Epoch 4/80\n",
      "4891/4891 [==============================] - 36s 7ms/step - loss: 1.7641 - acc: 0.3431 - val_loss: 2.2044 - val_acc: 0.23531.7886 - acc - ETA: 1s - loss\n",
      "Epoch 5/80\n",
      "4891/4891 [==============================] - 36s 7ms/step - loss: 1.6161 - acc: 0.4110 - val_loss: 1.8633 - val_acc: 0.3621\n",
      "Epoch 6/80\n",
      "4891/4891 [==============================] - 36s 7ms/step - loss: 1.4783 - acc: 0.4772 - val_loss: 2.2212 - val_acc: 0.2849 - acc: 0.4\n",
      "Epoch 7/80\n",
      "4891/4891 [==============================] - 37s 8ms/step - loss: 1.3762 - acc: 0.5214 - val_loss: 1.4760 - val_acc: 0.4835\n",
      "Epoch 8/80\n",
      "4891/4891 [==============================] - 37s 8ms/step - loss: 1.3106 - acc: 0.5449 - val_loss: 1.3554 - val_acc: 0.5294oss: 1.3098 - a\n",
      "Epoch 9/80\n",
      "4891/4891 [==============================] - 37s 8ms/step - loss: 1.2282 - acc: 0.5766 - val_loss: 2.7414 - val_acc: 0.3051 1s -\n",
      "Epoch 10/80\n",
      "4891/4891 [==============================] - 36s 7ms/step - loss: 1.1661 - acc: 0.5962 - val_loss: 1.3300 - val_acc: 0.5313\n",
      "Epoch 11/80\n",
      "4891/4891 [==============================] - 36s 7ms/step - loss: 1.1049 - acc: 0.6234 - val_loss: 1.5027 - val_acc: 0.5129\n",
      "Epoch 12/80\n",
      "4891/4891 [==============================] - 37s 8ms/step - loss: 1.0590 - acc: 0.6400 - val_loss: 0.9926 - val_acc: 0.6691\n",
      "Epoch 13/80\n",
      "4891/4891 [==============================] - 37s 8ms/step - loss: 1.0145 - acc: 0.6577 - val_loss: 1.0841 - val_acc: 0.6507A: 4s - l - ET\n",
      "Epoch 14/80\n",
      "4891/4891 [==============================] - 36s 7ms/step - loss: 0.9610 - acc: 0.6792 - val_loss: 1.3111 - val_acc: 0.5919 - a - ETA: 1s - loss: 0.9644 - acc: 0.6 - ETA: 1s - loss: 0.\n",
      "Epoch 15/80\n",
      "4891/4891 [==============================] - 36s 7ms/step - loss: 0.9469 - acc: 0.6753 - val_loss: 1.2126 - val_acc: 0.5956\n",
      "Epoch 16/80\n",
      "4891/4891 [==============================] - 36s 7ms/step - loss: 0.9350 - acc: 0.6845 - val_loss: 1.0601 - val_acc: 0.6324\n",
      "Epoch 17/80\n",
      "4891/4891 [==============================] - 37s 7ms/step - loss: 0.8727 - acc: 0.7056 - val_loss: 1.0312 - val_acc: 0.6893s - loss: 0.8884 - acc: 0.\n",
      "Epoch 18/80\n",
      "4891/4891 [==============================] - 36s 7ms/step - loss: 0.8735 - acc: 0.7113 - val_loss: 1.0010 - val_acc: 0.6765\n",
      "Epoch 19/80\n",
      "4891/4891 [==============================] - 37s 8ms/step - loss: 0.8368 - acc: 0.7099 - val_loss: 1.4030 - val_acc: 0.5938\n",
      "Epoch 20/80\n",
      "4891/4891 [==============================] - 36s 7ms/step - loss: 0.8111 - acc: 0.7213 - val_loss: 0.8862 - val_acc: 0.7224\n",
      "Epoch 21/80\n",
      "4891/4891 [==============================] - 36s 7ms/step - loss: 0.7582 - acc: 0.7428 - val_loss: 0.8011 - val_acc: 0.7316\n",
      "Epoch 22/80\n",
      "4891/4891 [==============================] - 37s 7ms/step - loss: 0.7552 - acc: 0.7416 - val_loss: 2.0199 - val_acc: 0.5129c: 0.743 - ETA: 3s - loss: 0 - ETA:\n",
      "Epoch 23/80\n",
      "4891/4891 [==============================] - 37s 8ms/step - loss: 0.7095 - acc: 0.7575 - val_loss: 0.8048 - val_acc: 0.7279\n",
      "Epoch 24/80\n",
      "4891/4891 [==============================] - 37s 8ms/step - loss: 0.6965 - acc: 0.7641 - val_loss: 0.7195 - val_acc: 0.7574\n",
      "Epoch 25/80\n",
      "4891/4891 [==============================] - 37s 7ms/step - loss: 0.6858 - acc: 0.7655 - val_loss: 1.3647 - val_acc: 0.5864\n",
      "Epoch 26/80\n",
      "4891/4891 [==============================] - 36s 7ms/step - loss: 0.6640 - acc: 0.7708 - val_loss: 0.7213 - val_acc: 0.7335\n",
      "Epoch 27/80\n",
      "4891/4891 [==============================] - 36s 7ms/step - loss: 0.6068 - acc: 0.7886 - val_loss: 0.7095 - val_acc: 0.7629: 0.6085 - - ET - ETA: 6s - loss: 0. - ETA: 5s - loss: 0.6071 - a - ETA: 4s - loss: 0.6111 - acc - ETA: 3s - loss: 0.6090  - ETA: 2s - loss: 0.6106 - acc: 0 - ETA: 2s - loss: 0.6110 - acc: 0.787 - ET\n",
      "Epoch 28/80\n",
      "4891/4891 [==============================] - 36s 7ms/step - loss: 0.6221 - acc: 0.7876 - val_loss: 0.7319 - val_acc: 0.76297s - loss: 0.6253 - acc: 0.78 - ETA: 7s - loss: 0. - ETA - ETA: 1s - loss: 0.\n",
      "Epoch 29/80\n",
      "4891/4891 [==============================] - 37s 8ms/step - loss: 0.6136 - acc: 0.7900 - val_loss: 0.7108 - val_acc: 0.7812\n",
      "Epoch 30/80\n",
      "4891/4891 [==============================] - 37s 8ms/step - loss: 0.5804 - acc: 0.7998 - val_loss: 0.6865 - val_acc: 0.7721\n",
      "Epoch 31/80\n",
      "4891/4891 [==============================] - 36s 7ms/step - loss: 0.5881 - acc: 0.7988 - val_loss: 0.8865 - val_acc: 0.7335\n",
      "Epoch 32/80\n",
      "4891/4891 [==============================] - 36s 7ms/step - loss: 0.5782 - acc: 0.7994 - val_loss: 0.6032 - val_acc: 0.7923\n",
      "Epoch 33/80\n",
      "4891/4891 [==============================] - 37s 8ms/step - loss: 0.5818 - acc: 0.7974 - val_loss: 0.5831 - val_acc: 0.8199- loss: 0.5879 - - ETA: 3s - loss: 0.5765 - a\n",
      "Epoch 34/80\n",
      "4891/4891 [==============================] - 37s 8ms/step - loss: 0.5473 - acc: 0.8109 - val_loss: 0.5837 - val_acc: 0.8162\n",
      "Epoch 35/80\n",
      "4891/4891 [==============================] - 36s 7ms/step - loss: 0.5506 - acc: 0.8088 - val_loss: 0.8628 - val_acc: 0.73535598 - acc: 0.8 - ETA: 6s - l - ETA: 2s - loss: 0 - ETA: 0s - loss: 0.5492 \n",
      "Epoch 36/80\n",
      "4891/4891 [==============================] - 37s 8ms/step - loss: 0.5762 - acc: 0.8013 - val_loss: 0.5619 - val_acc: 0.8180\n",
      "Epoch 37/80\n",
      "4891/4891 [==============================] - 37s 7ms/step - loss: 0.5116 - acc: 0.8207 - val_loss: 0.5907 - val_acc: 0.8051\n",
      "Epoch 38/80\n",
      "4891/4891 [==============================] - 36s 7ms/step - loss: 0.5293 - acc: 0.8170 - val_loss: 0.5672 - val_acc: 0.8272\n",
      "Epoch 39/80\n",
      "4891/4891 [==============================] - 37s 8ms/step - loss: 0.5096 - acc: 0.8256 - val_loss: 0.5013 - val_acc: 0.8364\n",
      "Epoch 40/80\n",
      "4891/4891 [==============================] - 36s 7ms/step - loss: 0.5042 - acc: 0.8276 - val_loss: 0.5680 - val_acc: 0.8272\n",
      "Epoch 41/80\n",
      "4891/4891 [==============================] - 37s 8ms/step - loss: 0.4802 - acc: 0.8274 - val_loss: 0.5461 - val_acc: 0.8162\n",
      "Epoch 42/80\n",
      "4891/4891 [==============================] - 36s 7ms/step - loss: 0.4944 - acc: 0.8260 - val_loss: 0.5210 - val_acc: 0.8217A: 9s - loss: 0.4984 - acc - ETA: 9s - loss: 0.4988 - acc: 0.826 - ETA: 9s - loss: 0.4 - E\n",
      "Epoch 43/80\n",
      "4891/4891 [==============================] - 36s 7ms/step - loss: 0.4563 - acc: 0.8420 - val_loss: 0.6906 - val_acc: 0.79410.4596 - acc - ETA: 0s - loss: 0.4581 - acc: 0.841 - ETA: 0s - loss: 0.4581 - acc: \n",
      "Epoch 44/80\n",
      "4891/4891 [==============================] - 36s 7ms/step - loss: 0.5093 - acc: 0.8268 - val_loss: 0.5207 - val_acc: 0.8217 - loss: 0\n",
      "Epoch 45/80\n",
      "4891/4891 [==============================] - 37s 8ms/step - loss: 0.4643 - acc: 0.8395 - val_loss: 5.6152 - val_acc: 0.2408\n",
      "Epoch 46/80\n",
      "4891/4891 [==============================] - 37s 8ms/step - loss: 0.5110 - acc: 0.8256 - val_loss: 0.5465 - val_acc: 0.8364- l - E\n",
      "Epoch 47/80\n",
      "4891/4891 [==============================] - 36s 7ms/step - loss: 0.4358 - acc: 0.8491 - val_loss: 0.4788 - val_acc: 0.8419\n",
      "Epoch 48/80\n",
      "4891/4891 [==============================] - 38s 8ms/step - loss: 0.4209 - acc: 0.8573 - val_loss: 0.5690 - val_acc: 0.8272\n",
      "Epoch 49/80\n",
      "4891/4891 [==============================] - 36s 7ms/step - loss: 0.4245 - acc: 0.8485 - val_loss: 0.4751 - val_acc: 0.8456\n",
      "Epoch 50/80\n",
      "4891/4891 [==============================] - 36s 7ms/step - loss: 0.3946 - acc: 0.8663 - val_loss: 0.7567 - val_acc: 0.7426 5s - loss: 0.3887 - acc: 0.86 - ETA: 5s - loss: 0.3893 - acc: 0.86\n",
      "Epoch 51/80\n",
      "4891/4891 [==============================] - 37s 8ms/step - loss: 0.4064 - acc: 0.8546 - val_loss: 0.5601 - val_acc: 0.8346\n",
      "Epoch 52/80\n",
      "4891/4891 [==============================] - 36s 7ms/step - loss: 0.4133 - acc: 0.8526 - val_loss: 0.5919 - val_acc: 0.8199 6s - loss: 0.4228 - ac - ETA: 5s - loss: 0.4201 - acc: 0.84 - ETA: 5s - loss: 0 - ETA: 4s - loss: 0.4197 - a - ETA: 3s - loss: - ETA: 1s - l\n",
      "Epoch 53/80\n",
      "4891/4891 [==============================] - 36s 7ms/step - loss: 0.4054 - acc: 0.8569 - val_loss: 0.4717 - val_acc: 0.8493A: 1s - loss:\n",
      "Epoch 54/80\n",
      "4891/4891 [==============================] - 37s 8ms/step - loss: 0.3940 - acc: 0.8638 - val_loss: 0.4982 - val_acc: 0.8511\n",
      "Epoch 55/80\n",
      "4891/4891 [==============================] - 36s 7ms/step - loss: 0.3762 - acc: 0.8665 - val_loss: 0.4633 - val_acc: 0.8621cc: 0. - ETA: 1s - loss: 0.3\n",
      "Epoch 56/80\n",
      "4891/4891 [==============================] - 36s 7ms/step - loss: 0.4056 - acc: 0.8552 - val_loss: 0.4965 - val_acc: 0.8456A: 7s - loss: 0.4308 - acc: 0. - ETA: 6s - loss: 0.4300 -  - ETA: 0s - loss: 0.4090 - acc\n",
      "Epoch 57/80\n",
      "4891/4891 [==============================] - 36s 7ms/step - loss: 0.3391 - acc: 0.8794 - val_loss: 0.5779 - val_acc: 0.8272\n",
      "Epoch 58/80\n",
      "4891/4891 [==============================] - 36s 7ms/step - loss: 0.4028 - acc: 0.8540 - val_loss: 1.1325 - val_acc: 0.65990.3913 - acc: 0 - ETA: 5s - loss: 0.3914 - acc: - ETA: 1s - loss: 0.3954 - acc: 0.856 - ETA: 1s -\n",
      "Epoch 59/80\n",
      "4891/4891 [==============================] - 37s 7ms/step - loss: 0.4030 - acc: 0.8610 - val_loss: 0.4643 - val_acc: 0.8474- loss: 0.39 - ETA: 3s - lo - ETA: 1s - loss: 0.4087 - ETA: 0s - loss: 0.4035 - acc:\n",
      "Epoch 60/80\n",
      "4891/4891 [==============================] - 36s 7ms/step - loss: 0.3968 - acc: 0.8630 - val_loss: 0.4931 - val_acc: 0.8511\n",
      "Epoch 61/80\n",
      "4891/4891 [==============================] - 37s 8ms/step - loss: 0.3863 - acc: 0.8649 - val_loss: 0.6033 - val_acc: 0.8051\n",
      "Epoch 62/80\n",
      "4891/4891 [==============================] - 37s 8ms/step - loss: 0.4009 - acc: 0.8636 - val_loss: 0.5141 - val_acc: 0.8290\n",
      "Epoch 63/80\n",
      "4891/4891 [==============================] - 36s 7ms/step - loss: 0.4441 - acc: 0.8444 - val_loss: 0.4550 - val_acc: 0.8548: 0.84\n",
      "Epoch 64/80\n",
      "4891/4891 [==============================] - 37s 8ms/step - loss: 0.4467 - acc: 0.8442 - val_loss: 0.4843 - val_acc: 0.8585\n",
      "Epoch 65/80\n",
      "4891/4891 [==============================] - 36s 7ms/step - loss: 0.4116 - acc: 0.8622 - val_loss: 0.4523 - val_acc: 0.8585\n",
      "Epoch 66/80\n",
      "4891/4891 [==============================] - 36s 7ms/step - loss: 0.3903 - acc: 0.8622 - val_loss: 0.4220 - val_acc: 0.8548- ETA: 8s - loss: 0.3788 - acc: 0.86 - ETA: 8s - loss: 0.3794 -  - ETA: 7 - ETA: 5s - loss: 0.388 - ETA: 4s - loss: 0.3938 - acc - ETA: 3s - loss: 0.3916 - acc: 0.86  - ETA: 0s - loss: 0.3920 - acc: - ETA: 0s - loss: 0.3929 - acc: 0\n",
      "Epoch 67/80\n",
      "4891/4891 [==============================] - 36s 7ms/step - loss: 0.3360 - acc: 0.8837 - val_loss: 0.5527 - val_acc: 0.82721s - loss: 0.3341 - acc: 0.8 - ETA: 1s - l\n",
      "Epoch 68/80\n",
      "4891/4891 [==============================] - 37s 7ms/step - loss: 0.3893 - acc: 0.8640 - val_loss: 0.5199 - val_acc: 0.8511 - ETA: 1s - loss: 0.3 - ETA: 0s - loss: 0.3903 - acc: 0.8\n",
      "Epoch 69/80\n",
      "4891/4891 [==============================] - 37s 7ms/step - loss: 0.4276 - acc: 0.8514 - val_loss: 0.4661 - val_acc: 0.8603\n",
      "Epoch 70/80\n",
      "4891/4891 [==============================] - 37s 7ms/step - loss: 0.3550 - acc: 0.8749 - val_loss: 0.4556 - val_acc: 0.8585\n",
      "Epoch 71/80\n",
      "4891/4891 [==============================] - 37s 8ms/step - loss: 0.3778 - acc: 0.8665 - val_loss: 0.4850 - val_acc: 0.8548\n",
      "Epoch 72/80\n",
      "4891/4891 [==============================] - 36s 7ms/step - loss: 0.3640 - acc: 0.8694 - val_loss: 0.4669 - val_acc: 0.8585 12s - lo - ETA: 11s - loss: 0.3746 - acc: 0.86 - ETA: 11 - ETA: 0s - loss: 0.3641 - acc: 0.869\n",
      "Epoch 73/80\n",
      "4891/4891 [==============================] - 36s 7ms/step - loss: 0.3829 - acc: 0.8665 - val_loss: 0.4714 - val_acc: 0.86950 - ETA: 3s - loss: 0.3843 - a - ETA: 2s - loss: 0.3880 - acc - ETA:\n",
      "Epoch 74/80\n",
      "4891/4891 [==============================] - 36s 7ms/step - loss: 0.3339 - acc: 0.8849 - val_loss: 0.4879 - val_acc: 0.8419\n",
      "Epoch 75/80\n",
      "4891/4891 [==============================] - 37s 8ms/step - loss: 0.3552 - acc: 0.8736 - val_loss: 0.5319 - val_acc: 0.8364\n",
      "Epoch 76/80\n",
      "4891/4891 [==============================] - 36s 7ms/step - loss: 0.3488 - acc: 0.8820 - val_loss: 0.4664 - val_acc: 0.8290\n",
      "Epoch 77/80\n",
      "4891/4891 [==============================] - 37s 8ms/step - loss: 0.3958 - acc: 0.8616 - val_loss: 0.4811 - val_acc: 0.8456\n",
      "Epoch 78/80\n",
      "4891/4891 [==============================] - 37s 8ms/step - loss: 0.3470 - acc: 0.8777 - val_loss: 0.4312 - val_acc: 0.8621\n",
      "Epoch 79/80\n",
      "4891/4891 [==============================] - 37s 7ms/step - loss: 0.4165 - acc: 0.8552 - val_loss: 0.5311 - val_acc: 0.8346 7s - ETA: 1s - loss: 0.4 - ETA: 0s - loss: 0.4186 - \n",
      "Epoch 80/80\n",
      "4891/4891 [==============================] - 36s 7ms/step - loss: 0.3550 - acc: 0.8826 - val_loss: 0.6490 - val_acc: 0.7849\n"
     ]
    }
   ],
   "source": [
    "history = model.fit(x_features, y, epochs=epochs,batch_size=10,shuffle=False,validation_split=0.1,)"
   ]
  },
  {
   "cell_type": "code",
   "execution_count": 145,
   "metadata": {},
   "outputs": [
    {
     "data": {
      "image/png": "[encoded data removed]",
      "text/plain": [
       "<Figure size 432x288 with 1 Axes>"
      ]
     },
     "metadata": {
      "needs_background": "light"
     },
     "output_type": "display_data"
    },
    {
     "data": {
      "image/png": "[encoded data removed]",
      "text/plain": [
       "<Figure size 432x288 with 1 Axes>"
      ]
     },
     "metadata": {
      "needs_background": "light"
     },
     "output_type": "display_data"
    }
   ],
   "source": [
    "plt.plot(history.history['acc'])\n",
    "plt.plot(history.history['val_acc'])\n",
    "plt.title('Model accuracy')\n",
    "plt.ylabel('Accuracy')\n",
    "plt.xlabel('Epoch')\n",
    "plt.legend(['Train', 'Test'], loc='upper left')\n",
    "plt.show()\n",
    "\n",
    "# Plot training & validation loss values\n",
    "plt.plot(history.history['loss'])\n",
    "plt.plot(history.history['val_loss'])\n",
    "plt.title('Model loss')\n",
    "plt.ylabel('Loss')\n",
    "plt.xlabel('Epoch')\n",
    "plt.legend(['Train', 'Test'], loc='upper left')\n",
    "plt.show()"
   ]
  },
  {
   "cell_type": "code",
   "execution_count": 146,
   "metadata": {},
   "outputs": [],
   "source": [
    "# serialize model to JSON\n",
    "model_json = model.to_json()\n",
    "with open(\"./trained_models/hdf5/spectrogram_simple_nn_urban_sound_model.json\", \"w\") as json_file:\n",
    "    json_file.write(model_json)"
   ]
  },
  {
   "cell_type": "code",
   "execution_count": 147,
   "metadata": {},
   "outputs": [
    {
     "name": "stdout",
     "output_type": "stream",
     "text": [
      "Saved model to disk\n"
     ]
    }
   ],
   "source": [
    "# serialize weights to HDF5\n",
    "model.save_weights(\"./trained_models/hdf5/spectrogram_simple_nn_urban_sound_model.h5\")\n",
    "print(\"Saved model to disk\")"
   ]
  }
 ],
 "metadata": {
  "kernelspec": {
   "display_name": "Python 3",
   "language": "python",
   "name": "python3"
  },
  "language_info": {
   "codemirror_mode": {
    "name": "ipython",
    "version": 3
   },
   "file_extension": ".py",
   "mimetype": "text/x-python",
   "name": "python",
   "nbconvert_exporter": "python",
   "pygments_lexer": "ipython3",
   "version": "3.5.2"
  }
 },
 "nbformat": 4,
 "nbformat_minor": 2
}
