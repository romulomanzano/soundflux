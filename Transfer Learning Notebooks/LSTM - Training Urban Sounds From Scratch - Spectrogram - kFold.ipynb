{
 "cells": [
  {
   "cell_type": "markdown",
   "metadata": {},
   "source": [
    "## Train Model"
   ]
  },
  {
   "cell_type": "markdown",
   "metadata": {},
   "source": [
    "The idea of this step is to leverage existing state of the art models such as Ince"
   ]
  },
  {
   "cell_type": "markdown",
   "metadata": {},
   "source": [
    "# Create image generators"
   ]
  },
  {
   "cell_type": "code",
   "execution_count": 1,
   "metadata": {},
   "outputs": [
    {
     "name": "stderr",
     "output_type": "stream",
     "text": [
      "Using TensorFlow backend.\n"
     ]
    }
   ],
   "source": [
    "import tensorflow as tf\n",
    "from keras.backend.tensorflow_backend import set_session\n",
    "config = tf.ConfigProto()\n",
    "config.gpu_options.allow_growth = True\n",
    "sess = tf.Session(config=config)\n",
    "set_session(sess)"
   ]
  },
  {
   "cell_type": "code",
   "execution_count": 2,
   "metadata": {},
   "outputs": [],
   "source": [
    "from keras.preprocessing.image import ImageDataGenerator\n",
    "import matplotlib.pyplot as plt\n",
    "import json\n",
    "from PIL import Image"
   ]
  },
  {
   "cell_type": "code",
   "execution_count": 3,
   "metadata": {},
   "outputs": [],
   "source": [
    "def generate_generator_multiple(generator,directories, batch_size, img_height,img_width):\n",
    "    generators =[]\n",
    "    for directory in directories:\n",
    "        gen = generator.flow_from_directory(directory,\n",
    "                                          target_size = (img_height,img_width),\n",
    "                                          class_mode = 'categorical',\n",
    "                                          batch_size = batch_size,\n",
    "                                          shuffle=True, \n",
    "                                          seed=7)\n",
    "    \n",
    "        generators.append(gen)\n",
    "\n",
    "    for gen in generators:\n",
    "        for data, labels in gen:\n",
    "            yield data, labels"
   ]
  },
  {
   "cell_type": "code",
   "execution_count": 4,
   "metadata": {},
   "outputs": [],
   "source": [
    "def save_plots(history,target_file_acc,target_file_loss):\n",
    "    # summarize history for accuracy\n",
    "    plt.plot(history.history['acc'])\n",
    "    plt.plot(history.history['val_acc'])\n",
    "    plt.title('model accuracy')\n",
    "    plt.ylabel('accuracy')\n",
    "    plt.xlabel('epoch')\n",
    "    plt.legend(['train', 'test'], loc='upper left')\n",
    "    plt.savefig(target_file_acc)\n",
    "    plt.close()\n",
    "    # summarize history for loss\n",
    "    plt.plot(history.history['loss'])\n",
    "    plt.plot(history.history['val_loss'])\n",
    "    plt.title('model loss')\n",
    "    plt.ylabel('loss')\n",
    "    plt.xlabel('epoch')\n",
    "    plt.legend(['train', 'test'], loc='upper left')\n",
    "    plt.savefig(target_file_loss)\n",
    "    plt.close()"
   ]
  },
  {
   "cell_type": "code",
   "execution_count": 5,
   "metadata": {},
   "outputs": [],
   "source": [
    "def show_plots(history):\n",
    "    # summarize history for accuracy\n",
    "    plt.plot(history.history['acc'])\n",
    "    plt.plot(history.history['val_acc'])\n",
    "    plt.title('model accuracy')\n",
    "    plt.ylabel('accuracy')\n",
    "    plt.xlabel('epoch')\n",
    "    plt.legend(['train', 'test'], loc='upper left')\n",
    "    plt.show()\n",
    "    # summarize history for loss\n",
    "    plt.plot(history.history['loss'])\n",
    "    plt.plot(history.history['val_loss'])\n",
    "    plt.title('model loss')\n",
    "    plt.ylabel('loss')\n",
    "    plt.xlabel('epoch')\n",
    "    plt.legend(['train', 'test'], loc='upper left')\n",
    "    plt.show()"
   ]
  },
  {
   "cell_type": "markdown",
   "metadata": {},
   "source": [
    "# Doing K-Folds"
   ]
  },
  {
   "cell_type": "code",
   "execution_count": 6,
   "metadata": {},
   "outputs": [],
   "source": [
    "batch_size = 32\n",
    "img_height=80\n",
    "img_width = 256\n",
    "approx_fold_size = 300"
   ]
  },
  {
   "cell_type": "code",
   "execution_count": 7,
   "metadata": {},
   "outputs": [],
   "source": [
    "urban_sounds_folder = \"/home/nvidia/soundflux_data/spectrograms\""
   ]
  },
  {
   "cell_type": "code",
   "execution_count": 8,
   "metadata": {},
   "outputs": [],
   "source": [
    "fold_directories = []\n",
    "for i in range(1,11):\n",
    "    directory = urban_sounds_folder+\"/fold\"+str(i)\n",
    "    fold_directories.append(directory)"
   ]
  },
  {
   "cell_type": "code",
   "execution_count": 9,
   "metadata": {},
   "outputs": [
    {
     "data": {
      "text/plain": [
       "['/home/nvidia/soundflux_data/spectrograms/fold1',\n",
       " '/home/nvidia/soundflux_data/spectrograms/fold2',\n",
       " '/home/nvidia/soundflux_data/spectrograms/fold3',\n",
       " '/home/nvidia/soundflux_data/spectrograms/fold4',\n",
       " '/home/nvidia/soundflux_data/spectrograms/fold5',\n",
       " '/home/nvidia/soundflux_data/spectrograms/fold6',\n",
       " '/home/nvidia/soundflux_data/spectrograms/fold7',\n",
       " '/home/nvidia/soundflux_data/spectrograms/fold8',\n",
       " '/home/nvidia/soundflux_data/spectrograms/fold9',\n",
       " '/home/nvidia/soundflux_data/spectrograms/fold10']"
      ]
     },
     "execution_count": 9,
     "metadata": {},
     "output_type": "execute_result"
    }
   ],
   "source": [
    "fold_directories"
   ]
  },
  {
   "cell_type": "markdown",
   "metadata": {},
   "source": [
    "# MODEL"
   ]
  },
  {
   "cell_type": "code",
   "execution_count": 10,
   "metadata": {},
   "outputs": [],
   "source": [
    "datagen = ImageDataGenerator(rescale=1./255,\n",
    "                            #rotation_range=10,\n",
    "                            width_shift_range=0.1,\n",
    "                            height_shift_range=0.1,\n",
    "                            shear_range=0.2,\n",
    "                            zoom_range=0.3,\n",
    "                            #horizontal_flip=True,\n",
    "                            #vertical_flip=True,\n",
    "                            fill_mode='nearest')\n",
    "testdatagen = ImageDataGenerator(rescale=1./255)\n",
    "#datagen = ImageDataGenerator(horizontal_flip=True)"
   ]
  },
  {
   "cell_type": "code",
   "execution_count": 11,
   "metadata": {},
   "outputs": [],
   "source": [
    "input_shape = (img_height, img_width,3)\n",
    "nclass = 4"
   ]
  },
  {
   "cell_type": "code",
   "execution_count": 12,
   "metadata": {},
   "outputs": [],
   "source": [
    "import tensorflow as tf\n",
    "from tensorflow import keras\n",
    "from tensorflow.keras import optimizers"
   ]
  },
  {
   "cell_type": "markdown",
   "metadata": {},
   "source": [
    "Next ideas:\n",
    "\n",
    "- Add filters on time with strides! 2,1 convolutions with padding and a gap\n",
    "- Keep at least a good 64 channels open?\n",
    "- Sum pooling instead of averaging?"
   ]
  },
  {
   "cell_type": "markdown",
   "metadata": {},
   "source": [
    "# try \n",
    "\n",
    "keras.applications.densenet.DenseNet121 next"
   ]
  },
  {
   "cell_type": "code",
   "execution_count": 13,
   "metadata": {},
   "outputs": [],
   "source": [
    "input_shape = (img_height,img_width,3)\n",
    "permute = (2,3,1)\n",
    "new_input_shape = (img_width,1,img_height,3)\n",
    "conv_input_shape = (img_width,1,img_height,3)\n",
    "model = keras.models.Sequential()\n",
    "model.add(keras.layers.Permute(permute, input_shape=input_shape))\n",
    "#model.add(keras.layers.Reshape((1,1, img_width, 3*img_height), input_shape=(img_width,img_height,3)))\n",
    "model.add(keras.layers.Reshape(conv_input_shape, input_shape=new_input_shape))\n",
    "#\n",
    "#model.add(keras.layers.Conv3D(32,(2,1,2),activation='relu'))\n",
    "#model.add(keras.layers.AveragePooling3D((1,1,2)))\n",
    "model.add(keras.layers.ConvLSTM2D(64, kernel_size=(1, 4),activation='tanh',\n",
    "                                  input_shape=new_input_shape,\n",
    "                                   padding='same', return_sequences=True\n",
    "                                 ))\n",
    "model.add(keras.layers.BatchNormalization())\n",
    "model.add(keras.layers.AveragePooling3D((2,1,3)))\n",
    "model.add(keras.layers.Conv3D(32,(2,1,2),activation='relu',input_shape=input_shape))\n",
    "model.add(keras.layers.AveragePooling3D((2,1,3)))\n",
    "model.add(keras.layers.Conv3D(32,(2,1,2),activation='relu',input_shape=input_shape))\n",
    "#model.add(keras.layers.Conv2D(64,(2,2),activation='relu'))\n",
    "#model.add(keras.layers.AveragePooling2D((2,2)))\n",
    "#model.add(keras.layers.Conv2D(128,(1,2),activation='relu'))\n",
    "#model.add(keras.layers.MaxPooling2D((2,2)))\n",
    "model.add(keras.layers.Flatten())\n",
    "#model.add(keras.layers.Dense(512,activation='relu'))\n",
    "model.add(keras.layers.Dropout(0.5))\n",
    "model.add(keras.layers.Dense(nclass, activation=tf.nn.softmax))\n"
   ]
  },
  {
   "cell_type": "code",
   "execution_count": 14,
   "metadata": {},
   "outputs": [
    {
     "name": "stdout",
     "output_type": "stream",
     "text": [
      "_________________________________________________________________\n",
      "Layer (type)                 Output Shape              Param #   \n",
      "=================================================================\n",
      "permute (Permute)            (None, 256, 3, 80)        0         \n",
      "_________________________________________________________________\n",
      "reshape (Reshape)            (None, 256, 1, 80, 3)     0         \n",
      "_________________________________________________________________\n",
      "conv_lst_m2d (ConvLSTM2D)    (None, 256, 1, 80, 64)    68864     \n",
      "_________________________________________________________________\n",
      "batch_normalization (BatchNo (None, 256, 1, 80, 64)    256       \n",
      "_________________________________________________________________\n",
      "average_pooling3d (AveragePo (None, 128, 1, 26, 64)    0         \n",
      "_________________________________________________________________\n",
      "conv3d (Conv3D)              (None, 127, 1, 25, 32)    8224      \n",
      "_________________________________________________________________\n",
      "average_pooling3d_1 (Average (None, 63, 1, 8, 32)      0         \n",
      "_________________________________________________________________\n",
      "conv3d_1 (Conv3D)            (None, 62, 1, 7, 32)      4128      \n",
      "_________________________________________________________________\n",
      "flatten (Flatten)            (None, 13888)             0         \n",
      "_________________________________________________________________\n",
      "dropout (Dropout)            (None, 13888)             0         \n",
      "_________________________________________________________________\n",
      "dense (Dense)                (None, 4)                 55556     \n",
      "=================================================================\n",
      "Total params: 137,028\n",
      "Trainable params: 136,900\n",
      "Non-trainable params: 128\n",
      "_________________________________________________________________\n"
     ]
    }
   ],
   "source": [
    "opt = optimizers.RMSprop(lr=0.001)\n",
    "#opt = optimizers.Adam(lr=0.001)\n",
    "model.compile(loss='categorical_crossentropy', \n",
    "              optimizer=opt,\n",
    "              metrics=['accuracy'])\n",
    "#needed to reset weigh\"\"\"ts!\n",
    "model.save_weights('raw_model.h5')\n",
    "model.summary()"
   ]
  },
  {
   "cell_type": "markdown",
   "metadata": {},
   "source": [
    "**LSTM Sizing**\n",
    "This is helpful when understanding sizing\n",
    "https://stackoverflow.com/questions/50242925/data-preprocessing-input-shape-for-timedistributed-cnn-lrcn-convlstm2d-for?rq=1"
   ]
  },
  {
   "cell_type": "markdown",
   "metadata": {},
   "source": [
    "**Explore**\n",
    "- Should also be returning state?\n",
    "- Should also flip sizing? (channel representation should be 3 instead of the height?)\n",
    "- Run another LSTM from top to bottom to traverse from the spectrums/frequency bands from lower to higher!?!"
   ]
  },
  {
   "cell_type": "markdown",
   "metadata": {},
   "source": [
    "# Folding"
   ]
  },
  {
   "cell_type": "markdown",
   "metadata": {},
   "source": [
    "https://towardsdatascience.com/image-detection-from-scratch-in-keras-f314872006c9"
   ]
  },
  {
   "cell_type": "code",
   "execution_count": 15,
   "metadata": {
    "scrolled": false
   },
   "outputs": [
    {
     "name": "stdout",
     "output_type": "stream",
     "text": [
      "Running fold 2, holding data from /home/nvidia/soundflux_data/spectrograms/fold2 and training on the remaining 9\n",
      "Epoch 1/30\n",
      "Found 309 images belonging to 4 classes.\n",
      "Found 363 images belonging to 4 classes.\n",
      "Found 257 images belonging to 4 classes.\n",
      "Found 298 images belonging to 4 classes.\n",
      "Found 256 images belonging to 4 classes.\n",
      "Found 245 images belonging to 4 classes.\n",
      "Found 248 images belonging to 4 classes.\n",
      "Found 240 images belonging to 4 classes.\n",
      "Found 248 images belonging to 4 classes.\n",
      "84/84 [============================>.] - ETA: 1s - loss: 1.1303 - acc: 0.6652Found 268 images belonging to 4 classes.\n",
      "85/84 [==============================] - 433s 5s/step - loss: 1.1220 - acc: 0.6673 - val_loss: 1.2599 - val_acc: 0.5600\n",
      "Epoch 2/30\n",
      "85/84 [==============================] - 402s 5s/step - loss: 0.4578 - acc: 0.8328 - val_loss: 1.1675 - val_acc: 0.5167\n",
      "Epoch 3/30\n",
      "85/84 [==============================] - 403s 5s/step - loss: 0.3356 - acc: 0.8737 - val_loss: 0.9056 - val_acc: 0.6033\n",
      "Epoch 4/30\n",
      "85/84 [==============================] - 401s 5s/step - loss: 0.2577 - acc: 0.9131 - val_loss: 0.6680 - val_acc: 0.7533\n",
      "Epoch 5/30\n",
      "85/84 [==============================] - 400s 5s/step - loss: 0.2350 - acc: 0.9219 - val_loss: 0.6603 - val_acc: 0.7857\n",
      "Epoch 6/30\n",
      "85/84 [==============================] - 401s 5s/step - loss: 0.1840 - acc: 0.9302 - val_loss: 0.9686 - val_acc: 0.8133\n",
      "Epoch 7/30\n",
      "85/84 [==============================] - 396s 5s/step - loss: 0.1813 - acc: 0.9350 - val_loss: 1.1705 - val_acc: 0.7600\n",
      "Epoch 8/30\n",
      "85/84 [==============================] - 401s 5s/step - loss: 0.1501 - acc: 0.9519 - val_loss: 0.9879 - val_acc: 0.8200\n",
      "Epoch 9/30\n",
      "85/84 [==============================] - 402s 5s/step - loss: 0.1742 - acc: 0.9564 - val_loss: 1.2393 - val_acc: 0.7933\n",
      "Epoch 10/30\n",
      "85/84 [==============================] - 401s 5s/step - loss: 0.1232 - acc: 0.9545 - val_loss: 1.2297 - val_acc: 0.8000\n",
      "Epoch 11/30\n",
      "85/84 [==============================] - 402s 5s/step - loss: 0.1631 - acc: 0.9558 - val_loss: 0.7645 - val_acc: 0.8400\n",
      "Epoch 12/30\n",
      "85/84 [==============================] - 402s 5s/step - loss: 0.1032 - acc: 0.9637 - val_loss: 2.0806 - val_acc: 0.7400\n",
      "Epoch 13/30\n",
      "85/84 [==============================] - 402s 5s/step - loss: 0.0888 - acc: 0.9702 - val_loss: 1.2276 - val_acc: 0.7733\n",
      "Epoch 14/30\n",
      "85/84 [==============================] - 401s 5s/step - loss: 0.1020 - acc: 0.9659 - val_loss: 1.0877 - val_acc: 0.8536\n",
      "Epoch 15/30\n",
      "85/84 [==============================] - 402s 5s/step - loss: 0.0901 - acc: 0.9729 - val_loss: 1.0020 - val_acc: 0.8133\n",
      "Epoch 16/30\n",
      "85/84 [==============================] - 401s 5s/step - loss: 0.0925 - acc: 0.9763 - val_loss: 1.2605 - val_acc: 0.7833\n",
      "Epoch 17/30\n",
      "85/84 [==============================] - 403s 5s/step - loss: 0.1070 - acc: 0.9738 - val_loss: 0.9028 - val_acc: 0.8500\n",
      "Epoch 18/30\n",
      "85/84 [==============================] - 403s 5s/step - loss: 0.0667 - acc: 0.9772 - val_loss: 0.9976 - val_acc: 0.8433\n",
      "Epoch 19/30\n",
      "85/84 [==============================] - 401s 5s/step - loss: 0.0672 - acc: 0.9799 - val_loss: 1.0314 - val_acc: 0.8400\n",
      "Epoch 20/30\n",
      "85/84 [==============================] - 401s 5s/step - loss: 0.0561 - acc: 0.9784 - val_loss: 1.2806 - val_acc: 0.7700\n",
      "Epoch 21/30\n",
      "85/84 [==============================] - 397s 5s/step - loss: 0.0773 - acc: 0.9821 - val_loss: 1.1006 - val_acc: 0.8200\n",
      "Epoch 22/30\n",
      "85/84 [==============================] - 398s 5s/step - loss: 0.0716 - acc: 0.9740 - val_loss: 1.1277 - val_acc: 0.8200\n",
      "Epoch 23/30\n",
      "85/84 [==============================] - 395s 5s/step - loss: 0.0659 - acc: 0.9832 - val_loss: 0.9723 - val_acc: 0.8607\n",
      "Epoch 24/30\n",
      "85/84 [==============================] - 395s 5s/step - loss: 0.0502 - acc: 0.9860 - val_loss: 1.5064 - val_acc: 0.7700\n",
      "Epoch 25/30\n",
      "85/84 [==============================] - 396s 5s/step - loss: 0.0582 - acc: 0.9821 - val_loss: 0.9325 - val_acc: 0.8400\n",
      "Epoch 26/30\n",
      "85/84 [==============================] - 396s 5s/step - loss: 0.0422 - acc: 0.9836 - val_loss: 1.6345 - val_acc: 0.7867\n",
      "Epoch 27/30\n",
      "85/84 [==============================] - 396s 5s/step - loss: 0.0775 - acc: 0.9785 - val_loss: 1.4780 - val_acc: 0.7567\n",
      "Epoch 28/30\n",
      "85/84 [==============================] - 396s 5s/step - loss: 0.0606 - acc: 0.9823 - val_loss: 1.3566 - val_acc: 0.7967\n",
      "Epoch 29/30\n",
      "85/84 [==============================] - 395s 5s/step - loss: 0.0609 - acc: 0.9840 - val_loss: 2.0600 - val_acc: 0.7467\n",
      "Epoch 30/30\n",
      "85/84 [==============================] - 395s 5s/step - loss: 0.0988 - acc: 0.9805 - val_loss: 1.2900 - val_acc: 0.8067\n"
     ]
    }
   ],
   "source": [
    "num_folds = 1 #1 to 10\n",
    "fold = 0\n",
    "for directory in fold_directories:\n",
    "    fold +=1\n",
    "    #RESET WEIGHTS!!\n",
    "    #model.load_weights('raw_model.h5')\n",
    "    #\n",
    "    #FORCE A DIFFERENT FOLD OF THE DATA:\n",
    "    if directory == '/home/nvidia/soundflux_data/spectrograms/fold1':\n",
    "        continue\n",
    "    train_directories = list(set(fold_directories) - set([directory]))\n",
    "    test_directories = [directory]\n",
    "    #HACK IT\n",
    "    #train_directories = [\"/home/nvidia/soundflux_data/spectrograms/fold1\",\"/home/nvidia/soundflux_data/spectrograms/fold2\"]\n",
    "    #test_directories = [\"/home/nvidia/soundflux_data/spectrograms/fold3\"]\n",
    "    print(\"Running fold {}, holding data from {} and training on the remaining {}\" \\\n",
    "          .format(fold,directory,len(train_directories)))\n",
    "    train_generator = generate_generator_multiple(generator=datagen,\n",
    "                                           directories = train_directories,\n",
    "                                           batch_size=batch_size,\n",
    "                                           img_height=img_height,\n",
    "                                           img_width=img_width)\n",
    "    test_generator = generate_generator_multiple(generator=testdatagen,\n",
    "                                       directories = test_directories,\n",
    "                                       batch_size=batch_size,\n",
    "                                       img_height=img_height,\n",
    "                                       img_width=img_width)\n",
    "    history = model.fit_generator(train_generator,\n",
    "                              steps_per_epoch=approx_fold_size*9/batch_size,\n",
    "                              epochs=30,\n",
    "                              validation_data = test_generator,\n",
    "                              validation_steps=approx_fold_size/batch_size,\n",
    "                              shuffle=True, \n",
    "                              verbose=True)\n",
    "    model.save_weights('trained_model_fold_{}.h5'.format(fold))\n",
    "    with open('training_history_fold_{}.json'.format(fold), 'w') as f:\n",
    "        json.dump(history.history, f)\n",
    "    save_plots(history,'training_accuracy_plot_fold_{}.png'.format(fold),\n",
    "               'training_lossaccuracy_plot_fold_{}.png'.format(fold))\n",
    "    if fold >= num_folds:\n",
    "        break"
   ]
  },
  {
   "cell_type": "code",
   "execution_count": 16,
   "metadata": {},
   "outputs": [
    {
     "data": {
      "image/png": "[encoded data removed]",
      "text/plain": [
       "<Figure size 432x288 with 1 Axes>"
      ]
     },
     "metadata": {
      "needs_background": "light"
     },
     "output_type": "display_data"
    },
    {
     "data": {
      "image/png": "[encoded data removed]",
      "text/plain": [
       "<Figure size 432x288 with 1 Axes>"
      ]
     },
     "metadata": {
      "needs_background": "light"
     },
     "output_type": "display_data"
    }
   ],
   "source": [
    "show_plots(history)"
   ]
  },
  {
   "cell_type": "markdown",
   "metadata": {},
   "source": [
    "Try this: https://mc.ai/urban-sound-classification-using-convolutional-neural-networks-with-keras-theory-and/"
   ]
  },
  {
   "cell_type": "code",
   "execution_count": 17,
   "metadata": {},
   "outputs": [
    {
     "name": "stdout",
     "output_type": "stream",
     "text": [
      "Found 268 images belonging to 4 classes.\n",
      "10/9 [================================] - 16s 2s/step\n"
     ]
    },
    {
     "data": {
      "text/plain": [
       "[1.3590638256072998, 0.813333334128062]"
      ]
     },
     "execution_count": 17,
     "metadata": {},
     "output_type": "execute_result"
    }
   ],
   "source": [
    "test_generator = generate_generator_multiple(generator=testdatagen,\n",
    "                                       directories = test_directories,\n",
    "                                       batch_size=batch_size,\n",
    "                                       img_height=img_height,\n",
    "                                       img_width=img_width)\n",
    "\n",
    "#experiment with different data gen\n",
    "train_generator = generate_generator_multiple(generator=datagen,\n",
    "                                       directories = train_directories,\n",
    "                                       batch_size=batch_size,\n",
    "                                       img_height=img_height,\n",
    "                                       img_width=img_width)\n",
    "model.evaluate_generator(test_generator,\n",
    "                              steps=approx_fold_size/batch_size,\n",
    "                              verbose=True)"
   ]
  }
 ],
 "metadata": {
  "kernelspec": {
   "display_name": "Python 3",
   "language": "python",
   "name": "python3"
  },
  "language_info": {
   "codemirror_mode": {
    "name": "ipython",
    "version": 3
   },
   "file_extension": ".py",
   "mimetype": "text/x-python",
   "name": "python",
   "nbconvert_exporter": "python",
   "pygments_lexer": "ipython3",
   "version": "3.6.4"
  }
 },
 "nbformat": 4,
 "nbformat_minor": 2
}
