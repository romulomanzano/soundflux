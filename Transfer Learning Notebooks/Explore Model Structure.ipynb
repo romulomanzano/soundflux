{
 "cells": [
  {
   "cell_type": "markdown",
   "metadata": {},
   "source": [
    "# Defining Params"
   ]
  },
  {
   "cell_type": "code",
   "execution_count": 1,
   "metadata": {},
   "outputs": [
    {
     "name": "stderr",
     "output_type": "stream",
     "text": [
      "Using TensorFlow backend.\n"
     ]
    }
   ],
   "source": [
    "import tensorflow as tf\n",
    "from keras.backend.tensorflow_backend import set_session\n",
    "config = tf.ConfigProto()\n",
    "config.gpu_options.allow_growth = True\n",
    "sess = tf.Session(config=config)\n",
    "set_session(sess)"
   ]
  },
  {
   "cell_type": "code",
   "execution_count": 2,
   "metadata": {},
   "outputs": [],
   "source": [
    "from keras.preprocessing.image import ImageDataGenerator\n",
    "import matplotlib.pyplot as plt\n",
    "import json\n",
    "from PIL import Image, ImageFile\n",
    "ImageFile.LOAD_TRUNCATED_IMAGES = True\n",
    "import seaborn as sns\n",
    "import pandas as pd\n",
    "from keras.models import model_from_json\n",
    "import numpy as np\n",
    "from sklearn.metrics import confusion_matrix, classification_report"
   ]
  },
  {
   "cell_type": "code",
   "execution_count": 3,
   "metadata": {},
   "outputs": [],
   "source": [
    "batch_size = 32\n",
    "img_height=80\n",
    "img_width = 256\n",
    "approx_fold_size = 1000"
   ]
  },
  {
   "cell_type": "code",
   "execution_count": 4,
   "metadata": {},
   "outputs": [],
   "source": [
    "from keras.utils import plot_model"
   ]
  },
  {
   "cell_type": "markdown",
   "metadata": {},
   "source": [
    "# Load Model"
   ]
  },
  {
   "cell_type": "code",
   "execution_count": 5,
   "metadata": {},
   "outputs": [],
   "source": [
    "path = \"/media/romulo/6237-3231\"\n",
    "model_definition_location = path+\"/augmented_model_three_classes_unfrozen_layers_weighted_v7.json\"\n",
    "model_weights_location = path+\"/augmented_model_three_classes_unfrozen_layers_weighted_v7.h5\"\n",
    "model_labels_location = path+\"/augmented_model_three_classes_unfrozen_layers_weighted_v7_class_indices.json\"\n"
   ]
  },
  {
   "cell_type": "code",
   "execution_count": 6,
   "metadata": {
    "scrolled": true
   },
   "outputs": [
    {
     "name": "stdout",
     "output_type": "stream",
     "text": [
      "WARNING:tensorflow:From /home/romulo/github/pyvenv/soundflux/lib/python3.6/site-packages/tensorflow/python/framework/op_def_library.py:263: colocate_with (from tensorflow.python.framework.ops) is deprecated and will be removed in a future version.\n",
      "Instructions for updating:\n",
      "Colocations handled automatically by placer.\n",
      "WARNING:tensorflow:From /home/romulo/github/pyvenv/soundflux/lib/python3.6/site-packages/keras/backend/tensorflow_backend.py:3445: calling dropout (from tensorflow.python.ops.nn_ops) with keep_prob is deprecated and will be removed in a future version.\n",
      "Instructions for updating:\n",
      "Please use `rate` instead of `keep_prob`. Rate should be set to `rate = 1 - keep_prob`.\n"
     ]
    }
   ],
   "source": [
    "with open(model_definition_location, 'r') as json_file:\n",
    "    loaded_model_json = json_file.read()\n",
    "model = model_from_json(loaded_model_json)\n",
    "# load weights into new model\n",
    "model.load_weights(model_weights_location)\n",
    "with open(model_labels_location, 'r') as json_file:\n",
    "    label_map = json.load(json_file)"
   ]
  },
  {
   "cell_type": "code",
   "execution_count": 8,
   "metadata": {
    "scrolled": true
   },
   "outputs": [],
   "source": [
    "plot_model(model)"
   ]
  },
  {
   "cell_type": "markdown",
   "metadata": {},
   "source": [
    "# VGG16"
   ]
  },
  {
   "cell_type": "code",
   "execution_count": 10,
   "metadata": {},
   "outputs": [],
   "source": [
    "import tensorflow as tf\n",
    "from tensorflow import keras\n",
    "from tensorflow.keras import optimizers"
   ]
  },
  {
   "cell_type": "code",
   "execution_count": 11,
   "metadata": {},
   "outputs": [
    {
     "name": "stdout",
     "output_type": "stream",
     "text": [
      "Downloading data from https://github.com/fchollet/deep-learning-models/releases/download/v0.1/vgg16_weights_tf_dim_ordering_tf_kernels_notop.h5\n",
      "58892288/58889256 [==============================] - 6s 0us/step\n"
     ]
    }
   ],
   "source": [
    "base_model = keras.applications.vgg16.VGG16(weights='imagenet', \n",
    "                                include_top=False, \n",
    "                                input_shape=(img_height, img_width,3))"
   ]
  },
  {
   "cell_type": "code",
   "execution_count": 13,
   "metadata": {},
   "outputs": [],
   "source": [
    "plot_model(base_model, to_file=\"vgg16_no_top_model.png\")"
   ]
  },
  {
   "cell_type": "code",
   "execution_count": 14,
   "metadata": {},
   "outputs": [
    {
     "name": "stdout",
     "output_type": "stream",
     "text": [
      "<tensorflow.python.keras.engine.input_layer.InputLayer object at 0x7f4f0a352518>\n",
      "<tensorflow.python.keras.layers.convolutional.Conv2D object at 0x7f4f0a352710>\n",
      "<tensorflow.python.keras.layers.convolutional.Conv2D object at 0x7f4f0a352908>\n",
      "<tensorflow.python.keras.layers.pooling.MaxPooling2D object at 0x7f4f0a352e48>\n",
      "<tensorflow.python.keras.layers.convolutional.Conv2D object at 0x7f4f0a349320>\n",
      "<tensorflow.python.keras.layers.convolutional.Conv2D object at 0x7f4f0a347320>\n",
      "<tensorflow.python.keras.layers.pooling.MaxPooling2D object at 0x7f4f0a33f048>\n",
      "<tensorflow.python.keras.layers.convolutional.Conv2D object at 0x7f4f0a341860>\n",
      "<tensorflow.python.keras.layers.convolutional.Conv2D object at 0x7f4f0a33d4a8>\n",
      "<tensorflow.python.keras.layers.convolutional.Conv2D object at 0x7f4f0a3a9a58>\n",
      "<tensorflow.python.keras.layers.pooling.MaxPooling2D object at 0x7f4f0a42a0f0>\n",
      "<tensorflow.python.keras.layers.convolutional.Conv2D object at 0x7f4f0a42a128>\n",
      "<tensorflow.python.keras.layers.convolutional.Conv2D object at 0x7f4f0a3cdc50>\n",
      "<tensorflow.python.keras.layers.convolutional.Conv2D object at 0x7f4f0a38ee80>\n",
      "<tensorflow.python.keras.layers.pooling.MaxPooling2D object at 0x7f4f0a390320>\n"
     ]
    }
   ],
   "source": [
    "for layer in base_model.layers[:15]:\n",
    "    print(layer)"
   ]
  },
  {
   "cell_type": "code",
   "execution_count": 15,
   "metadata": {},
   "outputs": [
    {
     "name": "stdout",
     "output_type": "stream",
     "text": [
      "<tensorflow.python.keras.layers.convolutional.Conv2D object at 0x7f4f0a39c2e8>\n",
      "<tensorflow.python.keras.layers.convolutional.Conv2D object at 0x7f4f0a1e6cc0>\n",
      "<tensorflow.python.keras.layers.convolutional.Conv2D object at 0x7f4f0a1a0390>\n",
      "<tensorflow.python.keras.layers.pooling.MaxPooling2D object at 0x7f4f0a139eb8>\n"
     ]
    }
   ],
   "source": [
    "for layer in base_model.layers[15:]:\n",
    "    print(layer)"
   ]
  },
  {
   "cell_type": "markdown",
   "metadata": {},
   "source": [
    "In our models, we left 10 conv layers frozen, and retrain 1. the last 3 convolutional layers of VGG16 and the last 3 fully connected layers and the softmax classifier"
   ]
  },
  {
   "cell_type": "markdown",
   "metadata": {},
   "source": [
    "VGG16 has 13 conv layers, 3 fully connected layers and the classifier, and 5 max pool layers in between"
   ]
  }
 ],
 "metadata": {
  "kernelspec": {
   "display_name": "Python 3",
   "language": "python",
   "name": "python3"
  },
  "language_info": {
   "codemirror_mode": {
    "name": "ipython",
    "version": 3
   },
   "file_extension": ".py",
   "mimetype": "text/x-python",
   "name": "python",
   "nbconvert_exporter": "python",
   "pygments_lexer": "ipython3",
   "version": "3.6.7"
  }
 },
 "nbformat": 4,
 "nbformat_minor": 2
}
