{
 "cells": [
  {
   "cell_type": "code",
   "execution_count": 1,
   "metadata": {},
   "outputs": [
    {
     "name": "stderr",
     "output_type": "stream",
     "text": [
      "/home/nvidia/github/python_environments/soundflux/lib/python3.5/site-packages/librosa/cache.py:36: DeprecationWarning: The 'cachedir' attribute has been deprecated in version 0.12 and will be removed in version 0.14.\n",
      "Use os.path.join(memory.location, 'joblib') attribute instead.\n",
      "  if self.cachedir is not None:\n",
      "/home/nvidia/github/python_environments/soundflux/lib/python3.5/site-packages/librosa/cache.py:36: DeprecationWarning: The 'cachedir' attribute has been deprecated in version 0.12 and will be removed in version 0.14.\n",
      "Use os.path.join(memory.location, 'joblib') attribute instead.\n",
      "  if self.cachedir is not None:\n",
      "/home/nvidia/github/python_environments/soundflux/lib/python3.5/site-packages/librosa/cache.py:36: DeprecationWarning: The 'cachedir' attribute has been deprecated in version 0.12 and will be removed in version 0.14.\n",
      "Use os.path.join(memory.location, 'joblib') attribute instead.\n",
      "  if self.cachedir is not None:\n",
      "/home/nvidia/github/python_environments/soundflux/lib/python3.5/site-packages/librosa/cache.py:36: DeprecationWarning: The 'cachedir' attribute has been deprecated in version 0.12 and will be removed in version 0.14.\n",
      "Use os.path.join(memory.location, 'joblib') attribute instead.\n",
      "  if self.cachedir is not None:\n",
      "/home/nvidia/github/python_environments/soundflux/lib/python3.5/site-packages/librosa/cache.py:36: DeprecationWarning: The 'cachedir' attribute has been deprecated in version 0.12 and will be removed in version 0.14.\n",
      "Use os.path.join(memory.location, 'joblib') attribute instead.\n",
      "  if self.cachedir is not None:\n",
      "/home/nvidia/github/python_environments/soundflux/lib/python3.5/site-packages/librosa/cache.py:36: DeprecationWarning: The 'cachedir' attribute has been deprecated in version 0.12 and will be removed in version 0.14.\n",
      "Use os.path.join(memory.location, 'joblib') attribute instead.\n",
      "  if self.cachedir is not None:\n",
      "/home/nvidia/github/python_environments/soundflux/lib/python3.5/site-packages/librosa/cache.py:36: DeprecationWarning: The 'cachedir' attribute has been deprecated in version 0.12 and will be removed in version 0.14.\n",
      "Use os.path.join(memory.location, 'joblib') attribute instead.\n",
      "  if self.cachedir is not None:\n",
      "/home/nvidia/github/python_environments/soundflux/lib/python3.5/site-packages/librosa/cache.py:36: DeprecationWarning: The 'cachedir' attribute has been deprecated in version 0.12 and will be removed in version 0.14.\n",
      "Use os.path.join(memory.location, 'joblib') attribute instead.\n",
      "  if self.cachedir is not None:\n",
      "/home/nvidia/github/python_environments/soundflux/lib/python3.5/site-packages/librosa/cache.py:36: DeprecationWarning: The 'cachedir' attribute has been deprecated in version 0.12 and will be removed in version 0.14.\n",
      "Use os.path.join(memory.location, 'joblib') attribute instead.\n",
      "  if self.cachedir is not None:\n",
      "/home/nvidia/github/python_environments/soundflux/lib/python3.5/site-packages/librosa/cache.py:36: DeprecationWarning: The 'cachedir' attribute has been deprecated in version 0.12 and will be removed in version 0.14.\n",
      "Use os.path.join(memory.location, 'joblib') attribute instead.\n",
      "  if self.cachedir is not None:\n",
      "/home/nvidia/github/python_environments/soundflux/lib/python3.5/site-packages/librosa/cache.py:36: DeprecationWarning: The 'cachedir' attribute has been deprecated in version 0.12 and will be removed in version 0.14.\n",
      "Use os.path.join(memory.location, 'joblib') attribute instead.\n",
      "  if self.cachedir is not None:\n",
      "/home/nvidia/github/python_environments/soundflux/lib/python3.5/site-packages/librosa/core/audio.py:37: UserWarning: Could not import scikits.samplerate. Falling back to scipy.signal\n",
      "  warnings.warn('Could not import scikits.samplerate. '\n",
      "/home/nvidia/github/python_environments/soundflux/lib/python3.5/site-packages/librosa/cache.py:36: DeprecationWarning: The 'cachedir' attribute has been deprecated in version 0.12 and will be removed in version 0.14.\n",
      "Use os.path.join(memory.location, 'joblib') attribute instead.\n",
      "  if self.cachedir is not None:\n",
      "/home/nvidia/github/python_environments/soundflux/lib/python3.5/site-packages/librosa/cache.py:36: DeprecationWarning: The 'cachedir' attribute has been deprecated in version 0.12 and will be removed in version 0.14.\n",
      "Use os.path.join(memory.location, 'joblib') attribute instead.\n",
      "  if self.cachedir is not None:\n",
      "/home/nvidia/github/python_environments/soundflux/lib/python3.5/site-packages/librosa/cache.py:36: DeprecationWarning: The 'cachedir' attribute has been deprecated in version 0.12 and will be removed in version 0.14.\n",
      "Use os.path.join(memory.location, 'joblib') attribute instead.\n",
      "  if self.cachedir is not None:\n",
      "/home/nvidia/github/python_environments/soundflux/lib/python3.5/site-packages/librosa/cache.py:36: DeprecationWarning: The 'cachedir' attribute has been deprecated in version 0.12 and will be removed in version 0.14.\n",
      "Use os.path.join(memory.location, 'joblib') attribute instead.\n",
      "  if self.cachedir is not None:\n",
      "/home/nvidia/github/python_environments/soundflux/lib/python3.5/site-packages/librosa/cache.py:36: DeprecationWarning: The 'cachedir' attribute has been deprecated in version 0.12 and will be removed in version 0.14.\n",
      "Use os.path.join(memory.location, 'joblib') attribute instead.\n",
      "  if self.cachedir is not None:\n",
      "/home/nvidia/github/python_environments/soundflux/lib/python3.5/site-packages/librosa/cache.py:36: DeprecationWarning: The 'cachedir' attribute has been deprecated in version 0.12 and will be removed in version 0.14.\n",
      "Use os.path.join(memory.location, 'joblib') attribute instead.\n",
      "  if self.cachedir is not None:\n",
      "/home/nvidia/github/python_environments/soundflux/lib/python3.5/site-packages/librosa/cache.py:36: DeprecationWarning: The 'cachedir' attribute has been deprecated in version 0.12 and will be removed in version 0.14.\n",
      "Use os.path.join(memory.location, 'joblib') attribute instead.\n",
      "  if self.cachedir is not None:\n",
      "/home/nvidia/github/python_environments/soundflux/lib/python3.5/site-packages/librosa/cache.py:36: DeprecationWarning: The 'cachedir' attribute has been deprecated in version 0.12 and will be removed in version 0.14.\n",
      "Use os.path.join(memory.location, 'joblib') attribute instead.\n",
      "  if self.cachedir is not None:\n",
      "/home/nvidia/github/python_environments/soundflux/lib/python3.5/site-packages/librosa/cache.py:36: DeprecationWarning: The 'cachedir' attribute has been deprecated in version 0.12 and will be removed in version 0.14.\n",
      "Use os.path.join(memory.location, 'joblib') attribute instead.\n",
      "  if self.cachedir is not None:\n",
      "/home/nvidia/github/python_environments/soundflux/lib/python3.5/site-packages/librosa/cache.py:36: DeprecationWarning: The 'cachedir' attribute has been deprecated in version 0.12 and will be removed in version 0.14.\n",
      "Use os.path.join(memory.location, 'joblib') attribute instead.\n",
      "  if self.cachedir is not None:\n",
      "/home/nvidia/github/python_environments/soundflux/lib/python3.5/site-packages/librosa/cache.py:36: DeprecationWarning: The 'cachedir' attribute has been deprecated in version 0.12 and will be removed in version 0.14.\n",
      "Use os.path.join(memory.location, 'joblib') attribute instead.\n",
      "  if self.cachedir is not None:\n",
      "/home/nvidia/github/python_environments/soundflux/lib/python3.5/site-packages/librosa/cache.py:36: DeprecationWarning: The 'cachedir' attribute has been deprecated in version 0.12 and will be removed in version 0.14.\n",
      "Use os.path.join(memory.location, 'joblib') attribute instead.\n",
      "  if self.cachedir is not None:\n",
      "/home/nvidia/github/python_environments/soundflux/lib/python3.5/site-packages/librosa/cache.py:36: DeprecationWarning: The 'cachedir' attribute has been deprecated in version 0.12 and will be removed in version 0.14.\n",
      "Use os.path.join(memory.location, 'joblib') attribute instead.\n",
      "  if self.cachedir is not None:\n",
      "/home/nvidia/github/python_environments/soundflux/lib/python3.5/site-packages/librosa/cache.py:36: DeprecationWarning: The 'cachedir' attribute has been deprecated in version 0.12 and will be removed in version 0.14.\n",
      "Use os.path.join(memory.location, 'joblib') attribute instead.\n",
      "  if self.cachedir is not None:\n",
      "/home/nvidia/github/python_environments/soundflux/lib/python3.5/site-packages/librosa/cache.py:36: DeprecationWarning: The 'cachedir' attribute has been deprecated in version 0.12 and will be removed in version 0.14.\n",
      "Use os.path.join(memory.location, 'joblib') attribute instead.\n",
      "  if self.cachedir is not None:\n",
      "/home/nvidia/github/python_environments/soundflux/lib/python3.5/site-packages/librosa/cache.py:36: DeprecationWarning: The 'cachedir' attribute has been deprecated in version 0.12 and will be removed in version 0.14.\n",
      "Use os.path.join(memory.location, 'joblib') attribute instead.\n",
      "  if self.cachedir is not None:\n",
      "/home/nvidia/github/python_environments/soundflux/lib/python3.5/site-packages/librosa/cache.py:36: DeprecationWarning: The 'cachedir' attribute has been deprecated in version 0.12 and will be removed in version 0.14.\n",
      "Use os.path.join(memory.location, 'joblib') attribute instead.\n",
      "  if self.cachedir is not None:\n",
      "/home/nvidia/github/python_environments/soundflux/lib/python3.5/site-packages/librosa/cache.py:36: DeprecationWarning: The 'cachedir' attribute has been deprecated in version 0.12 and will be removed in version 0.14.\n",
      "Use os.path.join(memory.location, 'joblib') attribute instead.\n",
      "  if self.cachedir is not None:\n",
      "/home/nvidia/github/python_environments/soundflux/lib/python3.5/site-packages/librosa/cache.py:36: DeprecationWarning: The 'cachedir' attribute has been deprecated in version 0.12 and will be removed in version 0.14.\n",
      "Use os.path.join(memory.location, 'joblib') attribute instead.\n",
      "  if self.cachedir is not None:\n",
      "/home/nvidia/github/python_environments/soundflux/lib/python3.5/site-packages/librosa/cache.py:36: DeprecationWarning: The 'cachedir' attribute has been deprecated in version 0.12 and will be removed in version 0.14.\n",
      "Use os.path.join(memory.location, 'joblib') attribute instead.\n",
      "  if self.cachedir is not None:\n",
      "/home/nvidia/github/python_environments/soundflux/lib/python3.5/site-packages/librosa/cache.py:36: DeprecationWarning: The 'cachedir' attribute has been deprecated in version 0.12 and will be removed in version 0.14.\n",
      "Use os.path.join(memory.location, 'joblib') attribute instead.\n",
      "  if self.cachedir is not None:\n",
      "/home/nvidia/github/python_environments/soundflux/lib/python3.5/site-packages/librosa/cache.py:36: DeprecationWarning: The 'cachedir' attribute has been deprecated in version 0.12 and will be removed in version 0.14.\n",
      "Use os.path.join(memory.location, 'joblib') attribute instead.\n",
      "  if self.cachedir is not None:\n",
      "/home/nvidia/github/python_environments/soundflux/lib/python3.5/site-packages/librosa/cache.py:36: DeprecationWarning: The 'cachedir' attribute has been deprecated in version 0.12 and will be removed in version 0.14.\n",
      "Use os.path.join(memory.location, 'joblib') attribute instead.\n",
      "  if self.cachedir is not None:\n",
      "/home/nvidia/github/python_environments/soundflux/lib/python3.5/site-packages/librosa/cache.py:36: DeprecationWarning: The 'cachedir' attribute has been deprecated in version 0.12 and will be removed in version 0.14.\n",
      "Use os.path.join(memory.location, 'joblib') attribute instead.\n",
      "  if self.cachedir is not None:\n",
      "/home/nvidia/github/python_environments/soundflux/lib/python3.5/site-packages/librosa/cache.py:36: DeprecationWarning: The 'cachedir' attribute has been deprecated in version 0.12 and will be removed in version 0.14.\n",
      "Use os.path.join(memory.location, 'joblib') attribute instead.\n",
      "  if self.cachedir is not None:\n",
      "/home/nvidia/github/python_environments/soundflux/lib/python3.5/site-packages/librosa/cache.py:36: DeprecationWarning: The 'cachedir' attribute has been deprecated in version 0.12 and will be removed in version 0.14.\n",
      "Use os.path.join(memory.location, 'joblib') attribute instead.\n",
      "  if self.cachedir is not None:\n",
      "/home/nvidia/github/python_environments/soundflux/lib/python3.5/site-packages/librosa/cache.py:36: DeprecationWarning: The 'cachedir' attribute has been deprecated in version 0.12 and will be removed in version 0.14.\n",
      "Use os.path.join(memory.location, 'joblib') attribute instead.\n",
      "  if self.cachedir is not None:\n",
      "/home/nvidia/github/python_environments/soundflux/lib/python3.5/site-packages/librosa/cache.py:36: DeprecationWarning: The 'cachedir' attribute has been deprecated in version 0.12 and will be removed in version 0.14.\n",
      "Use os.path.join(memory.location, 'joblib') attribute instead.\n",
      "  if self.cachedir is not None:\n"
     ]
    },
    {
     "name": "stderr",
     "output_type": "stream",
     "text": [
      "/home/nvidia/github/python_environments/soundflux/lib/python3.5/site-packages/librosa/cache.py:36: DeprecationWarning: The 'cachedir' attribute has been deprecated in version 0.12 and will be removed in version 0.14.\n",
      "Use os.path.join(memory.location, 'joblib') attribute instead.\n",
      "  if self.cachedir is not None:\n",
      "/home/nvidia/github/python_environments/soundflux/lib/python3.5/site-packages/librosa/cache.py:36: DeprecationWarning: The 'cachedir' attribute has been deprecated in version 0.12 and will be removed in version 0.14.\n",
      "Use os.path.join(memory.location, 'joblib') attribute instead.\n",
      "  if self.cachedir is not None:\n",
      "/home/nvidia/github/python_environments/soundflux/lib/python3.5/site-packages/librosa/cache.py:36: DeprecationWarning: The 'cachedir' attribute has been deprecated in version 0.12 and will be removed in version 0.14.\n",
      "Use os.path.join(memory.location, 'joblib') attribute instead.\n",
      "  if self.cachedir is not None:\n",
      "/home/nvidia/github/python_environments/soundflux/lib/python3.5/site-packages/librosa/cache.py:36: DeprecationWarning: The 'cachedir' attribute has been deprecated in version 0.12 and will be removed in version 0.14.\n",
      "Use os.path.join(memory.location, 'joblib') attribute instead.\n",
      "  if self.cachedir is not None:\n",
      "/home/nvidia/github/python_environments/soundflux/lib/python3.5/site-packages/librosa/cache.py:36: DeprecationWarning: The 'cachedir' attribute has been deprecated in version 0.12 and will be removed in version 0.14.\n",
      "Use os.path.join(memory.location, 'joblib') attribute instead.\n",
      "  if self.cachedir is not None:\n",
      "/home/nvidia/github/python_environments/soundflux/lib/python3.5/site-packages/librosa/cache.py:36: DeprecationWarning: The 'cachedir' attribute has been deprecated in version 0.12 and will be removed in version 0.14.\n",
      "Use os.path.join(memory.location, 'joblib') attribute instead.\n",
      "  if self.cachedir is not None:\n"
     ]
    }
   ],
   "source": [
    "import glob\n",
    "import os\n",
    "import librosa\n",
    "import librosa.display\n",
    "import numpy as np\n",
    "import matplotlib.pyplot as plt\n",
    "from matplotlib.pyplot import specgram\n",
    "%matplotlib inline\n",
    "plt.style.use('ggplot')"
   ]
  },
  {
   "cell_type": "code",
   "execution_count": 3,
   "metadata": {},
   "outputs": [],
   "source": [
    "import tensorflow as tf\n",
    "from sklearn.metrics import precision_recall_fscore_support\n",
    "import soundfile"
   ]
  },
  {
   "cell_type": "markdown",
   "metadata": {},
   "source": [
    "replicating https://github.com/satyen95/Urban-Sound-Classification/blob/master/NN_HL2.ipynb"
   ]
  },
  {
   "cell_type": "markdown",
   "metadata": {},
   "source": [
    "# Load Sounds"
   ]
  },
  {
   "cell_type": "code",
   "execution_count": 4,
   "metadata": {},
   "outputs": [],
   "source": [
    "def load_sound_files(file_paths):\n",
    "    raw_sounds = []\n",
    "    for fp in file_paths:\n",
    "        X,sr = soundfile.read(fp,channels=1)\n",
    "        raw_sounds.append(X)\n",
    "    return raw_sounds"
   ]
  },
  {
   "cell_type": "code",
   "execution_count": 107,
   "metadata": {},
   "outputs": [],
   "source": [
    "def extract_feature(file_name):\n",
    "    X, sample_rate = librosa.load(file_name)\n",
    "    stft = np.abs(librosa.stft(X))\n",
    "    mfccs = np.mean(librosa.feature.mfcc(y=X, sr=sample_rate, n_mfcc=40).T,axis=0)\n",
    "    chroma = np.mean(librosa.feature.chroma_stft(S=stft, sr=sample_rate).T,axis=0)\n",
    "    mel = np.mean(librosa.feature.melspectrogram(X, sr=sample_rate).T,axis=0)\n",
    "    contrast = np.mean(librosa.feature.spectral_contrast(S=stft, sr=sample_rate).T,axis=0)\n",
    "    #tonnetz = np.mean(librosa.feature.tonnetz(y=librosa.effects.harmonic(X), sr=sample_rate).T,axis=0)\n",
    "    return mfccs,chroma,mel,contrast#,tonnetz\n",
    "\n",
    "def parse_audio_files(parent_dir,sub_dirs,file_ext='*.wav'):\n",
    "    features, labels = np.empty((0,187)), np.empty(0)\n",
    "    for label, sub_dir in enumerate(sub_dirs):\n",
    "        for fn in glob.glob(os.path.join(parent_dir, sub_dir, file_ext)):\n",
    "            try:\n",
    "                #mfccs, chroma, mel, contrast,tonnetz = extract_feature(fn)\n",
    "                mfccs, chroma, mel, contrast = extract_feature(fn)\n",
    "            except Exception as e:\n",
    "                print(e)\n",
    "                continue\n",
    "            #print(fn.split('/'),len(fn.split('/')))\n",
    "            #ext_features = np.hstack([mfccs,chroma,mel,contrast,tonnetz])\n",
    "            ext_features = np.hstack([mfccs,chroma,mel,contrast])\n",
    "            features = np.vstack([features,ext_features])\n",
    "            labels = np.append(labels, fn.split('/')[8].split('-')[1])\n",
    "    return np.array(features), np.array(labels, dtype = np.int)\n",
    "\n",
    "def test_parse(file_name):\n",
    "    features = np.empty((0,187))\n",
    "    try:\n",
    "        #mfccs, chroma, mel, contrast,tonnetz = extract_feature(file_name)\n",
    "        mfccs, chroma, mel, contrast= extract_feature(file_name)\n",
    "    except Exception as e:\n",
    "        print(e)\n",
    "    ext_features = np.hstack([mfccs,chroma,mel,contrast,tonnetz])\n",
    "    features = np.vstack([features,ext_features])\n",
    "    return np.array(features)\n"
   ]
  },
  {
   "cell_type": "code",
   "execution_count": 44,
   "metadata": {},
   "outputs": [],
   "source": [
    "def one_hot_encode(labels):\n",
    "    n_labels = len(labels)\n",
    "    n_unique_labels = len(np.unique(labels))\n",
    "    one_hot_encode = np.zeros((n_labels,n_unique_labels))\n",
    "    one_hot_encode[np.arange(n_labels), labels] = 1\n",
    "    return one_hot_encode"
   ]
  },
  {
   "cell_type": "markdown",
   "metadata": {},
   "source": [
    "# TEST Features!"
   ]
  },
  {
   "cell_type": "code",
   "execution_count": 71,
   "metadata": {},
   "outputs": [
    {
     "name": "stdout",
     "output_type": "stream",
     "text": [
      "(302712, 2) 48000\n"
     ]
    }
   ],
   "source": [
    "X, sample_rate = soundfile.read('/home/nvidia/piano2.wav')\n",
    "print(X.shape,sample_rate)"
   ]
  },
  {
   "cell_type": "code",
   "execution_count": 91,
   "metadata": {},
   "outputs": [
    {
     "data": {
      "text/plain": [
       "array([[-3.35693359e-04],\n",
       "       [ 9.15527344e-05],\n",
       "       [-6.71386719e-04],\n",
       "       ...,\n",
       "       [ 3.35693359e-04],\n",
       "       [ 2.13623047e-04],\n",
       "       [ 4.57763672e-04]])"
      ]
     },
     "execution_count": 91,
     "metadata": {},
     "output_type": "execute_result"
    }
   ],
   "source": [
    "X[:,:1]"
   ]
  },
  {
   "cell_type": "code",
   "execution_count": 70,
   "metadata": {},
   "outputs": [
    {
     "name": "stdout",
     "output_type": "stream",
     "text": [
      "(139059,) 22050\n"
     ]
    }
   ],
   "source": [
    "X, sample_rate = librosa.load('/home/nvidia/piano2.wav')\n",
    "print(X.shape,sample_rate)"
   ]
  },
  {
   "cell_type": "code",
   "execution_count": 68,
   "metadata": {},
   "outputs": [
    {
     "name": "stdout",
     "output_type": "stream",
     "text": [
      "(139059,) 22050\n"
     ]
    }
   ],
   "source": [
    "print(X.shape,sample_rate)"
   ]
  },
  {
   "cell_type": "code",
   "execution_count": 98,
   "metadata": {},
   "outputs": [
    {
     "name": "stderr",
     "output_type": "stream",
     "text": [
      "/home/nvidia/github/python_environments/soundflux/lib/python3.5/site-packages/librosa/core/pitch.py:159: DeprecationWarning: object of type <class 'numpy.float64'> cannot be safely interpreted as an integer.\n",
      "  bins = np.linspace(-0.5, 0.5, np.ceil(1./resolution), endpoint=False)\n"
     ]
    },
    {
     "data": {
      "text/plain": [
       "(187,)"
      ]
     },
     "execution_count": 98,
     "metadata": {},
     "output_type": "execute_result"
    }
   ],
   "source": [
    "mfccs, chroma, mel, contrasttt= extract_feature('/home/nvidia/piano2.wav')\n",
    "np.hstack([mfccs,chroma,mel,contrast]).shape"
   ]
  },
  {
   "cell_type": "code",
   "execution_count": 35,
   "metadata": {},
   "outputs": [
    {
     "data": {
      "text/plain": [
       "(7,)"
      ]
     },
     "execution_count": 35,
     "metadata": {},
     "output_type": "execute_result"
    }
   ],
   "source": [
    "contrast.shape"
   ]
  },
  {
   "cell_type": "markdown",
   "metadata": {},
   "source": [
    "# Actual ones"
   ]
  },
  {
   "cell_type": "code",
   "execution_count": null,
   "metadata": {
    "scrolled": true
   },
   "outputs": [
    {
     "name": "stdout",
     "output_type": "stream",
     "text": [
      "\n"
     ]
    },
    {
     "name": "stderr",
     "output_type": "stream",
     "text": [
      "/home/nvidia/github/python_environments/soundflux/lib/python3.5/site-packages/librosa/util/utils.py:828: FutureWarning: Using a non-tuple sequence for multidimensional indexing is deprecated; use `arr[tuple(seq)]` instead of `arr[seq]`. In the future this will be interpreted as an array index, `arr[np.array(seq)]`, which will result either in an error or a different result.\n",
      "  return (x > x_pad[inds1]) & (x >= x_pad[inds2])\n",
      "/home/nvidia/github/python_environments/soundflux/lib/python3.5/site-packages/librosa/core/pitch.py:159: DeprecationWarning: object of type <class 'numpy.float64'> cannot be safely interpreted as an integer.\n",
      "  bins = np.linspace(-0.5, 0.5, np.ceil(1./resolution), endpoint=False)\n"
     ]
    },
    {
     "name": "stdout",
     "output_type": "stream",
     "text": [
      "\n"
     ]
    },
    {
     "name": "stderr",
     "output_type": "stream",
     "text": [
      "/home/nvidia/github/python_environments/soundflux/lib/python3.5/site-packages/librosa/util/utils.py:828: FutureWarning: Using a non-tuple sequence for multidimensional indexing is deprecated; use `arr[tuple(seq)]` instead of `arr[seq]`. In the future this will be interpreted as an array index, `arr[np.array(seq)]`, which will result either in an error or a different result.\n",
      "  return (x > x_pad[inds1]) & (x >= x_pad[inds2])\n",
      "/home/nvidia/github/python_environments/soundflux/lib/python3.5/site-packages/librosa/core/pitch.py:159: DeprecationWarning: object of type <class 'numpy.float64'> cannot be safely interpreted as an integer.\n",
      "  bins = np.linspace(-0.5, 0.5, np.ceil(1./resolution), endpoint=False)\n"
     ]
    },
    {
     "name": "stdout",
     "output_type": "stream",
     "text": [
      "\n"
     ]
    },
    {
     "name": "stderr",
     "output_type": "stream",
     "text": [
      "/home/nvidia/github/python_environments/soundflux/lib/python3.5/site-packages/librosa/util/utils.py:828: FutureWarning: Using a non-tuple sequence for multidimensional indexing is deprecated; use `arr[tuple(seq)]` instead of `arr[seq]`. In the future this will be interpreted as an array index, `arr[np.array(seq)]`, which will result either in an error or a different result.\n",
      "  return (x > x_pad[inds1]) & (x >= x_pad[inds2])\n",
      "/home/nvidia/github/python_environments/soundflux/lib/python3.5/site-packages/librosa/core/pitch.py:159: DeprecationWarning: object of type <class 'numpy.float64'> cannot be safely interpreted as an integer.\n",
      "  bins = np.linspace(-0.5, 0.5, np.ceil(1./resolution), endpoint=False)\n",
      "/home/nvidia/github/python_environments/soundflux/lib/python3.5/site-packages/librosa/core/pitch.py:159: DeprecationWarning: object of type <class 'numpy.float64'> cannot be safely interpreted as an integer.\n",
      "  bins = np.linspace(-0.5, 0.5, np.ceil(1./resolution), endpoint=False)\n"
     ]
    },
    {
     "name": "stdout",
     "output_type": "stream",
     "text": [
      "\n"
     ]
    },
    {
     "name": "stderr",
     "output_type": "stream",
     "text": [
      "/home/nvidia/github/python_environments/soundflux/lib/python3.5/site-packages/librosa/util/utils.py:828: FutureWarning: Using a non-tuple sequence for multidimensional indexing is deprecated; use `arr[tuple(seq)]` instead of `arr[seq]`. In the future this will be interpreted as an array index, `arr[np.array(seq)]`, which will result either in an error or a different result.\n",
      "  return (x > x_pad[inds1]) & (x >= x_pad[inds2])\n",
      "/home/nvidia/github/python_environments/soundflux/lib/python3.5/site-packages/librosa/core/pitch.py:159: DeprecationWarning: object of type <class 'numpy.float64'> cannot be safely interpreted as an integer.\n",
      "  bins = np.linspace(-0.5, 0.5, np.ceil(1./resolution), endpoint=False)\n",
      "/home/nvidia/github/python_environments/soundflux/lib/python3.5/site-packages/librosa/core/pitch.py:159: DeprecationWarning: object of type <class 'numpy.float64'> cannot be safely interpreted as an integer.\n",
      "  bins = np.linspace(-0.5, 0.5, np.ceil(1./resolution), endpoint=False)\n",
      "/home/nvidia/github/python_environments/soundflux/lib/python3.5/site-packages/librosa/core/pitch.py:159: DeprecationWarning: object of type <class 'numpy.float64'> cannot be safely interpreted as an integer.\n",
      "  bins = np.linspace(-0.5, 0.5, np.ceil(1./resolution), endpoint=False)\n",
      "/home/nvidia/github/python_environments/soundflux/lib/python3.5/site-packages/librosa/core/pitch.py:159: DeprecationWarning: object of type <class 'numpy.float64'> cannot be safely interpreted as an integer.\n",
      "  bins = np.linspace(-0.5, 0.5, np.ceil(1./resolution), endpoint=False)\n",
      "/home/nvidia/github/python_environments/soundflux/lib/python3.5/site-packages/librosa/core/pitch.py:159: DeprecationWarning: object of type <class 'numpy.float64'> cannot be safely interpreted as an integer.\n",
      "  bins = np.linspace(-0.5, 0.5, np.ceil(1./resolution), endpoint=False)\n",
      "/home/nvidia/github/python_environments/soundflux/lib/python3.5/site-packages/librosa/core/pitch.py:159: DeprecationWarning: object of type <class 'numpy.float64'> cannot be safely interpreted as an integer.\n",
      "  bins = np.linspace(-0.5, 0.5, np.ceil(1./resolution), endpoint=False)\n",
      "/home/nvidia/github/python_environments/soundflux/lib/python3.5/site-packages/librosa/core/pitch.py:159: DeprecationWarning: object of type <class 'numpy.float64'> cannot be safely interpreted as an integer.\n",
      "  bins = np.linspace(-0.5, 0.5, np.ceil(1./resolution), endpoint=False)\n",
      "/home/nvidia/github/python_environments/soundflux/lib/python3.5/site-packages/librosa/core/pitch.py:159: DeprecationWarning: object of type <class 'numpy.float64'> cannot be safely interpreted as an integer.\n",
      "  bins = np.linspace(-0.5, 0.5, np.ceil(1./resolution), endpoint=False)\n"
     ]
    },
    {
     "name": "stdout",
     "output_type": "stream",
     "text": [
      "\n",
      "\n"
     ]
    },
    {
     "name": "stderr",
     "output_type": "stream",
     "text": [
      "/home/nvidia/github/python_environments/soundflux/lib/python3.5/site-packages/librosa/util/utils.py:828: FutureWarning: Using a non-tuple sequence for multidimensional indexing is deprecated; use `arr[tuple(seq)]` instead of `arr[seq]`. In the future this will be interpreted as an array index, `arr[np.array(seq)]`, which will result either in an error or a different result.\n",
      "  return (x > x_pad[inds1]) & (x >= x_pad[inds2])\n",
      "/home/nvidia/github/python_environments/soundflux/lib/python3.5/site-packages/librosa/core/pitch.py:159: DeprecationWarning: object of type <class 'numpy.float64'> cannot be safely interpreted as an integer.\n",
      "  bins = np.linspace(-0.5, 0.5, np.ceil(1./resolution), endpoint=False)\n"
     ]
    },
    {
     "name": "stdout",
     "output_type": "stream",
     "text": [
      "\n",
      "\n"
     ]
    },
    {
     "name": "stderr",
     "output_type": "stream",
     "text": [
      "/home/nvidia/github/python_environments/soundflux/lib/python3.5/site-packages/librosa/util/utils.py:828: FutureWarning: Using a non-tuple sequence for multidimensional indexing is deprecated; use `arr[tuple(seq)]` instead of `arr[seq]`. In the future this will be interpreted as an array index, `arr[np.array(seq)]`, which will result either in an error or a different result.\n",
      "  return (x > x_pad[inds1]) & (x >= x_pad[inds2])\n",
      "/home/nvidia/github/python_environments/soundflux/lib/python3.5/site-packages/librosa/core/pitch.py:159: DeprecationWarning: object of type <class 'numpy.float64'> cannot be safely interpreted as an integer.\n",
      "  bins = np.linspace(-0.5, 0.5, np.ceil(1./resolution), endpoint=False)\n",
      "/home/nvidia/github/python_environments/soundflux/lib/python3.5/site-packages/librosa/core/pitch.py:159: DeprecationWarning: object of type <class 'numpy.float64'> cannot be safely interpreted as an integer.\n",
      "  bins = np.linspace(-0.5, 0.5, np.ceil(1./resolution), endpoint=False)\n"
     ]
    },
    {
     "name": "stdout",
     "output_type": "stream",
     "text": [
      "\n"
     ]
    },
    {
     "name": "stderr",
     "output_type": "stream",
     "text": [
      "/home/nvidia/github/python_environments/soundflux/lib/python3.5/site-packages/librosa/util/utils.py:828: FutureWarning: Using a non-tuple sequence for multidimensional indexing is deprecated; use `arr[tuple(seq)]` instead of `arr[seq]`. In the future this will be interpreted as an array index, `arr[np.array(seq)]`, which will result either in an error or a different result.\n",
      "  return (x > x_pad[inds1]) & (x >= x_pad[inds2])\n",
      "/home/nvidia/github/python_environments/soundflux/lib/python3.5/site-packages/librosa/core/pitch.py:159: DeprecationWarning: object of type <class 'numpy.float64'> cannot be safely interpreted as an integer.\n",
      "  bins = np.linspace(-0.5, 0.5, np.ceil(1./resolution), endpoint=False)\n"
     ]
    },
    {
     "name": "stdout",
     "output_type": "stream",
     "text": [
      "\n",
      "\n",
      "\n"
     ]
    },
    {
     "name": "stderr",
     "output_type": "stream",
     "text": [
      "/home/nvidia/github/python_environments/soundflux/lib/python3.5/site-packages/librosa/util/utils.py:828: FutureWarning: Using a non-tuple sequence for multidimensional indexing is deprecated; use `arr[tuple(seq)]` instead of `arr[seq]`. In the future this will be interpreted as an array index, `arr[np.array(seq)]`, which will result either in an error or a different result.\n",
      "  return (x > x_pad[inds1]) & (x >= x_pad[inds2])\n",
      "/home/nvidia/github/python_environments/soundflux/lib/python3.5/site-packages/librosa/core/pitch.py:159: DeprecationWarning: object of type <class 'numpy.float64'> cannot be safely interpreted as an integer.\n",
      "  bins = np.linspace(-0.5, 0.5, np.ceil(1./resolution), endpoint=False)\n",
      "/home/nvidia/github/python_environments/soundflux/lib/python3.5/site-packages/librosa/core/pitch.py:159: DeprecationWarning: object of type <class 'numpy.float64'> cannot be safely interpreted as an integer.\n",
      "  bins = np.linspace(-0.5, 0.5, np.ceil(1./resolution), endpoint=False)\n"
     ]
    },
    {
     "name": "stdout",
     "output_type": "stream",
     "text": [
      "\n"
     ]
    },
    {
     "name": "stderr",
     "output_type": "stream",
     "text": [
      "/home/nvidia/github/python_environments/soundflux/lib/python3.5/site-packages/librosa/util/utils.py:828: FutureWarning: Using a non-tuple sequence for multidimensional indexing is deprecated; use `arr[tuple(seq)]` instead of `arr[seq]`. In the future this will be interpreted as an array index, `arr[np.array(seq)]`, which will result either in an error or a different result.\n",
      "  return (x > x_pad[inds1]) & (x >= x_pad[inds2])\n",
      "/home/nvidia/github/python_environments/soundflux/lib/python3.5/site-packages/librosa/core/pitch.py:159: DeprecationWarning: object of type <class 'numpy.float64'> cannot be safely interpreted as an integer.\n",
      "  bins = np.linspace(-0.5, 0.5, np.ceil(1./resolution), endpoint=False)\n",
      "/home/nvidia/github/python_environments/soundflux/lib/python3.5/site-packages/librosa/core/pitch.py:159: DeprecationWarning: object of type <class 'numpy.float64'> cannot be safely interpreted as an integer.\n",
      "  bins = np.linspace(-0.5, 0.5, np.ceil(1./resolution), endpoint=False)\n",
      "/home/nvidia/github/python_environments/soundflux/lib/python3.5/site-packages/librosa/core/pitch.py:159: DeprecationWarning: object of type <class 'numpy.float64'> cannot be safely interpreted as an integer.\n",
      "  bins = np.linspace(-0.5, 0.5, np.ceil(1./resolution), endpoint=False)\n"
     ]
    },
    {
     "name": "stdout",
     "output_type": "stream",
     "text": [
      "\n",
      "\n",
      "\n",
      "\n"
     ]
    },
    {
     "name": "stderr",
     "output_type": "stream",
     "text": [
      "/home/nvidia/github/python_environments/soundflux/lib/python3.5/site-packages/librosa/util/utils.py:828: FutureWarning: Using a non-tuple sequence for multidimensional indexing is deprecated; use `arr[tuple(seq)]` instead of `arr[seq]`. In the future this will be interpreted as an array index, `arr[np.array(seq)]`, which will result either in an error or a different result.\n",
      "  return (x > x_pad[inds1]) & (x >= x_pad[inds2])\n",
      "/home/nvidia/github/python_environments/soundflux/lib/python3.5/site-packages/librosa/core/pitch.py:159: DeprecationWarning: object of type <class 'numpy.float64'> cannot be safely interpreted as an integer.\n",
      "  bins = np.linspace(-0.5, 0.5, np.ceil(1./resolution), endpoint=False)\n",
      "/home/nvidia/github/python_environments/soundflux/lib/python3.5/site-packages/librosa/core/pitch.py:159: DeprecationWarning: object of type <class 'numpy.float64'> cannot be safely interpreted as an integer.\n",
      "  bins = np.linspace(-0.5, 0.5, np.ceil(1./resolution), endpoint=False)\n"
     ]
    },
    {
     "name": "stdout",
     "output_type": "stream",
     "text": [
      "\n"
     ]
    },
    {
     "name": "stderr",
     "output_type": "stream",
     "text": [
      "/home/nvidia/github/python_environments/soundflux/lib/python3.5/site-packages/librosa/util/utils.py:828: FutureWarning: Using a non-tuple sequence for multidimensional indexing is deprecated; use `arr[tuple(seq)]` instead of `arr[seq]`. In the future this will be interpreted as an array index, `arr[np.array(seq)]`, which will result either in an error or a different result.\n",
      "  return (x > x_pad[inds1]) & (x >= x_pad[inds2])\n",
      "/home/nvidia/github/python_environments/soundflux/lib/python3.5/site-packages/librosa/core/pitch.py:159: DeprecationWarning: object of type <class 'numpy.float64'> cannot be safely interpreted as an integer.\n",
      "  bins = np.linspace(-0.5, 0.5, np.ceil(1./resolution), endpoint=False)\n",
      "/home/nvidia/github/python_environments/soundflux/lib/python3.5/site-packages/librosa/core/pitch.py:159: DeprecationWarning: object of type <class 'numpy.float64'> cannot be safely interpreted as an integer.\n",
      "  bins = np.linspace(-0.5, 0.5, np.ceil(1./resolution), endpoint=False)\n"
     ]
    },
    {
     "name": "stdout",
     "output_type": "stream",
     "text": [
      "\n"
     ]
    },
    {
     "name": "stderr",
     "output_type": "stream",
     "text": [
      "/home/nvidia/github/python_environments/soundflux/lib/python3.5/site-packages/librosa/util/utils.py:828: FutureWarning: Using a non-tuple sequence for multidimensional indexing is deprecated; use `arr[tuple(seq)]` instead of `arr[seq]`. In the future this will be interpreted as an array index, `arr[np.array(seq)]`, which will result either in an error or a different result.\n",
      "  return (x > x_pad[inds1]) & (x >= x_pad[inds2])\n",
      "/home/nvidia/github/python_environments/soundflux/lib/python3.5/site-packages/librosa/core/pitch.py:159: DeprecationWarning: object of type <class 'numpy.float64'> cannot be safely interpreted as an integer.\n",
      "  bins = np.linspace(-0.5, 0.5, np.ceil(1./resolution), endpoint=False)\n"
     ]
    },
    {
     "name": "stdout",
     "output_type": "stream",
     "text": [
      "\n",
      "\n"
     ]
    },
    {
     "name": "stderr",
     "output_type": "stream",
     "text": [
      "/home/nvidia/github/python_environments/soundflux/lib/python3.5/site-packages/librosa/util/utils.py:828: FutureWarning: Using a non-tuple sequence for multidimensional indexing is deprecated; use `arr[tuple(seq)]` instead of `arr[seq]`. In the future this will be interpreted as an array index, `arr[np.array(seq)]`, which will result either in an error or a different result.\n",
      "  return (x > x_pad[inds1]) & (x >= x_pad[inds2])\n",
      "/home/nvidia/github/python_environments/soundflux/lib/python3.5/site-packages/librosa/core/pitch.py:159: DeprecationWarning: object of type <class 'numpy.float64'> cannot be safely interpreted as an integer.\n",
      "  bins = np.linspace(-0.5, 0.5, np.ceil(1./resolution), endpoint=False)\n",
      "/home/nvidia/github/python_environments/soundflux/lib/python3.5/site-packages/librosa/core/pitch.py:159: DeprecationWarning: object of type <class 'numpy.float64'> cannot be safely interpreted as an integer.\n",
      "  bins = np.linspace(-0.5, 0.5, np.ceil(1./resolution), endpoint=False)\n",
      "/home/nvidia/github/python_environments/soundflux/lib/python3.5/site-packages/librosa/core/pitch.py:159: DeprecationWarning: object of type <class 'numpy.float64'> cannot be safely interpreted as an integer.\n",
      "  bins = np.linspace(-0.5, 0.5, np.ceil(1./resolution), endpoint=False)\n",
      "/home/nvidia/github/python_environments/soundflux/lib/python3.5/site-packages/librosa/core/pitch.py:159: DeprecationWarning: object of type <class 'numpy.float64'> cannot be safely interpreted as an integer.\n",
      "  bins = np.linspace(-0.5, 0.5, np.ceil(1./resolution), endpoint=False)\n",
      "/home/nvidia/github/python_environments/soundflux/lib/python3.5/site-packages/librosa/core/pitch.py:159: DeprecationWarning: object of type <class 'numpy.float64'> cannot be safely interpreted as an integer.\n",
      "  bins = np.linspace(-0.5, 0.5, np.ceil(1./resolution), endpoint=False)\n",
      "/home/nvidia/github/python_environments/soundflux/lib/python3.5/site-packages/librosa/core/pitch.py:159: DeprecationWarning: object of type <class 'numpy.float64'> cannot be safely interpreted as an integer.\n",
      "  bins = np.linspace(-0.5, 0.5, np.ceil(1./resolution), endpoint=False)\n"
     ]
    },
    {
     "name": "stdout",
     "output_type": "stream",
     "text": [
      "\n"
     ]
    },
    {
     "name": "stderr",
     "output_type": "stream",
     "text": [
      "/home/nvidia/github/python_environments/soundflux/lib/python3.5/site-packages/librosa/util/utils.py:828: FutureWarning: Using a non-tuple sequence for multidimensional indexing is deprecated; use `arr[tuple(seq)]` instead of `arr[seq]`. In the future this will be interpreted as an array index, `arr[np.array(seq)]`, which will result either in an error or a different result.\n",
      "  return (x > x_pad[inds1]) & (x >= x_pad[inds2])\n",
      "/home/nvidia/github/python_environments/soundflux/lib/python3.5/site-packages/librosa/core/pitch.py:159: DeprecationWarning: object of type <class 'numpy.float64'> cannot be safely interpreted as an integer.\n",
      "  bins = np.linspace(-0.5, 0.5, np.ceil(1./resolution), endpoint=False)\n"
     ]
    },
    {
     "name": "stdout",
     "output_type": "stream",
     "text": [
      "\n",
      "\n",
      "\n"
     ]
    },
    {
     "name": "stderr",
     "output_type": "stream",
     "text": [
      "/home/nvidia/github/python_environments/soundflux/lib/python3.5/site-packages/librosa/util/utils.py:828: FutureWarning: Using a non-tuple sequence for multidimensional indexing is deprecated; use `arr[tuple(seq)]` instead of `arr[seq]`. In the future this will be interpreted as an array index, `arr[np.array(seq)]`, which will result either in an error or a different result.\n",
      "  return (x > x_pad[inds1]) & (x >= x_pad[inds2])\n",
      "/home/nvidia/github/python_environments/soundflux/lib/python3.5/site-packages/librosa/core/pitch.py:159: DeprecationWarning: object of type <class 'numpy.float64'> cannot be safely interpreted as an integer.\n",
      "  bins = np.linspace(-0.5, 0.5, np.ceil(1./resolution), endpoint=False)\n",
      "/home/nvidia/github/python_environments/soundflux/lib/python3.5/site-packages/librosa/core/pitch.py:159: DeprecationWarning: object of type <class 'numpy.float64'> cannot be safely interpreted as an integer.\n",
      "  bins = np.linspace(-0.5, 0.5, np.ceil(1./resolution), endpoint=False)\n",
      "/home/nvidia/github/python_environments/soundflux/lib/python3.5/site-packages/librosa/core/pitch.py:159: DeprecationWarning: object of type <class 'numpy.float64'> cannot be safely interpreted as an integer.\n",
      "  bins = np.linspace(-0.5, 0.5, np.ceil(1./resolution), endpoint=False)\n"
     ]
    },
    {
     "name": "stdout",
     "output_type": "stream",
     "text": [
      "\n"
     ]
    },
    {
     "name": "stderr",
     "output_type": "stream",
     "text": [
      "/home/nvidia/github/python_environments/soundflux/lib/python3.5/site-packages/librosa/util/utils.py:828: FutureWarning: Using a non-tuple sequence for multidimensional indexing is deprecated; use `arr[tuple(seq)]` instead of `arr[seq]`. In the future this will be interpreted as an array index, `arr[np.array(seq)]`, which will result either in an error or a different result.\n",
      "  return (x > x_pad[inds1]) & (x >= x_pad[inds2])\n",
      "/home/nvidia/github/python_environments/soundflux/lib/python3.5/site-packages/librosa/core/pitch.py:159: DeprecationWarning: object of type <class 'numpy.float64'> cannot be safely interpreted as an integer.\n",
      "  bins = np.linspace(-0.5, 0.5, np.ceil(1./resolution), endpoint=False)\n",
      "/home/nvidia/github/python_environments/soundflux/lib/python3.5/site-packages/librosa/core/pitch.py:159: DeprecationWarning: object of type <class 'numpy.float64'> cannot be safely interpreted as an integer.\n",
      "  bins = np.linspace(-0.5, 0.5, np.ceil(1./resolution), endpoint=False)\n",
      "/home/nvidia/github/python_environments/soundflux/lib/python3.5/site-packages/librosa/core/pitch.py:159: DeprecationWarning: object of type <class 'numpy.float64'> cannot be safely interpreted as an integer.\n",
      "  bins = np.linspace(-0.5, 0.5, np.ceil(1./resolution), endpoint=False)\n",
      "/home/nvidia/github/python_environments/soundflux/lib/python3.5/site-packages/librosa/core/pitch.py:159: DeprecationWarning: object of type <class 'numpy.float64'> cannot be safely interpreted as an integer.\n",
      "  bins = np.linspace(-0.5, 0.5, np.ceil(1./resolution), endpoint=False)\n",
      "/home/nvidia/github/python_environments/soundflux/lib/python3.5/site-packages/librosa/core/pitch.py:159: DeprecationWarning: object of type <class 'numpy.float64'> cannot be safely interpreted as an integer.\n",
      "  bins = np.linspace(-0.5, 0.5, np.ceil(1./resolution), endpoint=False)\n"
     ]
    },
    {
     "name": "stdout",
     "output_type": "stream",
     "text": [
      "\n",
      "\n"
     ]
    },
    {
     "name": "stderr",
     "output_type": "stream",
     "text": [
      "/home/nvidia/github/python_environments/soundflux/lib/python3.5/site-packages/librosa/util/utils.py:828: FutureWarning: Using a non-tuple sequence for multidimensional indexing is deprecated; use `arr[tuple(seq)]` instead of `arr[seq]`. In the future this will be interpreted as an array index, `arr[np.array(seq)]`, which will result either in an error or a different result.\n",
      "  return (x > x_pad[inds1]) & (x >= x_pad[inds2])\n",
      "/home/nvidia/github/python_environments/soundflux/lib/python3.5/site-packages/librosa/core/pitch.py:159: DeprecationWarning: object of type <class 'numpy.float64'> cannot be safely interpreted as an integer.\n",
      "  bins = np.linspace(-0.5, 0.5, np.ceil(1./resolution), endpoint=False)\n",
      "/home/nvidia/github/python_environments/soundflux/lib/python3.5/site-packages/librosa/core/pitch.py:159: DeprecationWarning: object of type <class 'numpy.float64'> cannot be safely interpreted as an integer.\n",
      "  bins = np.linspace(-0.5, 0.5, np.ceil(1./resolution), endpoint=False)\n",
      "/home/nvidia/github/python_environments/soundflux/lib/python3.5/site-packages/librosa/core/pitch.py:159: DeprecationWarning: object of type <class 'numpy.float64'> cannot be safely interpreted as an integer.\n",
      "  bins = np.linspace(-0.5, 0.5, np.ceil(1./resolution), endpoint=False)\n",
      "/home/nvidia/github/python_environments/soundflux/lib/python3.5/site-packages/librosa/core/pitch.py:159: DeprecationWarning: object of type <class 'numpy.float64'> cannot be safely interpreted as an integer.\n",
      "  bins = np.linspace(-0.5, 0.5, np.ceil(1./resolution), endpoint=False)\n"
     ]
    },
    {
     "name": "stdout",
     "output_type": "stream",
     "text": [
      "\n",
      "\n"
     ]
    },
    {
     "name": "stderr",
     "output_type": "stream",
     "text": [
      "/home/nvidia/github/python_environments/soundflux/lib/python3.5/site-packages/librosa/util/utils.py:828: FutureWarning: Using a non-tuple sequence for multidimensional indexing is deprecated; use `arr[tuple(seq)]` instead of `arr[seq]`. In the future this will be interpreted as an array index, `arr[np.array(seq)]`, which will result either in an error or a different result.\n",
      "  return (x > x_pad[inds1]) & (x >= x_pad[inds2])\n",
      "/home/nvidia/github/python_environments/soundflux/lib/python3.5/site-packages/librosa/core/pitch.py:159: DeprecationWarning: object of type <class 'numpy.float64'> cannot be safely interpreted as an integer.\n",
      "  bins = np.linspace(-0.5, 0.5, np.ceil(1./resolution), endpoint=False)\n",
      "/home/nvidia/github/python_environments/soundflux/lib/python3.5/site-packages/librosa/core/pitch.py:159: DeprecationWarning: object of type <class 'numpy.float64'> cannot be safely interpreted as an integer.\n",
      "  bins = np.linspace(-0.5, 0.5, np.ceil(1./resolution), endpoint=False)\n",
      "/home/nvidia/github/python_environments/soundflux/lib/python3.5/site-packages/librosa/core/pitch.py:159: DeprecationWarning: object of type <class 'numpy.float64'> cannot be safely interpreted as an integer.\n",
      "  bins = np.linspace(-0.5, 0.5, np.ceil(1./resolution), endpoint=False)\n",
      "/home/nvidia/github/python_environments/soundflux/lib/python3.5/site-packages/librosa/core/pitch.py:159: DeprecationWarning: object of type <class 'numpy.float64'> cannot be safely interpreted as an integer.\n",
      "  bins = np.linspace(-0.5, 0.5, np.ceil(1./resolution), endpoint=False)\n"
     ]
    },
    {
     "name": "stdout",
     "output_type": "stream",
     "text": [
      "\n"
     ]
    },
    {
     "name": "stderr",
     "output_type": "stream",
     "text": [
      "/home/nvidia/github/python_environments/soundflux/lib/python3.5/site-packages/librosa/util/utils.py:828: FutureWarning: Using a non-tuple sequence for multidimensional indexing is deprecated; use `arr[tuple(seq)]` instead of `arr[seq]`. In the future this will be interpreted as an array index, `arr[np.array(seq)]`, which will result either in an error or a different result.\n",
      "  return (x > x_pad[inds1]) & (x >= x_pad[inds2])\n",
      "/home/nvidia/github/python_environments/soundflux/lib/python3.5/site-packages/librosa/core/pitch.py:159: DeprecationWarning: object of type <class 'numpy.float64'> cannot be safely interpreted as an integer.\n",
      "  bins = np.linspace(-0.5, 0.5, np.ceil(1./resolution), endpoint=False)\n"
     ]
    },
    {
     "name": "stdout",
     "output_type": "stream",
     "text": [
      "\n"
     ]
    },
    {
     "name": "stderr",
     "output_type": "stream",
     "text": [
      "/home/nvidia/github/python_environments/soundflux/lib/python3.5/site-packages/librosa/util/utils.py:828: FutureWarning: Using a non-tuple sequence for multidimensional indexing is deprecated; use `arr[tuple(seq)]` instead of `arr[seq]`. In the future this will be interpreted as an array index, `arr[np.array(seq)]`, which will result either in an error or a different result.\n",
      "  return (x > x_pad[inds1]) & (x >= x_pad[inds2])\n",
      "/home/nvidia/github/python_environments/soundflux/lib/python3.5/site-packages/librosa/core/pitch.py:159: DeprecationWarning: object of type <class 'numpy.float64'> cannot be safely interpreted as an integer.\n",
      "  bins = np.linspace(-0.5, 0.5, np.ceil(1./resolution), endpoint=False)\n",
      "/home/nvidia/github/python_environments/soundflux/lib/python3.5/site-packages/librosa/core/pitch.py:159: DeprecationWarning: object of type <class 'numpy.float64'> cannot be safely interpreted as an integer.\n",
      "  bins = np.linspace(-0.5, 0.5, np.ceil(1./resolution), endpoint=False)\n",
      "/home/nvidia/github/python_environments/soundflux/lib/python3.5/site-packages/librosa/core/pitch.py:159: DeprecationWarning: object of type <class 'numpy.float64'> cannot be safely interpreted as an integer.\n",
      "  bins = np.linspace(-0.5, 0.5, np.ceil(1./resolution), endpoint=False)\n",
      "/home/nvidia/github/python_environments/soundflux/lib/python3.5/site-packages/librosa/core/pitch.py:159: DeprecationWarning: object of type <class 'numpy.float64'> cannot be safely interpreted as an integer.\n",
      "  bins = np.linspace(-0.5, 0.5, np.ceil(1./resolution), endpoint=False)\n"
     ]
    },
    {
     "name": "stdout",
     "output_type": "stream",
     "text": [
      "\n",
      "\n"
     ]
    },
    {
     "name": "stderr",
     "output_type": "stream",
     "text": [
      "/home/nvidia/github/python_environments/soundflux/lib/python3.5/site-packages/librosa/util/utils.py:828: FutureWarning: Using a non-tuple sequence for multidimensional indexing is deprecated; use `arr[tuple(seq)]` instead of `arr[seq]`. In the future this will be interpreted as an array index, `arr[np.array(seq)]`, which will result either in an error or a different result.\n",
      "  return (x > x_pad[inds1]) & (x >= x_pad[inds2])\n",
      "/home/nvidia/github/python_environments/soundflux/lib/python3.5/site-packages/librosa/core/pitch.py:159: DeprecationWarning: object of type <class 'numpy.float64'> cannot be safely interpreted as an integer.\n",
      "  bins = np.linspace(-0.5, 0.5, np.ceil(1./resolution), endpoint=False)\n",
      "/home/nvidia/github/python_environments/soundflux/lib/python3.5/site-packages/librosa/core/pitch.py:159: DeprecationWarning: object of type <class 'numpy.float64'> cannot be safely interpreted as an integer.\n",
      "  bins = np.linspace(-0.5, 0.5, np.ceil(1./resolution), endpoint=False)\n",
      "/home/nvidia/github/python_environments/soundflux/lib/python3.5/site-packages/librosa/core/pitch.py:159: DeprecationWarning: object of type <class 'numpy.float64'> cannot be safely interpreted as an integer.\n",
      "  bins = np.linspace(-0.5, 0.5, np.ceil(1./resolution), endpoint=False)\n",
      "/home/nvidia/github/python_environments/soundflux/lib/python3.5/site-packages/librosa/core/pitch.py:159: DeprecationWarning: object of type <class 'numpy.float64'> cannot be safely interpreted as an integer.\n",
      "  bins = np.linspace(-0.5, 0.5, np.ceil(1./resolution), endpoint=False)\n",
      "/home/nvidia/github/python_environments/soundflux/lib/python3.5/site-packages/librosa/core/pitch.py:159: DeprecationWarning: object of type <class 'numpy.float64'> cannot be safely interpreted as an integer.\n",
      "  bins = np.linspace(-0.5, 0.5, np.ceil(1./resolution), endpoint=False)\n"
     ]
    },
    {
     "name": "stdout",
     "output_type": "stream",
     "text": [
      "\n"
     ]
    },
    {
     "name": "stderr",
     "output_type": "stream",
     "text": [
      "/home/nvidia/github/python_environments/soundflux/lib/python3.5/site-packages/librosa/util/utils.py:828: FutureWarning: Using a non-tuple sequence for multidimensional indexing is deprecated; use `arr[tuple(seq)]` instead of `arr[seq]`. In the future this will be interpreted as an array index, `arr[np.array(seq)]`, which will result either in an error or a different result.\n",
      "  return (x > x_pad[inds1]) & (x >= x_pad[inds2])\n",
      "/home/nvidia/github/python_environments/soundflux/lib/python3.5/site-packages/librosa/core/pitch.py:159: DeprecationWarning: object of type <class 'numpy.float64'> cannot be safely interpreted as an integer.\n",
      "  bins = np.linspace(-0.5, 0.5, np.ceil(1./resolution), endpoint=False)\n"
     ]
    },
    {
     "name": "stdout",
     "output_type": "stream",
     "text": [
      "\n",
      "\n"
     ]
    },
    {
     "name": "stderr",
     "output_type": "stream",
     "text": [
      "/home/nvidia/github/python_environments/soundflux/lib/python3.5/site-packages/librosa/util/utils.py:828: FutureWarning: Using a non-tuple sequence for multidimensional indexing is deprecated; use `arr[tuple(seq)]` instead of `arr[seq]`. In the future this will be interpreted as an array index, `arr[np.array(seq)]`, which will result either in an error or a different result.\n",
      "  return (x > x_pad[inds1]) & (x >= x_pad[inds2])\n",
      "/home/nvidia/github/python_environments/soundflux/lib/python3.5/site-packages/librosa/core/pitch.py:159: DeprecationWarning: object of type <class 'numpy.float64'> cannot be safely interpreted as an integer.\n",
      "  bins = np.linspace(-0.5, 0.5, np.ceil(1./resolution), endpoint=False)\n",
      "/home/nvidia/github/python_environments/soundflux/lib/python3.5/site-packages/librosa/core/pitch.py:159: DeprecationWarning: object of type <class 'numpy.float64'> cannot be safely interpreted as an integer.\n",
      "  bins = np.linspace(-0.5, 0.5, np.ceil(1./resolution), endpoint=False)\n",
      "/home/nvidia/github/python_environments/soundflux/lib/python3.5/site-packages/librosa/core/pitch.py:159: DeprecationWarning: object of type <class 'numpy.float64'> cannot be safely interpreted as an integer.\n",
      "  bins = np.linspace(-0.5, 0.5, np.ceil(1./resolution), endpoint=False)\n",
      "/home/nvidia/github/python_environments/soundflux/lib/python3.5/site-packages/librosa/core/pitch.py:159: DeprecationWarning: object of type <class 'numpy.float64'> cannot be safely interpreted as an integer.\n",
      "  bins = np.linspace(-0.5, 0.5, np.ceil(1./resolution), endpoint=False)\n",
      "/home/nvidia/github/python_environments/soundflux/lib/python3.5/site-packages/librosa/core/pitch.py:159: DeprecationWarning: object of type <class 'numpy.float64'> cannot be safely interpreted as an integer.\n",
      "  bins = np.linspace(-0.5, 0.5, np.ceil(1./resolution), endpoint=False)\n"
     ]
    },
    {
     "name": "stdout",
     "output_type": "stream",
     "text": [
      "\n"
     ]
    },
    {
     "name": "stderr",
     "output_type": "stream",
     "text": [
      "/home/nvidia/github/python_environments/soundflux/lib/python3.5/site-packages/librosa/util/utils.py:828: FutureWarning: Using a non-tuple sequence for multidimensional indexing is deprecated; use `arr[tuple(seq)]` instead of `arr[seq]`. In the future this will be interpreted as an array index, `arr[np.array(seq)]`, which will result either in an error or a different result.\n",
      "  return (x > x_pad[inds1]) & (x >= x_pad[inds2])\n",
      "/home/nvidia/github/python_environments/soundflux/lib/python3.5/site-packages/librosa/core/pitch.py:159: DeprecationWarning: object of type <class 'numpy.float64'> cannot be safely interpreted as an integer.\n",
      "  bins = np.linspace(-0.5, 0.5, np.ceil(1./resolution), endpoint=False)\n"
     ]
    },
    {
     "name": "stdout",
     "output_type": "stream",
     "text": [
      "\n",
      "\n"
     ]
    },
    {
     "name": "stderr",
     "output_type": "stream",
     "text": [
      "/home/nvidia/github/python_environments/soundflux/lib/python3.5/site-packages/librosa/util/utils.py:828: FutureWarning: Using a non-tuple sequence for multidimensional indexing is deprecated; use `arr[tuple(seq)]` instead of `arr[seq]`. In the future this will be interpreted as an array index, `arr[np.array(seq)]`, which will result either in an error or a different result.\n",
      "  return (x > x_pad[inds1]) & (x >= x_pad[inds2])\n",
      "/home/nvidia/github/python_environments/soundflux/lib/python3.5/site-packages/librosa/core/pitch.py:159: DeprecationWarning: object of type <class 'numpy.float64'> cannot be safely interpreted as an integer.\n",
      "  bins = np.linspace(-0.5, 0.5, np.ceil(1./resolution), endpoint=False)\n",
      "/home/nvidia/github/python_environments/soundflux/lib/python3.5/site-packages/librosa/core/pitch.py:159: DeprecationWarning: object of type <class 'numpy.float64'> cannot be safely interpreted as an integer.\n",
      "  bins = np.linspace(-0.5, 0.5, np.ceil(1./resolution), endpoint=False)\n",
      "/home/nvidia/github/python_environments/soundflux/lib/python3.5/site-packages/librosa/core/pitch.py:159: DeprecationWarning: object of type <class 'numpy.float64'> cannot be safely interpreted as an integer.\n",
      "  bins = np.linspace(-0.5, 0.5, np.ceil(1./resolution), endpoint=False)\n"
     ]
    },
    {
     "name": "stdout",
     "output_type": "stream",
     "text": [
      "\n"
     ]
    },
    {
     "name": "stderr",
     "output_type": "stream",
     "text": [
      "/home/nvidia/github/python_environments/soundflux/lib/python3.5/site-packages/librosa/util/utils.py:828: FutureWarning: Using a non-tuple sequence for multidimensional indexing is deprecated; use `arr[tuple(seq)]` instead of `arr[seq]`. In the future this will be interpreted as an array index, `arr[np.array(seq)]`, which will result either in an error or a different result.\n",
      "  return (x > x_pad[inds1]) & (x >= x_pad[inds2])\n",
      "/home/nvidia/github/python_environments/soundflux/lib/python3.5/site-packages/librosa/core/pitch.py:159: DeprecationWarning: object of type <class 'numpy.float64'> cannot be safely interpreted as an integer.\n",
      "  bins = np.linspace(-0.5, 0.5, np.ceil(1./resolution), endpoint=False)\n",
      "/home/nvidia/github/python_environments/soundflux/lib/python3.5/site-packages/librosa/core/pitch.py:159: DeprecationWarning: object of type <class 'numpy.float64'> cannot be safely interpreted as an integer.\n",
      "  bins = np.linspace(-0.5, 0.5, np.ceil(1./resolution), endpoint=False)\n",
      "/home/nvidia/github/python_environments/soundflux/lib/python3.5/site-packages/librosa/core/pitch.py:159: DeprecationWarning: object of type <class 'numpy.float64'> cannot be safely interpreted as an integer.\n",
      "  bins = np.linspace(-0.5, 0.5, np.ceil(1./resolution), endpoint=False)\n",
      "/home/nvidia/github/python_environments/soundflux/lib/python3.5/site-packages/librosa/core/pitch.py:159: DeprecationWarning: object of type <class 'numpy.float64'> cannot be safely interpreted as an integer.\n",
      "  bins = np.linspace(-0.5, 0.5, np.ceil(1./resolution), endpoint=False)\n",
      "/home/nvidia/github/python_environments/soundflux/lib/python3.5/site-packages/librosa/core/pitch.py:159: DeprecationWarning: object of type <class 'numpy.float64'> cannot be safely interpreted as an integer.\n",
      "  bins = np.linspace(-0.5, 0.5, np.ceil(1./resolution), endpoint=False)\n"
     ]
    },
    {
     "name": "stdout",
     "output_type": "stream",
     "text": [
      "\n",
      "\n",
      "\n"
     ]
    },
    {
     "name": "stderr",
     "output_type": "stream",
     "text": [
      "/home/nvidia/github/python_environments/soundflux/lib/python3.5/site-packages/librosa/util/utils.py:828: FutureWarning: Using a non-tuple sequence for multidimensional indexing is deprecated; use `arr[tuple(seq)]` instead of `arr[seq]`. In the future this will be interpreted as an array index, `arr[np.array(seq)]`, which will result either in an error or a different result.\n",
      "  return (x > x_pad[inds1]) & (x >= x_pad[inds2])\n",
      "/home/nvidia/github/python_environments/soundflux/lib/python3.5/site-packages/librosa/core/pitch.py:159: DeprecationWarning: object of type <class 'numpy.float64'> cannot be safely interpreted as an integer.\n",
      "  bins = np.linspace(-0.5, 0.5, np.ceil(1./resolution), endpoint=False)\n"
     ]
    },
    {
     "name": "stdout",
     "output_type": "stream",
     "text": [
      "\n",
      "\n"
     ]
    },
    {
     "name": "stderr",
     "output_type": "stream",
     "text": [
      "/home/nvidia/github/python_environments/soundflux/lib/python3.5/site-packages/librosa/util/utils.py:828: FutureWarning: Using a non-tuple sequence for multidimensional indexing is deprecated; use `arr[tuple(seq)]` instead of `arr[seq]`. In the future this will be interpreted as an array index, `arr[np.array(seq)]`, which will result either in an error or a different result.\n",
      "  return (x > x_pad[inds1]) & (x >= x_pad[inds2])\n",
      "/home/nvidia/github/python_environments/soundflux/lib/python3.5/site-packages/librosa/core/pitch.py:159: DeprecationWarning: object of type <class 'numpy.float64'> cannot be safely interpreted as an integer.\n",
      "  bins = np.linspace(-0.5, 0.5, np.ceil(1./resolution), endpoint=False)\n",
      "/home/nvidia/github/python_environments/soundflux/lib/python3.5/site-packages/librosa/core/pitch.py:159: DeprecationWarning: object of type <class 'numpy.float64'> cannot be safely interpreted as an integer.\n",
      "  bins = np.linspace(-0.5, 0.5, np.ceil(1./resolution), endpoint=False)\n",
      "/home/nvidia/github/python_environments/soundflux/lib/python3.5/site-packages/librosa/core/pitch.py:159: DeprecationWarning: object of type <class 'numpy.float64'> cannot be safely interpreted as an integer.\n",
      "  bins = np.linspace(-0.5, 0.5, np.ceil(1./resolution), endpoint=False)\n",
      "/home/nvidia/github/python_environments/soundflux/lib/python3.5/site-packages/librosa/core/pitch.py:159: DeprecationWarning: object of type <class 'numpy.float64'> cannot be safely interpreted as an integer.\n",
      "  bins = np.linspace(-0.5, 0.5, np.ceil(1./resolution), endpoint=False)\n",
      "/home/nvidia/github/python_environments/soundflux/lib/python3.5/site-packages/librosa/core/pitch.py:159: DeprecationWarning: object of type <class 'numpy.float64'> cannot be safely interpreted as an integer.\n",
      "  bins = np.linspace(-0.5, 0.5, np.ceil(1./resolution), endpoint=False)\n",
      "/home/nvidia/github/python_environments/soundflux/lib/python3.5/site-packages/librosa/core/pitch.py:159: DeprecationWarning: object of type <class 'numpy.float64'> cannot be safely interpreted as an integer.\n",
      "  bins = np.linspace(-0.5, 0.5, np.ceil(1./resolution), endpoint=False)\n",
      "/home/nvidia/github/python_environments/soundflux/lib/python3.5/site-packages/librosa/core/pitch.py:159: DeprecationWarning: object of type <class 'numpy.float64'> cannot be safely interpreted as an integer.\n",
      "  bins = np.linspace(-0.5, 0.5, np.ceil(1./resolution), endpoint=False)\n",
      "/home/nvidia/github/python_environments/soundflux/lib/python3.5/site-packages/librosa/core/pitch.py:159: DeprecationWarning: object of type <class 'numpy.float64'> cannot be safely interpreted as an integer.\n",
      "  bins = np.linspace(-0.5, 0.5, np.ceil(1./resolution), endpoint=False)\n",
      "/home/nvidia/github/python_environments/soundflux/lib/python3.5/site-packages/librosa/core/pitch.py:159: DeprecationWarning: object of type <class 'numpy.float64'> cannot be safely interpreted as an integer.\n",
      "  bins = np.linspace(-0.5, 0.5, np.ceil(1./resolution), endpoint=False)\n"
     ]
    },
    {
     "name": "stdout",
     "output_type": "stream",
     "text": [
      "\n",
      "\n"
     ]
    },
    {
     "name": "stderr",
     "output_type": "stream",
     "text": [
      "/home/nvidia/github/python_environments/soundflux/lib/python3.5/site-packages/librosa/util/utils.py:828: FutureWarning: Using a non-tuple sequence for multidimensional indexing is deprecated; use `arr[tuple(seq)]` instead of `arr[seq]`. In the future this will be interpreted as an array index, `arr[np.array(seq)]`, which will result either in an error or a different result.\n",
      "  return (x > x_pad[inds1]) & (x >= x_pad[inds2])\n",
      "/home/nvidia/github/python_environments/soundflux/lib/python3.5/site-packages/librosa/core/pitch.py:159: DeprecationWarning: object of type <class 'numpy.float64'> cannot be safely interpreted as an integer.\n",
      "  bins = np.linspace(-0.5, 0.5, np.ceil(1./resolution), endpoint=False)\n"
     ]
    },
    {
     "name": "stdout",
     "output_type": "stream",
     "text": [
      "\n"
     ]
    },
    {
     "name": "stderr",
     "output_type": "stream",
     "text": [
      "/home/nvidia/github/python_environments/soundflux/lib/python3.5/site-packages/librosa/util/utils.py:828: FutureWarning: Using a non-tuple sequence for multidimensional indexing is deprecated; use `arr[tuple(seq)]` instead of `arr[seq]`. In the future this will be interpreted as an array index, `arr[np.array(seq)]`, which will result either in an error or a different result.\n",
      "  return (x > x_pad[inds1]) & (x >= x_pad[inds2])\n",
      "/home/nvidia/github/python_environments/soundflux/lib/python3.5/site-packages/librosa/core/pitch.py:159: DeprecationWarning: object of type <class 'numpy.float64'> cannot be safely interpreted as an integer.\n",
      "  bins = np.linspace(-0.5, 0.5, np.ceil(1./resolution), endpoint=False)\n"
     ]
    },
    {
     "name": "stdout",
     "output_type": "stream",
     "text": [
      "\n"
     ]
    },
    {
     "name": "stderr",
     "output_type": "stream",
     "text": [
      "/home/nvidia/github/python_environments/soundflux/lib/python3.5/site-packages/librosa/util/utils.py:828: FutureWarning: Using a non-tuple sequence for multidimensional indexing is deprecated; use `arr[tuple(seq)]` instead of `arr[seq]`. In the future this will be interpreted as an array index, `arr[np.array(seq)]`, which will result either in an error or a different result.\n",
      "  return (x > x_pad[inds1]) & (x >= x_pad[inds2])\n",
      "/home/nvidia/github/python_environments/soundflux/lib/python3.5/site-packages/librosa/core/pitch.py:159: DeprecationWarning: object of type <class 'numpy.float64'> cannot be safely interpreted as an integer.\n",
      "  bins = np.linspace(-0.5, 0.5, np.ceil(1./resolution), endpoint=False)\n",
      "/home/nvidia/github/python_environments/soundflux/lib/python3.5/site-packages/librosa/core/pitch.py:159: DeprecationWarning: object of type <class 'numpy.float64'> cannot be safely interpreted as an integer.\n",
      "  bins = np.linspace(-0.5, 0.5, np.ceil(1./resolution), endpoint=False)\n",
      "/home/nvidia/github/python_environments/soundflux/lib/python3.5/site-packages/librosa/core/pitch.py:159: DeprecationWarning: object of type <class 'numpy.float64'> cannot be safely interpreted as an integer.\n",
      "  bins = np.linspace(-0.5, 0.5, np.ceil(1./resolution), endpoint=False)\n",
      "/home/nvidia/github/python_environments/soundflux/lib/python3.5/site-packages/librosa/core/pitch.py:159: DeprecationWarning: object of type <class 'numpy.float64'> cannot be safely interpreted as an integer.\n",
      "  bins = np.linspace(-0.5, 0.5, np.ceil(1./resolution), endpoint=False)\n"
     ]
    },
    {
     "name": "stdout",
     "output_type": "stream",
     "text": [
      "\n"
     ]
    },
    {
     "name": "stderr",
     "output_type": "stream",
     "text": [
      "/home/nvidia/github/python_environments/soundflux/lib/python3.5/site-packages/librosa/util/utils.py:828: FutureWarning: Using a non-tuple sequence for multidimensional indexing is deprecated; use `arr[tuple(seq)]` instead of `arr[seq]`. In the future this will be interpreted as an array index, `arr[np.array(seq)]`, which will result either in an error or a different result.\n",
      "  return (x > x_pad[inds1]) & (x >= x_pad[inds2])\n",
      "/home/nvidia/github/python_environments/soundflux/lib/python3.5/site-packages/librosa/core/pitch.py:159: DeprecationWarning: object of type <class 'numpy.float64'> cannot be safely interpreted as an integer.\n",
      "  bins = np.linspace(-0.5, 0.5, np.ceil(1./resolution), endpoint=False)\n",
      "/home/nvidia/github/python_environments/soundflux/lib/python3.5/site-packages/librosa/core/pitch.py:159: DeprecationWarning: object of type <class 'numpy.float64'> cannot be safely interpreted as an integer.\n",
      "  bins = np.linspace(-0.5, 0.5, np.ceil(1./resolution), endpoint=False)\n",
      "/home/nvidia/github/python_environments/soundflux/lib/python3.5/site-packages/librosa/core/pitch.py:159: DeprecationWarning: object of type <class 'numpy.float64'> cannot be safely interpreted as an integer.\n",
      "  bins = np.linspace(-0.5, 0.5, np.ceil(1./resolution), endpoint=False)\n"
     ]
    },
    {
     "name": "stdout",
     "output_type": "stream",
     "text": [
      "\n",
      "\n"
     ]
    },
    {
     "name": "stderr",
     "output_type": "stream",
     "text": [
      "/home/nvidia/github/python_environments/soundflux/lib/python3.5/site-packages/librosa/util/utils.py:828: FutureWarning: Using a non-tuple sequence for multidimensional indexing is deprecated; use `arr[tuple(seq)]` instead of `arr[seq]`. In the future this will be interpreted as an array index, `arr[np.array(seq)]`, which will result either in an error or a different result.\n",
      "  return (x > x_pad[inds1]) & (x >= x_pad[inds2])\n",
      "/home/nvidia/github/python_environments/soundflux/lib/python3.5/site-packages/librosa/core/pitch.py:159: DeprecationWarning: object of type <class 'numpy.float64'> cannot be safely interpreted as an integer.\n",
      "  bins = np.linspace(-0.5, 0.5, np.ceil(1./resolution), endpoint=False)\n"
     ]
    },
    {
     "name": "stdout",
     "output_type": "stream",
     "text": [
      "\n",
      "\n",
      "\n",
      "\n"
     ]
    },
    {
     "name": "stderr",
     "output_type": "stream",
     "text": [
      "/home/nvidia/github/python_environments/soundflux/lib/python3.5/site-packages/librosa/util/utils.py:828: FutureWarning: Using a non-tuple sequence for multidimensional indexing is deprecated; use `arr[tuple(seq)]` instead of `arr[seq]`. In the future this will be interpreted as an array index, `arr[np.array(seq)]`, which will result either in an error or a different result.\n",
      "  return (x > x_pad[inds1]) & (x >= x_pad[inds2])\n",
      "/home/nvidia/github/python_environments/soundflux/lib/python3.5/site-packages/librosa/core/pitch.py:159: DeprecationWarning: object of type <class 'numpy.float64'> cannot be safely interpreted as an integer.\n",
      "  bins = np.linspace(-0.5, 0.5, np.ceil(1./resolution), endpoint=False)\n"
     ]
    },
    {
     "name": "stdout",
     "output_type": "stream",
     "text": [
      "\n"
     ]
    },
    {
     "name": "stderr",
     "output_type": "stream",
     "text": [
      "/home/nvidia/github/python_environments/soundflux/lib/python3.5/site-packages/librosa/util/utils.py:828: FutureWarning: Using a non-tuple sequence for multidimensional indexing is deprecated; use `arr[tuple(seq)]` instead of `arr[seq]`. In the future this will be interpreted as an array index, `arr[np.array(seq)]`, which will result either in an error or a different result.\n",
      "  return (x > x_pad[inds1]) & (x >= x_pad[inds2])\n",
      "/home/nvidia/github/python_environments/soundflux/lib/python3.5/site-packages/librosa/core/pitch.py:159: DeprecationWarning: object of type <class 'numpy.float64'> cannot be safely interpreted as an integer.\n",
      "  bins = np.linspace(-0.5, 0.5, np.ceil(1./resolution), endpoint=False)\n",
      "/home/nvidia/github/python_environments/soundflux/lib/python3.5/site-packages/librosa/core/pitch.py:159: DeprecationWarning: object of type <class 'numpy.float64'> cannot be safely interpreted as an integer.\n",
      "  bins = np.linspace(-0.5, 0.5, np.ceil(1./resolution), endpoint=False)\n",
      "/home/nvidia/github/python_environments/soundflux/lib/python3.5/site-packages/librosa/core/pitch.py:159: DeprecationWarning: object of type <class 'numpy.float64'> cannot be safely interpreted as an integer.\n",
      "  bins = np.linspace(-0.5, 0.5, np.ceil(1./resolution), endpoint=False)\n",
      "/home/nvidia/github/python_environments/soundflux/lib/python3.5/site-packages/librosa/core/pitch.py:159: DeprecationWarning: object of type <class 'numpy.float64'> cannot be safely interpreted as an integer.\n",
      "  bins = np.linspace(-0.5, 0.5, np.ceil(1./resolution), endpoint=False)\n",
      "/home/nvidia/github/python_environments/soundflux/lib/python3.5/site-packages/librosa/core/pitch.py:159: DeprecationWarning: object of type <class 'numpy.float64'> cannot be safely interpreted as an integer.\n",
      "  bins = np.linspace(-0.5, 0.5, np.ceil(1./resolution), endpoint=False)\n"
     ]
    },
    {
     "name": "stdout",
     "output_type": "stream",
     "text": [
      "\n"
     ]
    },
    {
     "name": "stderr",
     "output_type": "stream",
     "text": [
      "/home/nvidia/github/python_environments/soundflux/lib/python3.5/site-packages/librosa/util/utils.py:828: FutureWarning: Using a non-tuple sequence for multidimensional indexing is deprecated; use `arr[tuple(seq)]` instead of `arr[seq]`. In the future this will be interpreted as an array index, `arr[np.array(seq)]`, which will result either in an error or a different result.\n",
      "  return (x > x_pad[inds1]) & (x >= x_pad[inds2])\n",
      "/home/nvidia/github/python_environments/soundflux/lib/python3.5/site-packages/librosa/core/pitch.py:159: DeprecationWarning: object of type <class 'numpy.float64'> cannot be safely interpreted as an integer.\n",
      "  bins = np.linspace(-0.5, 0.5, np.ceil(1./resolution), endpoint=False)\n",
      "/home/nvidia/github/python_environments/soundflux/lib/python3.5/site-packages/librosa/core/pitch.py:159: DeprecationWarning: object of type <class 'numpy.float64'> cannot be safely interpreted as an integer.\n",
      "  bins = np.linspace(-0.5, 0.5, np.ceil(1./resolution), endpoint=False)\n"
     ]
    },
    {
     "name": "stdout",
     "output_type": "stream",
     "text": [
      "\n",
      "\n",
      "\n",
      "\n"
     ]
    },
    {
     "name": "stderr",
     "output_type": "stream",
     "text": [
      "/home/nvidia/github/python_environments/soundflux/lib/python3.5/site-packages/librosa/util/utils.py:828: FutureWarning: Using a non-tuple sequence for multidimensional indexing is deprecated; use `arr[tuple(seq)]` instead of `arr[seq]`. In the future this will be interpreted as an array index, `arr[np.array(seq)]`, which will result either in an error or a different result.\n",
      "  return (x > x_pad[inds1]) & (x >= x_pad[inds2])\n",
      "/home/nvidia/github/python_environments/soundflux/lib/python3.5/site-packages/librosa/core/pitch.py:159: DeprecationWarning: object of type <class 'numpy.float64'> cannot be safely interpreted as an integer.\n",
      "  bins = np.linspace(-0.5, 0.5, np.ceil(1./resolution), endpoint=False)\n"
     ]
    },
    {
     "name": "stdout",
     "output_type": "stream",
     "text": [
      "\n",
      "\n",
      "\n"
     ]
    },
    {
     "name": "stderr",
     "output_type": "stream",
     "text": [
      "/home/nvidia/github/python_environments/soundflux/lib/python3.5/site-packages/librosa/util/utils.py:828: FutureWarning: Using a non-tuple sequence for multidimensional indexing is deprecated; use `arr[tuple(seq)]` instead of `arr[seq]`. In the future this will be interpreted as an array index, `arr[np.array(seq)]`, which will result either in an error or a different result.\n",
      "  return (x > x_pad[inds1]) & (x >= x_pad[inds2])\n",
      "/home/nvidia/github/python_environments/soundflux/lib/python3.5/site-packages/librosa/core/pitch.py:159: DeprecationWarning: object of type <class 'numpy.float64'> cannot be safely interpreted as an integer.\n",
      "  bins = np.linspace(-0.5, 0.5, np.ceil(1./resolution), endpoint=False)\n"
     ]
    },
    {
     "name": "stdout",
     "output_type": "stream",
     "text": [
      "\n"
     ]
    },
    {
     "name": "stderr",
     "output_type": "stream",
     "text": [
      "/home/nvidia/github/python_environments/soundflux/lib/python3.5/site-packages/librosa/util/utils.py:828: FutureWarning: Using a non-tuple sequence for multidimensional indexing is deprecated; use `arr[tuple(seq)]` instead of `arr[seq]`. In the future this will be interpreted as an array index, `arr[np.array(seq)]`, which will result either in an error or a different result.\n",
      "  return (x > x_pad[inds1]) & (x >= x_pad[inds2])\n",
      "/home/nvidia/github/python_environments/soundflux/lib/python3.5/site-packages/librosa/core/pitch.py:159: DeprecationWarning: object of type <class 'numpy.float64'> cannot be safely interpreted as an integer.\n",
      "  bins = np.linspace(-0.5, 0.5, np.ceil(1./resolution), endpoint=False)\n",
      "/home/nvidia/github/python_environments/soundflux/lib/python3.5/site-packages/librosa/core/pitch.py:159: DeprecationWarning: object of type <class 'numpy.float64'> cannot be safely interpreted as an integer.\n",
      "  bins = np.linspace(-0.5, 0.5, np.ceil(1./resolution), endpoint=False)\n",
      "/home/nvidia/github/python_environments/soundflux/lib/python3.5/site-packages/librosa/core/pitch.py:159: DeprecationWarning: object of type <class 'numpy.float64'> cannot be safely interpreted as an integer.\n",
      "  bins = np.linspace(-0.5, 0.5, np.ceil(1./resolution), endpoint=False)\n",
      "/home/nvidia/github/python_environments/soundflux/lib/python3.5/site-packages/librosa/core/pitch.py:159: DeprecationWarning: object of type <class 'numpy.float64'> cannot be safely interpreted as an integer.\n",
      "  bins = np.linspace(-0.5, 0.5, np.ceil(1./resolution), endpoint=False)\n"
     ]
    },
    {
     "name": "stdout",
     "output_type": "stream",
     "text": [
      "\n"
     ]
    },
    {
     "name": "stderr",
     "output_type": "stream",
     "text": [
      "/home/nvidia/github/python_environments/soundflux/lib/python3.5/site-packages/librosa/util/utils.py:828: FutureWarning: Using a non-tuple sequence for multidimensional indexing is deprecated; use `arr[tuple(seq)]` instead of `arr[seq]`. In the future this will be interpreted as an array index, `arr[np.array(seq)]`, which will result either in an error or a different result.\n",
      "  return (x > x_pad[inds1]) & (x >= x_pad[inds2])\n",
      "/home/nvidia/github/python_environments/soundflux/lib/python3.5/site-packages/librosa/core/pitch.py:159: DeprecationWarning: object of type <class 'numpy.float64'> cannot be safely interpreted as an integer.\n",
      "  bins = np.linspace(-0.5, 0.5, np.ceil(1./resolution), endpoint=False)\n"
     ]
    },
    {
     "name": "stdout",
     "output_type": "stream",
     "text": [
      "\n"
     ]
    },
    {
     "name": "stderr",
     "output_type": "stream",
     "text": [
      "/home/nvidia/github/python_environments/soundflux/lib/python3.5/site-packages/librosa/util/utils.py:828: FutureWarning: Using a non-tuple sequence for multidimensional indexing is deprecated; use `arr[tuple(seq)]` instead of `arr[seq]`. In the future this will be interpreted as an array index, `arr[np.array(seq)]`, which will result either in an error or a different result.\n",
      "  return (x > x_pad[inds1]) & (x >= x_pad[inds2])\n",
      "/home/nvidia/github/python_environments/soundflux/lib/python3.5/site-packages/librosa/core/pitch.py:159: DeprecationWarning: object of type <class 'numpy.float64'> cannot be safely interpreted as an integer.\n",
      "  bins = np.linspace(-0.5, 0.5, np.ceil(1./resolution), endpoint=False)\n",
      "/home/nvidia/github/python_environments/soundflux/lib/python3.5/site-packages/librosa/core/pitch.py:159: DeprecationWarning: object of type <class 'numpy.float64'> cannot be safely interpreted as an integer.\n",
      "  bins = np.linspace(-0.5, 0.5, np.ceil(1./resolution), endpoint=False)\n"
     ]
    },
    {
     "name": "stdout",
     "output_type": "stream",
     "text": [
      "\n"
     ]
    },
    {
     "name": "stderr",
     "output_type": "stream",
     "text": [
      "/home/nvidia/github/python_environments/soundflux/lib/python3.5/site-packages/librosa/util/utils.py:828: FutureWarning: Using a non-tuple sequence for multidimensional indexing is deprecated; use `arr[tuple(seq)]` instead of `arr[seq]`. In the future this will be interpreted as an array index, `arr[np.array(seq)]`, which will result either in an error or a different result.\n",
      "  return (x > x_pad[inds1]) & (x >= x_pad[inds2])\n",
      "/home/nvidia/github/python_environments/soundflux/lib/python3.5/site-packages/librosa/core/pitch.py:159: DeprecationWarning: object of type <class 'numpy.float64'> cannot be safely interpreted as an integer.\n",
      "  bins = np.linspace(-0.5, 0.5, np.ceil(1./resolution), endpoint=False)\n"
     ]
    },
    {
     "name": "stdout",
     "output_type": "stream",
     "text": [
      "\n",
      "\n"
     ]
    },
    {
     "name": "stderr",
     "output_type": "stream",
     "text": [
      "/home/nvidia/github/python_environments/soundflux/lib/python3.5/site-packages/librosa/util/utils.py:828: FutureWarning: Using a non-tuple sequence for multidimensional indexing is deprecated; use `arr[tuple(seq)]` instead of `arr[seq]`. In the future this will be interpreted as an array index, `arr[np.array(seq)]`, which will result either in an error or a different result.\n",
      "  return (x > x_pad[inds1]) & (x >= x_pad[inds2])\n",
      "/home/nvidia/github/python_environments/soundflux/lib/python3.5/site-packages/librosa/core/pitch.py:159: DeprecationWarning: object of type <class 'numpy.float64'> cannot be safely interpreted as an integer.\n",
      "  bins = np.linspace(-0.5, 0.5, np.ceil(1./resolution), endpoint=False)\n",
      "/home/nvidia/github/python_environments/soundflux/lib/python3.5/site-packages/librosa/core/pitch.py:159: DeprecationWarning: object of type <class 'numpy.float64'> cannot be safely interpreted as an integer.\n",
      "  bins = np.linspace(-0.5, 0.5, np.ceil(1./resolution), endpoint=False)\n",
      "/home/nvidia/github/python_environments/soundflux/lib/python3.5/site-packages/librosa/core/pitch.py:159: DeprecationWarning: object of type <class 'numpy.float64'> cannot be safely interpreted as an integer.\n",
      "  bins = np.linspace(-0.5, 0.5, np.ceil(1./resolution), endpoint=False)\n",
      "/home/nvidia/github/python_environments/soundflux/lib/python3.5/site-packages/librosa/core/pitch.py:159: DeprecationWarning: object of type <class 'numpy.float64'> cannot be safely interpreted as an integer.\n",
      "  bins = np.linspace(-0.5, 0.5, np.ceil(1./resolution), endpoint=False)\n"
     ]
    },
    {
     "name": "stdout",
     "output_type": "stream",
     "text": [
      "\n"
     ]
    },
    {
     "name": "stderr",
     "output_type": "stream",
     "text": [
      "/home/nvidia/github/python_environments/soundflux/lib/python3.5/site-packages/librosa/util/utils.py:828: FutureWarning: Using a non-tuple sequence for multidimensional indexing is deprecated; use `arr[tuple(seq)]` instead of `arr[seq]`. In the future this will be interpreted as an array index, `arr[np.array(seq)]`, which will result either in an error or a different result.\n",
      "  return (x > x_pad[inds1]) & (x >= x_pad[inds2])\n",
      "/home/nvidia/github/python_environments/soundflux/lib/python3.5/site-packages/librosa/core/pitch.py:159: DeprecationWarning: object of type <class 'numpy.float64'> cannot be safely interpreted as an integer.\n",
      "  bins = np.linspace(-0.5, 0.5, np.ceil(1./resolution), endpoint=False)\n"
     ]
    },
    {
     "name": "stdout",
     "output_type": "stream",
     "text": [
      "\n",
      "\n",
      "\n"
     ]
    },
    {
     "name": "stderr",
     "output_type": "stream",
     "text": [
      "/home/nvidia/github/python_environments/soundflux/lib/python3.5/site-packages/librosa/util/utils.py:828: FutureWarning: Using a non-tuple sequence for multidimensional indexing is deprecated; use `arr[tuple(seq)]` instead of `arr[seq]`. In the future this will be interpreted as an array index, `arr[np.array(seq)]`, which will result either in an error or a different result.\n",
      "  return (x > x_pad[inds1]) & (x >= x_pad[inds2])\n",
      "/home/nvidia/github/python_environments/soundflux/lib/python3.5/site-packages/librosa/core/pitch.py:159: DeprecationWarning: object of type <class 'numpy.float64'> cannot be safely interpreted as an integer.\n",
      "  bins = np.linspace(-0.5, 0.5, np.ceil(1./resolution), endpoint=False)\n",
      "/home/nvidia/github/python_environments/soundflux/lib/python3.5/site-packages/librosa/core/pitch.py:159: DeprecationWarning: object of type <class 'numpy.float64'> cannot be safely interpreted as an integer.\n",
      "  bins = np.linspace(-0.5, 0.5, np.ceil(1./resolution), endpoint=False)\n",
      "/home/nvidia/github/python_environments/soundflux/lib/python3.5/site-packages/librosa/core/pitch.py:159: DeprecationWarning: object of type <class 'numpy.float64'> cannot be safely interpreted as an integer.\n",
      "  bins = np.linspace(-0.5, 0.5, np.ceil(1./resolution), endpoint=False)\n"
     ]
    },
    {
     "name": "stdout",
     "output_type": "stream",
     "text": [
      "\n"
     ]
    },
    {
     "name": "stderr",
     "output_type": "stream",
     "text": [
      "/home/nvidia/github/python_environments/soundflux/lib/python3.5/site-packages/librosa/util/utils.py:828: FutureWarning: Using a non-tuple sequence for multidimensional indexing is deprecated; use `arr[tuple(seq)]` instead of `arr[seq]`. In the future this will be interpreted as an array index, `arr[np.array(seq)]`, which will result either in an error or a different result.\n",
      "  return (x > x_pad[inds1]) & (x >= x_pad[inds2])\n",
      "/home/nvidia/github/python_environments/soundflux/lib/python3.5/site-packages/librosa/core/pitch.py:159: DeprecationWarning: object of type <class 'numpy.float64'> cannot be safely interpreted as an integer.\n",
      "  bins = np.linspace(-0.5, 0.5, np.ceil(1./resolution), endpoint=False)\n"
     ]
    },
    {
     "name": "stdout",
     "output_type": "stream",
     "text": [
      "\n",
      "\n"
     ]
    },
    {
     "name": "stderr",
     "output_type": "stream",
     "text": [
      "/home/nvidia/github/python_environments/soundflux/lib/python3.5/site-packages/librosa/util/utils.py:828: FutureWarning: Using a non-tuple sequence for multidimensional indexing is deprecated; use `arr[tuple(seq)]` instead of `arr[seq]`. In the future this will be interpreted as an array index, `arr[np.array(seq)]`, which will result either in an error or a different result.\n",
      "  return (x > x_pad[inds1]) & (x >= x_pad[inds2])\n",
      "/home/nvidia/github/python_environments/soundflux/lib/python3.5/site-packages/librosa/core/pitch.py:159: DeprecationWarning: object of type <class 'numpy.float64'> cannot be safely interpreted as an integer.\n",
      "  bins = np.linspace(-0.5, 0.5, np.ceil(1./resolution), endpoint=False)\n",
      "/home/nvidia/github/python_environments/soundflux/lib/python3.5/site-packages/librosa/core/pitch.py:159: DeprecationWarning: object of type <class 'numpy.float64'> cannot be safely interpreted as an integer.\n",
      "  bins = np.linspace(-0.5, 0.5, np.ceil(1./resolution), endpoint=False)\n"
     ]
    },
    {
     "name": "stdout",
     "output_type": "stream",
     "text": [
      "\n"
     ]
    },
    {
     "name": "stderr",
     "output_type": "stream",
     "text": [
      "/home/nvidia/github/python_environments/soundflux/lib/python3.5/site-packages/librosa/util/utils.py:828: FutureWarning: Using a non-tuple sequence for multidimensional indexing is deprecated; use `arr[tuple(seq)]` instead of `arr[seq]`. In the future this will be interpreted as an array index, `arr[np.array(seq)]`, which will result either in an error or a different result.\n",
      "  return (x > x_pad[inds1]) & (x >= x_pad[inds2])\n",
      "/home/nvidia/github/python_environments/soundflux/lib/python3.5/site-packages/librosa/core/pitch.py:159: DeprecationWarning: object of type <class 'numpy.float64'> cannot be safely interpreted as an integer.\n",
      "  bins = np.linspace(-0.5, 0.5, np.ceil(1./resolution), endpoint=False)\n",
      "/home/nvidia/github/python_environments/soundflux/lib/python3.5/site-packages/librosa/core/pitch.py:159: DeprecationWarning: object of type <class 'numpy.float64'> cannot be safely interpreted as an integer.\n",
      "  bins = np.linspace(-0.5, 0.5, np.ceil(1./resolution), endpoint=False)\n",
      "/home/nvidia/github/python_environments/soundflux/lib/python3.5/site-packages/librosa/core/pitch.py:159: DeprecationWarning: object of type <class 'numpy.float64'> cannot be safely interpreted as an integer.\n",
      "  bins = np.linspace(-0.5, 0.5, np.ceil(1./resolution), endpoint=False)\n",
      "/home/nvidia/github/python_environments/soundflux/lib/python3.5/site-packages/librosa/core/pitch.py:159: DeprecationWarning: object of type <class 'numpy.float64'> cannot be safely interpreted as an integer.\n",
      "  bins = np.linspace(-0.5, 0.5, np.ceil(1./resolution), endpoint=False)\n"
     ]
    },
    {
     "name": "stdout",
     "output_type": "stream",
     "text": [
      "\n",
      "\n"
     ]
    },
    {
     "name": "stderr",
     "output_type": "stream",
     "text": [
      "/home/nvidia/github/python_environments/soundflux/lib/python3.5/site-packages/librosa/util/utils.py:828: FutureWarning: Using a non-tuple sequence for multidimensional indexing is deprecated; use `arr[tuple(seq)]` instead of `arr[seq]`. In the future this will be interpreted as an array index, `arr[np.array(seq)]`, which will result either in an error or a different result.\n",
      "  return (x > x_pad[inds1]) & (x >= x_pad[inds2])\n",
      "/home/nvidia/github/python_environments/soundflux/lib/python3.5/site-packages/librosa/core/pitch.py:159: DeprecationWarning: object of type <class 'numpy.float64'> cannot be safely interpreted as an integer.\n",
      "  bins = np.linspace(-0.5, 0.5, np.ceil(1./resolution), endpoint=False)\n"
     ]
    },
    {
     "name": "stdout",
     "output_type": "stream",
     "text": [
      "\n"
     ]
    },
    {
     "name": "stderr",
     "output_type": "stream",
     "text": [
      "/home/nvidia/github/python_environments/soundflux/lib/python3.5/site-packages/librosa/util/utils.py:828: FutureWarning: Using a non-tuple sequence for multidimensional indexing is deprecated; use `arr[tuple(seq)]` instead of `arr[seq]`. In the future this will be interpreted as an array index, `arr[np.array(seq)]`, which will result either in an error or a different result.\n",
      "  return (x > x_pad[inds1]) & (x >= x_pad[inds2])\n",
      "/home/nvidia/github/python_environments/soundflux/lib/python3.5/site-packages/librosa/core/pitch.py:159: DeprecationWarning: object of type <class 'numpy.float64'> cannot be safely interpreted as an integer.\n",
      "  bins = np.linspace(-0.5, 0.5, np.ceil(1./resolution), endpoint=False)\n",
      "/home/nvidia/github/python_environments/soundflux/lib/python3.5/site-packages/librosa/core/pitch.py:159: DeprecationWarning: object of type <class 'numpy.float64'> cannot be safely interpreted as an integer.\n",
      "  bins = np.linspace(-0.5, 0.5, np.ceil(1./resolution), endpoint=False)\n",
      "/home/nvidia/github/python_environments/soundflux/lib/python3.5/site-packages/librosa/core/pitch.py:159: DeprecationWarning: object of type <class 'numpy.float64'> cannot be safely interpreted as an integer.\n",
      "  bins = np.linspace(-0.5, 0.5, np.ceil(1./resolution), endpoint=False)\n"
     ]
    },
    {
     "name": "stdout",
     "output_type": "stream",
     "text": [
      "\n",
      "\n",
      "\n",
      "\n"
     ]
    },
    {
     "name": "stderr",
     "output_type": "stream",
     "text": [
      "/home/nvidia/github/python_environments/soundflux/lib/python3.5/site-packages/librosa/util/utils.py:828: FutureWarning: Using a non-tuple sequence for multidimensional indexing is deprecated; use `arr[tuple(seq)]` instead of `arr[seq]`. In the future this will be interpreted as an array index, `arr[np.array(seq)]`, which will result either in an error or a different result.\n",
      "  return (x > x_pad[inds1]) & (x >= x_pad[inds2])\n",
      "/home/nvidia/github/python_environments/soundflux/lib/python3.5/site-packages/librosa/core/pitch.py:159: DeprecationWarning: object of type <class 'numpy.float64'> cannot be safely interpreted as an integer.\n",
      "  bins = np.linspace(-0.5, 0.5, np.ceil(1./resolution), endpoint=False)\n",
      "/home/nvidia/github/python_environments/soundflux/lib/python3.5/site-packages/librosa/core/pitch.py:159: DeprecationWarning: object of type <class 'numpy.float64'> cannot be safely interpreted as an integer.\n",
      "  bins = np.linspace(-0.5, 0.5, np.ceil(1./resolution), endpoint=False)\n"
     ]
    },
    {
     "name": "stdout",
     "output_type": "stream",
     "text": [
      "\n"
     ]
    },
    {
     "name": "stderr",
     "output_type": "stream",
     "text": [
      "/home/nvidia/github/python_environments/soundflux/lib/python3.5/site-packages/librosa/util/utils.py:828: FutureWarning: Using a non-tuple sequence for multidimensional indexing is deprecated; use `arr[tuple(seq)]` instead of `arr[seq]`. In the future this will be interpreted as an array index, `arr[np.array(seq)]`, which will result either in an error or a different result.\n",
      "  return (x > x_pad[inds1]) & (x >= x_pad[inds2])\n",
      "/home/nvidia/github/python_environments/soundflux/lib/python3.5/site-packages/librosa/core/pitch.py:159: DeprecationWarning: object of type <class 'numpy.float64'> cannot be safely interpreted as an integer.\n",
      "  bins = np.linspace(-0.5, 0.5, np.ceil(1./resolution), endpoint=False)\n"
     ]
    },
    {
     "name": "stdout",
     "output_type": "stream",
     "text": [
      "\n"
     ]
    },
    {
     "name": "stderr",
     "output_type": "stream",
     "text": [
      "/home/nvidia/github/python_environments/soundflux/lib/python3.5/site-packages/librosa/util/utils.py:828: FutureWarning: Using a non-tuple sequence for multidimensional indexing is deprecated; use `arr[tuple(seq)]` instead of `arr[seq]`. In the future this will be interpreted as an array index, `arr[np.array(seq)]`, which will result either in an error or a different result.\n",
      "  return (x > x_pad[inds1]) & (x >= x_pad[inds2])\n",
      "/home/nvidia/github/python_environments/soundflux/lib/python3.5/site-packages/librosa/core/pitch.py:159: DeprecationWarning: object of type <class 'numpy.float64'> cannot be safely interpreted as an integer.\n",
      "  bins = np.linspace(-0.5, 0.5, np.ceil(1./resolution), endpoint=False)\n"
     ]
    },
    {
     "name": "stdout",
     "output_type": "stream",
     "text": [
      "\n"
     ]
    },
    {
     "name": "stderr",
     "output_type": "stream",
     "text": [
      "/home/nvidia/github/python_environments/soundflux/lib/python3.5/site-packages/librosa/util/utils.py:828: FutureWarning: Using a non-tuple sequence for multidimensional indexing is deprecated; use `arr[tuple(seq)]` instead of `arr[seq]`. In the future this will be interpreted as an array index, `arr[np.array(seq)]`, which will result either in an error or a different result.\n",
      "  return (x > x_pad[inds1]) & (x >= x_pad[inds2])\n",
      "/home/nvidia/github/python_environments/soundflux/lib/python3.5/site-packages/librosa/core/pitch.py:159: DeprecationWarning: object of type <class 'numpy.float64'> cannot be safely interpreted as an integer.\n",
      "  bins = np.linspace(-0.5, 0.5, np.ceil(1./resolution), endpoint=False)\n"
     ]
    },
    {
     "name": "stdout",
     "output_type": "stream",
     "text": [
      "\n"
     ]
    },
    {
     "name": "stderr",
     "output_type": "stream",
     "text": [
      "/home/nvidia/github/python_environments/soundflux/lib/python3.5/site-packages/librosa/util/utils.py:828: FutureWarning: Using a non-tuple sequence for multidimensional indexing is deprecated; use `arr[tuple(seq)]` instead of `arr[seq]`. In the future this will be interpreted as an array index, `arr[np.array(seq)]`, which will result either in an error or a different result.\n",
      "  return (x > x_pad[inds1]) & (x >= x_pad[inds2])\n",
      "/home/nvidia/github/python_environments/soundflux/lib/python3.5/site-packages/librosa/core/pitch.py:159: DeprecationWarning: object of type <class 'numpy.float64'> cannot be safely interpreted as an integer.\n",
      "  bins = np.linspace(-0.5, 0.5, np.ceil(1./resolution), endpoint=False)\n"
     ]
    },
    {
     "name": "stdout",
     "output_type": "stream",
     "text": [
      "\n",
      "\n"
     ]
    },
    {
     "name": "stderr",
     "output_type": "stream",
     "text": [
      "/home/nvidia/github/python_environments/soundflux/lib/python3.5/site-packages/librosa/util/utils.py:828: FutureWarning: Using a non-tuple sequence for multidimensional indexing is deprecated; use `arr[tuple(seq)]` instead of `arr[seq]`. In the future this will be interpreted as an array index, `arr[np.array(seq)]`, which will result either in an error or a different result.\n",
      "  return (x > x_pad[inds1]) & (x >= x_pad[inds2])\n",
      "/home/nvidia/github/python_environments/soundflux/lib/python3.5/site-packages/librosa/core/pitch.py:159: DeprecationWarning: object of type <class 'numpy.float64'> cannot be safely interpreted as an integer.\n",
      "  bins = np.linspace(-0.5, 0.5, np.ceil(1./resolution), endpoint=False)\n",
      "/home/nvidia/github/python_environments/soundflux/lib/python3.5/site-packages/librosa/core/pitch.py:159: DeprecationWarning: object of type <class 'numpy.float64'> cannot be safely interpreted as an integer.\n",
      "  bins = np.linspace(-0.5, 0.5, np.ceil(1./resolution), endpoint=False)\n"
     ]
    },
    {
     "name": "stdout",
     "output_type": "stream",
     "text": [
      "\n"
     ]
    },
    {
     "name": "stderr",
     "output_type": "stream",
     "text": [
      "/home/nvidia/github/python_environments/soundflux/lib/python3.5/site-packages/librosa/util/utils.py:828: FutureWarning: Using a non-tuple sequence for multidimensional indexing is deprecated; use `arr[tuple(seq)]` instead of `arr[seq]`. In the future this will be interpreted as an array index, `arr[np.array(seq)]`, which will result either in an error or a different result.\n",
      "  return (x > x_pad[inds1]) & (x >= x_pad[inds2])\n",
      "/home/nvidia/github/python_environments/soundflux/lib/python3.5/site-packages/librosa/core/pitch.py:159: DeprecationWarning: object of type <class 'numpy.float64'> cannot be safely interpreted as an integer.\n",
      "  bins = np.linspace(-0.5, 0.5, np.ceil(1./resolution), endpoint=False)\n"
     ]
    },
    {
     "name": "stdout",
     "output_type": "stream",
     "text": [
      "\n",
      "\n",
      "\n",
      "\n"
     ]
    },
    {
     "name": "stderr",
     "output_type": "stream",
     "text": [
      "/home/nvidia/github/python_environments/soundflux/lib/python3.5/site-packages/librosa/util/utils.py:828: FutureWarning: Using a non-tuple sequence for multidimensional indexing is deprecated; use `arr[tuple(seq)]` instead of `arr[seq]`. In the future this will be interpreted as an array index, `arr[np.array(seq)]`, which will result either in an error or a different result.\n",
      "  return (x > x_pad[inds1]) & (x >= x_pad[inds2])\n",
      "/home/nvidia/github/python_environments/soundflux/lib/python3.5/site-packages/librosa/core/pitch.py:159: DeprecationWarning: object of type <class 'numpy.float64'> cannot be safely interpreted as an integer.\n",
      "  bins = np.linspace(-0.5, 0.5, np.ceil(1./resolution), endpoint=False)\n",
      "/home/nvidia/github/python_environments/soundflux/lib/python3.5/site-packages/librosa/core/pitch.py:159: DeprecationWarning: object of type <class 'numpy.float64'> cannot be safely interpreted as an integer.\n",
      "  bins = np.linspace(-0.5, 0.5, np.ceil(1./resolution), endpoint=False)\n"
     ]
    },
    {
     "name": "stdout",
     "output_type": "stream",
     "text": [
      "\n",
      "\n"
     ]
    },
    {
     "name": "stderr",
     "output_type": "stream",
     "text": [
      "/home/nvidia/github/python_environments/soundflux/lib/python3.5/site-packages/librosa/util/utils.py:828: FutureWarning: Using a non-tuple sequence for multidimensional indexing is deprecated; use `arr[tuple(seq)]` instead of `arr[seq]`. In the future this will be interpreted as an array index, `arr[np.array(seq)]`, which will result either in an error or a different result.\n",
      "  return (x > x_pad[inds1]) & (x >= x_pad[inds2])\n",
      "/home/nvidia/github/python_environments/soundflux/lib/python3.5/site-packages/librosa/core/pitch.py:159: DeprecationWarning: object of type <class 'numpy.float64'> cannot be safely interpreted as an integer.\n",
      "  bins = np.linspace(-0.5, 0.5, np.ceil(1./resolution), endpoint=False)\n"
     ]
    },
    {
     "name": "stdout",
     "output_type": "stream",
     "text": [
      "\n"
     ]
    },
    {
     "name": "stderr",
     "output_type": "stream",
     "text": [
      "/home/nvidia/github/python_environments/soundflux/lib/python3.5/site-packages/librosa/util/utils.py:828: FutureWarning: Using a non-tuple sequence for multidimensional indexing is deprecated; use `arr[tuple(seq)]` instead of `arr[seq]`. In the future this will be interpreted as an array index, `arr[np.array(seq)]`, which will result either in an error or a different result.\n",
      "  return (x > x_pad[inds1]) & (x >= x_pad[inds2])\n",
      "/home/nvidia/github/python_environments/soundflux/lib/python3.5/site-packages/librosa/core/pitch.py:159: DeprecationWarning: object of type <class 'numpy.float64'> cannot be safely interpreted as an integer.\n",
      "  bins = np.linspace(-0.5, 0.5, np.ceil(1./resolution), endpoint=False)\n",
      "/home/nvidia/github/python_environments/soundflux/lib/python3.5/site-packages/librosa/core/pitch.py:159: DeprecationWarning: object of type <class 'numpy.float64'> cannot be safely interpreted as an integer.\n",
      "  bins = np.linspace(-0.5, 0.5, np.ceil(1./resolution), endpoint=False)\n",
      "/home/nvidia/github/python_environments/soundflux/lib/python3.5/site-packages/librosa/core/pitch.py:159: DeprecationWarning: object of type <class 'numpy.float64'> cannot be safely interpreted as an integer.\n",
      "  bins = np.linspace(-0.5, 0.5, np.ceil(1./resolution), endpoint=False)\n",
      "/home/nvidia/github/python_environments/soundflux/lib/python3.5/site-packages/librosa/core/pitch.py:159: DeprecationWarning: object of type <class 'numpy.float64'> cannot be safely interpreted as an integer.\n",
      "  bins = np.linspace(-0.5, 0.5, np.ceil(1./resolution), endpoint=False)\n",
      "/home/nvidia/github/python_environments/soundflux/lib/python3.5/site-packages/librosa/core/pitch.py:159: DeprecationWarning: object of type <class 'numpy.float64'> cannot be safely interpreted as an integer.\n",
      "  bins = np.linspace(-0.5, 0.5, np.ceil(1./resolution), endpoint=False)\n"
     ]
    },
    {
     "name": "stdout",
     "output_type": "stream",
     "text": [
      "\n",
      "\n"
     ]
    },
    {
     "name": "stderr",
     "output_type": "stream",
     "text": [
      "/home/nvidia/github/python_environments/soundflux/lib/python3.5/site-packages/librosa/util/utils.py:828: FutureWarning: Using a non-tuple sequence for multidimensional indexing is deprecated; use `arr[tuple(seq)]` instead of `arr[seq]`. In the future this will be interpreted as an array index, `arr[np.array(seq)]`, which will result either in an error or a different result.\n",
      "  return (x > x_pad[inds1]) & (x >= x_pad[inds2])\n",
      "/home/nvidia/github/python_environments/soundflux/lib/python3.5/site-packages/librosa/core/pitch.py:159: DeprecationWarning: object of type <class 'numpy.float64'> cannot be safely interpreted as an integer.\n",
      "  bins = np.linspace(-0.5, 0.5, np.ceil(1./resolution), endpoint=False)\n",
      "/home/nvidia/github/python_environments/soundflux/lib/python3.5/site-packages/librosa/core/pitch.py:159: DeprecationWarning: object of type <class 'numpy.float64'> cannot be safely interpreted as an integer.\n",
      "  bins = np.linspace(-0.5, 0.5, np.ceil(1./resolution), endpoint=False)\n",
      "/home/nvidia/github/python_environments/soundflux/lib/python3.5/site-packages/librosa/core/pitch.py:159: DeprecationWarning: object of type <class 'numpy.float64'> cannot be safely interpreted as an integer.\n",
      "  bins = np.linspace(-0.5, 0.5, np.ceil(1./resolution), endpoint=False)\n"
     ]
    },
    {
     "name": "stdout",
     "output_type": "stream",
     "text": [
      "\n",
      "\n",
      "\n",
      "\n"
     ]
    },
    {
     "name": "stderr",
     "output_type": "stream",
     "text": [
      "/home/nvidia/github/python_environments/soundflux/lib/python3.5/site-packages/librosa/util/utils.py:828: FutureWarning: Using a non-tuple sequence for multidimensional indexing is deprecated; use `arr[tuple(seq)]` instead of `arr[seq]`. In the future this will be interpreted as an array index, `arr[np.array(seq)]`, which will result either in an error or a different result.\n",
      "  return (x > x_pad[inds1]) & (x >= x_pad[inds2])\n",
      "/home/nvidia/github/python_environments/soundflux/lib/python3.5/site-packages/librosa/core/pitch.py:159: DeprecationWarning: object of type <class 'numpy.float64'> cannot be safely interpreted as an integer.\n",
      "  bins = np.linspace(-0.5, 0.5, np.ceil(1./resolution), endpoint=False)\n",
      "/home/nvidia/github/python_environments/soundflux/lib/python3.5/site-packages/librosa/core/pitch.py:159: DeprecationWarning: object of type <class 'numpy.float64'> cannot be safely interpreted as an integer.\n",
      "  bins = np.linspace(-0.5, 0.5, np.ceil(1./resolution), endpoint=False)\n"
     ]
    },
    {
     "name": "stdout",
     "output_type": "stream",
     "text": [
      "\n"
     ]
    },
    {
     "name": "stderr",
     "output_type": "stream",
     "text": [
      "/home/nvidia/github/python_environments/soundflux/lib/python3.5/site-packages/librosa/util/utils.py:828: FutureWarning: Using a non-tuple sequence for multidimensional indexing is deprecated; use `arr[tuple(seq)]` instead of `arr[seq]`. In the future this will be interpreted as an array index, `arr[np.array(seq)]`, which will result either in an error or a different result.\n",
      "  return (x > x_pad[inds1]) & (x >= x_pad[inds2])\n",
      "/home/nvidia/github/python_environments/soundflux/lib/python3.5/site-packages/librosa/core/pitch.py:159: DeprecationWarning: object of type <class 'numpy.float64'> cannot be safely interpreted as an integer.\n",
      "  bins = np.linspace(-0.5, 0.5, np.ceil(1./resolution), endpoint=False)\n",
      "/home/nvidia/github/python_environments/soundflux/lib/python3.5/site-packages/librosa/core/pitch.py:159: DeprecationWarning: object of type <class 'numpy.float64'> cannot be safely interpreted as an integer.\n",
      "  bins = np.linspace(-0.5, 0.5, np.ceil(1./resolution), endpoint=False)\n",
      "/home/nvidia/github/python_environments/soundflux/lib/python3.5/site-packages/librosa/core/pitch.py:159: DeprecationWarning: object of type <class 'numpy.float64'> cannot be safely interpreted as an integer.\n",
      "  bins = np.linspace(-0.5, 0.5, np.ceil(1./resolution), endpoint=False)\n"
     ]
    },
    {
     "name": "stdout",
     "output_type": "stream",
     "text": [
      "\n",
      "\n",
      "\n",
      "\n",
      "\n"
     ]
    },
    {
     "name": "stderr",
     "output_type": "stream",
     "text": [
      "/home/nvidia/github/python_environments/soundflux/lib/python3.5/site-packages/librosa/util/utils.py:828: FutureWarning: Using a non-tuple sequence for multidimensional indexing is deprecated; use `arr[tuple(seq)]` instead of `arr[seq]`. In the future this will be interpreted as an array index, `arr[np.array(seq)]`, which will result either in an error or a different result.\n",
      "  return (x > x_pad[inds1]) & (x >= x_pad[inds2])\n",
      "/home/nvidia/github/python_environments/soundflux/lib/python3.5/site-packages/librosa/core/pitch.py:159: DeprecationWarning: object of type <class 'numpy.float64'> cannot be safely interpreted as an integer.\n",
      "  bins = np.linspace(-0.5, 0.5, np.ceil(1./resolution), endpoint=False)\n",
      "/home/nvidia/github/python_environments/soundflux/lib/python3.5/site-packages/librosa/core/pitch.py:159: DeprecationWarning: object of type <class 'numpy.float64'> cannot be safely interpreted as an integer.\n",
      "  bins = np.linspace(-0.5, 0.5, np.ceil(1./resolution), endpoint=False)\n",
      "/home/nvidia/github/python_environments/soundflux/lib/python3.5/site-packages/librosa/core/pitch.py:159: DeprecationWarning: object of type <class 'numpy.float64'> cannot be safely interpreted as an integer.\n",
      "  bins = np.linspace(-0.5, 0.5, np.ceil(1./resolution), endpoint=False)\n",
      "/home/nvidia/github/python_environments/soundflux/lib/python3.5/site-packages/librosa/core/pitch.py:159: DeprecationWarning: object of type <class 'numpy.float64'> cannot be safely interpreted as an integer.\n",
      "  bins = np.linspace(-0.5, 0.5, np.ceil(1./resolution), endpoint=False)\n"
     ]
    },
    {
     "name": "stdout",
     "output_type": "stream",
     "text": [
      "\n",
      "\n"
     ]
    },
    {
     "name": "stderr",
     "output_type": "stream",
     "text": [
      "/home/nvidia/github/python_environments/soundflux/lib/python3.5/site-packages/librosa/util/utils.py:828: FutureWarning: Using a non-tuple sequence for multidimensional indexing is deprecated; use `arr[tuple(seq)]` instead of `arr[seq]`. In the future this will be interpreted as an array index, `arr[np.array(seq)]`, which will result either in an error or a different result.\n",
      "  return (x > x_pad[inds1]) & (x >= x_pad[inds2])\n",
      "/home/nvidia/github/python_environments/soundflux/lib/python3.5/site-packages/librosa/core/pitch.py:159: DeprecationWarning: object of type <class 'numpy.float64'> cannot be safely interpreted as an integer.\n",
      "  bins = np.linspace(-0.5, 0.5, np.ceil(1./resolution), endpoint=False)\n"
     ]
    },
    {
     "name": "stdout",
     "output_type": "stream",
     "text": [
      "\n",
      "\n"
     ]
    },
    {
     "name": "stderr",
     "output_type": "stream",
     "text": [
      "/home/nvidia/github/python_environments/soundflux/lib/python3.5/site-packages/librosa/util/utils.py:828: FutureWarning: Using a non-tuple sequence for multidimensional indexing is deprecated; use `arr[tuple(seq)]` instead of `arr[seq]`. In the future this will be interpreted as an array index, `arr[np.array(seq)]`, which will result either in an error or a different result.\n",
      "  return (x > x_pad[inds1]) & (x >= x_pad[inds2])\n",
      "/home/nvidia/github/python_environments/soundflux/lib/python3.5/site-packages/librosa/core/pitch.py:159: DeprecationWarning: object of type <class 'numpy.float64'> cannot be safely interpreted as an integer.\n",
      "  bins = np.linspace(-0.5, 0.5, np.ceil(1./resolution), endpoint=False)\n",
      "/home/nvidia/github/python_environments/soundflux/lib/python3.5/site-packages/librosa/core/pitch.py:159: DeprecationWarning: object of type <class 'numpy.float64'> cannot be safely interpreted as an integer.\n",
      "  bins = np.linspace(-0.5, 0.5, np.ceil(1./resolution), endpoint=False)\n",
      "/home/nvidia/github/python_environments/soundflux/lib/python3.5/site-packages/librosa/core/pitch.py:159: DeprecationWarning: object of type <class 'numpy.float64'> cannot be safely interpreted as an integer.\n",
      "  bins = np.linspace(-0.5, 0.5, np.ceil(1./resolution), endpoint=False)\n"
     ]
    },
    {
     "name": "stdout",
     "output_type": "stream",
     "text": [
      "\n",
      "\n"
     ]
    },
    {
     "name": "stderr",
     "output_type": "stream",
     "text": [
      "/home/nvidia/github/python_environments/soundflux/lib/python3.5/site-packages/librosa/util/utils.py:828: FutureWarning: Using a non-tuple sequence for multidimensional indexing is deprecated; use `arr[tuple(seq)]` instead of `arr[seq]`. In the future this will be interpreted as an array index, `arr[np.array(seq)]`, which will result either in an error or a different result.\n",
      "  return (x > x_pad[inds1]) & (x >= x_pad[inds2])\n",
      "/home/nvidia/github/python_environments/soundflux/lib/python3.5/site-packages/librosa/core/pitch.py:159: DeprecationWarning: object of type <class 'numpy.float64'> cannot be safely interpreted as an integer.\n",
      "  bins = np.linspace(-0.5, 0.5, np.ceil(1./resolution), endpoint=False)\n"
     ]
    },
    {
     "name": "stdout",
     "output_type": "stream",
     "text": [
      "\n",
      "\n"
     ]
    },
    {
     "name": "stderr",
     "output_type": "stream",
     "text": [
      "/home/nvidia/github/python_environments/soundflux/lib/python3.5/site-packages/librosa/util/utils.py:828: FutureWarning: Using a non-tuple sequence for multidimensional indexing is deprecated; use `arr[tuple(seq)]` instead of `arr[seq]`. In the future this will be interpreted as an array index, `arr[np.array(seq)]`, which will result either in an error or a different result.\n",
      "  return (x > x_pad[inds1]) & (x >= x_pad[inds2])\n",
      "/home/nvidia/github/python_environments/soundflux/lib/python3.5/site-packages/librosa/core/pitch.py:159: DeprecationWarning: object of type <class 'numpy.float64'> cannot be safely interpreted as an integer.\n",
      "  bins = np.linspace(-0.5, 0.5, np.ceil(1./resolution), endpoint=False)\n",
      "/home/nvidia/github/python_environments/soundflux/lib/python3.5/site-packages/librosa/core/pitch.py:159: DeprecationWarning: object of type <class 'numpy.float64'> cannot be safely interpreted as an integer.\n",
      "  bins = np.linspace(-0.5, 0.5, np.ceil(1./resolution), endpoint=False)\n",
      "/home/nvidia/github/python_environments/soundflux/lib/python3.5/site-packages/librosa/core/pitch.py:159: DeprecationWarning: object of type <class 'numpy.float64'> cannot be safely interpreted as an integer.\n",
      "  bins = np.linspace(-0.5, 0.5, np.ceil(1./resolution), endpoint=False)\n"
     ]
    },
    {
     "name": "stdout",
     "output_type": "stream",
     "text": [
      "\n",
      "\n"
     ]
    },
    {
     "name": "stderr",
     "output_type": "stream",
     "text": [
      "/home/nvidia/github/python_environments/soundflux/lib/python3.5/site-packages/librosa/util/utils.py:828: FutureWarning: Using a non-tuple sequence for multidimensional indexing is deprecated; use `arr[tuple(seq)]` instead of `arr[seq]`. In the future this will be interpreted as an array index, `arr[np.array(seq)]`, which will result either in an error or a different result.\n",
      "  return (x > x_pad[inds1]) & (x >= x_pad[inds2])\n",
      "/home/nvidia/github/python_environments/soundflux/lib/python3.5/site-packages/librosa/core/pitch.py:159: DeprecationWarning: object of type <class 'numpy.float64'> cannot be safely interpreted as an integer.\n",
      "  bins = np.linspace(-0.5, 0.5, np.ceil(1./resolution), endpoint=False)\n",
      "/home/nvidia/github/python_environments/soundflux/lib/python3.5/site-packages/librosa/core/pitch.py:159: DeprecationWarning: object of type <class 'numpy.float64'> cannot be safely interpreted as an integer.\n",
      "  bins = np.linspace(-0.5, 0.5, np.ceil(1./resolution), endpoint=False)\n",
      "/home/nvidia/github/python_environments/soundflux/lib/python3.5/site-packages/librosa/core/pitch.py:159: DeprecationWarning: object of type <class 'numpy.float64'> cannot be safely interpreted as an integer.\n",
      "  bins = np.linspace(-0.5, 0.5, np.ceil(1./resolution), endpoint=False)\n"
     ]
    },
    {
     "name": "stdout",
     "output_type": "stream",
     "text": [
      "\n"
     ]
    },
    {
     "name": "stderr",
     "output_type": "stream",
     "text": [
      "/home/nvidia/github/python_environments/soundflux/lib/python3.5/site-packages/librosa/util/utils.py:828: FutureWarning: Using a non-tuple sequence for multidimensional indexing is deprecated; use `arr[tuple(seq)]` instead of `arr[seq]`. In the future this will be interpreted as an array index, `arr[np.array(seq)]`, which will result either in an error or a different result.\n",
      "  return (x > x_pad[inds1]) & (x >= x_pad[inds2])\n",
      "/home/nvidia/github/python_environments/soundflux/lib/python3.5/site-packages/librosa/core/pitch.py:159: DeprecationWarning: object of type <class 'numpy.float64'> cannot be safely interpreted as an integer.\n",
      "  bins = np.linspace(-0.5, 0.5, np.ceil(1./resolution), endpoint=False)\n",
      "/home/nvidia/github/python_environments/soundflux/lib/python3.5/site-packages/librosa/core/pitch.py:159: DeprecationWarning: object of type <class 'numpy.float64'> cannot be safely interpreted as an integer.\n",
      "  bins = np.linspace(-0.5, 0.5, np.ceil(1./resolution), endpoint=False)\n"
     ]
    },
    {
     "name": "stdout",
     "output_type": "stream",
     "text": [
      "\n"
     ]
    },
    {
     "name": "stderr",
     "output_type": "stream",
     "text": [
      "/home/nvidia/github/python_environments/soundflux/lib/python3.5/site-packages/librosa/util/utils.py:828: FutureWarning: Using a non-tuple sequence for multidimensional indexing is deprecated; use `arr[tuple(seq)]` instead of `arr[seq]`. In the future this will be interpreted as an array index, `arr[np.array(seq)]`, which will result either in an error or a different result.\n",
      "  return (x > x_pad[inds1]) & (x >= x_pad[inds2])\n",
      "/home/nvidia/github/python_environments/soundflux/lib/python3.5/site-packages/librosa/core/pitch.py:159: DeprecationWarning: object of type <class 'numpy.float64'> cannot be safely interpreted as an integer.\n",
      "  bins = np.linspace(-0.5, 0.5, np.ceil(1./resolution), endpoint=False)\n",
      "/home/nvidia/github/python_environments/soundflux/lib/python3.5/site-packages/librosa/core/pitch.py:159: DeprecationWarning: object of type <class 'numpy.float64'> cannot be safely interpreted as an integer.\n",
      "  bins = np.linspace(-0.5, 0.5, np.ceil(1./resolution), endpoint=False)\n",
      "/home/nvidia/github/python_environments/soundflux/lib/python3.5/site-packages/librosa/core/pitch.py:159: DeprecationWarning: object of type <class 'numpy.float64'> cannot be safely interpreted as an integer.\n",
      "  bins = np.linspace(-0.5, 0.5, np.ceil(1./resolution), endpoint=False)\n",
      "/home/nvidia/github/python_environments/soundflux/lib/python3.5/site-packages/librosa/core/pitch.py:159: DeprecationWarning: object of type <class 'numpy.float64'> cannot be safely interpreted as an integer.\n",
      "  bins = np.linspace(-0.5, 0.5, np.ceil(1./resolution), endpoint=False)\n",
      "/home/nvidia/github/python_environments/soundflux/lib/python3.5/site-packages/librosa/core/pitch.py:159: DeprecationWarning: object of type <class 'numpy.float64'> cannot be safely interpreted as an integer.\n",
      "  bins = np.linspace(-0.5, 0.5, np.ceil(1./resolution), endpoint=False)\n",
      "/home/nvidia/github/python_environments/soundflux/lib/python3.5/site-packages/librosa/core/pitch.py:159: DeprecationWarning: object of type <class 'numpy.float64'> cannot be safely interpreted as an integer.\n",
      "  bins = np.linspace(-0.5, 0.5, np.ceil(1./resolution), endpoint=False)\n",
      "/home/nvidia/github/python_environments/soundflux/lib/python3.5/site-packages/librosa/core/pitch.py:159: DeprecationWarning: object of type <class 'numpy.float64'> cannot be safely interpreted as an integer.\n",
      "  bins = np.linspace(-0.5, 0.5, np.ceil(1./resolution), endpoint=False)\n",
      "/home/nvidia/github/python_environments/soundflux/lib/python3.5/site-packages/librosa/core/pitch.py:159: DeprecationWarning: object of type <class 'numpy.float64'> cannot be safely interpreted as an integer.\n",
      "  bins = np.linspace(-0.5, 0.5, np.ceil(1./resolution), endpoint=False)\n",
      "/home/nvidia/github/python_environments/soundflux/lib/python3.5/site-packages/librosa/core/pitch.py:159: DeprecationWarning: object of type <class 'numpy.float64'> cannot be safely interpreted as an integer.\n",
      "  bins = np.linspace(-0.5, 0.5, np.ceil(1./resolution), endpoint=False)\n",
      "/home/nvidia/github/python_environments/soundflux/lib/python3.5/site-packages/librosa/core/pitch.py:159: DeprecationWarning: object of type <class 'numpy.float64'> cannot be safely interpreted as an integer.\n",
      "  bins = np.linspace(-0.5, 0.5, np.ceil(1./resolution), endpoint=False)\n",
      "/home/nvidia/github/python_environments/soundflux/lib/python3.5/site-packages/librosa/core/pitch.py:159: DeprecationWarning: object of type <class 'numpy.float64'> cannot be safely interpreted as an integer.\n",
      "  bins = np.linspace(-0.5, 0.5, np.ceil(1./resolution), endpoint=False)\n",
      "/home/nvidia/github/python_environments/soundflux/lib/python3.5/site-packages/librosa/core/pitch.py:159: DeprecationWarning: object of type <class 'numpy.float64'> cannot be safely interpreted as an integer.\n",
      "  bins = np.linspace(-0.5, 0.5, np.ceil(1./resolution), endpoint=False)\n"
     ]
    },
    {
     "name": "stdout",
     "output_type": "stream",
     "text": [
      "\n"
     ]
    },
    {
     "name": "stderr",
     "output_type": "stream",
     "text": [
      "/home/nvidia/github/python_environments/soundflux/lib/python3.5/site-packages/librosa/util/utils.py:828: FutureWarning: Using a non-tuple sequence for multidimensional indexing is deprecated; use `arr[tuple(seq)]` instead of `arr[seq]`. In the future this will be interpreted as an array index, `arr[np.array(seq)]`, which will result either in an error or a different result.\n",
      "  return (x > x_pad[inds1]) & (x >= x_pad[inds2])\n",
      "/home/nvidia/github/python_environments/soundflux/lib/python3.5/site-packages/librosa/core/pitch.py:159: DeprecationWarning: object of type <class 'numpy.float64'> cannot be safely interpreted as an integer.\n",
      "  bins = np.linspace(-0.5, 0.5, np.ceil(1./resolution), endpoint=False)\n"
     ]
    },
    {
     "name": "stdout",
     "output_type": "stream",
     "text": [
      "\n",
      "\n",
      "\n"
     ]
    },
    {
     "name": "stderr",
     "output_type": "stream",
     "text": [
      "/home/nvidia/github/python_environments/soundflux/lib/python3.5/site-packages/librosa/util/utils.py:828: FutureWarning: Using a non-tuple sequence for multidimensional indexing is deprecated; use `arr[tuple(seq)]` instead of `arr[seq]`. In the future this will be interpreted as an array index, `arr[np.array(seq)]`, which will result either in an error or a different result.\n",
      "  return (x > x_pad[inds1]) & (x >= x_pad[inds2])\n",
      "/home/nvidia/github/python_environments/soundflux/lib/python3.5/site-packages/librosa/core/pitch.py:159: DeprecationWarning: object of type <class 'numpy.float64'> cannot be safely interpreted as an integer.\n",
      "  bins = np.linspace(-0.5, 0.5, np.ceil(1./resolution), endpoint=False)\n"
     ]
    },
    {
     "name": "stdout",
     "output_type": "stream",
     "text": [
      "\n"
     ]
    },
    {
     "name": "stderr",
     "output_type": "stream",
     "text": [
      "/home/nvidia/github/python_environments/soundflux/lib/python3.5/site-packages/librosa/util/utils.py:828: FutureWarning: Using a non-tuple sequence for multidimensional indexing is deprecated; use `arr[tuple(seq)]` instead of `arr[seq]`. In the future this will be interpreted as an array index, `arr[np.array(seq)]`, which will result either in an error or a different result.\n",
      "  return (x > x_pad[inds1]) & (x >= x_pad[inds2])\n",
      "/home/nvidia/github/python_environments/soundflux/lib/python3.5/site-packages/librosa/core/pitch.py:159: DeprecationWarning: object of type <class 'numpy.float64'> cannot be safely interpreted as an integer.\n",
      "  bins = np.linspace(-0.5, 0.5, np.ceil(1./resolution), endpoint=False)\n",
      "/home/nvidia/github/python_environments/soundflux/lib/python3.5/site-packages/librosa/core/pitch.py:159: DeprecationWarning: object of type <class 'numpy.float64'> cannot be safely interpreted as an integer.\n",
      "  bins = np.linspace(-0.5, 0.5, np.ceil(1./resolution), endpoint=False)\n",
      "/home/nvidia/github/python_environments/soundflux/lib/python3.5/site-packages/librosa/core/pitch.py:159: DeprecationWarning: object of type <class 'numpy.float64'> cannot be safely interpreted as an integer.\n",
      "  bins = np.linspace(-0.5, 0.5, np.ceil(1./resolution), endpoint=False)\n"
     ]
    },
    {
     "name": "stdout",
     "output_type": "stream",
     "text": [
      "\n",
      "\n"
     ]
    },
    {
     "name": "stderr",
     "output_type": "stream",
     "text": [
      "/home/nvidia/github/python_environments/soundflux/lib/python3.5/site-packages/librosa/util/utils.py:828: FutureWarning: Using a non-tuple sequence for multidimensional indexing is deprecated; use `arr[tuple(seq)]` instead of `arr[seq]`. In the future this will be interpreted as an array index, `arr[np.array(seq)]`, which will result either in an error or a different result.\n",
      "  return (x > x_pad[inds1]) & (x >= x_pad[inds2])\n",
      "/home/nvidia/github/python_environments/soundflux/lib/python3.5/site-packages/librosa/core/pitch.py:159: DeprecationWarning: object of type <class 'numpy.float64'> cannot be safely interpreted as an integer.\n",
      "  bins = np.linspace(-0.5, 0.5, np.ceil(1./resolution), endpoint=False)\n",
      "/home/nvidia/github/python_environments/soundflux/lib/python3.5/site-packages/librosa/core/pitch.py:159: DeprecationWarning: object of type <class 'numpy.float64'> cannot be safely interpreted as an integer.\n",
      "  bins = np.linspace(-0.5, 0.5, np.ceil(1./resolution), endpoint=False)\n",
      "/home/nvidia/github/python_environments/soundflux/lib/python3.5/site-packages/librosa/core/pitch.py:159: DeprecationWarning: object of type <class 'numpy.float64'> cannot be safely interpreted as an integer.\n",
      "  bins = np.linspace(-0.5, 0.5, np.ceil(1./resolution), endpoint=False)\n",
      "/home/nvidia/github/python_environments/soundflux/lib/python3.5/site-packages/librosa/core/pitch.py:159: DeprecationWarning: object of type <class 'numpy.float64'> cannot be safely interpreted as an integer.\n",
      "  bins = np.linspace(-0.5, 0.5, np.ceil(1./resolution), endpoint=False)\n",
      "/home/nvidia/github/python_environments/soundflux/lib/python3.5/site-packages/librosa/core/pitch.py:159: DeprecationWarning: object of type <class 'numpy.float64'> cannot be safely interpreted as an integer.\n",
      "  bins = np.linspace(-0.5, 0.5, np.ceil(1./resolution), endpoint=False)\n",
      "/home/nvidia/github/python_environments/soundflux/lib/python3.5/site-packages/librosa/core/pitch.py:159: DeprecationWarning: object of type <class 'numpy.float64'> cannot be safely interpreted as an integer.\n",
      "  bins = np.linspace(-0.5, 0.5, np.ceil(1./resolution), endpoint=False)\n"
     ]
    },
    {
     "name": "stdout",
     "output_type": "stream",
     "text": [
      "\n"
     ]
    },
    {
     "name": "stderr",
     "output_type": "stream",
     "text": [
      "/home/nvidia/github/python_environments/soundflux/lib/python3.5/site-packages/librosa/util/utils.py:828: FutureWarning: Using a non-tuple sequence for multidimensional indexing is deprecated; use `arr[tuple(seq)]` instead of `arr[seq]`. In the future this will be interpreted as an array index, `arr[np.array(seq)]`, which will result either in an error or a different result.\n",
      "  return (x > x_pad[inds1]) & (x >= x_pad[inds2])\n",
      "/home/nvidia/github/python_environments/soundflux/lib/python3.5/site-packages/librosa/core/pitch.py:159: DeprecationWarning: object of type <class 'numpy.float64'> cannot be safely interpreted as an integer.\n",
      "  bins = np.linspace(-0.5, 0.5, np.ceil(1./resolution), endpoint=False)\n",
      "/home/nvidia/github/python_environments/soundflux/lib/python3.5/site-packages/librosa/core/pitch.py:159: DeprecationWarning: object of type <class 'numpy.float64'> cannot be safely interpreted as an integer.\n",
      "  bins = np.linspace(-0.5, 0.5, np.ceil(1./resolution), endpoint=False)\n",
      "/home/nvidia/github/python_environments/soundflux/lib/python3.5/site-packages/librosa/core/pitch.py:159: DeprecationWarning: object of type <class 'numpy.float64'> cannot be safely interpreted as an integer.\n",
      "  bins = np.linspace(-0.5, 0.5, np.ceil(1./resolution), endpoint=False)\n"
     ]
    },
    {
     "name": "stdout",
     "output_type": "stream",
     "text": [
      "\n",
      "\n"
     ]
    },
    {
     "name": "stderr",
     "output_type": "stream",
     "text": [
      "/home/nvidia/github/python_environments/soundflux/lib/python3.5/site-packages/librosa/util/utils.py:828: FutureWarning: Using a non-tuple sequence for multidimensional indexing is deprecated; use `arr[tuple(seq)]` instead of `arr[seq]`. In the future this will be interpreted as an array index, `arr[np.array(seq)]`, which will result either in an error or a different result.\n",
      "  return (x > x_pad[inds1]) & (x >= x_pad[inds2])\n",
      "/home/nvidia/github/python_environments/soundflux/lib/python3.5/site-packages/librosa/core/pitch.py:159: DeprecationWarning: object of type <class 'numpy.float64'> cannot be safely interpreted as an integer.\n",
      "  bins = np.linspace(-0.5, 0.5, np.ceil(1./resolution), endpoint=False)\n",
      "/home/nvidia/github/python_environments/soundflux/lib/python3.5/site-packages/librosa/core/pitch.py:159: DeprecationWarning: object of type <class 'numpy.float64'> cannot be safely interpreted as an integer.\n",
      "  bins = np.linspace(-0.5, 0.5, np.ceil(1./resolution), endpoint=False)\n",
      "/home/nvidia/github/python_environments/soundflux/lib/python3.5/site-packages/librosa/core/pitch.py:159: DeprecationWarning: object of type <class 'numpy.float64'> cannot be safely interpreted as an integer.\n",
      "  bins = np.linspace(-0.5, 0.5, np.ceil(1./resolution), endpoint=False)\n",
      "/home/nvidia/github/python_environments/soundflux/lib/python3.5/site-packages/librosa/core/pitch.py:159: DeprecationWarning: object of type <class 'numpy.float64'> cannot be safely interpreted as an integer.\n",
      "  bins = np.linspace(-0.5, 0.5, np.ceil(1./resolution), endpoint=False)\n",
      "/home/nvidia/github/python_environments/soundflux/lib/python3.5/site-packages/librosa/core/pitch.py:159: DeprecationWarning: object of type <class 'numpy.float64'> cannot be safely interpreted as an integer.\n",
      "  bins = np.linspace(-0.5, 0.5, np.ceil(1./resolution), endpoint=False)\n"
     ]
    },
    {
     "name": "stdout",
     "output_type": "stream",
     "text": [
      "\n"
     ]
    },
    {
     "name": "stderr",
     "output_type": "stream",
     "text": [
      "/home/nvidia/github/python_environments/soundflux/lib/python3.5/site-packages/librosa/util/utils.py:828: FutureWarning: Using a non-tuple sequence for multidimensional indexing is deprecated; use `arr[tuple(seq)]` instead of `arr[seq]`. In the future this will be interpreted as an array index, `arr[np.array(seq)]`, which will result either in an error or a different result.\n",
      "  return (x > x_pad[inds1]) & (x >= x_pad[inds2])\n",
      "/home/nvidia/github/python_environments/soundflux/lib/python3.5/site-packages/librosa/core/pitch.py:159: DeprecationWarning: object of type <class 'numpy.float64'> cannot be safely interpreted as an integer.\n",
      "  bins = np.linspace(-0.5, 0.5, np.ceil(1./resolution), endpoint=False)\n",
      "/home/nvidia/github/python_environments/soundflux/lib/python3.5/site-packages/librosa/core/pitch.py:159: DeprecationWarning: object of type <class 'numpy.float64'> cannot be safely interpreted as an integer.\n",
      "  bins = np.linspace(-0.5, 0.5, np.ceil(1./resolution), endpoint=False)\n"
     ]
    },
    {
     "name": "stdout",
     "output_type": "stream",
     "text": [
      "\n"
     ]
    },
    {
     "name": "stderr",
     "output_type": "stream",
     "text": [
      "/home/nvidia/github/python_environments/soundflux/lib/python3.5/site-packages/librosa/util/utils.py:828: FutureWarning: Using a non-tuple sequence for multidimensional indexing is deprecated; use `arr[tuple(seq)]` instead of `arr[seq]`. In the future this will be interpreted as an array index, `arr[np.array(seq)]`, which will result either in an error or a different result.\n",
      "  return (x > x_pad[inds1]) & (x >= x_pad[inds2])\n",
      "/home/nvidia/github/python_environments/soundflux/lib/python3.5/site-packages/librosa/core/pitch.py:159: DeprecationWarning: object of type <class 'numpy.float64'> cannot be safely interpreted as an integer.\n",
      "  bins = np.linspace(-0.5, 0.5, np.ceil(1./resolution), endpoint=False)\n"
     ]
    },
    {
     "name": "stdout",
     "output_type": "stream",
     "text": [
      "\n"
     ]
    },
    {
     "name": "stderr",
     "output_type": "stream",
     "text": [
      "/home/nvidia/github/python_environments/soundflux/lib/python3.5/site-packages/librosa/util/utils.py:828: FutureWarning: Using a non-tuple sequence for multidimensional indexing is deprecated; use `arr[tuple(seq)]` instead of `arr[seq]`. In the future this will be interpreted as an array index, `arr[np.array(seq)]`, which will result either in an error or a different result.\n",
      "  return (x > x_pad[inds1]) & (x >= x_pad[inds2])\n",
      "/home/nvidia/github/python_environments/soundflux/lib/python3.5/site-packages/librosa/core/pitch.py:159: DeprecationWarning: object of type <class 'numpy.float64'> cannot be safely interpreted as an integer.\n",
      "  bins = np.linspace(-0.5, 0.5, np.ceil(1./resolution), endpoint=False)\n",
      "/home/nvidia/github/python_environments/soundflux/lib/python3.5/site-packages/librosa/core/pitch.py:159: DeprecationWarning: object of type <class 'numpy.float64'> cannot be safely interpreted as an integer.\n",
      "  bins = np.linspace(-0.5, 0.5, np.ceil(1./resolution), endpoint=False)\n",
      "/home/nvidia/github/python_environments/soundflux/lib/python3.5/site-packages/librosa/core/pitch.py:159: DeprecationWarning: object of type <class 'numpy.float64'> cannot be safely interpreted as an integer.\n",
      "  bins = np.linspace(-0.5, 0.5, np.ceil(1./resolution), endpoint=False)\n"
     ]
    },
    {
     "name": "stdout",
     "output_type": "stream",
     "text": [
      "\n"
     ]
    },
    {
     "name": "stderr",
     "output_type": "stream",
     "text": [
      "/home/nvidia/github/python_environments/soundflux/lib/python3.5/site-packages/librosa/util/utils.py:828: FutureWarning: Using a non-tuple sequence for multidimensional indexing is deprecated; use `arr[tuple(seq)]` instead of `arr[seq]`. In the future this will be interpreted as an array index, `arr[np.array(seq)]`, which will result either in an error or a different result.\n",
      "  return (x > x_pad[inds1]) & (x >= x_pad[inds2])\n",
      "/home/nvidia/github/python_environments/soundflux/lib/python3.5/site-packages/librosa/core/pitch.py:159: DeprecationWarning: object of type <class 'numpy.float64'> cannot be safely interpreted as an integer.\n",
      "  bins = np.linspace(-0.5, 0.5, np.ceil(1./resolution), endpoint=False)\n",
      "/home/nvidia/github/python_environments/soundflux/lib/python3.5/site-packages/librosa/core/pitch.py:159: DeprecationWarning: object of type <class 'numpy.float64'> cannot be safely interpreted as an integer.\n",
      "  bins = np.linspace(-0.5, 0.5, np.ceil(1./resolution), endpoint=False)\n",
      "/home/nvidia/github/python_environments/soundflux/lib/python3.5/site-packages/librosa/core/pitch.py:159: DeprecationWarning: object of type <class 'numpy.float64'> cannot be safely interpreted as an integer.\n",
      "  bins = np.linspace(-0.5, 0.5, np.ceil(1./resolution), endpoint=False)\n"
     ]
    },
    {
     "name": "stdout",
     "output_type": "stream",
     "text": [
      "\n",
      "\n"
     ]
    },
    {
     "name": "stderr",
     "output_type": "stream",
     "text": [
      "/home/nvidia/github/python_environments/soundflux/lib/python3.5/site-packages/librosa/util/utils.py:828: FutureWarning: Using a non-tuple sequence for multidimensional indexing is deprecated; use `arr[tuple(seq)]` instead of `arr[seq]`. In the future this will be interpreted as an array index, `arr[np.array(seq)]`, which will result either in an error or a different result.\n",
      "  return (x > x_pad[inds1]) & (x >= x_pad[inds2])\n",
      "/home/nvidia/github/python_environments/soundflux/lib/python3.5/site-packages/librosa/core/pitch.py:159: DeprecationWarning: object of type <class 'numpy.float64'> cannot be safely interpreted as an integer.\n",
      "  bins = np.linspace(-0.5, 0.5, np.ceil(1./resolution), endpoint=False)\n",
      "/home/nvidia/github/python_environments/soundflux/lib/python3.5/site-packages/librosa/core/pitch.py:159: DeprecationWarning: object of type <class 'numpy.float64'> cannot be safely interpreted as an integer.\n",
      "  bins = np.linspace(-0.5, 0.5, np.ceil(1./resolution), endpoint=False)\n",
      "/home/nvidia/github/python_environments/soundflux/lib/python3.5/site-packages/librosa/core/pitch.py:159: DeprecationWarning: object of type <class 'numpy.float64'> cannot be safely interpreted as an integer.\n",
      "  bins = np.linspace(-0.5, 0.5, np.ceil(1./resolution), endpoint=False)\n",
      "/home/nvidia/github/python_environments/soundflux/lib/python3.5/site-packages/librosa/core/pitch.py:159: DeprecationWarning: object of type <class 'numpy.float64'> cannot be safely interpreted as an integer.\n",
      "  bins = np.linspace(-0.5, 0.5, np.ceil(1./resolution), endpoint=False)\n",
      "/home/nvidia/github/python_environments/soundflux/lib/python3.5/site-packages/librosa/core/pitch.py:159: DeprecationWarning: object of type <class 'numpy.float64'> cannot be safely interpreted as an integer.\n",
      "  bins = np.linspace(-0.5, 0.5, np.ceil(1./resolution), endpoint=False)\n",
      "/home/nvidia/github/python_environments/soundflux/lib/python3.5/site-packages/librosa/core/pitch.py:159: DeprecationWarning: object of type <class 'numpy.float64'> cannot be safely interpreted as an integer.\n",
      "  bins = np.linspace(-0.5, 0.5, np.ceil(1./resolution), endpoint=False)\n",
      "/home/nvidia/github/python_environments/soundflux/lib/python3.5/site-packages/librosa/core/pitch.py:159: DeprecationWarning: object of type <class 'numpy.float64'> cannot be safely interpreted as an integer.\n",
      "  bins = np.linspace(-0.5, 0.5, np.ceil(1./resolution), endpoint=False)\n",
      "/home/nvidia/github/python_environments/soundflux/lib/python3.5/site-packages/librosa/core/pitch.py:159: DeprecationWarning: object of type <class 'numpy.float64'> cannot be safely interpreted as an integer.\n",
      "  bins = np.linspace(-0.5, 0.5, np.ceil(1./resolution), endpoint=False)\n"
     ]
    },
    {
     "name": "stdout",
     "output_type": "stream",
     "text": [
      "\n"
     ]
    },
    {
     "name": "stderr",
     "output_type": "stream",
     "text": [
      "/home/nvidia/github/python_environments/soundflux/lib/python3.5/site-packages/librosa/util/utils.py:828: FutureWarning: Using a non-tuple sequence for multidimensional indexing is deprecated; use `arr[tuple(seq)]` instead of `arr[seq]`. In the future this will be interpreted as an array index, `arr[np.array(seq)]`, which will result either in an error or a different result.\n",
      "  return (x > x_pad[inds1]) & (x >= x_pad[inds2])\n",
      "/home/nvidia/github/python_environments/soundflux/lib/python3.5/site-packages/librosa/core/pitch.py:159: DeprecationWarning: object of type <class 'numpy.float64'> cannot be safely interpreted as an integer.\n",
      "  bins = np.linspace(-0.5, 0.5, np.ceil(1./resolution), endpoint=False)\n"
     ]
    },
    {
     "name": "stdout",
     "output_type": "stream",
     "text": [
      "\n"
     ]
    },
    {
     "name": "stderr",
     "output_type": "stream",
     "text": [
      "/home/nvidia/github/python_environments/soundflux/lib/python3.5/site-packages/librosa/util/utils.py:828: FutureWarning: Using a non-tuple sequence for multidimensional indexing is deprecated; use `arr[tuple(seq)]` instead of `arr[seq]`. In the future this will be interpreted as an array index, `arr[np.array(seq)]`, which will result either in an error or a different result.\n",
      "  return (x > x_pad[inds1]) & (x >= x_pad[inds2])\n",
      "/home/nvidia/github/python_environments/soundflux/lib/python3.5/site-packages/librosa/core/pitch.py:159: DeprecationWarning: object of type <class 'numpy.float64'> cannot be safely interpreted as an integer.\n",
      "  bins = np.linspace(-0.5, 0.5, np.ceil(1./resolution), endpoint=False)\n",
      "/home/nvidia/github/python_environments/soundflux/lib/python3.5/site-packages/librosa/core/pitch.py:159: DeprecationWarning: object of type <class 'numpy.float64'> cannot be safely interpreted as an integer.\n",
      "  bins = np.linspace(-0.5, 0.5, np.ceil(1./resolution), endpoint=False)\n",
      "/home/nvidia/github/python_environments/soundflux/lib/python3.5/site-packages/librosa/core/pitch.py:159: DeprecationWarning: object of type <class 'numpy.float64'> cannot be safely interpreted as an integer.\n",
      "  bins = np.linspace(-0.5, 0.5, np.ceil(1./resolution), endpoint=False)\n"
     ]
    },
    {
     "name": "stdout",
     "output_type": "stream",
     "text": [
      "\n"
     ]
    },
    {
     "name": "stderr",
     "output_type": "stream",
     "text": [
      "/home/nvidia/github/python_environments/soundflux/lib/python3.5/site-packages/librosa/util/utils.py:828: FutureWarning: Using a non-tuple sequence for multidimensional indexing is deprecated; use `arr[tuple(seq)]` instead of `arr[seq]`. In the future this will be interpreted as an array index, `arr[np.array(seq)]`, which will result either in an error or a different result.\n",
      "  return (x > x_pad[inds1]) & (x >= x_pad[inds2])\n",
      "/home/nvidia/github/python_environments/soundflux/lib/python3.5/site-packages/librosa/core/pitch.py:159: DeprecationWarning: object of type <class 'numpy.float64'> cannot be safely interpreted as an integer.\n",
      "  bins = np.linspace(-0.5, 0.5, np.ceil(1./resolution), endpoint=False)\n"
     ]
    },
    {
     "name": "stdout",
     "output_type": "stream",
     "text": [
      "\n"
     ]
    },
    {
     "name": "stderr",
     "output_type": "stream",
     "text": [
      "/home/nvidia/github/python_environments/soundflux/lib/python3.5/site-packages/librosa/util/utils.py:828: FutureWarning: Using a non-tuple sequence for multidimensional indexing is deprecated; use `arr[tuple(seq)]` instead of `arr[seq]`. In the future this will be interpreted as an array index, `arr[np.array(seq)]`, which will result either in an error or a different result.\n",
      "  return (x > x_pad[inds1]) & (x >= x_pad[inds2])\n",
      "/home/nvidia/github/python_environments/soundflux/lib/python3.5/site-packages/librosa/core/pitch.py:159: DeprecationWarning: object of type <class 'numpy.float64'> cannot be safely interpreted as an integer.\n",
      "  bins = np.linspace(-0.5, 0.5, np.ceil(1./resolution), endpoint=False)\n"
     ]
    },
    {
     "name": "stdout",
     "output_type": "stream",
     "text": [
      "\n"
     ]
    },
    {
     "name": "stderr",
     "output_type": "stream",
     "text": [
      "/home/nvidia/github/python_environments/soundflux/lib/python3.5/site-packages/librosa/util/utils.py:828: FutureWarning: Using a non-tuple sequence for multidimensional indexing is deprecated; use `arr[tuple(seq)]` instead of `arr[seq]`. In the future this will be interpreted as an array index, `arr[np.array(seq)]`, which will result either in an error or a different result.\n",
      "  return (x > x_pad[inds1]) & (x >= x_pad[inds2])\n",
      "/home/nvidia/github/python_environments/soundflux/lib/python3.5/site-packages/librosa/core/pitch.py:159: DeprecationWarning: object of type <class 'numpy.float64'> cannot be safely interpreted as an integer.\n",
      "  bins = np.linspace(-0.5, 0.5, np.ceil(1./resolution), endpoint=False)\n"
     ]
    },
    {
     "name": "stdout",
     "output_type": "stream",
     "text": [
      "\n"
     ]
    },
    {
     "name": "stderr",
     "output_type": "stream",
     "text": [
      "/home/nvidia/github/python_environments/soundflux/lib/python3.5/site-packages/librosa/util/utils.py:828: FutureWarning: Using a non-tuple sequence for multidimensional indexing is deprecated; use `arr[tuple(seq)]` instead of `arr[seq]`. In the future this will be interpreted as an array index, `arr[np.array(seq)]`, which will result either in an error or a different result.\n",
      "  return (x > x_pad[inds1]) & (x >= x_pad[inds2])\n",
      "/home/nvidia/github/python_environments/soundflux/lib/python3.5/site-packages/librosa/core/pitch.py:159: DeprecationWarning: object of type <class 'numpy.float64'> cannot be safely interpreted as an integer.\n",
      "  bins = np.linspace(-0.5, 0.5, np.ceil(1./resolution), endpoint=False)\n",
      "/home/nvidia/github/python_environments/soundflux/lib/python3.5/site-packages/librosa/core/pitch.py:159: DeprecationWarning: object of type <class 'numpy.float64'> cannot be safely interpreted as an integer.\n",
      "  bins = np.linspace(-0.5, 0.5, np.ceil(1./resolution), endpoint=False)\n"
     ]
    },
    {
     "name": "stdout",
     "output_type": "stream",
     "text": [
      "\n",
      "\n"
     ]
    },
    {
     "name": "stderr",
     "output_type": "stream",
     "text": [
      "/home/nvidia/github/python_environments/soundflux/lib/python3.5/site-packages/librosa/util/utils.py:828: FutureWarning: Using a non-tuple sequence for multidimensional indexing is deprecated; use `arr[tuple(seq)]` instead of `arr[seq]`. In the future this will be interpreted as an array index, `arr[np.array(seq)]`, which will result either in an error or a different result.\n",
      "  return (x > x_pad[inds1]) & (x >= x_pad[inds2])\n",
      "/home/nvidia/github/python_environments/soundflux/lib/python3.5/site-packages/librosa/core/pitch.py:159: DeprecationWarning: object of type <class 'numpy.float64'> cannot be safely interpreted as an integer.\n",
      "  bins = np.linspace(-0.5, 0.5, np.ceil(1./resolution), endpoint=False)\n"
     ]
    },
    {
     "name": "stdout",
     "output_type": "stream",
     "text": [
      "\n",
      "\n"
     ]
    },
    {
     "name": "stderr",
     "output_type": "stream",
     "text": [
      "/home/nvidia/github/python_environments/soundflux/lib/python3.5/site-packages/librosa/util/utils.py:828: FutureWarning: Using a non-tuple sequence for multidimensional indexing is deprecated; use `arr[tuple(seq)]` instead of `arr[seq]`. In the future this will be interpreted as an array index, `arr[np.array(seq)]`, which will result either in an error or a different result.\n",
      "  return (x > x_pad[inds1]) & (x >= x_pad[inds2])\n",
      "/home/nvidia/github/python_environments/soundflux/lib/python3.5/site-packages/librosa/core/pitch.py:159: DeprecationWarning: object of type <class 'numpy.float64'> cannot be safely interpreted as an integer.\n",
      "  bins = np.linspace(-0.5, 0.5, np.ceil(1./resolution), endpoint=False)\n",
      "/home/nvidia/github/python_environments/soundflux/lib/python3.5/site-packages/librosa/core/pitch.py:159: DeprecationWarning: object of type <class 'numpy.float64'> cannot be safely interpreted as an integer.\n",
      "  bins = np.linspace(-0.5, 0.5, np.ceil(1./resolution), endpoint=False)\n"
     ]
    },
    {
     "name": "stdout",
     "output_type": "stream",
     "text": [
      "\n",
      "\n",
      "\n"
     ]
    },
    {
     "name": "stderr",
     "output_type": "stream",
     "text": [
      "/home/nvidia/github/python_environments/soundflux/lib/python3.5/site-packages/librosa/util/utils.py:828: FutureWarning: Using a non-tuple sequence for multidimensional indexing is deprecated; use `arr[tuple(seq)]` instead of `arr[seq]`. In the future this will be interpreted as an array index, `arr[np.array(seq)]`, which will result either in an error or a different result.\n",
      "  return (x > x_pad[inds1]) & (x >= x_pad[inds2])\n",
      "/home/nvidia/github/python_environments/soundflux/lib/python3.5/site-packages/librosa/core/pitch.py:159: DeprecationWarning: object of type <class 'numpy.float64'> cannot be safely interpreted as an integer.\n",
      "  bins = np.linspace(-0.5, 0.5, np.ceil(1./resolution), endpoint=False)\n",
      "/home/nvidia/github/python_environments/soundflux/lib/python3.5/site-packages/librosa/core/pitch.py:159: DeprecationWarning: object of type <class 'numpy.float64'> cannot be safely interpreted as an integer.\n",
      "  bins = np.linspace(-0.5, 0.5, np.ceil(1./resolution), endpoint=False)\n",
      "/home/nvidia/github/python_environments/soundflux/lib/python3.5/site-packages/librosa/core/pitch.py:159: DeprecationWarning: object of type <class 'numpy.float64'> cannot be safely interpreted as an integer.\n",
      "  bins = np.linspace(-0.5, 0.5, np.ceil(1./resolution), endpoint=False)\n",
      "/home/nvidia/github/python_environments/soundflux/lib/python3.5/site-packages/librosa/core/pitch.py:159: DeprecationWarning: object of type <class 'numpy.float64'> cannot be safely interpreted as an integer.\n",
      "  bins = np.linspace(-0.5, 0.5, np.ceil(1./resolution), endpoint=False)\n"
     ]
    },
    {
     "name": "stdout",
     "output_type": "stream",
     "text": [
      "\n",
      "\n"
     ]
    },
    {
     "name": "stderr",
     "output_type": "stream",
     "text": [
      "/home/nvidia/github/python_environments/soundflux/lib/python3.5/site-packages/librosa/util/utils.py:828: FutureWarning: Using a non-tuple sequence for multidimensional indexing is deprecated; use `arr[tuple(seq)]` instead of `arr[seq]`. In the future this will be interpreted as an array index, `arr[np.array(seq)]`, which will result either in an error or a different result.\n",
      "  return (x > x_pad[inds1]) & (x >= x_pad[inds2])\n",
      "/home/nvidia/github/python_environments/soundflux/lib/python3.5/site-packages/librosa/core/pitch.py:159: DeprecationWarning: object of type <class 'numpy.float64'> cannot be safely interpreted as an integer.\n",
      "  bins = np.linspace(-0.5, 0.5, np.ceil(1./resolution), endpoint=False)\n"
     ]
    },
    {
     "name": "stdout",
     "output_type": "stream",
     "text": [
      "\n"
     ]
    },
    {
     "name": "stderr",
     "output_type": "stream",
     "text": [
      "/home/nvidia/github/python_environments/soundflux/lib/python3.5/site-packages/librosa/util/utils.py:828: FutureWarning: Using a non-tuple sequence for multidimensional indexing is deprecated; use `arr[tuple(seq)]` instead of `arr[seq]`. In the future this will be interpreted as an array index, `arr[np.array(seq)]`, which will result either in an error or a different result.\n",
      "  return (x > x_pad[inds1]) & (x >= x_pad[inds2])\n",
      "/home/nvidia/github/python_environments/soundflux/lib/python3.5/site-packages/librosa/core/pitch.py:159: DeprecationWarning: object of type <class 'numpy.float64'> cannot be safely interpreted as an integer.\n",
      "  bins = np.linspace(-0.5, 0.5, np.ceil(1./resolution), endpoint=False)\n",
      "/home/nvidia/github/python_environments/soundflux/lib/python3.5/site-packages/librosa/core/pitch.py:159: DeprecationWarning: object of type <class 'numpy.float64'> cannot be safely interpreted as an integer.\n",
      "  bins = np.linspace(-0.5, 0.5, np.ceil(1./resolution), endpoint=False)\n"
     ]
    },
    {
     "name": "stdout",
     "output_type": "stream",
     "text": [
      "\n",
      "\n",
      "\n"
     ]
    },
    {
     "name": "stderr",
     "output_type": "stream",
     "text": [
      "/home/nvidia/github/python_environments/soundflux/lib/python3.5/site-packages/librosa/util/utils.py:828: FutureWarning: Using a non-tuple sequence for multidimensional indexing is deprecated; use `arr[tuple(seq)]` instead of `arr[seq]`. In the future this will be interpreted as an array index, `arr[np.array(seq)]`, which will result either in an error or a different result.\n",
      "  return (x > x_pad[inds1]) & (x >= x_pad[inds2])\n",
      "/home/nvidia/github/python_environments/soundflux/lib/python3.5/site-packages/librosa/core/pitch.py:159: DeprecationWarning: object of type <class 'numpy.float64'> cannot be safely interpreted as an integer.\n",
      "  bins = np.linspace(-0.5, 0.5, np.ceil(1./resolution), endpoint=False)\n",
      "/home/nvidia/github/python_environments/soundflux/lib/python3.5/site-packages/librosa/core/pitch.py:159: DeprecationWarning: object of type <class 'numpy.float64'> cannot be safely interpreted as an integer.\n",
      "  bins = np.linspace(-0.5, 0.5, np.ceil(1./resolution), endpoint=False)\n"
     ]
    },
    {
     "name": "stdout",
     "output_type": "stream",
     "text": [
      "\n",
      "\n"
     ]
    },
    {
     "name": "stderr",
     "output_type": "stream",
     "text": [
      "/home/nvidia/github/python_environments/soundflux/lib/python3.5/site-packages/librosa/util/utils.py:828: FutureWarning: Using a non-tuple sequence for multidimensional indexing is deprecated; use `arr[tuple(seq)]` instead of `arr[seq]`. In the future this will be interpreted as an array index, `arr[np.array(seq)]`, which will result either in an error or a different result.\n",
      "  return (x > x_pad[inds1]) & (x >= x_pad[inds2])\n",
      "/home/nvidia/github/python_environments/soundflux/lib/python3.5/site-packages/librosa/core/pitch.py:159: DeprecationWarning: object of type <class 'numpy.float64'> cannot be safely interpreted as an integer.\n",
      "  bins = np.linspace(-0.5, 0.5, np.ceil(1./resolution), endpoint=False)\n",
      "/home/nvidia/github/python_environments/soundflux/lib/python3.5/site-packages/librosa/core/pitch.py:159: DeprecationWarning: object of type <class 'numpy.float64'> cannot be safely interpreted as an integer.\n",
      "  bins = np.linspace(-0.5, 0.5, np.ceil(1./resolution), endpoint=False)\n",
      "/home/nvidia/github/python_environments/soundflux/lib/python3.5/site-packages/librosa/core/pitch.py:159: DeprecationWarning: object of type <class 'numpy.float64'> cannot be safely interpreted as an integer.\n",
      "  bins = np.linspace(-0.5, 0.5, np.ceil(1./resolution), endpoint=False)\n",
      "/home/nvidia/github/python_environments/soundflux/lib/python3.5/site-packages/librosa/core/pitch.py:159: DeprecationWarning: object of type <class 'numpy.float64'> cannot be safely interpreted as an integer.\n",
      "  bins = np.linspace(-0.5, 0.5, np.ceil(1./resolution), endpoint=False)\n",
      "/home/nvidia/github/python_environments/soundflux/lib/python3.5/site-packages/librosa/core/pitch.py:159: DeprecationWarning: object of type <class 'numpy.float64'> cannot be safely interpreted as an integer.\n",
      "  bins = np.linspace(-0.5, 0.5, np.ceil(1./resolution), endpoint=False)\n"
     ]
    },
    {
     "name": "stdout",
     "output_type": "stream",
     "text": [
      "\n",
      "\n"
     ]
    },
    {
     "name": "stderr",
     "output_type": "stream",
     "text": [
      "/home/nvidia/github/python_environments/soundflux/lib/python3.5/site-packages/librosa/util/utils.py:828: FutureWarning: Using a non-tuple sequence for multidimensional indexing is deprecated; use `arr[tuple(seq)]` instead of `arr[seq]`. In the future this will be interpreted as an array index, `arr[np.array(seq)]`, which will result either in an error or a different result.\n",
      "  return (x > x_pad[inds1]) & (x >= x_pad[inds2])\n",
      "/home/nvidia/github/python_environments/soundflux/lib/python3.5/site-packages/librosa/core/pitch.py:159: DeprecationWarning: object of type <class 'numpy.float64'> cannot be safely interpreted as an integer.\n",
      "  bins = np.linspace(-0.5, 0.5, np.ceil(1./resolution), endpoint=False)\n",
      "/home/nvidia/github/python_environments/soundflux/lib/python3.5/site-packages/librosa/core/pitch.py:159: DeprecationWarning: object of type <class 'numpy.float64'> cannot be safely interpreted as an integer.\n",
      "  bins = np.linspace(-0.5, 0.5, np.ceil(1./resolution), endpoint=False)\n",
      "/home/nvidia/github/python_environments/soundflux/lib/python3.5/site-packages/librosa/core/pitch.py:159: DeprecationWarning: object of type <class 'numpy.float64'> cannot be safely interpreted as an integer.\n",
      "  bins = np.linspace(-0.5, 0.5, np.ceil(1./resolution), endpoint=False)\n",
      "/home/nvidia/github/python_environments/soundflux/lib/python3.5/site-packages/librosa/core/pitch.py:159: DeprecationWarning: object of type <class 'numpy.float64'> cannot be safely interpreted as an integer.\n",
      "  bins = np.linspace(-0.5, 0.5, np.ceil(1./resolution), endpoint=False)\n",
      "/home/nvidia/github/python_environments/soundflux/lib/python3.5/site-packages/librosa/core/pitch.py:159: DeprecationWarning: object of type <class 'numpy.float64'> cannot be safely interpreted as an integer.\n",
      "  bins = np.linspace(-0.5, 0.5, np.ceil(1./resolution), endpoint=False)\n"
     ]
    },
    {
     "name": "stdout",
     "output_type": "stream",
     "text": [
      "\n"
     ]
    },
    {
     "name": "stderr",
     "output_type": "stream",
     "text": [
      "/home/nvidia/github/python_environments/soundflux/lib/python3.5/site-packages/librosa/util/utils.py:828: FutureWarning: Using a non-tuple sequence for multidimensional indexing is deprecated; use `arr[tuple(seq)]` instead of `arr[seq]`. In the future this will be interpreted as an array index, `arr[np.array(seq)]`, which will result either in an error or a different result.\n",
      "  return (x > x_pad[inds1]) & (x >= x_pad[inds2])\n",
      "/home/nvidia/github/python_environments/soundflux/lib/python3.5/site-packages/librosa/core/pitch.py:159: DeprecationWarning: object of type <class 'numpy.float64'> cannot be safely interpreted as an integer.\n",
      "  bins = np.linspace(-0.5, 0.5, np.ceil(1./resolution), endpoint=False)\n",
      "/home/nvidia/github/python_environments/soundflux/lib/python3.5/site-packages/librosa/core/pitch.py:159: DeprecationWarning: object of type <class 'numpy.float64'> cannot be safely interpreted as an integer.\n",
      "  bins = np.linspace(-0.5, 0.5, np.ceil(1./resolution), endpoint=False)\n"
     ]
    },
    {
     "name": "stdout",
     "output_type": "stream",
     "text": [
      "\n",
      "\n",
      "\n",
      "\n"
     ]
    },
    {
     "name": "stderr",
     "output_type": "stream",
     "text": [
      "/home/nvidia/github/python_environments/soundflux/lib/python3.5/site-packages/librosa/util/utils.py:828: FutureWarning: Using a non-tuple sequence for multidimensional indexing is deprecated; use `arr[tuple(seq)]` instead of `arr[seq]`. In the future this will be interpreted as an array index, `arr[np.array(seq)]`, which will result either in an error or a different result.\n",
      "  return (x > x_pad[inds1]) & (x >= x_pad[inds2])\n",
      "/home/nvidia/github/python_environments/soundflux/lib/python3.5/site-packages/librosa/core/pitch.py:159: DeprecationWarning: object of type <class 'numpy.float64'> cannot be safely interpreted as an integer.\n",
      "  bins = np.linspace(-0.5, 0.5, np.ceil(1./resolution), endpoint=False)\n",
      "/home/nvidia/github/python_environments/soundflux/lib/python3.5/site-packages/librosa/core/pitch.py:159: DeprecationWarning: object of type <class 'numpy.float64'> cannot be safely interpreted as an integer.\n",
      "  bins = np.linspace(-0.5, 0.5, np.ceil(1./resolution), endpoint=False)\n",
      "/home/nvidia/github/python_environments/soundflux/lib/python3.5/site-packages/librosa/core/pitch.py:159: DeprecationWarning: object of type <class 'numpy.float64'> cannot be safely interpreted as an integer.\n",
      "  bins = np.linspace(-0.5, 0.5, np.ceil(1./resolution), endpoint=False)\n"
     ]
    },
    {
     "name": "stdout",
     "output_type": "stream",
     "text": [
      "\n",
      "\n",
      "\n"
     ]
    },
    {
     "name": "stderr",
     "output_type": "stream",
     "text": [
      "/home/nvidia/github/python_environments/soundflux/lib/python3.5/site-packages/librosa/util/utils.py:828: FutureWarning: Using a non-tuple sequence for multidimensional indexing is deprecated; use `arr[tuple(seq)]` instead of `arr[seq]`. In the future this will be interpreted as an array index, `arr[np.array(seq)]`, which will result either in an error or a different result.\n",
      "  return (x > x_pad[inds1]) & (x >= x_pad[inds2])\n",
      "/home/nvidia/github/python_environments/soundflux/lib/python3.5/site-packages/librosa/core/pitch.py:159: DeprecationWarning: object of type <class 'numpy.float64'> cannot be safely interpreted as an integer.\n",
      "  bins = np.linspace(-0.5, 0.5, np.ceil(1./resolution), endpoint=False)\n"
     ]
    },
    {
     "name": "stdout",
     "output_type": "stream",
     "text": [
      "\n"
     ]
    },
    {
     "name": "stderr",
     "output_type": "stream",
     "text": [
      "/home/nvidia/github/python_environments/soundflux/lib/python3.5/site-packages/librosa/util/utils.py:828: FutureWarning: Using a non-tuple sequence for multidimensional indexing is deprecated; use `arr[tuple(seq)]` instead of `arr[seq]`. In the future this will be interpreted as an array index, `arr[np.array(seq)]`, which will result either in an error or a different result.\n",
      "  return (x > x_pad[inds1]) & (x >= x_pad[inds2])\n",
      "/home/nvidia/github/python_environments/soundflux/lib/python3.5/site-packages/librosa/core/pitch.py:159: DeprecationWarning: object of type <class 'numpy.float64'> cannot be safely interpreted as an integer.\n",
      "  bins = np.linspace(-0.5, 0.5, np.ceil(1./resolution), endpoint=False)\n",
      "/home/nvidia/github/python_environments/soundflux/lib/python3.5/site-packages/librosa/core/pitch.py:159: DeprecationWarning: object of type <class 'numpy.float64'> cannot be safely interpreted as an integer.\n",
      "  bins = np.linspace(-0.5, 0.5, np.ceil(1./resolution), endpoint=False)\n",
      "/home/nvidia/github/python_environments/soundflux/lib/python3.5/site-packages/librosa/core/pitch.py:159: DeprecationWarning: object of type <class 'numpy.float64'> cannot be safely interpreted as an integer.\n",
      "  bins = np.linspace(-0.5, 0.5, np.ceil(1./resolution), endpoint=False)\n"
     ]
    },
    {
     "name": "stdout",
     "output_type": "stream",
     "text": [
      "\n",
      "\n"
     ]
    },
    {
     "name": "stderr",
     "output_type": "stream",
     "text": [
      "/home/nvidia/github/python_environments/soundflux/lib/python3.5/site-packages/librosa/util/utils.py:828: FutureWarning: Using a non-tuple sequence for multidimensional indexing is deprecated; use `arr[tuple(seq)]` instead of `arr[seq]`. In the future this will be interpreted as an array index, `arr[np.array(seq)]`, which will result either in an error or a different result.\n",
      "  return (x > x_pad[inds1]) & (x >= x_pad[inds2])\n",
      "/home/nvidia/github/python_environments/soundflux/lib/python3.5/site-packages/librosa/core/pitch.py:159: DeprecationWarning: object of type <class 'numpy.float64'> cannot be safely interpreted as an integer.\n",
      "  bins = np.linspace(-0.5, 0.5, np.ceil(1./resolution), endpoint=False)\n"
     ]
    },
    {
     "name": "stdout",
     "output_type": "stream",
     "text": [
      "\n"
     ]
    },
    {
     "name": "stderr",
     "output_type": "stream",
     "text": [
      "/home/nvidia/github/python_environments/soundflux/lib/python3.5/site-packages/librosa/util/utils.py:828: FutureWarning: Using a non-tuple sequence for multidimensional indexing is deprecated; use `arr[tuple(seq)]` instead of `arr[seq]`. In the future this will be interpreted as an array index, `arr[np.array(seq)]`, which will result either in an error or a different result.\n",
      "  return (x > x_pad[inds1]) & (x >= x_pad[inds2])\n",
      "/home/nvidia/github/python_environments/soundflux/lib/python3.5/site-packages/librosa/core/pitch.py:159: DeprecationWarning: object of type <class 'numpy.float64'> cannot be safely interpreted as an integer.\n",
      "  bins = np.linspace(-0.5, 0.5, np.ceil(1./resolution), endpoint=False)\n",
      "/home/nvidia/github/python_environments/soundflux/lib/python3.5/site-packages/librosa/core/pitch.py:159: DeprecationWarning: object of type <class 'numpy.float64'> cannot be safely interpreted as an integer.\n",
      "  bins = np.linspace(-0.5, 0.5, np.ceil(1./resolution), endpoint=False)\n",
      "/home/nvidia/github/python_environments/soundflux/lib/python3.5/site-packages/librosa/core/pitch.py:159: DeprecationWarning: object of type <class 'numpy.float64'> cannot be safely interpreted as an integer.\n",
      "  bins = np.linspace(-0.5, 0.5, np.ceil(1./resolution), endpoint=False)\n",
      "/home/nvidia/github/python_environments/soundflux/lib/python3.5/site-packages/librosa/core/pitch.py:159: DeprecationWarning: object of type <class 'numpy.float64'> cannot be safely interpreted as an integer.\n",
      "  bins = np.linspace(-0.5, 0.5, np.ceil(1./resolution), endpoint=False)\n",
      "/home/nvidia/github/python_environments/soundflux/lib/python3.5/site-packages/librosa/core/pitch.py:159: DeprecationWarning: object of type <class 'numpy.float64'> cannot be safely interpreted as an integer.\n",
      "  bins = np.linspace(-0.5, 0.5, np.ceil(1./resolution), endpoint=False)\n"
     ]
    },
    {
     "name": "stdout",
     "output_type": "stream",
     "text": [
      "\n"
     ]
    },
    {
     "name": "stderr",
     "output_type": "stream",
     "text": [
      "/home/nvidia/github/python_environments/soundflux/lib/python3.5/site-packages/librosa/util/utils.py:828: FutureWarning: Using a non-tuple sequence for multidimensional indexing is deprecated; use `arr[tuple(seq)]` instead of `arr[seq]`. In the future this will be interpreted as an array index, `arr[np.array(seq)]`, which will result either in an error or a different result.\n",
      "  return (x > x_pad[inds1]) & (x >= x_pad[inds2])\n",
      "/home/nvidia/github/python_environments/soundflux/lib/python3.5/site-packages/librosa/core/pitch.py:159: DeprecationWarning: object of type <class 'numpy.float64'> cannot be safely interpreted as an integer.\n",
      "  bins = np.linspace(-0.5, 0.5, np.ceil(1./resolution), endpoint=False)\n"
     ]
    },
    {
     "name": "stdout",
     "output_type": "stream",
     "text": [
      "\n"
     ]
    },
    {
     "name": "stderr",
     "output_type": "stream",
     "text": [
      "/home/nvidia/github/python_environments/soundflux/lib/python3.5/site-packages/librosa/util/utils.py:828: FutureWarning: Using a non-tuple sequence for multidimensional indexing is deprecated; use `arr[tuple(seq)]` instead of `arr[seq]`. In the future this will be interpreted as an array index, `arr[np.array(seq)]`, which will result either in an error or a different result.\n",
      "  return (x > x_pad[inds1]) & (x >= x_pad[inds2])\n",
      "/home/nvidia/github/python_environments/soundflux/lib/python3.5/site-packages/librosa/core/pitch.py:159: DeprecationWarning: object of type <class 'numpy.float64'> cannot be safely interpreted as an integer.\n",
      "  bins = np.linspace(-0.5, 0.5, np.ceil(1./resolution), endpoint=False)\n",
      "/home/nvidia/github/python_environments/soundflux/lib/python3.5/site-packages/librosa/core/pitch.py:159: DeprecationWarning: object of type <class 'numpy.float64'> cannot be safely interpreted as an integer.\n",
      "  bins = np.linspace(-0.5, 0.5, np.ceil(1./resolution), endpoint=False)\n",
      "/home/nvidia/github/python_environments/soundflux/lib/python3.5/site-packages/librosa/core/pitch.py:159: DeprecationWarning: object of type <class 'numpy.float64'> cannot be safely interpreted as an integer.\n",
      "  bins = np.linspace(-0.5, 0.5, np.ceil(1./resolution), endpoint=False)\n",
      "/home/nvidia/github/python_environments/soundflux/lib/python3.5/site-packages/librosa/core/pitch.py:159: DeprecationWarning: object of type <class 'numpy.float64'> cannot be safely interpreted as an integer.\n",
      "  bins = np.linspace(-0.5, 0.5, np.ceil(1./resolution), endpoint=False)\n"
     ]
    },
    {
     "name": "stdout",
     "output_type": "stream",
     "text": [
      "\n",
      "\n"
     ]
    },
    {
     "name": "stderr",
     "output_type": "stream",
     "text": [
      "/home/nvidia/github/python_environments/soundflux/lib/python3.5/site-packages/librosa/util/utils.py:828: FutureWarning: Using a non-tuple sequence for multidimensional indexing is deprecated; use `arr[tuple(seq)]` instead of `arr[seq]`. In the future this will be interpreted as an array index, `arr[np.array(seq)]`, which will result either in an error or a different result.\n",
      "  return (x > x_pad[inds1]) & (x >= x_pad[inds2])\n",
      "/home/nvidia/github/python_environments/soundflux/lib/python3.5/site-packages/librosa/core/pitch.py:159: DeprecationWarning: object of type <class 'numpy.float64'> cannot be safely interpreted as an integer.\n",
      "  bins = np.linspace(-0.5, 0.5, np.ceil(1./resolution), endpoint=False)\n"
     ]
    },
    {
     "name": "stdout",
     "output_type": "stream",
     "text": [
      "\n",
      "\n"
     ]
    },
    {
     "name": "stderr",
     "output_type": "stream",
     "text": [
      "/home/nvidia/github/python_environments/soundflux/lib/python3.5/site-packages/librosa/util/utils.py:828: FutureWarning: Using a non-tuple sequence for multidimensional indexing is deprecated; use `arr[tuple(seq)]` instead of `arr[seq]`. In the future this will be interpreted as an array index, `arr[np.array(seq)]`, which will result either in an error or a different result.\n",
      "  return (x > x_pad[inds1]) & (x >= x_pad[inds2])\n",
      "/home/nvidia/github/python_environments/soundflux/lib/python3.5/site-packages/librosa/core/pitch.py:159: DeprecationWarning: object of type <class 'numpy.float64'> cannot be safely interpreted as an integer.\n",
      "  bins = np.linspace(-0.5, 0.5, np.ceil(1./resolution), endpoint=False)\n",
      "/home/nvidia/github/python_environments/soundflux/lib/python3.5/site-packages/librosa/core/pitch.py:159: DeprecationWarning: object of type <class 'numpy.float64'> cannot be safely interpreted as an integer.\n",
      "  bins = np.linspace(-0.5, 0.5, np.ceil(1./resolution), endpoint=False)\n",
      "/home/nvidia/github/python_environments/soundflux/lib/python3.5/site-packages/librosa/core/pitch.py:159: DeprecationWarning: object of type <class 'numpy.float64'> cannot be safely interpreted as an integer.\n",
      "  bins = np.linspace(-0.5, 0.5, np.ceil(1./resolution), endpoint=False)\n"
     ]
    },
    {
     "name": "stdout",
     "output_type": "stream",
     "text": [
      "\n"
     ]
    },
    {
     "name": "stderr",
     "output_type": "stream",
     "text": [
      "/home/nvidia/github/python_environments/soundflux/lib/python3.5/site-packages/librosa/util/utils.py:828: FutureWarning: Using a non-tuple sequence for multidimensional indexing is deprecated; use `arr[tuple(seq)]` instead of `arr[seq]`. In the future this will be interpreted as an array index, `arr[np.array(seq)]`, which will result either in an error or a different result.\n",
      "  return (x > x_pad[inds1]) & (x >= x_pad[inds2])\n",
      "/home/nvidia/github/python_environments/soundflux/lib/python3.5/site-packages/librosa/core/pitch.py:159: DeprecationWarning: object of type <class 'numpy.float64'> cannot be safely interpreted as an integer.\n",
      "  bins = np.linspace(-0.5, 0.5, np.ceil(1./resolution), endpoint=False)\n"
     ]
    },
    {
     "name": "stdout",
     "output_type": "stream",
     "text": [
      "\n",
      "\n",
      "\n",
      "\n",
      "\n",
      "\n",
      "\n"
     ]
    },
    {
     "name": "stderr",
     "output_type": "stream",
     "text": [
      "/home/nvidia/github/python_environments/soundflux/lib/python3.5/site-packages/librosa/util/utils.py:828: FutureWarning: Using a non-tuple sequence for multidimensional indexing is deprecated; use `arr[tuple(seq)]` instead of `arr[seq]`. In the future this will be interpreted as an array index, `arr[np.array(seq)]`, which will result either in an error or a different result.\n",
      "  return (x > x_pad[inds1]) & (x >= x_pad[inds2])\n",
      "/home/nvidia/github/python_environments/soundflux/lib/python3.5/site-packages/librosa/core/pitch.py:159: DeprecationWarning: object of type <class 'numpy.float64'> cannot be safely interpreted as an integer.\n",
      "  bins = np.linspace(-0.5, 0.5, np.ceil(1./resolution), endpoint=False)\n",
      "/home/nvidia/github/python_environments/soundflux/lib/python3.5/site-packages/librosa/core/pitch.py:159: DeprecationWarning: object of type <class 'numpy.float64'> cannot be safely interpreted as an integer.\n",
      "  bins = np.linspace(-0.5, 0.5, np.ceil(1./resolution), endpoint=False)\n"
     ]
    },
    {
     "name": "stdout",
     "output_type": "stream",
     "text": [
      "\n"
     ]
    },
    {
     "name": "stderr",
     "output_type": "stream",
     "text": [
      "/home/nvidia/github/python_environments/soundflux/lib/python3.5/site-packages/librosa/util/utils.py:828: FutureWarning: Using a non-tuple sequence for multidimensional indexing is deprecated; use `arr[tuple(seq)]` instead of `arr[seq]`. In the future this will be interpreted as an array index, `arr[np.array(seq)]`, which will result either in an error or a different result.\n",
      "  return (x > x_pad[inds1]) & (x >= x_pad[inds2])\n",
      "/home/nvidia/github/python_environments/soundflux/lib/python3.5/site-packages/librosa/core/pitch.py:159: DeprecationWarning: object of type <class 'numpy.float64'> cannot be safely interpreted as an integer.\n",
      "  bins = np.linspace(-0.5, 0.5, np.ceil(1./resolution), endpoint=False)\n",
      "/home/nvidia/github/python_environments/soundflux/lib/python3.5/site-packages/librosa/core/pitch.py:159: DeprecationWarning: object of type <class 'numpy.float64'> cannot be safely interpreted as an integer.\n",
      "  bins = np.linspace(-0.5, 0.5, np.ceil(1./resolution), endpoint=False)\n",
      "/home/nvidia/github/python_environments/soundflux/lib/python3.5/site-packages/librosa/core/pitch.py:159: DeprecationWarning: object of type <class 'numpy.float64'> cannot be safely interpreted as an integer.\n",
      "  bins = np.linspace(-0.5, 0.5, np.ceil(1./resolution), endpoint=False)\n",
      "/home/nvidia/github/python_environments/soundflux/lib/python3.5/site-packages/librosa/core/pitch.py:159: DeprecationWarning: object of type <class 'numpy.float64'> cannot be safely interpreted as an integer.\n",
      "  bins = np.linspace(-0.5, 0.5, np.ceil(1./resolution), endpoint=False)\n"
     ]
    },
    {
     "name": "stdout",
     "output_type": "stream",
     "text": [
      "\n",
      "\n"
     ]
    },
    {
     "name": "stderr",
     "output_type": "stream",
     "text": [
      "/home/nvidia/github/python_environments/soundflux/lib/python3.5/site-packages/librosa/util/utils.py:828: FutureWarning: Using a non-tuple sequence for multidimensional indexing is deprecated; use `arr[tuple(seq)]` instead of `arr[seq]`. In the future this will be interpreted as an array index, `arr[np.array(seq)]`, which will result either in an error or a different result.\n",
      "  return (x > x_pad[inds1]) & (x >= x_pad[inds2])\n",
      "/home/nvidia/github/python_environments/soundflux/lib/python3.5/site-packages/librosa/core/pitch.py:159: DeprecationWarning: object of type <class 'numpy.float64'> cannot be safely interpreted as an integer.\n",
      "  bins = np.linspace(-0.5, 0.5, np.ceil(1./resolution), endpoint=False)\n"
     ]
    },
    {
     "name": "stdout",
     "output_type": "stream",
     "text": [
      "\n",
      "\n",
      "\n"
     ]
    },
    {
     "name": "stderr",
     "output_type": "stream",
     "text": [
      "/home/nvidia/github/python_environments/soundflux/lib/python3.5/site-packages/librosa/util/utils.py:828: FutureWarning: Using a non-tuple sequence for multidimensional indexing is deprecated; use `arr[tuple(seq)]` instead of `arr[seq]`. In the future this will be interpreted as an array index, `arr[np.array(seq)]`, which will result either in an error or a different result.\n",
      "  return (x > x_pad[inds1]) & (x >= x_pad[inds2])\n",
      "/home/nvidia/github/python_environments/soundflux/lib/python3.5/site-packages/librosa/core/pitch.py:159: DeprecationWarning: object of type <class 'numpy.float64'> cannot be safely interpreted as an integer.\n",
      "  bins = np.linspace(-0.5, 0.5, np.ceil(1./resolution), endpoint=False)\n",
      "/home/nvidia/github/python_environments/soundflux/lib/python3.5/site-packages/librosa/core/pitch.py:159: DeprecationWarning: object of type <class 'numpy.float64'> cannot be safely interpreted as an integer.\n",
      "  bins = np.linspace(-0.5, 0.5, np.ceil(1./resolution), endpoint=False)\n",
      "/home/nvidia/github/python_environments/soundflux/lib/python3.5/site-packages/librosa/core/pitch.py:159: DeprecationWarning: object of type <class 'numpy.float64'> cannot be safely interpreted as an integer.\n",
      "  bins = np.linspace(-0.5, 0.5, np.ceil(1./resolution), endpoint=False)\n",
      "/home/nvidia/github/python_environments/soundflux/lib/python3.5/site-packages/librosa/core/pitch.py:159: DeprecationWarning: object of type <class 'numpy.float64'> cannot be safely interpreted as an integer.\n",
      "  bins = np.linspace(-0.5, 0.5, np.ceil(1./resolution), endpoint=False)\n",
      "/home/nvidia/github/python_environments/soundflux/lib/python3.5/site-packages/librosa/core/pitch.py:159: DeprecationWarning: object of type <class 'numpy.float64'> cannot be safely interpreted as an integer.\n",
      "  bins = np.linspace(-0.5, 0.5, np.ceil(1./resolution), endpoint=False)\n",
      "/home/nvidia/github/python_environments/soundflux/lib/python3.5/site-packages/librosa/core/pitch.py:159: DeprecationWarning: object of type <class 'numpy.float64'> cannot be safely interpreted as an integer.\n",
      "  bins = np.linspace(-0.5, 0.5, np.ceil(1./resolution), endpoint=False)\n",
      "/home/nvidia/github/python_environments/soundflux/lib/python3.5/site-packages/librosa/core/pitch.py:159: DeprecationWarning: object of type <class 'numpy.float64'> cannot be safely interpreted as an integer.\n",
      "  bins = np.linspace(-0.5, 0.5, np.ceil(1./resolution), endpoint=False)\n"
     ]
    },
    {
     "name": "stdout",
     "output_type": "stream",
     "text": [
      "\n"
     ]
    },
    {
     "name": "stderr",
     "output_type": "stream",
     "text": [
      "/home/nvidia/github/python_environments/soundflux/lib/python3.5/site-packages/librosa/util/utils.py:828: FutureWarning: Using a non-tuple sequence for multidimensional indexing is deprecated; use `arr[tuple(seq)]` instead of `arr[seq]`. In the future this will be interpreted as an array index, `arr[np.array(seq)]`, which will result either in an error or a different result.\n",
      "  return (x > x_pad[inds1]) & (x >= x_pad[inds2])\n",
      "/home/nvidia/github/python_environments/soundflux/lib/python3.5/site-packages/librosa/core/pitch.py:159: DeprecationWarning: object of type <class 'numpy.float64'> cannot be safely interpreted as an integer.\n",
      "  bins = np.linspace(-0.5, 0.5, np.ceil(1./resolution), endpoint=False)\n"
     ]
    },
    {
     "name": "stdout",
     "output_type": "stream",
     "text": [
      "\n"
     ]
    },
    {
     "name": "stderr",
     "output_type": "stream",
     "text": [
      "/home/nvidia/github/python_environments/soundflux/lib/python3.5/site-packages/librosa/util/utils.py:828: FutureWarning: Using a non-tuple sequence for multidimensional indexing is deprecated; use `arr[tuple(seq)]` instead of `arr[seq]`. In the future this will be interpreted as an array index, `arr[np.array(seq)]`, which will result either in an error or a different result.\n",
      "  return (x > x_pad[inds1]) & (x >= x_pad[inds2])\n",
      "/home/nvidia/github/python_environments/soundflux/lib/python3.5/site-packages/librosa/core/pitch.py:159: DeprecationWarning: object of type <class 'numpy.float64'> cannot be safely interpreted as an integer.\n",
      "  bins = np.linspace(-0.5, 0.5, np.ceil(1./resolution), endpoint=False)\n",
      "/home/nvidia/github/python_environments/soundflux/lib/python3.5/site-packages/librosa/core/pitch.py:159: DeprecationWarning: object of type <class 'numpy.float64'> cannot be safely interpreted as an integer.\n",
      "  bins = np.linspace(-0.5, 0.5, np.ceil(1./resolution), endpoint=False)\n"
     ]
    },
    {
     "name": "stdout",
     "output_type": "stream",
     "text": [
      "\n"
     ]
    },
    {
     "name": "stderr",
     "output_type": "stream",
     "text": [
      "/home/nvidia/github/python_environments/soundflux/lib/python3.5/site-packages/librosa/util/utils.py:828: FutureWarning: Using a non-tuple sequence for multidimensional indexing is deprecated; use `arr[tuple(seq)]` instead of `arr[seq]`. In the future this will be interpreted as an array index, `arr[np.array(seq)]`, which will result either in an error or a different result.\n",
      "  return (x > x_pad[inds1]) & (x >= x_pad[inds2])\n",
      "/home/nvidia/github/python_environments/soundflux/lib/python3.5/site-packages/librosa/core/pitch.py:159: DeprecationWarning: object of type <class 'numpy.float64'> cannot be safely interpreted as an integer.\n",
      "  bins = np.linspace(-0.5, 0.5, np.ceil(1./resolution), endpoint=False)\n"
     ]
    },
    {
     "name": "stdout",
     "output_type": "stream",
     "text": [
      "\n"
     ]
    },
    {
     "name": "stderr",
     "output_type": "stream",
     "text": [
      "/home/nvidia/github/python_environments/soundflux/lib/python3.5/site-packages/librosa/util/utils.py:828: FutureWarning: Using a non-tuple sequence for multidimensional indexing is deprecated; use `arr[tuple(seq)]` instead of `arr[seq]`. In the future this will be interpreted as an array index, `arr[np.array(seq)]`, which will result either in an error or a different result.\n",
      "  return (x > x_pad[inds1]) & (x >= x_pad[inds2])\n",
      "/home/nvidia/github/python_environments/soundflux/lib/python3.5/site-packages/librosa/core/pitch.py:159: DeprecationWarning: object of type <class 'numpy.float64'> cannot be safely interpreted as an integer.\n",
      "  bins = np.linspace(-0.5, 0.5, np.ceil(1./resolution), endpoint=False)\n",
      "/home/nvidia/github/python_environments/soundflux/lib/python3.5/site-packages/librosa/core/pitch.py:159: DeprecationWarning: object of type <class 'numpy.float64'> cannot be safely interpreted as an integer.\n",
      "  bins = np.linspace(-0.5, 0.5, np.ceil(1./resolution), endpoint=False)\n",
      "/home/nvidia/github/python_environments/soundflux/lib/python3.5/site-packages/librosa/core/pitch.py:159: DeprecationWarning: object of type <class 'numpy.float64'> cannot be safely interpreted as an integer.\n",
      "  bins = np.linspace(-0.5, 0.5, np.ceil(1./resolution), endpoint=False)\n",
      "/home/nvidia/github/python_environments/soundflux/lib/python3.5/site-packages/librosa/core/pitch.py:159: DeprecationWarning: object of type <class 'numpy.float64'> cannot be safely interpreted as an integer.\n",
      "  bins = np.linspace(-0.5, 0.5, np.ceil(1./resolution), endpoint=False)\n",
      "/home/nvidia/github/python_environments/soundflux/lib/python3.5/site-packages/librosa/core/pitch.py:159: DeprecationWarning: object of type <class 'numpy.float64'> cannot be safely interpreted as an integer.\n",
      "  bins = np.linspace(-0.5, 0.5, np.ceil(1./resolution), endpoint=False)\n",
      "/home/nvidia/github/python_environments/soundflux/lib/python3.5/site-packages/librosa/core/pitch.py:159: DeprecationWarning: object of type <class 'numpy.float64'> cannot be safely interpreted as an integer.\n",
      "  bins = np.linspace(-0.5, 0.5, np.ceil(1./resolution), endpoint=False)\n"
     ]
    },
    {
     "name": "stdout",
     "output_type": "stream",
     "text": [
      "\n"
     ]
    },
    {
     "name": "stderr",
     "output_type": "stream",
     "text": [
      "/home/nvidia/github/python_environments/soundflux/lib/python3.5/site-packages/librosa/util/utils.py:828: FutureWarning: Using a non-tuple sequence for multidimensional indexing is deprecated; use `arr[tuple(seq)]` instead of `arr[seq]`. In the future this will be interpreted as an array index, `arr[np.array(seq)]`, which will result either in an error or a different result.\n",
      "  return (x > x_pad[inds1]) & (x >= x_pad[inds2])\n",
      "/home/nvidia/github/python_environments/soundflux/lib/python3.5/site-packages/librosa/core/pitch.py:159: DeprecationWarning: object of type <class 'numpy.float64'> cannot be safely interpreted as an integer.\n",
      "  bins = np.linspace(-0.5, 0.5, np.ceil(1./resolution), endpoint=False)\n",
      "/home/nvidia/github/python_environments/soundflux/lib/python3.5/site-packages/librosa/core/pitch.py:159: DeprecationWarning: object of type <class 'numpy.float64'> cannot be safely interpreted as an integer.\n",
      "  bins = np.linspace(-0.5, 0.5, np.ceil(1./resolution), endpoint=False)\n",
      "/home/nvidia/github/python_environments/soundflux/lib/python3.5/site-packages/librosa/core/pitch.py:159: DeprecationWarning: object of type <class 'numpy.float64'> cannot be safely interpreted as an integer.\n",
      "  bins = np.linspace(-0.5, 0.5, np.ceil(1./resolution), endpoint=False)\n",
      "/home/nvidia/github/python_environments/soundflux/lib/python3.5/site-packages/librosa/core/pitch.py:159: DeprecationWarning: object of type <class 'numpy.float64'> cannot be safely interpreted as an integer.\n",
      "  bins = np.linspace(-0.5, 0.5, np.ceil(1./resolution), endpoint=False)\n",
      "/home/nvidia/github/python_environments/soundflux/lib/python3.5/site-packages/librosa/core/pitch.py:159: DeprecationWarning: object of type <class 'numpy.float64'> cannot be safely interpreted as an integer.\n",
      "  bins = np.linspace(-0.5, 0.5, np.ceil(1./resolution), endpoint=False)\n"
     ]
    },
    {
     "name": "stdout",
     "output_type": "stream",
     "text": [
      "\n",
      "\n",
      "\n"
     ]
    },
    {
     "name": "stderr",
     "output_type": "stream",
     "text": [
      "/home/nvidia/github/python_environments/soundflux/lib/python3.5/site-packages/librosa/util/utils.py:828: FutureWarning: Using a non-tuple sequence for multidimensional indexing is deprecated; use `arr[tuple(seq)]` instead of `arr[seq]`. In the future this will be interpreted as an array index, `arr[np.array(seq)]`, which will result either in an error or a different result.\n",
      "  return (x > x_pad[inds1]) & (x >= x_pad[inds2])\n",
      "/home/nvidia/github/python_environments/soundflux/lib/python3.5/site-packages/librosa/core/pitch.py:159: DeprecationWarning: object of type <class 'numpy.float64'> cannot be safely interpreted as an integer.\n",
      "  bins = np.linspace(-0.5, 0.5, np.ceil(1./resolution), endpoint=False)\n",
      "/home/nvidia/github/python_environments/soundflux/lib/python3.5/site-packages/librosa/core/pitch.py:159: DeprecationWarning: object of type <class 'numpy.float64'> cannot be safely interpreted as an integer.\n",
      "  bins = np.linspace(-0.5, 0.5, np.ceil(1./resolution), endpoint=False)\n"
     ]
    },
    {
     "name": "stdout",
     "output_type": "stream",
     "text": [
      "\n",
      "\n",
      "\n"
     ]
    },
    {
     "name": "stderr",
     "output_type": "stream",
     "text": [
      "/home/nvidia/github/python_environments/soundflux/lib/python3.5/site-packages/librosa/util/utils.py:828: FutureWarning: Using a non-tuple sequence for multidimensional indexing is deprecated; use `arr[tuple(seq)]` instead of `arr[seq]`. In the future this will be interpreted as an array index, `arr[np.array(seq)]`, which will result either in an error or a different result.\n",
      "  return (x > x_pad[inds1]) & (x >= x_pad[inds2])\n",
      "/home/nvidia/github/python_environments/soundflux/lib/python3.5/site-packages/librosa/core/pitch.py:159: DeprecationWarning: object of type <class 'numpy.float64'> cannot be safely interpreted as an integer.\n",
      "  bins = np.linspace(-0.5, 0.5, np.ceil(1./resolution), endpoint=False)\n",
      "/home/nvidia/github/python_environments/soundflux/lib/python3.5/site-packages/librosa/core/pitch.py:159: DeprecationWarning: object of type <class 'numpy.float64'> cannot be safely interpreted as an integer.\n",
      "  bins = np.linspace(-0.5, 0.5, np.ceil(1./resolution), endpoint=False)\n",
      "/home/nvidia/github/python_environments/soundflux/lib/python3.5/site-packages/librosa/core/pitch.py:159: DeprecationWarning: object of type <class 'numpy.float64'> cannot be safely interpreted as an integer.\n",
      "  bins = np.linspace(-0.5, 0.5, np.ceil(1./resolution), endpoint=False)\n"
     ]
    },
    {
     "name": "stdout",
     "output_type": "stream",
     "text": [
      "\n",
      "\n",
      "\n"
     ]
    },
    {
     "name": "stderr",
     "output_type": "stream",
     "text": [
      "/home/nvidia/github/python_environments/soundflux/lib/python3.5/site-packages/librosa/util/utils.py:828: FutureWarning: Using a non-tuple sequence for multidimensional indexing is deprecated; use `arr[tuple(seq)]` instead of `arr[seq]`. In the future this will be interpreted as an array index, `arr[np.array(seq)]`, which will result either in an error or a different result.\n",
      "  return (x > x_pad[inds1]) & (x >= x_pad[inds2])\n",
      "/home/nvidia/github/python_environments/soundflux/lib/python3.5/site-packages/librosa/core/pitch.py:159: DeprecationWarning: object of type <class 'numpy.float64'> cannot be safely interpreted as an integer.\n",
      "  bins = np.linspace(-0.5, 0.5, np.ceil(1./resolution), endpoint=False)\n",
      "/home/nvidia/github/python_environments/soundflux/lib/python3.5/site-packages/librosa/core/pitch.py:159: DeprecationWarning: object of type <class 'numpy.float64'> cannot be safely interpreted as an integer.\n",
      "  bins = np.linspace(-0.5, 0.5, np.ceil(1./resolution), endpoint=False)\n",
      "/home/nvidia/github/python_environments/soundflux/lib/python3.5/site-packages/librosa/core/pitch.py:159: DeprecationWarning: object of type <class 'numpy.float64'> cannot be safely interpreted as an integer.\n",
      "  bins = np.linspace(-0.5, 0.5, np.ceil(1./resolution), endpoint=False)\n"
     ]
    },
    {
     "name": "stdout",
     "output_type": "stream",
     "text": [
      "\n"
     ]
    },
    {
     "name": "stderr",
     "output_type": "stream",
     "text": [
      "/home/nvidia/github/python_environments/soundflux/lib/python3.5/site-packages/librosa/util/utils.py:828: FutureWarning: Using a non-tuple sequence for multidimensional indexing is deprecated; use `arr[tuple(seq)]` instead of `arr[seq]`. In the future this will be interpreted as an array index, `arr[np.array(seq)]`, which will result either in an error or a different result.\n",
      "  return (x > x_pad[inds1]) & (x >= x_pad[inds2])\n",
      "/home/nvidia/github/python_environments/soundflux/lib/python3.5/site-packages/librosa/core/pitch.py:159: DeprecationWarning: object of type <class 'numpy.float64'> cannot be safely interpreted as an integer.\n",
      "  bins = np.linspace(-0.5, 0.5, np.ceil(1./resolution), endpoint=False)\n"
     ]
    },
    {
     "name": "stdout",
     "output_type": "stream",
     "text": [
      "\n"
     ]
    },
    {
     "name": "stderr",
     "output_type": "stream",
     "text": [
      "/home/nvidia/github/python_environments/soundflux/lib/python3.5/site-packages/librosa/util/utils.py:828: FutureWarning: Using a non-tuple sequence for multidimensional indexing is deprecated; use `arr[tuple(seq)]` instead of `arr[seq]`. In the future this will be interpreted as an array index, `arr[np.array(seq)]`, which will result either in an error or a different result.\n",
      "  return (x > x_pad[inds1]) & (x >= x_pad[inds2])\n",
      "/home/nvidia/github/python_environments/soundflux/lib/python3.5/site-packages/librosa/core/pitch.py:159: DeprecationWarning: object of type <class 'numpy.float64'> cannot be safely interpreted as an integer.\n",
      "  bins = np.linspace(-0.5, 0.5, np.ceil(1./resolution), endpoint=False)\n"
     ]
    },
    {
     "name": "stdout",
     "output_type": "stream",
     "text": [
      "\n"
     ]
    },
    {
     "name": "stderr",
     "output_type": "stream",
     "text": [
      "/home/nvidia/github/python_environments/soundflux/lib/python3.5/site-packages/librosa/util/utils.py:828: FutureWarning: Using a non-tuple sequence for multidimensional indexing is deprecated; use `arr[tuple(seq)]` instead of `arr[seq]`. In the future this will be interpreted as an array index, `arr[np.array(seq)]`, which will result either in an error or a different result.\n",
      "  return (x > x_pad[inds1]) & (x >= x_pad[inds2])\n",
      "/home/nvidia/github/python_environments/soundflux/lib/python3.5/site-packages/librosa/core/pitch.py:159: DeprecationWarning: object of type <class 'numpy.float64'> cannot be safely interpreted as an integer.\n",
      "  bins = np.linspace(-0.5, 0.5, np.ceil(1./resolution), endpoint=False)\n",
      "/home/nvidia/github/python_environments/soundflux/lib/python3.5/site-packages/librosa/core/pitch.py:159: DeprecationWarning: object of type <class 'numpy.float64'> cannot be safely interpreted as an integer.\n",
      "  bins = np.linspace(-0.5, 0.5, np.ceil(1./resolution), endpoint=False)\n",
      "/home/nvidia/github/python_environments/soundflux/lib/python3.5/site-packages/librosa/core/pitch.py:159: DeprecationWarning: object of type <class 'numpy.float64'> cannot be safely interpreted as an integer.\n",
      "  bins = np.linspace(-0.5, 0.5, np.ceil(1./resolution), endpoint=False)\n"
     ]
    },
    {
     "name": "stdout",
     "output_type": "stream",
     "text": [
      "\n",
      "\n"
     ]
    },
    {
     "name": "stderr",
     "output_type": "stream",
     "text": [
      "/home/nvidia/github/python_environments/soundflux/lib/python3.5/site-packages/librosa/util/utils.py:828: FutureWarning: Using a non-tuple sequence for multidimensional indexing is deprecated; use `arr[tuple(seq)]` instead of `arr[seq]`. In the future this will be interpreted as an array index, `arr[np.array(seq)]`, which will result either in an error or a different result.\n",
      "  return (x > x_pad[inds1]) & (x >= x_pad[inds2])\n",
      "/home/nvidia/github/python_environments/soundflux/lib/python3.5/site-packages/librosa/core/pitch.py:159: DeprecationWarning: object of type <class 'numpy.float64'> cannot be safely interpreted as an integer.\n",
      "  bins = np.linspace(-0.5, 0.5, np.ceil(1./resolution), endpoint=False)\n",
      "/home/nvidia/github/python_environments/soundflux/lib/python3.5/site-packages/librosa/core/pitch.py:159: DeprecationWarning: object of type <class 'numpy.float64'> cannot be safely interpreted as an integer.\n",
      "  bins = np.linspace(-0.5, 0.5, np.ceil(1./resolution), endpoint=False)\n",
      "/home/nvidia/github/python_environments/soundflux/lib/python3.5/site-packages/librosa/core/pitch.py:159: DeprecationWarning: object of type <class 'numpy.float64'> cannot be safely interpreted as an integer.\n",
      "  bins = np.linspace(-0.5, 0.5, np.ceil(1./resolution), endpoint=False)\n",
      "/home/nvidia/github/python_environments/soundflux/lib/python3.5/site-packages/librosa/core/pitch.py:159: DeprecationWarning: object of type <class 'numpy.float64'> cannot be safely interpreted as an integer.\n",
      "  bins = np.linspace(-0.5, 0.5, np.ceil(1./resolution), endpoint=False)\n",
      "/home/nvidia/github/python_environments/soundflux/lib/python3.5/site-packages/librosa/core/pitch.py:159: DeprecationWarning: object of type <class 'numpy.float64'> cannot be safely interpreted as an integer.\n",
      "  bins = np.linspace(-0.5, 0.5, np.ceil(1./resolution), endpoint=False)\n"
     ]
    },
    {
     "name": "stdout",
     "output_type": "stream",
     "text": [
      "\n",
      "\n",
      "\n"
     ]
    },
    {
     "name": "stderr",
     "output_type": "stream",
     "text": [
      "/home/nvidia/github/python_environments/soundflux/lib/python3.5/site-packages/librosa/util/utils.py:828: FutureWarning: Using a non-tuple sequence for multidimensional indexing is deprecated; use `arr[tuple(seq)]` instead of `arr[seq]`. In the future this will be interpreted as an array index, `arr[np.array(seq)]`, which will result either in an error or a different result.\n",
      "  return (x > x_pad[inds1]) & (x >= x_pad[inds2])\n",
      "/home/nvidia/github/python_environments/soundflux/lib/python3.5/site-packages/librosa/core/pitch.py:159: DeprecationWarning: object of type <class 'numpy.float64'> cannot be safely interpreted as an integer.\n",
      "  bins = np.linspace(-0.5, 0.5, np.ceil(1./resolution), endpoint=False)\n",
      "/home/nvidia/github/python_environments/soundflux/lib/python3.5/site-packages/librosa/core/pitch.py:159: DeprecationWarning: object of type <class 'numpy.float64'> cannot be safely interpreted as an integer.\n",
      "  bins = np.linspace(-0.5, 0.5, np.ceil(1./resolution), endpoint=False)\n"
     ]
    },
    {
     "name": "stdout",
     "output_type": "stream",
     "text": [
      "\n"
     ]
    },
    {
     "name": "stderr",
     "output_type": "stream",
     "text": [
      "/home/nvidia/github/python_environments/soundflux/lib/python3.5/site-packages/librosa/util/utils.py:828: FutureWarning: Using a non-tuple sequence for multidimensional indexing is deprecated; use `arr[tuple(seq)]` instead of `arr[seq]`. In the future this will be interpreted as an array index, `arr[np.array(seq)]`, which will result either in an error or a different result.\n",
      "  return (x > x_pad[inds1]) & (x >= x_pad[inds2])\n",
      "/home/nvidia/github/python_environments/soundflux/lib/python3.5/site-packages/librosa/core/pitch.py:159: DeprecationWarning: object of type <class 'numpy.float64'> cannot be safely interpreted as an integer.\n",
      "  bins = np.linspace(-0.5, 0.5, np.ceil(1./resolution), endpoint=False)\n",
      "/home/nvidia/github/python_environments/soundflux/lib/python3.5/site-packages/librosa/core/pitch.py:159: DeprecationWarning: object of type <class 'numpy.float64'> cannot be safely interpreted as an integer.\n",
      "  bins = np.linspace(-0.5, 0.5, np.ceil(1./resolution), endpoint=False)\n"
     ]
    },
    {
     "name": "stdout",
     "output_type": "stream",
     "text": [
      "\n",
      "\n",
      "\n"
     ]
    },
    {
     "name": "stderr",
     "output_type": "stream",
     "text": [
      "/home/nvidia/github/python_environments/soundflux/lib/python3.5/site-packages/librosa/util/utils.py:828: FutureWarning: Using a non-tuple sequence for multidimensional indexing is deprecated; use `arr[tuple(seq)]` instead of `arr[seq]`. In the future this will be interpreted as an array index, `arr[np.array(seq)]`, which will result either in an error or a different result.\n",
      "  return (x > x_pad[inds1]) & (x >= x_pad[inds2])\n",
      "/home/nvidia/github/python_environments/soundflux/lib/python3.5/site-packages/librosa/core/pitch.py:159: DeprecationWarning: object of type <class 'numpy.float64'> cannot be safely interpreted as an integer.\n",
      "  bins = np.linspace(-0.5, 0.5, np.ceil(1./resolution), endpoint=False)\n",
      "/home/nvidia/github/python_environments/soundflux/lib/python3.5/site-packages/librosa/core/pitch.py:159: DeprecationWarning: object of type <class 'numpy.float64'> cannot be safely interpreted as an integer.\n",
      "  bins = np.linspace(-0.5, 0.5, np.ceil(1./resolution), endpoint=False)\n",
      "/home/nvidia/github/python_environments/soundflux/lib/python3.5/site-packages/librosa/core/pitch.py:159: DeprecationWarning: object of type <class 'numpy.float64'> cannot be safely interpreted as an integer.\n",
      "  bins = np.linspace(-0.5, 0.5, np.ceil(1./resolution), endpoint=False)\n",
      "/home/nvidia/github/python_environments/soundflux/lib/python3.5/site-packages/librosa/core/pitch.py:159: DeprecationWarning: object of type <class 'numpy.float64'> cannot be safely interpreted as an integer.\n",
      "  bins = np.linspace(-0.5, 0.5, np.ceil(1./resolution), endpoint=False)\n"
     ]
    },
    {
     "name": "stdout",
     "output_type": "stream",
     "text": [
      "\n"
     ]
    },
    {
     "name": "stderr",
     "output_type": "stream",
     "text": [
      "/home/nvidia/github/python_environments/soundflux/lib/python3.5/site-packages/librosa/util/utils.py:828: FutureWarning: Using a non-tuple sequence for multidimensional indexing is deprecated; use `arr[tuple(seq)]` instead of `arr[seq]`. In the future this will be interpreted as an array index, `arr[np.array(seq)]`, which will result either in an error or a different result.\n",
      "  return (x > x_pad[inds1]) & (x >= x_pad[inds2])\n",
      "/home/nvidia/github/python_environments/soundflux/lib/python3.5/site-packages/librosa/core/pitch.py:159: DeprecationWarning: object of type <class 'numpy.float64'> cannot be safely interpreted as an integer.\n",
      "  bins = np.linspace(-0.5, 0.5, np.ceil(1./resolution), endpoint=False)\n",
      "/home/nvidia/github/python_environments/soundflux/lib/python3.5/site-packages/librosa/core/pitch.py:159: DeprecationWarning: object of type <class 'numpy.float64'> cannot be safely interpreted as an integer.\n",
      "  bins = np.linspace(-0.5, 0.5, np.ceil(1./resolution), endpoint=False)\n"
     ]
    },
    {
     "name": "stdout",
     "output_type": "stream",
     "text": [
      "\n"
     ]
    },
    {
     "name": "stderr",
     "output_type": "stream",
     "text": [
      "/home/nvidia/github/python_environments/soundflux/lib/python3.5/site-packages/librosa/util/utils.py:828: FutureWarning: Using a non-tuple sequence for multidimensional indexing is deprecated; use `arr[tuple(seq)]` instead of `arr[seq]`. In the future this will be interpreted as an array index, `arr[np.array(seq)]`, which will result either in an error or a different result.\n",
      "  return (x > x_pad[inds1]) & (x >= x_pad[inds2])\n",
      "/home/nvidia/github/python_environments/soundflux/lib/python3.5/site-packages/librosa/core/pitch.py:159: DeprecationWarning: object of type <class 'numpy.float64'> cannot be safely interpreted as an integer.\n",
      "  bins = np.linspace(-0.5, 0.5, np.ceil(1./resolution), endpoint=False)\n",
      "/home/nvidia/github/python_environments/soundflux/lib/python3.5/site-packages/librosa/core/pitch.py:159: DeprecationWarning: object of type <class 'numpy.float64'> cannot be safely interpreted as an integer.\n",
      "  bins = np.linspace(-0.5, 0.5, np.ceil(1./resolution), endpoint=False)\n",
      "/home/nvidia/github/python_environments/soundflux/lib/python3.5/site-packages/librosa/core/pitch.py:159: DeprecationWarning: object of type <class 'numpy.float64'> cannot be safely interpreted as an integer.\n",
      "  bins = np.linspace(-0.5, 0.5, np.ceil(1./resolution), endpoint=False)\n"
     ]
    },
    {
     "name": "stdout",
     "output_type": "stream",
     "text": [
      "\n"
     ]
    },
    {
     "name": "stderr",
     "output_type": "stream",
     "text": [
      "/home/nvidia/github/python_environments/soundflux/lib/python3.5/site-packages/librosa/util/utils.py:828: FutureWarning: Using a non-tuple sequence for multidimensional indexing is deprecated; use `arr[tuple(seq)]` instead of `arr[seq]`. In the future this will be interpreted as an array index, `arr[np.array(seq)]`, which will result either in an error or a different result.\n",
      "  return (x > x_pad[inds1]) & (x >= x_pad[inds2])\n",
      "/home/nvidia/github/python_environments/soundflux/lib/python3.5/site-packages/librosa/core/pitch.py:159: DeprecationWarning: object of type <class 'numpy.float64'> cannot be safely interpreted as an integer.\n",
      "  bins = np.linspace(-0.5, 0.5, np.ceil(1./resolution), endpoint=False)\n",
      "/home/nvidia/github/python_environments/soundflux/lib/python3.5/site-packages/librosa/core/pitch.py:159: DeprecationWarning: object of type <class 'numpy.float64'> cannot be safely interpreted as an integer.\n",
      "  bins = np.linspace(-0.5, 0.5, np.ceil(1./resolution), endpoint=False)\n",
      "/home/nvidia/github/python_environments/soundflux/lib/python3.5/site-packages/librosa/core/pitch.py:159: DeprecationWarning: object of type <class 'numpy.float64'> cannot be safely interpreted as an integer.\n",
      "  bins = np.linspace(-0.5, 0.5, np.ceil(1./resolution), endpoint=False)\n",
      "/home/nvidia/github/python_environments/soundflux/lib/python3.5/site-packages/librosa/core/pitch.py:159: DeprecationWarning: object of type <class 'numpy.float64'> cannot be safely interpreted as an integer.\n",
      "  bins = np.linspace(-0.5, 0.5, np.ceil(1./resolution), endpoint=False)\n",
      "/home/nvidia/github/python_environments/soundflux/lib/python3.5/site-packages/librosa/core/pitch.py:159: DeprecationWarning: object of type <class 'numpy.float64'> cannot be safely interpreted as an integer.\n",
      "  bins = np.linspace(-0.5, 0.5, np.ceil(1./resolution), endpoint=False)\n"
     ]
    },
    {
     "name": "stdout",
     "output_type": "stream",
     "text": [
      "\n",
      "\n"
     ]
    },
    {
     "name": "stderr",
     "output_type": "stream",
     "text": [
      "/home/nvidia/github/python_environments/soundflux/lib/python3.5/site-packages/librosa/util/utils.py:828: FutureWarning: Using a non-tuple sequence for multidimensional indexing is deprecated; use `arr[tuple(seq)]` instead of `arr[seq]`. In the future this will be interpreted as an array index, `arr[np.array(seq)]`, which will result either in an error or a different result.\n",
      "  return (x > x_pad[inds1]) & (x >= x_pad[inds2])\n",
      "/home/nvidia/github/python_environments/soundflux/lib/python3.5/site-packages/librosa/core/pitch.py:159: DeprecationWarning: object of type <class 'numpy.float64'> cannot be safely interpreted as an integer.\n",
      "  bins = np.linspace(-0.5, 0.5, np.ceil(1./resolution), endpoint=False)\n",
      "/home/nvidia/github/python_environments/soundflux/lib/python3.5/site-packages/librosa/core/pitch.py:159: DeprecationWarning: object of type <class 'numpy.float64'> cannot be safely interpreted as an integer.\n",
      "  bins = np.linspace(-0.5, 0.5, np.ceil(1./resolution), endpoint=False)\n"
     ]
    },
    {
     "name": "stdout",
     "output_type": "stream",
     "text": [
      "\n"
     ]
    },
    {
     "name": "stderr",
     "output_type": "stream",
     "text": [
      "/home/nvidia/github/python_environments/soundflux/lib/python3.5/site-packages/librosa/util/utils.py:828: FutureWarning: Using a non-tuple sequence for multidimensional indexing is deprecated; use `arr[tuple(seq)]` instead of `arr[seq]`. In the future this will be interpreted as an array index, `arr[np.array(seq)]`, which will result either in an error or a different result.\n",
      "  return (x > x_pad[inds1]) & (x >= x_pad[inds2])\n",
      "/home/nvidia/github/python_environments/soundflux/lib/python3.5/site-packages/librosa/core/pitch.py:159: DeprecationWarning: object of type <class 'numpy.float64'> cannot be safely interpreted as an integer.\n",
      "  bins = np.linspace(-0.5, 0.5, np.ceil(1./resolution), endpoint=False)\n"
     ]
    },
    {
     "name": "stdout",
     "output_type": "stream",
     "text": [
      "\n"
     ]
    },
    {
     "name": "stderr",
     "output_type": "stream",
     "text": [
      "/home/nvidia/github/python_environments/soundflux/lib/python3.5/site-packages/librosa/util/utils.py:828: FutureWarning: Using a non-tuple sequence for multidimensional indexing is deprecated; use `arr[tuple(seq)]` instead of `arr[seq]`. In the future this will be interpreted as an array index, `arr[np.array(seq)]`, which will result either in an error or a different result.\n",
      "  return (x > x_pad[inds1]) & (x >= x_pad[inds2])\n",
      "/home/nvidia/github/python_environments/soundflux/lib/python3.5/site-packages/librosa/core/pitch.py:159: DeprecationWarning: object of type <class 'numpy.float64'> cannot be safely interpreted as an integer.\n",
      "  bins = np.linspace(-0.5, 0.5, np.ceil(1./resolution), endpoint=False)\n",
      "/home/nvidia/github/python_environments/soundflux/lib/python3.5/site-packages/librosa/core/pitch.py:159: DeprecationWarning: object of type <class 'numpy.float64'> cannot be safely interpreted as an integer.\n",
      "  bins = np.linspace(-0.5, 0.5, np.ceil(1./resolution), endpoint=False)\n",
      "/home/nvidia/github/python_environments/soundflux/lib/python3.5/site-packages/librosa/core/pitch.py:159: DeprecationWarning: object of type <class 'numpy.float64'> cannot be safely interpreted as an integer.\n",
      "  bins = np.linspace(-0.5, 0.5, np.ceil(1./resolution), endpoint=False)\n"
     ]
    },
    {
     "name": "stdout",
     "output_type": "stream",
     "text": [
      "\n"
     ]
    },
    {
     "name": "stderr",
     "output_type": "stream",
     "text": [
      "/home/nvidia/github/python_environments/soundflux/lib/python3.5/site-packages/librosa/util/utils.py:828: FutureWarning: Using a non-tuple sequence for multidimensional indexing is deprecated; use `arr[tuple(seq)]` instead of `arr[seq]`. In the future this will be interpreted as an array index, `arr[np.array(seq)]`, which will result either in an error or a different result.\n",
      "  return (x > x_pad[inds1]) & (x >= x_pad[inds2])\n",
      "/home/nvidia/github/python_environments/soundflux/lib/python3.5/site-packages/librosa/core/pitch.py:159: DeprecationWarning: object of type <class 'numpy.float64'> cannot be safely interpreted as an integer.\n",
      "  bins = np.linspace(-0.5, 0.5, np.ceil(1./resolution), endpoint=False)\n",
      "/home/nvidia/github/python_environments/soundflux/lib/python3.5/site-packages/librosa/core/pitch.py:159: DeprecationWarning: object of type <class 'numpy.float64'> cannot be safely interpreted as an integer.\n",
      "  bins = np.linspace(-0.5, 0.5, np.ceil(1./resolution), endpoint=False)\n",
      "/home/nvidia/github/python_environments/soundflux/lib/python3.5/site-packages/librosa/core/pitch.py:159: DeprecationWarning: object of type <class 'numpy.float64'> cannot be safely interpreted as an integer.\n",
      "  bins = np.linspace(-0.5, 0.5, np.ceil(1./resolution), endpoint=False)\n",
      "/home/nvidia/github/python_environments/soundflux/lib/python3.5/site-packages/librosa/core/pitch.py:159: DeprecationWarning: object of type <class 'numpy.float64'> cannot be safely interpreted as an integer.\n",
      "  bins = np.linspace(-0.5, 0.5, np.ceil(1./resolution), endpoint=False)\n"
     ]
    },
    {
     "name": "stdout",
     "output_type": "stream",
     "text": [
      "\n"
     ]
    },
    {
     "name": "stderr",
     "output_type": "stream",
     "text": [
      "/home/nvidia/github/python_environments/soundflux/lib/python3.5/site-packages/librosa/util/utils.py:828: FutureWarning: Using a non-tuple sequence for multidimensional indexing is deprecated; use `arr[tuple(seq)]` instead of `arr[seq]`. In the future this will be interpreted as an array index, `arr[np.array(seq)]`, which will result either in an error or a different result.\n",
      "  return (x > x_pad[inds1]) & (x >= x_pad[inds2])\n",
      "/home/nvidia/github/python_environments/soundflux/lib/python3.5/site-packages/librosa/core/pitch.py:159: DeprecationWarning: object of type <class 'numpy.float64'> cannot be safely interpreted as an integer.\n",
      "  bins = np.linspace(-0.5, 0.5, np.ceil(1./resolution), endpoint=False)\n",
      "/home/nvidia/github/python_environments/soundflux/lib/python3.5/site-packages/librosa/core/pitch.py:159: DeprecationWarning: object of type <class 'numpy.float64'> cannot be safely interpreted as an integer.\n",
      "  bins = np.linspace(-0.5, 0.5, np.ceil(1./resolution), endpoint=False)\n",
      "/home/nvidia/github/python_environments/soundflux/lib/python3.5/site-packages/librosa/core/pitch.py:159: DeprecationWarning: object of type <class 'numpy.float64'> cannot be safely interpreted as an integer.\n",
      "  bins = np.linspace(-0.5, 0.5, np.ceil(1./resolution), endpoint=False)\n"
     ]
    },
    {
     "name": "stdout",
     "output_type": "stream",
     "text": [
      "\n"
     ]
    },
    {
     "name": "stderr",
     "output_type": "stream",
     "text": [
      "/home/nvidia/github/python_environments/soundflux/lib/python3.5/site-packages/librosa/util/utils.py:828: FutureWarning: Using a non-tuple sequence for multidimensional indexing is deprecated; use `arr[tuple(seq)]` instead of `arr[seq]`. In the future this will be interpreted as an array index, `arr[np.array(seq)]`, which will result either in an error or a different result.\n",
      "  return (x > x_pad[inds1]) & (x >= x_pad[inds2])\n",
      "/home/nvidia/github/python_environments/soundflux/lib/python3.5/site-packages/librosa/core/pitch.py:159: DeprecationWarning: object of type <class 'numpy.float64'> cannot be safely interpreted as an integer.\n",
      "  bins = np.linspace(-0.5, 0.5, np.ceil(1./resolution), endpoint=False)\n",
      "/home/nvidia/github/python_environments/soundflux/lib/python3.5/site-packages/librosa/core/pitch.py:159: DeprecationWarning: object of type <class 'numpy.float64'> cannot be safely interpreted as an integer.\n",
      "  bins = np.linspace(-0.5, 0.5, np.ceil(1./resolution), endpoint=False)\n",
      "/home/nvidia/github/python_environments/soundflux/lib/python3.5/site-packages/librosa/core/pitch.py:159: DeprecationWarning: object of type <class 'numpy.float64'> cannot be safely interpreted as an integer.\n",
      "  bins = np.linspace(-0.5, 0.5, np.ceil(1./resolution), endpoint=False)\n",
      "/home/nvidia/github/python_environments/soundflux/lib/python3.5/site-packages/librosa/core/pitch.py:159: DeprecationWarning: object of type <class 'numpy.float64'> cannot be safely interpreted as an integer.\n",
      "  bins = np.linspace(-0.5, 0.5, np.ceil(1./resolution), endpoint=False)\n",
      "/home/nvidia/github/python_environments/soundflux/lib/python3.5/site-packages/librosa/core/pitch.py:159: DeprecationWarning: object of type <class 'numpy.float64'> cannot be safely interpreted as an integer.\n",
      "  bins = np.linspace(-0.5, 0.5, np.ceil(1./resolution), endpoint=False)\n",
      "/home/nvidia/github/python_environments/soundflux/lib/python3.5/site-packages/librosa/core/pitch.py:159: DeprecationWarning: object of type <class 'numpy.float64'> cannot be safely interpreted as an integer.\n",
      "  bins = np.linspace(-0.5, 0.5, np.ceil(1./resolution), endpoint=False)\n"
     ]
    },
    {
     "name": "stdout",
     "output_type": "stream",
     "text": [
      "\n"
     ]
    },
    {
     "name": "stderr",
     "output_type": "stream",
     "text": [
      "/home/nvidia/github/python_environments/soundflux/lib/python3.5/site-packages/librosa/util/utils.py:828: FutureWarning: Using a non-tuple sequence for multidimensional indexing is deprecated; use `arr[tuple(seq)]` instead of `arr[seq]`. In the future this will be interpreted as an array index, `arr[np.array(seq)]`, which will result either in an error or a different result.\n",
      "  return (x > x_pad[inds1]) & (x >= x_pad[inds2])\n",
      "/home/nvidia/github/python_environments/soundflux/lib/python3.5/site-packages/librosa/core/pitch.py:159: DeprecationWarning: object of type <class 'numpy.float64'> cannot be safely interpreted as an integer.\n",
      "  bins = np.linspace(-0.5, 0.5, np.ceil(1./resolution), endpoint=False)\n",
      "/home/nvidia/github/python_environments/soundflux/lib/python3.5/site-packages/librosa/core/pitch.py:159: DeprecationWarning: object of type <class 'numpy.float64'> cannot be safely interpreted as an integer.\n",
      "  bins = np.linspace(-0.5, 0.5, np.ceil(1./resolution), endpoint=False)\n",
      "/home/nvidia/github/python_environments/soundflux/lib/python3.5/site-packages/librosa/core/pitch.py:159: DeprecationWarning: object of type <class 'numpy.float64'> cannot be safely interpreted as an integer.\n",
      "  bins = np.linspace(-0.5, 0.5, np.ceil(1./resolution), endpoint=False)\n",
      "/home/nvidia/github/python_environments/soundflux/lib/python3.5/site-packages/librosa/core/pitch.py:159: DeprecationWarning: object of type <class 'numpy.float64'> cannot be safely interpreted as an integer.\n",
      "  bins = np.linspace(-0.5, 0.5, np.ceil(1./resolution), endpoint=False)\n"
     ]
    },
    {
     "name": "stdout",
     "output_type": "stream",
     "text": [
      "\n"
     ]
    },
    {
     "name": "stderr",
     "output_type": "stream",
     "text": [
      "/home/nvidia/github/python_environments/soundflux/lib/python3.5/site-packages/librosa/util/utils.py:828: FutureWarning: Using a non-tuple sequence for multidimensional indexing is deprecated; use `arr[tuple(seq)]` instead of `arr[seq]`. In the future this will be interpreted as an array index, `arr[np.array(seq)]`, which will result either in an error or a different result.\n",
      "  return (x > x_pad[inds1]) & (x >= x_pad[inds2])\n",
      "/home/nvidia/github/python_environments/soundflux/lib/python3.5/site-packages/librosa/core/pitch.py:159: DeprecationWarning: object of type <class 'numpy.float64'> cannot be safely interpreted as an integer.\n",
      "  bins = np.linspace(-0.5, 0.5, np.ceil(1./resolution), endpoint=False)\n",
      "/home/nvidia/github/python_environments/soundflux/lib/python3.5/site-packages/librosa/core/pitch.py:159: DeprecationWarning: object of type <class 'numpy.float64'> cannot be safely interpreted as an integer.\n",
      "  bins = np.linspace(-0.5, 0.5, np.ceil(1./resolution), endpoint=False)\n",
      "/home/nvidia/github/python_environments/soundflux/lib/python3.5/site-packages/librosa/core/pitch.py:159: DeprecationWarning: object of type <class 'numpy.float64'> cannot be safely interpreted as an integer.\n",
      "  bins = np.linspace(-0.5, 0.5, np.ceil(1./resolution), endpoint=False)\n",
      "/home/nvidia/github/python_environments/soundflux/lib/python3.5/site-packages/librosa/core/pitch.py:159: DeprecationWarning: object of type <class 'numpy.float64'> cannot be safely interpreted as an integer.\n",
      "  bins = np.linspace(-0.5, 0.5, np.ceil(1./resolution), endpoint=False)\n",
      "/home/nvidia/github/python_environments/soundflux/lib/python3.5/site-packages/librosa/core/pitch.py:159: DeprecationWarning: object of type <class 'numpy.float64'> cannot be safely interpreted as an integer.\n",
      "  bins = np.linspace(-0.5, 0.5, np.ceil(1./resolution), endpoint=False)\n",
      "/home/nvidia/github/python_environments/soundflux/lib/python3.5/site-packages/librosa/core/pitch.py:159: DeprecationWarning: object of type <class 'numpy.float64'> cannot be safely interpreted as an integer.\n",
      "  bins = np.linspace(-0.5, 0.5, np.ceil(1./resolution), endpoint=False)\n"
     ]
    },
    {
     "name": "stdout",
     "output_type": "stream",
     "text": [
      "\n",
      "\n",
      "\n"
     ]
    },
    {
     "name": "stderr",
     "output_type": "stream",
     "text": [
      "/home/nvidia/github/python_environments/soundflux/lib/python3.5/site-packages/librosa/util/utils.py:828: FutureWarning: Using a non-tuple sequence for multidimensional indexing is deprecated; use `arr[tuple(seq)]` instead of `arr[seq]`. In the future this will be interpreted as an array index, `arr[np.array(seq)]`, which will result either in an error or a different result.\n",
      "  return (x > x_pad[inds1]) & (x >= x_pad[inds2])\n",
      "/home/nvidia/github/python_environments/soundflux/lib/python3.5/site-packages/librosa/core/pitch.py:159: DeprecationWarning: object of type <class 'numpy.float64'> cannot be safely interpreted as an integer.\n",
      "  bins = np.linspace(-0.5, 0.5, np.ceil(1./resolution), endpoint=False)\n",
      "/home/nvidia/github/python_environments/soundflux/lib/python3.5/site-packages/librosa/core/pitch.py:159: DeprecationWarning: object of type <class 'numpy.float64'> cannot be safely interpreted as an integer.\n",
      "  bins = np.linspace(-0.5, 0.5, np.ceil(1./resolution), endpoint=False)\n",
      "/home/nvidia/github/python_environments/soundflux/lib/python3.5/site-packages/librosa/core/pitch.py:159: DeprecationWarning: object of type <class 'numpy.float64'> cannot be safely interpreted as an integer.\n",
      "  bins = np.linspace(-0.5, 0.5, np.ceil(1./resolution), endpoint=False)\n"
     ]
    },
    {
     "name": "stdout",
     "output_type": "stream",
     "text": [
      "\n",
      "\n"
     ]
    },
    {
     "name": "stderr",
     "output_type": "stream",
     "text": [
      "/home/nvidia/github/python_environments/soundflux/lib/python3.5/site-packages/librosa/util/utils.py:828: FutureWarning: Using a non-tuple sequence for multidimensional indexing is deprecated; use `arr[tuple(seq)]` instead of `arr[seq]`. In the future this will be interpreted as an array index, `arr[np.array(seq)]`, which will result either in an error or a different result.\n",
      "  return (x > x_pad[inds1]) & (x >= x_pad[inds2])\n",
      "/home/nvidia/github/python_environments/soundflux/lib/python3.5/site-packages/librosa/core/pitch.py:159: DeprecationWarning: object of type <class 'numpy.float64'> cannot be safely interpreted as an integer.\n",
      "  bins = np.linspace(-0.5, 0.5, np.ceil(1./resolution), endpoint=False)\n"
     ]
    },
    {
     "name": "stdout",
     "output_type": "stream",
     "text": [
      "\n"
     ]
    },
    {
     "name": "stderr",
     "output_type": "stream",
     "text": [
      "/home/nvidia/github/python_environments/soundflux/lib/python3.5/site-packages/librosa/util/utils.py:828: FutureWarning: Using a non-tuple sequence for multidimensional indexing is deprecated; use `arr[tuple(seq)]` instead of `arr[seq]`. In the future this will be interpreted as an array index, `arr[np.array(seq)]`, which will result either in an error or a different result.\n",
      "  return (x > x_pad[inds1]) & (x >= x_pad[inds2])\n",
      "/home/nvidia/github/python_environments/soundflux/lib/python3.5/site-packages/librosa/core/pitch.py:159: DeprecationWarning: object of type <class 'numpy.float64'> cannot be safely interpreted as an integer.\n",
      "  bins = np.linspace(-0.5, 0.5, np.ceil(1./resolution), endpoint=False)\n",
      "/home/nvidia/github/python_environments/soundflux/lib/python3.5/site-packages/librosa/core/pitch.py:159: DeprecationWarning: object of type <class 'numpy.float64'> cannot be safely interpreted as an integer.\n",
      "  bins = np.linspace(-0.5, 0.5, np.ceil(1./resolution), endpoint=False)\n"
     ]
    },
    {
     "name": "stdout",
     "output_type": "stream",
     "text": [
      "\n",
      "\n"
     ]
    },
    {
     "name": "stderr",
     "output_type": "stream",
     "text": [
      "/home/nvidia/github/python_environments/soundflux/lib/python3.5/site-packages/librosa/util/utils.py:828: FutureWarning: Using a non-tuple sequence for multidimensional indexing is deprecated; use `arr[tuple(seq)]` instead of `arr[seq]`. In the future this will be interpreted as an array index, `arr[np.array(seq)]`, which will result either in an error or a different result.\n",
      "  return (x > x_pad[inds1]) & (x >= x_pad[inds2])\n",
      "/home/nvidia/github/python_environments/soundflux/lib/python3.5/site-packages/librosa/core/pitch.py:159: DeprecationWarning: object of type <class 'numpy.float64'> cannot be safely interpreted as an integer.\n",
      "  bins = np.linspace(-0.5, 0.5, np.ceil(1./resolution), endpoint=False)\n",
      "/home/nvidia/github/python_environments/soundflux/lib/python3.5/site-packages/librosa/core/pitch.py:159: DeprecationWarning: object of type <class 'numpy.float64'> cannot be safely interpreted as an integer.\n",
      "  bins = np.linspace(-0.5, 0.5, np.ceil(1./resolution), endpoint=False)\n",
      "/home/nvidia/github/python_environments/soundflux/lib/python3.5/site-packages/librosa/core/pitch.py:159: DeprecationWarning: object of type <class 'numpy.float64'> cannot be safely interpreted as an integer.\n",
      "  bins = np.linspace(-0.5, 0.5, np.ceil(1./resolution), endpoint=False)\n"
     ]
    },
    {
     "name": "stdout",
     "output_type": "stream",
     "text": [
      "\n"
     ]
    },
    {
     "name": "stderr",
     "output_type": "stream",
     "text": [
      "/home/nvidia/github/python_environments/soundflux/lib/python3.5/site-packages/librosa/util/utils.py:828: FutureWarning: Using a non-tuple sequence for multidimensional indexing is deprecated; use `arr[tuple(seq)]` instead of `arr[seq]`. In the future this will be interpreted as an array index, `arr[np.array(seq)]`, which will result either in an error or a different result.\n",
      "  return (x > x_pad[inds1]) & (x >= x_pad[inds2])\n",
      "/home/nvidia/github/python_environments/soundflux/lib/python3.5/site-packages/librosa/core/pitch.py:159: DeprecationWarning: object of type <class 'numpy.float64'> cannot be safely interpreted as an integer.\n",
      "  bins = np.linspace(-0.5, 0.5, np.ceil(1./resolution), endpoint=False)\n",
      "/home/nvidia/github/python_environments/soundflux/lib/python3.5/site-packages/librosa/core/pitch.py:159: DeprecationWarning: object of type <class 'numpy.float64'> cannot be safely interpreted as an integer.\n",
      "  bins = np.linspace(-0.5, 0.5, np.ceil(1./resolution), endpoint=False)\n",
      "/home/nvidia/github/python_environments/soundflux/lib/python3.5/site-packages/librosa/core/pitch.py:159: DeprecationWarning: object of type <class 'numpy.float64'> cannot be safely interpreted as an integer.\n",
      "  bins = np.linspace(-0.5, 0.5, np.ceil(1./resolution), endpoint=False)\n",
      "/home/nvidia/github/python_environments/soundflux/lib/python3.5/site-packages/librosa/core/pitch.py:159: DeprecationWarning: object of type <class 'numpy.float64'> cannot be safely interpreted as an integer.\n",
      "  bins = np.linspace(-0.5, 0.5, np.ceil(1./resolution), endpoint=False)\n"
     ]
    },
    {
     "name": "stdout",
     "output_type": "stream",
     "text": [
      "\n",
      "\n"
     ]
    },
    {
     "name": "stderr",
     "output_type": "stream",
     "text": [
      "/home/nvidia/github/python_environments/soundflux/lib/python3.5/site-packages/librosa/util/utils.py:828: FutureWarning: Using a non-tuple sequence for multidimensional indexing is deprecated; use `arr[tuple(seq)]` instead of `arr[seq]`. In the future this will be interpreted as an array index, `arr[np.array(seq)]`, which will result either in an error or a different result.\n",
      "  return (x > x_pad[inds1]) & (x >= x_pad[inds2])\n",
      "/home/nvidia/github/python_environments/soundflux/lib/python3.5/site-packages/librosa/core/pitch.py:159: DeprecationWarning: object of type <class 'numpy.float64'> cannot be safely interpreted as an integer.\n",
      "  bins = np.linspace(-0.5, 0.5, np.ceil(1./resolution), endpoint=False)\n",
      "/home/nvidia/github/python_environments/soundflux/lib/python3.5/site-packages/librosa/core/pitch.py:159: DeprecationWarning: object of type <class 'numpy.float64'> cannot be safely interpreted as an integer.\n",
      "  bins = np.linspace(-0.5, 0.5, np.ceil(1./resolution), endpoint=False)\n"
     ]
    },
    {
     "name": "stdout",
     "output_type": "stream",
     "text": [
      "\n"
     ]
    },
    {
     "name": "stderr",
     "output_type": "stream",
     "text": [
      "/home/nvidia/github/python_environments/soundflux/lib/python3.5/site-packages/librosa/util/utils.py:828: FutureWarning: Using a non-tuple sequence for multidimensional indexing is deprecated; use `arr[tuple(seq)]` instead of `arr[seq]`. In the future this will be interpreted as an array index, `arr[np.array(seq)]`, which will result either in an error or a different result.\n",
      "  return (x > x_pad[inds1]) & (x >= x_pad[inds2])\n",
      "/home/nvidia/github/python_environments/soundflux/lib/python3.5/site-packages/librosa/core/pitch.py:159: DeprecationWarning: object of type <class 'numpy.float64'> cannot be safely interpreted as an integer.\n",
      "  bins = np.linspace(-0.5, 0.5, np.ceil(1./resolution), endpoint=False)\n",
      "/home/nvidia/github/python_environments/soundflux/lib/python3.5/site-packages/librosa/core/pitch.py:159: DeprecationWarning: object of type <class 'numpy.float64'> cannot be safely interpreted as an integer.\n",
      "  bins = np.linspace(-0.5, 0.5, np.ceil(1./resolution), endpoint=False)\n"
     ]
    },
    {
     "name": "stdout",
     "output_type": "stream",
     "text": [
      "\n",
      "\n"
     ]
    },
    {
     "name": "stderr",
     "output_type": "stream",
     "text": [
      "/home/nvidia/github/python_environments/soundflux/lib/python3.5/site-packages/librosa/util/utils.py:828: FutureWarning: Using a non-tuple sequence for multidimensional indexing is deprecated; use `arr[tuple(seq)]` instead of `arr[seq]`. In the future this will be interpreted as an array index, `arr[np.array(seq)]`, which will result either in an error or a different result.\n",
      "  return (x > x_pad[inds1]) & (x >= x_pad[inds2])\n",
      "/home/nvidia/github/python_environments/soundflux/lib/python3.5/site-packages/librosa/core/pitch.py:159: DeprecationWarning: object of type <class 'numpy.float64'> cannot be safely interpreted as an integer.\n",
      "  bins = np.linspace(-0.5, 0.5, np.ceil(1./resolution), endpoint=False)\n"
     ]
    },
    {
     "name": "stdout",
     "output_type": "stream",
     "text": [
      "\n",
      "\n"
     ]
    },
    {
     "name": "stderr",
     "output_type": "stream",
     "text": [
      "/home/nvidia/github/python_environments/soundflux/lib/python3.5/site-packages/librosa/util/utils.py:828: FutureWarning: Using a non-tuple sequence for multidimensional indexing is deprecated; use `arr[tuple(seq)]` instead of `arr[seq]`. In the future this will be interpreted as an array index, `arr[np.array(seq)]`, which will result either in an error or a different result.\n",
      "  return (x > x_pad[inds1]) & (x >= x_pad[inds2])\n",
      "/home/nvidia/github/python_environments/soundflux/lib/python3.5/site-packages/librosa/core/pitch.py:159: DeprecationWarning: object of type <class 'numpy.float64'> cannot be safely interpreted as an integer.\n",
      "  bins = np.linspace(-0.5, 0.5, np.ceil(1./resolution), endpoint=False)\n",
      "/home/nvidia/github/python_environments/soundflux/lib/python3.5/site-packages/librosa/core/pitch.py:159: DeprecationWarning: object of type <class 'numpy.float64'> cannot be safely interpreted as an integer.\n",
      "  bins = np.linspace(-0.5, 0.5, np.ceil(1./resolution), endpoint=False)\n"
     ]
    },
    {
     "name": "stdout",
     "output_type": "stream",
     "text": [
      "\n",
      "\n"
     ]
    },
    {
     "name": "stderr",
     "output_type": "stream",
     "text": [
      "/home/nvidia/github/python_environments/soundflux/lib/python3.5/site-packages/librosa/util/utils.py:828: FutureWarning: Using a non-tuple sequence for multidimensional indexing is deprecated; use `arr[tuple(seq)]` instead of `arr[seq]`. In the future this will be interpreted as an array index, `arr[np.array(seq)]`, which will result either in an error or a different result.\n",
      "  return (x > x_pad[inds1]) & (x >= x_pad[inds2])\n",
      "/home/nvidia/github/python_environments/soundflux/lib/python3.5/site-packages/librosa/core/pitch.py:159: DeprecationWarning: object of type <class 'numpy.float64'> cannot be safely interpreted as an integer.\n",
      "  bins = np.linspace(-0.5, 0.5, np.ceil(1./resolution), endpoint=False)\n"
     ]
    },
    {
     "name": "stdout",
     "output_type": "stream",
     "text": [
      "\n",
      "\n",
      "\n"
     ]
    },
    {
     "name": "stderr",
     "output_type": "stream",
     "text": [
      "/home/nvidia/github/python_environments/soundflux/lib/python3.5/site-packages/librosa/util/utils.py:828: FutureWarning: Using a non-tuple sequence for multidimensional indexing is deprecated; use `arr[tuple(seq)]` instead of `arr[seq]`. In the future this will be interpreted as an array index, `arr[np.array(seq)]`, which will result either in an error or a different result.\n",
      "  return (x > x_pad[inds1]) & (x >= x_pad[inds2])\n",
      "/home/nvidia/github/python_environments/soundflux/lib/python3.5/site-packages/librosa/core/pitch.py:159: DeprecationWarning: object of type <class 'numpy.float64'> cannot be safely interpreted as an integer.\n",
      "  bins = np.linspace(-0.5, 0.5, np.ceil(1./resolution), endpoint=False)\n"
     ]
    },
    {
     "name": "stdout",
     "output_type": "stream",
     "text": [
      "\n",
      "\n"
     ]
    },
    {
     "name": "stderr",
     "output_type": "stream",
     "text": [
      "/home/nvidia/github/python_environments/soundflux/lib/python3.5/site-packages/librosa/util/utils.py:828: FutureWarning: Using a non-tuple sequence for multidimensional indexing is deprecated; use `arr[tuple(seq)]` instead of `arr[seq]`. In the future this will be interpreted as an array index, `arr[np.array(seq)]`, which will result either in an error or a different result.\n",
      "  return (x > x_pad[inds1]) & (x >= x_pad[inds2])\n",
      "/home/nvidia/github/python_environments/soundflux/lib/python3.5/site-packages/librosa/core/pitch.py:159: DeprecationWarning: object of type <class 'numpy.float64'> cannot be safely interpreted as an integer.\n",
      "  bins = np.linspace(-0.5, 0.5, np.ceil(1./resolution), endpoint=False)\n",
      "/home/nvidia/github/python_environments/soundflux/lib/python3.5/site-packages/librosa/core/pitch.py:159: DeprecationWarning: object of type <class 'numpy.float64'> cannot be safely interpreted as an integer.\n",
      "  bins = np.linspace(-0.5, 0.5, np.ceil(1./resolution), endpoint=False)\n",
      "/home/nvidia/github/python_environments/soundflux/lib/python3.5/site-packages/librosa/core/pitch.py:159: DeprecationWarning: object of type <class 'numpy.float64'> cannot be safely interpreted as an integer.\n",
      "  bins = np.linspace(-0.5, 0.5, np.ceil(1./resolution), endpoint=False)\n"
     ]
    },
    {
     "name": "stdout",
     "output_type": "stream",
     "text": [
      "\n",
      "\n"
     ]
    },
    {
     "name": "stderr",
     "output_type": "stream",
     "text": [
      "/home/nvidia/github/python_environments/soundflux/lib/python3.5/site-packages/librosa/util/utils.py:828: FutureWarning: Using a non-tuple sequence for multidimensional indexing is deprecated; use `arr[tuple(seq)]` instead of `arr[seq]`. In the future this will be interpreted as an array index, `arr[np.array(seq)]`, which will result either in an error or a different result.\n",
      "  return (x > x_pad[inds1]) & (x >= x_pad[inds2])\n",
      "/home/nvidia/github/python_environments/soundflux/lib/python3.5/site-packages/librosa/core/pitch.py:159: DeprecationWarning: object of type <class 'numpy.float64'> cannot be safely interpreted as an integer.\n",
      "  bins = np.linspace(-0.5, 0.5, np.ceil(1./resolution), endpoint=False)\n",
      "/home/nvidia/github/python_environments/soundflux/lib/python3.5/site-packages/librosa/core/pitch.py:159: DeprecationWarning: object of type <class 'numpy.float64'> cannot be safely interpreted as an integer.\n",
      "  bins = np.linspace(-0.5, 0.5, np.ceil(1./resolution), endpoint=False)\n"
     ]
    },
    {
     "name": "stdout",
     "output_type": "stream",
     "text": [
      "\n"
     ]
    },
    {
     "name": "stderr",
     "output_type": "stream",
     "text": [
      "/home/nvidia/github/python_environments/soundflux/lib/python3.5/site-packages/librosa/util/utils.py:828: FutureWarning: Using a non-tuple sequence for multidimensional indexing is deprecated; use `arr[tuple(seq)]` instead of `arr[seq]`. In the future this will be interpreted as an array index, `arr[np.array(seq)]`, which will result either in an error or a different result.\n",
      "  return (x > x_pad[inds1]) & (x >= x_pad[inds2])\n",
      "/home/nvidia/github/python_environments/soundflux/lib/python3.5/site-packages/librosa/core/pitch.py:159: DeprecationWarning: object of type <class 'numpy.float64'> cannot be safely interpreted as an integer.\n",
      "  bins = np.linspace(-0.5, 0.5, np.ceil(1./resolution), endpoint=False)\n",
      "/home/nvidia/github/python_environments/soundflux/lib/python3.5/site-packages/librosa/core/pitch.py:159: DeprecationWarning: object of type <class 'numpy.float64'> cannot be safely interpreted as an integer.\n",
      "  bins = np.linspace(-0.5, 0.5, np.ceil(1./resolution), endpoint=False)\n",
      "/home/nvidia/github/python_environments/soundflux/lib/python3.5/site-packages/librosa/core/pitch.py:159: DeprecationWarning: object of type <class 'numpy.float64'> cannot be safely interpreted as an integer.\n",
      "  bins = np.linspace(-0.5, 0.5, np.ceil(1./resolution), endpoint=False)\n",
      "/home/nvidia/github/python_environments/soundflux/lib/python3.5/site-packages/librosa/core/pitch.py:159: DeprecationWarning: object of type <class 'numpy.float64'> cannot be safely interpreted as an integer.\n",
      "  bins = np.linspace(-0.5, 0.5, np.ceil(1./resolution), endpoint=False)\n"
     ]
    },
    {
     "name": "stdout",
     "output_type": "stream",
     "text": [
      "\n",
      "\n",
      "\n"
     ]
    },
    {
     "name": "stderr",
     "output_type": "stream",
     "text": [
      "/home/nvidia/github/python_environments/soundflux/lib/python3.5/site-packages/librosa/util/utils.py:828: FutureWarning: Using a non-tuple sequence for multidimensional indexing is deprecated; use `arr[tuple(seq)]` instead of `arr[seq]`. In the future this will be interpreted as an array index, `arr[np.array(seq)]`, which will result either in an error or a different result.\n",
      "  return (x > x_pad[inds1]) & (x >= x_pad[inds2])\n",
      "/home/nvidia/github/python_environments/soundflux/lib/python3.5/site-packages/librosa/core/pitch.py:159: DeprecationWarning: object of type <class 'numpy.float64'> cannot be safely interpreted as an integer.\n",
      "  bins = np.linspace(-0.5, 0.5, np.ceil(1./resolution), endpoint=False)\n",
      "/home/nvidia/github/python_environments/soundflux/lib/python3.5/site-packages/librosa/core/pitch.py:159: DeprecationWarning: object of type <class 'numpy.float64'> cannot be safely interpreted as an integer.\n",
      "  bins = np.linspace(-0.5, 0.5, np.ceil(1./resolution), endpoint=False)\n",
      "/home/nvidia/github/python_environments/soundflux/lib/python3.5/site-packages/librosa/core/pitch.py:159: DeprecationWarning: object of type <class 'numpy.float64'> cannot be safely interpreted as an integer.\n",
      "  bins = np.linspace(-0.5, 0.5, np.ceil(1./resolution), endpoint=False)\n"
     ]
    },
    {
     "name": "stdout",
     "output_type": "stream",
     "text": [
      "\n"
     ]
    },
    {
     "name": "stderr",
     "output_type": "stream",
     "text": [
      "/home/nvidia/github/python_environments/soundflux/lib/python3.5/site-packages/librosa/util/utils.py:828: FutureWarning: Using a non-tuple sequence for multidimensional indexing is deprecated; use `arr[tuple(seq)]` instead of `arr[seq]`. In the future this will be interpreted as an array index, `arr[np.array(seq)]`, which will result either in an error or a different result.\n",
      "  return (x > x_pad[inds1]) & (x >= x_pad[inds2])\n",
      "/home/nvidia/github/python_environments/soundflux/lib/python3.5/site-packages/librosa/core/pitch.py:159: DeprecationWarning: object of type <class 'numpy.float64'> cannot be safely interpreted as an integer.\n",
      "  bins = np.linspace(-0.5, 0.5, np.ceil(1./resolution), endpoint=False)\n",
      "/home/nvidia/github/python_environments/soundflux/lib/python3.5/site-packages/librosa/core/pitch.py:159: DeprecationWarning: object of type <class 'numpy.float64'> cannot be safely interpreted as an integer.\n",
      "  bins = np.linspace(-0.5, 0.5, np.ceil(1./resolution), endpoint=False)\n"
     ]
    },
    {
     "name": "stdout",
     "output_type": "stream",
     "text": [
      "\n"
     ]
    },
    {
     "name": "stderr",
     "output_type": "stream",
     "text": [
      "/home/nvidia/github/python_environments/soundflux/lib/python3.5/site-packages/librosa/util/utils.py:828: FutureWarning: Using a non-tuple sequence for multidimensional indexing is deprecated; use `arr[tuple(seq)]` instead of `arr[seq]`. In the future this will be interpreted as an array index, `arr[np.array(seq)]`, which will result either in an error or a different result.\n",
      "  return (x > x_pad[inds1]) & (x >= x_pad[inds2])\n",
      "/home/nvidia/github/python_environments/soundflux/lib/python3.5/site-packages/librosa/core/pitch.py:159: DeprecationWarning: object of type <class 'numpy.float64'> cannot be safely interpreted as an integer.\n",
      "  bins = np.linspace(-0.5, 0.5, np.ceil(1./resolution), endpoint=False)\n",
      "/home/nvidia/github/python_environments/soundflux/lib/python3.5/site-packages/librosa/core/pitch.py:159: DeprecationWarning: object of type <class 'numpy.float64'> cannot be safely interpreted as an integer.\n",
      "  bins = np.linspace(-0.5, 0.5, np.ceil(1./resolution), endpoint=False)\n",
      "/home/nvidia/github/python_environments/soundflux/lib/python3.5/site-packages/librosa/core/pitch.py:159: DeprecationWarning: object of type <class 'numpy.float64'> cannot be safely interpreted as an integer.\n",
      "  bins = np.linspace(-0.5, 0.5, np.ceil(1./resolution), endpoint=False)\n",
      "/home/nvidia/github/python_environments/soundflux/lib/python3.5/site-packages/librosa/core/pitch.py:159: DeprecationWarning: object of type <class 'numpy.float64'> cannot be safely interpreted as an integer.\n",
      "  bins = np.linspace(-0.5, 0.5, np.ceil(1./resolution), endpoint=False)\n"
     ]
    },
    {
     "name": "stdout",
     "output_type": "stream",
     "text": [
      "\n",
      "\n"
     ]
    },
    {
     "name": "stderr",
     "output_type": "stream",
     "text": [
      "/home/nvidia/github/python_environments/soundflux/lib/python3.5/site-packages/librosa/util/utils.py:828: FutureWarning: Using a non-tuple sequence for multidimensional indexing is deprecated; use `arr[tuple(seq)]` instead of `arr[seq]`. In the future this will be interpreted as an array index, `arr[np.array(seq)]`, which will result either in an error or a different result.\n",
      "  return (x > x_pad[inds1]) & (x >= x_pad[inds2])\n",
      "/home/nvidia/github/python_environments/soundflux/lib/python3.5/site-packages/librosa/core/pitch.py:159: DeprecationWarning: object of type <class 'numpy.float64'> cannot be safely interpreted as an integer.\n",
      "  bins = np.linspace(-0.5, 0.5, np.ceil(1./resolution), endpoint=False)\n",
      "/home/nvidia/github/python_environments/soundflux/lib/python3.5/site-packages/librosa/core/pitch.py:159: DeprecationWarning: object of type <class 'numpy.float64'> cannot be safely interpreted as an integer.\n",
      "  bins = np.linspace(-0.5, 0.5, np.ceil(1./resolution), endpoint=False)\n",
      "/home/nvidia/github/python_environments/soundflux/lib/python3.5/site-packages/librosa/core/pitch.py:159: DeprecationWarning: object of type <class 'numpy.float64'> cannot be safely interpreted as an integer.\n",
      "  bins = np.linspace(-0.5, 0.5, np.ceil(1./resolution), endpoint=False)\n",
      "/home/nvidia/github/python_environments/soundflux/lib/python3.5/site-packages/librosa/core/pitch.py:159: DeprecationWarning: object of type <class 'numpy.float64'> cannot be safely interpreted as an integer.\n",
      "  bins = np.linspace(-0.5, 0.5, np.ceil(1./resolution), endpoint=False)\n",
      "/home/nvidia/github/python_environments/soundflux/lib/python3.5/site-packages/librosa/core/pitch.py:159: DeprecationWarning: object of type <class 'numpy.float64'> cannot be safely interpreted as an integer.\n",
      "  bins = np.linspace(-0.5, 0.5, np.ceil(1./resolution), endpoint=False)\n"
     ]
    },
    {
     "name": "stdout",
     "output_type": "stream",
     "text": [
      "\n"
     ]
    },
    {
     "name": "stderr",
     "output_type": "stream",
     "text": [
      "/home/nvidia/github/python_environments/soundflux/lib/python3.5/site-packages/librosa/util/utils.py:828: FutureWarning: Using a non-tuple sequence for multidimensional indexing is deprecated; use `arr[tuple(seq)]` instead of `arr[seq]`. In the future this will be interpreted as an array index, `arr[np.array(seq)]`, which will result either in an error or a different result.\n",
      "  return (x > x_pad[inds1]) & (x >= x_pad[inds2])\n",
      "/home/nvidia/github/python_environments/soundflux/lib/python3.5/site-packages/librosa/core/pitch.py:159: DeprecationWarning: object of type <class 'numpy.float64'> cannot be safely interpreted as an integer.\n",
      "  bins = np.linspace(-0.5, 0.5, np.ceil(1./resolution), endpoint=False)\n",
      "/home/nvidia/github/python_environments/soundflux/lib/python3.5/site-packages/librosa/core/pitch.py:159: DeprecationWarning: object of type <class 'numpy.float64'> cannot be safely interpreted as an integer.\n",
      "  bins = np.linspace(-0.5, 0.5, np.ceil(1./resolution), endpoint=False)\n"
     ]
    },
    {
     "name": "stdout",
     "output_type": "stream",
     "text": [
      "\n",
      "\n"
     ]
    },
    {
     "name": "stderr",
     "output_type": "stream",
     "text": [
      "/home/nvidia/github/python_environments/soundflux/lib/python3.5/site-packages/librosa/util/utils.py:828: FutureWarning: Using a non-tuple sequence for multidimensional indexing is deprecated; use `arr[tuple(seq)]` instead of `arr[seq]`. In the future this will be interpreted as an array index, `arr[np.array(seq)]`, which will result either in an error or a different result.\n",
      "  return (x > x_pad[inds1]) & (x >= x_pad[inds2])\n",
      "/home/nvidia/github/python_environments/soundflux/lib/python3.5/site-packages/librosa/core/pitch.py:159: DeprecationWarning: object of type <class 'numpy.float64'> cannot be safely interpreted as an integer.\n",
      "  bins = np.linspace(-0.5, 0.5, np.ceil(1./resolution), endpoint=False)\n",
      "/home/nvidia/github/python_environments/soundflux/lib/python3.5/site-packages/librosa/core/pitch.py:159: DeprecationWarning: object of type <class 'numpy.float64'> cannot be safely interpreted as an integer.\n",
      "  bins = np.linspace(-0.5, 0.5, np.ceil(1./resolution), endpoint=False)\n"
     ]
    },
    {
     "name": "stdout",
     "output_type": "stream",
     "text": [
      "\n"
     ]
    },
    {
     "name": "stderr",
     "output_type": "stream",
     "text": [
      "/home/nvidia/github/python_environments/soundflux/lib/python3.5/site-packages/librosa/util/utils.py:828: FutureWarning: Using a non-tuple sequence for multidimensional indexing is deprecated; use `arr[tuple(seq)]` instead of `arr[seq]`. In the future this will be interpreted as an array index, `arr[np.array(seq)]`, which will result either in an error or a different result.\n",
      "  return (x > x_pad[inds1]) & (x >= x_pad[inds2])\n",
      "/home/nvidia/github/python_environments/soundflux/lib/python3.5/site-packages/librosa/core/pitch.py:159: DeprecationWarning: object of type <class 'numpy.float64'> cannot be safely interpreted as an integer.\n",
      "  bins = np.linspace(-0.5, 0.5, np.ceil(1./resolution), endpoint=False)\n",
      "/home/nvidia/github/python_environments/soundflux/lib/python3.5/site-packages/librosa/core/pitch.py:159: DeprecationWarning: object of type <class 'numpy.float64'> cannot be safely interpreted as an integer.\n",
      "  bins = np.linspace(-0.5, 0.5, np.ceil(1./resolution), endpoint=False)\n"
     ]
    },
    {
     "name": "stdout",
     "output_type": "stream",
     "text": [
      "\n",
      "\n",
      "\n",
      "\n",
      "\n",
      "\n"
     ]
    },
    {
     "name": "stderr",
     "output_type": "stream",
     "text": [
      "/home/nvidia/github/python_environments/soundflux/lib/python3.5/site-packages/librosa/util/utils.py:828: FutureWarning: Using a non-tuple sequence for multidimensional indexing is deprecated; use `arr[tuple(seq)]` instead of `arr[seq]`. In the future this will be interpreted as an array index, `arr[np.array(seq)]`, which will result either in an error or a different result.\n",
      "  return (x > x_pad[inds1]) & (x >= x_pad[inds2])\n",
      "/home/nvidia/github/python_environments/soundflux/lib/python3.5/site-packages/librosa/core/pitch.py:159: DeprecationWarning: object of type <class 'numpy.float64'> cannot be safely interpreted as an integer.\n",
      "  bins = np.linspace(-0.5, 0.5, np.ceil(1./resolution), endpoint=False)\n"
     ]
    },
    {
     "name": "stdout",
     "output_type": "stream",
     "text": [
      "\n"
     ]
    },
    {
     "name": "stderr",
     "output_type": "stream",
     "text": [
      "/home/nvidia/github/python_environments/soundflux/lib/python3.5/site-packages/librosa/util/utils.py:828: FutureWarning: Using a non-tuple sequence for multidimensional indexing is deprecated; use `arr[tuple(seq)]` instead of `arr[seq]`. In the future this will be interpreted as an array index, `arr[np.array(seq)]`, which will result either in an error or a different result.\n",
      "  return (x > x_pad[inds1]) & (x >= x_pad[inds2])\n",
      "/home/nvidia/github/python_environments/soundflux/lib/python3.5/site-packages/librosa/core/pitch.py:159: DeprecationWarning: object of type <class 'numpy.float64'> cannot be safely interpreted as an integer.\n",
      "  bins = np.linspace(-0.5, 0.5, np.ceil(1./resolution), endpoint=False)\n"
     ]
    },
    {
     "name": "stdout",
     "output_type": "stream",
     "text": [
      "\n",
      "\n"
     ]
    },
    {
     "name": "stderr",
     "output_type": "stream",
     "text": [
      "/home/nvidia/github/python_environments/soundflux/lib/python3.5/site-packages/librosa/util/utils.py:828: FutureWarning: Using a non-tuple sequence for multidimensional indexing is deprecated; use `arr[tuple(seq)]` instead of `arr[seq]`. In the future this will be interpreted as an array index, `arr[np.array(seq)]`, which will result either in an error or a different result.\n",
      "  return (x > x_pad[inds1]) & (x >= x_pad[inds2])\n",
      "/home/nvidia/github/python_environments/soundflux/lib/python3.5/site-packages/librosa/core/pitch.py:159: DeprecationWarning: object of type <class 'numpy.float64'> cannot be safely interpreted as an integer.\n",
      "  bins = np.linspace(-0.5, 0.5, np.ceil(1./resolution), endpoint=False)\n",
      "/home/nvidia/github/python_environments/soundflux/lib/python3.5/site-packages/librosa/core/pitch.py:159: DeprecationWarning: object of type <class 'numpy.float64'> cannot be safely interpreted as an integer.\n",
      "  bins = np.linspace(-0.5, 0.5, np.ceil(1./resolution), endpoint=False)\n",
      "/home/nvidia/github/python_environments/soundflux/lib/python3.5/site-packages/librosa/core/pitch.py:159: DeprecationWarning: object of type <class 'numpy.float64'> cannot be safely interpreted as an integer.\n",
      "  bins = np.linspace(-0.5, 0.5, np.ceil(1./resolution), endpoint=False)\n",
      "/home/nvidia/github/python_environments/soundflux/lib/python3.5/site-packages/librosa/core/pitch.py:159: DeprecationWarning: object of type <class 'numpy.float64'> cannot be safely interpreted as an integer.\n",
      "  bins = np.linspace(-0.5, 0.5, np.ceil(1./resolution), endpoint=False)\n",
      "/home/nvidia/github/python_environments/soundflux/lib/python3.5/site-packages/librosa/core/pitch.py:159: DeprecationWarning: object of type <class 'numpy.float64'> cannot be safely interpreted as an integer.\n",
      "  bins = np.linspace(-0.5, 0.5, np.ceil(1./resolution), endpoint=False)\n",
      "/home/nvidia/github/python_environments/soundflux/lib/python3.5/site-packages/librosa/core/pitch.py:159: DeprecationWarning: object of type <class 'numpy.float64'> cannot be safely interpreted as an integer.\n",
      "  bins = np.linspace(-0.5, 0.5, np.ceil(1./resolution), endpoint=False)\n",
      "/home/nvidia/github/python_environments/soundflux/lib/python3.5/site-packages/librosa/core/pitch.py:159: DeprecationWarning: object of type <class 'numpy.float64'> cannot be safely interpreted as an integer.\n",
      "  bins = np.linspace(-0.5, 0.5, np.ceil(1./resolution), endpoint=False)\n"
     ]
    },
    {
     "name": "stdout",
     "output_type": "stream",
     "text": [
      "\n",
      "\n"
     ]
    },
    {
     "name": "stderr",
     "output_type": "stream",
     "text": [
      "/home/nvidia/github/python_environments/soundflux/lib/python3.5/site-packages/librosa/util/utils.py:828: FutureWarning: Using a non-tuple sequence for multidimensional indexing is deprecated; use `arr[tuple(seq)]` instead of `arr[seq]`. In the future this will be interpreted as an array index, `arr[np.array(seq)]`, which will result either in an error or a different result.\n",
      "  return (x > x_pad[inds1]) & (x >= x_pad[inds2])\n",
      "/home/nvidia/github/python_environments/soundflux/lib/python3.5/site-packages/librosa/core/pitch.py:159: DeprecationWarning: object of type <class 'numpy.float64'> cannot be safely interpreted as an integer.\n",
      "  bins = np.linspace(-0.5, 0.5, np.ceil(1./resolution), endpoint=False)\n",
      "/home/nvidia/github/python_environments/soundflux/lib/python3.5/site-packages/librosa/core/pitch.py:159: DeprecationWarning: object of type <class 'numpy.float64'> cannot be safely interpreted as an integer.\n",
      "  bins = np.linspace(-0.5, 0.5, np.ceil(1./resolution), endpoint=False)\n"
     ]
    },
    {
     "name": "stdout",
     "output_type": "stream",
     "text": [
      "\n",
      "\n",
      "\n"
     ]
    },
    {
     "name": "stderr",
     "output_type": "stream",
     "text": [
      "/home/nvidia/github/python_environments/soundflux/lib/python3.5/site-packages/librosa/util/utils.py:828: FutureWarning: Using a non-tuple sequence for multidimensional indexing is deprecated; use `arr[tuple(seq)]` instead of `arr[seq]`. In the future this will be interpreted as an array index, `arr[np.array(seq)]`, which will result either in an error or a different result.\n",
      "  return (x > x_pad[inds1]) & (x >= x_pad[inds2])\n",
      "/home/nvidia/github/python_environments/soundflux/lib/python3.5/site-packages/librosa/core/pitch.py:159: DeprecationWarning: object of type <class 'numpy.float64'> cannot be safely interpreted as an integer.\n",
      "  bins = np.linspace(-0.5, 0.5, np.ceil(1./resolution), endpoint=False)\n"
     ]
    },
    {
     "name": "stdout",
     "output_type": "stream",
     "text": [
      "\n"
     ]
    },
    {
     "name": "stderr",
     "output_type": "stream",
     "text": [
      "/home/nvidia/github/python_environments/soundflux/lib/python3.5/site-packages/librosa/util/utils.py:828: FutureWarning: Using a non-tuple sequence for multidimensional indexing is deprecated; use `arr[tuple(seq)]` instead of `arr[seq]`. In the future this will be interpreted as an array index, `arr[np.array(seq)]`, which will result either in an error or a different result.\n",
      "  return (x > x_pad[inds1]) & (x >= x_pad[inds2])\n",
      "/home/nvidia/github/python_environments/soundflux/lib/python3.5/site-packages/librosa/core/pitch.py:159: DeprecationWarning: object of type <class 'numpy.float64'> cannot be safely interpreted as an integer.\n",
      "  bins = np.linspace(-0.5, 0.5, np.ceil(1./resolution), endpoint=False)\n",
      "/home/nvidia/github/python_environments/soundflux/lib/python3.5/site-packages/librosa/core/pitch.py:159: DeprecationWarning: object of type <class 'numpy.float64'> cannot be safely interpreted as an integer.\n",
      "  bins = np.linspace(-0.5, 0.5, np.ceil(1./resolution), endpoint=False)\n",
      "/home/nvidia/github/python_environments/soundflux/lib/python3.5/site-packages/librosa/core/pitch.py:159: DeprecationWarning: object of type <class 'numpy.float64'> cannot be safely interpreted as an integer.\n",
      "  bins = np.linspace(-0.5, 0.5, np.ceil(1./resolution), endpoint=False)\n",
      "/home/nvidia/github/python_environments/soundflux/lib/python3.5/site-packages/librosa/core/pitch.py:159: DeprecationWarning: object of type <class 'numpy.float64'> cannot be safely interpreted as an integer.\n",
      "  bins = np.linspace(-0.5, 0.5, np.ceil(1./resolution), endpoint=False)\n",
      "/home/nvidia/github/python_environments/soundflux/lib/python3.5/site-packages/librosa/core/pitch.py:159: DeprecationWarning: object of type <class 'numpy.float64'> cannot be safely interpreted as an integer.\n",
      "  bins = np.linspace(-0.5, 0.5, np.ceil(1./resolution), endpoint=False)\n"
     ]
    },
    {
     "name": "stdout",
     "output_type": "stream",
     "text": [
      "\n"
     ]
    },
    {
     "name": "stderr",
     "output_type": "stream",
     "text": [
      "/home/nvidia/github/python_environments/soundflux/lib/python3.5/site-packages/librosa/util/utils.py:828: FutureWarning: Using a non-tuple sequence for multidimensional indexing is deprecated; use `arr[tuple(seq)]` instead of `arr[seq]`. In the future this will be interpreted as an array index, `arr[np.array(seq)]`, which will result either in an error or a different result.\n",
      "  return (x > x_pad[inds1]) & (x >= x_pad[inds2])\n",
      "/home/nvidia/github/python_environments/soundflux/lib/python3.5/site-packages/librosa/core/pitch.py:159: DeprecationWarning: object of type <class 'numpy.float64'> cannot be safely interpreted as an integer.\n",
      "  bins = np.linspace(-0.5, 0.5, np.ceil(1./resolution), endpoint=False)\n"
     ]
    },
    {
     "name": "stdout",
     "output_type": "stream",
     "text": [
      "\n",
      "\n"
     ]
    },
    {
     "name": "stderr",
     "output_type": "stream",
     "text": [
      "/home/nvidia/github/python_environments/soundflux/lib/python3.5/site-packages/librosa/util/utils.py:828: FutureWarning: Using a non-tuple sequence for multidimensional indexing is deprecated; use `arr[tuple(seq)]` instead of `arr[seq]`. In the future this will be interpreted as an array index, `arr[np.array(seq)]`, which will result either in an error or a different result.\n",
      "  return (x > x_pad[inds1]) & (x >= x_pad[inds2])\n",
      "/home/nvidia/github/python_environments/soundflux/lib/python3.5/site-packages/librosa/core/pitch.py:159: DeprecationWarning: object of type <class 'numpy.float64'> cannot be safely interpreted as an integer.\n",
      "  bins = np.linspace(-0.5, 0.5, np.ceil(1./resolution), endpoint=False)\n",
      "/home/nvidia/github/python_environments/soundflux/lib/python3.5/site-packages/librosa/core/pitch.py:159: DeprecationWarning: object of type <class 'numpy.float64'> cannot be safely interpreted as an integer.\n",
      "  bins = np.linspace(-0.5, 0.5, np.ceil(1./resolution), endpoint=False)\n",
      "/home/nvidia/github/python_environments/soundflux/lib/python3.5/site-packages/librosa/core/pitch.py:159: DeprecationWarning: object of type <class 'numpy.float64'> cannot be safely interpreted as an integer.\n",
      "  bins = np.linspace(-0.5, 0.5, np.ceil(1./resolution), endpoint=False)\n",
      "/home/nvidia/github/python_environments/soundflux/lib/python3.5/site-packages/librosa/core/pitch.py:159: DeprecationWarning: object of type <class 'numpy.float64'> cannot be safely interpreted as an integer.\n",
      "  bins = np.linspace(-0.5, 0.5, np.ceil(1./resolution), endpoint=False)\n"
     ]
    },
    {
     "name": "stdout",
     "output_type": "stream",
     "text": [
      "\n"
     ]
    },
    {
     "name": "stderr",
     "output_type": "stream",
     "text": [
      "/home/nvidia/github/python_environments/soundflux/lib/python3.5/site-packages/librosa/util/utils.py:828: FutureWarning: Using a non-tuple sequence for multidimensional indexing is deprecated; use `arr[tuple(seq)]` instead of `arr[seq]`. In the future this will be interpreted as an array index, `arr[np.array(seq)]`, which will result either in an error or a different result.\n",
      "  return (x > x_pad[inds1]) & (x >= x_pad[inds2])\n",
      "/home/nvidia/github/python_environments/soundflux/lib/python3.5/site-packages/librosa/core/pitch.py:159: DeprecationWarning: object of type <class 'numpy.float64'> cannot be safely interpreted as an integer.\n",
      "  bins = np.linspace(-0.5, 0.5, np.ceil(1./resolution), endpoint=False)\n",
      "/home/nvidia/github/python_environments/soundflux/lib/python3.5/site-packages/librosa/core/pitch.py:159: DeprecationWarning: object of type <class 'numpy.float64'> cannot be safely interpreted as an integer.\n",
      "  bins = np.linspace(-0.5, 0.5, np.ceil(1./resolution), endpoint=False)\n"
     ]
    },
    {
     "name": "stdout",
     "output_type": "stream",
     "text": [
      "\n"
     ]
    },
    {
     "name": "stderr",
     "output_type": "stream",
     "text": [
      "/home/nvidia/github/python_environments/soundflux/lib/python3.5/site-packages/librosa/util/utils.py:828: FutureWarning: Using a non-tuple sequence for multidimensional indexing is deprecated; use `arr[tuple(seq)]` instead of `arr[seq]`. In the future this will be interpreted as an array index, `arr[np.array(seq)]`, which will result either in an error or a different result.\n",
      "  return (x > x_pad[inds1]) & (x >= x_pad[inds2])\n",
      "/home/nvidia/github/python_environments/soundflux/lib/python3.5/site-packages/librosa/core/pitch.py:159: DeprecationWarning: object of type <class 'numpy.float64'> cannot be safely interpreted as an integer.\n",
      "  bins = np.linspace(-0.5, 0.5, np.ceil(1./resolution), endpoint=False)\n",
      "/home/nvidia/github/python_environments/soundflux/lib/python3.5/site-packages/librosa/core/pitch.py:159: DeprecationWarning: object of type <class 'numpy.float64'> cannot be safely interpreted as an integer.\n",
      "  bins = np.linspace(-0.5, 0.5, np.ceil(1./resolution), endpoint=False)\n",
      "/home/nvidia/github/python_environments/soundflux/lib/python3.5/site-packages/librosa/core/pitch.py:159: DeprecationWarning: object of type <class 'numpy.float64'> cannot be safely interpreted as an integer.\n",
      "  bins = np.linspace(-0.5, 0.5, np.ceil(1./resolution), endpoint=False)\n"
     ]
    },
    {
     "name": "stdout",
     "output_type": "stream",
     "text": [
      "\n",
      "\n"
     ]
    },
    {
     "name": "stderr",
     "output_type": "stream",
     "text": [
      "/home/nvidia/github/python_environments/soundflux/lib/python3.5/site-packages/librosa/util/utils.py:828: FutureWarning: Using a non-tuple sequence for multidimensional indexing is deprecated; use `arr[tuple(seq)]` instead of `arr[seq]`. In the future this will be interpreted as an array index, `arr[np.array(seq)]`, which will result either in an error or a different result.\n",
      "  return (x > x_pad[inds1]) & (x >= x_pad[inds2])\n",
      "/home/nvidia/github/python_environments/soundflux/lib/python3.5/site-packages/librosa/core/pitch.py:159: DeprecationWarning: object of type <class 'numpy.float64'> cannot be safely interpreted as an integer.\n",
      "  bins = np.linspace(-0.5, 0.5, np.ceil(1./resolution), endpoint=False)\n"
     ]
    },
    {
     "name": "stdout",
     "output_type": "stream",
     "text": [
      "\n"
     ]
    },
    {
     "name": "stderr",
     "output_type": "stream",
     "text": [
      "/home/nvidia/github/python_environments/soundflux/lib/python3.5/site-packages/librosa/util/utils.py:828: FutureWarning: Using a non-tuple sequence for multidimensional indexing is deprecated; use `arr[tuple(seq)]` instead of `arr[seq]`. In the future this will be interpreted as an array index, `arr[np.array(seq)]`, which will result either in an error or a different result.\n",
      "  return (x > x_pad[inds1]) & (x >= x_pad[inds2])\n",
      "/home/nvidia/github/python_environments/soundflux/lib/python3.5/site-packages/librosa/core/pitch.py:159: DeprecationWarning: object of type <class 'numpy.float64'> cannot be safely interpreted as an integer.\n",
      "  bins = np.linspace(-0.5, 0.5, np.ceil(1./resolution), endpoint=False)\n",
      "/home/nvidia/github/python_environments/soundflux/lib/python3.5/site-packages/librosa/core/pitch.py:159: DeprecationWarning: object of type <class 'numpy.float64'> cannot be safely interpreted as an integer.\n",
      "  bins = np.linspace(-0.5, 0.5, np.ceil(1./resolution), endpoint=False)\n"
     ]
    },
    {
     "name": "stdout",
     "output_type": "stream",
     "text": [
      "\n"
     ]
    },
    {
     "name": "stderr",
     "output_type": "stream",
     "text": [
      "/home/nvidia/github/python_environments/soundflux/lib/python3.5/site-packages/librosa/util/utils.py:828: FutureWarning: Using a non-tuple sequence for multidimensional indexing is deprecated; use `arr[tuple(seq)]` instead of `arr[seq]`. In the future this will be interpreted as an array index, `arr[np.array(seq)]`, which will result either in an error or a different result.\n",
      "  return (x > x_pad[inds1]) & (x >= x_pad[inds2])\n",
      "/home/nvidia/github/python_environments/soundflux/lib/python3.5/site-packages/librosa/core/pitch.py:159: DeprecationWarning: object of type <class 'numpy.float64'> cannot be safely interpreted as an integer.\n",
      "  bins = np.linspace(-0.5, 0.5, np.ceil(1./resolution), endpoint=False)\n"
     ]
    },
    {
     "name": "stdout",
     "output_type": "stream",
     "text": [
      "\n",
      "\n",
      "\n"
     ]
    },
    {
     "name": "stderr",
     "output_type": "stream",
     "text": [
      "/home/nvidia/github/python_environments/soundflux/lib/python3.5/site-packages/librosa/util/utils.py:828: FutureWarning: Using a non-tuple sequence for multidimensional indexing is deprecated; use `arr[tuple(seq)]` instead of `arr[seq]`. In the future this will be interpreted as an array index, `arr[np.array(seq)]`, which will result either in an error or a different result.\n",
      "  return (x > x_pad[inds1]) & (x >= x_pad[inds2])\n",
      "/home/nvidia/github/python_environments/soundflux/lib/python3.5/site-packages/librosa/core/pitch.py:159: DeprecationWarning: object of type <class 'numpy.float64'> cannot be safely interpreted as an integer.\n",
      "  bins = np.linspace(-0.5, 0.5, np.ceil(1./resolution), endpoint=False)\n",
      "/home/nvidia/github/python_environments/soundflux/lib/python3.5/site-packages/librosa/core/pitch.py:159: DeprecationWarning: object of type <class 'numpy.float64'> cannot be safely interpreted as an integer.\n",
      "  bins = np.linspace(-0.5, 0.5, np.ceil(1./resolution), endpoint=False)\n"
     ]
    },
    {
     "name": "stdout",
     "output_type": "stream",
     "text": [
      "\n"
     ]
    },
    {
     "name": "stderr",
     "output_type": "stream",
     "text": [
      "/home/nvidia/github/python_environments/soundflux/lib/python3.5/site-packages/librosa/util/utils.py:828: FutureWarning: Using a non-tuple sequence for multidimensional indexing is deprecated; use `arr[tuple(seq)]` instead of `arr[seq]`. In the future this will be interpreted as an array index, `arr[np.array(seq)]`, which will result either in an error or a different result.\n",
      "  return (x > x_pad[inds1]) & (x >= x_pad[inds2])\n",
      "/home/nvidia/github/python_environments/soundflux/lib/python3.5/site-packages/librosa/core/pitch.py:159: DeprecationWarning: object of type <class 'numpy.float64'> cannot be safely interpreted as an integer.\n",
      "  bins = np.linspace(-0.5, 0.5, np.ceil(1./resolution), endpoint=False)\n"
     ]
    },
    {
     "name": "stdout",
     "output_type": "stream",
     "text": [
      "\n"
     ]
    },
    {
     "name": "stderr",
     "output_type": "stream",
     "text": [
      "/home/nvidia/github/python_environments/soundflux/lib/python3.5/site-packages/librosa/util/utils.py:828: FutureWarning: Using a non-tuple sequence for multidimensional indexing is deprecated; use `arr[tuple(seq)]` instead of `arr[seq]`. In the future this will be interpreted as an array index, `arr[np.array(seq)]`, which will result either in an error or a different result.\n",
      "  return (x > x_pad[inds1]) & (x >= x_pad[inds2])\n",
      "/home/nvidia/github/python_environments/soundflux/lib/python3.5/site-packages/librosa/core/pitch.py:159: DeprecationWarning: object of type <class 'numpy.float64'> cannot be safely interpreted as an integer.\n",
      "  bins = np.linspace(-0.5, 0.5, np.ceil(1./resolution), endpoint=False)\n",
      "/home/nvidia/github/python_environments/soundflux/lib/python3.5/site-packages/librosa/core/pitch.py:159: DeprecationWarning: object of type <class 'numpy.float64'> cannot be safely interpreted as an integer.\n",
      "  bins = np.linspace(-0.5, 0.5, np.ceil(1./resolution), endpoint=False)\n",
      "/home/nvidia/github/python_environments/soundflux/lib/python3.5/site-packages/librosa/core/pitch.py:159: DeprecationWarning: object of type <class 'numpy.float64'> cannot be safely interpreted as an integer.\n",
      "  bins = np.linspace(-0.5, 0.5, np.ceil(1./resolution), endpoint=False)\n"
     ]
    },
    {
     "name": "stdout",
     "output_type": "stream",
     "text": [
      "\n",
      "\n",
      "\n"
     ]
    },
    {
     "name": "stderr",
     "output_type": "stream",
     "text": [
      "/home/nvidia/github/python_environments/soundflux/lib/python3.5/site-packages/librosa/util/utils.py:828: FutureWarning: Using a non-tuple sequence for multidimensional indexing is deprecated; use `arr[tuple(seq)]` instead of `arr[seq]`. In the future this will be interpreted as an array index, `arr[np.array(seq)]`, which will result either in an error or a different result.\n",
      "  return (x > x_pad[inds1]) & (x >= x_pad[inds2])\n",
      "/home/nvidia/github/python_environments/soundflux/lib/python3.5/site-packages/librosa/core/pitch.py:159: DeprecationWarning: object of type <class 'numpy.float64'> cannot be safely interpreted as an integer.\n",
      "  bins = np.linspace(-0.5, 0.5, np.ceil(1./resolution), endpoint=False)\n",
      "/home/nvidia/github/python_environments/soundflux/lib/python3.5/site-packages/librosa/core/pitch.py:159: DeprecationWarning: object of type <class 'numpy.float64'> cannot be safely interpreted as an integer.\n",
      "  bins = np.linspace(-0.5, 0.5, np.ceil(1./resolution), endpoint=False)\n"
     ]
    },
    {
     "name": "stdout",
     "output_type": "stream",
     "text": [
      "\n"
     ]
    },
    {
     "name": "stderr",
     "output_type": "stream",
     "text": [
      "/home/nvidia/github/python_environments/soundflux/lib/python3.5/site-packages/librosa/util/utils.py:828: FutureWarning: Using a non-tuple sequence for multidimensional indexing is deprecated; use `arr[tuple(seq)]` instead of `arr[seq]`. In the future this will be interpreted as an array index, `arr[np.array(seq)]`, which will result either in an error or a different result.\n",
      "  return (x > x_pad[inds1]) & (x >= x_pad[inds2])\n",
      "/home/nvidia/github/python_environments/soundflux/lib/python3.5/site-packages/librosa/core/pitch.py:159: DeprecationWarning: object of type <class 'numpy.float64'> cannot be safely interpreted as an integer.\n",
      "  bins = np.linspace(-0.5, 0.5, np.ceil(1./resolution), endpoint=False)\n",
      "/home/nvidia/github/python_environments/soundflux/lib/python3.5/site-packages/librosa/core/pitch.py:159: DeprecationWarning: object of type <class 'numpy.float64'> cannot be safely interpreted as an integer.\n",
      "  bins = np.linspace(-0.5, 0.5, np.ceil(1./resolution), endpoint=False)\n",
      "/home/nvidia/github/python_environments/soundflux/lib/python3.5/site-packages/librosa/core/pitch.py:159: DeprecationWarning: object of type <class 'numpy.float64'> cannot be safely interpreted as an integer.\n",
      "  bins = np.linspace(-0.5, 0.5, np.ceil(1./resolution), endpoint=False)\n",
      "/home/nvidia/github/python_environments/soundflux/lib/python3.5/site-packages/librosa/core/pitch.py:159: DeprecationWarning: object of type <class 'numpy.float64'> cannot be safely interpreted as an integer.\n",
      "  bins = np.linspace(-0.5, 0.5, np.ceil(1./resolution), endpoint=False)\n",
      "/home/nvidia/github/python_environments/soundflux/lib/python3.5/site-packages/librosa/core/pitch.py:159: DeprecationWarning: object of type <class 'numpy.float64'> cannot be safely interpreted as an integer.\n",
      "  bins = np.linspace(-0.5, 0.5, np.ceil(1./resolution), endpoint=False)\n"
     ]
    },
    {
     "name": "stdout",
     "output_type": "stream",
     "text": [
      "\n",
      "\n",
      "\n"
     ]
    },
    {
     "name": "stderr",
     "output_type": "stream",
     "text": [
      "/home/nvidia/github/python_environments/soundflux/lib/python3.5/site-packages/librosa/util/utils.py:828: FutureWarning: Using a non-tuple sequence for multidimensional indexing is deprecated; use `arr[tuple(seq)]` instead of `arr[seq]`. In the future this will be interpreted as an array index, `arr[np.array(seq)]`, which will result either in an error or a different result.\n",
      "  return (x > x_pad[inds1]) & (x >= x_pad[inds2])\n",
      "/home/nvidia/github/python_environments/soundflux/lib/python3.5/site-packages/librosa/core/pitch.py:159: DeprecationWarning: object of type <class 'numpy.float64'> cannot be safely interpreted as an integer.\n",
      "  bins = np.linspace(-0.5, 0.5, np.ceil(1./resolution), endpoint=False)\n",
      "/home/nvidia/github/python_environments/soundflux/lib/python3.5/site-packages/librosa/core/pitch.py:159: DeprecationWarning: object of type <class 'numpy.float64'> cannot be safely interpreted as an integer.\n",
      "  bins = np.linspace(-0.5, 0.5, np.ceil(1./resolution), endpoint=False)\n",
      "/home/nvidia/github/python_environments/soundflux/lib/python3.5/site-packages/librosa/core/pitch.py:159: DeprecationWarning: object of type <class 'numpy.float64'> cannot be safely interpreted as an integer.\n",
      "  bins = np.linspace(-0.5, 0.5, np.ceil(1./resolution), endpoint=False)\n",
      "/home/nvidia/github/python_environments/soundflux/lib/python3.5/site-packages/librosa/core/pitch.py:159: DeprecationWarning: object of type <class 'numpy.float64'> cannot be safely interpreted as an integer.\n",
      "  bins = np.linspace(-0.5, 0.5, np.ceil(1./resolution), endpoint=False)\n"
     ]
    },
    {
     "name": "stdout",
     "output_type": "stream",
     "text": [
      "\n"
     ]
    },
    {
     "name": "stderr",
     "output_type": "stream",
     "text": [
      "/home/nvidia/github/python_environments/soundflux/lib/python3.5/site-packages/librosa/util/utils.py:828: FutureWarning: Using a non-tuple sequence for multidimensional indexing is deprecated; use `arr[tuple(seq)]` instead of `arr[seq]`. In the future this will be interpreted as an array index, `arr[np.array(seq)]`, which will result either in an error or a different result.\n",
      "  return (x > x_pad[inds1]) & (x >= x_pad[inds2])\n",
      "/home/nvidia/github/python_environments/soundflux/lib/python3.5/site-packages/librosa/core/pitch.py:159: DeprecationWarning: object of type <class 'numpy.float64'> cannot be safely interpreted as an integer.\n",
      "  bins = np.linspace(-0.5, 0.5, np.ceil(1./resolution), endpoint=False)\n",
      "/home/nvidia/github/python_environments/soundflux/lib/python3.5/site-packages/librosa/core/pitch.py:159: DeprecationWarning: object of type <class 'numpy.float64'> cannot be safely interpreted as an integer.\n",
      "  bins = np.linspace(-0.5, 0.5, np.ceil(1./resolution), endpoint=False)\n",
      "/home/nvidia/github/python_environments/soundflux/lib/python3.5/site-packages/librosa/core/pitch.py:159: DeprecationWarning: object of type <class 'numpy.float64'> cannot be safely interpreted as an integer.\n",
      "  bins = np.linspace(-0.5, 0.5, np.ceil(1./resolution), endpoint=False)\n",
      "/home/nvidia/github/python_environments/soundflux/lib/python3.5/site-packages/librosa/core/pitch.py:159: DeprecationWarning: object of type <class 'numpy.float64'> cannot be safely interpreted as an integer.\n",
      "  bins = np.linspace(-0.5, 0.5, np.ceil(1./resolution), endpoint=False)\n",
      "/home/nvidia/github/python_environments/soundflux/lib/python3.5/site-packages/librosa/core/pitch.py:159: DeprecationWarning: object of type <class 'numpy.float64'> cannot be safely interpreted as an integer.\n",
      "  bins = np.linspace(-0.5, 0.5, np.ceil(1./resolution), endpoint=False)\n"
     ]
    },
    {
     "name": "stdout",
     "output_type": "stream",
     "text": [
      "\n",
      "\n"
     ]
    },
    {
     "name": "stderr",
     "output_type": "stream",
     "text": [
      "/home/nvidia/github/python_environments/soundflux/lib/python3.5/site-packages/librosa/util/utils.py:828: FutureWarning: Using a non-tuple sequence for multidimensional indexing is deprecated; use `arr[tuple(seq)]` instead of `arr[seq]`. In the future this will be interpreted as an array index, `arr[np.array(seq)]`, which will result either in an error or a different result.\n",
      "  return (x > x_pad[inds1]) & (x >= x_pad[inds2])\n",
      "/home/nvidia/github/python_environments/soundflux/lib/python3.5/site-packages/librosa/core/pitch.py:159: DeprecationWarning: object of type <class 'numpy.float64'> cannot be safely interpreted as an integer.\n",
      "  bins = np.linspace(-0.5, 0.5, np.ceil(1./resolution), endpoint=False)\n",
      "/home/nvidia/github/python_environments/soundflux/lib/python3.5/site-packages/librosa/core/pitch.py:159: DeprecationWarning: object of type <class 'numpy.float64'> cannot be safely interpreted as an integer.\n",
      "  bins = np.linspace(-0.5, 0.5, np.ceil(1./resolution), endpoint=False)\n",
      "/home/nvidia/github/python_environments/soundflux/lib/python3.5/site-packages/librosa/core/pitch.py:159: DeprecationWarning: object of type <class 'numpy.float64'> cannot be safely interpreted as an integer.\n",
      "  bins = np.linspace(-0.5, 0.5, np.ceil(1./resolution), endpoint=False)\n",
      "/home/nvidia/github/python_environments/soundflux/lib/python3.5/site-packages/librosa/core/pitch.py:159: DeprecationWarning: object of type <class 'numpy.float64'> cannot be safely interpreted as an integer.\n",
      "  bins = np.linspace(-0.5, 0.5, np.ceil(1./resolution), endpoint=False)\n"
     ]
    },
    {
     "name": "stdout",
     "output_type": "stream",
     "text": [
      "\n"
     ]
    },
    {
     "name": "stderr",
     "output_type": "stream",
     "text": [
      "/home/nvidia/github/python_environments/soundflux/lib/python3.5/site-packages/librosa/util/utils.py:828: FutureWarning: Using a non-tuple sequence for multidimensional indexing is deprecated; use `arr[tuple(seq)]` instead of `arr[seq]`. In the future this will be interpreted as an array index, `arr[np.array(seq)]`, which will result either in an error or a different result.\n",
      "  return (x > x_pad[inds1]) & (x >= x_pad[inds2])\n",
      "/home/nvidia/github/python_environments/soundflux/lib/python3.5/site-packages/librosa/core/pitch.py:159: DeprecationWarning: object of type <class 'numpy.float64'> cannot be safely interpreted as an integer.\n",
      "  bins = np.linspace(-0.5, 0.5, np.ceil(1./resolution), endpoint=False)\n"
     ]
    },
    {
     "name": "stdout",
     "output_type": "stream",
     "text": [
      "\n"
     ]
    },
    {
     "name": "stderr",
     "output_type": "stream",
     "text": [
      "/home/nvidia/github/python_environments/soundflux/lib/python3.5/site-packages/librosa/util/utils.py:828: FutureWarning: Using a non-tuple sequence for multidimensional indexing is deprecated; use `arr[tuple(seq)]` instead of `arr[seq]`. In the future this will be interpreted as an array index, `arr[np.array(seq)]`, which will result either in an error or a different result.\n",
      "  return (x > x_pad[inds1]) & (x >= x_pad[inds2])\n",
      "/home/nvidia/github/python_environments/soundflux/lib/python3.5/site-packages/librosa/core/pitch.py:159: DeprecationWarning: object of type <class 'numpy.float64'> cannot be safely interpreted as an integer.\n",
      "  bins = np.linspace(-0.5, 0.5, np.ceil(1./resolution), endpoint=False)\n"
     ]
    },
    {
     "name": "stdout",
     "output_type": "stream",
     "text": [
      "\n"
     ]
    },
    {
     "name": "stderr",
     "output_type": "stream",
     "text": [
      "/home/nvidia/github/python_environments/soundflux/lib/python3.5/site-packages/librosa/util/utils.py:828: FutureWarning: Using a non-tuple sequence for multidimensional indexing is deprecated; use `arr[tuple(seq)]` instead of `arr[seq]`. In the future this will be interpreted as an array index, `arr[np.array(seq)]`, which will result either in an error or a different result.\n",
      "  return (x > x_pad[inds1]) & (x >= x_pad[inds2])\n",
      "/home/nvidia/github/python_environments/soundflux/lib/python3.5/site-packages/librosa/core/pitch.py:159: DeprecationWarning: object of type <class 'numpy.float64'> cannot be safely interpreted as an integer.\n",
      "  bins = np.linspace(-0.5, 0.5, np.ceil(1./resolution), endpoint=False)\n"
     ]
    },
    {
     "name": "stdout",
     "output_type": "stream",
     "text": [
      "\n"
     ]
    },
    {
     "name": "stderr",
     "output_type": "stream",
     "text": [
      "/home/nvidia/github/python_environments/soundflux/lib/python3.5/site-packages/librosa/util/utils.py:828: FutureWarning: Using a non-tuple sequence for multidimensional indexing is deprecated; use `arr[tuple(seq)]` instead of `arr[seq]`. In the future this will be interpreted as an array index, `arr[np.array(seq)]`, which will result either in an error or a different result.\n",
      "  return (x > x_pad[inds1]) & (x >= x_pad[inds2])\n",
      "/home/nvidia/github/python_environments/soundflux/lib/python3.5/site-packages/librosa/core/pitch.py:147: UserWarning: Trying to estimate tuning from empty frequency set.\n",
      "  warnings.warn('Trying to estimate tuning from empty frequency set.')\n",
      "/home/nvidia/github/python_environments/soundflux/lib/python3.5/site-packages/librosa/core/pitch.py:159: DeprecationWarning: object of type <class 'numpy.float64'> cannot be safely interpreted as an integer.\n",
      "  bins = np.linspace(-0.5, 0.5, np.ceil(1./resolution), endpoint=False)\n"
     ]
    },
    {
     "name": "stdout",
     "output_type": "stream",
     "text": [
      "\n"
     ]
    },
    {
     "name": "stderr",
     "output_type": "stream",
     "text": [
      "/home/nvidia/github/python_environments/soundflux/lib/python3.5/site-packages/librosa/util/utils.py:828: FutureWarning: Using a non-tuple sequence for multidimensional indexing is deprecated; use `arr[tuple(seq)]` instead of `arr[seq]`. In the future this will be interpreted as an array index, `arr[np.array(seq)]`, which will result either in an error or a different result.\n",
      "  return (x > x_pad[inds1]) & (x >= x_pad[inds2])\n",
      "/home/nvidia/github/python_environments/soundflux/lib/python3.5/site-packages/librosa/core/pitch.py:159: DeprecationWarning: object of type <class 'numpy.float64'> cannot be safely interpreted as an integer.\n",
      "  bins = np.linspace(-0.5, 0.5, np.ceil(1./resolution), endpoint=False)\n",
      "/home/nvidia/github/python_environments/soundflux/lib/python3.5/site-packages/librosa/core/pitch.py:159: DeprecationWarning: object of type <class 'numpy.float64'> cannot be safely interpreted as an integer.\n",
      "  bins = np.linspace(-0.5, 0.5, np.ceil(1./resolution), endpoint=False)\n",
      "/home/nvidia/github/python_environments/soundflux/lib/python3.5/site-packages/librosa/core/pitch.py:159: DeprecationWarning: object of type <class 'numpy.float64'> cannot be safely interpreted as an integer.\n",
      "  bins = np.linspace(-0.5, 0.5, np.ceil(1./resolution), endpoint=False)\n",
      "/home/nvidia/github/python_environments/soundflux/lib/python3.5/site-packages/librosa/core/pitch.py:159: DeprecationWarning: object of type <class 'numpy.float64'> cannot be safely interpreted as an integer.\n",
      "  bins = np.linspace(-0.5, 0.5, np.ceil(1./resolution), endpoint=False)\n",
      "/home/nvidia/github/python_environments/soundflux/lib/python3.5/site-packages/librosa/core/pitch.py:159: DeprecationWarning: object of type <class 'numpy.float64'> cannot be safely interpreted as an integer.\n",
      "  bins = np.linspace(-0.5, 0.5, np.ceil(1./resolution), endpoint=False)\n"
     ]
    },
    {
     "name": "stdout",
     "output_type": "stream",
     "text": [
      "\n",
      "\n"
     ]
    },
    {
     "name": "stderr",
     "output_type": "stream",
     "text": [
      "/home/nvidia/github/python_environments/soundflux/lib/python3.5/site-packages/librosa/util/utils.py:828: FutureWarning: Using a non-tuple sequence for multidimensional indexing is deprecated; use `arr[tuple(seq)]` instead of `arr[seq]`. In the future this will be interpreted as an array index, `arr[np.array(seq)]`, which will result either in an error or a different result.\n",
      "  return (x > x_pad[inds1]) & (x >= x_pad[inds2])\n",
      "/home/nvidia/github/python_environments/soundflux/lib/python3.5/site-packages/librosa/core/pitch.py:159: DeprecationWarning: object of type <class 'numpy.float64'> cannot be safely interpreted as an integer.\n",
      "  bins = np.linspace(-0.5, 0.5, np.ceil(1./resolution), endpoint=False)\n",
      "/home/nvidia/github/python_environments/soundflux/lib/python3.5/site-packages/librosa/core/pitch.py:159: DeprecationWarning: object of type <class 'numpy.float64'> cannot be safely interpreted as an integer.\n",
      "  bins = np.linspace(-0.5, 0.5, np.ceil(1./resolution), endpoint=False)\n",
      "/home/nvidia/github/python_environments/soundflux/lib/python3.5/site-packages/librosa/core/pitch.py:159: DeprecationWarning: object of type <class 'numpy.float64'> cannot be safely interpreted as an integer.\n",
      "  bins = np.linspace(-0.5, 0.5, np.ceil(1./resolution), endpoint=False)\n"
     ]
    },
    {
     "name": "stdout",
     "output_type": "stream",
     "text": [
      "\n",
      "\n",
      "\n",
      "\n"
     ]
    },
    {
     "name": "stderr",
     "output_type": "stream",
     "text": [
      "/home/nvidia/github/python_environments/soundflux/lib/python3.5/site-packages/librosa/util/utils.py:828: FutureWarning: Using a non-tuple sequence for multidimensional indexing is deprecated; use `arr[tuple(seq)]` instead of `arr[seq]`. In the future this will be interpreted as an array index, `arr[np.array(seq)]`, which will result either in an error or a different result.\n",
      "  return (x > x_pad[inds1]) & (x >= x_pad[inds2])\n",
      "/home/nvidia/github/python_environments/soundflux/lib/python3.5/site-packages/librosa/core/pitch.py:159: DeprecationWarning: object of type <class 'numpy.float64'> cannot be safely interpreted as an integer.\n",
      "  bins = np.linspace(-0.5, 0.5, np.ceil(1./resolution), endpoint=False)\n",
      "/home/nvidia/github/python_environments/soundflux/lib/python3.5/site-packages/librosa/core/pitch.py:159: DeprecationWarning: object of type <class 'numpy.float64'> cannot be safely interpreted as an integer.\n",
      "  bins = np.linspace(-0.5, 0.5, np.ceil(1./resolution), endpoint=False)\n"
     ]
    },
    {
     "name": "stdout",
     "output_type": "stream",
     "text": [
      "\n"
     ]
    },
    {
     "name": "stderr",
     "output_type": "stream",
     "text": [
      "/home/nvidia/github/python_environments/soundflux/lib/python3.5/site-packages/librosa/util/utils.py:828: FutureWarning: Using a non-tuple sequence for multidimensional indexing is deprecated; use `arr[tuple(seq)]` instead of `arr[seq]`. In the future this will be interpreted as an array index, `arr[np.array(seq)]`, which will result either in an error or a different result.\n",
      "  return (x > x_pad[inds1]) & (x >= x_pad[inds2])\n",
      "/home/nvidia/github/python_environments/soundflux/lib/python3.5/site-packages/librosa/core/pitch.py:159: DeprecationWarning: object of type <class 'numpy.float64'> cannot be safely interpreted as an integer.\n",
      "  bins = np.linspace(-0.5, 0.5, np.ceil(1./resolution), endpoint=False)\n",
      "/home/nvidia/github/python_environments/soundflux/lib/python3.5/site-packages/librosa/core/pitch.py:159: DeprecationWarning: object of type <class 'numpy.float64'> cannot be safely interpreted as an integer.\n",
      "  bins = np.linspace(-0.5, 0.5, np.ceil(1./resolution), endpoint=False)\n",
      "/home/nvidia/github/python_environments/soundflux/lib/python3.5/site-packages/librosa/core/pitch.py:159: DeprecationWarning: object of type <class 'numpy.float64'> cannot be safely interpreted as an integer.\n",
      "  bins = np.linspace(-0.5, 0.5, np.ceil(1./resolution), endpoint=False)\n",
      "/home/nvidia/github/python_environments/soundflux/lib/python3.5/site-packages/librosa/core/pitch.py:159: DeprecationWarning: object of type <class 'numpy.float64'> cannot be safely interpreted as an integer.\n",
      "  bins = np.linspace(-0.5, 0.5, np.ceil(1./resolution), endpoint=False)\n"
     ]
    },
    {
     "name": "stdout",
     "output_type": "stream",
     "text": [
      "\n"
     ]
    },
    {
     "name": "stderr",
     "output_type": "stream",
     "text": [
      "/home/nvidia/github/python_environments/soundflux/lib/python3.5/site-packages/librosa/util/utils.py:828: FutureWarning: Using a non-tuple sequence for multidimensional indexing is deprecated; use `arr[tuple(seq)]` instead of `arr[seq]`. In the future this will be interpreted as an array index, `arr[np.array(seq)]`, which will result either in an error or a different result.\n",
      "  return (x > x_pad[inds1]) & (x >= x_pad[inds2])\n",
      "/home/nvidia/github/python_environments/soundflux/lib/python3.5/site-packages/librosa/core/pitch.py:159: DeprecationWarning: object of type <class 'numpy.float64'> cannot be safely interpreted as an integer.\n",
      "  bins = np.linspace(-0.5, 0.5, np.ceil(1./resolution), endpoint=False)\n",
      "/home/nvidia/github/python_environments/soundflux/lib/python3.5/site-packages/librosa/core/pitch.py:159: DeprecationWarning: object of type <class 'numpy.float64'> cannot be safely interpreted as an integer.\n",
      "  bins = np.linspace(-0.5, 0.5, np.ceil(1./resolution), endpoint=False)\n",
      "/home/nvidia/github/python_environments/soundflux/lib/python3.5/site-packages/librosa/core/pitch.py:159: DeprecationWarning: object of type <class 'numpy.float64'> cannot be safely interpreted as an integer.\n",
      "  bins = np.linspace(-0.5, 0.5, np.ceil(1./resolution), endpoint=False)\n",
      "/home/nvidia/github/python_environments/soundflux/lib/python3.5/site-packages/librosa/core/pitch.py:159: DeprecationWarning: object of type <class 'numpy.float64'> cannot be safely interpreted as an integer.\n",
      "  bins = np.linspace(-0.5, 0.5, np.ceil(1./resolution), endpoint=False)\n"
     ]
    },
    {
     "name": "stdout",
     "output_type": "stream",
     "text": [
      "\n",
      "\n"
     ]
    },
    {
     "name": "stderr",
     "output_type": "stream",
     "text": [
      "/home/nvidia/github/python_environments/soundflux/lib/python3.5/site-packages/librosa/util/utils.py:828: FutureWarning: Using a non-tuple sequence for multidimensional indexing is deprecated; use `arr[tuple(seq)]` instead of `arr[seq]`. In the future this will be interpreted as an array index, `arr[np.array(seq)]`, which will result either in an error or a different result.\n",
      "  return (x > x_pad[inds1]) & (x >= x_pad[inds2])\n",
      "/home/nvidia/github/python_environments/soundflux/lib/python3.5/site-packages/librosa/core/pitch.py:159: DeprecationWarning: object of type <class 'numpy.float64'> cannot be safely interpreted as an integer.\n",
      "  bins = np.linspace(-0.5, 0.5, np.ceil(1./resolution), endpoint=False)\n",
      "/home/nvidia/github/python_environments/soundflux/lib/python3.5/site-packages/librosa/core/pitch.py:159: DeprecationWarning: object of type <class 'numpy.float64'> cannot be safely interpreted as an integer.\n",
      "  bins = np.linspace(-0.5, 0.5, np.ceil(1./resolution), endpoint=False)\n",
      "/home/nvidia/github/python_environments/soundflux/lib/python3.5/site-packages/librosa/core/pitch.py:159: DeprecationWarning: object of type <class 'numpy.float64'> cannot be safely interpreted as an integer.\n",
      "  bins = np.linspace(-0.5, 0.5, np.ceil(1./resolution), endpoint=False)\n"
     ]
    },
    {
     "name": "stdout",
     "output_type": "stream",
     "text": [
      "\n"
     ]
    },
    {
     "name": "stderr",
     "output_type": "stream",
     "text": [
      "/home/nvidia/github/python_environments/soundflux/lib/python3.5/site-packages/librosa/util/utils.py:828: FutureWarning: Using a non-tuple sequence for multidimensional indexing is deprecated; use `arr[tuple(seq)]` instead of `arr[seq]`. In the future this will be interpreted as an array index, `arr[np.array(seq)]`, which will result either in an error or a different result.\n",
      "  return (x > x_pad[inds1]) & (x >= x_pad[inds2])\n",
      "/home/nvidia/github/python_environments/soundflux/lib/python3.5/site-packages/librosa/core/pitch.py:159: DeprecationWarning: object of type <class 'numpy.float64'> cannot be safely interpreted as an integer.\n",
      "  bins = np.linspace(-0.5, 0.5, np.ceil(1./resolution), endpoint=False)\n"
     ]
    },
    {
     "name": "stdout",
     "output_type": "stream",
     "text": [
      "\n"
     ]
    },
    {
     "name": "stderr",
     "output_type": "stream",
     "text": [
      "/home/nvidia/github/python_environments/soundflux/lib/python3.5/site-packages/librosa/util/utils.py:828: FutureWarning: Using a non-tuple sequence for multidimensional indexing is deprecated; use `arr[tuple(seq)]` instead of `arr[seq]`. In the future this will be interpreted as an array index, `arr[np.array(seq)]`, which will result either in an error or a different result.\n",
      "  return (x > x_pad[inds1]) & (x >= x_pad[inds2])\n",
      "/home/nvidia/github/python_environments/soundflux/lib/python3.5/site-packages/librosa/core/pitch.py:159: DeprecationWarning: object of type <class 'numpy.float64'> cannot be safely interpreted as an integer.\n",
      "  bins = np.linspace(-0.5, 0.5, np.ceil(1./resolution), endpoint=False)\n",
      "/home/nvidia/github/python_environments/soundflux/lib/python3.5/site-packages/librosa/core/pitch.py:159: DeprecationWarning: object of type <class 'numpy.float64'> cannot be safely interpreted as an integer.\n",
      "  bins = np.linspace(-0.5, 0.5, np.ceil(1./resolution), endpoint=False)\n",
      "/home/nvidia/github/python_environments/soundflux/lib/python3.5/site-packages/librosa/core/pitch.py:159: DeprecationWarning: object of type <class 'numpy.float64'> cannot be safely interpreted as an integer.\n",
      "  bins = np.linspace(-0.5, 0.5, np.ceil(1./resolution), endpoint=False)\n"
     ]
    },
    {
     "name": "stdout",
     "output_type": "stream",
     "text": [
      "\n"
     ]
    },
    {
     "name": "stderr",
     "output_type": "stream",
     "text": [
      "/home/nvidia/github/python_environments/soundflux/lib/python3.5/site-packages/librosa/util/utils.py:828: FutureWarning: Using a non-tuple sequence for multidimensional indexing is deprecated; use `arr[tuple(seq)]` instead of `arr[seq]`. In the future this will be interpreted as an array index, `arr[np.array(seq)]`, which will result either in an error or a different result.\n",
      "  return (x > x_pad[inds1]) & (x >= x_pad[inds2])\n",
      "/home/nvidia/github/python_environments/soundflux/lib/python3.5/site-packages/librosa/core/pitch.py:159: DeprecationWarning: object of type <class 'numpy.float64'> cannot be safely interpreted as an integer.\n",
      "  bins = np.linspace(-0.5, 0.5, np.ceil(1./resolution), endpoint=False)\n",
      "/home/nvidia/github/python_environments/soundflux/lib/python3.5/site-packages/librosa/core/pitch.py:159: DeprecationWarning: object of type <class 'numpy.float64'> cannot be safely interpreted as an integer.\n",
      "  bins = np.linspace(-0.5, 0.5, np.ceil(1./resolution), endpoint=False)\n"
     ]
    },
    {
     "name": "stdout",
     "output_type": "stream",
     "text": [
      "\n",
      "\n",
      "\n",
      "\n"
     ]
    },
    {
     "name": "stderr",
     "output_type": "stream",
     "text": [
      "/home/nvidia/github/python_environments/soundflux/lib/python3.5/site-packages/librosa/util/utils.py:828: FutureWarning: Using a non-tuple sequence for multidimensional indexing is deprecated; use `arr[tuple(seq)]` instead of `arr[seq]`. In the future this will be interpreted as an array index, `arr[np.array(seq)]`, which will result either in an error or a different result.\n",
      "  return (x > x_pad[inds1]) & (x >= x_pad[inds2])\n",
      "/home/nvidia/github/python_environments/soundflux/lib/python3.5/site-packages/librosa/core/pitch.py:159: DeprecationWarning: object of type <class 'numpy.float64'> cannot be safely interpreted as an integer.\n",
      "  bins = np.linspace(-0.5, 0.5, np.ceil(1./resolution), endpoint=False)\n",
      "/home/nvidia/github/python_environments/soundflux/lib/python3.5/site-packages/librosa/core/pitch.py:159: DeprecationWarning: object of type <class 'numpy.float64'> cannot be safely interpreted as an integer.\n",
      "  bins = np.linspace(-0.5, 0.5, np.ceil(1./resolution), endpoint=False)\n"
     ]
    },
    {
     "name": "stdout",
     "output_type": "stream",
     "text": [
      "\n",
      "\n"
     ]
    },
    {
     "name": "stderr",
     "output_type": "stream",
     "text": [
      "/home/nvidia/github/python_environments/soundflux/lib/python3.5/site-packages/librosa/util/utils.py:828: FutureWarning: Using a non-tuple sequence for multidimensional indexing is deprecated; use `arr[tuple(seq)]` instead of `arr[seq]`. In the future this will be interpreted as an array index, `arr[np.array(seq)]`, which will result either in an error or a different result.\n",
      "  return (x > x_pad[inds1]) & (x >= x_pad[inds2])\n",
      "/home/nvidia/github/python_environments/soundflux/lib/python3.5/site-packages/librosa/core/pitch.py:159: DeprecationWarning: object of type <class 'numpy.float64'> cannot be safely interpreted as an integer.\n",
      "  bins = np.linspace(-0.5, 0.5, np.ceil(1./resolution), endpoint=False)\n",
      "/home/nvidia/github/python_environments/soundflux/lib/python3.5/site-packages/librosa/core/pitch.py:159: DeprecationWarning: object of type <class 'numpy.float64'> cannot be safely interpreted as an integer.\n",
      "  bins = np.linspace(-0.5, 0.5, np.ceil(1./resolution), endpoint=False)\n"
     ]
    },
    {
     "name": "stdout",
     "output_type": "stream",
     "text": [
      "\n"
     ]
    },
    {
     "name": "stderr",
     "output_type": "stream",
     "text": [
      "/home/nvidia/github/python_environments/soundflux/lib/python3.5/site-packages/librosa/util/utils.py:828: FutureWarning: Using a non-tuple sequence for multidimensional indexing is deprecated; use `arr[tuple(seq)]` instead of `arr[seq]`. In the future this will be interpreted as an array index, `arr[np.array(seq)]`, which will result either in an error or a different result.\n",
      "  return (x > x_pad[inds1]) & (x >= x_pad[inds2])\n",
      "/home/nvidia/github/python_environments/soundflux/lib/python3.5/site-packages/librosa/core/pitch.py:159: DeprecationWarning: object of type <class 'numpy.float64'> cannot be safely interpreted as an integer.\n",
      "  bins = np.linspace(-0.5, 0.5, np.ceil(1./resolution), endpoint=False)\n",
      "/home/nvidia/github/python_environments/soundflux/lib/python3.5/site-packages/librosa/core/pitch.py:159: DeprecationWarning: object of type <class 'numpy.float64'> cannot be safely interpreted as an integer.\n",
      "  bins = np.linspace(-0.5, 0.5, np.ceil(1./resolution), endpoint=False)\n",
      "/home/nvidia/github/python_environments/soundflux/lib/python3.5/site-packages/librosa/core/pitch.py:159: DeprecationWarning: object of type <class 'numpy.float64'> cannot be safely interpreted as an integer.\n",
      "  bins = np.linspace(-0.5, 0.5, np.ceil(1./resolution), endpoint=False)\n",
      "/home/nvidia/github/python_environments/soundflux/lib/python3.5/site-packages/librosa/core/pitch.py:159: DeprecationWarning: object of type <class 'numpy.float64'> cannot be safely interpreted as an integer.\n",
      "  bins = np.linspace(-0.5, 0.5, np.ceil(1./resolution), endpoint=False)\n",
      "/home/nvidia/github/python_environments/soundflux/lib/python3.5/site-packages/librosa/core/pitch.py:159: DeprecationWarning: object of type <class 'numpy.float64'> cannot be safely interpreted as an integer.\n",
      "  bins = np.linspace(-0.5, 0.5, np.ceil(1./resolution), endpoint=False)\n"
     ]
    },
    {
     "name": "stdout",
     "output_type": "stream",
     "text": [
      "\n"
     ]
    },
    {
     "name": "stderr",
     "output_type": "stream",
     "text": [
      "/home/nvidia/github/python_environments/soundflux/lib/python3.5/site-packages/librosa/util/utils.py:828: FutureWarning: Using a non-tuple sequence for multidimensional indexing is deprecated; use `arr[tuple(seq)]` instead of `arr[seq]`. In the future this will be interpreted as an array index, `arr[np.array(seq)]`, which will result either in an error or a different result.\n",
      "  return (x > x_pad[inds1]) & (x >= x_pad[inds2])\n",
      "/home/nvidia/github/python_environments/soundflux/lib/python3.5/site-packages/librosa/core/pitch.py:159: DeprecationWarning: object of type <class 'numpy.float64'> cannot be safely interpreted as an integer.\n",
      "  bins = np.linspace(-0.5, 0.5, np.ceil(1./resolution), endpoint=False)\n",
      "/home/nvidia/github/python_environments/soundflux/lib/python3.5/site-packages/librosa/core/pitch.py:159: DeprecationWarning: object of type <class 'numpy.float64'> cannot be safely interpreted as an integer.\n",
      "  bins = np.linspace(-0.5, 0.5, np.ceil(1./resolution), endpoint=False)\n"
     ]
    },
    {
     "name": "stdout",
     "output_type": "stream",
     "text": [
      "\n",
      "\n",
      "\n"
     ]
    },
    {
     "name": "stderr",
     "output_type": "stream",
     "text": [
      "/home/nvidia/github/python_environments/soundflux/lib/python3.5/site-packages/librosa/util/utils.py:828: FutureWarning: Using a non-tuple sequence for multidimensional indexing is deprecated; use `arr[tuple(seq)]` instead of `arr[seq]`. In the future this will be interpreted as an array index, `arr[np.array(seq)]`, which will result either in an error or a different result.\n",
      "  return (x > x_pad[inds1]) & (x >= x_pad[inds2])\n",
      "/home/nvidia/github/python_environments/soundflux/lib/python3.5/site-packages/librosa/core/pitch.py:159: DeprecationWarning: object of type <class 'numpy.float64'> cannot be safely interpreted as an integer.\n",
      "  bins = np.linspace(-0.5, 0.5, np.ceil(1./resolution), endpoint=False)\n"
     ]
    },
    {
     "name": "stdout",
     "output_type": "stream",
     "text": [
      "\n"
     ]
    },
    {
     "name": "stderr",
     "output_type": "stream",
     "text": [
      "/home/nvidia/github/python_environments/soundflux/lib/python3.5/site-packages/librosa/util/utils.py:828: FutureWarning: Using a non-tuple sequence for multidimensional indexing is deprecated; use `arr[tuple(seq)]` instead of `arr[seq]`. In the future this will be interpreted as an array index, `arr[np.array(seq)]`, which will result either in an error or a different result.\n",
      "  return (x > x_pad[inds1]) & (x >= x_pad[inds2])\n",
      "/home/nvidia/github/python_environments/soundflux/lib/python3.5/site-packages/librosa/core/pitch.py:159: DeprecationWarning: object of type <class 'numpy.float64'> cannot be safely interpreted as an integer.\n",
      "  bins = np.linspace(-0.5, 0.5, np.ceil(1./resolution), endpoint=False)\n"
     ]
    },
    {
     "name": "stdout",
     "output_type": "stream",
     "text": [
      "\n",
      "\n"
     ]
    },
    {
     "name": "stderr",
     "output_type": "stream",
     "text": [
      "/home/nvidia/github/python_environments/soundflux/lib/python3.5/site-packages/librosa/util/utils.py:828: FutureWarning: Using a non-tuple sequence for multidimensional indexing is deprecated; use `arr[tuple(seq)]` instead of `arr[seq]`. In the future this will be interpreted as an array index, `arr[np.array(seq)]`, which will result either in an error or a different result.\n",
      "  return (x > x_pad[inds1]) & (x >= x_pad[inds2])\n",
      "/home/nvidia/github/python_environments/soundflux/lib/python3.5/site-packages/librosa/core/pitch.py:159: DeprecationWarning: object of type <class 'numpy.float64'> cannot be safely interpreted as an integer.\n",
      "  bins = np.linspace(-0.5, 0.5, np.ceil(1./resolution), endpoint=False)\n",
      "/home/nvidia/github/python_environments/soundflux/lib/python3.5/site-packages/librosa/core/pitch.py:159: DeprecationWarning: object of type <class 'numpy.float64'> cannot be safely interpreted as an integer.\n",
      "  bins = np.linspace(-0.5, 0.5, np.ceil(1./resolution), endpoint=False)\n",
      "/home/nvidia/github/python_environments/soundflux/lib/python3.5/site-packages/librosa/core/pitch.py:159: DeprecationWarning: object of type <class 'numpy.float64'> cannot be safely interpreted as an integer.\n",
      "  bins = np.linspace(-0.5, 0.5, np.ceil(1./resolution), endpoint=False)\n"
     ]
    },
    {
     "name": "stdout",
     "output_type": "stream",
     "text": [
      "\n"
     ]
    },
    {
     "name": "stderr",
     "output_type": "stream",
     "text": [
      "/home/nvidia/github/python_environments/soundflux/lib/python3.5/site-packages/librosa/util/utils.py:828: FutureWarning: Using a non-tuple sequence for multidimensional indexing is deprecated; use `arr[tuple(seq)]` instead of `arr[seq]`. In the future this will be interpreted as an array index, `arr[np.array(seq)]`, which will result either in an error or a different result.\n",
      "  return (x > x_pad[inds1]) & (x >= x_pad[inds2])\n",
      "/home/nvidia/github/python_environments/soundflux/lib/python3.5/site-packages/librosa/core/pitch.py:159: DeprecationWarning: object of type <class 'numpy.float64'> cannot be safely interpreted as an integer.\n",
      "  bins = np.linspace(-0.5, 0.5, np.ceil(1./resolution), endpoint=False)\n"
     ]
    },
    {
     "name": "stdout",
     "output_type": "stream",
     "text": [
      "\n",
      "\n",
      "\n",
      "\n"
     ]
    },
    {
     "name": "stderr",
     "output_type": "stream",
     "text": [
      "/home/nvidia/github/python_environments/soundflux/lib/python3.5/site-packages/librosa/util/utils.py:828: FutureWarning: Using a non-tuple sequence for multidimensional indexing is deprecated; use `arr[tuple(seq)]` instead of `arr[seq]`. In the future this will be interpreted as an array index, `arr[np.array(seq)]`, which will result either in an error or a different result.\n",
      "  return (x > x_pad[inds1]) & (x >= x_pad[inds2])\n",
      "/home/nvidia/github/python_environments/soundflux/lib/python3.5/site-packages/librosa/core/pitch.py:159: DeprecationWarning: object of type <class 'numpy.float64'> cannot be safely interpreted as an integer.\n",
      "  bins = np.linspace(-0.5, 0.5, np.ceil(1./resolution), endpoint=False)\n",
      "/home/nvidia/github/python_environments/soundflux/lib/python3.5/site-packages/librosa/core/pitch.py:159: DeprecationWarning: object of type <class 'numpy.float64'> cannot be safely interpreted as an integer.\n",
      "  bins = np.linspace(-0.5, 0.5, np.ceil(1./resolution), endpoint=False)\n",
      "/home/nvidia/github/python_environments/soundflux/lib/python3.5/site-packages/librosa/core/pitch.py:159: DeprecationWarning: object of type <class 'numpy.float64'> cannot be safely interpreted as an integer.\n",
      "  bins = np.linspace(-0.5, 0.5, np.ceil(1./resolution), endpoint=False)\n"
     ]
    },
    {
     "name": "stdout",
     "output_type": "stream",
     "text": [
      "\n",
      "\n"
     ]
    },
    {
     "name": "stderr",
     "output_type": "stream",
     "text": [
      "/home/nvidia/github/python_environments/soundflux/lib/python3.5/site-packages/librosa/util/utils.py:828: FutureWarning: Using a non-tuple sequence for multidimensional indexing is deprecated; use `arr[tuple(seq)]` instead of `arr[seq]`. In the future this will be interpreted as an array index, `arr[np.array(seq)]`, which will result either in an error or a different result.\n",
      "  return (x > x_pad[inds1]) & (x >= x_pad[inds2])\n",
      "/home/nvidia/github/python_environments/soundflux/lib/python3.5/site-packages/librosa/core/pitch.py:159: DeprecationWarning: object of type <class 'numpy.float64'> cannot be safely interpreted as an integer.\n",
      "  bins = np.linspace(-0.5, 0.5, np.ceil(1./resolution), endpoint=False)\n"
     ]
    },
    {
     "name": "stdout",
     "output_type": "stream",
     "text": [
      "\n",
      "\n"
     ]
    },
    {
     "name": "stderr",
     "output_type": "stream",
     "text": [
      "/home/nvidia/github/python_environments/soundflux/lib/python3.5/site-packages/librosa/util/utils.py:828: FutureWarning: Using a non-tuple sequence for multidimensional indexing is deprecated; use `arr[tuple(seq)]` instead of `arr[seq]`. In the future this will be interpreted as an array index, `arr[np.array(seq)]`, which will result either in an error or a different result.\n",
      "  return (x > x_pad[inds1]) & (x >= x_pad[inds2])\n",
      "/home/nvidia/github/python_environments/soundflux/lib/python3.5/site-packages/librosa/core/pitch.py:159: DeprecationWarning: object of type <class 'numpy.float64'> cannot be safely interpreted as an integer.\n",
      "  bins = np.linspace(-0.5, 0.5, np.ceil(1./resolution), endpoint=False)\n"
     ]
    },
    {
     "name": "stdout",
     "output_type": "stream",
     "text": [
      "\n",
      "\n",
      "\n"
     ]
    },
    {
     "name": "stderr",
     "output_type": "stream",
     "text": [
      "/home/nvidia/github/python_environments/soundflux/lib/python3.5/site-packages/librosa/util/utils.py:828: FutureWarning: Using a non-tuple sequence for multidimensional indexing is deprecated; use `arr[tuple(seq)]` instead of `arr[seq]`. In the future this will be interpreted as an array index, `arr[np.array(seq)]`, which will result either in an error or a different result.\n",
      "  return (x > x_pad[inds1]) & (x >= x_pad[inds2])\n",
      "/home/nvidia/github/python_environments/soundflux/lib/python3.5/site-packages/librosa/core/pitch.py:159: DeprecationWarning: object of type <class 'numpy.float64'> cannot be safely interpreted as an integer.\n",
      "  bins = np.linspace(-0.5, 0.5, np.ceil(1./resolution), endpoint=False)\n",
      "/home/nvidia/github/python_environments/soundflux/lib/python3.5/site-packages/librosa/core/pitch.py:159: DeprecationWarning: object of type <class 'numpy.float64'> cannot be safely interpreted as an integer.\n",
      "  bins = np.linspace(-0.5, 0.5, np.ceil(1./resolution), endpoint=False)\n"
     ]
    },
    {
     "name": "stdout",
     "output_type": "stream",
     "text": [
      "\n"
     ]
    },
    {
     "name": "stderr",
     "output_type": "stream",
     "text": [
      "/home/nvidia/github/python_environments/soundflux/lib/python3.5/site-packages/librosa/util/utils.py:828: FutureWarning: Using a non-tuple sequence for multidimensional indexing is deprecated; use `arr[tuple(seq)]` instead of `arr[seq]`. In the future this will be interpreted as an array index, `arr[np.array(seq)]`, which will result either in an error or a different result.\n",
      "  return (x > x_pad[inds1]) & (x >= x_pad[inds2])\n",
      "/home/nvidia/github/python_environments/soundflux/lib/python3.5/site-packages/librosa/core/pitch.py:159: DeprecationWarning: object of type <class 'numpy.float64'> cannot be safely interpreted as an integer.\n",
      "  bins = np.linspace(-0.5, 0.5, np.ceil(1./resolution), endpoint=False)\n"
     ]
    },
    {
     "name": "stdout",
     "output_type": "stream",
     "text": [
      "\n",
      "\n"
     ]
    },
    {
     "name": "stderr",
     "output_type": "stream",
     "text": [
      "/home/nvidia/github/python_environments/soundflux/lib/python3.5/site-packages/librosa/util/utils.py:828: FutureWarning: Using a non-tuple sequence for multidimensional indexing is deprecated; use `arr[tuple(seq)]` instead of `arr[seq]`. In the future this will be interpreted as an array index, `arr[np.array(seq)]`, which will result either in an error or a different result.\n",
      "  return (x > x_pad[inds1]) & (x >= x_pad[inds2])\n",
      "/home/nvidia/github/python_environments/soundflux/lib/python3.5/site-packages/librosa/core/pitch.py:159: DeprecationWarning: object of type <class 'numpy.float64'> cannot be safely interpreted as an integer.\n",
      "  bins = np.linspace(-0.5, 0.5, np.ceil(1./resolution), endpoint=False)\n",
      "/home/nvidia/github/python_environments/soundflux/lib/python3.5/site-packages/librosa/core/pitch.py:159: DeprecationWarning: object of type <class 'numpy.float64'> cannot be safely interpreted as an integer.\n",
      "  bins = np.linspace(-0.5, 0.5, np.ceil(1./resolution), endpoint=False)\n",
      "/home/nvidia/github/python_environments/soundflux/lib/python3.5/site-packages/librosa/core/pitch.py:159: DeprecationWarning: object of type <class 'numpy.float64'> cannot be safely interpreted as an integer.\n",
      "  bins = np.linspace(-0.5, 0.5, np.ceil(1./resolution), endpoint=False)\n"
     ]
    },
    {
     "name": "stdout",
     "output_type": "stream",
     "text": [
      "\n"
     ]
    },
    {
     "name": "stderr",
     "output_type": "stream",
     "text": [
      "/home/nvidia/github/python_environments/soundflux/lib/python3.5/site-packages/librosa/util/utils.py:828: FutureWarning: Using a non-tuple sequence for multidimensional indexing is deprecated; use `arr[tuple(seq)]` instead of `arr[seq]`. In the future this will be interpreted as an array index, `arr[np.array(seq)]`, which will result either in an error or a different result.\n",
      "  return (x > x_pad[inds1]) & (x >= x_pad[inds2])\n",
      "/home/nvidia/github/python_environments/soundflux/lib/python3.5/site-packages/librosa/core/pitch.py:159: DeprecationWarning: object of type <class 'numpy.float64'> cannot be safely interpreted as an integer.\n",
      "  bins = np.linspace(-0.5, 0.5, np.ceil(1./resolution), endpoint=False)\n"
     ]
    },
    {
     "name": "stdout",
     "output_type": "stream",
     "text": [
      "\n"
     ]
    },
    {
     "name": "stderr",
     "output_type": "stream",
     "text": [
      "/home/nvidia/github/python_environments/soundflux/lib/python3.5/site-packages/librosa/util/utils.py:828: FutureWarning: Using a non-tuple sequence for multidimensional indexing is deprecated; use `arr[tuple(seq)]` instead of `arr[seq]`. In the future this will be interpreted as an array index, `arr[np.array(seq)]`, which will result either in an error or a different result.\n",
      "  return (x > x_pad[inds1]) & (x >= x_pad[inds2])\n",
      "/home/nvidia/github/python_environments/soundflux/lib/python3.5/site-packages/librosa/core/pitch.py:159: DeprecationWarning: object of type <class 'numpy.float64'> cannot be safely interpreted as an integer.\n",
      "  bins = np.linspace(-0.5, 0.5, np.ceil(1./resolution), endpoint=False)\n"
     ]
    },
    {
     "name": "stdout",
     "output_type": "stream",
     "text": [
      "\n"
     ]
    },
    {
     "name": "stderr",
     "output_type": "stream",
     "text": [
      "/home/nvidia/github/python_environments/soundflux/lib/python3.5/site-packages/librosa/util/utils.py:828: FutureWarning: Using a non-tuple sequence for multidimensional indexing is deprecated; use `arr[tuple(seq)]` instead of `arr[seq]`. In the future this will be interpreted as an array index, `arr[np.array(seq)]`, which will result either in an error or a different result.\n",
      "  return (x > x_pad[inds1]) & (x >= x_pad[inds2])\n",
      "/home/nvidia/github/python_environments/soundflux/lib/python3.5/site-packages/librosa/core/pitch.py:159: DeprecationWarning: object of type <class 'numpy.float64'> cannot be safely interpreted as an integer.\n",
      "  bins = np.linspace(-0.5, 0.5, np.ceil(1./resolution), endpoint=False)\n",
      "/home/nvidia/github/python_environments/soundflux/lib/python3.5/site-packages/librosa/core/pitch.py:159: DeprecationWarning: object of type <class 'numpy.float64'> cannot be safely interpreted as an integer.\n",
      "  bins = np.linspace(-0.5, 0.5, np.ceil(1./resolution), endpoint=False)\n",
      "/home/nvidia/github/python_environments/soundflux/lib/python3.5/site-packages/librosa/core/pitch.py:159: DeprecationWarning: object of type <class 'numpy.float64'> cannot be safely interpreted as an integer.\n",
      "  bins = np.linspace(-0.5, 0.5, np.ceil(1./resolution), endpoint=False)\n",
      "/home/nvidia/github/python_environments/soundflux/lib/python3.5/site-packages/librosa/core/pitch.py:159: DeprecationWarning: object of type <class 'numpy.float64'> cannot be safely interpreted as an integer.\n",
      "  bins = np.linspace(-0.5, 0.5, np.ceil(1./resolution), endpoint=False)\n",
      "/home/nvidia/github/python_environments/soundflux/lib/python3.5/site-packages/librosa/core/pitch.py:159: DeprecationWarning: object of type <class 'numpy.float64'> cannot be safely interpreted as an integer.\n",
      "  bins = np.linspace(-0.5, 0.5, np.ceil(1./resolution), endpoint=False)\n"
     ]
    },
    {
     "name": "stdout",
     "output_type": "stream",
     "text": [
      "\n"
     ]
    },
    {
     "name": "stderr",
     "output_type": "stream",
     "text": [
      "/home/nvidia/github/python_environments/soundflux/lib/python3.5/site-packages/librosa/util/utils.py:828: FutureWarning: Using a non-tuple sequence for multidimensional indexing is deprecated; use `arr[tuple(seq)]` instead of `arr[seq]`. In the future this will be interpreted as an array index, `arr[np.array(seq)]`, which will result either in an error or a different result.\n",
      "  return (x > x_pad[inds1]) & (x >= x_pad[inds2])\n",
      "/home/nvidia/github/python_environments/soundflux/lib/python3.5/site-packages/librosa/core/pitch.py:159: DeprecationWarning: object of type <class 'numpy.float64'> cannot be safely interpreted as an integer.\n",
      "  bins = np.linspace(-0.5, 0.5, np.ceil(1./resolution), endpoint=False)\n",
      "/home/nvidia/github/python_environments/soundflux/lib/python3.5/site-packages/librosa/core/pitch.py:159: DeprecationWarning: object of type <class 'numpy.float64'> cannot be safely interpreted as an integer.\n",
      "  bins = np.linspace(-0.5, 0.5, np.ceil(1./resolution), endpoint=False)\n"
     ]
    },
    {
     "name": "stdout",
     "output_type": "stream",
     "text": [
      "\n"
     ]
    },
    {
     "name": "stderr",
     "output_type": "stream",
     "text": [
      "/home/nvidia/github/python_environments/soundflux/lib/python3.5/site-packages/librosa/util/utils.py:828: FutureWarning: Using a non-tuple sequence for multidimensional indexing is deprecated; use `arr[tuple(seq)]` instead of `arr[seq]`. In the future this will be interpreted as an array index, `arr[np.array(seq)]`, which will result either in an error or a different result.\n",
      "  return (x > x_pad[inds1]) & (x >= x_pad[inds2])\n",
      "/home/nvidia/github/python_environments/soundflux/lib/python3.5/site-packages/librosa/core/pitch.py:159: DeprecationWarning: object of type <class 'numpy.float64'> cannot be safely interpreted as an integer.\n",
      "  bins = np.linspace(-0.5, 0.5, np.ceil(1./resolution), endpoint=False)\n"
     ]
    },
    {
     "name": "stdout",
     "output_type": "stream",
     "text": [
      "\n"
     ]
    },
    {
     "name": "stderr",
     "output_type": "stream",
     "text": [
      "/home/nvidia/github/python_environments/soundflux/lib/python3.5/site-packages/librosa/util/utils.py:828: FutureWarning: Using a non-tuple sequence for multidimensional indexing is deprecated; use `arr[tuple(seq)]` instead of `arr[seq]`. In the future this will be interpreted as an array index, `arr[np.array(seq)]`, which will result either in an error or a different result.\n",
      "  return (x > x_pad[inds1]) & (x >= x_pad[inds2])\n",
      "/home/nvidia/github/python_environments/soundflux/lib/python3.5/site-packages/librosa/core/pitch.py:159: DeprecationWarning: object of type <class 'numpy.float64'> cannot be safely interpreted as an integer.\n",
      "  bins = np.linspace(-0.5, 0.5, np.ceil(1./resolution), endpoint=False)\n",
      "/home/nvidia/github/python_environments/soundflux/lib/python3.5/site-packages/librosa/core/pitch.py:159: DeprecationWarning: object of type <class 'numpy.float64'> cannot be safely interpreted as an integer.\n",
      "  bins = np.linspace(-0.5, 0.5, np.ceil(1./resolution), endpoint=False)\n",
      "/home/nvidia/github/python_environments/soundflux/lib/python3.5/site-packages/librosa/core/pitch.py:159: DeprecationWarning: object of type <class 'numpy.float64'> cannot be safely interpreted as an integer.\n",
      "  bins = np.linspace(-0.5, 0.5, np.ceil(1./resolution), endpoint=False)\n"
     ]
    },
    {
     "name": "stdout",
     "output_type": "stream",
     "text": [
      "\n",
      "\n"
     ]
    },
    {
     "name": "stderr",
     "output_type": "stream",
     "text": [
      "/home/nvidia/github/python_environments/soundflux/lib/python3.5/site-packages/librosa/util/utils.py:828: FutureWarning: Using a non-tuple sequence for multidimensional indexing is deprecated; use `arr[tuple(seq)]` instead of `arr[seq]`. In the future this will be interpreted as an array index, `arr[np.array(seq)]`, which will result either in an error or a different result.\n",
      "  return (x > x_pad[inds1]) & (x >= x_pad[inds2])\n",
      "/home/nvidia/github/python_environments/soundflux/lib/python3.5/site-packages/librosa/core/pitch.py:159: DeprecationWarning: object of type <class 'numpy.float64'> cannot be safely interpreted as an integer.\n",
      "  bins = np.linspace(-0.5, 0.5, np.ceil(1./resolution), endpoint=False)\n",
      "/home/nvidia/github/python_environments/soundflux/lib/python3.5/site-packages/librosa/core/pitch.py:159: DeprecationWarning: object of type <class 'numpy.float64'> cannot be safely interpreted as an integer.\n",
      "  bins = np.linspace(-0.5, 0.5, np.ceil(1./resolution), endpoint=False)\n"
     ]
    },
    {
     "name": "stdout",
     "output_type": "stream",
     "text": [
      "\n",
      "\n"
     ]
    },
    {
     "name": "stderr",
     "output_type": "stream",
     "text": [
      "/home/nvidia/github/python_environments/soundflux/lib/python3.5/site-packages/librosa/util/utils.py:828: FutureWarning: Using a non-tuple sequence for multidimensional indexing is deprecated; use `arr[tuple(seq)]` instead of `arr[seq]`. In the future this will be interpreted as an array index, `arr[np.array(seq)]`, which will result either in an error or a different result.\n",
      "  return (x > x_pad[inds1]) & (x >= x_pad[inds2])\n",
      "/home/nvidia/github/python_environments/soundflux/lib/python3.5/site-packages/librosa/core/pitch.py:159: DeprecationWarning: object of type <class 'numpy.float64'> cannot be safely interpreted as an integer.\n",
      "  bins = np.linspace(-0.5, 0.5, np.ceil(1./resolution), endpoint=False)\n",
      "/home/nvidia/github/python_environments/soundflux/lib/python3.5/site-packages/librosa/core/pitch.py:159: DeprecationWarning: object of type <class 'numpy.float64'> cannot be safely interpreted as an integer.\n",
      "  bins = np.linspace(-0.5, 0.5, np.ceil(1./resolution), endpoint=False)\n",
      "/home/nvidia/github/python_environments/soundflux/lib/python3.5/site-packages/librosa/core/pitch.py:159: DeprecationWarning: object of type <class 'numpy.float64'> cannot be safely interpreted as an integer.\n",
      "  bins = np.linspace(-0.5, 0.5, np.ceil(1./resolution), endpoint=False)\n",
      "/home/nvidia/github/python_environments/soundflux/lib/python3.5/site-packages/librosa/core/pitch.py:159: DeprecationWarning: object of type <class 'numpy.float64'> cannot be safely interpreted as an integer.\n",
      "  bins = np.linspace(-0.5, 0.5, np.ceil(1./resolution), endpoint=False)\n"
     ]
    },
    {
     "name": "stdout",
     "output_type": "stream",
     "text": [
      "\n"
     ]
    },
    {
     "name": "stderr",
     "output_type": "stream",
     "text": [
      "/home/nvidia/github/python_environments/soundflux/lib/python3.5/site-packages/librosa/util/utils.py:828: FutureWarning: Using a non-tuple sequence for multidimensional indexing is deprecated; use `arr[tuple(seq)]` instead of `arr[seq]`. In the future this will be interpreted as an array index, `arr[np.array(seq)]`, which will result either in an error or a different result.\n",
      "  return (x > x_pad[inds1]) & (x >= x_pad[inds2])\n",
      "/home/nvidia/github/python_environments/soundflux/lib/python3.5/site-packages/librosa/core/pitch.py:159: DeprecationWarning: object of type <class 'numpy.float64'> cannot be safely interpreted as an integer.\n",
      "  bins = np.linspace(-0.5, 0.5, np.ceil(1./resolution), endpoint=False)\n",
      "/home/nvidia/github/python_environments/soundflux/lib/python3.5/site-packages/librosa/core/pitch.py:159: DeprecationWarning: object of type <class 'numpy.float64'> cannot be safely interpreted as an integer.\n",
      "  bins = np.linspace(-0.5, 0.5, np.ceil(1./resolution), endpoint=False)\n",
      "/home/nvidia/github/python_environments/soundflux/lib/python3.5/site-packages/librosa/core/pitch.py:159: DeprecationWarning: object of type <class 'numpy.float64'> cannot be safely interpreted as an integer.\n",
      "  bins = np.linspace(-0.5, 0.5, np.ceil(1./resolution), endpoint=False)\n",
      "/home/nvidia/github/python_environments/soundflux/lib/python3.5/site-packages/librosa/core/pitch.py:159: DeprecationWarning: object of type <class 'numpy.float64'> cannot be safely interpreted as an integer.\n",
      "  bins = np.linspace(-0.5, 0.5, np.ceil(1./resolution), endpoint=False)\n",
      "/home/nvidia/github/python_environments/soundflux/lib/python3.5/site-packages/librosa/core/pitch.py:159: DeprecationWarning: object of type <class 'numpy.float64'> cannot be safely interpreted as an integer.\n",
      "  bins = np.linspace(-0.5, 0.5, np.ceil(1./resolution), endpoint=False)\n"
     ]
    },
    {
     "name": "stdout",
     "output_type": "stream",
     "text": [
      "\n",
      "\n",
      "\n"
     ]
    },
    {
     "name": "stderr",
     "output_type": "stream",
     "text": [
      "/home/nvidia/github/python_environments/soundflux/lib/python3.5/site-packages/librosa/util/utils.py:828: FutureWarning: Using a non-tuple sequence for multidimensional indexing is deprecated; use `arr[tuple(seq)]` instead of `arr[seq]`. In the future this will be interpreted as an array index, `arr[np.array(seq)]`, which will result either in an error or a different result.\n",
      "  return (x > x_pad[inds1]) & (x >= x_pad[inds2])\n",
      "/home/nvidia/github/python_environments/soundflux/lib/python3.5/site-packages/librosa/core/pitch.py:159: DeprecationWarning: object of type <class 'numpy.float64'> cannot be safely interpreted as an integer.\n",
      "  bins = np.linspace(-0.5, 0.5, np.ceil(1./resolution), endpoint=False)\n"
     ]
    },
    {
     "name": "stdout",
     "output_type": "stream",
     "text": [
      "\n"
     ]
    },
    {
     "name": "stderr",
     "output_type": "stream",
     "text": [
      "/home/nvidia/github/python_environments/soundflux/lib/python3.5/site-packages/librosa/util/utils.py:828: FutureWarning: Using a non-tuple sequence for multidimensional indexing is deprecated; use `arr[tuple(seq)]` instead of `arr[seq]`. In the future this will be interpreted as an array index, `arr[np.array(seq)]`, which will result either in an error or a different result.\n",
      "  return (x > x_pad[inds1]) & (x >= x_pad[inds2])\n",
      "/home/nvidia/github/python_environments/soundflux/lib/python3.5/site-packages/librosa/core/pitch.py:159: DeprecationWarning: object of type <class 'numpy.float64'> cannot be safely interpreted as an integer.\n",
      "  bins = np.linspace(-0.5, 0.5, np.ceil(1./resolution), endpoint=False)\n"
     ]
    },
    {
     "name": "stdout",
     "output_type": "stream",
     "text": [
      "\n"
     ]
    },
    {
     "name": "stderr",
     "output_type": "stream",
     "text": [
      "/home/nvidia/github/python_environments/soundflux/lib/python3.5/site-packages/librosa/util/utils.py:828: FutureWarning: Using a non-tuple sequence for multidimensional indexing is deprecated; use `arr[tuple(seq)]` instead of `arr[seq]`. In the future this will be interpreted as an array index, `arr[np.array(seq)]`, which will result either in an error or a different result.\n",
      "  return (x > x_pad[inds1]) & (x >= x_pad[inds2])\n",
      "/home/nvidia/github/python_environments/soundflux/lib/python3.5/site-packages/librosa/core/pitch.py:159: DeprecationWarning: object of type <class 'numpy.float64'> cannot be safely interpreted as an integer.\n",
      "  bins = np.linspace(-0.5, 0.5, np.ceil(1./resolution), endpoint=False)\n",
      "/home/nvidia/github/python_environments/soundflux/lib/python3.5/site-packages/librosa/core/pitch.py:159: DeprecationWarning: object of type <class 'numpy.float64'> cannot be safely interpreted as an integer.\n",
      "  bins = np.linspace(-0.5, 0.5, np.ceil(1./resolution), endpoint=False)\n",
      "/home/nvidia/github/python_environments/soundflux/lib/python3.5/site-packages/librosa/core/pitch.py:159: DeprecationWarning: object of type <class 'numpy.float64'> cannot be safely interpreted as an integer.\n",
      "  bins = np.linspace(-0.5, 0.5, np.ceil(1./resolution), endpoint=False)\n"
     ]
    },
    {
     "name": "stdout",
     "output_type": "stream",
     "text": [
      "\n",
      "\n"
     ]
    },
    {
     "name": "stderr",
     "output_type": "stream",
     "text": [
      "/home/nvidia/github/python_environments/soundflux/lib/python3.5/site-packages/librosa/util/utils.py:828: FutureWarning: Using a non-tuple sequence for multidimensional indexing is deprecated; use `arr[tuple(seq)]` instead of `arr[seq]`. In the future this will be interpreted as an array index, `arr[np.array(seq)]`, which will result either in an error or a different result.\n",
      "  return (x > x_pad[inds1]) & (x >= x_pad[inds2])\n",
      "/home/nvidia/github/python_environments/soundflux/lib/python3.5/site-packages/librosa/core/pitch.py:159: DeprecationWarning: object of type <class 'numpy.float64'> cannot be safely interpreted as an integer.\n",
      "  bins = np.linspace(-0.5, 0.5, np.ceil(1./resolution), endpoint=False)\n"
     ]
    },
    {
     "name": "stdout",
     "output_type": "stream",
     "text": [
      "\n"
     ]
    },
    {
     "name": "stderr",
     "output_type": "stream",
     "text": [
      "/home/nvidia/github/python_environments/soundflux/lib/python3.5/site-packages/librosa/util/utils.py:828: FutureWarning: Using a non-tuple sequence for multidimensional indexing is deprecated; use `arr[tuple(seq)]` instead of `arr[seq]`. In the future this will be interpreted as an array index, `arr[np.array(seq)]`, which will result either in an error or a different result.\n",
      "  return (x > x_pad[inds1]) & (x >= x_pad[inds2])\n",
      "/home/nvidia/github/python_environments/soundflux/lib/python3.5/site-packages/librosa/core/pitch.py:159: DeprecationWarning: object of type <class 'numpy.float64'> cannot be safely interpreted as an integer.\n",
      "  bins = np.linspace(-0.5, 0.5, np.ceil(1./resolution), endpoint=False)\n"
     ]
    },
    {
     "name": "stdout",
     "output_type": "stream",
     "text": [
      "\n"
     ]
    },
    {
     "name": "stderr",
     "output_type": "stream",
     "text": [
      "/home/nvidia/github/python_environments/soundflux/lib/python3.5/site-packages/librosa/util/utils.py:828: FutureWarning: Using a non-tuple sequence for multidimensional indexing is deprecated; use `arr[tuple(seq)]` instead of `arr[seq]`. In the future this will be interpreted as an array index, `arr[np.array(seq)]`, which will result either in an error or a different result.\n",
      "  return (x > x_pad[inds1]) & (x >= x_pad[inds2])\n",
      "/home/nvidia/github/python_environments/soundflux/lib/python3.5/site-packages/librosa/core/pitch.py:159: DeprecationWarning: object of type <class 'numpy.float64'> cannot be safely interpreted as an integer.\n",
      "  bins = np.linspace(-0.5, 0.5, np.ceil(1./resolution), endpoint=False)\n",
      "/home/nvidia/github/python_environments/soundflux/lib/python3.5/site-packages/librosa/core/pitch.py:159: DeprecationWarning: object of type <class 'numpy.float64'> cannot be safely interpreted as an integer.\n",
      "  bins = np.linspace(-0.5, 0.5, np.ceil(1./resolution), endpoint=False)\n",
      "/home/nvidia/github/python_environments/soundflux/lib/python3.5/site-packages/librosa/core/pitch.py:159: DeprecationWarning: object of type <class 'numpy.float64'> cannot be safely interpreted as an integer.\n",
      "  bins = np.linspace(-0.5, 0.5, np.ceil(1./resolution), endpoint=False)\n"
     ]
    },
    {
     "name": "stdout",
     "output_type": "stream",
     "text": [
      "\n"
     ]
    },
    {
     "name": "stderr",
     "output_type": "stream",
     "text": [
      "/home/nvidia/github/python_environments/soundflux/lib/python3.5/site-packages/librosa/util/utils.py:828: FutureWarning: Using a non-tuple sequence for multidimensional indexing is deprecated; use `arr[tuple(seq)]` instead of `arr[seq]`. In the future this will be interpreted as an array index, `arr[np.array(seq)]`, which will result either in an error or a different result.\n",
      "  return (x > x_pad[inds1]) & (x >= x_pad[inds2])\n",
      "/home/nvidia/github/python_environments/soundflux/lib/python3.5/site-packages/librosa/core/pitch.py:159: DeprecationWarning: object of type <class 'numpy.float64'> cannot be safely interpreted as an integer.\n",
      "  bins = np.linspace(-0.5, 0.5, np.ceil(1./resolution), endpoint=False)\n",
      "/home/nvidia/github/python_environments/soundflux/lib/python3.5/site-packages/librosa/core/pitch.py:159: DeprecationWarning: object of type <class 'numpy.float64'> cannot be safely interpreted as an integer.\n",
      "  bins = np.linspace(-0.5, 0.5, np.ceil(1./resolution), endpoint=False)\n"
     ]
    },
    {
     "name": "stdout",
     "output_type": "stream",
     "text": [
      "\n"
     ]
    },
    {
     "name": "stderr",
     "output_type": "stream",
     "text": [
      "/home/nvidia/github/python_environments/soundflux/lib/python3.5/site-packages/librosa/util/utils.py:828: FutureWarning: Using a non-tuple sequence for multidimensional indexing is deprecated; use `arr[tuple(seq)]` instead of `arr[seq]`. In the future this will be interpreted as an array index, `arr[np.array(seq)]`, which will result either in an error or a different result.\n",
      "  return (x > x_pad[inds1]) & (x >= x_pad[inds2])\n",
      "/home/nvidia/github/python_environments/soundflux/lib/python3.5/site-packages/librosa/core/pitch.py:159: DeprecationWarning: object of type <class 'numpy.float64'> cannot be safely interpreted as an integer.\n",
      "  bins = np.linspace(-0.5, 0.5, np.ceil(1./resolution), endpoint=False)\n"
     ]
    },
    {
     "name": "stdout",
     "output_type": "stream",
     "text": [
      "\n",
      "\n",
      "\n",
      "\n"
     ]
    },
    {
     "name": "stderr",
     "output_type": "stream",
     "text": [
      "/home/nvidia/github/python_environments/soundflux/lib/python3.5/site-packages/librosa/util/utils.py:828: FutureWarning: Using a non-tuple sequence for multidimensional indexing is deprecated; use `arr[tuple(seq)]` instead of `arr[seq]`. In the future this will be interpreted as an array index, `arr[np.array(seq)]`, which will result either in an error or a different result.\n",
      "  return (x > x_pad[inds1]) & (x >= x_pad[inds2])\n",
      "/home/nvidia/github/python_environments/soundflux/lib/python3.5/site-packages/librosa/core/pitch.py:159: DeprecationWarning: object of type <class 'numpy.float64'> cannot be safely interpreted as an integer.\n",
      "  bins = np.linspace(-0.5, 0.5, np.ceil(1./resolution), endpoint=False)\n",
      "/home/nvidia/github/python_environments/soundflux/lib/python3.5/site-packages/librosa/core/pitch.py:159: DeprecationWarning: object of type <class 'numpy.float64'> cannot be safely interpreted as an integer.\n",
      "  bins = np.linspace(-0.5, 0.5, np.ceil(1./resolution), endpoint=False)\n",
      "/home/nvidia/github/python_environments/soundflux/lib/python3.5/site-packages/librosa/core/pitch.py:159: DeprecationWarning: object of type <class 'numpy.float64'> cannot be safely interpreted as an integer.\n",
      "  bins = np.linspace(-0.5, 0.5, np.ceil(1./resolution), endpoint=False)\n"
     ]
    },
    {
     "name": "stdout",
     "output_type": "stream",
     "text": [
      "\n",
      "\n"
     ]
    },
    {
     "name": "stderr",
     "output_type": "stream",
     "text": [
      "/home/nvidia/github/python_environments/soundflux/lib/python3.5/site-packages/librosa/util/utils.py:828: FutureWarning: Using a non-tuple sequence for multidimensional indexing is deprecated; use `arr[tuple(seq)]` instead of `arr[seq]`. In the future this will be interpreted as an array index, `arr[np.array(seq)]`, which will result either in an error or a different result.\n",
      "  return (x > x_pad[inds1]) & (x >= x_pad[inds2])\n",
      "/home/nvidia/github/python_environments/soundflux/lib/python3.5/site-packages/librosa/core/pitch.py:159: DeprecationWarning: object of type <class 'numpy.float64'> cannot be safely interpreted as an integer.\n",
      "  bins = np.linspace(-0.5, 0.5, np.ceil(1./resolution), endpoint=False)\n"
     ]
    },
    {
     "name": "stdout",
     "output_type": "stream",
     "text": [
      "\n"
     ]
    },
    {
     "name": "stderr",
     "output_type": "stream",
     "text": [
      "/home/nvidia/github/python_environments/soundflux/lib/python3.5/site-packages/librosa/util/utils.py:828: FutureWarning: Using a non-tuple sequence for multidimensional indexing is deprecated; use `arr[tuple(seq)]` instead of `arr[seq]`. In the future this will be interpreted as an array index, `arr[np.array(seq)]`, which will result either in an error or a different result.\n",
      "  return (x > x_pad[inds1]) & (x >= x_pad[inds2])\n",
      "/home/nvidia/github/python_environments/soundflux/lib/python3.5/site-packages/librosa/core/pitch.py:159: DeprecationWarning: object of type <class 'numpy.float64'> cannot be safely interpreted as an integer.\n",
      "  bins = np.linspace(-0.5, 0.5, np.ceil(1./resolution), endpoint=False)\n",
      "/home/nvidia/github/python_environments/soundflux/lib/python3.5/site-packages/librosa/core/pitch.py:159: DeprecationWarning: object of type <class 'numpy.float64'> cannot be safely interpreted as an integer.\n",
      "  bins = np.linspace(-0.5, 0.5, np.ceil(1./resolution), endpoint=False)\n"
     ]
    },
    {
     "name": "stdout",
     "output_type": "stream",
     "text": [
      "\n"
     ]
    },
    {
     "name": "stderr",
     "output_type": "stream",
     "text": [
      "/home/nvidia/github/python_environments/soundflux/lib/python3.5/site-packages/librosa/util/utils.py:828: FutureWarning: Using a non-tuple sequence for multidimensional indexing is deprecated; use `arr[tuple(seq)]` instead of `arr[seq]`. In the future this will be interpreted as an array index, `arr[np.array(seq)]`, which will result either in an error or a different result.\n",
      "  return (x > x_pad[inds1]) & (x >= x_pad[inds2])\n",
      "/home/nvidia/github/python_environments/soundflux/lib/python3.5/site-packages/librosa/core/pitch.py:159: DeprecationWarning: object of type <class 'numpy.float64'> cannot be safely interpreted as an integer.\n",
      "  bins = np.linspace(-0.5, 0.5, np.ceil(1./resolution), endpoint=False)\n"
     ]
    },
    {
     "name": "stdout",
     "output_type": "stream",
     "text": [
      "\n"
     ]
    },
    {
     "name": "stderr",
     "output_type": "stream",
     "text": [
      "/home/nvidia/github/python_environments/soundflux/lib/python3.5/site-packages/librosa/util/utils.py:828: FutureWarning: Using a non-tuple sequence for multidimensional indexing is deprecated; use `arr[tuple(seq)]` instead of `arr[seq]`. In the future this will be interpreted as an array index, `arr[np.array(seq)]`, which will result either in an error or a different result.\n",
      "  return (x > x_pad[inds1]) & (x >= x_pad[inds2])\n",
      "/home/nvidia/github/python_environments/soundflux/lib/python3.5/site-packages/librosa/core/pitch.py:159: DeprecationWarning: object of type <class 'numpy.float64'> cannot be safely interpreted as an integer.\n",
      "  bins = np.linspace(-0.5, 0.5, np.ceil(1./resolution), endpoint=False)\n",
      "/home/nvidia/github/python_environments/soundflux/lib/python3.5/site-packages/librosa/core/pitch.py:159: DeprecationWarning: object of type <class 'numpy.float64'> cannot be safely interpreted as an integer.\n",
      "  bins = np.linspace(-0.5, 0.5, np.ceil(1./resolution), endpoint=False)\n"
     ]
    },
    {
     "name": "stdout",
     "output_type": "stream",
     "text": [
      "\n"
     ]
    },
    {
     "name": "stderr",
     "output_type": "stream",
     "text": [
      "/home/nvidia/github/python_environments/soundflux/lib/python3.5/site-packages/librosa/util/utils.py:828: FutureWarning: Using a non-tuple sequence for multidimensional indexing is deprecated; use `arr[tuple(seq)]` instead of `arr[seq]`. In the future this will be interpreted as an array index, `arr[np.array(seq)]`, which will result either in an error or a different result.\n",
      "  return (x > x_pad[inds1]) & (x >= x_pad[inds2])\n",
      "/home/nvidia/github/python_environments/soundflux/lib/python3.5/site-packages/librosa/core/pitch.py:159: DeprecationWarning: object of type <class 'numpy.float64'> cannot be safely interpreted as an integer.\n",
      "  bins = np.linspace(-0.5, 0.5, np.ceil(1./resolution), endpoint=False)\n"
     ]
    },
    {
     "name": "stdout",
     "output_type": "stream",
     "text": [
      "\n"
     ]
    },
    {
     "name": "stderr",
     "output_type": "stream",
     "text": [
      "/home/nvidia/github/python_environments/soundflux/lib/python3.5/site-packages/librosa/util/utils.py:828: FutureWarning: Using a non-tuple sequence for multidimensional indexing is deprecated; use `arr[tuple(seq)]` instead of `arr[seq]`. In the future this will be interpreted as an array index, `arr[np.array(seq)]`, which will result either in an error or a different result.\n",
      "  return (x > x_pad[inds1]) & (x >= x_pad[inds2])\n",
      "/home/nvidia/github/python_environments/soundflux/lib/python3.5/site-packages/librosa/core/pitch.py:159: DeprecationWarning: object of type <class 'numpy.float64'> cannot be safely interpreted as an integer.\n",
      "  bins = np.linspace(-0.5, 0.5, np.ceil(1./resolution), endpoint=False)\n"
     ]
    },
    {
     "name": "stdout",
     "output_type": "stream",
     "text": [
      "\n"
     ]
    },
    {
     "name": "stderr",
     "output_type": "stream",
     "text": [
      "/home/nvidia/github/python_environments/soundflux/lib/python3.5/site-packages/librosa/util/utils.py:828: FutureWarning: Using a non-tuple sequence for multidimensional indexing is deprecated; use `arr[tuple(seq)]` instead of `arr[seq]`. In the future this will be interpreted as an array index, `arr[np.array(seq)]`, which will result either in an error or a different result.\n",
      "  return (x > x_pad[inds1]) & (x >= x_pad[inds2])\n",
      "/home/nvidia/github/python_environments/soundflux/lib/python3.5/site-packages/librosa/core/pitch.py:159: DeprecationWarning: object of type <class 'numpy.float64'> cannot be safely interpreted as an integer.\n",
      "  bins = np.linspace(-0.5, 0.5, np.ceil(1./resolution), endpoint=False)\n",
      "/home/nvidia/github/python_environments/soundflux/lib/python3.5/site-packages/librosa/core/pitch.py:159: DeprecationWarning: object of type <class 'numpy.float64'> cannot be safely interpreted as an integer.\n",
      "  bins = np.linspace(-0.5, 0.5, np.ceil(1./resolution), endpoint=False)\n",
      "/home/nvidia/github/python_environments/soundflux/lib/python3.5/site-packages/librosa/core/pitch.py:159: DeprecationWarning: object of type <class 'numpy.float64'> cannot be safely interpreted as an integer.\n",
      "  bins = np.linspace(-0.5, 0.5, np.ceil(1./resolution), endpoint=False)\n"
     ]
    },
    {
     "name": "stdout",
     "output_type": "stream",
     "text": [
      "\n",
      "\n",
      "\n",
      "\n"
     ]
    },
    {
     "name": "stderr",
     "output_type": "stream",
     "text": [
      "/home/nvidia/github/python_environments/soundflux/lib/python3.5/site-packages/librosa/util/utils.py:828: FutureWarning: Using a non-tuple sequence for multidimensional indexing is deprecated; use `arr[tuple(seq)]` instead of `arr[seq]`. In the future this will be interpreted as an array index, `arr[np.array(seq)]`, which will result either in an error or a different result.\n",
      "  return (x > x_pad[inds1]) & (x >= x_pad[inds2])\n",
      "/home/nvidia/github/python_environments/soundflux/lib/python3.5/site-packages/librosa/core/pitch.py:159: DeprecationWarning: object of type <class 'numpy.float64'> cannot be safely interpreted as an integer.\n",
      "  bins = np.linspace(-0.5, 0.5, np.ceil(1./resolution), endpoint=False)\n",
      "/home/nvidia/github/python_environments/soundflux/lib/python3.5/site-packages/librosa/core/pitch.py:159: DeprecationWarning: object of type <class 'numpy.float64'> cannot be safely interpreted as an integer.\n",
      "  bins = np.linspace(-0.5, 0.5, np.ceil(1./resolution), endpoint=False)\n"
     ]
    },
    {
     "name": "stdout",
     "output_type": "stream",
     "text": [
      "\n",
      "\n"
     ]
    },
    {
     "name": "stderr",
     "output_type": "stream",
     "text": [
      "/home/nvidia/github/python_environments/soundflux/lib/python3.5/site-packages/librosa/util/utils.py:828: FutureWarning: Using a non-tuple sequence for multidimensional indexing is deprecated; use `arr[tuple(seq)]` instead of `arr[seq]`. In the future this will be interpreted as an array index, `arr[np.array(seq)]`, which will result either in an error or a different result.\n",
      "  return (x > x_pad[inds1]) & (x >= x_pad[inds2])\n",
      "/home/nvidia/github/python_environments/soundflux/lib/python3.5/site-packages/librosa/core/pitch.py:159: DeprecationWarning: object of type <class 'numpy.float64'> cannot be safely interpreted as an integer.\n",
      "  bins = np.linspace(-0.5, 0.5, np.ceil(1./resolution), endpoint=False)\n"
     ]
    },
    {
     "name": "stdout",
     "output_type": "stream",
     "text": [
      "\n",
      "\n"
     ]
    },
    {
     "name": "stderr",
     "output_type": "stream",
     "text": [
      "/home/nvidia/github/python_environments/soundflux/lib/python3.5/site-packages/librosa/util/utils.py:828: FutureWarning: Using a non-tuple sequence for multidimensional indexing is deprecated; use `arr[tuple(seq)]` instead of `arr[seq]`. In the future this will be interpreted as an array index, `arr[np.array(seq)]`, which will result either in an error or a different result.\n",
      "  return (x > x_pad[inds1]) & (x >= x_pad[inds2])\n",
      "/home/nvidia/github/python_environments/soundflux/lib/python3.5/site-packages/librosa/core/pitch.py:159: DeprecationWarning: object of type <class 'numpy.float64'> cannot be safely interpreted as an integer.\n",
      "  bins = np.linspace(-0.5, 0.5, np.ceil(1./resolution), endpoint=False)\n"
     ]
    },
    {
     "name": "stdout",
     "output_type": "stream",
     "text": [
      "\n"
     ]
    },
    {
     "name": "stderr",
     "output_type": "stream",
     "text": [
      "/home/nvidia/github/python_environments/soundflux/lib/python3.5/site-packages/librosa/util/utils.py:828: FutureWarning: Using a non-tuple sequence for multidimensional indexing is deprecated; use `arr[tuple(seq)]` instead of `arr[seq]`. In the future this will be interpreted as an array index, `arr[np.array(seq)]`, which will result either in an error or a different result.\n",
      "  return (x > x_pad[inds1]) & (x >= x_pad[inds2])\n",
      "/home/nvidia/github/python_environments/soundflux/lib/python3.5/site-packages/librosa/core/pitch.py:159: DeprecationWarning: object of type <class 'numpy.float64'> cannot be safely interpreted as an integer.\n",
      "  bins = np.linspace(-0.5, 0.5, np.ceil(1./resolution), endpoint=False)\n",
      "/home/nvidia/github/python_environments/soundflux/lib/python3.5/site-packages/librosa/core/pitch.py:159: DeprecationWarning: object of type <class 'numpy.float64'> cannot be safely interpreted as an integer.\n",
      "  bins = np.linspace(-0.5, 0.5, np.ceil(1./resolution), endpoint=False)\n",
      "/home/nvidia/github/python_environments/soundflux/lib/python3.5/site-packages/librosa/core/pitch.py:159: DeprecationWarning: object of type <class 'numpy.float64'> cannot be safely interpreted as an integer.\n",
      "  bins = np.linspace(-0.5, 0.5, np.ceil(1./resolution), endpoint=False)\n"
     ]
    },
    {
     "name": "stdout",
     "output_type": "stream",
     "text": [
      "\n"
     ]
    },
    {
     "name": "stderr",
     "output_type": "stream",
     "text": [
      "/home/nvidia/github/python_environments/soundflux/lib/python3.5/site-packages/librosa/util/utils.py:828: FutureWarning: Using a non-tuple sequence for multidimensional indexing is deprecated; use `arr[tuple(seq)]` instead of `arr[seq]`. In the future this will be interpreted as an array index, `arr[np.array(seq)]`, which will result either in an error or a different result.\n",
      "  return (x > x_pad[inds1]) & (x >= x_pad[inds2])\n",
      "/home/nvidia/github/python_environments/soundflux/lib/python3.5/site-packages/librosa/core/pitch.py:159: DeprecationWarning: object of type <class 'numpy.float64'> cannot be safely interpreted as an integer.\n",
      "  bins = np.linspace(-0.5, 0.5, np.ceil(1./resolution), endpoint=False)\n"
     ]
    },
    {
     "name": "stdout",
     "output_type": "stream",
     "text": [
      "\n"
     ]
    },
    {
     "name": "stderr",
     "output_type": "stream",
     "text": [
      "/home/nvidia/github/python_environments/soundflux/lib/python3.5/site-packages/librosa/util/utils.py:828: FutureWarning: Using a non-tuple sequence for multidimensional indexing is deprecated; use `arr[tuple(seq)]` instead of `arr[seq]`. In the future this will be interpreted as an array index, `arr[np.array(seq)]`, which will result either in an error or a different result.\n",
      "  return (x > x_pad[inds1]) & (x >= x_pad[inds2])\n",
      "/home/nvidia/github/python_environments/soundflux/lib/python3.5/site-packages/librosa/core/pitch.py:159: DeprecationWarning: object of type <class 'numpy.float64'> cannot be safely interpreted as an integer.\n",
      "  bins = np.linspace(-0.5, 0.5, np.ceil(1./resolution), endpoint=False)\n"
     ]
    },
    {
     "name": "stdout",
     "output_type": "stream",
     "text": [
      "\n"
     ]
    },
    {
     "name": "stderr",
     "output_type": "stream",
     "text": [
      "/home/nvidia/github/python_environments/soundflux/lib/python3.5/site-packages/librosa/util/utils.py:828: FutureWarning: Using a non-tuple sequence for multidimensional indexing is deprecated; use `arr[tuple(seq)]` instead of `arr[seq]`. In the future this will be interpreted as an array index, `arr[np.array(seq)]`, which will result either in an error or a different result.\n",
      "  return (x > x_pad[inds1]) & (x >= x_pad[inds2])\n",
      "/home/nvidia/github/python_environments/soundflux/lib/python3.5/site-packages/librosa/core/pitch.py:159: DeprecationWarning: object of type <class 'numpy.float64'> cannot be safely interpreted as an integer.\n",
      "  bins = np.linspace(-0.5, 0.5, np.ceil(1./resolution), endpoint=False)\n",
      "/home/nvidia/github/python_environments/soundflux/lib/python3.5/site-packages/librosa/core/pitch.py:159: DeprecationWarning: object of type <class 'numpy.float64'> cannot be safely interpreted as an integer.\n",
      "  bins = np.linspace(-0.5, 0.5, np.ceil(1./resolution), endpoint=False)\n",
      "/home/nvidia/github/python_environments/soundflux/lib/python3.5/site-packages/librosa/core/pitch.py:159: DeprecationWarning: object of type <class 'numpy.float64'> cannot be safely interpreted as an integer.\n",
      "  bins = np.linspace(-0.5, 0.5, np.ceil(1./resolution), endpoint=False)\n"
     ]
    },
    {
     "name": "stdout",
     "output_type": "stream",
     "text": [
      "\n",
      "\n",
      "\n"
     ]
    },
    {
     "name": "stderr",
     "output_type": "stream",
     "text": [
      "/home/nvidia/github/python_environments/soundflux/lib/python3.5/site-packages/librosa/util/utils.py:828: FutureWarning: Using a non-tuple sequence for multidimensional indexing is deprecated; use `arr[tuple(seq)]` instead of `arr[seq]`. In the future this will be interpreted as an array index, `arr[np.array(seq)]`, which will result either in an error or a different result.\n",
      "  return (x > x_pad[inds1]) & (x >= x_pad[inds2])\n",
      "/home/nvidia/github/python_environments/soundflux/lib/python3.5/site-packages/librosa/core/pitch.py:159: DeprecationWarning: object of type <class 'numpy.float64'> cannot be safely interpreted as an integer.\n",
      "  bins = np.linspace(-0.5, 0.5, np.ceil(1./resolution), endpoint=False)\n"
     ]
    },
    {
     "name": "stdout",
     "output_type": "stream",
     "text": [
      "\n",
      "\n",
      "\n",
      "\n"
     ]
    },
    {
     "name": "stderr",
     "output_type": "stream",
     "text": [
      "/home/nvidia/github/python_environments/soundflux/lib/python3.5/site-packages/librosa/util/utils.py:828: FutureWarning: Using a non-tuple sequence for multidimensional indexing is deprecated; use `arr[tuple(seq)]` instead of `arr[seq]`. In the future this will be interpreted as an array index, `arr[np.array(seq)]`, which will result either in an error or a different result.\n",
      "  return (x > x_pad[inds1]) & (x >= x_pad[inds2])\n",
      "/home/nvidia/github/python_environments/soundflux/lib/python3.5/site-packages/librosa/core/pitch.py:159: DeprecationWarning: object of type <class 'numpy.float64'> cannot be safely interpreted as an integer.\n",
      "  bins = np.linspace(-0.5, 0.5, np.ceil(1./resolution), endpoint=False)\n",
      "/home/nvidia/github/python_environments/soundflux/lib/python3.5/site-packages/librosa/core/pitch.py:159: DeprecationWarning: object of type <class 'numpy.float64'> cannot be safely interpreted as an integer.\n",
      "  bins = np.linspace(-0.5, 0.5, np.ceil(1./resolution), endpoint=False)\n"
     ]
    },
    {
     "name": "stdout",
     "output_type": "stream",
     "text": [
      "\n",
      "\n"
     ]
    },
    {
     "name": "stderr",
     "output_type": "stream",
     "text": [
      "/home/nvidia/github/python_environments/soundflux/lib/python3.5/site-packages/librosa/util/utils.py:828: FutureWarning: Using a non-tuple sequence for multidimensional indexing is deprecated; use `arr[tuple(seq)]` instead of `arr[seq]`. In the future this will be interpreted as an array index, `arr[np.array(seq)]`, which will result either in an error or a different result.\n",
      "  return (x > x_pad[inds1]) & (x >= x_pad[inds2])\n",
      "/home/nvidia/github/python_environments/soundflux/lib/python3.5/site-packages/librosa/core/pitch.py:159: DeprecationWarning: object of type <class 'numpy.float64'> cannot be safely interpreted as an integer.\n",
      "  bins = np.linspace(-0.5, 0.5, np.ceil(1./resolution), endpoint=False)\n"
     ]
    },
    {
     "name": "stdout",
     "output_type": "stream",
     "text": [
      "\n",
      "\n"
     ]
    },
    {
     "name": "stderr",
     "output_type": "stream",
     "text": [
      "/home/nvidia/github/python_environments/soundflux/lib/python3.5/site-packages/librosa/util/utils.py:828: FutureWarning: Using a non-tuple sequence for multidimensional indexing is deprecated; use `arr[tuple(seq)]` instead of `arr[seq]`. In the future this will be interpreted as an array index, `arr[np.array(seq)]`, which will result either in an error or a different result.\n",
      "  return (x > x_pad[inds1]) & (x >= x_pad[inds2])\n",
      "/home/nvidia/github/python_environments/soundflux/lib/python3.5/site-packages/librosa/core/pitch.py:159: DeprecationWarning: object of type <class 'numpy.float64'> cannot be safely interpreted as an integer.\n",
      "  bins = np.linspace(-0.5, 0.5, np.ceil(1./resolution), endpoint=False)\n",
      "/home/nvidia/github/python_environments/soundflux/lib/python3.5/site-packages/librosa/core/pitch.py:159: DeprecationWarning: object of type <class 'numpy.float64'> cannot be safely interpreted as an integer.\n",
      "  bins = np.linspace(-0.5, 0.5, np.ceil(1./resolution), endpoint=False)\n"
     ]
    },
    {
     "name": "stdout",
     "output_type": "stream",
     "text": [
      "\n"
     ]
    },
    {
     "name": "stderr",
     "output_type": "stream",
     "text": [
      "/home/nvidia/github/python_environments/soundflux/lib/python3.5/site-packages/librosa/util/utils.py:828: FutureWarning: Using a non-tuple sequence for multidimensional indexing is deprecated; use `arr[tuple(seq)]` instead of `arr[seq]`. In the future this will be interpreted as an array index, `arr[np.array(seq)]`, which will result either in an error or a different result.\n",
      "  return (x > x_pad[inds1]) & (x >= x_pad[inds2])\n",
      "/home/nvidia/github/python_environments/soundflux/lib/python3.5/site-packages/librosa/core/pitch.py:159: DeprecationWarning: object of type <class 'numpy.float64'> cannot be safely interpreted as an integer.\n",
      "  bins = np.linspace(-0.5, 0.5, np.ceil(1./resolution), endpoint=False)\n",
      "/home/nvidia/github/python_environments/soundflux/lib/python3.5/site-packages/librosa/core/pitch.py:159: DeprecationWarning: object of type <class 'numpy.float64'> cannot be safely interpreted as an integer.\n",
      "  bins = np.linspace(-0.5, 0.5, np.ceil(1./resolution), endpoint=False)\n"
     ]
    },
    {
     "name": "stdout",
     "output_type": "stream",
     "text": [
      "\n",
      "\n",
      "\n",
      "\n"
     ]
    },
    {
     "name": "stderr",
     "output_type": "stream",
     "text": [
      "/home/nvidia/github/python_environments/soundflux/lib/python3.5/site-packages/librosa/util/utils.py:828: FutureWarning: Using a non-tuple sequence for multidimensional indexing is deprecated; use `arr[tuple(seq)]` instead of `arr[seq]`. In the future this will be interpreted as an array index, `arr[np.array(seq)]`, which will result either in an error or a different result.\n",
      "  return (x > x_pad[inds1]) & (x >= x_pad[inds2])\n",
      "/home/nvidia/github/python_environments/soundflux/lib/python3.5/site-packages/librosa/core/pitch.py:159: DeprecationWarning: object of type <class 'numpy.float64'> cannot be safely interpreted as an integer.\n",
      "  bins = np.linspace(-0.5, 0.5, np.ceil(1./resolution), endpoint=False)\n",
      "/home/nvidia/github/python_environments/soundflux/lib/python3.5/site-packages/librosa/core/pitch.py:159: DeprecationWarning: object of type <class 'numpy.float64'> cannot be safely interpreted as an integer.\n",
      "  bins = np.linspace(-0.5, 0.5, np.ceil(1./resolution), endpoint=False)\n"
     ]
    },
    {
     "name": "stdout",
     "output_type": "stream",
     "text": [
      "\n",
      "\n",
      "\n",
      "\n",
      "\n",
      "\n"
     ]
    },
    {
     "name": "stderr",
     "output_type": "stream",
     "text": [
      "/home/nvidia/github/python_environments/soundflux/lib/python3.5/site-packages/librosa/util/utils.py:828: FutureWarning: Using a non-tuple sequence for multidimensional indexing is deprecated; use `arr[tuple(seq)]` instead of `arr[seq]`. In the future this will be interpreted as an array index, `arr[np.array(seq)]`, which will result either in an error or a different result.\n",
      "  return (x > x_pad[inds1]) & (x >= x_pad[inds2])\n",
      "/home/nvidia/github/python_environments/soundflux/lib/python3.5/site-packages/librosa/core/pitch.py:159: DeprecationWarning: object of type <class 'numpy.float64'> cannot be safely interpreted as an integer.\n",
      "  bins = np.linspace(-0.5, 0.5, np.ceil(1./resolution), endpoint=False)\n",
      "/home/nvidia/github/python_environments/soundflux/lib/python3.5/site-packages/librosa/core/pitch.py:159: DeprecationWarning: object of type <class 'numpy.float64'> cannot be safely interpreted as an integer.\n",
      "  bins = np.linspace(-0.5, 0.5, np.ceil(1./resolution), endpoint=False)\n",
      "/home/nvidia/github/python_environments/soundflux/lib/python3.5/site-packages/librosa/core/pitch.py:159: DeprecationWarning: object of type <class 'numpy.float64'> cannot be safely interpreted as an integer.\n",
      "  bins = np.linspace(-0.5, 0.5, np.ceil(1./resolution), endpoint=False)\n"
     ]
    },
    {
     "name": "stdout",
     "output_type": "stream",
     "text": [
      "\n"
     ]
    },
    {
     "name": "stderr",
     "output_type": "stream",
     "text": [
      "/home/nvidia/github/python_environments/soundflux/lib/python3.5/site-packages/librosa/util/utils.py:828: FutureWarning: Using a non-tuple sequence for multidimensional indexing is deprecated; use `arr[tuple(seq)]` instead of `arr[seq]`. In the future this will be interpreted as an array index, `arr[np.array(seq)]`, which will result either in an error or a different result.\n",
      "  return (x > x_pad[inds1]) & (x >= x_pad[inds2])\n",
      "/home/nvidia/github/python_environments/soundflux/lib/python3.5/site-packages/librosa/core/pitch.py:159: DeprecationWarning: object of type <class 'numpy.float64'> cannot be safely interpreted as an integer.\n",
      "  bins = np.linspace(-0.5, 0.5, np.ceil(1./resolution), endpoint=False)\n",
      "/home/nvidia/github/python_environments/soundflux/lib/python3.5/site-packages/librosa/core/pitch.py:159: DeprecationWarning: object of type <class 'numpy.float64'> cannot be safely interpreted as an integer.\n",
      "  bins = np.linspace(-0.5, 0.5, np.ceil(1./resolution), endpoint=False)\n"
     ]
    },
    {
     "name": "stdout",
     "output_type": "stream",
     "text": [
      "\n",
      "\n"
     ]
    },
    {
     "name": "stderr",
     "output_type": "stream",
     "text": [
      "/home/nvidia/github/python_environments/soundflux/lib/python3.5/site-packages/librosa/util/utils.py:828: FutureWarning: Using a non-tuple sequence for multidimensional indexing is deprecated; use `arr[tuple(seq)]` instead of `arr[seq]`. In the future this will be interpreted as an array index, `arr[np.array(seq)]`, which will result either in an error or a different result.\n",
      "  return (x > x_pad[inds1]) & (x >= x_pad[inds2])\n",
      "/home/nvidia/github/python_environments/soundflux/lib/python3.5/site-packages/librosa/core/pitch.py:159: DeprecationWarning: object of type <class 'numpy.float64'> cannot be safely interpreted as an integer.\n",
      "  bins = np.linspace(-0.5, 0.5, np.ceil(1./resolution), endpoint=False)\n",
      "/home/nvidia/github/python_environments/soundflux/lib/python3.5/site-packages/librosa/core/pitch.py:159: DeprecationWarning: object of type <class 'numpy.float64'> cannot be safely interpreted as an integer.\n",
      "  bins = np.linspace(-0.5, 0.5, np.ceil(1./resolution), endpoint=False)\n",
      "/home/nvidia/github/python_environments/soundflux/lib/python3.5/site-packages/librosa/core/pitch.py:159: DeprecationWarning: object of type <class 'numpy.float64'> cannot be safely interpreted as an integer.\n",
      "  bins = np.linspace(-0.5, 0.5, np.ceil(1./resolution), endpoint=False)\n"
     ]
    },
    {
     "name": "stdout",
     "output_type": "stream",
     "text": [
      "\n",
      "\n"
     ]
    },
    {
     "name": "stderr",
     "output_type": "stream",
     "text": [
      "/home/nvidia/github/python_environments/soundflux/lib/python3.5/site-packages/librosa/util/utils.py:828: FutureWarning: Using a non-tuple sequence for multidimensional indexing is deprecated; use `arr[tuple(seq)]` instead of `arr[seq]`. In the future this will be interpreted as an array index, `arr[np.array(seq)]`, which will result either in an error or a different result.\n",
      "  return (x > x_pad[inds1]) & (x >= x_pad[inds2])\n",
      "/home/nvidia/github/python_environments/soundflux/lib/python3.5/site-packages/librosa/core/pitch.py:159: DeprecationWarning: object of type <class 'numpy.float64'> cannot be safely interpreted as an integer.\n",
      "  bins = np.linspace(-0.5, 0.5, np.ceil(1./resolution), endpoint=False)\n",
      "/home/nvidia/github/python_environments/soundflux/lib/python3.5/site-packages/librosa/core/pitch.py:159: DeprecationWarning: object of type <class 'numpy.float64'> cannot be safely interpreted as an integer.\n",
      "  bins = np.linspace(-0.5, 0.5, np.ceil(1./resolution), endpoint=False)\n"
     ]
    },
    {
     "name": "stdout",
     "output_type": "stream",
     "text": [
      "\n"
     ]
    },
    {
     "name": "stderr",
     "output_type": "stream",
     "text": [
      "/home/nvidia/github/python_environments/soundflux/lib/python3.5/site-packages/librosa/util/utils.py:828: FutureWarning: Using a non-tuple sequence for multidimensional indexing is deprecated; use `arr[tuple(seq)]` instead of `arr[seq]`. In the future this will be interpreted as an array index, `arr[np.array(seq)]`, which will result either in an error or a different result.\n",
      "  return (x > x_pad[inds1]) & (x >= x_pad[inds2])\n",
      "/home/nvidia/github/python_environments/soundflux/lib/python3.5/site-packages/librosa/core/pitch.py:159: DeprecationWarning: object of type <class 'numpy.float64'> cannot be safely interpreted as an integer.\n",
      "  bins = np.linspace(-0.5, 0.5, np.ceil(1./resolution), endpoint=False)\n",
      "/home/nvidia/github/python_environments/soundflux/lib/python3.5/site-packages/librosa/core/pitch.py:159: DeprecationWarning: object of type <class 'numpy.float64'> cannot be safely interpreted as an integer.\n",
      "  bins = np.linspace(-0.5, 0.5, np.ceil(1./resolution), endpoint=False)\n"
     ]
    },
    {
     "name": "stdout",
     "output_type": "stream",
     "text": [
      "\n",
      "\n"
     ]
    },
    {
     "name": "stderr",
     "output_type": "stream",
     "text": [
      "/home/nvidia/github/python_environments/soundflux/lib/python3.5/site-packages/librosa/util/utils.py:828: FutureWarning: Using a non-tuple sequence for multidimensional indexing is deprecated; use `arr[tuple(seq)]` instead of `arr[seq]`. In the future this will be interpreted as an array index, `arr[np.array(seq)]`, which will result either in an error or a different result.\n",
      "  return (x > x_pad[inds1]) & (x >= x_pad[inds2])\n",
      "/home/nvidia/github/python_environments/soundflux/lib/python3.5/site-packages/librosa/core/pitch.py:159: DeprecationWarning: object of type <class 'numpy.float64'> cannot be safely interpreted as an integer.\n",
      "  bins = np.linspace(-0.5, 0.5, np.ceil(1./resolution), endpoint=False)\n",
      "/home/nvidia/github/python_environments/soundflux/lib/python3.5/site-packages/librosa/core/pitch.py:159: DeprecationWarning: object of type <class 'numpy.float64'> cannot be safely interpreted as an integer.\n",
      "  bins = np.linspace(-0.5, 0.5, np.ceil(1./resolution), endpoint=False)\n"
     ]
    },
    {
     "name": "stdout",
     "output_type": "stream",
     "text": [
      "\n",
      "\n",
      "\n"
     ]
    },
    {
     "name": "stderr",
     "output_type": "stream",
     "text": [
      "/home/nvidia/github/python_environments/soundflux/lib/python3.5/site-packages/librosa/util/utils.py:828: FutureWarning: Using a non-tuple sequence for multidimensional indexing is deprecated; use `arr[tuple(seq)]` instead of `arr[seq]`. In the future this will be interpreted as an array index, `arr[np.array(seq)]`, which will result either in an error or a different result.\n",
      "  return (x > x_pad[inds1]) & (x >= x_pad[inds2])\n",
      "/home/nvidia/github/python_environments/soundflux/lib/python3.5/site-packages/librosa/core/pitch.py:159: DeprecationWarning: object of type <class 'numpy.float64'> cannot be safely interpreted as an integer.\n",
      "  bins = np.linspace(-0.5, 0.5, np.ceil(1./resolution), endpoint=False)\n",
      "/home/nvidia/github/python_environments/soundflux/lib/python3.5/site-packages/librosa/core/pitch.py:159: DeprecationWarning: object of type <class 'numpy.float64'> cannot be safely interpreted as an integer.\n",
      "  bins = np.linspace(-0.5, 0.5, np.ceil(1./resolution), endpoint=False)\n",
      "/home/nvidia/github/python_environments/soundflux/lib/python3.5/site-packages/librosa/core/pitch.py:159: DeprecationWarning: object of type <class 'numpy.float64'> cannot be safely interpreted as an integer.\n",
      "  bins = np.linspace(-0.5, 0.5, np.ceil(1./resolution), endpoint=False)\n",
      "/home/nvidia/github/python_environments/soundflux/lib/python3.5/site-packages/librosa/core/pitch.py:159: DeprecationWarning: object of type <class 'numpy.float64'> cannot be safely interpreted as an integer.\n",
      "  bins = np.linspace(-0.5, 0.5, np.ceil(1./resolution), endpoint=False)\n",
      "/home/nvidia/github/python_environments/soundflux/lib/python3.5/site-packages/librosa/core/pitch.py:159: DeprecationWarning: object of type <class 'numpy.float64'> cannot be safely interpreted as an integer.\n",
      "  bins = np.linspace(-0.5, 0.5, np.ceil(1./resolution), endpoint=False)\n"
     ]
    },
    {
     "name": "stdout",
     "output_type": "stream",
     "text": [
      "\n"
     ]
    },
    {
     "name": "stderr",
     "output_type": "stream",
     "text": [
      "/home/nvidia/github/python_environments/soundflux/lib/python3.5/site-packages/librosa/util/utils.py:828: FutureWarning: Using a non-tuple sequence for multidimensional indexing is deprecated; use `arr[tuple(seq)]` instead of `arr[seq]`. In the future this will be interpreted as an array index, `arr[np.array(seq)]`, which will result either in an error or a different result.\n",
      "  return (x > x_pad[inds1]) & (x >= x_pad[inds2])\n",
      "/home/nvidia/github/python_environments/soundflux/lib/python3.5/site-packages/librosa/core/pitch.py:159: DeprecationWarning: object of type <class 'numpy.float64'> cannot be safely interpreted as an integer.\n",
      "  bins = np.linspace(-0.5, 0.5, np.ceil(1./resolution), endpoint=False)\n"
     ]
    },
    {
     "name": "stdout",
     "output_type": "stream",
     "text": [
      "\n"
     ]
    },
    {
     "name": "stderr",
     "output_type": "stream",
     "text": [
      "/home/nvidia/github/python_environments/soundflux/lib/python3.5/site-packages/librosa/util/utils.py:828: FutureWarning: Using a non-tuple sequence for multidimensional indexing is deprecated; use `arr[tuple(seq)]` instead of `arr[seq]`. In the future this will be interpreted as an array index, `arr[np.array(seq)]`, which will result either in an error or a different result.\n",
      "  return (x > x_pad[inds1]) & (x >= x_pad[inds2])\n",
      "/home/nvidia/github/python_environments/soundflux/lib/python3.5/site-packages/librosa/core/pitch.py:159: DeprecationWarning: object of type <class 'numpy.float64'> cannot be safely interpreted as an integer.\n",
      "  bins = np.linspace(-0.5, 0.5, np.ceil(1./resolution), endpoint=False)\n",
      "/home/nvidia/github/python_environments/soundflux/lib/python3.5/site-packages/librosa/core/pitch.py:159: DeprecationWarning: object of type <class 'numpy.float64'> cannot be safely interpreted as an integer.\n",
      "  bins = np.linspace(-0.5, 0.5, np.ceil(1./resolution), endpoint=False)\n"
     ]
    },
    {
     "name": "stdout",
     "output_type": "stream",
     "text": [
      "\n"
     ]
    },
    {
     "name": "stderr",
     "output_type": "stream",
     "text": [
      "/home/nvidia/github/python_environments/soundflux/lib/python3.5/site-packages/librosa/util/utils.py:828: FutureWarning: Using a non-tuple sequence for multidimensional indexing is deprecated; use `arr[tuple(seq)]` instead of `arr[seq]`. In the future this will be interpreted as an array index, `arr[np.array(seq)]`, which will result either in an error or a different result.\n",
      "  return (x > x_pad[inds1]) & (x >= x_pad[inds2])\n",
      "/home/nvidia/github/python_environments/soundflux/lib/python3.5/site-packages/librosa/core/pitch.py:159: DeprecationWarning: object of type <class 'numpy.float64'> cannot be safely interpreted as an integer.\n",
      "  bins = np.linspace(-0.5, 0.5, np.ceil(1./resolution), endpoint=False)\n",
      "/home/nvidia/github/python_environments/soundflux/lib/python3.5/site-packages/librosa/core/pitch.py:159: DeprecationWarning: object of type <class 'numpy.float64'> cannot be safely interpreted as an integer.\n",
      "  bins = np.linspace(-0.5, 0.5, np.ceil(1./resolution), endpoint=False)\n"
     ]
    },
    {
     "name": "stdout",
     "output_type": "stream",
     "text": [
      "\n"
     ]
    },
    {
     "name": "stderr",
     "output_type": "stream",
     "text": [
      "/home/nvidia/github/python_environments/soundflux/lib/python3.5/site-packages/librosa/util/utils.py:828: FutureWarning: Using a non-tuple sequence for multidimensional indexing is deprecated; use `arr[tuple(seq)]` instead of `arr[seq]`. In the future this will be interpreted as an array index, `arr[np.array(seq)]`, which will result either in an error or a different result.\n",
      "  return (x > x_pad[inds1]) & (x >= x_pad[inds2])\n",
      "/home/nvidia/github/python_environments/soundflux/lib/python3.5/site-packages/librosa/core/pitch.py:159: DeprecationWarning: object of type <class 'numpy.float64'> cannot be safely interpreted as an integer.\n",
      "  bins = np.linspace(-0.5, 0.5, np.ceil(1./resolution), endpoint=False)\n",
      "/home/nvidia/github/python_environments/soundflux/lib/python3.5/site-packages/librosa/core/pitch.py:159: DeprecationWarning: object of type <class 'numpy.float64'> cannot be safely interpreted as an integer.\n",
      "  bins = np.linspace(-0.5, 0.5, np.ceil(1./resolution), endpoint=False)\n"
     ]
    },
    {
     "name": "stdout",
     "output_type": "stream",
     "text": [
      "\n",
      "\n",
      "\n",
      "\n",
      "\n"
     ]
    },
    {
     "name": "stderr",
     "output_type": "stream",
     "text": [
      "/home/nvidia/github/python_environments/soundflux/lib/python3.5/site-packages/librosa/util/utils.py:828: FutureWarning: Using a non-tuple sequence for multidimensional indexing is deprecated; use `arr[tuple(seq)]` instead of `arr[seq]`. In the future this will be interpreted as an array index, `arr[np.array(seq)]`, which will result either in an error or a different result.\n",
      "  return (x > x_pad[inds1]) & (x >= x_pad[inds2])\n",
      "/home/nvidia/github/python_environments/soundflux/lib/python3.5/site-packages/librosa/core/pitch.py:159: DeprecationWarning: object of type <class 'numpy.float64'> cannot be safely interpreted as an integer.\n",
      "  bins = np.linspace(-0.5, 0.5, np.ceil(1./resolution), endpoint=False)\n",
      "/home/nvidia/github/python_environments/soundflux/lib/python3.5/site-packages/librosa/core/pitch.py:159: DeprecationWarning: object of type <class 'numpy.float64'> cannot be safely interpreted as an integer.\n",
      "  bins = np.linspace(-0.5, 0.5, np.ceil(1./resolution), endpoint=False)\n"
     ]
    },
    {
     "name": "stdout",
     "output_type": "stream",
     "text": [
      "\n"
     ]
    },
    {
     "name": "stderr",
     "output_type": "stream",
     "text": [
      "/home/nvidia/github/python_environments/soundflux/lib/python3.5/site-packages/librosa/util/utils.py:828: FutureWarning: Using a non-tuple sequence for multidimensional indexing is deprecated; use `arr[tuple(seq)]` instead of `arr[seq]`. In the future this will be interpreted as an array index, `arr[np.array(seq)]`, which will result either in an error or a different result.\n",
      "  return (x > x_pad[inds1]) & (x >= x_pad[inds2])\n",
      "/home/nvidia/github/python_environments/soundflux/lib/python3.5/site-packages/librosa/core/pitch.py:159: DeprecationWarning: object of type <class 'numpy.float64'> cannot be safely interpreted as an integer.\n",
      "  bins = np.linspace(-0.5, 0.5, np.ceil(1./resolution), endpoint=False)\n"
     ]
    },
    {
     "name": "stdout",
     "output_type": "stream",
     "text": [
      "\n",
      "\n"
     ]
    },
    {
     "name": "stderr",
     "output_type": "stream",
     "text": [
      "/home/nvidia/github/python_environments/soundflux/lib/python3.5/site-packages/librosa/util/utils.py:828: FutureWarning: Using a non-tuple sequence for multidimensional indexing is deprecated; use `arr[tuple(seq)]` instead of `arr[seq]`. In the future this will be interpreted as an array index, `arr[np.array(seq)]`, which will result either in an error or a different result.\n",
      "  return (x > x_pad[inds1]) & (x >= x_pad[inds2])\n",
      "/home/nvidia/github/python_environments/soundflux/lib/python3.5/site-packages/librosa/core/pitch.py:159: DeprecationWarning: object of type <class 'numpy.float64'> cannot be safely interpreted as an integer.\n",
      "  bins = np.linspace(-0.5, 0.5, np.ceil(1./resolution), endpoint=False)\n"
     ]
    },
    {
     "name": "stdout",
     "output_type": "stream",
     "text": [
      "\n"
     ]
    },
    {
     "name": "stderr",
     "output_type": "stream",
     "text": [
      "/home/nvidia/github/python_environments/soundflux/lib/python3.5/site-packages/librosa/util/utils.py:828: FutureWarning: Using a non-tuple sequence for multidimensional indexing is deprecated; use `arr[tuple(seq)]` instead of `arr[seq]`. In the future this will be interpreted as an array index, `arr[np.array(seq)]`, which will result either in an error or a different result.\n",
      "  return (x > x_pad[inds1]) & (x >= x_pad[inds2])\n",
      "/home/nvidia/github/python_environments/soundflux/lib/python3.5/site-packages/librosa/core/pitch.py:159: DeprecationWarning: object of type <class 'numpy.float64'> cannot be safely interpreted as an integer.\n",
      "  bins = np.linspace(-0.5, 0.5, np.ceil(1./resolution), endpoint=False)\n",
      "/home/nvidia/github/python_environments/soundflux/lib/python3.5/site-packages/librosa/core/pitch.py:159: DeprecationWarning: object of type <class 'numpy.float64'> cannot be safely interpreted as an integer.\n",
      "  bins = np.linspace(-0.5, 0.5, np.ceil(1./resolution), endpoint=False)\n"
     ]
    },
    {
     "name": "stdout",
     "output_type": "stream",
     "text": [
      "\n"
     ]
    },
    {
     "name": "stderr",
     "output_type": "stream",
     "text": [
      "/home/nvidia/github/python_environments/soundflux/lib/python3.5/site-packages/librosa/util/utils.py:828: FutureWarning: Using a non-tuple sequence for multidimensional indexing is deprecated; use `arr[tuple(seq)]` instead of `arr[seq]`. In the future this will be interpreted as an array index, `arr[np.array(seq)]`, which will result either in an error or a different result.\n",
      "  return (x > x_pad[inds1]) & (x >= x_pad[inds2])\n",
      "/home/nvidia/github/python_environments/soundflux/lib/python3.5/site-packages/librosa/core/pitch.py:159: DeprecationWarning: object of type <class 'numpy.float64'> cannot be safely interpreted as an integer.\n",
      "  bins = np.linspace(-0.5, 0.5, np.ceil(1./resolution), endpoint=False)\n",
      "/home/nvidia/github/python_environments/soundflux/lib/python3.5/site-packages/librosa/core/pitch.py:159: DeprecationWarning: object of type <class 'numpy.float64'> cannot be safely interpreted as an integer.\n",
      "  bins = np.linspace(-0.5, 0.5, np.ceil(1./resolution), endpoint=False)\n"
     ]
    },
    {
     "name": "stdout",
     "output_type": "stream",
     "text": [
      "\n"
     ]
    },
    {
     "name": "stderr",
     "output_type": "stream",
     "text": [
      "/home/nvidia/github/python_environments/soundflux/lib/python3.5/site-packages/librosa/util/utils.py:828: FutureWarning: Using a non-tuple sequence for multidimensional indexing is deprecated; use `arr[tuple(seq)]` instead of `arr[seq]`. In the future this will be interpreted as an array index, `arr[np.array(seq)]`, which will result either in an error or a different result.\n",
      "  return (x > x_pad[inds1]) & (x >= x_pad[inds2])\n",
      "/home/nvidia/github/python_environments/soundflux/lib/python3.5/site-packages/librosa/core/pitch.py:159: DeprecationWarning: object of type <class 'numpy.float64'> cannot be safely interpreted as an integer.\n",
      "  bins = np.linspace(-0.5, 0.5, np.ceil(1./resolution), endpoint=False)\n",
      "/home/nvidia/github/python_environments/soundflux/lib/python3.5/site-packages/librosa/core/pitch.py:159: DeprecationWarning: object of type <class 'numpy.float64'> cannot be safely interpreted as an integer.\n",
      "  bins = np.linspace(-0.5, 0.5, np.ceil(1./resolution), endpoint=False)\n"
     ]
    },
    {
     "name": "stdout",
     "output_type": "stream",
     "text": [
      "\n",
      "\n",
      "\n"
     ]
    },
    {
     "name": "stderr",
     "output_type": "stream",
     "text": [
      "/home/nvidia/github/python_environments/soundflux/lib/python3.5/site-packages/librosa/util/utils.py:828: FutureWarning: Using a non-tuple sequence for multidimensional indexing is deprecated; use `arr[tuple(seq)]` instead of `arr[seq]`. In the future this will be interpreted as an array index, `arr[np.array(seq)]`, which will result either in an error or a different result.\n",
      "  return (x > x_pad[inds1]) & (x >= x_pad[inds2])\n",
      "/home/nvidia/github/python_environments/soundflux/lib/python3.5/site-packages/librosa/core/pitch.py:159: DeprecationWarning: object of type <class 'numpy.float64'> cannot be safely interpreted as an integer.\n",
      "  bins = np.linspace(-0.5, 0.5, np.ceil(1./resolution), endpoint=False)\n",
      "/home/nvidia/github/python_environments/soundflux/lib/python3.5/site-packages/librosa/core/pitch.py:159: DeprecationWarning: object of type <class 'numpy.float64'> cannot be safely interpreted as an integer.\n",
      "  bins = np.linspace(-0.5, 0.5, np.ceil(1./resolution), endpoint=False)\n"
     ]
    },
    {
     "name": "stdout",
     "output_type": "stream",
     "text": [
      "\n"
     ]
    },
    {
     "name": "stderr",
     "output_type": "stream",
     "text": [
      "/home/nvidia/github/python_environments/soundflux/lib/python3.5/site-packages/librosa/util/utils.py:828: FutureWarning: Using a non-tuple sequence for multidimensional indexing is deprecated; use `arr[tuple(seq)]` instead of `arr[seq]`. In the future this will be interpreted as an array index, `arr[np.array(seq)]`, which will result either in an error or a different result.\n",
      "  return (x > x_pad[inds1]) & (x >= x_pad[inds2])\n",
      "/home/nvidia/github/python_environments/soundflux/lib/python3.5/site-packages/librosa/core/pitch.py:159: DeprecationWarning: object of type <class 'numpy.float64'> cannot be safely interpreted as an integer.\n",
      "  bins = np.linspace(-0.5, 0.5, np.ceil(1./resolution), endpoint=False)\n",
      "/home/nvidia/github/python_environments/soundflux/lib/python3.5/site-packages/librosa/core/pitch.py:159: DeprecationWarning: object of type <class 'numpy.float64'> cannot be safely interpreted as an integer.\n",
      "  bins = np.linspace(-0.5, 0.5, np.ceil(1./resolution), endpoint=False)\n",
      "/home/nvidia/github/python_environments/soundflux/lib/python3.5/site-packages/librosa/core/pitch.py:159: DeprecationWarning: object of type <class 'numpy.float64'> cannot be safely interpreted as an integer.\n",
      "  bins = np.linspace(-0.5, 0.5, np.ceil(1./resolution), endpoint=False)\n"
     ]
    },
    {
     "name": "stdout",
     "output_type": "stream",
     "text": [
      "\n"
     ]
    },
    {
     "name": "stderr",
     "output_type": "stream",
     "text": [
      "/home/nvidia/github/python_environments/soundflux/lib/python3.5/site-packages/librosa/util/utils.py:828: FutureWarning: Using a non-tuple sequence for multidimensional indexing is deprecated; use `arr[tuple(seq)]` instead of `arr[seq]`. In the future this will be interpreted as an array index, `arr[np.array(seq)]`, which will result either in an error or a different result.\n",
      "  return (x > x_pad[inds1]) & (x >= x_pad[inds2])\n",
      "/home/nvidia/github/python_environments/soundflux/lib/python3.5/site-packages/librosa/core/pitch.py:159: DeprecationWarning: object of type <class 'numpy.float64'> cannot be safely interpreted as an integer.\n",
      "  bins = np.linspace(-0.5, 0.5, np.ceil(1./resolution), endpoint=False)\n",
      "/home/nvidia/github/python_environments/soundflux/lib/python3.5/site-packages/librosa/core/pitch.py:159: DeprecationWarning: object of type <class 'numpy.float64'> cannot be safely interpreted as an integer.\n",
      "  bins = np.linspace(-0.5, 0.5, np.ceil(1./resolution), endpoint=False)\n",
      "/home/nvidia/github/python_environments/soundflux/lib/python3.5/site-packages/librosa/core/pitch.py:159: DeprecationWarning: object of type <class 'numpy.float64'> cannot be safely interpreted as an integer.\n",
      "  bins = np.linspace(-0.5, 0.5, np.ceil(1./resolution), endpoint=False)\n",
      "/home/nvidia/github/python_environments/soundflux/lib/python3.5/site-packages/librosa/core/pitch.py:159: DeprecationWarning: object of type <class 'numpy.float64'> cannot be safely interpreted as an integer.\n",
      "  bins = np.linspace(-0.5, 0.5, np.ceil(1./resolution), endpoint=False)\n",
      "/home/nvidia/github/python_environments/soundflux/lib/python3.5/site-packages/librosa/core/pitch.py:159: DeprecationWarning: object of type <class 'numpy.float64'> cannot be safely interpreted as an integer.\n",
      "  bins = np.linspace(-0.5, 0.5, np.ceil(1./resolution), endpoint=False)\n"
     ]
    },
    {
     "name": "stdout",
     "output_type": "stream",
     "text": [
      "\n"
     ]
    },
    {
     "name": "stderr",
     "output_type": "stream",
     "text": [
      "/home/nvidia/github/python_environments/soundflux/lib/python3.5/site-packages/librosa/util/utils.py:828: FutureWarning: Using a non-tuple sequence for multidimensional indexing is deprecated; use `arr[tuple(seq)]` instead of `arr[seq]`. In the future this will be interpreted as an array index, `arr[np.array(seq)]`, which will result either in an error or a different result.\n",
      "  return (x > x_pad[inds1]) & (x >= x_pad[inds2])\n",
      "/home/nvidia/github/python_environments/soundflux/lib/python3.5/site-packages/librosa/core/pitch.py:159: DeprecationWarning: object of type <class 'numpy.float64'> cannot be safely interpreted as an integer.\n",
      "  bins = np.linspace(-0.5, 0.5, np.ceil(1./resolution), endpoint=False)\n"
     ]
    },
    {
     "name": "stdout",
     "output_type": "stream",
     "text": [
      "\n",
      "\n",
      "\n"
     ]
    },
    {
     "name": "stderr",
     "output_type": "stream",
     "text": [
      "/home/nvidia/github/python_environments/soundflux/lib/python3.5/site-packages/librosa/util/utils.py:828: FutureWarning: Using a non-tuple sequence for multidimensional indexing is deprecated; use `arr[tuple(seq)]` instead of `arr[seq]`. In the future this will be interpreted as an array index, `arr[np.array(seq)]`, which will result either in an error or a different result.\n",
      "  return (x > x_pad[inds1]) & (x >= x_pad[inds2])\n",
      "/home/nvidia/github/python_environments/soundflux/lib/python3.5/site-packages/librosa/core/pitch.py:159: DeprecationWarning: object of type <class 'numpy.float64'> cannot be safely interpreted as an integer.\n",
      "  bins = np.linspace(-0.5, 0.5, np.ceil(1./resolution), endpoint=False)\n"
     ]
    },
    {
     "name": "stdout",
     "output_type": "stream",
     "text": [
      "\n"
     ]
    },
    {
     "name": "stderr",
     "output_type": "stream",
     "text": [
      "/home/nvidia/github/python_environments/soundflux/lib/python3.5/site-packages/librosa/util/utils.py:828: FutureWarning: Using a non-tuple sequence for multidimensional indexing is deprecated; use `arr[tuple(seq)]` instead of `arr[seq]`. In the future this will be interpreted as an array index, `arr[np.array(seq)]`, which will result either in an error or a different result.\n",
      "  return (x > x_pad[inds1]) & (x >= x_pad[inds2])\n",
      "/home/nvidia/github/python_environments/soundflux/lib/python3.5/site-packages/librosa/core/pitch.py:159: DeprecationWarning: object of type <class 'numpy.float64'> cannot be safely interpreted as an integer.\n",
      "  bins = np.linspace(-0.5, 0.5, np.ceil(1./resolution), endpoint=False)\n"
     ]
    },
    {
     "name": "stdout",
     "output_type": "stream",
     "text": [
      "\n",
      "\n",
      "\n",
      "\n",
      "\n",
      "\n"
     ]
    },
    {
     "name": "stderr",
     "output_type": "stream",
     "text": [
      "/home/nvidia/github/python_environments/soundflux/lib/python3.5/site-packages/librosa/util/utils.py:828: FutureWarning: Using a non-tuple sequence for multidimensional indexing is deprecated; use `arr[tuple(seq)]` instead of `arr[seq]`. In the future this will be interpreted as an array index, `arr[np.array(seq)]`, which will result either in an error or a different result.\n",
      "  return (x > x_pad[inds1]) & (x >= x_pad[inds2])\n",
      "/home/nvidia/github/python_environments/soundflux/lib/python3.5/site-packages/librosa/core/pitch.py:159: DeprecationWarning: object of type <class 'numpy.float64'> cannot be safely interpreted as an integer.\n",
      "  bins = np.linspace(-0.5, 0.5, np.ceil(1./resolution), endpoint=False)\n"
     ]
    },
    {
     "name": "stdout",
     "output_type": "stream",
     "text": [
      "\n",
      "\n"
     ]
    },
    {
     "name": "stderr",
     "output_type": "stream",
     "text": [
      "/home/nvidia/github/python_environments/soundflux/lib/python3.5/site-packages/librosa/util/utils.py:828: FutureWarning: Using a non-tuple sequence for multidimensional indexing is deprecated; use `arr[tuple(seq)]` instead of `arr[seq]`. In the future this will be interpreted as an array index, `arr[np.array(seq)]`, which will result either in an error or a different result.\n",
      "  return (x > x_pad[inds1]) & (x >= x_pad[inds2])\n",
      "/home/nvidia/github/python_environments/soundflux/lib/python3.5/site-packages/librosa/core/pitch.py:159: DeprecationWarning: object of type <class 'numpy.float64'> cannot be safely interpreted as an integer.\n",
      "  bins = np.linspace(-0.5, 0.5, np.ceil(1./resolution), endpoint=False)\n",
      "/home/nvidia/github/python_environments/soundflux/lib/python3.5/site-packages/librosa/core/pitch.py:159: DeprecationWarning: object of type <class 'numpy.float64'> cannot be safely interpreted as an integer.\n",
      "  bins = np.linspace(-0.5, 0.5, np.ceil(1./resolution), endpoint=False)\n"
     ]
    },
    {
     "name": "stdout",
     "output_type": "stream",
     "text": [
      "\n",
      "\n"
     ]
    },
    {
     "name": "stderr",
     "output_type": "stream",
     "text": [
      "/home/nvidia/github/python_environments/soundflux/lib/python3.5/site-packages/librosa/util/utils.py:828: FutureWarning: Using a non-tuple sequence for multidimensional indexing is deprecated; use `arr[tuple(seq)]` instead of `arr[seq]`. In the future this will be interpreted as an array index, `arr[np.array(seq)]`, which will result either in an error or a different result.\n",
      "  return (x > x_pad[inds1]) & (x >= x_pad[inds2])\n",
      "/home/nvidia/github/python_environments/soundflux/lib/python3.5/site-packages/librosa/core/pitch.py:159: DeprecationWarning: object of type <class 'numpy.float64'> cannot be safely interpreted as an integer.\n",
      "  bins = np.linspace(-0.5, 0.5, np.ceil(1./resolution), endpoint=False)\n",
      "/home/nvidia/github/python_environments/soundflux/lib/python3.5/site-packages/librosa/core/pitch.py:159: DeprecationWarning: object of type <class 'numpy.float64'> cannot be safely interpreted as an integer.\n",
      "  bins = np.linspace(-0.5, 0.5, np.ceil(1./resolution), endpoint=False)\n",
      "/home/nvidia/github/python_environments/soundflux/lib/python3.5/site-packages/librosa/core/pitch.py:159: DeprecationWarning: object of type <class 'numpy.float64'> cannot be safely interpreted as an integer.\n",
      "  bins = np.linspace(-0.5, 0.5, np.ceil(1./resolution), endpoint=False)\n",
      "/home/nvidia/github/python_environments/soundflux/lib/python3.5/site-packages/librosa/core/pitch.py:159: DeprecationWarning: object of type <class 'numpy.float64'> cannot be safely interpreted as an integer.\n",
      "  bins = np.linspace(-0.5, 0.5, np.ceil(1./resolution), endpoint=False)\n"
     ]
    },
    {
     "name": "stdout",
     "output_type": "stream",
     "text": [
      "\n",
      "\n",
      "\n"
     ]
    },
    {
     "name": "stderr",
     "output_type": "stream",
     "text": [
      "/home/nvidia/github/python_environments/soundflux/lib/python3.5/site-packages/librosa/util/utils.py:828: FutureWarning: Using a non-tuple sequence for multidimensional indexing is deprecated; use `arr[tuple(seq)]` instead of `arr[seq]`. In the future this will be interpreted as an array index, `arr[np.array(seq)]`, which will result either in an error or a different result.\n",
      "  return (x > x_pad[inds1]) & (x >= x_pad[inds2])\n",
      "/home/nvidia/github/python_environments/soundflux/lib/python3.5/site-packages/librosa/core/pitch.py:159: DeprecationWarning: object of type <class 'numpy.float64'> cannot be safely interpreted as an integer.\n",
      "  bins = np.linspace(-0.5, 0.5, np.ceil(1./resolution), endpoint=False)\n"
     ]
    },
    {
     "name": "stdout",
     "output_type": "stream",
     "text": [
      "\n"
     ]
    },
    {
     "name": "stderr",
     "output_type": "stream",
     "text": [
      "/home/nvidia/github/python_environments/soundflux/lib/python3.5/site-packages/librosa/util/utils.py:828: FutureWarning: Using a non-tuple sequence for multidimensional indexing is deprecated; use `arr[tuple(seq)]` instead of `arr[seq]`. In the future this will be interpreted as an array index, `arr[np.array(seq)]`, which will result either in an error or a different result.\n",
      "  return (x > x_pad[inds1]) & (x >= x_pad[inds2])\n",
      "/home/nvidia/github/python_environments/soundflux/lib/python3.5/site-packages/librosa/core/pitch.py:159: DeprecationWarning: object of type <class 'numpy.float64'> cannot be safely interpreted as an integer.\n",
      "  bins = np.linspace(-0.5, 0.5, np.ceil(1./resolution), endpoint=False)\n"
     ]
    },
    {
     "name": "stdout",
     "output_type": "stream",
     "text": [
      "\n"
     ]
    },
    {
     "name": "stderr",
     "output_type": "stream",
     "text": [
      "/home/nvidia/github/python_environments/soundflux/lib/python3.5/site-packages/librosa/util/utils.py:828: FutureWarning: Using a non-tuple sequence for multidimensional indexing is deprecated; use `arr[tuple(seq)]` instead of `arr[seq]`. In the future this will be interpreted as an array index, `arr[np.array(seq)]`, which will result either in an error or a different result.\n",
      "  return (x > x_pad[inds1]) & (x >= x_pad[inds2])\n",
      "/home/nvidia/github/python_environments/soundflux/lib/python3.5/site-packages/librosa/core/pitch.py:159: DeprecationWarning: object of type <class 'numpy.float64'> cannot be safely interpreted as an integer.\n",
      "  bins = np.linspace(-0.5, 0.5, np.ceil(1./resolution), endpoint=False)\n",
      "/home/nvidia/github/python_environments/soundflux/lib/python3.5/site-packages/librosa/core/pitch.py:159: DeprecationWarning: object of type <class 'numpy.float64'> cannot be safely interpreted as an integer.\n",
      "  bins = np.linspace(-0.5, 0.5, np.ceil(1./resolution), endpoint=False)\n"
     ]
    },
    {
     "name": "stdout",
     "output_type": "stream",
     "text": [
      "\n"
     ]
    },
    {
     "name": "stderr",
     "output_type": "stream",
     "text": [
      "/home/nvidia/github/python_environments/soundflux/lib/python3.5/site-packages/librosa/util/utils.py:828: FutureWarning: Using a non-tuple sequence for multidimensional indexing is deprecated; use `arr[tuple(seq)]` instead of `arr[seq]`. In the future this will be interpreted as an array index, `arr[np.array(seq)]`, which will result either in an error or a different result.\n",
      "  return (x > x_pad[inds1]) & (x >= x_pad[inds2])\n",
      "/home/nvidia/github/python_environments/soundflux/lib/python3.5/site-packages/librosa/core/pitch.py:159: DeprecationWarning: object of type <class 'numpy.float64'> cannot be safely interpreted as an integer.\n",
      "  bins = np.linspace(-0.5, 0.5, np.ceil(1./resolution), endpoint=False)\n"
     ]
    },
    {
     "name": "stdout",
     "output_type": "stream",
     "text": [
      "\n",
      "\n"
     ]
    },
    {
     "name": "stderr",
     "output_type": "stream",
     "text": [
      "/home/nvidia/github/python_environments/soundflux/lib/python3.5/site-packages/librosa/util/utils.py:828: FutureWarning: Using a non-tuple sequence for multidimensional indexing is deprecated; use `arr[tuple(seq)]` instead of `arr[seq]`. In the future this will be interpreted as an array index, `arr[np.array(seq)]`, which will result either in an error or a different result.\n",
      "  return (x > x_pad[inds1]) & (x >= x_pad[inds2])\n",
      "/home/nvidia/github/python_environments/soundflux/lib/python3.5/site-packages/librosa/core/pitch.py:159: DeprecationWarning: object of type <class 'numpy.float64'> cannot be safely interpreted as an integer.\n",
      "  bins = np.linspace(-0.5, 0.5, np.ceil(1./resolution), endpoint=False)\n",
      "/home/nvidia/github/python_environments/soundflux/lib/python3.5/site-packages/librosa/core/pitch.py:159: DeprecationWarning: object of type <class 'numpy.float64'> cannot be safely interpreted as an integer.\n",
      "  bins = np.linspace(-0.5, 0.5, np.ceil(1./resolution), endpoint=False)\n",
      "/home/nvidia/github/python_environments/soundflux/lib/python3.5/site-packages/librosa/core/pitch.py:159: DeprecationWarning: object of type <class 'numpy.float64'> cannot be safely interpreted as an integer.\n",
      "  bins = np.linspace(-0.5, 0.5, np.ceil(1./resolution), endpoint=False)\n"
     ]
    },
    {
     "name": "stdout",
     "output_type": "stream",
     "text": [
      "\n"
     ]
    },
    {
     "name": "stderr",
     "output_type": "stream",
     "text": [
      "/home/nvidia/github/python_environments/soundflux/lib/python3.5/site-packages/librosa/util/utils.py:828: FutureWarning: Using a non-tuple sequence for multidimensional indexing is deprecated; use `arr[tuple(seq)]` instead of `arr[seq]`. In the future this will be interpreted as an array index, `arr[np.array(seq)]`, which will result either in an error or a different result.\n",
      "  return (x > x_pad[inds1]) & (x >= x_pad[inds2])\n",
      "/home/nvidia/github/python_environments/soundflux/lib/python3.5/site-packages/librosa/core/pitch.py:159: DeprecationWarning: object of type <class 'numpy.float64'> cannot be safely interpreted as an integer.\n",
      "  bins = np.linspace(-0.5, 0.5, np.ceil(1./resolution), endpoint=False)\n"
     ]
    },
    {
     "name": "stdout",
     "output_type": "stream",
     "text": [
      "\n"
     ]
    },
    {
     "name": "stderr",
     "output_type": "stream",
     "text": [
      "/home/nvidia/github/python_environments/soundflux/lib/python3.5/site-packages/librosa/util/utils.py:828: FutureWarning: Using a non-tuple sequence for multidimensional indexing is deprecated; use `arr[tuple(seq)]` instead of `arr[seq]`. In the future this will be interpreted as an array index, `arr[np.array(seq)]`, which will result either in an error or a different result.\n",
      "  return (x > x_pad[inds1]) & (x >= x_pad[inds2])\n",
      "/home/nvidia/github/python_environments/soundflux/lib/python3.5/site-packages/librosa/core/pitch.py:159: DeprecationWarning: object of type <class 'numpy.float64'> cannot be safely interpreted as an integer.\n",
      "  bins = np.linspace(-0.5, 0.5, np.ceil(1./resolution), endpoint=False)\n",
      "/home/nvidia/github/python_environments/soundflux/lib/python3.5/site-packages/librosa/core/pitch.py:159: DeprecationWarning: object of type <class 'numpy.float64'> cannot be safely interpreted as an integer.\n",
      "  bins = np.linspace(-0.5, 0.5, np.ceil(1./resolution), endpoint=False)\n"
     ]
    },
    {
     "name": "stdout",
     "output_type": "stream",
     "text": [
      "\n"
     ]
    },
    {
     "name": "stderr",
     "output_type": "stream",
     "text": [
      "/home/nvidia/github/python_environments/soundflux/lib/python3.5/site-packages/librosa/util/utils.py:828: FutureWarning: Using a non-tuple sequence for multidimensional indexing is deprecated; use `arr[tuple(seq)]` instead of `arr[seq]`. In the future this will be interpreted as an array index, `arr[np.array(seq)]`, which will result either in an error or a different result.\n",
      "  return (x > x_pad[inds1]) & (x >= x_pad[inds2])\n",
      "/home/nvidia/github/python_environments/soundflux/lib/python3.5/site-packages/librosa/core/pitch.py:159: DeprecationWarning: object of type <class 'numpy.float64'> cannot be safely interpreted as an integer.\n",
      "  bins = np.linspace(-0.5, 0.5, np.ceil(1./resolution), endpoint=False)\n",
      "/home/nvidia/github/python_environments/soundflux/lib/python3.5/site-packages/librosa/core/pitch.py:159: DeprecationWarning: object of type <class 'numpy.float64'> cannot be safely interpreted as an integer.\n",
      "  bins = np.linspace(-0.5, 0.5, np.ceil(1./resolution), endpoint=False)\n"
     ]
    },
    {
     "name": "stdout",
     "output_type": "stream",
     "text": [
      "\n",
      "\n",
      "\n",
      "\n"
     ]
    },
    {
     "name": "stderr",
     "output_type": "stream",
     "text": [
      "/home/nvidia/github/python_environments/soundflux/lib/python3.5/site-packages/librosa/util/utils.py:828: FutureWarning: Using a non-tuple sequence for multidimensional indexing is deprecated; use `arr[tuple(seq)]` instead of `arr[seq]`. In the future this will be interpreted as an array index, `arr[np.array(seq)]`, which will result either in an error or a different result.\n",
      "  return (x > x_pad[inds1]) & (x >= x_pad[inds2])\n",
      "/home/nvidia/github/python_environments/soundflux/lib/python3.5/site-packages/librosa/core/pitch.py:159: DeprecationWarning: object of type <class 'numpy.float64'> cannot be safely interpreted as an integer.\n",
      "  bins = np.linspace(-0.5, 0.5, np.ceil(1./resolution), endpoint=False)\n"
     ]
    },
    {
     "name": "stdout",
     "output_type": "stream",
     "text": [
      "\n",
      "\n",
      "\n",
      "\n",
      "\n"
     ]
    },
    {
     "name": "stderr",
     "output_type": "stream",
     "text": [
      "/home/nvidia/github/python_environments/soundflux/lib/python3.5/site-packages/librosa/util/utils.py:828: FutureWarning: Using a non-tuple sequence for multidimensional indexing is deprecated; use `arr[tuple(seq)]` instead of `arr[seq]`. In the future this will be interpreted as an array index, `arr[np.array(seq)]`, which will result either in an error or a different result.\n",
      "  return (x > x_pad[inds1]) & (x >= x_pad[inds2])\n",
      "/home/nvidia/github/python_environments/soundflux/lib/python3.5/site-packages/librosa/core/pitch.py:159: DeprecationWarning: object of type <class 'numpy.float64'> cannot be safely interpreted as an integer.\n",
      "  bins = np.linspace(-0.5, 0.5, np.ceil(1./resolution), endpoint=False)\n",
      "/home/nvidia/github/python_environments/soundflux/lib/python3.5/site-packages/librosa/core/pitch.py:159: DeprecationWarning: object of type <class 'numpy.float64'> cannot be safely interpreted as an integer.\n",
      "  bins = np.linspace(-0.5, 0.5, np.ceil(1./resolution), endpoint=False)\n"
     ]
    },
    {
     "name": "stdout",
     "output_type": "stream",
     "text": [
      "\n"
     ]
    },
    {
     "name": "stderr",
     "output_type": "stream",
     "text": [
      "/home/nvidia/github/python_environments/soundflux/lib/python3.5/site-packages/librosa/util/utils.py:828: FutureWarning: Using a non-tuple sequence for multidimensional indexing is deprecated; use `arr[tuple(seq)]` instead of `arr[seq]`. In the future this will be interpreted as an array index, `arr[np.array(seq)]`, which will result either in an error or a different result.\n",
      "  return (x > x_pad[inds1]) & (x >= x_pad[inds2])\n",
      "/home/nvidia/github/python_environments/soundflux/lib/python3.5/site-packages/librosa/core/pitch.py:159: DeprecationWarning: object of type <class 'numpy.float64'> cannot be safely interpreted as an integer.\n",
      "  bins = np.linspace(-0.5, 0.5, np.ceil(1./resolution), endpoint=False)\n",
      "/home/nvidia/github/python_environments/soundflux/lib/python3.5/site-packages/librosa/core/pitch.py:159: DeprecationWarning: object of type <class 'numpy.float64'> cannot be safely interpreted as an integer.\n",
      "  bins = np.linspace(-0.5, 0.5, np.ceil(1./resolution), endpoint=False)\n",
      "/home/nvidia/github/python_environments/soundflux/lib/python3.5/site-packages/librosa/core/pitch.py:159: DeprecationWarning: object of type <class 'numpy.float64'> cannot be safely interpreted as an integer.\n",
      "  bins = np.linspace(-0.5, 0.5, np.ceil(1./resolution), endpoint=False)\n"
     ]
    },
    {
     "name": "stdout",
     "output_type": "stream",
     "text": [
      "\n",
      "\n",
      "\n"
     ]
    },
    {
     "name": "stderr",
     "output_type": "stream",
     "text": [
      "/home/nvidia/github/python_environments/soundflux/lib/python3.5/site-packages/librosa/util/utils.py:828: FutureWarning: Using a non-tuple sequence for multidimensional indexing is deprecated; use `arr[tuple(seq)]` instead of `arr[seq]`. In the future this will be interpreted as an array index, `arr[np.array(seq)]`, which will result either in an error or a different result.\n",
      "  return (x > x_pad[inds1]) & (x >= x_pad[inds2])\n",
      "/home/nvidia/github/python_environments/soundflux/lib/python3.5/site-packages/librosa/core/pitch.py:159: DeprecationWarning: object of type <class 'numpy.float64'> cannot be safely interpreted as an integer.\n",
      "  bins = np.linspace(-0.5, 0.5, np.ceil(1./resolution), endpoint=False)\n"
     ]
    },
    {
     "name": "stdout",
     "output_type": "stream",
     "text": [
      "\n"
     ]
    },
    {
     "name": "stderr",
     "output_type": "stream",
     "text": [
      "/home/nvidia/github/python_environments/soundflux/lib/python3.5/site-packages/librosa/util/utils.py:828: FutureWarning: Using a non-tuple sequence for multidimensional indexing is deprecated; use `arr[tuple(seq)]` instead of `arr[seq]`. In the future this will be interpreted as an array index, `arr[np.array(seq)]`, which will result either in an error or a different result.\n",
      "  return (x > x_pad[inds1]) & (x >= x_pad[inds2])\n",
      "/home/nvidia/github/python_environments/soundflux/lib/python3.5/site-packages/librosa/core/pitch.py:159: DeprecationWarning: object of type <class 'numpy.float64'> cannot be safely interpreted as an integer.\n",
      "  bins = np.linspace(-0.5, 0.5, np.ceil(1./resolution), endpoint=False)\n"
     ]
    },
    {
     "name": "stdout",
     "output_type": "stream",
     "text": [
      "\n",
      "\n"
     ]
    },
    {
     "name": "stderr",
     "output_type": "stream",
     "text": [
      "/home/nvidia/github/python_environments/soundflux/lib/python3.5/site-packages/librosa/util/utils.py:828: FutureWarning: Using a non-tuple sequence for multidimensional indexing is deprecated; use `arr[tuple(seq)]` instead of `arr[seq]`. In the future this will be interpreted as an array index, `arr[np.array(seq)]`, which will result either in an error or a different result.\n",
      "  return (x > x_pad[inds1]) & (x >= x_pad[inds2])\n",
      "/home/nvidia/github/python_environments/soundflux/lib/python3.5/site-packages/librosa/core/pitch.py:159: DeprecationWarning: object of type <class 'numpy.float64'> cannot be safely interpreted as an integer.\n",
      "  bins = np.linspace(-0.5, 0.5, np.ceil(1./resolution), endpoint=False)\n"
     ]
    },
    {
     "name": "stdout",
     "output_type": "stream",
     "text": [
      "\n"
     ]
    },
    {
     "name": "stderr",
     "output_type": "stream",
     "text": [
      "/home/nvidia/github/python_environments/soundflux/lib/python3.5/site-packages/librosa/util/utils.py:828: FutureWarning: Using a non-tuple sequence for multidimensional indexing is deprecated; use `arr[tuple(seq)]` instead of `arr[seq]`. In the future this will be interpreted as an array index, `arr[np.array(seq)]`, which will result either in an error or a different result.\n",
      "  return (x > x_pad[inds1]) & (x >= x_pad[inds2])\n",
      "/home/nvidia/github/python_environments/soundflux/lib/python3.5/site-packages/librosa/core/pitch.py:159: DeprecationWarning: object of type <class 'numpy.float64'> cannot be safely interpreted as an integer.\n",
      "  bins = np.linspace(-0.5, 0.5, np.ceil(1./resolution), endpoint=False)\n",
      "/home/nvidia/github/python_environments/soundflux/lib/python3.5/site-packages/librosa/core/pitch.py:159: DeprecationWarning: object of type <class 'numpy.float64'> cannot be safely interpreted as an integer.\n",
      "  bins = np.linspace(-0.5, 0.5, np.ceil(1./resolution), endpoint=False)\n",
      "/home/nvidia/github/python_environments/soundflux/lib/python3.5/site-packages/librosa/core/pitch.py:159: DeprecationWarning: object of type <class 'numpy.float64'> cannot be safely interpreted as an integer.\n",
      "  bins = np.linspace(-0.5, 0.5, np.ceil(1./resolution), endpoint=False)\n"
     ]
    },
    {
     "name": "stdout",
     "output_type": "stream",
     "text": [
      "\n",
      "\n",
      "\n",
      "\n"
     ]
    },
    {
     "name": "stderr",
     "output_type": "stream",
     "text": [
      "/home/nvidia/github/python_environments/soundflux/lib/python3.5/site-packages/librosa/util/utils.py:828: FutureWarning: Using a non-tuple sequence for multidimensional indexing is deprecated; use `arr[tuple(seq)]` instead of `arr[seq]`. In the future this will be interpreted as an array index, `arr[np.array(seq)]`, which will result either in an error or a different result.\n",
      "  return (x > x_pad[inds1]) & (x >= x_pad[inds2])\n",
      "/home/nvidia/github/python_environments/soundflux/lib/python3.5/site-packages/librosa/core/pitch.py:159: DeprecationWarning: object of type <class 'numpy.float64'> cannot be safely interpreted as an integer.\n",
      "  bins = np.linspace(-0.5, 0.5, np.ceil(1./resolution), endpoint=False)\n"
     ]
    },
    {
     "name": "stdout",
     "output_type": "stream",
     "text": [
      "\n"
     ]
    },
    {
     "name": "stderr",
     "output_type": "stream",
     "text": [
      "/home/nvidia/github/python_environments/soundflux/lib/python3.5/site-packages/librosa/util/utils.py:828: FutureWarning: Using a non-tuple sequence for multidimensional indexing is deprecated; use `arr[tuple(seq)]` instead of `arr[seq]`. In the future this will be interpreted as an array index, `arr[np.array(seq)]`, which will result either in an error or a different result.\n",
      "  return (x > x_pad[inds1]) & (x >= x_pad[inds2])\n",
      "/home/nvidia/github/python_environments/soundflux/lib/python3.5/site-packages/librosa/core/pitch.py:159: DeprecationWarning: object of type <class 'numpy.float64'> cannot be safely interpreted as an integer.\n",
      "  bins = np.linspace(-0.5, 0.5, np.ceil(1./resolution), endpoint=False)\n",
      "/home/nvidia/github/python_environments/soundflux/lib/python3.5/site-packages/librosa/core/pitch.py:159: DeprecationWarning: object of type <class 'numpy.float64'> cannot be safely interpreted as an integer.\n",
      "  bins = np.linspace(-0.5, 0.5, np.ceil(1./resolution), endpoint=False)\n"
     ]
    },
    {
     "name": "stdout",
     "output_type": "stream",
     "text": [
      "\n"
     ]
    },
    {
     "name": "stderr",
     "output_type": "stream",
     "text": [
      "/home/nvidia/github/python_environments/soundflux/lib/python3.5/site-packages/librosa/util/utils.py:828: FutureWarning: Using a non-tuple sequence for multidimensional indexing is deprecated; use `arr[tuple(seq)]` instead of `arr[seq]`. In the future this will be interpreted as an array index, `arr[np.array(seq)]`, which will result either in an error or a different result.\n",
      "  return (x > x_pad[inds1]) & (x >= x_pad[inds2])\n",
      "/home/nvidia/github/python_environments/soundflux/lib/python3.5/site-packages/librosa/core/pitch.py:159: DeprecationWarning: object of type <class 'numpy.float64'> cannot be safely interpreted as an integer.\n",
      "  bins = np.linspace(-0.5, 0.5, np.ceil(1./resolution), endpoint=False)\n"
     ]
    },
    {
     "name": "stdout",
     "output_type": "stream",
     "text": [
      "\n"
     ]
    },
    {
     "name": "stderr",
     "output_type": "stream",
     "text": [
      "/home/nvidia/github/python_environments/soundflux/lib/python3.5/site-packages/librosa/util/utils.py:828: FutureWarning: Using a non-tuple sequence for multidimensional indexing is deprecated; use `arr[tuple(seq)]` instead of `arr[seq]`. In the future this will be interpreted as an array index, `arr[np.array(seq)]`, which will result either in an error or a different result.\n",
      "  return (x > x_pad[inds1]) & (x >= x_pad[inds2])\n",
      "/home/nvidia/github/python_environments/soundflux/lib/python3.5/site-packages/librosa/core/pitch.py:159: DeprecationWarning: object of type <class 'numpy.float64'> cannot be safely interpreted as an integer.\n",
      "  bins = np.linspace(-0.5, 0.5, np.ceil(1./resolution), endpoint=False)\n"
     ]
    },
    {
     "name": "stdout",
     "output_type": "stream",
     "text": [
      "\n"
     ]
    },
    {
     "name": "stderr",
     "output_type": "stream",
     "text": [
      "/home/nvidia/github/python_environments/soundflux/lib/python3.5/site-packages/librosa/util/utils.py:828: FutureWarning: Using a non-tuple sequence for multidimensional indexing is deprecated; use `arr[tuple(seq)]` instead of `arr[seq]`. In the future this will be interpreted as an array index, `arr[np.array(seq)]`, which will result either in an error or a different result.\n",
      "  return (x > x_pad[inds1]) & (x >= x_pad[inds2])\n",
      "/home/nvidia/github/python_environments/soundflux/lib/python3.5/site-packages/librosa/core/pitch.py:159: DeprecationWarning: object of type <class 'numpy.float64'> cannot be safely interpreted as an integer.\n",
      "  bins = np.linspace(-0.5, 0.5, np.ceil(1./resolution), endpoint=False)\n",
      "/home/nvidia/github/python_environments/soundflux/lib/python3.5/site-packages/librosa/core/pitch.py:159: DeprecationWarning: object of type <class 'numpy.float64'> cannot be safely interpreted as an integer.\n",
      "  bins = np.linspace(-0.5, 0.5, np.ceil(1./resolution), endpoint=False)\n",
      "/home/nvidia/github/python_environments/soundflux/lib/python3.5/site-packages/librosa/core/pitch.py:159: DeprecationWarning: object of type <class 'numpy.float64'> cannot be safely interpreted as an integer.\n",
      "  bins = np.linspace(-0.5, 0.5, np.ceil(1./resolution), endpoint=False)\n",
      "/home/nvidia/github/python_environments/soundflux/lib/python3.5/site-packages/librosa/core/pitch.py:159: DeprecationWarning: object of type <class 'numpy.float64'> cannot be safely interpreted as an integer.\n",
      "  bins = np.linspace(-0.5, 0.5, np.ceil(1./resolution), endpoint=False)\n",
      "/home/nvidia/github/python_environments/soundflux/lib/python3.5/site-packages/librosa/core/pitch.py:159: DeprecationWarning: object of type <class 'numpy.float64'> cannot be safely interpreted as an integer.\n",
      "  bins = np.linspace(-0.5, 0.5, np.ceil(1./resolution), endpoint=False)\n"
     ]
    },
    {
     "name": "stdout",
     "output_type": "stream",
     "text": [
      "\n",
      "\n",
      "\n"
     ]
    },
    {
     "name": "stderr",
     "output_type": "stream",
     "text": [
      "/home/nvidia/github/python_environments/soundflux/lib/python3.5/site-packages/librosa/util/utils.py:828: FutureWarning: Using a non-tuple sequence for multidimensional indexing is deprecated; use `arr[tuple(seq)]` instead of `arr[seq]`. In the future this will be interpreted as an array index, `arr[np.array(seq)]`, which will result either in an error or a different result.\n",
      "  return (x > x_pad[inds1]) & (x >= x_pad[inds2])\n",
      "/home/nvidia/github/python_environments/soundflux/lib/python3.5/site-packages/librosa/core/pitch.py:159: DeprecationWarning: object of type <class 'numpy.float64'> cannot be safely interpreted as an integer.\n",
      "  bins = np.linspace(-0.5, 0.5, np.ceil(1./resolution), endpoint=False)\n"
     ]
    },
    {
     "name": "stdout",
     "output_type": "stream",
     "text": [
      "\n",
      "\n"
     ]
    },
    {
     "name": "stderr",
     "output_type": "stream",
     "text": [
      "/home/nvidia/github/python_environments/soundflux/lib/python3.5/site-packages/librosa/util/utils.py:828: FutureWarning: Using a non-tuple sequence for multidimensional indexing is deprecated; use `arr[tuple(seq)]` instead of `arr[seq]`. In the future this will be interpreted as an array index, `arr[np.array(seq)]`, which will result either in an error or a different result.\n",
      "  return (x > x_pad[inds1]) & (x >= x_pad[inds2])\n",
      "/home/nvidia/github/python_environments/soundflux/lib/python3.5/site-packages/librosa/core/pitch.py:159: DeprecationWarning: object of type <class 'numpy.float64'> cannot be safely interpreted as an integer.\n",
      "  bins = np.linspace(-0.5, 0.5, np.ceil(1./resolution), endpoint=False)\n"
     ]
    },
    {
     "name": "stdout",
     "output_type": "stream",
     "text": [
      "\n",
      "\n"
     ]
    },
    {
     "name": "stderr",
     "output_type": "stream",
     "text": [
      "/home/nvidia/github/python_environments/soundflux/lib/python3.5/site-packages/librosa/util/utils.py:828: FutureWarning: Using a non-tuple sequence for multidimensional indexing is deprecated; use `arr[tuple(seq)]` instead of `arr[seq]`. In the future this will be interpreted as an array index, `arr[np.array(seq)]`, which will result either in an error or a different result.\n",
      "  return (x > x_pad[inds1]) & (x >= x_pad[inds2])\n",
      "/home/nvidia/github/python_environments/soundflux/lib/python3.5/site-packages/librosa/core/pitch.py:159: DeprecationWarning: object of type <class 'numpy.float64'> cannot be safely interpreted as an integer.\n",
      "  bins = np.linspace(-0.5, 0.5, np.ceil(1./resolution), endpoint=False)\n",
      "/home/nvidia/github/python_environments/soundflux/lib/python3.5/site-packages/librosa/core/pitch.py:159: DeprecationWarning: object of type <class 'numpy.float64'> cannot be safely interpreted as an integer.\n",
      "  bins = np.linspace(-0.5, 0.5, np.ceil(1./resolution), endpoint=False)\n",
      "/home/nvidia/github/python_environments/soundflux/lib/python3.5/site-packages/librosa/core/pitch.py:159: DeprecationWarning: object of type <class 'numpy.float64'> cannot be safely interpreted as an integer.\n",
      "  bins = np.linspace(-0.5, 0.5, np.ceil(1./resolution), endpoint=False)\n"
     ]
    },
    {
     "name": "stdout",
     "output_type": "stream",
     "text": [
      "\n"
     ]
    },
    {
     "name": "stderr",
     "output_type": "stream",
     "text": [
      "/home/nvidia/github/python_environments/soundflux/lib/python3.5/site-packages/librosa/util/utils.py:828: FutureWarning: Using a non-tuple sequence for multidimensional indexing is deprecated; use `arr[tuple(seq)]` instead of `arr[seq]`. In the future this will be interpreted as an array index, `arr[np.array(seq)]`, which will result either in an error or a different result.\n",
      "  return (x > x_pad[inds1]) & (x >= x_pad[inds2])\n",
      "/home/nvidia/github/python_environments/soundflux/lib/python3.5/site-packages/librosa/core/pitch.py:159: DeprecationWarning: object of type <class 'numpy.float64'> cannot be safely interpreted as an integer.\n",
      "  bins = np.linspace(-0.5, 0.5, np.ceil(1./resolution), endpoint=False)\n"
     ]
    },
    {
     "name": "stdout",
     "output_type": "stream",
     "text": [
      "\n"
     ]
    },
    {
     "name": "stderr",
     "output_type": "stream",
     "text": [
      "/home/nvidia/github/python_environments/soundflux/lib/python3.5/site-packages/librosa/util/utils.py:828: FutureWarning: Using a non-tuple sequence for multidimensional indexing is deprecated; use `arr[tuple(seq)]` instead of `arr[seq]`. In the future this will be interpreted as an array index, `arr[np.array(seq)]`, which will result either in an error or a different result.\n",
      "  return (x > x_pad[inds1]) & (x >= x_pad[inds2])\n",
      "/home/nvidia/github/python_environments/soundflux/lib/python3.5/site-packages/librosa/core/pitch.py:159: DeprecationWarning: object of type <class 'numpy.float64'> cannot be safely interpreted as an integer.\n",
      "  bins = np.linspace(-0.5, 0.5, np.ceil(1./resolution), endpoint=False)\n"
     ]
    },
    {
     "name": "stdout",
     "output_type": "stream",
     "text": [
      "\n"
     ]
    },
    {
     "name": "stderr",
     "output_type": "stream",
     "text": [
      "/home/nvidia/github/python_environments/soundflux/lib/python3.5/site-packages/librosa/util/utils.py:828: FutureWarning: Using a non-tuple sequence for multidimensional indexing is deprecated; use `arr[tuple(seq)]` instead of `arr[seq]`. In the future this will be interpreted as an array index, `arr[np.array(seq)]`, which will result either in an error or a different result.\n",
      "  return (x > x_pad[inds1]) & (x >= x_pad[inds2])\n",
      "/home/nvidia/github/python_environments/soundflux/lib/python3.5/site-packages/librosa/core/pitch.py:159: DeprecationWarning: object of type <class 'numpy.float64'> cannot be safely interpreted as an integer.\n",
      "  bins = np.linspace(-0.5, 0.5, np.ceil(1./resolution), endpoint=False)\n"
     ]
    },
    {
     "name": "stdout",
     "output_type": "stream",
     "text": [
      "\n"
     ]
    },
    {
     "name": "stderr",
     "output_type": "stream",
     "text": [
      "/home/nvidia/github/python_environments/soundflux/lib/python3.5/site-packages/librosa/util/utils.py:828: FutureWarning: Using a non-tuple sequence for multidimensional indexing is deprecated; use `arr[tuple(seq)]` instead of `arr[seq]`. In the future this will be interpreted as an array index, `arr[np.array(seq)]`, which will result either in an error or a different result.\n",
      "  return (x > x_pad[inds1]) & (x >= x_pad[inds2])\n",
      "/home/nvidia/github/python_environments/soundflux/lib/python3.5/site-packages/librosa/core/pitch.py:159: DeprecationWarning: object of type <class 'numpy.float64'> cannot be safely interpreted as an integer.\n",
      "  bins = np.linspace(-0.5, 0.5, np.ceil(1./resolution), endpoint=False)\n",
      "/home/nvidia/github/python_environments/soundflux/lib/python3.5/site-packages/librosa/core/pitch.py:159: DeprecationWarning: object of type <class 'numpy.float64'> cannot be safely interpreted as an integer.\n",
      "  bins = np.linspace(-0.5, 0.5, np.ceil(1./resolution), endpoint=False)\n"
     ]
    },
    {
     "name": "stdout",
     "output_type": "stream",
     "text": [
      "\n",
      "\n"
     ]
    },
    {
     "name": "stderr",
     "output_type": "stream",
     "text": [
      "/home/nvidia/github/python_environments/soundflux/lib/python3.5/site-packages/librosa/util/utils.py:828: FutureWarning: Using a non-tuple sequence for multidimensional indexing is deprecated; use `arr[tuple(seq)]` instead of `arr[seq]`. In the future this will be interpreted as an array index, `arr[np.array(seq)]`, which will result either in an error or a different result.\n",
      "  return (x > x_pad[inds1]) & (x >= x_pad[inds2])\n",
      "/home/nvidia/github/python_environments/soundflux/lib/python3.5/site-packages/librosa/core/pitch.py:159: DeprecationWarning: object of type <class 'numpy.float64'> cannot be safely interpreted as an integer.\n",
      "  bins = np.linspace(-0.5, 0.5, np.ceil(1./resolution), endpoint=False)\n",
      "/home/nvidia/github/python_environments/soundflux/lib/python3.5/site-packages/librosa/core/pitch.py:159: DeprecationWarning: object of type <class 'numpy.float64'> cannot be safely interpreted as an integer.\n",
      "  bins = np.linspace(-0.5, 0.5, np.ceil(1./resolution), endpoint=False)\n"
     ]
    },
    {
     "name": "stdout",
     "output_type": "stream",
     "text": [
      "\n",
      "\n",
      "\n"
     ]
    },
    {
     "name": "stderr",
     "output_type": "stream",
     "text": [
      "/home/nvidia/github/python_environments/soundflux/lib/python3.5/site-packages/librosa/util/utils.py:828: FutureWarning: Using a non-tuple sequence for multidimensional indexing is deprecated; use `arr[tuple(seq)]` instead of `arr[seq]`. In the future this will be interpreted as an array index, `arr[np.array(seq)]`, which will result either in an error or a different result.\n",
      "  return (x > x_pad[inds1]) & (x >= x_pad[inds2])\n",
      "/home/nvidia/github/python_environments/soundflux/lib/python3.5/site-packages/librosa/core/pitch.py:159: DeprecationWarning: object of type <class 'numpy.float64'> cannot be safely interpreted as an integer.\n",
      "  bins = np.linspace(-0.5, 0.5, np.ceil(1./resolution), endpoint=False)\n"
     ]
    },
    {
     "name": "stdout",
     "output_type": "stream",
     "text": [
      "\n"
     ]
    },
    {
     "name": "stderr",
     "output_type": "stream",
     "text": [
      "/home/nvidia/github/python_environments/soundflux/lib/python3.5/site-packages/librosa/util/utils.py:828: FutureWarning: Using a non-tuple sequence for multidimensional indexing is deprecated; use `arr[tuple(seq)]` instead of `arr[seq]`. In the future this will be interpreted as an array index, `arr[np.array(seq)]`, which will result either in an error or a different result.\n",
      "  return (x > x_pad[inds1]) & (x >= x_pad[inds2])\n",
      "/home/nvidia/github/python_environments/soundflux/lib/python3.5/site-packages/librosa/core/pitch.py:159: DeprecationWarning: object of type <class 'numpy.float64'> cannot be safely interpreted as an integer.\n",
      "  bins = np.linspace(-0.5, 0.5, np.ceil(1./resolution), endpoint=False)\n",
      "/home/nvidia/github/python_environments/soundflux/lib/python3.5/site-packages/librosa/core/pitch.py:159: DeprecationWarning: object of type <class 'numpy.float64'> cannot be safely interpreted as an integer.\n",
      "  bins = np.linspace(-0.5, 0.5, np.ceil(1./resolution), endpoint=False)\n",
      "/home/nvidia/github/python_environments/soundflux/lib/python3.5/site-packages/librosa/core/pitch.py:159: DeprecationWarning: object of type <class 'numpy.float64'> cannot be safely interpreted as an integer.\n",
      "  bins = np.linspace(-0.5, 0.5, np.ceil(1./resolution), endpoint=False)\n",
      "/home/nvidia/github/python_environments/soundflux/lib/python3.5/site-packages/librosa/core/pitch.py:159: DeprecationWarning: object of type <class 'numpy.float64'> cannot be safely interpreted as an integer.\n",
      "  bins = np.linspace(-0.5, 0.5, np.ceil(1./resolution), endpoint=False)\n",
      "/home/nvidia/github/python_environments/soundflux/lib/python3.5/site-packages/librosa/core/pitch.py:159: DeprecationWarning: object of type <class 'numpy.float64'> cannot be safely interpreted as an integer.\n",
      "  bins = np.linspace(-0.5, 0.5, np.ceil(1./resolution), endpoint=False)\n"
     ]
    },
    {
     "name": "stdout",
     "output_type": "stream",
     "text": [
      "\n"
     ]
    },
    {
     "name": "stderr",
     "output_type": "stream",
     "text": [
      "/home/nvidia/github/python_environments/soundflux/lib/python3.5/site-packages/librosa/util/utils.py:828: FutureWarning: Using a non-tuple sequence for multidimensional indexing is deprecated; use `arr[tuple(seq)]` instead of `arr[seq]`. In the future this will be interpreted as an array index, `arr[np.array(seq)]`, which will result either in an error or a different result.\n",
      "  return (x > x_pad[inds1]) & (x >= x_pad[inds2])\n",
      "/home/nvidia/github/python_environments/soundflux/lib/python3.5/site-packages/librosa/core/pitch.py:159: DeprecationWarning: object of type <class 'numpy.float64'> cannot be safely interpreted as an integer.\n",
      "  bins = np.linspace(-0.5, 0.5, np.ceil(1./resolution), endpoint=False)\n"
     ]
    },
    {
     "name": "stdout",
     "output_type": "stream",
     "text": [
      "\n"
     ]
    },
    {
     "name": "stderr",
     "output_type": "stream",
     "text": [
      "/home/nvidia/github/python_environments/soundflux/lib/python3.5/site-packages/librosa/util/utils.py:828: FutureWarning: Using a non-tuple sequence for multidimensional indexing is deprecated; use `arr[tuple(seq)]` instead of `arr[seq]`. In the future this will be interpreted as an array index, `arr[np.array(seq)]`, which will result either in an error or a different result.\n",
      "  return (x > x_pad[inds1]) & (x >= x_pad[inds2])\n",
      "/home/nvidia/github/python_environments/soundflux/lib/python3.5/site-packages/librosa/core/pitch.py:159: DeprecationWarning: object of type <class 'numpy.float64'> cannot be safely interpreted as an integer.\n",
      "  bins = np.linspace(-0.5, 0.5, np.ceil(1./resolution), endpoint=False)\n",
      "/home/nvidia/github/python_environments/soundflux/lib/python3.5/site-packages/librosa/core/pitch.py:159: DeprecationWarning: object of type <class 'numpy.float64'> cannot be safely interpreted as an integer.\n",
      "  bins = np.linspace(-0.5, 0.5, np.ceil(1./resolution), endpoint=False)\n",
      "/home/nvidia/github/python_environments/soundflux/lib/python3.5/site-packages/librosa/core/pitch.py:159: DeprecationWarning: object of type <class 'numpy.float64'> cannot be safely interpreted as an integer.\n",
      "  bins = np.linspace(-0.5, 0.5, np.ceil(1./resolution), endpoint=False)\n"
     ]
    },
    {
     "name": "stdout",
     "output_type": "stream",
     "text": [
      "\n"
     ]
    },
    {
     "name": "stderr",
     "output_type": "stream",
     "text": [
      "/home/nvidia/github/python_environments/soundflux/lib/python3.5/site-packages/librosa/util/utils.py:828: FutureWarning: Using a non-tuple sequence for multidimensional indexing is deprecated; use `arr[tuple(seq)]` instead of `arr[seq]`. In the future this will be interpreted as an array index, `arr[np.array(seq)]`, which will result either in an error or a different result.\n",
      "  return (x > x_pad[inds1]) & (x >= x_pad[inds2])\n",
      "/home/nvidia/github/python_environments/soundflux/lib/python3.5/site-packages/librosa/core/pitch.py:159: DeprecationWarning: object of type <class 'numpy.float64'> cannot be safely interpreted as an integer.\n",
      "  bins = np.linspace(-0.5, 0.5, np.ceil(1./resolution), endpoint=False)\n",
      "/home/nvidia/github/python_environments/soundflux/lib/python3.5/site-packages/librosa/core/pitch.py:159: DeprecationWarning: object of type <class 'numpy.float64'> cannot be safely interpreted as an integer.\n",
      "  bins = np.linspace(-0.5, 0.5, np.ceil(1./resolution), endpoint=False)\n"
     ]
    },
    {
     "name": "stdout",
     "output_type": "stream",
     "text": [
      "\n"
     ]
    },
    {
     "name": "stderr",
     "output_type": "stream",
     "text": [
      "/home/nvidia/github/python_environments/soundflux/lib/python3.5/site-packages/librosa/util/utils.py:828: FutureWarning: Using a non-tuple sequence for multidimensional indexing is deprecated; use `arr[tuple(seq)]` instead of `arr[seq]`. In the future this will be interpreted as an array index, `arr[np.array(seq)]`, which will result either in an error or a different result.\n",
      "  return (x > x_pad[inds1]) & (x >= x_pad[inds2])\n",
      "/home/nvidia/github/python_environments/soundflux/lib/python3.5/site-packages/librosa/core/pitch.py:159: DeprecationWarning: object of type <class 'numpy.float64'> cannot be safely interpreted as an integer.\n",
      "  bins = np.linspace(-0.5, 0.5, np.ceil(1./resolution), endpoint=False)\n",
      "/home/nvidia/github/python_environments/soundflux/lib/python3.5/site-packages/librosa/core/pitch.py:159: DeprecationWarning: object of type <class 'numpy.float64'> cannot be safely interpreted as an integer.\n",
      "  bins = np.linspace(-0.5, 0.5, np.ceil(1./resolution), endpoint=False)\n"
     ]
    },
    {
     "name": "stdout",
     "output_type": "stream",
     "text": [
      "\n",
      "\n"
     ]
    },
    {
     "name": "stderr",
     "output_type": "stream",
     "text": [
      "/home/nvidia/github/python_environments/soundflux/lib/python3.5/site-packages/librosa/util/utils.py:828: FutureWarning: Using a non-tuple sequence for multidimensional indexing is deprecated; use `arr[tuple(seq)]` instead of `arr[seq]`. In the future this will be interpreted as an array index, `arr[np.array(seq)]`, which will result either in an error or a different result.\n",
      "  return (x > x_pad[inds1]) & (x >= x_pad[inds2])\n",
      "/home/nvidia/github/python_environments/soundflux/lib/python3.5/site-packages/librosa/core/pitch.py:159: DeprecationWarning: object of type <class 'numpy.float64'> cannot be safely interpreted as an integer.\n",
      "  bins = np.linspace(-0.5, 0.5, np.ceil(1./resolution), endpoint=False)\n",
      "/home/nvidia/github/python_environments/soundflux/lib/python3.5/site-packages/librosa/core/pitch.py:159: DeprecationWarning: object of type <class 'numpy.float64'> cannot be safely interpreted as an integer.\n",
      "  bins = np.linspace(-0.5, 0.5, np.ceil(1./resolution), endpoint=False)\n",
      "/home/nvidia/github/python_environments/soundflux/lib/python3.5/site-packages/librosa/core/pitch.py:159: DeprecationWarning: object of type <class 'numpy.float64'> cannot be safely interpreted as an integer.\n",
      "  bins = np.linspace(-0.5, 0.5, np.ceil(1./resolution), endpoint=False)\n"
     ]
    },
    {
     "name": "stdout",
     "output_type": "stream",
     "text": [
      "\n"
     ]
    },
    {
     "name": "stderr",
     "output_type": "stream",
     "text": [
      "/home/nvidia/github/python_environments/soundflux/lib/python3.5/site-packages/librosa/util/utils.py:828: FutureWarning: Using a non-tuple sequence for multidimensional indexing is deprecated; use `arr[tuple(seq)]` instead of `arr[seq]`. In the future this will be interpreted as an array index, `arr[np.array(seq)]`, which will result either in an error or a different result.\n",
      "  return (x > x_pad[inds1]) & (x >= x_pad[inds2])\n",
      "/home/nvidia/github/python_environments/soundflux/lib/python3.5/site-packages/librosa/core/pitch.py:159: DeprecationWarning: object of type <class 'numpy.float64'> cannot be safely interpreted as an integer.\n",
      "  bins = np.linspace(-0.5, 0.5, np.ceil(1./resolution), endpoint=False)\n"
     ]
    },
    {
     "name": "stdout",
     "output_type": "stream",
     "text": [
      "\n"
     ]
    },
    {
     "name": "stderr",
     "output_type": "stream",
     "text": [
      "/home/nvidia/github/python_environments/soundflux/lib/python3.5/site-packages/librosa/util/utils.py:828: FutureWarning: Using a non-tuple sequence for multidimensional indexing is deprecated; use `arr[tuple(seq)]` instead of `arr[seq]`. In the future this will be interpreted as an array index, `arr[np.array(seq)]`, which will result either in an error or a different result.\n",
      "  return (x > x_pad[inds1]) & (x >= x_pad[inds2])\n",
      "/home/nvidia/github/python_environments/soundflux/lib/python3.5/site-packages/librosa/core/pitch.py:159: DeprecationWarning: object of type <class 'numpy.float64'> cannot be safely interpreted as an integer.\n",
      "  bins = np.linspace(-0.5, 0.5, np.ceil(1./resolution), endpoint=False)\n"
     ]
    },
    {
     "name": "stdout",
     "output_type": "stream",
     "text": [
      "\n",
      "\n"
     ]
    },
    {
     "name": "stderr",
     "output_type": "stream",
     "text": [
      "/home/nvidia/github/python_environments/soundflux/lib/python3.5/site-packages/librosa/util/utils.py:828: FutureWarning: Using a non-tuple sequence for multidimensional indexing is deprecated; use `arr[tuple(seq)]` instead of `arr[seq]`. In the future this will be interpreted as an array index, `arr[np.array(seq)]`, which will result either in an error or a different result.\n",
      "  return (x > x_pad[inds1]) & (x >= x_pad[inds2])\n",
      "/home/nvidia/github/python_environments/soundflux/lib/python3.5/site-packages/librosa/core/pitch.py:159: DeprecationWarning: object of type <class 'numpy.float64'> cannot be safely interpreted as an integer.\n",
      "  bins = np.linspace(-0.5, 0.5, np.ceil(1./resolution), endpoint=False)\n",
      "/home/nvidia/github/python_environments/soundflux/lib/python3.5/site-packages/librosa/core/pitch.py:159: DeprecationWarning: object of type <class 'numpy.float64'> cannot be safely interpreted as an integer.\n",
      "  bins = np.linspace(-0.5, 0.5, np.ceil(1./resolution), endpoint=False)\n",
      "/home/nvidia/github/python_environments/soundflux/lib/python3.5/site-packages/librosa/core/pitch.py:159: DeprecationWarning: object of type <class 'numpy.float64'> cannot be safely interpreted as an integer.\n",
      "  bins = np.linspace(-0.5, 0.5, np.ceil(1./resolution), endpoint=False)\n"
     ]
    },
    {
     "name": "stdout",
     "output_type": "stream",
     "text": [
      "\n"
     ]
    },
    {
     "name": "stderr",
     "output_type": "stream",
     "text": [
      "/home/nvidia/github/python_environments/soundflux/lib/python3.5/site-packages/librosa/util/utils.py:828: FutureWarning: Using a non-tuple sequence for multidimensional indexing is deprecated; use `arr[tuple(seq)]` instead of `arr[seq]`. In the future this will be interpreted as an array index, `arr[np.array(seq)]`, which will result either in an error or a different result.\n",
      "  return (x > x_pad[inds1]) & (x >= x_pad[inds2])\n",
      "/home/nvidia/github/python_environments/soundflux/lib/python3.5/site-packages/librosa/core/pitch.py:159: DeprecationWarning: object of type <class 'numpy.float64'> cannot be safely interpreted as an integer.\n",
      "  bins = np.linspace(-0.5, 0.5, np.ceil(1./resolution), endpoint=False)\n",
      "/home/nvidia/github/python_environments/soundflux/lib/python3.5/site-packages/librosa/core/pitch.py:159: DeprecationWarning: object of type <class 'numpy.float64'> cannot be safely interpreted as an integer.\n",
      "  bins = np.linspace(-0.5, 0.5, np.ceil(1./resolution), endpoint=False)\n",
      "/home/nvidia/github/python_environments/soundflux/lib/python3.5/site-packages/librosa/core/pitch.py:159: DeprecationWarning: object of type <class 'numpy.float64'> cannot be safely interpreted as an integer.\n",
      "  bins = np.linspace(-0.5, 0.5, np.ceil(1./resolution), endpoint=False)\n"
     ]
    },
    {
     "name": "stdout",
     "output_type": "stream",
     "text": [
      "\n",
      "\n",
      "\n",
      "\n"
     ]
    },
    {
     "name": "stderr",
     "output_type": "stream",
     "text": [
      "/home/nvidia/github/python_environments/soundflux/lib/python3.5/site-packages/librosa/util/utils.py:828: FutureWarning: Using a non-tuple sequence for multidimensional indexing is deprecated; use `arr[tuple(seq)]` instead of `arr[seq]`. In the future this will be interpreted as an array index, `arr[np.array(seq)]`, which will result either in an error or a different result.\n",
      "  return (x > x_pad[inds1]) & (x >= x_pad[inds2])\n",
      "/home/nvidia/github/python_environments/soundflux/lib/python3.5/site-packages/librosa/core/pitch.py:159: DeprecationWarning: object of type <class 'numpy.float64'> cannot be safely interpreted as an integer.\n",
      "  bins = np.linspace(-0.5, 0.5, np.ceil(1./resolution), endpoint=False)\n"
     ]
    },
    {
     "name": "stdout",
     "output_type": "stream",
     "text": [
      "\n",
      "\n",
      "\n",
      "\n",
      "\n",
      "\n"
     ]
    },
    {
     "name": "stderr",
     "output_type": "stream",
     "text": [
      "/home/nvidia/github/python_environments/soundflux/lib/python3.5/site-packages/librosa/util/utils.py:828: FutureWarning: Using a non-tuple sequence for multidimensional indexing is deprecated; use `arr[tuple(seq)]` instead of `arr[seq]`. In the future this will be interpreted as an array index, `arr[np.array(seq)]`, which will result either in an error or a different result.\n",
      "  return (x > x_pad[inds1]) & (x >= x_pad[inds2])\n",
      "/home/nvidia/github/python_environments/soundflux/lib/python3.5/site-packages/librosa/core/pitch.py:159: DeprecationWarning: object of type <class 'numpy.float64'> cannot be safely interpreted as an integer.\n",
      "  bins = np.linspace(-0.5, 0.5, np.ceil(1./resolution), endpoint=False)\n",
      "/home/nvidia/github/python_environments/soundflux/lib/python3.5/site-packages/librosa/core/pitch.py:159: DeprecationWarning: object of type <class 'numpy.float64'> cannot be safely interpreted as an integer.\n",
      "  bins = np.linspace(-0.5, 0.5, np.ceil(1./resolution), endpoint=False)\n"
     ]
    },
    {
     "name": "stdout",
     "output_type": "stream",
     "text": [
      "\n",
      "\n",
      "\n",
      "\n",
      "\n",
      "\n"
     ]
    },
    {
     "name": "stderr",
     "output_type": "stream",
     "text": [
      "/home/nvidia/github/python_environments/soundflux/lib/python3.5/site-packages/librosa/util/utils.py:828: FutureWarning: Using a non-tuple sequence for multidimensional indexing is deprecated; use `arr[tuple(seq)]` instead of `arr[seq]`. In the future this will be interpreted as an array index, `arr[np.array(seq)]`, which will result either in an error or a different result.\n",
      "  return (x > x_pad[inds1]) & (x >= x_pad[inds2])\n",
      "/home/nvidia/github/python_environments/soundflux/lib/python3.5/site-packages/librosa/core/pitch.py:159: DeprecationWarning: object of type <class 'numpy.float64'> cannot be safely interpreted as an integer.\n",
      "  bins = np.linspace(-0.5, 0.5, np.ceil(1./resolution), endpoint=False)\n",
      "/home/nvidia/github/python_environments/soundflux/lib/python3.5/site-packages/librosa/core/pitch.py:159: DeprecationWarning: object of type <class 'numpy.float64'> cannot be safely interpreted as an integer.\n",
      "  bins = np.linspace(-0.5, 0.5, np.ceil(1./resolution), endpoint=False)\n",
      "/home/nvidia/github/python_environments/soundflux/lib/python3.5/site-packages/librosa/core/pitch.py:159: DeprecationWarning: object of type <class 'numpy.float64'> cannot be safely interpreted as an integer.\n",
      "  bins = np.linspace(-0.5, 0.5, np.ceil(1./resolution), endpoint=False)\n",
      "/home/nvidia/github/python_environments/soundflux/lib/python3.5/site-packages/librosa/core/pitch.py:159: DeprecationWarning: object of type <class 'numpy.float64'> cannot be safely interpreted as an integer.\n",
      "  bins = np.linspace(-0.5, 0.5, np.ceil(1./resolution), endpoint=False)\n",
      "/home/nvidia/github/python_environments/soundflux/lib/python3.5/site-packages/librosa/core/pitch.py:159: DeprecationWarning: object of type <class 'numpy.float64'> cannot be safely interpreted as an integer.\n",
      "  bins = np.linspace(-0.5, 0.5, np.ceil(1./resolution), endpoint=False)\n",
      "/home/nvidia/github/python_environments/soundflux/lib/python3.5/site-packages/librosa/core/pitch.py:159: DeprecationWarning: object of type <class 'numpy.float64'> cannot be safely interpreted as an integer.\n",
      "  bins = np.linspace(-0.5, 0.5, np.ceil(1./resolution), endpoint=False)\n"
     ]
    },
    {
     "name": "stdout",
     "output_type": "stream",
     "text": [
      "\n",
      "\n"
     ]
    },
    {
     "name": "stderr",
     "output_type": "stream",
     "text": [
      "/home/nvidia/github/python_environments/soundflux/lib/python3.5/site-packages/librosa/util/utils.py:828: FutureWarning: Using a non-tuple sequence for multidimensional indexing is deprecated; use `arr[tuple(seq)]` instead of `arr[seq]`. In the future this will be interpreted as an array index, `arr[np.array(seq)]`, which will result either in an error or a different result.\n",
      "  return (x > x_pad[inds1]) & (x >= x_pad[inds2])\n",
      "/home/nvidia/github/python_environments/soundflux/lib/python3.5/site-packages/librosa/core/pitch.py:159: DeprecationWarning: object of type <class 'numpy.float64'> cannot be safely interpreted as an integer.\n",
      "  bins = np.linspace(-0.5, 0.5, np.ceil(1./resolution), endpoint=False)\n",
      "/home/nvidia/github/python_environments/soundflux/lib/python3.5/site-packages/librosa/core/pitch.py:159: DeprecationWarning: object of type <class 'numpy.float64'> cannot be safely interpreted as an integer.\n",
      "  bins = np.linspace(-0.5, 0.5, np.ceil(1./resolution), endpoint=False)\n"
     ]
    },
    {
     "name": "stdout",
     "output_type": "stream",
     "text": [
      "\n",
      "\n",
      "\n"
     ]
    },
    {
     "name": "stderr",
     "output_type": "stream",
     "text": [
      "/home/nvidia/github/python_environments/soundflux/lib/python3.5/site-packages/librosa/util/utils.py:828: FutureWarning: Using a non-tuple sequence for multidimensional indexing is deprecated; use `arr[tuple(seq)]` instead of `arr[seq]`. In the future this will be interpreted as an array index, `arr[np.array(seq)]`, which will result either in an error or a different result.\n",
      "  return (x > x_pad[inds1]) & (x >= x_pad[inds2])\n",
      "/home/nvidia/github/python_environments/soundflux/lib/python3.5/site-packages/librosa/core/pitch.py:159: DeprecationWarning: object of type <class 'numpy.float64'> cannot be safely interpreted as an integer.\n",
      "  bins = np.linspace(-0.5, 0.5, np.ceil(1./resolution), endpoint=False)\n",
      "/home/nvidia/github/python_environments/soundflux/lib/python3.5/site-packages/librosa/core/pitch.py:159: DeprecationWarning: object of type <class 'numpy.float64'> cannot be safely interpreted as an integer.\n",
      "  bins = np.linspace(-0.5, 0.5, np.ceil(1./resolution), endpoint=False)\n"
     ]
    },
    {
     "name": "stdout",
     "output_type": "stream",
     "text": [
      "\n"
     ]
    },
    {
     "name": "stderr",
     "output_type": "stream",
     "text": [
      "/home/nvidia/github/python_environments/soundflux/lib/python3.5/site-packages/librosa/util/utils.py:828: FutureWarning: Using a non-tuple sequence for multidimensional indexing is deprecated; use `arr[tuple(seq)]` instead of `arr[seq]`. In the future this will be interpreted as an array index, `arr[np.array(seq)]`, which will result either in an error or a different result.\n",
      "  return (x > x_pad[inds1]) & (x >= x_pad[inds2])\n",
      "/home/nvidia/github/python_environments/soundflux/lib/python3.5/site-packages/librosa/core/pitch.py:159: DeprecationWarning: object of type <class 'numpy.float64'> cannot be safely interpreted as an integer.\n",
      "  bins = np.linspace(-0.5, 0.5, np.ceil(1./resolution), endpoint=False)\n",
      "/home/nvidia/github/python_environments/soundflux/lib/python3.5/site-packages/librosa/core/pitch.py:159: DeprecationWarning: object of type <class 'numpy.float64'> cannot be safely interpreted as an integer.\n",
      "  bins = np.linspace(-0.5, 0.5, np.ceil(1./resolution), endpoint=False)\n"
     ]
    },
    {
     "name": "stdout",
     "output_type": "stream",
     "text": [
      "\n"
     ]
    },
    {
     "name": "stderr",
     "output_type": "stream",
     "text": [
      "/home/nvidia/github/python_environments/soundflux/lib/python3.5/site-packages/librosa/util/utils.py:828: FutureWarning: Using a non-tuple sequence for multidimensional indexing is deprecated; use `arr[tuple(seq)]` instead of `arr[seq]`. In the future this will be interpreted as an array index, `arr[np.array(seq)]`, which will result either in an error or a different result.\n",
      "  return (x > x_pad[inds1]) & (x >= x_pad[inds2])\n",
      "/home/nvidia/github/python_environments/soundflux/lib/python3.5/site-packages/librosa/core/pitch.py:159: DeprecationWarning: object of type <class 'numpy.float64'> cannot be safely interpreted as an integer.\n",
      "  bins = np.linspace(-0.5, 0.5, np.ceil(1./resolution), endpoint=False)\n",
      "/home/nvidia/github/python_environments/soundflux/lib/python3.5/site-packages/librosa/core/pitch.py:159: DeprecationWarning: object of type <class 'numpy.float64'> cannot be safely interpreted as an integer.\n",
      "  bins = np.linspace(-0.5, 0.5, np.ceil(1./resolution), endpoint=False)\n"
     ]
    },
    {
     "name": "stdout",
     "output_type": "stream",
     "text": [
      "\n"
     ]
    },
    {
     "name": "stderr",
     "output_type": "stream",
     "text": [
      "/home/nvidia/github/python_environments/soundflux/lib/python3.5/site-packages/librosa/util/utils.py:828: FutureWarning: Using a non-tuple sequence for multidimensional indexing is deprecated; use `arr[tuple(seq)]` instead of `arr[seq]`. In the future this will be interpreted as an array index, `arr[np.array(seq)]`, which will result either in an error or a different result.\n",
      "  return (x > x_pad[inds1]) & (x >= x_pad[inds2])\n",
      "/home/nvidia/github/python_environments/soundflux/lib/python3.5/site-packages/librosa/core/pitch.py:159: DeprecationWarning: object of type <class 'numpy.float64'> cannot be safely interpreted as an integer.\n",
      "  bins = np.linspace(-0.5, 0.5, np.ceil(1./resolution), endpoint=False)\n",
      "/home/nvidia/github/python_environments/soundflux/lib/python3.5/site-packages/librosa/core/pitch.py:159: DeprecationWarning: object of type <class 'numpy.float64'> cannot be safely interpreted as an integer.\n",
      "  bins = np.linspace(-0.5, 0.5, np.ceil(1./resolution), endpoint=False)\n"
     ]
    },
    {
     "name": "stdout",
     "output_type": "stream",
     "text": [
      "\n",
      "\n",
      "\n"
     ]
    },
    {
     "name": "stderr",
     "output_type": "stream",
     "text": [
      "/home/nvidia/github/python_environments/soundflux/lib/python3.5/site-packages/librosa/util/utils.py:828: FutureWarning: Using a non-tuple sequence for multidimensional indexing is deprecated; use `arr[tuple(seq)]` instead of `arr[seq]`. In the future this will be interpreted as an array index, `arr[np.array(seq)]`, which will result either in an error or a different result.\n",
      "  return (x > x_pad[inds1]) & (x >= x_pad[inds2])\n",
      "/home/nvidia/github/python_environments/soundflux/lib/python3.5/site-packages/librosa/core/pitch.py:159: DeprecationWarning: object of type <class 'numpy.float64'> cannot be safely interpreted as an integer.\n",
      "  bins = np.linspace(-0.5, 0.5, np.ceil(1./resolution), endpoint=False)\n",
      "/home/nvidia/github/python_environments/soundflux/lib/python3.5/site-packages/librosa/core/pitch.py:159: DeprecationWarning: object of type <class 'numpy.float64'> cannot be safely interpreted as an integer.\n",
      "  bins = np.linspace(-0.5, 0.5, np.ceil(1./resolution), endpoint=False)\n",
      "/home/nvidia/github/python_environments/soundflux/lib/python3.5/site-packages/librosa/core/pitch.py:159: DeprecationWarning: object of type <class 'numpy.float64'> cannot be safely interpreted as an integer.\n",
      "  bins = np.linspace(-0.5, 0.5, np.ceil(1./resolution), endpoint=False)\n"
     ]
    },
    {
     "name": "stdout",
     "output_type": "stream",
     "text": [
      "\n"
     ]
    },
    {
     "name": "stderr",
     "output_type": "stream",
     "text": [
      "/home/nvidia/github/python_environments/soundflux/lib/python3.5/site-packages/librosa/util/utils.py:828: FutureWarning: Using a non-tuple sequence for multidimensional indexing is deprecated; use `arr[tuple(seq)]` instead of `arr[seq]`. In the future this will be interpreted as an array index, `arr[np.array(seq)]`, which will result either in an error or a different result.\n",
      "  return (x > x_pad[inds1]) & (x >= x_pad[inds2])\n",
      "/home/nvidia/github/python_environments/soundflux/lib/python3.5/site-packages/librosa/core/pitch.py:159: DeprecationWarning: object of type <class 'numpy.float64'> cannot be safely interpreted as an integer.\n",
      "  bins = np.linspace(-0.5, 0.5, np.ceil(1./resolution), endpoint=False)\n"
     ]
    },
    {
     "name": "stdout",
     "output_type": "stream",
     "text": [
      "\n"
     ]
    },
    {
     "name": "stderr",
     "output_type": "stream",
     "text": [
      "/home/nvidia/github/python_environments/soundflux/lib/python3.5/site-packages/librosa/util/utils.py:828: FutureWarning: Using a non-tuple sequence for multidimensional indexing is deprecated; use `arr[tuple(seq)]` instead of `arr[seq]`. In the future this will be interpreted as an array index, `arr[np.array(seq)]`, which will result either in an error or a different result.\n",
      "  return (x > x_pad[inds1]) & (x >= x_pad[inds2])\n",
      "/home/nvidia/github/python_environments/soundflux/lib/python3.5/site-packages/librosa/core/pitch.py:159: DeprecationWarning: object of type <class 'numpy.float64'> cannot be safely interpreted as an integer.\n",
      "  bins = np.linspace(-0.5, 0.5, np.ceil(1./resolution), endpoint=False)\n",
      "/home/nvidia/github/python_environments/soundflux/lib/python3.5/site-packages/librosa/core/pitch.py:159: DeprecationWarning: object of type <class 'numpy.float64'> cannot be safely interpreted as an integer.\n",
      "  bins = np.linspace(-0.5, 0.5, np.ceil(1./resolution), endpoint=False)\n"
     ]
    },
    {
     "name": "stdout",
     "output_type": "stream",
     "text": [
      "\n",
      "\n",
      "\n",
      "\n"
     ]
    },
    {
     "name": "stderr",
     "output_type": "stream",
     "text": [
      "/home/nvidia/github/python_environments/soundflux/lib/python3.5/site-packages/librosa/util/utils.py:828: FutureWarning: Using a non-tuple sequence for multidimensional indexing is deprecated; use `arr[tuple(seq)]` instead of `arr[seq]`. In the future this will be interpreted as an array index, `arr[np.array(seq)]`, which will result either in an error or a different result.\n",
      "  return (x > x_pad[inds1]) & (x >= x_pad[inds2])\n",
      "/home/nvidia/github/python_environments/soundflux/lib/python3.5/site-packages/librosa/core/pitch.py:159: DeprecationWarning: object of type <class 'numpy.float64'> cannot be safely interpreted as an integer.\n",
      "  bins = np.linspace(-0.5, 0.5, np.ceil(1./resolution), endpoint=False)\n"
     ]
    },
    {
     "name": "stdout",
     "output_type": "stream",
     "text": [
      "\n"
     ]
    },
    {
     "name": "stderr",
     "output_type": "stream",
     "text": [
      "/home/nvidia/github/python_environments/soundflux/lib/python3.5/site-packages/librosa/util/utils.py:828: FutureWarning: Using a non-tuple sequence for multidimensional indexing is deprecated; use `arr[tuple(seq)]` instead of `arr[seq]`. In the future this will be interpreted as an array index, `arr[np.array(seq)]`, which will result either in an error or a different result.\n",
      "  return (x > x_pad[inds1]) & (x >= x_pad[inds2])\n",
      "/home/nvidia/github/python_environments/soundflux/lib/python3.5/site-packages/librosa/core/pitch.py:159: DeprecationWarning: object of type <class 'numpy.float64'> cannot be safely interpreted as an integer.\n",
      "  bins = np.linspace(-0.5, 0.5, np.ceil(1./resolution), endpoint=False)\n"
     ]
    },
    {
     "name": "stdout",
     "output_type": "stream",
     "text": [
      "\n"
     ]
    },
    {
     "name": "stderr",
     "output_type": "stream",
     "text": [
      "/home/nvidia/github/python_environments/soundflux/lib/python3.5/site-packages/librosa/util/utils.py:828: FutureWarning: Using a non-tuple sequence for multidimensional indexing is deprecated; use `arr[tuple(seq)]` instead of `arr[seq]`. In the future this will be interpreted as an array index, `arr[np.array(seq)]`, which will result either in an error or a different result.\n",
      "  return (x > x_pad[inds1]) & (x >= x_pad[inds2])\n",
      "/home/nvidia/github/python_environments/soundflux/lib/python3.5/site-packages/librosa/core/pitch.py:159: DeprecationWarning: object of type <class 'numpy.float64'> cannot be safely interpreted as an integer.\n",
      "  bins = np.linspace(-0.5, 0.5, np.ceil(1./resolution), endpoint=False)\n"
     ]
    },
    {
     "name": "stdout",
     "output_type": "stream",
     "text": [
      "\n",
      "\n",
      "\n",
      "\n"
     ]
    },
    {
     "name": "stderr",
     "output_type": "stream",
     "text": [
      "/home/nvidia/github/python_environments/soundflux/lib/python3.5/site-packages/librosa/util/utils.py:828: FutureWarning: Using a non-tuple sequence for multidimensional indexing is deprecated; use `arr[tuple(seq)]` instead of `arr[seq]`. In the future this will be interpreted as an array index, `arr[np.array(seq)]`, which will result either in an error or a different result.\n",
      "  return (x > x_pad[inds1]) & (x >= x_pad[inds2])\n",
      "/home/nvidia/github/python_environments/soundflux/lib/python3.5/site-packages/librosa/core/pitch.py:159: DeprecationWarning: object of type <class 'numpy.float64'> cannot be safely interpreted as an integer.\n",
      "  bins = np.linspace(-0.5, 0.5, np.ceil(1./resolution), endpoint=False)\n",
      "/home/nvidia/github/python_environments/soundflux/lib/python3.5/site-packages/librosa/core/pitch.py:159: DeprecationWarning: object of type <class 'numpy.float64'> cannot be safely interpreted as an integer.\n",
      "  bins = np.linspace(-0.5, 0.5, np.ceil(1./resolution), endpoint=False)\n",
      "/home/nvidia/github/python_environments/soundflux/lib/python3.5/site-packages/librosa/core/pitch.py:159: DeprecationWarning: object of type <class 'numpy.float64'> cannot be safely interpreted as an integer.\n",
      "  bins = np.linspace(-0.5, 0.5, np.ceil(1./resolution), endpoint=False)\n"
     ]
    },
    {
     "name": "stdout",
     "output_type": "stream",
     "text": [
      "\n"
     ]
    },
    {
     "name": "stderr",
     "output_type": "stream",
     "text": [
      "/home/nvidia/github/python_environments/soundflux/lib/python3.5/site-packages/librosa/util/utils.py:828: FutureWarning: Using a non-tuple sequence for multidimensional indexing is deprecated; use `arr[tuple(seq)]` instead of `arr[seq]`. In the future this will be interpreted as an array index, `arr[np.array(seq)]`, which will result either in an error or a different result.\n",
      "  return (x > x_pad[inds1]) & (x >= x_pad[inds2])\n",
      "/home/nvidia/github/python_environments/soundflux/lib/python3.5/site-packages/librosa/core/pitch.py:159: DeprecationWarning: object of type <class 'numpy.float64'> cannot be safely interpreted as an integer.\n",
      "  bins = np.linspace(-0.5, 0.5, np.ceil(1./resolution), endpoint=False)\n"
     ]
    },
    {
     "name": "stdout",
     "output_type": "stream",
     "text": [
      "\n"
     ]
    },
    {
     "name": "stderr",
     "output_type": "stream",
     "text": [
      "/home/nvidia/github/python_environments/soundflux/lib/python3.5/site-packages/librosa/util/utils.py:828: FutureWarning: Using a non-tuple sequence for multidimensional indexing is deprecated; use `arr[tuple(seq)]` instead of `arr[seq]`. In the future this will be interpreted as an array index, `arr[np.array(seq)]`, which will result either in an error or a different result.\n",
      "  return (x > x_pad[inds1]) & (x >= x_pad[inds2])\n",
      "/home/nvidia/github/python_environments/soundflux/lib/python3.5/site-packages/librosa/core/pitch.py:159: DeprecationWarning: object of type <class 'numpy.float64'> cannot be safely interpreted as an integer.\n",
      "  bins = np.linspace(-0.5, 0.5, np.ceil(1./resolution), endpoint=False)\n"
     ]
    },
    {
     "name": "stdout",
     "output_type": "stream",
     "text": [
      "\n"
     ]
    },
    {
     "name": "stderr",
     "output_type": "stream",
     "text": [
      "/home/nvidia/github/python_environments/soundflux/lib/python3.5/site-packages/librosa/util/utils.py:828: FutureWarning: Using a non-tuple sequence for multidimensional indexing is deprecated; use `arr[tuple(seq)]` instead of `arr[seq]`. In the future this will be interpreted as an array index, `arr[np.array(seq)]`, which will result either in an error or a different result.\n",
      "  return (x > x_pad[inds1]) & (x >= x_pad[inds2])\n",
      "/home/nvidia/github/python_environments/soundflux/lib/python3.5/site-packages/librosa/core/pitch.py:159: DeprecationWarning: object of type <class 'numpy.float64'> cannot be safely interpreted as an integer.\n",
      "  bins = np.linspace(-0.5, 0.5, np.ceil(1./resolution), endpoint=False)\n"
     ]
    },
    {
     "name": "stdout",
     "output_type": "stream",
     "text": [
      "\n"
     ]
    },
    {
     "name": "stderr",
     "output_type": "stream",
     "text": [
      "/home/nvidia/github/python_environments/soundflux/lib/python3.5/site-packages/librosa/util/utils.py:828: FutureWarning: Using a non-tuple sequence for multidimensional indexing is deprecated; use `arr[tuple(seq)]` instead of `arr[seq]`. In the future this will be interpreted as an array index, `arr[np.array(seq)]`, which will result either in an error or a different result.\n",
      "  return (x > x_pad[inds1]) & (x >= x_pad[inds2])\n",
      "/home/nvidia/github/python_environments/soundflux/lib/python3.5/site-packages/librosa/core/pitch.py:159: DeprecationWarning: object of type <class 'numpy.float64'> cannot be safely interpreted as an integer.\n",
      "  bins = np.linspace(-0.5, 0.5, np.ceil(1./resolution), endpoint=False)\n"
     ]
    },
    {
     "name": "stdout",
     "output_type": "stream",
     "text": [
      "\n",
      "\n"
     ]
    },
    {
     "name": "stderr",
     "output_type": "stream",
     "text": [
      "/home/nvidia/github/python_environments/soundflux/lib/python3.5/site-packages/librosa/util/utils.py:828: FutureWarning: Using a non-tuple sequence for multidimensional indexing is deprecated; use `arr[tuple(seq)]` instead of `arr[seq]`. In the future this will be interpreted as an array index, `arr[np.array(seq)]`, which will result either in an error or a different result.\n",
      "  return (x > x_pad[inds1]) & (x >= x_pad[inds2])\n",
      "/home/nvidia/github/python_environments/soundflux/lib/python3.5/site-packages/librosa/core/pitch.py:159: DeprecationWarning: object of type <class 'numpy.float64'> cannot be safely interpreted as an integer.\n",
      "  bins = np.linspace(-0.5, 0.5, np.ceil(1./resolution), endpoint=False)\n",
      "/home/nvidia/github/python_environments/soundflux/lib/python3.5/site-packages/librosa/core/pitch.py:159: DeprecationWarning: object of type <class 'numpy.float64'> cannot be safely interpreted as an integer.\n",
      "  bins = np.linspace(-0.5, 0.5, np.ceil(1./resolution), endpoint=False)\n",
      "/home/nvidia/github/python_environments/soundflux/lib/python3.5/site-packages/librosa/core/pitch.py:159: DeprecationWarning: object of type <class 'numpy.float64'> cannot be safely interpreted as an integer.\n",
      "  bins = np.linspace(-0.5, 0.5, np.ceil(1./resolution), endpoint=False)\n",
      "/home/nvidia/github/python_environments/soundflux/lib/python3.5/site-packages/librosa/core/pitch.py:159: DeprecationWarning: object of type <class 'numpy.float64'> cannot be safely interpreted as an integer.\n",
      "  bins = np.linspace(-0.5, 0.5, np.ceil(1./resolution), endpoint=False)\n",
      "/home/nvidia/github/python_environments/soundflux/lib/python3.5/site-packages/librosa/core/pitch.py:159: DeprecationWarning: object of type <class 'numpy.float64'> cannot be safely interpreted as an integer.\n",
      "  bins = np.linspace(-0.5, 0.5, np.ceil(1./resolution), endpoint=False)\n",
      "/home/nvidia/github/python_environments/soundflux/lib/python3.5/site-packages/librosa/core/pitch.py:159: DeprecationWarning: object of type <class 'numpy.float64'> cannot be safely interpreted as an integer.\n",
      "  bins = np.linspace(-0.5, 0.5, np.ceil(1./resolution), endpoint=False)\n",
      "/home/nvidia/github/python_environments/soundflux/lib/python3.5/site-packages/librosa/core/pitch.py:159: DeprecationWarning: object of type <class 'numpy.float64'> cannot be safely interpreted as an integer.\n",
      "  bins = np.linspace(-0.5, 0.5, np.ceil(1./resolution), endpoint=False)\n",
      "/home/nvidia/github/python_environments/soundflux/lib/python3.5/site-packages/librosa/core/pitch.py:159: DeprecationWarning: object of type <class 'numpy.float64'> cannot be safely interpreted as an integer.\n",
      "  bins = np.linspace(-0.5, 0.5, np.ceil(1./resolution), endpoint=False)\n",
      "/home/nvidia/github/python_environments/soundflux/lib/python3.5/site-packages/librosa/core/pitch.py:159: DeprecationWarning: object of type <class 'numpy.float64'> cannot be safely interpreted as an integer.\n",
      "  bins = np.linspace(-0.5, 0.5, np.ceil(1./resolution), endpoint=False)\n"
     ]
    },
    {
     "name": "stdout",
     "output_type": "stream",
     "text": [
      "\n"
     ]
    },
    {
     "name": "stderr",
     "output_type": "stream",
     "text": [
      "/home/nvidia/github/python_environments/soundflux/lib/python3.5/site-packages/librosa/util/utils.py:828: FutureWarning: Using a non-tuple sequence for multidimensional indexing is deprecated; use `arr[tuple(seq)]` instead of `arr[seq]`. In the future this will be interpreted as an array index, `arr[np.array(seq)]`, which will result either in an error or a different result.\n",
      "  return (x > x_pad[inds1]) & (x >= x_pad[inds2])\n",
      "/home/nvidia/github/python_environments/soundflux/lib/python3.5/site-packages/librosa/core/pitch.py:159: DeprecationWarning: object of type <class 'numpy.float64'> cannot be safely interpreted as an integer.\n",
      "  bins = np.linspace(-0.5, 0.5, np.ceil(1./resolution), endpoint=False)\n"
     ]
    },
    {
     "name": "stdout",
     "output_type": "stream",
     "text": [
      "\n",
      "\n"
     ]
    },
    {
     "name": "stderr",
     "output_type": "stream",
     "text": [
      "/home/nvidia/github/python_environments/soundflux/lib/python3.5/site-packages/librosa/util/utils.py:828: FutureWarning: Using a non-tuple sequence for multidimensional indexing is deprecated; use `arr[tuple(seq)]` instead of `arr[seq]`. In the future this will be interpreted as an array index, `arr[np.array(seq)]`, which will result either in an error or a different result.\n",
      "  return (x > x_pad[inds1]) & (x >= x_pad[inds2])\n",
      "/home/nvidia/github/python_environments/soundflux/lib/python3.5/site-packages/librosa/core/pitch.py:159: DeprecationWarning: object of type <class 'numpy.float64'> cannot be safely interpreted as an integer.\n",
      "  bins = np.linspace(-0.5, 0.5, np.ceil(1./resolution), endpoint=False)\n"
     ]
    },
    {
     "name": "stdout",
     "output_type": "stream",
     "text": [
      "\n"
     ]
    },
    {
     "name": "stderr",
     "output_type": "stream",
     "text": [
      "/home/nvidia/github/python_environments/soundflux/lib/python3.5/site-packages/librosa/util/utils.py:828: FutureWarning: Using a non-tuple sequence for multidimensional indexing is deprecated; use `arr[tuple(seq)]` instead of `arr[seq]`. In the future this will be interpreted as an array index, `arr[np.array(seq)]`, which will result either in an error or a different result.\n",
      "  return (x > x_pad[inds1]) & (x >= x_pad[inds2])\n",
      "/home/nvidia/github/python_environments/soundflux/lib/python3.5/site-packages/librosa/core/pitch.py:159: DeprecationWarning: object of type <class 'numpy.float64'> cannot be safely interpreted as an integer.\n",
      "  bins = np.linspace(-0.5, 0.5, np.ceil(1./resolution), endpoint=False)\n",
      "/home/nvidia/github/python_environments/soundflux/lib/python3.5/site-packages/librosa/core/pitch.py:159: DeprecationWarning: object of type <class 'numpy.float64'> cannot be safely interpreted as an integer.\n",
      "  bins = np.linspace(-0.5, 0.5, np.ceil(1./resolution), endpoint=False)\n",
      "/home/nvidia/github/python_environments/soundflux/lib/python3.5/site-packages/librosa/core/pitch.py:159: DeprecationWarning: object of type <class 'numpy.float64'> cannot be safely interpreted as an integer.\n",
      "  bins = np.linspace(-0.5, 0.5, np.ceil(1./resolution), endpoint=False)\n",
      "/home/nvidia/github/python_environments/soundflux/lib/python3.5/site-packages/librosa/core/pitch.py:159: DeprecationWarning: object of type <class 'numpy.float64'> cannot be safely interpreted as an integer.\n",
      "  bins = np.linspace(-0.5, 0.5, np.ceil(1./resolution), endpoint=False)\n"
     ]
    },
    {
     "name": "stdout",
     "output_type": "stream",
     "text": [
      "\n",
      "\n"
     ]
    },
    {
     "name": "stderr",
     "output_type": "stream",
     "text": [
      "/home/nvidia/github/python_environments/soundflux/lib/python3.5/site-packages/librosa/util/utils.py:828: FutureWarning: Using a non-tuple sequence for multidimensional indexing is deprecated; use `arr[tuple(seq)]` instead of `arr[seq]`. In the future this will be interpreted as an array index, `arr[np.array(seq)]`, which will result either in an error or a different result.\n",
      "  return (x > x_pad[inds1]) & (x >= x_pad[inds2])\n",
      "/home/nvidia/github/python_environments/soundflux/lib/python3.5/site-packages/librosa/core/pitch.py:159: DeprecationWarning: object of type <class 'numpy.float64'> cannot be safely interpreted as an integer.\n",
      "  bins = np.linspace(-0.5, 0.5, np.ceil(1./resolution), endpoint=False)\n",
      "/home/nvidia/github/python_environments/soundflux/lib/python3.5/site-packages/librosa/core/pitch.py:159: DeprecationWarning: object of type <class 'numpy.float64'> cannot be safely interpreted as an integer.\n",
      "  bins = np.linspace(-0.5, 0.5, np.ceil(1./resolution), endpoint=False)\n",
      "/home/nvidia/github/python_environments/soundflux/lib/python3.5/site-packages/librosa/core/pitch.py:159: DeprecationWarning: object of type <class 'numpy.float64'> cannot be safely interpreted as an integer.\n",
      "  bins = np.linspace(-0.5, 0.5, np.ceil(1./resolution), endpoint=False)\n"
     ]
    },
    {
     "name": "stdout",
     "output_type": "stream",
     "text": [
      "\n",
      "\n",
      "\n",
      "\n",
      "\n",
      "\n",
      "\n",
      "\n",
      "\n",
      "\n"
     ]
    },
    {
     "name": "stderr",
     "output_type": "stream",
     "text": [
      "/home/nvidia/github/python_environments/soundflux/lib/python3.5/site-packages/librosa/util/utils.py:828: FutureWarning: Using a non-tuple sequence for multidimensional indexing is deprecated; use `arr[tuple(seq)]` instead of `arr[seq]`. In the future this will be interpreted as an array index, `arr[np.array(seq)]`, which will result either in an error or a different result.\n",
      "  return (x > x_pad[inds1]) & (x >= x_pad[inds2])\n",
      "/home/nvidia/github/python_environments/soundflux/lib/python3.5/site-packages/librosa/core/pitch.py:159: DeprecationWarning: object of type <class 'numpy.float64'> cannot be safely interpreted as an integer.\n",
      "  bins = np.linspace(-0.5, 0.5, np.ceil(1./resolution), endpoint=False)\n"
     ]
    },
    {
     "name": "stdout",
     "output_type": "stream",
     "text": [
      "\n"
     ]
    },
    {
     "name": "stderr",
     "output_type": "stream",
     "text": [
      "/home/nvidia/github/python_environments/soundflux/lib/python3.5/site-packages/librosa/util/utils.py:828: FutureWarning: Using a non-tuple sequence for multidimensional indexing is deprecated; use `arr[tuple(seq)]` instead of `arr[seq]`. In the future this will be interpreted as an array index, `arr[np.array(seq)]`, which will result either in an error or a different result.\n",
      "  return (x > x_pad[inds1]) & (x >= x_pad[inds2])\n",
      "/home/nvidia/github/python_environments/soundflux/lib/python3.5/site-packages/librosa/core/pitch.py:159: DeprecationWarning: object of type <class 'numpy.float64'> cannot be safely interpreted as an integer.\n",
      "  bins = np.linspace(-0.5, 0.5, np.ceil(1./resolution), endpoint=False)\n",
      "/home/nvidia/github/python_environments/soundflux/lib/python3.5/site-packages/librosa/core/pitch.py:159: DeprecationWarning: object of type <class 'numpy.float64'> cannot be safely interpreted as an integer.\n",
      "  bins = np.linspace(-0.5, 0.5, np.ceil(1./resolution), endpoint=False)\n"
     ]
    },
    {
     "name": "stdout",
     "output_type": "stream",
     "text": [
      "\n",
      "\n",
      "\n"
     ]
    },
    {
     "name": "stderr",
     "output_type": "stream",
     "text": [
      "/home/nvidia/github/python_environments/soundflux/lib/python3.5/site-packages/librosa/util/utils.py:828: FutureWarning: Using a non-tuple sequence for multidimensional indexing is deprecated; use `arr[tuple(seq)]` instead of `arr[seq]`. In the future this will be interpreted as an array index, `arr[np.array(seq)]`, which will result either in an error or a different result.\n",
      "  return (x > x_pad[inds1]) & (x >= x_pad[inds2])\n",
      "/home/nvidia/github/python_environments/soundflux/lib/python3.5/site-packages/librosa/core/pitch.py:159: DeprecationWarning: object of type <class 'numpy.float64'> cannot be safely interpreted as an integer.\n",
      "  bins = np.linspace(-0.5, 0.5, np.ceil(1./resolution), endpoint=False)\n",
      "/home/nvidia/github/python_environments/soundflux/lib/python3.5/site-packages/librosa/core/pitch.py:159: DeprecationWarning: object of type <class 'numpy.float64'> cannot be safely interpreted as an integer.\n",
      "  bins = np.linspace(-0.5, 0.5, np.ceil(1./resolution), endpoint=False)\n",
      "/home/nvidia/github/python_environments/soundflux/lib/python3.5/site-packages/librosa/core/pitch.py:159: DeprecationWarning: object of type <class 'numpy.float64'> cannot be safely interpreted as an integer.\n",
      "  bins = np.linspace(-0.5, 0.5, np.ceil(1./resolution), endpoint=False)\n",
      "/home/nvidia/github/python_environments/soundflux/lib/python3.5/site-packages/librosa/core/pitch.py:159: DeprecationWarning: object of type <class 'numpy.float64'> cannot be safely interpreted as an integer.\n",
      "  bins = np.linspace(-0.5, 0.5, np.ceil(1./resolution), endpoint=False)\n",
      "/home/nvidia/github/python_environments/soundflux/lib/python3.5/site-packages/librosa/core/pitch.py:159: DeprecationWarning: object of type <class 'numpy.float64'> cannot be safely interpreted as an integer.\n",
      "  bins = np.linspace(-0.5, 0.5, np.ceil(1./resolution), endpoint=False)\n",
      "/home/nvidia/github/python_environments/soundflux/lib/python3.5/site-packages/librosa/core/pitch.py:159: DeprecationWarning: object of type <class 'numpy.float64'> cannot be safely interpreted as an integer.\n",
      "  bins = np.linspace(-0.5, 0.5, np.ceil(1./resolution), endpoint=False)\n",
      "/home/nvidia/github/python_environments/soundflux/lib/python3.5/site-packages/librosa/core/pitch.py:159: DeprecationWarning: object of type <class 'numpy.float64'> cannot be safely interpreted as an integer.\n",
      "  bins = np.linspace(-0.5, 0.5, np.ceil(1./resolution), endpoint=False)\n",
      "/home/nvidia/github/python_environments/soundflux/lib/python3.5/site-packages/librosa/core/pitch.py:159: DeprecationWarning: object of type <class 'numpy.float64'> cannot be safely interpreted as an integer.\n",
      "  bins = np.linspace(-0.5, 0.5, np.ceil(1./resolution), endpoint=False)\n",
      "/home/nvidia/github/python_environments/soundflux/lib/python3.5/site-packages/librosa/core/pitch.py:159: DeprecationWarning: object of type <class 'numpy.float64'> cannot be safely interpreted as an integer.\n",
      "  bins = np.linspace(-0.5, 0.5, np.ceil(1./resolution), endpoint=False)\n"
     ]
    },
    {
     "name": "stdout",
     "output_type": "stream",
     "text": [
      "\n"
     ]
    },
    {
     "name": "stderr",
     "output_type": "stream",
     "text": [
      "/home/nvidia/github/python_environments/soundflux/lib/python3.5/site-packages/librosa/util/utils.py:828: FutureWarning: Using a non-tuple sequence for multidimensional indexing is deprecated; use `arr[tuple(seq)]` instead of `arr[seq]`. In the future this will be interpreted as an array index, `arr[np.array(seq)]`, which will result either in an error or a different result.\n",
      "  return (x > x_pad[inds1]) & (x >= x_pad[inds2])\n",
      "/home/nvidia/github/python_environments/soundflux/lib/python3.5/site-packages/librosa/core/pitch.py:159: DeprecationWarning: object of type <class 'numpy.float64'> cannot be safely interpreted as an integer.\n",
      "  bins = np.linspace(-0.5, 0.5, np.ceil(1./resolution), endpoint=False)\n",
      "/home/nvidia/github/python_environments/soundflux/lib/python3.5/site-packages/librosa/core/pitch.py:159: DeprecationWarning: object of type <class 'numpy.float64'> cannot be safely interpreted as an integer.\n",
      "  bins = np.linspace(-0.5, 0.5, np.ceil(1./resolution), endpoint=False)\n",
      "/home/nvidia/github/python_environments/soundflux/lib/python3.5/site-packages/librosa/core/pitch.py:159: DeprecationWarning: object of type <class 'numpy.float64'> cannot be safely interpreted as an integer.\n",
      "  bins = np.linspace(-0.5, 0.5, np.ceil(1./resolution), endpoint=False)\n",
      "/home/nvidia/github/python_environments/soundflux/lib/python3.5/site-packages/librosa/core/pitch.py:159: DeprecationWarning: object of type <class 'numpy.float64'> cannot be safely interpreted as an integer.\n",
      "  bins = np.linspace(-0.5, 0.5, np.ceil(1./resolution), endpoint=False)\n"
     ]
    },
    {
     "name": "stdout",
     "output_type": "stream",
     "text": [
      "\n"
     ]
    },
    {
     "name": "stderr",
     "output_type": "stream",
     "text": [
      "/home/nvidia/github/python_environments/soundflux/lib/python3.5/site-packages/librosa/util/utils.py:828: FutureWarning: Using a non-tuple sequence for multidimensional indexing is deprecated; use `arr[tuple(seq)]` instead of `arr[seq]`. In the future this will be interpreted as an array index, `arr[np.array(seq)]`, which will result either in an error or a different result.\n",
      "  return (x > x_pad[inds1]) & (x >= x_pad[inds2])\n",
      "/home/nvidia/github/python_environments/soundflux/lib/python3.5/site-packages/librosa/core/pitch.py:159: DeprecationWarning: object of type <class 'numpy.float64'> cannot be safely interpreted as an integer.\n",
      "  bins = np.linspace(-0.5, 0.5, np.ceil(1./resolution), endpoint=False)\n"
     ]
    },
    {
     "name": "stdout",
     "output_type": "stream",
     "text": [
      "\n",
      "\n"
     ]
    },
    {
     "name": "stderr",
     "output_type": "stream",
     "text": [
      "/home/nvidia/github/python_environments/soundflux/lib/python3.5/site-packages/librosa/util/utils.py:828: FutureWarning: Using a non-tuple sequence for multidimensional indexing is deprecated; use `arr[tuple(seq)]` instead of `arr[seq]`. In the future this will be interpreted as an array index, `arr[np.array(seq)]`, which will result either in an error or a different result.\n",
      "  return (x > x_pad[inds1]) & (x >= x_pad[inds2])\n",
      "/home/nvidia/github/python_environments/soundflux/lib/python3.5/site-packages/librosa/core/pitch.py:159: DeprecationWarning: object of type <class 'numpy.float64'> cannot be safely interpreted as an integer.\n",
      "  bins = np.linspace(-0.5, 0.5, np.ceil(1./resolution), endpoint=False)\n"
     ]
    },
    {
     "name": "stdout",
     "output_type": "stream",
     "text": [
      "\n"
     ]
    },
    {
     "name": "stderr",
     "output_type": "stream",
     "text": [
      "/home/nvidia/github/python_environments/soundflux/lib/python3.5/site-packages/librosa/util/utils.py:828: FutureWarning: Using a non-tuple sequence for multidimensional indexing is deprecated; use `arr[tuple(seq)]` instead of `arr[seq]`. In the future this will be interpreted as an array index, `arr[np.array(seq)]`, which will result either in an error or a different result.\n",
      "  return (x > x_pad[inds1]) & (x >= x_pad[inds2])\n",
      "/home/nvidia/github/python_environments/soundflux/lib/python3.5/site-packages/librosa/core/pitch.py:159: DeprecationWarning: object of type <class 'numpy.float64'> cannot be safely interpreted as an integer.\n",
      "  bins = np.linspace(-0.5, 0.5, np.ceil(1./resolution), endpoint=False)\n",
      "/home/nvidia/github/python_environments/soundflux/lib/python3.5/site-packages/librosa/core/pitch.py:159: DeprecationWarning: object of type <class 'numpy.float64'> cannot be safely interpreted as an integer.\n",
      "  bins = np.linspace(-0.5, 0.5, np.ceil(1./resolution), endpoint=False)\n"
     ]
    },
    {
     "name": "stdout",
     "output_type": "stream",
     "text": [
      "\n",
      "\n",
      "\n"
     ]
    },
    {
     "name": "stderr",
     "output_type": "stream",
     "text": [
      "/home/nvidia/github/python_environments/soundflux/lib/python3.5/site-packages/librosa/util/utils.py:828: FutureWarning: Using a non-tuple sequence for multidimensional indexing is deprecated; use `arr[tuple(seq)]` instead of `arr[seq]`. In the future this will be interpreted as an array index, `arr[np.array(seq)]`, which will result either in an error or a different result.\n",
      "  return (x > x_pad[inds1]) & (x >= x_pad[inds2])\n",
      "/home/nvidia/github/python_environments/soundflux/lib/python3.5/site-packages/librosa/core/pitch.py:159: DeprecationWarning: object of type <class 'numpy.float64'> cannot be safely interpreted as an integer.\n",
      "  bins = np.linspace(-0.5, 0.5, np.ceil(1./resolution), endpoint=False)\n"
     ]
    },
    {
     "name": "stdout",
     "output_type": "stream",
     "text": [
      "\n",
      "\n",
      "\n"
     ]
    },
    {
     "name": "stderr",
     "output_type": "stream",
     "text": [
      "/home/nvidia/github/python_environments/soundflux/lib/python3.5/site-packages/librosa/util/utils.py:828: FutureWarning: Using a non-tuple sequence for multidimensional indexing is deprecated; use `arr[tuple(seq)]` instead of `arr[seq]`. In the future this will be interpreted as an array index, `arr[np.array(seq)]`, which will result either in an error or a different result.\n",
      "  return (x > x_pad[inds1]) & (x >= x_pad[inds2])\n",
      "/home/nvidia/github/python_environments/soundflux/lib/python3.5/site-packages/librosa/core/pitch.py:159: DeprecationWarning: object of type <class 'numpy.float64'> cannot be safely interpreted as an integer.\n",
      "  bins = np.linspace(-0.5, 0.5, np.ceil(1./resolution), endpoint=False)\n",
      "/home/nvidia/github/python_environments/soundflux/lib/python3.5/site-packages/librosa/core/pitch.py:159: DeprecationWarning: object of type <class 'numpy.float64'> cannot be safely interpreted as an integer.\n",
      "  bins = np.linspace(-0.5, 0.5, np.ceil(1./resolution), endpoint=False)\n"
     ]
    },
    {
     "name": "stdout",
     "output_type": "stream",
     "text": [
      "\n",
      "\n",
      "\n",
      "\n"
     ]
    },
    {
     "name": "stderr",
     "output_type": "stream",
     "text": [
      "/home/nvidia/github/python_environments/soundflux/lib/python3.5/site-packages/librosa/util/utils.py:828: FutureWarning: Using a non-tuple sequence for multidimensional indexing is deprecated; use `arr[tuple(seq)]` instead of `arr[seq]`. In the future this will be interpreted as an array index, `arr[np.array(seq)]`, which will result either in an error or a different result.\n",
      "  return (x > x_pad[inds1]) & (x >= x_pad[inds2])\n",
      "/home/nvidia/github/python_environments/soundflux/lib/python3.5/site-packages/librosa/core/pitch.py:159: DeprecationWarning: object of type <class 'numpy.float64'> cannot be safely interpreted as an integer.\n",
      "  bins = np.linspace(-0.5, 0.5, np.ceil(1./resolution), endpoint=False)\n"
     ]
    },
    {
     "name": "stdout",
     "output_type": "stream",
     "text": [
      "\n",
      "\n"
     ]
    },
    {
     "name": "stderr",
     "output_type": "stream",
     "text": [
      "/home/nvidia/github/python_environments/soundflux/lib/python3.5/site-packages/librosa/util/utils.py:828: FutureWarning: Using a non-tuple sequence for multidimensional indexing is deprecated; use `arr[tuple(seq)]` instead of `arr[seq]`. In the future this will be interpreted as an array index, `arr[np.array(seq)]`, which will result either in an error or a different result.\n",
      "  return (x > x_pad[inds1]) & (x >= x_pad[inds2])\n",
      "/home/nvidia/github/python_environments/soundflux/lib/python3.5/site-packages/librosa/core/pitch.py:159: DeprecationWarning: object of type <class 'numpy.float64'> cannot be safely interpreted as an integer.\n",
      "  bins = np.linspace(-0.5, 0.5, np.ceil(1./resolution), endpoint=False)\n"
     ]
    },
    {
     "name": "stdout",
     "output_type": "stream",
     "text": [
      "\n"
     ]
    },
    {
     "name": "stderr",
     "output_type": "stream",
     "text": [
      "/home/nvidia/github/python_environments/soundflux/lib/python3.5/site-packages/librosa/util/utils.py:828: FutureWarning: Using a non-tuple sequence for multidimensional indexing is deprecated; use `arr[tuple(seq)]` instead of `arr[seq]`. In the future this will be interpreted as an array index, `arr[np.array(seq)]`, which will result either in an error or a different result.\n",
      "  return (x > x_pad[inds1]) & (x >= x_pad[inds2])\n",
      "/home/nvidia/github/python_environments/soundflux/lib/python3.5/site-packages/librosa/core/pitch.py:159: DeprecationWarning: object of type <class 'numpy.float64'> cannot be safely interpreted as an integer.\n",
      "  bins = np.linspace(-0.5, 0.5, np.ceil(1./resolution), endpoint=False)\n"
     ]
    },
    {
     "name": "stdout",
     "output_type": "stream",
     "text": [
      "\n"
     ]
    },
    {
     "name": "stderr",
     "output_type": "stream",
     "text": [
      "/home/nvidia/github/python_environments/soundflux/lib/python3.5/site-packages/librosa/util/utils.py:828: FutureWarning: Using a non-tuple sequence for multidimensional indexing is deprecated; use `arr[tuple(seq)]` instead of `arr[seq]`. In the future this will be interpreted as an array index, `arr[np.array(seq)]`, which will result either in an error or a different result.\n",
      "  return (x > x_pad[inds1]) & (x >= x_pad[inds2])\n",
      "/home/nvidia/github/python_environments/soundflux/lib/python3.5/site-packages/librosa/core/pitch.py:159: DeprecationWarning: object of type <class 'numpy.float64'> cannot be safely interpreted as an integer.\n",
      "  bins = np.linspace(-0.5, 0.5, np.ceil(1./resolution), endpoint=False)\n",
      "/home/nvidia/github/python_environments/soundflux/lib/python3.5/site-packages/librosa/core/pitch.py:159: DeprecationWarning: object of type <class 'numpy.float64'> cannot be safely interpreted as an integer.\n",
      "  bins = np.linspace(-0.5, 0.5, np.ceil(1./resolution), endpoint=False)\n",
      "/home/nvidia/github/python_environments/soundflux/lib/python3.5/site-packages/librosa/core/pitch.py:159: DeprecationWarning: object of type <class 'numpy.float64'> cannot be safely interpreted as an integer.\n",
      "  bins = np.linspace(-0.5, 0.5, np.ceil(1./resolution), endpoint=False)\n"
     ]
    },
    {
     "name": "stdout",
     "output_type": "stream",
     "text": [
      "\n",
      "\n"
     ]
    },
    {
     "name": "stderr",
     "output_type": "stream",
     "text": [
      "/home/nvidia/github/python_environments/soundflux/lib/python3.5/site-packages/librosa/util/utils.py:828: FutureWarning: Using a non-tuple sequence for multidimensional indexing is deprecated; use `arr[tuple(seq)]` instead of `arr[seq]`. In the future this will be interpreted as an array index, `arr[np.array(seq)]`, which will result either in an error or a different result.\n",
      "  return (x > x_pad[inds1]) & (x >= x_pad[inds2])\n",
      "/home/nvidia/github/python_environments/soundflux/lib/python3.5/site-packages/librosa/core/pitch.py:159: DeprecationWarning: object of type <class 'numpy.float64'> cannot be safely interpreted as an integer.\n",
      "  bins = np.linspace(-0.5, 0.5, np.ceil(1./resolution), endpoint=False)\n",
      "/home/nvidia/github/python_environments/soundflux/lib/python3.5/site-packages/librosa/core/pitch.py:159: DeprecationWarning: object of type <class 'numpy.float64'> cannot be safely interpreted as an integer.\n",
      "  bins = np.linspace(-0.5, 0.5, np.ceil(1./resolution), endpoint=False)\n"
     ]
    },
    {
     "name": "stdout",
     "output_type": "stream",
     "text": [
      "\n"
     ]
    },
    {
     "name": "stderr",
     "output_type": "stream",
     "text": [
      "/home/nvidia/github/python_environments/soundflux/lib/python3.5/site-packages/librosa/util/utils.py:828: FutureWarning: Using a non-tuple sequence for multidimensional indexing is deprecated; use `arr[tuple(seq)]` instead of `arr[seq]`. In the future this will be interpreted as an array index, `arr[np.array(seq)]`, which will result either in an error or a different result.\n",
      "  return (x > x_pad[inds1]) & (x >= x_pad[inds2])\n",
      "/home/nvidia/github/python_environments/soundflux/lib/python3.5/site-packages/librosa/core/pitch.py:159: DeprecationWarning: object of type <class 'numpy.float64'> cannot be safely interpreted as an integer.\n",
      "  bins = np.linspace(-0.5, 0.5, np.ceil(1./resolution), endpoint=False)\n",
      "/home/nvidia/github/python_environments/soundflux/lib/python3.5/site-packages/librosa/core/pitch.py:159: DeprecationWarning: object of type <class 'numpy.float64'> cannot be safely interpreted as an integer.\n",
      "  bins = np.linspace(-0.5, 0.5, np.ceil(1./resolution), endpoint=False)\n"
     ]
    },
    {
     "name": "stdout",
     "output_type": "stream",
     "text": [
      "\n",
      "\n"
     ]
    },
    {
     "name": "stderr",
     "output_type": "stream",
     "text": [
      "/home/nvidia/github/python_environments/soundflux/lib/python3.5/site-packages/librosa/util/utils.py:828: FutureWarning: Using a non-tuple sequence for multidimensional indexing is deprecated; use `arr[tuple(seq)]` instead of `arr[seq]`. In the future this will be interpreted as an array index, `arr[np.array(seq)]`, which will result either in an error or a different result.\n",
      "  return (x > x_pad[inds1]) & (x >= x_pad[inds2])\n",
      "/home/nvidia/github/python_environments/soundflux/lib/python3.5/site-packages/librosa/core/pitch.py:159: DeprecationWarning: object of type <class 'numpy.float64'> cannot be safely interpreted as an integer.\n",
      "  bins = np.linspace(-0.5, 0.5, np.ceil(1./resolution), endpoint=False)\n",
      "/home/nvidia/github/python_environments/soundflux/lib/python3.5/site-packages/librosa/core/pitch.py:159: DeprecationWarning: object of type <class 'numpy.float64'> cannot be safely interpreted as an integer.\n",
      "  bins = np.linspace(-0.5, 0.5, np.ceil(1./resolution), endpoint=False)\n",
      "/home/nvidia/github/python_environments/soundflux/lib/python3.5/site-packages/librosa/core/pitch.py:159: DeprecationWarning: object of type <class 'numpy.float64'> cannot be safely interpreted as an integer.\n",
      "  bins = np.linspace(-0.5, 0.5, np.ceil(1./resolution), endpoint=False)\n",
      "/home/nvidia/github/python_environments/soundflux/lib/python3.5/site-packages/librosa/core/pitch.py:159: DeprecationWarning: object of type <class 'numpy.float64'> cannot be safely interpreted as an integer.\n",
      "  bins = np.linspace(-0.5, 0.5, np.ceil(1./resolution), endpoint=False)\n"
     ]
    },
    {
     "name": "stdout",
     "output_type": "stream",
     "text": [
      "\n"
     ]
    },
    {
     "name": "stderr",
     "output_type": "stream",
     "text": [
      "/home/nvidia/github/python_environments/soundflux/lib/python3.5/site-packages/librosa/util/utils.py:828: FutureWarning: Using a non-tuple sequence for multidimensional indexing is deprecated; use `arr[tuple(seq)]` instead of `arr[seq]`. In the future this will be interpreted as an array index, `arr[np.array(seq)]`, which will result either in an error or a different result.\n",
      "  return (x > x_pad[inds1]) & (x >= x_pad[inds2])\n",
      "/home/nvidia/github/python_environments/soundflux/lib/python3.5/site-packages/librosa/core/pitch.py:159: DeprecationWarning: object of type <class 'numpy.float64'> cannot be safely interpreted as an integer.\n",
      "  bins = np.linspace(-0.5, 0.5, np.ceil(1./resolution), endpoint=False)\n",
      "/home/nvidia/github/python_environments/soundflux/lib/python3.5/site-packages/librosa/core/pitch.py:159: DeprecationWarning: object of type <class 'numpy.float64'> cannot be safely interpreted as an integer.\n",
      "  bins = np.linspace(-0.5, 0.5, np.ceil(1./resolution), endpoint=False)\n"
     ]
    },
    {
     "name": "stdout",
     "output_type": "stream",
     "text": [
      "\n",
      "\n",
      "\n",
      "\n",
      "\n"
     ]
    },
    {
     "name": "stderr",
     "output_type": "stream",
     "text": [
      "/home/nvidia/github/python_environments/soundflux/lib/python3.5/site-packages/librosa/util/utils.py:828: FutureWarning: Using a non-tuple sequence for multidimensional indexing is deprecated; use `arr[tuple(seq)]` instead of `arr[seq]`. In the future this will be interpreted as an array index, `arr[np.array(seq)]`, which will result either in an error or a different result.\n",
      "  return (x > x_pad[inds1]) & (x >= x_pad[inds2])\n",
      "/home/nvidia/github/python_environments/soundflux/lib/python3.5/site-packages/librosa/core/pitch.py:159: DeprecationWarning: object of type <class 'numpy.float64'> cannot be safely interpreted as an integer.\n",
      "  bins = np.linspace(-0.5, 0.5, np.ceil(1./resolution), endpoint=False)\n",
      "/home/nvidia/github/python_environments/soundflux/lib/python3.5/site-packages/librosa/core/pitch.py:159: DeprecationWarning: object of type <class 'numpy.float64'> cannot be safely interpreted as an integer.\n",
      "  bins = np.linspace(-0.5, 0.5, np.ceil(1./resolution), endpoint=False)\n",
      "/home/nvidia/github/python_environments/soundflux/lib/python3.5/site-packages/librosa/core/pitch.py:159: DeprecationWarning: object of type <class 'numpy.float64'> cannot be safely interpreted as an integer.\n",
      "  bins = np.linspace(-0.5, 0.5, np.ceil(1./resolution), endpoint=False)\n"
     ]
    },
    {
     "name": "stdout",
     "output_type": "stream",
     "text": [
      "\n",
      "\n"
     ]
    },
    {
     "name": "stderr",
     "output_type": "stream",
     "text": [
      "/home/nvidia/github/python_environments/soundflux/lib/python3.5/site-packages/librosa/util/utils.py:828: FutureWarning: Using a non-tuple sequence for multidimensional indexing is deprecated; use `arr[tuple(seq)]` instead of `arr[seq]`. In the future this will be interpreted as an array index, `arr[np.array(seq)]`, which will result either in an error or a different result.\n",
      "  return (x > x_pad[inds1]) & (x >= x_pad[inds2])\n",
      "/home/nvidia/github/python_environments/soundflux/lib/python3.5/site-packages/librosa/core/pitch.py:159: DeprecationWarning: object of type <class 'numpy.float64'> cannot be safely interpreted as an integer.\n",
      "  bins = np.linspace(-0.5, 0.5, np.ceil(1./resolution), endpoint=False)\n"
     ]
    },
    {
     "name": "stdout",
     "output_type": "stream",
     "text": [
      "\n",
      "\n",
      "\n",
      "\n",
      "\n",
      "\n"
     ]
    },
    {
     "name": "stderr",
     "output_type": "stream",
     "text": [
      "/home/nvidia/github/python_environments/soundflux/lib/python3.5/site-packages/librosa/util/utils.py:828: FutureWarning: Using a non-tuple sequence for multidimensional indexing is deprecated; use `arr[tuple(seq)]` instead of `arr[seq]`. In the future this will be interpreted as an array index, `arr[np.array(seq)]`, which will result either in an error or a different result.\n",
      "  return (x > x_pad[inds1]) & (x >= x_pad[inds2])\n",
      "/home/nvidia/github/python_environments/soundflux/lib/python3.5/site-packages/librosa/core/pitch.py:159: DeprecationWarning: object of type <class 'numpy.float64'> cannot be safely interpreted as an integer.\n",
      "  bins = np.linspace(-0.5, 0.5, np.ceil(1./resolution), endpoint=False)\n",
      "/home/nvidia/github/python_environments/soundflux/lib/python3.5/site-packages/librosa/core/pitch.py:159: DeprecationWarning: object of type <class 'numpy.float64'> cannot be safely interpreted as an integer.\n",
      "  bins = np.linspace(-0.5, 0.5, np.ceil(1./resolution), endpoint=False)\n",
      "/home/nvidia/github/python_environments/soundflux/lib/python3.5/site-packages/librosa/core/pitch.py:159: DeprecationWarning: object of type <class 'numpy.float64'> cannot be safely interpreted as an integer.\n",
      "  bins = np.linspace(-0.5, 0.5, np.ceil(1./resolution), endpoint=False)\n",
      "/home/nvidia/github/python_environments/soundflux/lib/python3.5/site-packages/librosa/core/pitch.py:159: DeprecationWarning: object of type <class 'numpy.float64'> cannot be safely interpreted as an integer.\n",
      "  bins = np.linspace(-0.5, 0.5, np.ceil(1./resolution), endpoint=False)\n"
     ]
    },
    {
     "name": "stdout",
     "output_type": "stream",
     "text": [
      "\n"
     ]
    },
    {
     "name": "stderr",
     "output_type": "stream",
     "text": [
      "/home/nvidia/github/python_environments/soundflux/lib/python3.5/site-packages/librosa/util/utils.py:828: FutureWarning: Using a non-tuple sequence for multidimensional indexing is deprecated; use `arr[tuple(seq)]` instead of `arr[seq]`. In the future this will be interpreted as an array index, `arr[np.array(seq)]`, which will result either in an error or a different result.\n",
      "  return (x > x_pad[inds1]) & (x >= x_pad[inds2])\n",
      "/home/nvidia/github/python_environments/soundflux/lib/python3.5/site-packages/librosa/core/pitch.py:159: DeprecationWarning: object of type <class 'numpy.float64'> cannot be safely interpreted as an integer.\n",
      "  bins = np.linspace(-0.5, 0.5, np.ceil(1./resolution), endpoint=False)\n"
     ]
    },
    {
     "name": "stdout",
     "output_type": "stream",
     "text": [
      "\n"
     ]
    },
    {
     "name": "stderr",
     "output_type": "stream",
     "text": [
      "/home/nvidia/github/python_environments/soundflux/lib/python3.5/site-packages/librosa/util/utils.py:828: FutureWarning: Using a non-tuple sequence for multidimensional indexing is deprecated; use `arr[tuple(seq)]` instead of `arr[seq]`. In the future this will be interpreted as an array index, `arr[np.array(seq)]`, which will result either in an error or a different result.\n",
      "  return (x > x_pad[inds1]) & (x >= x_pad[inds2])\n",
      "/home/nvidia/github/python_environments/soundflux/lib/python3.5/site-packages/librosa/core/pitch.py:159: DeprecationWarning: object of type <class 'numpy.float64'> cannot be safely interpreted as an integer.\n",
      "  bins = np.linspace(-0.5, 0.5, np.ceil(1./resolution), endpoint=False)\n",
      "/home/nvidia/github/python_environments/soundflux/lib/python3.5/site-packages/librosa/core/pitch.py:159: DeprecationWarning: object of type <class 'numpy.float64'> cannot be safely interpreted as an integer.\n",
      "  bins = np.linspace(-0.5, 0.5, np.ceil(1./resolution), endpoint=False)\n",
      "/home/nvidia/github/python_environments/soundflux/lib/python3.5/site-packages/librosa/core/pitch.py:159: DeprecationWarning: object of type <class 'numpy.float64'> cannot be safely interpreted as an integer.\n",
      "  bins = np.linspace(-0.5, 0.5, np.ceil(1./resolution), endpoint=False)\n",
      "/home/nvidia/github/python_environments/soundflux/lib/python3.5/site-packages/librosa/core/pitch.py:159: DeprecationWarning: object of type <class 'numpy.float64'> cannot be safely interpreted as an integer.\n",
      "  bins = np.linspace(-0.5, 0.5, np.ceil(1./resolution), endpoint=False)\n",
      "/home/nvidia/github/python_environments/soundflux/lib/python3.5/site-packages/librosa/core/pitch.py:159: DeprecationWarning: object of type <class 'numpy.float64'> cannot be safely interpreted as an integer.\n",
      "  bins = np.linspace(-0.5, 0.5, np.ceil(1./resolution), endpoint=False)\n"
     ]
    },
    {
     "name": "stdout",
     "output_type": "stream",
     "text": [
      "\n",
      "\n",
      "\n"
     ]
    },
    {
     "name": "stderr",
     "output_type": "stream",
     "text": [
      "/home/nvidia/github/python_environments/soundflux/lib/python3.5/site-packages/librosa/util/utils.py:828: FutureWarning: Using a non-tuple sequence for multidimensional indexing is deprecated; use `arr[tuple(seq)]` instead of `arr[seq]`. In the future this will be interpreted as an array index, `arr[np.array(seq)]`, which will result either in an error or a different result.\n",
      "  return (x > x_pad[inds1]) & (x >= x_pad[inds2])\n",
      "/home/nvidia/github/python_environments/soundflux/lib/python3.5/site-packages/librosa/core/pitch.py:159: DeprecationWarning: object of type <class 'numpy.float64'> cannot be safely interpreted as an integer.\n",
      "  bins = np.linspace(-0.5, 0.5, np.ceil(1./resolution), endpoint=False)\n"
     ]
    },
    {
     "name": "stdout",
     "output_type": "stream",
     "text": [
      "\n",
      "\n"
     ]
    },
    {
     "name": "stderr",
     "output_type": "stream",
     "text": [
      "/home/nvidia/github/python_environments/soundflux/lib/python3.5/site-packages/librosa/util/utils.py:828: FutureWarning: Using a non-tuple sequence for multidimensional indexing is deprecated; use `arr[tuple(seq)]` instead of `arr[seq]`. In the future this will be interpreted as an array index, `arr[np.array(seq)]`, which will result either in an error or a different result.\n",
      "  return (x > x_pad[inds1]) & (x >= x_pad[inds2])\n",
      "/home/nvidia/github/python_environments/soundflux/lib/python3.5/site-packages/librosa/core/pitch.py:159: DeprecationWarning: object of type <class 'numpy.float64'> cannot be safely interpreted as an integer.\n",
      "  bins = np.linspace(-0.5, 0.5, np.ceil(1./resolution), endpoint=False)\n",
      "/home/nvidia/github/python_environments/soundflux/lib/python3.5/site-packages/librosa/core/pitch.py:159: DeprecationWarning: object of type <class 'numpy.float64'> cannot be safely interpreted as an integer.\n",
      "  bins = np.linspace(-0.5, 0.5, np.ceil(1./resolution), endpoint=False)\n"
     ]
    },
    {
     "name": "stdout",
     "output_type": "stream",
     "text": [
      "\n"
     ]
    },
    {
     "name": "stderr",
     "output_type": "stream",
     "text": [
      "/home/nvidia/github/python_environments/soundflux/lib/python3.5/site-packages/librosa/util/utils.py:828: FutureWarning: Using a non-tuple sequence for multidimensional indexing is deprecated; use `arr[tuple(seq)]` instead of `arr[seq]`. In the future this will be interpreted as an array index, `arr[np.array(seq)]`, which will result either in an error or a different result.\n",
      "  return (x > x_pad[inds1]) & (x >= x_pad[inds2])\n",
      "/home/nvidia/github/python_environments/soundflux/lib/python3.5/site-packages/librosa/core/pitch.py:159: DeprecationWarning: object of type <class 'numpy.float64'> cannot be safely interpreted as an integer.\n",
      "  bins = np.linspace(-0.5, 0.5, np.ceil(1./resolution), endpoint=False)\n"
     ]
    },
    {
     "name": "stdout",
     "output_type": "stream",
     "text": [
      "\n",
      "\n",
      "\n"
     ]
    },
    {
     "name": "stderr",
     "output_type": "stream",
     "text": [
      "/home/nvidia/github/python_environments/soundflux/lib/python3.5/site-packages/librosa/util/utils.py:828: FutureWarning: Using a non-tuple sequence for multidimensional indexing is deprecated; use `arr[tuple(seq)]` instead of `arr[seq]`. In the future this will be interpreted as an array index, `arr[np.array(seq)]`, which will result either in an error or a different result.\n",
      "  return (x > x_pad[inds1]) & (x >= x_pad[inds2])\n",
      "/home/nvidia/github/python_environments/soundflux/lib/python3.5/site-packages/librosa/core/pitch.py:159: DeprecationWarning: object of type <class 'numpy.float64'> cannot be safely interpreted as an integer.\n",
      "  bins = np.linspace(-0.5, 0.5, np.ceil(1./resolution), endpoint=False)\n"
     ]
    },
    {
     "name": "stdout",
     "output_type": "stream",
     "text": [
      "\n",
      "\n",
      "\n",
      "\n",
      "\n"
     ]
    },
    {
     "name": "stderr",
     "output_type": "stream",
     "text": [
      "/home/nvidia/github/python_environments/soundflux/lib/python3.5/site-packages/librosa/util/utils.py:828: FutureWarning: Using a non-tuple sequence for multidimensional indexing is deprecated; use `arr[tuple(seq)]` instead of `arr[seq]`. In the future this will be interpreted as an array index, `arr[np.array(seq)]`, which will result either in an error or a different result.\n",
      "  return (x > x_pad[inds1]) & (x >= x_pad[inds2])\n",
      "/home/nvidia/github/python_environments/soundflux/lib/python3.5/site-packages/librosa/core/pitch.py:159: DeprecationWarning: object of type <class 'numpy.float64'> cannot be safely interpreted as an integer.\n",
      "  bins = np.linspace(-0.5, 0.5, np.ceil(1./resolution), endpoint=False)\n",
      "/home/nvidia/github/python_environments/soundflux/lib/python3.5/site-packages/librosa/core/pitch.py:159: DeprecationWarning: object of type <class 'numpy.float64'> cannot be safely interpreted as an integer.\n",
      "  bins = np.linspace(-0.5, 0.5, np.ceil(1./resolution), endpoint=False)\n",
      "/home/nvidia/github/python_environments/soundflux/lib/python3.5/site-packages/librosa/core/pitch.py:159: DeprecationWarning: object of type <class 'numpy.float64'> cannot be safely interpreted as an integer.\n",
      "  bins = np.linspace(-0.5, 0.5, np.ceil(1./resolution), endpoint=False)\n"
     ]
    },
    {
     "name": "stdout",
     "output_type": "stream",
     "text": [
      "\n"
     ]
    },
    {
     "name": "stderr",
     "output_type": "stream",
     "text": [
      "/home/nvidia/github/python_environments/soundflux/lib/python3.5/site-packages/librosa/util/utils.py:828: FutureWarning: Using a non-tuple sequence for multidimensional indexing is deprecated; use `arr[tuple(seq)]` instead of `arr[seq]`. In the future this will be interpreted as an array index, `arr[np.array(seq)]`, which will result either in an error or a different result.\n",
      "  return (x > x_pad[inds1]) & (x >= x_pad[inds2])\n",
      "/home/nvidia/github/python_environments/soundflux/lib/python3.5/site-packages/librosa/core/pitch.py:159: DeprecationWarning: object of type <class 'numpy.float64'> cannot be safely interpreted as an integer.\n",
      "  bins = np.linspace(-0.5, 0.5, np.ceil(1./resolution), endpoint=False)\n"
     ]
    },
    {
     "name": "stdout",
     "output_type": "stream",
     "text": [
      "\n",
      "\n",
      "\n"
     ]
    },
    {
     "name": "stderr",
     "output_type": "stream",
     "text": [
      "/home/nvidia/github/python_environments/soundflux/lib/python3.5/site-packages/librosa/util/utils.py:828: FutureWarning: Using a non-tuple sequence for multidimensional indexing is deprecated; use `arr[tuple(seq)]` instead of `arr[seq]`. In the future this will be interpreted as an array index, `arr[np.array(seq)]`, which will result either in an error or a different result.\n",
      "  return (x > x_pad[inds1]) & (x >= x_pad[inds2])\n",
      "/home/nvidia/github/python_environments/soundflux/lib/python3.5/site-packages/librosa/core/pitch.py:159: DeprecationWarning: object of type <class 'numpy.float64'> cannot be safely interpreted as an integer.\n",
      "  bins = np.linspace(-0.5, 0.5, np.ceil(1./resolution), endpoint=False)\n",
      "/home/nvidia/github/python_environments/soundflux/lib/python3.5/site-packages/librosa/core/pitch.py:159: DeprecationWarning: object of type <class 'numpy.float64'> cannot be safely interpreted as an integer.\n",
      "  bins = np.linspace(-0.5, 0.5, np.ceil(1./resolution), endpoint=False)\n",
      "/home/nvidia/github/python_environments/soundflux/lib/python3.5/site-packages/librosa/core/pitch.py:159: DeprecationWarning: object of type <class 'numpy.float64'> cannot be safely interpreted as an integer.\n",
      "  bins = np.linspace(-0.5, 0.5, np.ceil(1./resolution), endpoint=False)\n"
     ]
    },
    {
     "name": "stdout",
     "output_type": "stream",
     "text": [
      "\n",
      "\n",
      "\n"
     ]
    },
    {
     "name": "stderr",
     "output_type": "stream",
     "text": [
      "/home/nvidia/github/python_environments/soundflux/lib/python3.5/site-packages/librosa/util/utils.py:828: FutureWarning: Using a non-tuple sequence for multidimensional indexing is deprecated; use `arr[tuple(seq)]` instead of `arr[seq]`. In the future this will be interpreted as an array index, `arr[np.array(seq)]`, which will result either in an error or a different result.\n",
      "  return (x > x_pad[inds1]) & (x >= x_pad[inds2])\n",
      "/home/nvidia/github/python_environments/soundflux/lib/python3.5/site-packages/librosa/core/pitch.py:159: DeprecationWarning: object of type <class 'numpy.float64'> cannot be safely interpreted as an integer.\n",
      "  bins = np.linspace(-0.5, 0.5, np.ceil(1./resolution), endpoint=False)\n"
     ]
    },
    {
     "name": "stdout",
     "output_type": "stream",
     "text": [
      "\n"
     ]
    },
    {
     "name": "stderr",
     "output_type": "stream",
     "text": [
      "/home/nvidia/github/python_environments/soundflux/lib/python3.5/site-packages/librosa/util/utils.py:828: FutureWarning: Using a non-tuple sequence for multidimensional indexing is deprecated; use `arr[tuple(seq)]` instead of `arr[seq]`. In the future this will be interpreted as an array index, `arr[np.array(seq)]`, which will result either in an error or a different result.\n",
      "  return (x > x_pad[inds1]) & (x >= x_pad[inds2])\n",
      "/home/nvidia/github/python_environments/soundflux/lib/python3.5/site-packages/librosa/core/pitch.py:159: DeprecationWarning: object of type <class 'numpy.float64'> cannot be safely interpreted as an integer.\n",
      "  bins = np.linspace(-0.5, 0.5, np.ceil(1./resolution), endpoint=False)\n",
      "/home/nvidia/github/python_environments/soundflux/lib/python3.5/site-packages/librosa/core/pitch.py:159: DeprecationWarning: object of type <class 'numpy.float64'> cannot be safely interpreted as an integer.\n",
      "  bins = np.linspace(-0.5, 0.5, np.ceil(1./resolution), endpoint=False)\n",
      "/home/nvidia/github/python_environments/soundflux/lib/python3.5/site-packages/librosa/core/pitch.py:159: DeprecationWarning: object of type <class 'numpy.float64'> cannot be safely interpreted as an integer.\n",
      "  bins = np.linspace(-0.5, 0.5, np.ceil(1./resolution), endpoint=False)\n",
      "/home/nvidia/github/python_environments/soundflux/lib/python3.5/site-packages/librosa/core/pitch.py:159: DeprecationWarning: object of type <class 'numpy.float64'> cannot be safely interpreted as an integer.\n",
      "  bins = np.linspace(-0.5, 0.5, np.ceil(1./resolution), endpoint=False)\n",
      "/home/nvidia/github/python_environments/soundflux/lib/python3.5/site-packages/librosa/core/pitch.py:159: DeprecationWarning: object of type <class 'numpy.float64'> cannot be safely interpreted as an integer.\n",
      "  bins = np.linspace(-0.5, 0.5, np.ceil(1./resolution), endpoint=False)\n",
      "/home/nvidia/github/python_environments/soundflux/lib/python3.5/site-packages/librosa/core/pitch.py:159: DeprecationWarning: object of type <class 'numpy.float64'> cannot be safely interpreted as an integer.\n",
      "  bins = np.linspace(-0.5, 0.5, np.ceil(1./resolution), endpoint=False)\n",
      "/home/nvidia/github/python_environments/soundflux/lib/python3.5/site-packages/librosa/core/pitch.py:159: DeprecationWarning: object of type <class 'numpy.float64'> cannot be safely interpreted as an integer.\n",
      "  bins = np.linspace(-0.5, 0.5, np.ceil(1./resolution), endpoint=False)\n",
      "/home/nvidia/github/python_environments/soundflux/lib/python3.5/site-packages/librosa/core/pitch.py:159: DeprecationWarning: object of type <class 'numpy.float64'> cannot be safely interpreted as an integer.\n",
      "  bins = np.linspace(-0.5, 0.5, np.ceil(1./resolution), endpoint=False)\n",
      "/home/nvidia/github/python_environments/soundflux/lib/python3.5/site-packages/librosa/core/pitch.py:159: DeprecationWarning: object of type <class 'numpy.float64'> cannot be safely interpreted as an integer.\n",
      "  bins = np.linspace(-0.5, 0.5, np.ceil(1./resolution), endpoint=False)\n"
     ]
    },
    {
     "name": "stdout",
     "output_type": "stream",
     "text": [
      "\n"
     ]
    },
    {
     "name": "stderr",
     "output_type": "stream",
     "text": [
      "/home/nvidia/github/python_environments/soundflux/lib/python3.5/site-packages/librosa/util/utils.py:828: FutureWarning: Using a non-tuple sequence for multidimensional indexing is deprecated; use `arr[tuple(seq)]` instead of `arr[seq]`. In the future this will be interpreted as an array index, `arr[np.array(seq)]`, which will result either in an error or a different result.\n",
      "  return (x > x_pad[inds1]) & (x >= x_pad[inds2])\n",
      "/home/nvidia/github/python_environments/soundflux/lib/python3.5/site-packages/librosa/core/pitch.py:159: DeprecationWarning: object of type <class 'numpy.float64'> cannot be safely interpreted as an integer.\n",
      "  bins = np.linspace(-0.5, 0.5, np.ceil(1./resolution), endpoint=False)\n",
      "/home/nvidia/github/python_environments/soundflux/lib/python3.5/site-packages/librosa/core/pitch.py:159: DeprecationWarning: object of type <class 'numpy.float64'> cannot be safely interpreted as an integer.\n",
      "  bins = np.linspace(-0.5, 0.5, np.ceil(1./resolution), endpoint=False)\n",
      "/home/nvidia/github/python_environments/soundflux/lib/python3.5/site-packages/librosa/core/pitch.py:159: DeprecationWarning: object of type <class 'numpy.float64'> cannot be safely interpreted as an integer.\n",
      "  bins = np.linspace(-0.5, 0.5, np.ceil(1./resolution), endpoint=False)\n"
     ]
    },
    {
     "name": "stdout",
     "output_type": "stream",
     "text": [
      "\n"
     ]
    },
    {
     "name": "stderr",
     "output_type": "stream",
     "text": [
      "/home/nvidia/github/python_environments/soundflux/lib/python3.5/site-packages/librosa/util/utils.py:828: FutureWarning: Using a non-tuple sequence for multidimensional indexing is deprecated; use `arr[tuple(seq)]` instead of `arr[seq]`. In the future this will be interpreted as an array index, `arr[np.array(seq)]`, which will result either in an error or a different result.\n",
      "  return (x > x_pad[inds1]) & (x >= x_pad[inds2])\n",
      "/home/nvidia/github/python_environments/soundflux/lib/python3.5/site-packages/librosa/core/pitch.py:159: DeprecationWarning: object of type <class 'numpy.float64'> cannot be safely interpreted as an integer.\n",
      "  bins = np.linspace(-0.5, 0.5, np.ceil(1./resolution), endpoint=False)\n",
      "/home/nvidia/github/python_environments/soundflux/lib/python3.5/site-packages/librosa/core/pitch.py:159: DeprecationWarning: object of type <class 'numpy.float64'> cannot be safely interpreted as an integer.\n",
      "  bins = np.linspace(-0.5, 0.5, np.ceil(1./resolution), endpoint=False)\n",
      "/home/nvidia/github/python_environments/soundflux/lib/python3.5/site-packages/librosa/core/pitch.py:159: DeprecationWarning: object of type <class 'numpy.float64'> cannot be safely interpreted as an integer.\n",
      "  bins = np.linspace(-0.5, 0.5, np.ceil(1./resolution), endpoint=False)\n"
     ]
    },
    {
     "name": "stdout",
     "output_type": "stream",
     "text": [
      "\n"
     ]
    },
    {
     "name": "stderr",
     "output_type": "stream",
     "text": [
      "/home/nvidia/github/python_environments/soundflux/lib/python3.5/site-packages/librosa/util/utils.py:828: FutureWarning: Using a non-tuple sequence for multidimensional indexing is deprecated; use `arr[tuple(seq)]` instead of `arr[seq]`. In the future this will be interpreted as an array index, `arr[np.array(seq)]`, which will result either in an error or a different result.\n",
      "  return (x > x_pad[inds1]) & (x >= x_pad[inds2])\n",
      "/home/nvidia/github/python_environments/soundflux/lib/python3.5/site-packages/librosa/core/pitch.py:159: DeprecationWarning: object of type <class 'numpy.float64'> cannot be safely interpreted as an integer.\n",
      "  bins = np.linspace(-0.5, 0.5, np.ceil(1./resolution), endpoint=False)\n"
     ]
    },
    {
     "name": "stdout",
     "output_type": "stream",
     "text": [
      "\n"
     ]
    },
    {
     "name": "stderr",
     "output_type": "stream",
     "text": [
      "/home/nvidia/github/python_environments/soundflux/lib/python3.5/site-packages/librosa/util/utils.py:828: FutureWarning: Using a non-tuple sequence for multidimensional indexing is deprecated; use `arr[tuple(seq)]` instead of `arr[seq]`. In the future this will be interpreted as an array index, `arr[np.array(seq)]`, which will result either in an error or a different result.\n",
      "  return (x > x_pad[inds1]) & (x >= x_pad[inds2])\n",
      "/home/nvidia/github/python_environments/soundflux/lib/python3.5/site-packages/librosa/core/pitch.py:159: DeprecationWarning: object of type <class 'numpy.float64'> cannot be safely interpreted as an integer.\n",
      "  bins = np.linspace(-0.5, 0.5, np.ceil(1./resolution), endpoint=False)\n"
     ]
    },
    {
     "name": "stdout",
     "output_type": "stream",
     "text": [
      "\n"
     ]
    },
    {
     "name": "stderr",
     "output_type": "stream",
     "text": [
      "/home/nvidia/github/python_environments/soundflux/lib/python3.5/site-packages/librosa/util/utils.py:828: FutureWarning: Using a non-tuple sequence for multidimensional indexing is deprecated; use `arr[tuple(seq)]` instead of `arr[seq]`. In the future this will be interpreted as an array index, `arr[np.array(seq)]`, which will result either in an error or a different result.\n",
      "  return (x > x_pad[inds1]) & (x >= x_pad[inds2])\n",
      "/home/nvidia/github/python_environments/soundflux/lib/python3.5/site-packages/librosa/core/pitch.py:159: DeprecationWarning: object of type <class 'numpy.float64'> cannot be safely interpreted as an integer.\n",
      "  bins = np.linspace(-0.5, 0.5, np.ceil(1./resolution), endpoint=False)\n",
      "/home/nvidia/github/python_environments/soundflux/lib/python3.5/site-packages/librosa/core/pitch.py:159: DeprecationWarning: object of type <class 'numpy.float64'> cannot be safely interpreted as an integer.\n",
      "  bins = np.linspace(-0.5, 0.5, np.ceil(1./resolution), endpoint=False)\n"
     ]
    },
    {
     "name": "stdout",
     "output_type": "stream",
     "text": [
      "\n"
     ]
    },
    {
     "name": "stderr",
     "output_type": "stream",
     "text": [
      "/home/nvidia/github/python_environments/soundflux/lib/python3.5/site-packages/librosa/util/utils.py:828: FutureWarning: Using a non-tuple sequence for multidimensional indexing is deprecated; use `arr[tuple(seq)]` instead of `arr[seq]`. In the future this will be interpreted as an array index, `arr[np.array(seq)]`, which will result either in an error or a different result.\n",
      "  return (x > x_pad[inds1]) & (x >= x_pad[inds2])\n",
      "/home/nvidia/github/python_environments/soundflux/lib/python3.5/site-packages/librosa/core/pitch.py:159: DeprecationWarning: object of type <class 'numpy.float64'> cannot be safely interpreted as an integer.\n",
      "  bins = np.linspace(-0.5, 0.5, np.ceil(1./resolution), endpoint=False)\n"
     ]
    },
    {
     "name": "stdout",
     "output_type": "stream",
     "text": [
      "\n",
      "\n",
      "\n",
      "\n"
     ]
    },
    {
     "name": "stderr",
     "output_type": "stream",
     "text": [
      "/home/nvidia/github/python_environments/soundflux/lib/python3.5/site-packages/librosa/util/utils.py:828: FutureWarning: Using a non-tuple sequence for multidimensional indexing is deprecated; use `arr[tuple(seq)]` instead of `arr[seq]`. In the future this will be interpreted as an array index, `arr[np.array(seq)]`, which will result either in an error or a different result.\n",
      "  return (x > x_pad[inds1]) & (x >= x_pad[inds2])\n",
      "/home/nvidia/github/python_environments/soundflux/lib/python3.5/site-packages/librosa/core/pitch.py:159: DeprecationWarning: object of type <class 'numpy.float64'> cannot be safely interpreted as an integer.\n",
      "  bins = np.linspace(-0.5, 0.5, np.ceil(1./resolution), endpoint=False)\n",
      "/home/nvidia/github/python_environments/soundflux/lib/python3.5/site-packages/librosa/core/pitch.py:159: DeprecationWarning: object of type <class 'numpy.float64'> cannot be safely interpreted as an integer.\n",
      "  bins = np.linspace(-0.5, 0.5, np.ceil(1./resolution), endpoint=False)\n"
     ]
    },
    {
     "name": "stdout",
     "output_type": "stream",
     "text": [
      "\n"
     ]
    },
    {
     "name": "stderr",
     "output_type": "stream",
     "text": [
      "/home/nvidia/github/python_environments/soundflux/lib/python3.5/site-packages/librosa/util/utils.py:828: FutureWarning: Using a non-tuple sequence for multidimensional indexing is deprecated; use `arr[tuple(seq)]` instead of `arr[seq]`. In the future this will be interpreted as an array index, `arr[np.array(seq)]`, which will result either in an error or a different result.\n",
      "  return (x > x_pad[inds1]) & (x >= x_pad[inds2])\n",
      "/home/nvidia/github/python_environments/soundflux/lib/python3.5/site-packages/librosa/core/pitch.py:159: DeprecationWarning: object of type <class 'numpy.float64'> cannot be safely interpreted as an integer.\n",
      "  bins = np.linspace(-0.5, 0.5, np.ceil(1./resolution), endpoint=False)\n"
     ]
    },
    {
     "name": "stdout",
     "output_type": "stream",
     "text": [
      "\n",
      "\n"
     ]
    },
    {
     "name": "stderr",
     "output_type": "stream",
     "text": [
      "/home/nvidia/github/python_environments/soundflux/lib/python3.5/site-packages/librosa/util/utils.py:828: FutureWarning: Using a non-tuple sequence for multidimensional indexing is deprecated; use `arr[tuple(seq)]` instead of `arr[seq]`. In the future this will be interpreted as an array index, `arr[np.array(seq)]`, which will result either in an error or a different result.\n",
      "  return (x > x_pad[inds1]) & (x >= x_pad[inds2])\n",
      "/home/nvidia/github/python_environments/soundflux/lib/python3.5/site-packages/librosa/core/pitch.py:159: DeprecationWarning: object of type <class 'numpy.float64'> cannot be safely interpreted as an integer.\n",
      "  bins = np.linspace(-0.5, 0.5, np.ceil(1./resolution), endpoint=False)\n",
      "/home/nvidia/github/python_environments/soundflux/lib/python3.5/site-packages/librosa/core/pitch.py:159: DeprecationWarning: object of type <class 'numpy.float64'> cannot be safely interpreted as an integer.\n",
      "  bins = np.linspace(-0.5, 0.5, np.ceil(1./resolution), endpoint=False)\n",
      "/home/nvidia/github/python_environments/soundflux/lib/python3.5/site-packages/librosa/core/pitch.py:159: DeprecationWarning: object of type <class 'numpy.float64'> cannot be safely interpreted as an integer.\n",
      "  bins = np.linspace(-0.5, 0.5, np.ceil(1./resolution), endpoint=False)\n",
      "/home/nvidia/github/python_environments/soundflux/lib/python3.5/site-packages/librosa/core/pitch.py:159: DeprecationWarning: object of type <class 'numpy.float64'> cannot be safely interpreted as an integer.\n",
      "  bins = np.linspace(-0.5, 0.5, np.ceil(1./resolution), endpoint=False)\n"
     ]
    },
    {
     "name": "stdout",
     "output_type": "stream",
     "text": [
      "\n"
     ]
    },
    {
     "name": "stderr",
     "output_type": "stream",
     "text": [
      "/home/nvidia/github/python_environments/soundflux/lib/python3.5/site-packages/librosa/util/utils.py:828: FutureWarning: Using a non-tuple sequence for multidimensional indexing is deprecated; use `arr[tuple(seq)]` instead of `arr[seq]`. In the future this will be interpreted as an array index, `arr[np.array(seq)]`, which will result either in an error or a different result.\n",
      "  return (x > x_pad[inds1]) & (x >= x_pad[inds2])\n",
      "/home/nvidia/github/python_environments/soundflux/lib/python3.5/site-packages/librosa/core/pitch.py:159: DeprecationWarning: object of type <class 'numpy.float64'> cannot be safely interpreted as an integer.\n",
      "  bins = np.linspace(-0.5, 0.5, np.ceil(1./resolution), endpoint=False)\n",
      "/home/nvidia/github/python_environments/soundflux/lib/python3.5/site-packages/librosa/core/pitch.py:159: DeprecationWarning: object of type <class 'numpy.float64'> cannot be safely interpreted as an integer.\n",
      "  bins = np.linspace(-0.5, 0.5, np.ceil(1./resolution), endpoint=False)\n",
      "/home/nvidia/github/python_environments/soundflux/lib/python3.5/site-packages/librosa/core/pitch.py:159: DeprecationWarning: object of type <class 'numpy.float64'> cannot be safely interpreted as an integer.\n",
      "  bins = np.linspace(-0.5, 0.5, np.ceil(1./resolution), endpoint=False)\n",
      "/home/nvidia/github/python_environments/soundflux/lib/python3.5/site-packages/librosa/core/pitch.py:159: DeprecationWarning: object of type <class 'numpy.float64'> cannot be safely interpreted as an integer.\n",
      "  bins = np.linspace(-0.5, 0.5, np.ceil(1./resolution), endpoint=False)\n",
      "/home/nvidia/github/python_environments/soundflux/lib/python3.5/site-packages/librosa/core/pitch.py:159: DeprecationWarning: object of type <class 'numpy.float64'> cannot be safely interpreted as an integer.\n",
      "  bins = np.linspace(-0.5, 0.5, np.ceil(1./resolution), endpoint=False)\n",
      "/home/nvidia/github/python_environments/soundflux/lib/python3.5/site-packages/librosa/core/pitch.py:159: DeprecationWarning: object of type <class 'numpy.float64'> cannot be safely interpreted as an integer.\n",
      "  bins = np.linspace(-0.5, 0.5, np.ceil(1./resolution), endpoint=False)\n",
      "/home/nvidia/github/python_environments/soundflux/lib/python3.5/site-packages/librosa/core/pitch.py:159: DeprecationWarning: object of type <class 'numpy.float64'> cannot be safely interpreted as an integer.\n",
      "  bins = np.linspace(-0.5, 0.5, np.ceil(1./resolution), endpoint=False)\n"
     ]
    },
    {
     "name": "stdout",
     "output_type": "stream",
     "text": [
      "\n",
      "\n"
     ]
    },
    {
     "name": "stderr",
     "output_type": "stream",
     "text": [
      "/home/nvidia/github/python_environments/soundflux/lib/python3.5/site-packages/librosa/util/utils.py:828: FutureWarning: Using a non-tuple sequence for multidimensional indexing is deprecated; use `arr[tuple(seq)]` instead of `arr[seq]`. In the future this will be interpreted as an array index, `arr[np.array(seq)]`, which will result either in an error or a different result.\n",
      "  return (x > x_pad[inds1]) & (x >= x_pad[inds2])\n",
      "/home/nvidia/github/python_environments/soundflux/lib/python3.5/site-packages/librosa/core/pitch.py:159: DeprecationWarning: object of type <class 'numpy.float64'> cannot be safely interpreted as an integer.\n",
      "  bins = np.linspace(-0.5, 0.5, np.ceil(1./resolution), endpoint=False)\n"
     ]
    },
    {
     "name": "stdout",
     "output_type": "stream",
     "text": [
      "\n",
      "\n"
     ]
    },
    {
     "name": "stderr",
     "output_type": "stream",
     "text": [
      "/home/nvidia/github/python_environments/soundflux/lib/python3.5/site-packages/librosa/util/utils.py:828: FutureWarning: Using a non-tuple sequence for multidimensional indexing is deprecated; use `arr[tuple(seq)]` instead of `arr[seq]`. In the future this will be interpreted as an array index, `arr[np.array(seq)]`, which will result either in an error or a different result.\n",
      "  return (x > x_pad[inds1]) & (x >= x_pad[inds2])\n",
      "/home/nvidia/github/python_environments/soundflux/lib/python3.5/site-packages/librosa/core/pitch.py:159: DeprecationWarning: object of type <class 'numpy.float64'> cannot be safely interpreted as an integer.\n",
      "  bins = np.linspace(-0.5, 0.5, np.ceil(1./resolution), endpoint=False)\n",
      "/home/nvidia/github/python_environments/soundflux/lib/python3.5/site-packages/librosa/core/pitch.py:159: DeprecationWarning: object of type <class 'numpy.float64'> cannot be safely interpreted as an integer.\n",
      "  bins = np.linspace(-0.5, 0.5, np.ceil(1./resolution), endpoint=False)\n"
     ]
    },
    {
     "name": "stdout",
     "output_type": "stream",
     "text": [
      "\n"
     ]
    },
    {
     "name": "stderr",
     "output_type": "stream",
     "text": [
      "/home/nvidia/github/python_environments/soundflux/lib/python3.5/site-packages/librosa/util/utils.py:828: FutureWarning: Using a non-tuple sequence for multidimensional indexing is deprecated; use `arr[tuple(seq)]` instead of `arr[seq]`. In the future this will be interpreted as an array index, `arr[np.array(seq)]`, which will result either in an error or a different result.\n",
      "  return (x > x_pad[inds1]) & (x >= x_pad[inds2])\n",
      "/home/nvidia/github/python_environments/soundflux/lib/python3.5/site-packages/librosa/core/pitch.py:159: DeprecationWarning: object of type <class 'numpy.float64'> cannot be safely interpreted as an integer.\n",
      "  bins = np.linspace(-0.5, 0.5, np.ceil(1./resolution), endpoint=False)\n",
      "/home/nvidia/github/python_environments/soundflux/lib/python3.5/site-packages/librosa/core/pitch.py:159: DeprecationWarning: object of type <class 'numpy.float64'> cannot be safely interpreted as an integer.\n",
      "  bins = np.linspace(-0.5, 0.5, np.ceil(1./resolution), endpoint=False)\n",
      "/home/nvidia/github/python_environments/soundflux/lib/python3.5/site-packages/librosa/core/pitch.py:159: DeprecationWarning: object of type <class 'numpy.float64'> cannot be safely interpreted as an integer.\n",
      "  bins = np.linspace(-0.5, 0.5, np.ceil(1./resolution), endpoint=False)\n",
      "/home/nvidia/github/python_environments/soundflux/lib/python3.5/site-packages/librosa/core/pitch.py:159: DeprecationWarning: object of type <class 'numpy.float64'> cannot be safely interpreted as an integer.\n",
      "  bins = np.linspace(-0.5, 0.5, np.ceil(1./resolution), endpoint=False)\n"
     ]
    },
    {
     "name": "stdout",
     "output_type": "stream",
     "text": [
      "\n",
      "\n"
     ]
    },
    {
     "name": "stderr",
     "output_type": "stream",
     "text": [
      "/home/nvidia/github/python_environments/soundflux/lib/python3.5/site-packages/librosa/util/utils.py:828: FutureWarning: Using a non-tuple sequence for multidimensional indexing is deprecated; use `arr[tuple(seq)]` instead of `arr[seq]`. In the future this will be interpreted as an array index, `arr[np.array(seq)]`, which will result either in an error or a different result.\n",
      "  return (x > x_pad[inds1]) & (x >= x_pad[inds2])\n",
      "/home/nvidia/github/python_environments/soundflux/lib/python3.5/site-packages/librosa/core/pitch.py:159: DeprecationWarning: object of type <class 'numpy.float64'> cannot be safely interpreted as an integer.\n",
      "  bins = np.linspace(-0.5, 0.5, np.ceil(1./resolution), endpoint=False)\n"
     ]
    },
    {
     "name": "stdout",
     "output_type": "stream",
     "text": [
      "\n"
     ]
    },
    {
     "name": "stderr",
     "output_type": "stream",
     "text": [
      "/home/nvidia/github/python_environments/soundflux/lib/python3.5/site-packages/librosa/util/utils.py:828: FutureWarning: Using a non-tuple sequence for multidimensional indexing is deprecated; use `arr[tuple(seq)]` instead of `arr[seq]`. In the future this will be interpreted as an array index, `arr[np.array(seq)]`, which will result either in an error or a different result.\n",
      "  return (x > x_pad[inds1]) & (x >= x_pad[inds2])\n",
      "/home/nvidia/github/python_environments/soundflux/lib/python3.5/site-packages/librosa/core/pitch.py:159: DeprecationWarning: object of type <class 'numpy.float64'> cannot be safely interpreted as an integer.\n",
      "  bins = np.linspace(-0.5, 0.5, np.ceil(1./resolution), endpoint=False)\n"
     ]
    },
    {
     "name": "stdout",
     "output_type": "stream",
     "text": [
      "\n",
      "\n",
      "\n"
     ]
    },
    {
     "name": "stderr",
     "output_type": "stream",
     "text": [
      "/home/nvidia/github/python_environments/soundflux/lib/python3.5/site-packages/librosa/util/utils.py:828: FutureWarning: Using a non-tuple sequence for multidimensional indexing is deprecated; use `arr[tuple(seq)]` instead of `arr[seq]`. In the future this will be interpreted as an array index, `arr[np.array(seq)]`, which will result either in an error or a different result.\n",
      "  return (x > x_pad[inds1]) & (x >= x_pad[inds2])\n",
      "/home/nvidia/github/python_environments/soundflux/lib/python3.5/site-packages/librosa/core/pitch.py:159: DeprecationWarning: object of type <class 'numpy.float64'> cannot be safely interpreted as an integer.\n",
      "  bins = np.linspace(-0.5, 0.5, np.ceil(1./resolution), endpoint=False)\n",
      "/home/nvidia/github/python_environments/soundflux/lib/python3.5/site-packages/librosa/core/pitch.py:159: DeprecationWarning: object of type <class 'numpy.float64'> cannot be safely interpreted as an integer.\n",
      "  bins = np.linspace(-0.5, 0.5, np.ceil(1./resolution), endpoint=False)\n"
     ]
    },
    {
     "name": "stdout",
     "output_type": "stream",
     "text": [
      "\n",
      "\n",
      "\n",
      "\n",
      "\n",
      "\n"
     ]
    },
    {
     "name": "stderr",
     "output_type": "stream",
     "text": [
      "/home/nvidia/github/python_environments/soundflux/lib/python3.5/site-packages/librosa/util/utils.py:828: FutureWarning: Using a non-tuple sequence for multidimensional indexing is deprecated; use `arr[tuple(seq)]` instead of `arr[seq]`. In the future this will be interpreted as an array index, `arr[np.array(seq)]`, which will result either in an error or a different result.\n",
      "  return (x > x_pad[inds1]) & (x >= x_pad[inds2])\n",
      "/home/nvidia/github/python_environments/soundflux/lib/python3.5/site-packages/librosa/core/pitch.py:159: DeprecationWarning: object of type <class 'numpy.float64'> cannot be safely interpreted as an integer.\n",
      "  bins = np.linspace(-0.5, 0.5, np.ceil(1./resolution), endpoint=False)\n",
      "/home/nvidia/github/python_environments/soundflux/lib/python3.5/site-packages/librosa/core/pitch.py:159: DeprecationWarning: object of type <class 'numpy.float64'> cannot be safely interpreted as an integer.\n",
      "  bins = np.linspace(-0.5, 0.5, np.ceil(1./resolution), endpoint=False)\n"
     ]
    },
    {
     "name": "stdout",
     "output_type": "stream",
     "text": [
      "\n"
     ]
    },
    {
     "name": "stderr",
     "output_type": "stream",
     "text": [
      "/home/nvidia/github/python_environments/soundflux/lib/python3.5/site-packages/librosa/util/utils.py:828: FutureWarning: Using a non-tuple sequence for multidimensional indexing is deprecated; use `arr[tuple(seq)]` instead of `arr[seq]`. In the future this will be interpreted as an array index, `arr[np.array(seq)]`, which will result either in an error or a different result.\n",
      "  return (x > x_pad[inds1]) & (x >= x_pad[inds2])\n",
      "/home/nvidia/github/python_environments/soundflux/lib/python3.5/site-packages/librosa/core/pitch.py:159: DeprecationWarning: object of type <class 'numpy.float64'> cannot be safely interpreted as an integer.\n",
      "  bins = np.linspace(-0.5, 0.5, np.ceil(1./resolution), endpoint=False)\n",
      "/home/nvidia/github/python_environments/soundflux/lib/python3.5/site-packages/librosa/core/pitch.py:159: DeprecationWarning: object of type <class 'numpy.float64'> cannot be safely interpreted as an integer.\n",
      "  bins = np.linspace(-0.5, 0.5, np.ceil(1./resolution), endpoint=False)\n",
      "/home/nvidia/github/python_environments/soundflux/lib/python3.5/site-packages/librosa/core/pitch.py:159: DeprecationWarning: object of type <class 'numpy.float64'> cannot be safely interpreted as an integer.\n",
      "  bins = np.linspace(-0.5, 0.5, np.ceil(1./resolution), endpoint=False)\n",
      "/home/nvidia/github/python_environments/soundflux/lib/python3.5/site-packages/librosa/core/pitch.py:159: DeprecationWarning: object of type <class 'numpy.float64'> cannot be safely interpreted as an integer.\n",
      "  bins = np.linspace(-0.5, 0.5, np.ceil(1./resolution), endpoint=False)\n",
      "/home/nvidia/github/python_environments/soundflux/lib/python3.5/site-packages/librosa/core/pitch.py:159: DeprecationWarning: object of type <class 'numpy.float64'> cannot be safely interpreted as an integer.\n",
      "  bins = np.linspace(-0.5, 0.5, np.ceil(1./resolution), endpoint=False)\n",
      "/home/nvidia/github/python_environments/soundflux/lib/python3.5/site-packages/librosa/core/pitch.py:159: DeprecationWarning: object of type <class 'numpy.float64'> cannot be safely interpreted as an integer.\n",
      "  bins = np.linspace(-0.5, 0.5, np.ceil(1./resolution), endpoint=False)\n",
      "/home/nvidia/github/python_environments/soundflux/lib/python3.5/site-packages/librosa/core/pitch.py:159: DeprecationWarning: object of type <class 'numpy.float64'> cannot be safely interpreted as an integer.\n",
      "  bins = np.linspace(-0.5, 0.5, np.ceil(1./resolution), endpoint=False)\n"
     ]
    },
    {
     "name": "stdout",
     "output_type": "stream",
     "text": [
      "\n",
      "\n"
     ]
    },
    {
     "name": "stderr",
     "output_type": "stream",
     "text": [
      "/home/nvidia/github/python_environments/soundflux/lib/python3.5/site-packages/librosa/util/utils.py:828: FutureWarning: Using a non-tuple sequence for multidimensional indexing is deprecated; use `arr[tuple(seq)]` instead of `arr[seq]`. In the future this will be interpreted as an array index, `arr[np.array(seq)]`, which will result either in an error or a different result.\n",
      "  return (x > x_pad[inds1]) & (x >= x_pad[inds2])\n",
      "/home/nvidia/github/python_environments/soundflux/lib/python3.5/site-packages/librosa/core/pitch.py:159: DeprecationWarning: object of type <class 'numpy.float64'> cannot be safely interpreted as an integer.\n",
      "  bins = np.linspace(-0.5, 0.5, np.ceil(1./resolution), endpoint=False)\n",
      "/home/nvidia/github/python_environments/soundflux/lib/python3.5/site-packages/librosa/core/pitch.py:159: DeprecationWarning: object of type <class 'numpy.float64'> cannot be safely interpreted as an integer.\n",
      "  bins = np.linspace(-0.5, 0.5, np.ceil(1./resolution), endpoint=False)\n",
      "/home/nvidia/github/python_environments/soundflux/lib/python3.5/site-packages/librosa/core/pitch.py:159: DeprecationWarning: object of type <class 'numpy.float64'> cannot be safely interpreted as an integer.\n",
      "  bins = np.linspace(-0.5, 0.5, np.ceil(1./resolution), endpoint=False)\n",
      "/home/nvidia/github/python_environments/soundflux/lib/python3.5/site-packages/librosa/core/pitch.py:159: DeprecationWarning: object of type <class 'numpy.float64'> cannot be safely interpreted as an integer.\n",
      "  bins = np.linspace(-0.5, 0.5, np.ceil(1./resolution), endpoint=False)\n"
     ]
    },
    {
     "name": "stdout",
     "output_type": "stream",
     "text": [
      "\n",
      "\n"
     ]
    },
    {
     "name": "stderr",
     "output_type": "stream",
     "text": [
      "/home/nvidia/github/python_environments/soundflux/lib/python3.5/site-packages/librosa/util/utils.py:828: FutureWarning: Using a non-tuple sequence for multidimensional indexing is deprecated; use `arr[tuple(seq)]` instead of `arr[seq]`. In the future this will be interpreted as an array index, `arr[np.array(seq)]`, which will result either in an error or a different result.\n",
      "  return (x > x_pad[inds1]) & (x >= x_pad[inds2])\n",
      "/home/nvidia/github/python_environments/soundflux/lib/python3.5/site-packages/librosa/core/pitch.py:159: DeprecationWarning: object of type <class 'numpy.float64'> cannot be safely interpreted as an integer.\n",
      "  bins = np.linspace(-0.5, 0.5, np.ceil(1./resolution), endpoint=False)\n",
      "/home/nvidia/github/python_environments/soundflux/lib/python3.5/site-packages/librosa/core/pitch.py:159: DeprecationWarning: object of type <class 'numpy.float64'> cannot be safely interpreted as an integer.\n",
      "  bins = np.linspace(-0.5, 0.5, np.ceil(1./resolution), endpoint=False)\n",
      "/home/nvidia/github/python_environments/soundflux/lib/python3.5/site-packages/librosa/core/pitch.py:159: DeprecationWarning: object of type <class 'numpy.float64'> cannot be safely interpreted as an integer.\n",
      "  bins = np.linspace(-0.5, 0.5, np.ceil(1./resolution), endpoint=False)\n",
      "/home/nvidia/github/python_environments/soundflux/lib/python3.5/site-packages/librosa/core/pitch.py:159: DeprecationWarning: object of type <class 'numpy.float64'> cannot be safely interpreted as an integer.\n",
      "  bins = np.linspace(-0.5, 0.5, np.ceil(1./resolution), endpoint=False)\n",
      "/home/nvidia/github/python_environments/soundflux/lib/python3.5/site-packages/librosa/core/pitch.py:159: DeprecationWarning: object of type <class 'numpy.float64'> cannot be safely interpreted as an integer.\n",
      "  bins = np.linspace(-0.5, 0.5, np.ceil(1./resolution), endpoint=False)\n",
      "/home/nvidia/github/python_environments/soundflux/lib/python3.5/site-packages/librosa/core/pitch.py:159: DeprecationWarning: object of type <class 'numpy.float64'> cannot be safely interpreted as an integer.\n",
      "  bins = np.linspace(-0.5, 0.5, np.ceil(1./resolution), endpoint=False)\n"
     ]
    },
    {
     "name": "stdout",
     "output_type": "stream",
     "text": [
      "\n",
      "\n"
     ]
    },
    {
     "name": "stderr",
     "output_type": "stream",
     "text": [
      "/home/nvidia/github/python_environments/soundflux/lib/python3.5/site-packages/librosa/util/utils.py:828: FutureWarning: Using a non-tuple sequence for multidimensional indexing is deprecated; use `arr[tuple(seq)]` instead of `arr[seq]`. In the future this will be interpreted as an array index, `arr[np.array(seq)]`, which will result either in an error or a different result.\n",
      "  return (x > x_pad[inds1]) & (x >= x_pad[inds2])\n",
      "/home/nvidia/github/python_environments/soundflux/lib/python3.5/site-packages/librosa/core/pitch.py:159: DeprecationWarning: object of type <class 'numpy.float64'> cannot be safely interpreted as an integer.\n",
      "  bins = np.linspace(-0.5, 0.5, np.ceil(1./resolution), endpoint=False)\n"
     ]
    },
    {
     "name": "stdout",
     "output_type": "stream",
     "text": [
      "\n"
     ]
    },
    {
     "name": "stderr",
     "output_type": "stream",
     "text": [
      "/home/nvidia/github/python_environments/soundflux/lib/python3.5/site-packages/librosa/util/utils.py:828: FutureWarning: Using a non-tuple sequence for multidimensional indexing is deprecated; use `arr[tuple(seq)]` instead of `arr[seq]`. In the future this will be interpreted as an array index, `arr[np.array(seq)]`, which will result either in an error or a different result.\n",
      "  return (x > x_pad[inds1]) & (x >= x_pad[inds2])\n",
      "/home/nvidia/github/python_environments/soundflux/lib/python3.5/site-packages/librosa/core/pitch.py:159: DeprecationWarning: object of type <class 'numpy.float64'> cannot be safely interpreted as an integer.\n",
      "  bins = np.linspace(-0.5, 0.5, np.ceil(1./resolution), endpoint=False)\n",
      "/home/nvidia/github/python_environments/soundflux/lib/python3.5/site-packages/librosa/core/pitch.py:159: DeprecationWarning: object of type <class 'numpy.float64'> cannot be safely interpreted as an integer.\n",
      "  bins = np.linspace(-0.5, 0.5, np.ceil(1./resolution), endpoint=False)\n",
      "/home/nvidia/github/python_environments/soundflux/lib/python3.5/site-packages/librosa/core/pitch.py:159: DeprecationWarning: object of type <class 'numpy.float64'> cannot be safely interpreted as an integer.\n",
      "  bins = np.linspace(-0.5, 0.5, np.ceil(1./resolution), endpoint=False)\n",
      "/home/nvidia/github/python_environments/soundflux/lib/python3.5/site-packages/librosa/core/pitch.py:159: DeprecationWarning: object of type <class 'numpy.float64'> cannot be safely interpreted as an integer.\n",
      "  bins = np.linspace(-0.5, 0.5, np.ceil(1./resolution), endpoint=False)\n",
      "/home/nvidia/github/python_environments/soundflux/lib/python3.5/site-packages/librosa/core/pitch.py:159: DeprecationWarning: object of type <class 'numpy.float64'> cannot be safely interpreted as an integer.\n",
      "  bins = np.linspace(-0.5, 0.5, np.ceil(1./resolution), endpoint=False)\n",
      "/home/nvidia/github/python_environments/soundflux/lib/python3.5/site-packages/librosa/core/pitch.py:159: DeprecationWarning: object of type <class 'numpy.float64'> cannot be safely interpreted as an integer.\n",
      "  bins = np.linspace(-0.5, 0.5, np.ceil(1./resolution), endpoint=False)\n",
      "/home/nvidia/github/python_environments/soundflux/lib/python3.5/site-packages/librosa/core/pitch.py:159: DeprecationWarning: object of type <class 'numpy.float64'> cannot be safely interpreted as an integer.\n",
      "  bins = np.linspace(-0.5, 0.5, np.ceil(1./resolution), endpoint=False)\n"
     ]
    },
    {
     "name": "stdout",
     "output_type": "stream",
     "text": [
      "\n",
      "\n"
     ]
    },
    {
     "name": "stderr",
     "output_type": "stream",
     "text": [
      "/home/nvidia/github/python_environments/soundflux/lib/python3.5/site-packages/librosa/util/utils.py:828: FutureWarning: Using a non-tuple sequence for multidimensional indexing is deprecated; use `arr[tuple(seq)]` instead of `arr[seq]`. In the future this will be interpreted as an array index, `arr[np.array(seq)]`, which will result either in an error or a different result.\n",
      "  return (x > x_pad[inds1]) & (x >= x_pad[inds2])\n",
      "/home/nvidia/github/python_environments/soundflux/lib/python3.5/site-packages/librosa/core/pitch.py:159: DeprecationWarning: object of type <class 'numpy.float64'> cannot be safely interpreted as an integer.\n",
      "  bins = np.linspace(-0.5, 0.5, np.ceil(1./resolution), endpoint=False)\n"
     ]
    },
    {
     "name": "stdout",
     "output_type": "stream",
     "text": [
      "\n",
      "\n"
     ]
    },
    {
     "name": "stderr",
     "output_type": "stream",
     "text": [
      "/home/nvidia/github/python_environments/soundflux/lib/python3.5/site-packages/librosa/util/utils.py:828: FutureWarning: Using a non-tuple sequence for multidimensional indexing is deprecated; use `arr[tuple(seq)]` instead of `arr[seq]`. In the future this will be interpreted as an array index, `arr[np.array(seq)]`, which will result either in an error or a different result.\n",
      "  return (x > x_pad[inds1]) & (x >= x_pad[inds2])\n",
      "/home/nvidia/github/python_environments/soundflux/lib/python3.5/site-packages/librosa/core/pitch.py:159: DeprecationWarning: object of type <class 'numpy.float64'> cannot be safely interpreted as an integer.\n",
      "  bins = np.linspace(-0.5, 0.5, np.ceil(1./resolution), endpoint=False)\n",
      "/home/nvidia/github/python_environments/soundflux/lib/python3.5/site-packages/librosa/core/pitch.py:159: DeprecationWarning: object of type <class 'numpy.float64'> cannot be safely interpreted as an integer.\n",
      "  bins = np.linspace(-0.5, 0.5, np.ceil(1./resolution), endpoint=False)\n",
      "/home/nvidia/github/python_environments/soundflux/lib/python3.5/site-packages/librosa/core/pitch.py:159: DeprecationWarning: object of type <class 'numpy.float64'> cannot be safely interpreted as an integer.\n",
      "  bins = np.linspace(-0.5, 0.5, np.ceil(1./resolution), endpoint=False)\n",
      "/home/nvidia/github/python_environments/soundflux/lib/python3.5/site-packages/librosa/core/pitch.py:159: DeprecationWarning: object of type <class 'numpy.float64'> cannot be safely interpreted as an integer.\n",
      "  bins = np.linspace(-0.5, 0.5, np.ceil(1./resolution), endpoint=False)\n"
     ]
    },
    {
     "name": "stdout",
     "output_type": "stream",
     "text": [
      "\n"
     ]
    },
    {
     "name": "stderr",
     "output_type": "stream",
     "text": [
      "/home/nvidia/github/python_environments/soundflux/lib/python3.5/site-packages/librosa/util/utils.py:828: FutureWarning: Using a non-tuple sequence for multidimensional indexing is deprecated; use `arr[tuple(seq)]` instead of `arr[seq]`. In the future this will be interpreted as an array index, `arr[np.array(seq)]`, which will result either in an error or a different result.\n",
      "  return (x > x_pad[inds1]) & (x >= x_pad[inds2])\n",
      "/home/nvidia/github/python_environments/soundflux/lib/python3.5/site-packages/librosa/core/pitch.py:159: DeprecationWarning: object of type <class 'numpy.float64'> cannot be safely interpreted as an integer.\n",
      "  bins = np.linspace(-0.5, 0.5, np.ceil(1./resolution), endpoint=False)\n",
      "/home/nvidia/github/python_environments/soundflux/lib/python3.5/site-packages/librosa/core/pitch.py:159: DeprecationWarning: object of type <class 'numpy.float64'> cannot be safely interpreted as an integer.\n",
      "  bins = np.linspace(-0.5, 0.5, np.ceil(1./resolution), endpoint=False)\n"
     ]
    },
    {
     "name": "stdout",
     "output_type": "stream",
     "text": [
      "\n"
     ]
    },
    {
     "name": "stderr",
     "output_type": "stream",
     "text": [
      "/home/nvidia/github/python_environments/soundflux/lib/python3.5/site-packages/librosa/util/utils.py:828: FutureWarning: Using a non-tuple sequence for multidimensional indexing is deprecated; use `arr[tuple(seq)]` instead of `arr[seq]`. In the future this will be interpreted as an array index, `arr[np.array(seq)]`, which will result either in an error or a different result.\n",
      "  return (x > x_pad[inds1]) & (x >= x_pad[inds2])\n",
      "/home/nvidia/github/python_environments/soundflux/lib/python3.5/site-packages/librosa/core/pitch.py:159: DeprecationWarning: object of type <class 'numpy.float64'> cannot be safely interpreted as an integer.\n",
      "  bins = np.linspace(-0.5, 0.5, np.ceil(1./resolution), endpoint=False)\n"
     ]
    },
    {
     "name": "stdout",
     "output_type": "stream",
     "text": [
      "\n",
      "\n"
     ]
    },
    {
     "name": "stderr",
     "output_type": "stream",
     "text": [
      "/home/nvidia/github/python_environments/soundflux/lib/python3.5/site-packages/librosa/util/utils.py:828: FutureWarning: Using a non-tuple sequence for multidimensional indexing is deprecated; use `arr[tuple(seq)]` instead of `arr[seq]`. In the future this will be interpreted as an array index, `arr[np.array(seq)]`, which will result either in an error or a different result.\n",
      "  return (x > x_pad[inds1]) & (x >= x_pad[inds2])\n",
      "/home/nvidia/github/python_environments/soundflux/lib/python3.5/site-packages/librosa/core/pitch.py:159: DeprecationWarning: object of type <class 'numpy.float64'> cannot be safely interpreted as an integer.\n",
      "  bins = np.linspace(-0.5, 0.5, np.ceil(1./resolution), endpoint=False)\n",
      "/home/nvidia/github/python_environments/soundflux/lib/python3.5/site-packages/librosa/core/pitch.py:159: DeprecationWarning: object of type <class 'numpy.float64'> cannot be safely interpreted as an integer.\n",
      "  bins = np.linspace(-0.5, 0.5, np.ceil(1./resolution), endpoint=False)\n",
      "/home/nvidia/github/python_environments/soundflux/lib/python3.5/site-packages/librosa/core/pitch.py:159: DeprecationWarning: object of type <class 'numpy.float64'> cannot be safely interpreted as an integer.\n",
      "  bins = np.linspace(-0.5, 0.5, np.ceil(1./resolution), endpoint=False)\n",
      "/home/nvidia/github/python_environments/soundflux/lib/python3.5/site-packages/librosa/core/pitch.py:159: DeprecationWarning: object of type <class 'numpy.float64'> cannot be safely interpreted as an integer.\n",
      "  bins = np.linspace(-0.5, 0.5, np.ceil(1./resolution), endpoint=False)\n"
     ]
    },
    {
     "name": "stdout",
     "output_type": "stream",
     "text": [
      "\n",
      "\n",
      "\n",
      "\n"
     ]
    },
    {
     "name": "stderr",
     "output_type": "stream",
     "text": [
      "/home/nvidia/github/python_environments/soundflux/lib/python3.5/site-packages/librosa/util/utils.py:828: FutureWarning: Using a non-tuple sequence for multidimensional indexing is deprecated; use `arr[tuple(seq)]` instead of `arr[seq]`. In the future this will be interpreted as an array index, `arr[np.array(seq)]`, which will result either in an error or a different result.\n",
      "  return (x > x_pad[inds1]) & (x >= x_pad[inds2])\n",
      "/home/nvidia/github/python_environments/soundflux/lib/python3.5/site-packages/librosa/core/pitch.py:159: DeprecationWarning: object of type <class 'numpy.float64'> cannot be safely interpreted as an integer.\n",
      "  bins = np.linspace(-0.5, 0.5, np.ceil(1./resolution), endpoint=False)\n"
     ]
    },
    {
     "name": "stdout",
     "output_type": "stream",
     "text": [
      "\n"
     ]
    },
    {
     "name": "stderr",
     "output_type": "stream",
     "text": [
      "/home/nvidia/github/python_environments/soundflux/lib/python3.5/site-packages/librosa/util/utils.py:828: FutureWarning: Using a non-tuple sequence for multidimensional indexing is deprecated; use `arr[tuple(seq)]` instead of `arr[seq]`. In the future this will be interpreted as an array index, `arr[np.array(seq)]`, which will result either in an error or a different result.\n",
      "  return (x > x_pad[inds1]) & (x >= x_pad[inds2])\n",
      "/home/nvidia/github/python_environments/soundflux/lib/python3.5/site-packages/librosa/core/pitch.py:159: DeprecationWarning: object of type <class 'numpy.float64'> cannot be safely interpreted as an integer.\n",
      "  bins = np.linspace(-0.5, 0.5, np.ceil(1./resolution), endpoint=False)\n",
      "/home/nvidia/github/python_environments/soundflux/lib/python3.5/site-packages/librosa/core/pitch.py:159: DeprecationWarning: object of type <class 'numpy.float64'> cannot be safely interpreted as an integer.\n",
      "  bins = np.linspace(-0.5, 0.5, np.ceil(1./resolution), endpoint=False)\n"
     ]
    },
    {
     "name": "stdout",
     "output_type": "stream",
     "text": [
      "\n",
      "\n",
      "\n",
      "\n"
     ]
    },
    {
     "name": "stderr",
     "output_type": "stream",
     "text": [
      "/home/nvidia/github/python_environments/soundflux/lib/python3.5/site-packages/librosa/util/utils.py:828: FutureWarning: Using a non-tuple sequence for multidimensional indexing is deprecated; use `arr[tuple(seq)]` instead of `arr[seq]`. In the future this will be interpreted as an array index, `arr[np.array(seq)]`, which will result either in an error or a different result.\n",
      "  return (x > x_pad[inds1]) & (x >= x_pad[inds2])\n",
      "/home/nvidia/github/python_environments/soundflux/lib/python3.5/site-packages/librosa/core/pitch.py:159: DeprecationWarning: object of type <class 'numpy.float64'> cannot be safely interpreted as an integer.\n",
      "  bins = np.linspace(-0.5, 0.5, np.ceil(1./resolution), endpoint=False)\n"
     ]
    },
    {
     "name": "stdout",
     "output_type": "stream",
     "text": [
      "\n",
      "\n"
     ]
    },
    {
     "name": "stderr",
     "output_type": "stream",
     "text": [
      "/home/nvidia/github/python_environments/soundflux/lib/python3.5/site-packages/librosa/util/utils.py:828: FutureWarning: Using a non-tuple sequence for multidimensional indexing is deprecated; use `arr[tuple(seq)]` instead of `arr[seq]`. In the future this will be interpreted as an array index, `arr[np.array(seq)]`, which will result either in an error or a different result.\n",
      "  return (x > x_pad[inds1]) & (x >= x_pad[inds2])\n",
      "/home/nvidia/github/python_environments/soundflux/lib/python3.5/site-packages/librosa/core/pitch.py:159: DeprecationWarning: object of type <class 'numpy.float64'> cannot be safely interpreted as an integer.\n",
      "  bins = np.linspace(-0.5, 0.5, np.ceil(1./resolution), endpoint=False)\n",
      "/home/nvidia/github/python_environments/soundflux/lib/python3.5/site-packages/librosa/core/pitch.py:159: DeprecationWarning: object of type <class 'numpy.float64'> cannot be safely interpreted as an integer.\n",
      "  bins = np.linspace(-0.5, 0.5, np.ceil(1./resolution), endpoint=False)\n",
      "/home/nvidia/github/python_environments/soundflux/lib/python3.5/site-packages/librosa/core/pitch.py:159: DeprecationWarning: object of type <class 'numpy.float64'> cannot be safely interpreted as an integer.\n",
      "  bins = np.linspace(-0.5, 0.5, np.ceil(1./resolution), endpoint=False)\n",
      "/home/nvidia/github/python_environments/soundflux/lib/python3.5/site-packages/librosa/core/pitch.py:159: DeprecationWarning: object of type <class 'numpy.float64'> cannot be safely interpreted as an integer.\n",
      "  bins = np.linspace(-0.5, 0.5, np.ceil(1./resolution), endpoint=False)\n",
      "/home/nvidia/github/python_environments/soundflux/lib/python3.5/site-packages/librosa/core/pitch.py:159: DeprecationWarning: object of type <class 'numpy.float64'> cannot be safely interpreted as an integer.\n",
      "  bins = np.linspace(-0.5, 0.5, np.ceil(1./resolution), endpoint=False)\n",
      "/home/nvidia/github/python_environments/soundflux/lib/python3.5/site-packages/librosa/core/pitch.py:159: DeprecationWarning: object of type <class 'numpy.float64'> cannot be safely interpreted as an integer.\n",
      "  bins = np.linspace(-0.5, 0.5, np.ceil(1./resolution), endpoint=False)\n",
      "/home/nvidia/github/python_environments/soundflux/lib/python3.5/site-packages/librosa/core/pitch.py:159: DeprecationWarning: object of type <class 'numpy.float64'> cannot be safely interpreted as an integer.\n",
      "  bins = np.linspace(-0.5, 0.5, np.ceil(1./resolution), endpoint=False)\n",
      "/home/nvidia/github/python_environments/soundflux/lib/python3.5/site-packages/librosa/core/pitch.py:159: DeprecationWarning: object of type <class 'numpy.float64'> cannot be safely interpreted as an integer.\n",
      "  bins = np.linspace(-0.5, 0.5, np.ceil(1./resolution), endpoint=False)\n",
      "/home/nvidia/github/python_environments/soundflux/lib/python3.5/site-packages/librosa/core/pitch.py:159: DeprecationWarning: object of type <class 'numpy.float64'> cannot be safely interpreted as an integer.\n",
      "  bins = np.linspace(-0.5, 0.5, np.ceil(1./resolution), endpoint=False)\n"
     ]
    },
    {
     "name": "stdout",
     "output_type": "stream",
     "text": [
      "\n"
     ]
    },
    {
     "name": "stderr",
     "output_type": "stream",
     "text": [
      "/home/nvidia/github/python_environments/soundflux/lib/python3.5/site-packages/librosa/util/utils.py:828: FutureWarning: Using a non-tuple sequence for multidimensional indexing is deprecated; use `arr[tuple(seq)]` instead of `arr[seq]`. In the future this will be interpreted as an array index, `arr[np.array(seq)]`, which will result either in an error or a different result.\n",
      "  return (x > x_pad[inds1]) & (x >= x_pad[inds2])\n",
      "/home/nvidia/github/python_environments/soundflux/lib/python3.5/site-packages/librosa/core/pitch.py:159: DeprecationWarning: object of type <class 'numpy.float64'> cannot be safely interpreted as an integer.\n",
      "  bins = np.linspace(-0.5, 0.5, np.ceil(1./resolution), endpoint=False)\n"
     ]
    },
    {
     "name": "stdout",
     "output_type": "stream",
     "text": [
      "\n"
     ]
    },
    {
     "name": "stderr",
     "output_type": "stream",
     "text": [
      "/home/nvidia/github/python_environments/soundflux/lib/python3.5/site-packages/librosa/util/utils.py:828: FutureWarning: Using a non-tuple sequence for multidimensional indexing is deprecated; use `arr[tuple(seq)]` instead of `arr[seq]`. In the future this will be interpreted as an array index, `arr[np.array(seq)]`, which will result either in an error or a different result.\n",
      "  return (x > x_pad[inds1]) & (x >= x_pad[inds2])\n",
      "/home/nvidia/github/python_environments/soundflux/lib/python3.5/site-packages/librosa/core/pitch.py:159: DeprecationWarning: object of type <class 'numpy.float64'> cannot be safely interpreted as an integer.\n",
      "  bins = np.linspace(-0.5, 0.5, np.ceil(1./resolution), endpoint=False)\n"
     ]
    },
    {
     "name": "stdout",
     "output_type": "stream",
     "text": [
      "\n",
      "\n",
      "\n",
      "\n",
      "\n",
      "\n"
     ]
    },
    {
     "name": "stderr",
     "output_type": "stream",
     "text": [
      "/home/nvidia/github/python_environments/soundflux/lib/python3.5/site-packages/librosa/util/utils.py:828: FutureWarning: Using a non-tuple sequence for multidimensional indexing is deprecated; use `arr[tuple(seq)]` instead of `arr[seq]`. In the future this will be interpreted as an array index, `arr[np.array(seq)]`, which will result either in an error or a different result.\n",
      "  return (x > x_pad[inds1]) & (x >= x_pad[inds2])\n",
      "/home/nvidia/github/python_environments/soundflux/lib/python3.5/site-packages/librosa/core/pitch.py:159: DeprecationWarning: object of type <class 'numpy.float64'> cannot be safely interpreted as an integer.\n",
      "  bins = np.linspace(-0.5, 0.5, np.ceil(1./resolution), endpoint=False)\n"
     ]
    },
    {
     "name": "stdout",
     "output_type": "stream",
     "text": [
      "\n",
      "\n"
     ]
    },
    {
     "name": "stderr",
     "output_type": "stream",
     "text": [
      "/home/nvidia/github/python_environments/soundflux/lib/python3.5/site-packages/librosa/util/utils.py:828: FutureWarning: Using a non-tuple sequence for multidimensional indexing is deprecated; use `arr[tuple(seq)]` instead of `arr[seq]`. In the future this will be interpreted as an array index, `arr[np.array(seq)]`, which will result either in an error or a different result.\n",
      "  return (x > x_pad[inds1]) & (x >= x_pad[inds2])\n",
      "/home/nvidia/github/python_environments/soundflux/lib/python3.5/site-packages/librosa/core/pitch.py:159: DeprecationWarning: object of type <class 'numpy.float64'> cannot be safely interpreted as an integer.\n",
      "  bins = np.linspace(-0.5, 0.5, np.ceil(1./resolution), endpoint=False)\n"
     ]
    },
    {
     "name": "stdout",
     "output_type": "stream",
     "text": [
      "\n"
     ]
    },
    {
     "name": "stderr",
     "output_type": "stream",
     "text": [
      "/home/nvidia/github/python_environments/soundflux/lib/python3.5/site-packages/librosa/util/utils.py:828: FutureWarning: Using a non-tuple sequence for multidimensional indexing is deprecated; use `arr[tuple(seq)]` instead of `arr[seq]`. In the future this will be interpreted as an array index, `arr[np.array(seq)]`, which will result either in an error or a different result.\n",
      "  return (x > x_pad[inds1]) & (x >= x_pad[inds2])\n",
      "/home/nvidia/github/python_environments/soundflux/lib/python3.5/site-packages/librosa/core/pitch.py:159: DeprecationWarning: object of type <class 'numpy.float64'> cannot be safely interpreted as an integer.\n",
      "  bins = np.linspace(-0.5, 0.5, np.ceil(1./resolution), endpoint=False)\n"
     ]
    },
    {
     "name": "stdout",
     "output_type": "stream",
     "text": [
      "\n"
     ]
    },
    {
     "name": "stderr",
     "output_type": "stream",
     "text": [
      "/home/nvidia/github/python_environments/soundflux/lib/python3.5/site-packages/librosa/util/utils.py:828: FutureWarning: Using a non-tuple sequence for multidimensional indexing is deprecated; use `arr[tuple(seq)]` instead of `arr[seq]`. In the future this will be interpreted as an array index, `arr[np.array(seq)]`, which will result either in an error or a different result.\n",
      "  return (x > x_pad[inds1]) & (x >= x_pad[inds2])\n",
      "/home/nvidia/github/python_environments/soundflux/lib/python3.5/site-packages/librosa/core/pitch.py:159: DeprecationWarning: object of type <class 'numpy.float64'> cannot be safely interpreted as an integer.\n",
      "  bins = np.linspace(-0.5, 0.5, np.ceil(1./resolution), endpoint=False)\n"
     ]
    },
    {
     "name": "stdout",
     "output_type": "stream",
     "text": [
      "\n"
     ]
    },
    {
     "name": "stderr",
     "output_type": "stream",
     "text": [
      "/home/nvidia/github/python_environments/soundflux/lib/python3.5/site-packages/librosa/util/utils.py:828: FutureWarning: Using a non-tuple sequence for multidimensional indexing is deprecated; use `arr[tuple(seq)]` instead of `arr[seq]`. In the future this will be interpreted as an array index, `arr[np.array(seq)]`, which will result either in an error or a different result.\n",
      "  return (x > x_pad[inds1]) & (x >= x_pad[inds2])\n",
      "/home/nvidia/github/python_environments/soundflux/lib/python3.5/site-packages/librosa/core/pitch.py:159: DeprecationWarning: object of type <class 'numpy.float64'> cannot be safely interpreted as an integer.\n",
      "  bins = np.linspace(-0.5, 0.5, np.ceil(1./resolution), endpoint=False)\n",
      "/home/nvidia/github/python_environments/soundflux/lib/python3.5/site-packages/librosa/core/pitch.py:159: DeprecationWarning: object of type <class 'numpy.float64'> cannot be safely interpreted as an integer.\n",
      "  bins = np.linspace(-0.5, 0.5, np.ceil(1./resolution), endpoint=False)\n",
      "/home/nvidia/github/python_environments/soundflux/lib/python3.5/site-packages/librosa/core/pitch.py:159: DeprecationWarning: object of type <class 'numpy.float64'> cannot be safely interpreted as an integer.\n",
      "  bins = np.linspace(-0.5, 0.5, np.ceil(1./resolution), endpoint=False)\n"
     ]
    },
    {
     "name": "stdout",
     "output_type": "stream",
     "text": [
      "\n"
     ]
    },
    {
     "name": "stderr",
     "output_type": "stream",
     "text": [
      "/home/nvidia/github/python_environments/soundflux/lib/python3.5/site-packages/librosa/util/utils.py:828: FutureWarning: Using a non-tuple sequence for multidimensional indexing is deprecated; use `arr[tuple(seq)]` instead of `arr[seq]`. In the future this will be interpreted as an array index, `arr[np.array(seq)]`, which will result either in an error or a different result.\n",
      "  return (x > x_pad[inds1]) & (x >= x_pad[inds2])\n",
      "/home/nvidia/github/python_environments/soundflux/lib/python3.5/site-packages/librosa/core/pitch.py:159: DeprecationWarning: object of type <class 'numpy.float64'> cannot be safely interpreted as an integer.\n",
      "  bins = np.linspace(-0.5, 0.5, np.ceil(1./resolution), endpoint=False)\n",
      "/home/nvidia/github/python_environments/soundflux/lib/python3.5/site-packages/librosa/core/pitch.py:159: DeprecationWarning: object of type <class 'numpy.float64'> cannot be safely interpreted as an integer.\n",
      "  bins = np.linspace(-0.5, 0.5, np.ceil(1./resolution), endpoint=False)\n"
     ]
    },
    {
     "name": "stdout",
     "output_type": "stream",
     "text": [
      "\n"
     ]
    },
    {
     "name": "stderr",
     "output_type": "stream",
     "text": [
      "/home/nvidia/github/python_environments/soundflux/lib/python3.5/site-packages/librosa/util/utils.py:828: FutureWarning: Using a non-tuple sequence for multidimensional indexing is deprecated; use `arr[tuple(seq)]` instead of `arr[seq]`. In the future this will be interpreted as an array index, `arr[np.array(seq)]`, which will result either in an error or a different result.\n",
      "  return (x > x_pad[inds1]) & (x >= x_pad[inds2])\n",
      "/home/nvidia/github/python_environments/soundflux/lib/python3.5/site-packages/librosa/core/pitch.py:159: DeprecationWarning: object of type <class 'numpy.float64'> cannot be safely interpreted as an integer.\n",
      "  bins = np.linspace(-0.5, 0.5, np.ceil(1./resolution), endpoint=False)\n",
      "/home/nvidia/github/python_environments/soundflux/lib/python3.5/site-packages/librosa/core/pitch.py:159: DeprecationWarning: object of type <class 'numpy.float64'> cannot be safely interpreted as an integer.\n",
      "  bins = np.linspace(-0.5, 0.5, np.ceil(1./resolution), endpoint=False)\n",
      "/home/nvidia/github/python_environments/soundflux/lib/python3.5/site-packages/librosa/core/pitch.py:159: DeprecationWarning: object of type <class 'numpy.float64'> cannot be safely interpreted as an integer.\n",
      "  bins = np.linspace(-0.5, 0.5, np.ceil(1./resolution), endpoint=False)\n",
      "/home/nvidia/github/python_environments/soundflux/lib/python3.5/site-packages/librosa/core/pitch.py:159: DeprecationWarning: object of type <class 'numpy.float64'> cannot be safely interpreted as an integer.\n",
      "  bins = np.linspace(-0.5, 0.5, np.ceil(1./resolution), endpoint=False)\n"
     ]
    },
    {
     "name": "stdout",
     "output_type": "stream",
     "text": [
      "\n",
      "\n"
     ]
    },
    {
     "name": "stderr",
     "output_type": "stream",
     "text": [
      "/home/nvidia/github/python_environments/soundflux/lib/python3.5/site-packages/librosa/util/utils.py:828: FutureWarning: Using a non-tuple sequence for multidimensional indexing is deprecated; use `arr[tuple(seq)]` instead of `arr[seq]`. In the future this will be interpreted as an array index, `arr[np.array(seq)]`, which will result either in an error or a different result.\n",
      "  return (x > x_pad[inds1]) & (x >= x_pad[inds2])\n",
      "/home/nvidia/github/python_environments/soundflux/lib/python3.5/site-packages/librosa/core/pitch.py:159: DeprecationWarning: object of type <class 'numpy.float64'> cannot be safely interpreted as an integer.\n",
      "  bins = np.linspace(-0.5, 0.5, np.ceil(1./resolution), endpoint=False)\n",
      "/home/nvidia/github/python_environments/soundflux/lib/python3.5/site-packages/librosa/core/pitch.py:159: DeprecationWarning: object of type <class 'numpy.float64'> cannot be safely interpreted as an integer.\n",
      "  bins = np.linspace(-0.5, 0.5, np.ceil(1./resolution), endpoint=False)\n"
     ]
    },
    {
     "name": "stdout",
     "output_type": "stream",
     "text": [
      "\n",
      "\n",
      "\n",
      "\n",
      "\n"
     ]
    },
    {
     "name": "stderr",
     "output_type": "stream",
     "text": [
      "/home/nvidia/github/python_environments/soundflux/lib/python3.5/site-packages/librosa/util/utils.py:828: FutureWarning: Using a non-tuple sequence for multidimensional indexing is deprecated; use `arr[tuple(seq)]` instead of `arr[seq]`. In the future this will be interpreted as an array index, `arr[np.array(seq)]`, which will result either in an error or a different result.\n",
      "  return (x > x_pad[inds1]) & (x >= x_pad[inds2])\n",
      "/home/nvidia/github/python_environments/soundflux/lib/python3.5/site-packages/librosa/core/pitch.py:159: DeprecationWarning: object of type <class 'numpy.float64'> cannot be safely interpreted as an integer.\n",
      "  bins = np.linspace(-0.5, 0.5, np.ceil(1./resolution), endpoint=False)\n",
      "/home/nvidia/github/python_environments/soundflux/lib/python3.5/site-packages/librosa/core/pitch.py:159: DeprecationWarning: object of type <class 'numpy.float64'> cannot be safely interpreted as an integer.\n",
      "  bins = np.linspace(-0.5, 0.5, np.ceil(1./resolution), endpoint=False)\n",
      "/home/nvidia/github/python_environments/soundflux/lib/python3.5/site-packages/librosa/core/pitch.py:159: DeprecationWarning: object of type <class 'numpy.float64'> cannot be safely interpreted as an integer.\n",
      "  bins = np.linspace(-0.5, 0.5, np.ceil(1./resolution), endpoint=False)\n"
     ]
    },
    {
     "name": "stdout",
     "output_type": "stream",
     "text": [
      "\n"
     ]
    },
    {
     "name": "stderr",
     "output_type": "stream",
     "text": [
      "/home/nvidia/github/python_environments/soundflux/lib/python3.5/site-packages/librosa/util/utils.py:828: FutureWarning: Using a non-tuple sequence for multidimensional indexing is deprecated; use `arr[tuple(seq)]` instead of `arr[seq]`. In the future this will be interpreted as an array index, `arr[np.array(seq)]`, which will result either in an error or a different result.\n",
      "  return (x > x_pad[inds1]) & (x >= x_pad[inds2])\n",
      "/home/nvidia/github/python_environments/soundflux/lib/python3.5/site-packages/librosa/core/pitch.py:159: DeprecationWarning: object of type <class 'numpy.float64'> cannot be safely interpreted as an integer.\n",
      "  bins = np.linspace(-0.5, 0.5, np.ceil(1./resolution), endpoint=False)\n"
     ]
    },
    {
     "name": "stdout",
     "output_type": "stream",
     "text": [
      "\n",
      "\n"
     ]
    },
    {
     "name": "stderr",
     "output_type": "stream",
     "text": [
      "/home/nvidia/github/python_environments/soundflux/lib/python3.5/site-packages/librosa/util/utils.py:828: FutureWarning: Using a non-tuple sequence for multidimensional indexing is deprecated; use `arr[tuple(seq)]` instead of `arr[seq]`. In the future this will be interpreted as an array index, `arr[np.array(seq)]`, which will result either in an error or a different result.\n",
      "  return (x > x_pad[inds1]) & (x >= x_pad[inds2])\n",
      "/home/nvidia/github/python_environments/soundflux/lib/python3.5/site-packages/librosa/core/pitch.py:159: DeprecationWarning: object of type <class 'numpy.float64'> cannot be safely interpreted as an integer.\n",
      "  bins = np.linspace(-0.5, 0.5, np.ceil(1./resolution), endpoint=False)\n"
     ]
    },
    {
     "name": "stdout",
     "output_type": "stream",
     "text": [
      "\n"
     ]
    },
    {
     "name": "stderr",
     "output_type": "stream",
     "text": [
      "/home/nvidia/github/python_environments/soundflux/lib/python3.5/site-packages/librosa/util/utils.py:828: FutureWarning: Using a non-tuple sequence for multidimensional indexing is deprecated; use `arr[tuple(seq)]` instead of `arr[seq]`. In the future this will be interpreted as an array index, `arr[np.array(seq)]`, which will result either in an error or a different result.\n",
      "  return (x > x_pad[inds1]) & (x >= x_pad[inds2])\n",
      "/home/nvidia/github/python_environments/soundflux/lib/python3.5/site-packages/librosa/core/pitch.py:159: DeprecationWarning: object of type <class 'numpy.float64'> cannot be safely interpreted as an integer.\n",
      "  bins = np.linspace(-0.5, 0.5, np.ceil(1./resolution), endpoint=False)\n",
      "/home/nvidia/github/python_environments/soundflux/lib/python3.5/site-packages/librosa/core/pitch.py:159: DeprecationWarning: object of type <class 'numpy.float64'> cannot be safely interpreted as an integer.\n",
      "  bins = np.linspace(-0.5, 0.5, np.ceil(1./resolution), endpoint=False)\n",
      "/home/nvidia/github/python_environments/soundflux/lib/python3.5/site-packages/librosa/core/pitch.py:159: DeprecationWarning: object of type <class 'numpy.float64'> cannot be safely interpreted as an integer.\n",
      "  bins = np.linspace(-0.5, 0.5, np.ceil(1./resolution), endpoint=False)\n",
      "/home/nvidia/github/python_environments/soundflux/lib/python3.5/site-packages/librosa/core/pitch.py:159: DeprecationWarning: object of type <class 'numpy.float64'> cannot be safely interpreted as an integer.\n",
      "  bins = np.linspace(-0.5, 0.5, np.ceil(1./resolution), endpoint=False)\n"
     ]
    },
    {
     "name": "stdout",
     "output_type": "stream",
     "text": [
      "\n",
      "\n"
     ]
    },
    {
     "name": "stderr",
     "output_type": "stream",
     "text": [
      "/home/nvidia/github/python_environments/soundflux/lib/python3.5/site-packages/librosa/util/utils.py:828: FutureWarning: Using a non-tuple sequence for multidimensional indexing is deprecated; use `arr[tuple(seq)]` instead of `arr[seq]`. In the future this will be interpreted as an array index, `arr[np.array(seq)]`, which will result either in an error or a different result.\n",
      "  return (x > x_pad[inds1]) & (x >= x_pad[inds2])\n",
      "/home/nvidia/github/python_environments/soundflux/lib/python3.5/site-packages/librosa/core/pitch.py:159: DeprecationWarning: object of type <class 'numpy.float64'> cannot be safely interpreted as an integer.\n",
      "  bins = np.linspace(-0.5, 0.5, np.ceil(1./resolution), endpoint=False)\n"
     ]
    },
    {
     "name": "stdout",
     "output_type": "stream",
     "text": [
      "\n",
      "\n"
     ]
    },
    {
     "name": "stderr",
     "output_type": "stream",
     "text": [
      "/home/nvidia/github/python_environments/soundflux/lib/python3.5/site-packages/librosa/util/utils.py:828: FutureWarning: Using a non-tuple sequence for multidimensional indexing is deprecated; use `arr[tuple(seq)]` instead of `arr[seq]`. In the future this will be interpreted as an array index, `arr[np.array(seq)]`, which will result either in an error or a different result.\n",
      "  return (x > x_pad[inds1]) & (x >= x_pad[inds2])\n",
      "/home/nvidia/github/python_environments/soundflux/lib/python3.5/site-packages/librosa/core/pitch.py:159: DeprecationWarning: object of type <class 'numpy.float64'> cannot be safely interpreted as an integer.\n",
      "  bins = np.linspace(-0.5, 0.5, np.ceil(1./resolution), endpoint=False)\n",
      "/home/nvidia/github/python_environments/soundflux/lib/python3.5/site-packages/librosa/core/pitch.py:159: DeprecationWarning: object of type <class 'numpy.float64'> cannot be safely interpreted as an integer.\n",
      "  bins = np.linspace(-0.5, 0.5, np.ceil(1./resolution), endpoint=False)\n"
     ]
    },
    {
     "name": "stdout",
     "output_type": "stream",
     "text": [
      "\n",
      "\n"
     ]
    },
    {
     "name": "stderr",
     "output_type": "stream",
     "text": [
      "/home/nvidia/github/python_environments/soundflux/lib/python3.5/site-packages/librosa/util/utils.py:828: FutureWarning: Using a non-tuple sequence for multidimensional indexing is deprecated; use `arr[tuple(seq)]` instead of `arr[seq]`. In the future this will be interpreted as an array index, `arr[np.array(seq)]`, which will result either in an error or a different result.\n",
      "  return (x > x_pad[inds1]) & (x >= x_pad[inds2])\n",
      "/home/nvidia/github/python_environments/soundflux/lib/python3.5/site-packages/librosa/core/pitch.py:159: DeprecationWarning: object of type <class 'numpy.float64'> cannot be safely interpreted as an integer.\n",
      "  bins = np.linspace(-0.5, 0.5, np.ceil(1./resolution), endpoint=False)\n"
     ]
    },
    {
     "name": "stdout",
     "output_type": "stream",
     "text": [
      "\n"
     ]
    },
    {
     "name": "stderr",
     "output_type": "stream",
     "text": [
      "/home/nvidia/github/python_environments/soundflux/lib/python3.5/site-packages/librosa/util/utils.py:828: FutureWarning: Using a non-tuple sequence for multidimensional indexing is deprecated; use `arr[tuple(seq)]` instead of `arr[seq]`. In the future this will be interpreted as an array index, `arr[np.array(seq)]`, which will result either in an error or a different result.\n",
      "  return (x > x_pad[inds1]) & (x >= x_pad[inds2])\n",
      "/home/nvidia/github/python_environments/soundflux/lib/python3.5/site-packages/librosa/core/pitch.py:159: DeprecationWarning: object of type <class 'numpy.float64'> cannot be safely interpreted as an integer.\n",
      "  bins = np.linspace(-0.5, 0.5, np.ceil(1./resolution), endpoint=False)\n",
      "/home/nvidia/github/python_environments/soundflux/lib/python3.5/site-packages/librosa/core/pitch.py:159: DeprecationWarning: object of type <class 'numpy.float64'> cannot be safely interpreted as an integer.\n",
      "  bins = np.linspace(-0.5, 0.5, np.ceil(1./resolution), endpoint=False)\n"
     ]
    },
    {
     "name": "stdout",
     "output_type": "stream",
     "text": [
      "\n"
     ]
    },
    {
     "name": "stderr",
     "output_type": "stream",
     "text": [
      "/home/nvidia/github/python_environments/soundflux/lib/python3.5/site-packages/librosa/util/utils.py:828: FutureWarning: Using a non-tuple sequence for multidimensional indexing is deprecated; use `arr[tuple(seq)]` instead of `arr[seq]`. In the future this will be interpreted as an array index, `arr[np.array(seq)]`, which will result either in an error or a different result.\n",
      "  return (x > x_pad[inds1]) & (x >= x_pad[inds2])\n",
      "/home/nvidia/github/python_environments/soundflux/lib/python3.5/site-packages/librosa/core/pitch.py:159: DeprecationWarning: object of type <class 'numpy.float64'> cannot be safely interpreted as an integer.\n",
      "  bins = np.linspace(-0.5, 0.5, np.ceil(1./resolution), endpoint=False)\n",
      "/home/nvidia/github/python_environments/soundflux/lib/python3.5/site-packages/librosa/core/pitch.py:159: DeprecationWarning: object of type <class 'numpy.float64'> cannot be safely interpreted as an integer.\n",
      "  bins = np.linspace(-0.5, 0.5, np.ceil(1./resolution), endpoint=False)\n",
      "/home/nvidia/github/python_environments/soundflux/lib/python3.5/site-packages/librosa/core/pitch.py:159: DeprecationWarning: object of type <class 'numpy.float64'> cannot be safely interpreted as an integer.\n",
      "  bins = np.linspace(-0.5, 0.5, np.ceil(1./resolution), endpoint=False)\n",
      "/home/nvidia/github/python_environments/soundflux/lib/python3.5/site-packages/librosa/core/pitch.py:159: DeprecationWarning: object of type <class 'numpy.float64'> cannot be safely interpreted as an integer.\n",
      "  bins = np.linspace(-0.5, 0.5, np.ceil(1./resolution), endpoint=False)\n"
     ]
    },
    {
     "name": "stdout",
     "output_type": "stream",
     "text": [
      "\n",
      "\n",
      "\n"
     ]
    },
    {
     "name": "stderr",
     "output_type": "stream",
     "text": [
      "/home/nvidia/github/python_environments/soundflux/lib/python3.5/site-packages/librosa/util/utils.py:828: FutureWarning: Using a non-tuple sequence for multidimensional indexing is deprecated; use `arr[tuple(seq)]` instead of `arr[seq]`. In the future this will be interpreted as an array index, `arr[np.array(seq)]`, which will result either in an error or a different result.\n",
      "  return (x > x_pad[inds1]) & (x >= x_pad[inds2])\n",
      "/home/nvidia/github/python_environments/soundflux/lib/python3.5/site-packages/librosa/core/pitch.py:159: DeprecationWarning: object of type <class 'numpy.float64'> cannot be safely interpreted as an integer.\n",
      "  bins = np.linspace(-0.5, 0.5, np.ceil(1./resolution), endpoint=False)\n"
     ]
    },
    {
     "name": "stdout",
     "output_type": "stream",
     "text": [
      "\n",
      "\n",
      "\n"
     ]
    },
    {
     "name": "stderr",
     "output_type": "stream",
     "text": [
      "/home/nvidia/github/python_environments/soundflux/lib/python3.5/site-packages/librosa/util/utils.py:828: FutureWarning: Using a non-tuple sequence for multidimensional indexing is deprecated; use `arr[tuple(seq)]` instead of `arr[seq]`. In the future this will be interpreted as an array index, `arr[np.array(seq)]`, which will result either in an error or a different result.\n",
      "  return (x > x_pad[inds1]) & (x >= x_pad[inds2])\n",
      "/home/nvidia/github/python_environments/soundflux/lib/python3.5/site-packages/librosa/core/pitch.py:159: DeprecationWarning: object of type <class 'numpy.float64'> cannot be safely interpreted as an integer.\n",
      "  bins = np.linspace(-0.5, 0.5, np.ceil(1./resolution), endpoint=False)\n"
     ]
    },
    {
     "name": "stdout",
     "output_type": "stream",
     "text": [
      "\n"
     ]
    },
    {
     "name": "stderr",
     "output_type": "stream",
     "text": [
      "/home/nvidia/github/python_environments/soundflux/lib/python3.5/site-packages/librosa/util/utils.py:828: FutureWarning: Using a non-tuple sequence for multidimensional indexing is deprecated; use `arr[tuple(seq)]` instead of `arr[seq]`. In the future this will be interpreted as an array index, `arr[np.array(seq)]`, which will result either in an error or a different result.\n",
      "  return (x > x_pad[inds1]) & (x >= x_pad[inds2])\n",
      "/home/nvidia/github/python_environments/soundflux/lib/python3.5/site-packages/librosa/core/pitch.py:159: DeprecationWarning: object of type <class 'numpy.float64'> cannot be safely interpreted as an integer.\n",
      "  bins = np.linspace(-0.5, 0.5, np.ceil(1./resolution), endpoint=False)\n"
     ]
    },
    {
     "name": "stdout",
     "output_type": "stream",
     "text": [
      "\n"
     ]
    },
    {
     "name": "stderr",
     "output_type": "stream",
     "text": [
      "/home/nvidia/github/python_environments/soundflux/lib/python3.5/site-packages/librosa/util/utils.py:828: FutureWarning: Using a non-tuple sequence for multidimensional indexing is deprecated; use `arr[tuple(seq)]` instead of `arr[seq]`. In the future this will be interpreted as an array index, `arr[np.array(seq)]`, which will result either in an error or a different result.\n",
      "  return (x > x_pad[inds1]) & (x >= x_pad[inds2])\n",
      "/home/nvidia/github/python_environments/soundflux/lib/python3.5/site-packages/librosa/core/pitch.py:159: DeprecationWarning: object of type <class 'numpy.float64'> cannot be safely interpreted as an integer.\n",
      "  bins = np.linspace(-0.5, 0.5, np.ceil(1./resolution), endpoint=False)\n",
      "/home/nvidia/github/python_environments/soundflux/lib/python3.5/site-packages/librosa/core/pitch.py:159: DeprecationWarning: object of type <class 'numpy.float64'> cannot be safely interpreted as an integer.\n",
      "  bins = np.linspace(-0.5, 0.5, np.ceil(1./resolution), endpoint=False)\n"
     ]
    },
    {
     "name": "stdout",
     "output_type": "stream",
     "text": [
      "\n"
     ]
    },
    {
     "name": "stderr",
     "output_type": "stream",
     "text": [
      "/home/nvidia/github/python_environments/soundflux/lib/python3.5/site-packages/librosa/util/utils.py:828: FutureWarning: Using a non-tuple sequence for multidimensional indexing is deprecated; use `arr[tuple(seq)]` instead of `arr[seq]`. In the future this will be interpreted as an array index, `arr[np.array(seq)]`, which will result either in an error or a different result.\n",
      "  return (x > x_pad[inds1]) & (x >= x_pad[inds2])\n",
      "/home/nvidia/github/python_environments/soundflux/lib/python3.5/site-packages/librosa/core/pitch.py:159: DeprecationWarning: object of type <class 'numpy.float64'> cannot be safely interpreted as an integer.\n",
      "  bins = np.linspace(-0.5, 0.5, np.ceil(1./resolution), endpoint=False)\n",
      "/home/nvidia/github/python_environments/soundflux/lib/python3.5/site-packages/librosa/core/pitch.py:159: DeprecationWarning: object of type <class 'numpy.float64'> cannot be safely interpreted as an integer.\n",
      "  bins = np.linspace(-0.5, 0.5, np.ceil(1./resolution), endpoint=False)\n"
     ]
    },
    {
     "name": "stdout",
     "output_type": "stream",
     "text": [
      "\n",
      "\n"
     ]
    },
    {
     "name": "stderr",
     "output_type": "stream",
     "text": [
      "/home/nvidia/github/python_environments/soundflux/lib/python3.5/site-packages/librosa/util/utils.py:828: FutureWarning: Using a non-tuple sequence for multidimensional indexing is deprecated; use `arr[tuple(seq)]` instead of `arr[seq]`. In the future this will be interpreted as an array index, `arr[np.array(seq)]`, which will result either in an error or a different result.\n",
      "  return (x > x_pad[inds1]) & (x >= x_pad[inds2])\n",
      "/home/nvidia/github/python_environments/soundflux/lib/python3.5/site-packages/librosa/core/pitch.py:159: DeprecationWarning: object of type <class 'numpy.float64'> cannot be safely interpreted as an integer.\n",
      "  bins = np.linspace(-0.5, 0.5, np.ceil(1./resolution), endpoint=False)\n"
     ]
    },
    {
     "name": "stdout",
     "output_type": "stream",
     "text": [
      "\n",
      "\n"
     ]
    },
    {
     "name": "stderr",
     "output_type": "stream",
     "text": [
      "/home/nvidia/github/python_environments/soundflux/lib/python3.5/site-packages/librosa/util/utils.py:828: FutureWarning: Using a non-tuple sequence for multidimensional indexing is deprecated; use `arr[tuple(seq)]` instead of `arr[seq]`. In the future this will be interpreted as an array index, `arr[np.array(seq)]`, which will result either in an error or a different result.\n",
      "  return (x > x_pad[inds1]) & (x >= x_pad[inds2])\n",
      "/home/nvidia/github/python_environments/soundflux/lib/python3.5/site-packages/librosa/core/pitch.py:159: DeprecationWarning: object of type <class 'numpy.float64'> cannot be safely interpreted as an integer.\n",
      "  bins = np.linspace(-0.5, 0.5, np.ceil(1./resolution), endpoint=False)\n",
      "/home/nvidia/github/python_environments/soundflux/lib/python3.5/site-packages/librosa/core/pitch.py:159: DeprecationWarning: object of type <class 'numpy.float64'> cannot be safely interpreted as an integer.\n",
      "  bins = np.linspace(-0.5, 0.5, np.ceil(1./resolution), endpoint=False)\n",
      "/home/nvidia/github/python_environments/soundflux/lib/python3.5/site-packages/librosa/core/pitch.py:159: DeprecationWarning: object of type <class 'numpy.float64'> cannot be safely interpreted as an integer.\n",
      "  bins = np.linspace(-0.5, 0.5, np.ceil(1./resolution), endpoint=False)\n",
      "/home/nvidia/github/python_environments/soundflux/lib/python3.5/site-packages/librosa/core/pitch.py:159: DeprecationWarning: object of type <class 'numpy.float64'> cannot be safely interpreted as an integer.\n",
      "  bins = np.linspace(-0.5, 0.5, np.ceil(1./resolution), endpoint=False)\n",
      "/home/nvidia/github/python_environments/soundflux/lib/python3.5/site-packages/librosa/core/pitch.py:159: DeprecationWarning: object of type <class 'numpy.float64'> cannot be safely interpreted as an integer.\n",
      "  bins = np.linspace(-0.5, 0.5, np.ceil(1./resolution), endpoint=False)\n",
      "/home/nvidia/github/python_environments/soundflux/lib/python3.5/site-packages/librosa/core/pitch.py:159: DeprecationWarning: object of type <class 'numpy.float64'> cannot be safely interpreted as an integer.\n",
      "  bins = np.linspace(-0.5, 0.5, np.ceil(1./resolution), endpoint=False)\n",
      "/home/nvidia/github/python_environments/soundflux/lib/python3.5/site-packages/librosa/core/pitch.py:159: DeprecationWarning: object of type <class 'numpy.float64'> cannot be safely interpreted as an integer.\n",
      "  bins = np.linspace(-0.5, 0.5, np.ceil(1./resolution), endpoint=False)\n",
      "/home/nvidia/github/python_environments/soundflux/lib/python3.5/site-packages/librosa/core/pitch.py:159: DeprecationWarning: object of type <class 'numpy.float64'> cannot be safely interpreted as an integer.\n",
      "  bins = np.linspace(-0.5, 0.5, np.ceil(1./resolution), endpoint=False)\n",
      "/home/nvidia/github/python_environments/soundflux/lib/python3.5/site-packages/librosa/core/pitch.py:159: DeprecationWarning: object of type <class 'numpy.float64'> cannot be safely interpreted as an integer.\n",
      "  bins = np.linspace(-0.5, 0.5, np.ceil(1./resolution), endpoint=False)\n",
      "/home/nvidia/github/python_environments/soundflux/lib/python3.5/site-packages/librosa/core/pitch.py:159: DeprecationWarning: object of type <class 'numpy.float64'> cannot be safely interpreted as an integer.\n",
      "  bins = np.linspace(-0.5, 0.5, np.ceil(1./resolution), endpoint=False)\n",
      "/home/nvidia/github/python_environments/soundflux/lib/python3.5/site-packages/librosa/core/pitch.py:159: DeprecationWarning: object of type <class 'numpy.float64'> cannot be safely interpreted as an integer.\n",
      "  bins = np.linspace(-0.5, 0.5, np.ceil(1./resolution), endpoint=False)\n"
     ]
    },
    {
     "name": "stdout",
     "output_type": "stream",
     "text": [
      "\n"
     ]
    },
    {
     "name": "stderr",
     "output_type": "stream",
     "text": [
      "/home/nvidia/github/python_environments/soundflux/lib/python3.5/site-packages/librosa/util/utils.py:828: FutureWarning: Using a non-tuple sequence for multidimensional indexing is deprecated; use `arr[tuple(seq)]` instead of `arr[seq]`. In the future this will be interpreted as an array index, `arr[np.array(seq)]`, which will result either in an error or a different result.\n",
      "  return (x > x_pad[inds1]) & (x >= x_pad[inds2])\n",
      "/home/nvidia/github/python_environments/soundflux/lib/python3.5/site-packages/librosa/core/pitch.py:159: DeprecationWarning: object of type <class 'numpy.float64'> cannot be safely interpreted as an integer.\n",
      "  bins = np.linspace(-0.5, 0.5, np.ceil(1./resolution), endpoint=False)\n",
      "/home/nvidia/github/python_environments/soundflux/lib/python3.5/site-packages/librosa/core/pitch.py:159: DeprecationWarning: object of type <class 'numpy.float64'> cannot be safely interpreted as an integer.\n",
      "  bins = np.linspace(-0.5, 0.5, np.ceil(1./resolution), endpoint=False)\n"
     ]
    },
    {
     "name": "stdout",
     "output_type": "stream",
     "text": [
      "\n"
     ]
    },
    {
     "name": "stderr",
     "output_type": "stream",
     "text": [
      "/home/nvidia/github/python_environments/soundflux/lib/python3.5/site-packages/librosa/util/utils.py:828: FutureWarning: Using a non-tuple sequence for multidimensional indexing is deprecated; use `arr[tuple(seq)]` instead of `arr[seq]`. In the future this will be interpreted as an array index, `arr[np.array(seq)]`, which will result either in an error or a different result.\n",
      "  return (x > x_pad[inds1]) & (x >= x_pad[inds2])\n",
      "/home/nvidia/github/python_environments/soundflux/lib/python3.5/site-packages/librosa/core/pitch.py:159: DeprecationWarning: object of type <class 'numpy.float64'> cannot be safely interpreted as an integer.\n",
      "  bins = np.linspace(-0.5, 0.5, np.ceil(1./resolution), endpoint=False)\n"
     ]
    },
    {
     "name": "stdout",
     "output_type": "stream",
     "text": [
      "\n"
     ]
    },
    {
     "name": "stderr",
     "output_type": "stream",
     "text": [
      "/home/nvidia/github/python_environments/soundflux/lib/python3.5/site-packages/librosa/util/utils.py:828: FutureWarning: Using a non-tuple sequence for multidimensional indexing is deprecated; use `arr[tuple(seq)]` instead of `arr[seq]`. In the future this will be interpreted as an array index, `arr[np.array(seq)]`, which will result either in an error or a different result.\n",
      "  return (x > x_pad[inds1]) & (x >= x_pad[inds2])\n",
      "/home/nvidia/github/python_environments/soundflux/lib/python3.5/site-packages/librosa/core/pitch.py:159: DeprecationWarning: object of type <class 'numpy.float64'> cannot be safely interpreted as an integer.\n",
      "  bins = np.linspace(-0.5, 0.5, np.ceil(1./resolution), endpoint=False)\n"
     ]
    },
    {
     "name": "stdout",
     "output_type": "stream",
     "text": [
      "\n"
     ]
    },
    {
     "name": "stderr",
     "output_type": "stream",
     "text": [
      "/home/nvidia/github/python_environments/soundflux/lib/python3.5/site-packages/librosa/util/utils.py:828: FutureWarning: Using a non-tuple sequence for multidimensional indexing is deprecated; use `arr[tuple(seq)]` instead of `arr[seq]`. In the future this will be interpreted as an array index, `arr[np.array(seq)]`, which will result either in an error or a different result.\n",
      "  return (x > x_pad[inds1]) & (x >= x_pad[inds2])\n",
      "/home/nvidia/github/python_environments/soundflux/lib/python3.5/site-packages/librosa/core/pitch.py:159: DeprecationWarning: object of type <class 'numpy.float64'> cannot be safely interpreted as an integer.\n",
      "  bins = np.linspace(-0.5, 0.5, np.ceil(1./resolution), endpoint=False)\n",
      "/home/nvidia/github/python_environments/soundflux/lib/python3.5/site-packages/librosa/core/pitch.py:159: DeprecationWarning: object of type <class 'numpy.float64'> cannot be safely interpreted as an integer.\n",
      "  bins = np.linspace(-0.5, 0.5, np.ceil(1./resolution), endpoint=False)\n",
      "/home/nvidia/github/python_environments/soundflux/lib/python3.5/site-packages/librosa/core/pitch.py:159: DeprecationWarning: object of type <class 'numpy.float64'> cannot be safely interpreted as an integer.\n",
      "  bins = np.linspace(-0.5, 0.5, np.ceil(1./resolution), endpoint=False)\n",
      "/home/nvidia/github/python_environments/soundflux/lib/python3.5/site-packages/librosa/core/pitch.py:159: DeprecationWarning: object of type <class 'numpy.float64'> cannot be safely interpreted as an integer.\n",
      "  bins = np.linspace(-0.5, 0.5, np.ceil(1./resolution), endpoint=False)\n",
      "/home/nvidia/github/python_environments/soundflux/lib/python3.5/site-packages/librosa/core/pitch.py:159: DeprecationWarning: object of type <class 'numpy.float64'> cannot be safely interpreted as an integer.\n",
      "  bins = np.linspace(-0.5, 0.5, np.ceil(1./resolution), endpoint=False)\n",
      "/home/nvidia/github/python_environments/soundflux/lib/python3.5/site-packages/librosa/core/pitch.py:159: DeprecationWarning: object of type <class 'numpy.float64'> cannot be safely interpreted as an integer.\n",
      "  bins = np.linspace(-0.5, 0.5, np.ceil(1./resolution), endpoint=False)\n",
      "/home/nvidia/github/python_environments/soundflux/lib/python3.5/site-packages/librosa/core/pitch.py:159: DeprecationWarning: object of type <class 'numpy.float64'> cannot be safely interpreted as an integer.\n",
      "  bins = np.linspace(-0.5, 0.5, np.ceil(1./resolution), endpoint=False)\n",
      "/home/nvidia/github/python_environments/soundflux/lib/python3.5/site-packages/librosa/core/pitch.py:159: DeprecationWarning: object of type <class 'numpy.float64'> cannot be safely interpreted as an integer.\n",
      "  bins = np.linspace(-0.5, 0.5, np.ceil(1./resolution), endpoint=False)\n",
      "/home/nvidia/github/python_environments/soundflux/lib/python3.5/site-packages/librosa/core/pitch.py:159: DeprecationWarning: object of type <class 'numpy.float64'> cannot be safely interpreted as an integer.\n",
      "  bins = np.linspace(-0.5, 0.5, np.ceil(1./resolution), endpoint=False)\n"
     ]
    },
    {
     "name": "stdout",
     "output_type": "stream",
     "text": [
      "\n"
     ]
    },
    {
     "name": "stderr",
     "output_type": "stream",
     "text": [
      "/home/nvidia/github/python_environments/soundflux/lib/python3.5/site-packages/librosa/util/utils.py:828: FutureWarning: Using a non-tuple sequence for multidimensional indexing is deprecated; use `arr[tuple(seq)]` instead of `arr[seq]`. In the future this will be interpreted as an array index, `arr[np.array(seq)]`, which will result either in an error or a different result.\n",
      "  return (x > x_pad[inds1]) & (x >= x_pad[inds2])\n",
      "/home/nvidia/github/python_environments/soundflux/lib/python3.5/site-packages/librosa/core/pitch.py:159: DeprecationWarning: object of type <class 'numpy.float64'> cannot be safely interpreted as an integer.\n",
      "  bins = np.linspace(-0.5, 0.5, np.ceil(1./resolution), endpoint=False)\n",
      "/home/nvidia/github/python_environments/soundflux/lib/python3.5/site-packages/librosa/core/pitch.py:159: DeprecationWarning: object of type <class 'numpy.float64'> cannot be safely interpreted as an integer.\n",
      "  bins = np.linspace(-0.5, 0.5, np.ceil(1./resolution), endpoint=False)\n",
      "/home/nvidia/github/python_environments/soundflux/lib/python3.5/site-packages/librosa/core/pitch.py:159: DeprecationWarning: object of type <class 'numpy.float64'> cannot be safely interpreted as an integer.\n",
      "  bins = np.linspace(-0.5, 0.5, np.ceil(1./resolution), endpoint=False)\n"
     ]
    },
    {
     "name": "stdout",
     "output_type": "stream",
     "text": [
      "\n"
     ]
    },
    {
     "name": "stderr",
     "output_type": "stream",
     "text": [
      "/home/nvidia/github/python_environments/soundflux/lib/python3.5/site-packages/librosa/util/utils.py:828: FutureWarning: Using a non-tuple sequence for multidimensional indexing is deprecated; use `arr[tuple(seq)]` instead of `arr[seq]`. In the future this will be interpreted as an array index, `arr[np.array(seq)]`, which will result either in an error or a different result.\n",
      "  return (x > x_pad[inds1]) & (x >= x_pad[inds2])\n",
      "/home/nvidia/github/python_environments/soundflux/lib/python3.5/site-packages/librosa/core/pitch.py:159: DeprecationWarning: object of type <class 'numpy.float64'> cannot be safely interpreted as an integer.\n",
      "  bins = np.linspace(-0.5, 0.5, np.ceil(1./resolution), endpoint=False)\n",
      "/home/nvidia/github/python_environments/soundflux/lib/python3.5/site-packages/librosa/core/pitch.py:159: DeprecationWarning: object of type <class 'numpy.float64'> cannot be safely interpreted as an integer.\n",
      "  bins = np.linspace(-0.5, 0.5, np.ceil(1./resolution), endpoint=False)\n",
      "/home/nvidia/github/python_environments/soundflux/lib/python3.5/site-packages/librosa/core/pitch.py:159: DeprecationWarning: object of type <class 'numpy.float64'> cannot be safely interpreted as an integer.\n",
      "  bins = np.linspace(-0.5, 0.5, np.ceil(1./resolution), endpoint=False)\n",
      "/home/nvidia/github/python_environments/soundflux/lib/python3.5/site-packages/librosa/core/pitch.py:159: DeprecationWarning: object of type <class 'numpy.float64'> cannot be safely interpreted as an integer.\n",
      "  bins = np.linspace(-0.5, 0.5, np.ceil(1./resolution), endpoint=False)\n"
     ]
    },
    {
     "name": "stdout",
     "output_type": "stream",
     "text": [
      "\n"
     ]
    },
    {
     "name": "stderr",
     "output_type": "stream",
     "text": [
      "/home/nvidia/github/python_environments/soundflux/lib/python3.5/site-packages/librosa/util/utils.py:828: FutureWarning: Using a non-tuple sequence for multidimensional indexing is deprecated; use `arr[tuple(seq)]` instead of `arr[seq]`. In the future this will be interpreted as an array index, `arr[np.array(seq)]`, which will result either in an error or a different result.\n",
      "  return (x > x_pad[inds1]) & (x >= x_pad[inds2])\n",
      "/home/nvidia/github/python_environments/soundflux/lib/python3.5/site-packages/librosa/core/pitch.py:159: DeprecationWarning: object of type <class 'numpy.float64'> cannot be safely interpreted as an integer.\n",
      "  bins = np.linspace(-0.5, 0.5, np.ceil(1./resolution), endpoint=False)\n"
     ]
    },
    {
     "name": "stdout",
     "output_type": "stream",
     "text": [
      "\n"
     ]
    },
    {
     "name": "stderr",
     "output_type": "stream",
     "text": [
      "/home/nvidia/github/python_environments/soundflux/lib/python3.5/site-packages/librosa/util/utils.py:828: FutureWarning: Using a non-tuple sequence for multidimensional indexing is deprecated; use `arr[tuple(seq)]` instead of `arr[seq]`. In the future this will be interpreted as an array index, `arr[np.array(seq)]`, which will result either in an error or a different result.\n",
      "  return (x > x_pad[inds1]) & (x >= x_pad[inds2])\n",
      "/home/nvidia/github/python_environments/soundflux/lib/python3.5/site-packages/librosa/core/pitch.py:159: DeprecationWarning: object of type <class 'numpy.float64'> cannot be safely interpreted as an integer.\n",
      "  bins = np.linspace(-0.5, 0.5, np.ceil(1./resolution), endpoint=False)\n",
      "/home/nvidia/github/python_environments/soundflux/lib/python3.5/site-packages/librosa/core/pitch.py:159: DeprecationWarning: object of type <class 'numpy.float64'> cannot be safely interpreted as an integer.\n",
      "  bins = np.linspace(-0.5, 0.5, np.ceil(1./resolution), endpoint=False)\n",
      "/home/nvidia/github/python_environments/soundflux/lib/python3.5/site-packages/librosa/core/pitch.py:159: DeprecationWarning: object of type <class 'numpy.float64'> cannot be safely interpreted as an integer.\n",
      "  bins = np.linspace(-0.5, 0.5, np.ceil(1./resolution), endpoint=False)\n",
      "/home/nvidia/github/python_environments/soundflux/lib/python3.5/site-packages/librosa/core/pitch.py:159: DeprecationWarning: object of type <class 'numpy.float64'> cannot be safely interpreted as an integer.\n",
      "  bins = np.linspace(-0.5, 0.5, np.ceil(1./resolution), endpoint=False)\n"
     ]
    },
    {
     "name": "stdout",
     "output_type": "stream",
     "text": [
      "\n",
      "\n",
      "\n"
     ]
    },
    {
     "name": "stderr",
     "output_type": "stream",
     "text": [
      "/home/nvidia/github/python_environments/soundflux/lib/python3.5/site-packages/librosa/util/utils.py:828: FutureWarning: Using a non-tuple sequence for multidimensional indexing is deprecated; use `arr[tuple(seq)]` instead of `arr[seq]`. In the future this will be interpreted as an array index, `arr[np.array(seq)]`, which will result either in an error or a different result.\n",
      "  return (x > x_pad[inds1]) & (x >= x_pad[inds2])\n",
      "/home/nvidia/github/python_environments/soundflux/lib/python3.5/site-packages/librosa/core/pitch.py:159: DeprecationWarning: object of type <class 'numpy.float64'> cannot be safely interpreted as an integer.\n",
      "  bins = np.linspace(-0.5, 0.5, np.ceil(1./resolution), endpoint=False)\n"
     ]
    },
    {
     "name": "stdout",
     "output_type": "stream",
     "text": [
      "\n"
     ]
    },
    {
     "name": "stderr",
     "output_type": "stream",
     "text": [
      "/home/nvidia/github/python_environments/soundflux/lib/python3.5/site-packages/librosa/util/utils.py:828: FutureWarning: Using a non-tuple sequence for multidimensional indexing is deprecated; use `arr[tuple(seq)]` instead of `arr[seq]`. In the future this will be interpreted as an array index, `arr[np.array(seq)]`, which will result either in an error or a different result.\n",
      "  return (x > x_pad[inds1]) & (x >= x_pad[inds2])\n",
      "/home/nvidia/github/python_environments/soundflux/lib/python3.5/site-packages/librosa/core/pitch.py:159: DeprecationWarning: object of type <class 'numpy.float64'> cannot be safely interpreted as an integer.\n",
      "  bins = np.linspace(-0.5, 0.5, np.ceil(1./resolution), endpoint=False)\n",
      "/home/nvidia/github/python_environments/soundflux/lib/python3.5/site-packages/librosa/core/pitch.py:159: DeprecationWarning: object of type <class 'numpy.float64'> cannot be safely interpreted as an integer.\n",
      "  bins = np.linspace(-0.5, 0.5, np.ceil(1./resolution), endpoint=False)\n",
      "/home/nvidia/github/python_environments/soundflux/lib/python3.5/site-packages/librosa/core/pitch.py:159: DeprecationWarning: object of type <class 'numpy.float64'> cannot be safely interpreted as an integer.\n",
      "  bins = np.linspace(-0.5, 0.5, np.ceil(1./resolution), endpoint=False)\n",
      "/home/nvidia/github/python_environments/soundflux/lib/python3.5/site-packages/librosa/core/pitch.py:159: DeprecationWarning: object of type <class 'numpy.float64'> cannot be safely interpreted as an integer.\n",
      "  bins = np.linspace(-0.5, 0.5, np.ceil(1./resolution), endpoint=False)\n",
      "/home/nvidia/github/python_environments/soundflux/lib/python3.5/site-packages/librosa/core/pitch.py:159: DeprecationWarning: object of type <class 'numpy.float64'> cannot be safely interpreted as an integer.\n",
      "  bins = np.linspace(-0.5, 0.5, np.ceil(1./resolution), endpoint=False)\n",
      "/home/nvidia/github/python_environments/soundflux/lib/python3.5/site-packages/librosa/core/pitch.py:159: DeprecationWarning: object of type <class 'numpy.float64'> cannot be safely interpreted as an integer.\n",
      "  bins = np.linspace(-0.5, 0.5, np.ceil(1./resolution), endpoint=False)\n",
      "/home/nvidia/github/python_environments/soundflux/lib/python3.5/site-packages/librosa/core/pitch.py:159: DeprecationWarning: object of type <class 'numpy.float64'> cannot be safely interpreted as an integer.\n",
      "  bins = np.linspace(-0.5, 0.5, np.ceil(1./resolution), endpoint=False)\n",
      "/home/nvidia/github/python_environments/soundflux/lib/python3.5/site-packages/librosa/core/pitch.py:159: DeprecationWarning: object of type <class 'numpy.float64'> cannot be safely interpreted as an integer.\n",
      "  bins = np.linspace(-0.5, 0.5, np.ceil(1./resolution), endpoint=False)\n",
      "/home/nvidia/github/python_environments/soundflux/lib/python3.5/site-packages/librosa/core/pitch.py:159: DeprecationWarning: object of type <class 'numpy.float64'> cannot be safely interpreted as an integer.\n",
      "  bins = np.linspace(-0.5, 0.5, np.ceil(1./resolution), endpoint=False)\n",
      "/home/nvidia/github/python_environments/soundflux/lib/python3.5/site-packages/librosa/core/pitch.py:159: DeprecationWarning: object of type <class 'numpy.float64'> cannot be safely interpreted as an integer.\n",
      "  bins = np.linspace(-0.5, 0.5, np.ceil(1./resolution), endpoint=False)\n",
      "/home/nvidia/github/python_environments/soundflux/lib/python3.5/site-packages/librosa/core/pitch.py:159: DeprecationWarning: object of type <class 'numpy.float64'> cannot be safely interpreted as an integer.\n",
      "  bins = np.linspace(-0.5, 0.5, np.ceil(1./resolution), endpoint=False)\n",
      "/home/nvidia/github/python_environments/soundflux/lib/python3.5/site-packages/librosa/core/pitch.py:159: DeprecationWarning: object of type <class 'numpy.float64'> cannot be safely interpreted as an integer.\n",
      "  bins = np.linspace(-0.5, 0.5, np.ceil(1./resolution), endpoint=False)\n",
      "/home/nvidia/github/python_environments/soundflux/lib/python3.5/site-packages/librosa/core/pitch.py:159: DeprecationWarning: object of type <class 'numpy.float64'> cannot be safely interpreted as an integer.\n",
      "  bins = np.linspace(-0.5, 0.5, np.ceil(1./resolution), endpoint=False)\n"
     ]
    },
    {
     "name": "stdout",
     "output_type": "stream",
     "text": [
      "\n"
     ]
    },
    {
     "name": "stderr",
     "output_type": "stream",
     "text": [
      "/home/nvidia/github/python_environments/soundflux/lib/python3.5/site-packages/librosa/util/utils.py:828: FutureWarning: Using a non-tuple sequence for multidimensional indexing is deprecated; use `arr[tuple(seq)]` instead of `arr[seq]`. In the future this will be interpreted as an array index, `arr[np.array(seq)]`, which will result either in an error or a different result.\n",
      "  return (x > x_pad[inds1]) & (x >= x_pad[inds2])\n",
      "/home/nvidia/github/python_environments/soundflux/lib/python3.5/site-packages/librosa/core/pitch.py:159: DeprecationWarning: object of type <class 'numpy.float64'> cannot be safely interpreted as an integer.\n",
      "  bins = np.linspace(-0.5, 0.5, np.ceil(1./resolution), endpoint=False)\n",
      "/home/nvidia/github/python_environments/soundflux/lib/python3.5/site-packages/librosa/core/pitch.py:159: DeprecationWarning: object of type <class 'numpy.float64'> cannot be safely interpreted as an integer.\n",
      "  bins = np.linspace(-0.5, 0.5, np.ceil(1./resolution), endpoint=False)\n",
      "/home/nvidia/github/python_environments/soundflux/lib/python3.5/site-packages/librosa/core/pitch.py:159: DeprecationWarning: object of type <class 'numpy.float64'> cannot be safely interpreted as an integer.\n",
      "  bins = np.linspace(-0.5, 0.5, np.ceil(1./resolution), endpoint=False)\n"
     ]
    },
    {
     "name": "stdout",
     "output_type": "stream",
     "text": [
      "\n"
     ]
    },
    {
     "name": "stderr",
     "output_type": "stream",
     "text": [
      "/home/nvidia/github/python_environments/soundflux/lib/python3.5/site-packages/librosa/util/utils.py:828: FutureWarning: Using a non-tuple sequence for multidimensional indexing is deprecated; use `arr[tuple(seq)]` instead of `arr[seq]`. In the future this will be interpreted as an array index, `arr[np.array(seq)]`, which will result either in an error or a different result.\n",
      "  return (x > x_pad[inds1]) & (x >= x_pad[inds2])\n",
      "/home/nvidia/github/python_environments/soundflux/lib/python3.5/site-packages/librosa/core/pitch.py:159: DeprecationWarning: object of type <class 'numpy.float64'> cannot be safely interpreted as an integer.\n",
      "  bins = np.linspace(-0.5, 0.5, np.ceil(1./resolution), endpoint=False)\n",
      "/home/nvidia/github/python_environments/soundflux/lib/python3.5/site-packages/librosa/core/pitch.py:159: DeprecationWarning: object of type <class 'numpy.float64'> cannot be safely interpreted as an integer.\n",
      "  bins = np.linspace(-0.5, 0.5, np.ceil(1./resolution), endpoint=False)\n"
     ]
    },
    {
     "name": "stdout",
     "output_type": "stream",
     "text": [
      "\n"
     ]
    },
    {
     "name": "stderr",
     "output_type": "stream",
     "text": [
      "/home/nvidia/github/python_environments/soundflux/lib/python3.5/site-packages/librosa/util/utils.py:828: FutureWarning: Using a non-tuple sequence for multidimensional indexing is deprecated; use `arr[tuple(seq)]` instead of `arr[seq]`. In the future this will be interpreted as an array index, `arr[np.array(seq)]`, which will result either in an error or a different result.\n",
      "  return (x > x_pad[inds1]) & (x >= x_pad[inds2])\n",
      "/home/nvidia/github/python_environments/soundflux/lib/python3.5/site-packages/librosa/core/pitch.py:159: DeprecationWarning: object of type <class 'numpy.float64'> cannot be safely interpreted as an integer.\n",
      "  bins = np.linspace(-0.5, 0.5, np.ceil(1./resolution), endpoint=False)\n",
      "/home/nvidia/github/python_environments/soundflux/lib/python3.5/site-packages/librosa/core/pitch.py:159: DeprecationWarning: object of type <class 'numpy.float64'> cannot be safely interpreted as an integer.\n",
      "  bins = np.linspace(-0.5, 0.5, np.ceil(1./resolution), endpoint=False)\n",
      "/home/nvidia/github/python_environments/soundflux/lib/python3.5/site-packages/librosa/core/pitch.py:159: DeprecationWarning: object of type <class 'numpy.float64'> cannot be safely interpreted as an integer.\n",
      "  bins = np.linspace(-0.5, 0.5, np.ceil(1./resolution), endpoint=False)\n",
      "/home/nvidia/github/python_environments/soundflux/lib/python3.5/site-packages/librosa/core/pitch.py:159: DeprecationWarning: object of type <class 'numpy.float64'> cannot be safely interpreted as an integer.\n",
      "  bins = np.linspace(-0.5, 0.5, np.ceil(1./resolution), endpoint=False)\n",
      "/home/nvidia/github/python_environments/soundflux/lib/python3.5/site-packages/librosa/core/pitch.py:159: DeprecationWarning: object of type <class 'numpy.float64'> cannot be safely interpreted as an integer.\n",
      "  bins = np.linspace(-0.5, 0.5, np.ceil(1./resolution), endpoint=False)\n"
     ]
    },
    {
     "name": "stdout",
     "output_type": "stream",
     "text": [
      "\n"
     ]
    },
    {
     "name": "stderr",
     "output_type": "stream",
     "text": [
      "/home/nvidia/github/python_environments/soundflux/lib/python3.5/site-packages/librosa/util/utils.py:828: FutureWarning: Using a non-tuple sequence for multidimensional indexing is deprecated; use `arr[tuple(seq)]` instead of `arr[seq]`. In the future this will be interpreted as an array index, `arr[np.array(seq)]`, which will result either in an error or a different result.\n",
      "  return (x > x_pad[inds1]) & (x >= x_pad[inds2])\n",
      "/home/nvidia/github/python_environments/soundflux/lib/python3.5/site-packages/librosa/core/pitch.py:159: DeprecationWarning: object of type <class 'numpy.float64'> cannot be safely interpreted as an integer.\n",
      "  bins = np.linspace(-0.5, 0.5, np.ceil(1./resolution), endpoint=False)\n",
      "/home/nvidia/github/python_environments/soundflux/lib/python3.5/site-packages/librosa/core/pitch.py:159: DeprecationWarning: object of type <class 'numpy.float64'> cannot be safely interpreted as an integer.\n",
      "  bins = np.linspace(-0.5, 0.5, np.ceil(1./resolution), endpoint=False)\n",
      "/home/nvidia/github/python_environments/soundflux/lib/python3.5/site-packages/librosa/core/pitch.py:159: DeprecationWarning: object of type <class 'numpy.float64'> cannot be safely interpreted as an integer.\n",
      "  bins = np.linspace(-0.5, 0.5, np.ceil(1./resolution), endpoint=False)\n"
     ]
    },
    {
     "name": "stdout",
     "output_type": "stream",
     "text": [
      "\n"
     ]
    },
    {
     "name": "stderr",
     "output_type": "stream",
     "text": [
      "/home/nvidia/github/python_environments/soundflux/lib/python3.5/site-packages/librosa/util/utils.py:828: FutureWarning: Using a non-tuple sequence for multidimensional indexing is deprecated; use `arr[tuple(seq)]` instead of `arr[seq]`. In the future this will be interpreted as an array index, `arr[np.array(seq)]`, which will result either in an error or a different result.\n",
      "  return (x > x_pad[inds1]) & (x >= x_pad[inds2])\n",
      "/home/nvidia/github/python_environments/soundflux/lib/python3.5/site-packages/librosa/core/pitch.py:159: DeprecationWarning: object of type <class 'numpy.float64'> cannot be safely interpreted as an integer.\n",
      "  bins = np.linspace(-0.5, 0.5, np.ceil(1./resolution), endpoint=False)\n",
      "/home/nvidia/github/python_environments/soundflux/lib/python3.5/site-packages/librosa/core/pitch.py:159: DeprecationWarning: object of type <class 'numpy.float64'> cannot be safely interpreted as an integer.\n",
      "  bins = np.linspace(-0.5, 0.5, np.ceil(1./resolution), endpoint=False)\n",
      "/home/nvidia/github/python_environments/soundflux/lib/python3.5/site-packages/librosa/core/pitch.py:159: DeprecationWarning: object of type <class 'numpy.float64'> cannot be safely interpreted as an integer.\n",
      "  bins = np.linspace(-0.5, 0.5, np.ceil(1./resolution), endpoint=False)\n"
     ]
    },
    {
     "name": "stdout",
     "output_type": "stream",
     "text": [
      "\n"
     ]
    },
    {
     "name": "stderr",
     "output_type": "stream",
     "text": [
      "/home/nvidia/github/python_environments/soundflux/lib/python3.5/site-packages/librosa/util/utils.py:828: FutureWarning: Using a non-tuple sequence for multidimensional indexing is deprecated; use `arr[tuple(seq)]` instead of `arr[seq]`. In the future this will be interpreted as an array index, `arr[np.array(seq)]`, which will result either in an error or a different result.\n",
      "  return (x > x_pad[inds1]) & (x >= x_pad[inds2])\n",
      "/home/nvidia/github/python_environments/soundflux/lib/python3.5/site-packages/librosa/core/pitch.py:159: DeprecationWarning: object of type <class 'numpy.float64'> cannot be safely interpreted as an integer.\n",
      "  bins = np.linspace(-0.5, 0.5, np.ceil(1./resolution), endpoint=False)\n",
      "/home/nvidia/github/python_environments/soundflux/lib/python3.5/site-packages/librosa/core/pitch.py:159: DeprecationWarning: object of type <class 'numpy.float64'> cannot be safely interpreted as an integer.\n",
      "  bins = np.linspace(-0.5, 0.5, np.ceil(1./resolution), endpoint=False)\n",
      "/home/nvidia/github/python_environments/soundflux/lib/python3.5/site-packages/librosa/core/pitch.py:159: DeprecationWarning: object of type <class 'numpy.float64'> cannot be safely interpreted as an integer.\n",
      "  bins = np.linspace(-0.5, 0.5, np.ceil(1./resolution), endpoint=False)\n",
      "/home/nvidia/github/python_environments/soundflux/lib/python3.5/site-packages/librosa/core/pitch.py:159: DeprecationWarning: object of type <class 'numpy.float64'> cannot be safely interpreted as an integer.\n",
      "  bins = np.linspace(-0.5, 0.5, np.ceil(1./resolution), endpoint=False)\n",
      "/home/nvidia/github/python_environments/soundflux/lib/python3.5/site-packages/librosa/core/pitch.py:159: DeprecationWarning: object of type <class 'numpy.float64'> cannot be safely interpreted as an integer.\n",
      "  bins = np.linspace(-0.5, 0.5, np.ceil(1./resolution), endpoint=False)\n",
      "/home/nvidia/github/python_environments/soundflux/lib/python3.5/site-packages/librosa/core/pitch.py:159: DeprecationWarning: object of type <class 'numpy.float64'> cannot be safely interpreted as an integer.\n",
      "  bins = np.linspace(-0.5, 0.5, np.ceil(1./resolution), endpoint=False)\n",
      "/home/nvidia/github/python_environments/soundflux/lib/python3.5/site-packages/librosa/core/pitch.py:159: DeprecationWarning: object of type <class 'numpy.float64'> cannot be safely interpreted as an integer.\n",
      "  bins = np.linspace(-0.5, 0.5, np.ceil(1./resolution), endpoint=False)\n",
      "/home/nvidia/github/python_environments/soundflux/lib/python3.5/site-packages/librosa/core/pitch.py:159: DeprecationWarning: object of type <class 'numpy.float64'> cannot be safely interpreted as an integer.\n",
      "  bins = np.linspace(-0.5, 0.5, np.ceil(1./resolution), endpoint=False)\n",
      "/home/nvidia/github/python_environments/soundflux/lib/python3.5/site-packages/librosa/core/pitch.py:159: DeprecationWarning: object of type <class 'numpy.float64'> cannot be safely interpreted as an integer.\n",
      "  bins = np.linspace(-0.5, 0.5, np.ceil(1./resolution), endpoint=False)\n",
      "/home/nvidia/github/python_environments/soundflux/lib/python3.5/site-packages/librosa/core/pitch.py:159: DeprecationWarning: object of type <class 'numpy.float64'> cannot be safely interpreted as an integer.\n",
      "  bins = np.linspace(-0.5, 0.5, np.ceil(1./resolution), endpoint=False)\n",
      "/home/nvidia/github/python_environments/soundflux/lib/python3.5/site-packages/librosa/core/pitch.py:159: DeprecationWarning: object of type <class 'numpy.float64'> cannot be safely interpreted as an integer.\n",
      "  bins = np.linspace(-0.5, 0.5, np.ceil(1./resolution), endpoint=False)\n",
      "/home/nvidia/github/python_environments/soundflux/lib/python3.5/site-packages/librosa/core/pitch.py:159: DeprecationWarning: object of type <class 'numpy.float64'> cannot be safely interpreted as an integer.\n",
      "  bins = np.linspace(-0.5, 0.5, np.ceil(1./resolution), endpoint=False)\n"
     ]
    },
    {
     "name": "stdout",
     "output_type": "stream",
     "text": [
      "\n"
     ]
    },
    {
     "name": "stderr",
     "output_type": "stream",
     "text": [
      "/home/nvidia/github/python_environments/soundflux/lib/python3.5/site-packages/librosa/util/utils.py:828: FutureWarning: Using a non-tuple sequence for multidimensional indexing is deprecated; use `arr[tuple(seq)]` instead of `arr[seq]`. In the future this will be interpreted as an array index, `arr[np.array(seq)]`, which will result either in an error or a different result.\n",
      "  return (x > x_pad[inds1]) & (x >= x_pad[inds2])\n",
      "/home/nvidia/github/python_environments/soundflux/lib/python3.5/site-packages/librosa/core/pitch.py:159: DeprecationWarning: object of type <class 'numpy.float64'> cannot be safely interpreted as an integer.\n",
      "  bins = np.linspace(-0.5, 0.5, np.ceil(1./resolution), endpoint=False)\n",
      "/home/nvidia/github/python_environments/soundflux/lib/python3.5/site-packages/librosa/core/pitch.py:159: DeprecationWarning: object of type <class 'numpy.float64'> cannot be safely interpreted as an integer.\n",
      "  bins = np.linspace(-0.5, 0.5, np.ceil(1./resolution), endpoint=False)\n",
      "/home/nvidia/github/python_environments/soundflux/lib/python3.5/site-packages/librosa/core/pitch.py:159: DeprecationWarning: object of type <class 'numpy.float64'> cannot be safely interpreted as an integer.\n",
      "  bins = np.linspace(-0.5, 0.5, np.ceil(1./resolution), endpoint=False)\n"
     ]
    },
    {
     "name": "stdout",
     "output_type": "stream",
     "text": [
      "\n"
     ]
    },
    {
     "name": "stderr",
     "output_type": "stream",
     "text": [
      "/home/nvidia/github/python_environments/soundflux/lib/python3.5/site-packages/librosa/util/utils.py:828: FutureWarning: Using a non-tuple sequence for multidimensional indexing is deprecated; use `arr[tuple(seq)]` instead of `arr[seq]`. In the future this will be interpreted as an array index, `arr[np.array(seq)]`, which will result either in an error or a different result.\n",
      "  return (x > x_pad[inds1]) & (x >= x_pad[inds2])\n",
      "/home/nvidia/github/python_environments/soundflux/lib/python3.5/site-packages/librosa/core/pitch.py:159: DeprecationWarning: object of type <class 'numpy.float64'> cannot be safely interpreted as an integer.\n",
      "  bins = np.linspace(-0.5, 0.5, np.ceil(1./resolution), endpoint=False)\n",
      "/home/nvidia/github/python_environments/soundflux/lib/python3.5/site-packages/librosa/core/pitch.py:159: DeprecationWarning: object of type <class 'numpy.float64'> cannot be safely interpreted as an integer.\n",
      "  bins = np.linspace(-0.5, 0.5, np.ceil(1./resolution), endpoint=False)\n",
      "/home/nvidia/github/python_environments/soundflux/lib/python3.5/site-packages/librosa/core/pitch.py:159: DeprecationWarning: object of type <class 'numpy.float64'> cannot be safely interpreted as an integer.\n",
      "  bins = np.linspace(-0.5, 0.5, np.ceil(1./resolution), endpoint=False)\n"
     ]
    },
    {
     "name": "stdout",
     "output_type": "stream",
     "text": [
      "\n"
     ]
    },
    {
     "name": "stderr",
     "output_type": "stream",
     "text": [
      "/home/nvidia/github/python_environments/soundflux/lib/python3.5/site-packages/librosa/util/utils.py:828: FutureWarning: Using a non-tuple sequence for multidimensional indexing is deprecated; use `arr[tuple(seq)]` instead of `arr[seq]`. In the future this will be interpreted as an array index, `arr[np.array(seq)]`, which will result either in an error or a different result.\n",
      "  return (x > x_pad[inds1]) & (x >= x_pad[inds2])\n",
      "/home/nvidia/github/python_environments/soundflux/lib/python3.5/site-packages/librosa/core/pitch.py:159: DeprecationWarning: object of type <class 'numpy.float64'> cannot be safely interpreted as an integer.\n",
      "  bins = np.linspace(-0.5, 0.5, np.ceil(1./resolution), endpoint=False)\n",
      "/home/nvidia/github/python_environments/soundflux/lib/python3.5/site-packages/librosa/core/pitch.py:159: DeprecationWarning: object of type <class 'numpy.float64'> cannot be safely interpreted as an integer.\n",
      "  bins = np.linspace(-0.5, 0.5, np.ceil(1./resolution), endpoint=False)\n",
      "/home/nvidia/github/python_environments/soundflux/lib/python3.5/site-packages/librosa/core/pitch.py:159: DeprecationWarning: object of type <class 'numpy.float64'> cannot be safely interpreted as an integer.\n",
      "  bins = np.linspace(-0.5, 0.5, np.ceil(1./resolution), endpoint=False)\n",
      "/home/nvidia/github/python_environments/soundflux/lib/python3.5/site-packages/librosa/core/pitch.py:159: DeprecationWarning: object of type <class 'numpy.float64'> cannot be safely interpreted as an integer.\n",
      "  bins = np.linspace(-0.5, 0.5, np.ceil(1./resolution), endpoint=False)\n",
      "/home/nvidia/github/python_environments/soundflux/lib/python3.5/site-packages/librosa/core/pitch.py:159: DeprecationWarning: object of type <class 'numpy.float64'> cannot be safely interpreted as an integer.\n",
      "  bins = np.linspace(-0.5, 0.5, np.ceil(1./resolution), endpoint=False)\n",
      "/home/nvidia/github/python_environments/soundflux/lib/python3.5/site-packages/librosa/core/pitch.py:159: DeprecationWarning: object of type <class 'numpy.float64'> cannot be safely interpreted as an integer.\n",
      "  bins = np.linspace(-0.5, 0.5, np.ceil(1./resolution), endpoint=False)\n"
     ]
    },
    {
     "name": "stdout",
     "output_type": "stream",
     "text": [
      "\n"
     ]
    },
    {
     "name": "stderr",
     "output_type": "stream",
     "text": [
      "/home/nvidia/github/python_environments/soundflux/lib/python3.5/site-packages/librosa/util/utils.py:828: FutureWarning: Using a non-tuple sequence for multidimensional indexing is deprecated; use `arr[tuple(seq)]` instead of `arr[seq]`. In the future this will be interpreted as an array index, `arr[np.array(seq)]`, which will result either in an error or a different result.\n",
      "  return (x > x_pad[inds1]) & (x >= x_pad[inds2])\n",
      "/home/nvidia/github/python_environments/soundflux/lib/python3.5/site-packages/librosa/core/pitch.py:159: DeprecationWarning: object of type <class 'numpy.float64'> cannot be safely interpreted as an integer.\n",
      "  bins = np.linspace(-0.5, 0.5, np.ceil(1./resolution), endpoint=False)\n",
      "/home/nvidia/github/python_environments/soundflux/lib/python3.5/site-packages/librosa/core/pitch.py:159: DeprecationWarning: object of type <class 'numpy.float64'> cannot be safely interpreted as an integer.\n",
      "  bins = np.linspace(-0.5, 0.5, np.ceil(1./resolution), endpoint=False)\n",
      "/home/nvidia/github/python_environments/soundflux/lib/python3.5/site-packages/librosa/core/pitch.py:159: DeprecationWarning: object of type <class 'numpy.float64'> cannot be safely interpreted as an integer.\n",
      "  bins = np.linspace(-0.5, 0.5, np.ceil(1./resolution), endpoint=False)\n"
     ]
    },
    {
     "name": "stdout",
     "output_type": "stream",
     "text": [
      "\n",
      "\n"
     ]
    },
    {
     "name": "stderr",
     "output_type": "stream",
     "text": [
      "/home/nvidia/github/python_environments/soundflux/lib/python3.5/site-packages/librosa/util/utils.py:828: FutureWarning: Using a non-tuple sequence for multidimensional indexing is deprecated; use `arr[tuple(seq)]` instead of `arr[seq]`. In the future this will be interpreted as an array index, `arr[np.array(seq)]`, which will result either in an error or a different result.\n",
      "  return (x > x_pad[inds1]) & (x >= x_pad[inds2])\n",
      "/home/nvidia/github/python_environments/soundflux/lib/python3.5/site-packages/librosa/core/pitch.py:159: DeprecationWarning: object of type <class 'numpy.float64'> cannot be safely interpreted as an integer.\n",
      "  bins = np.linspace(-0.5, 0.5, np.ceil(1./resolution), endpoint=False)\n"
     ]
    },
    {
     "name": "stdout",
     "output_type": "stream",
     "text": [
      "\n",
      "\n"
     ]
    },
    {
     "name": "stderr",
     "output_type": "stream",
     "text": [
      "/home/nvidia/github/python_environments/soundflux/lib/python3.5/site-packages/librosa/util/utils.py:828: FutureWarning: Using a non-tuple sequence for multidimensional indexing is deprecated; use `arr[tuple(seq)]` instead of `arr[seq]`. In the future this will be interpreted as an array index, `arr[np.array(seq)]`, which will result either in an error or a different result.\n",
      "  return (x > x_pad[inds1]) & (x >= x_pad[inds2])\n",
      "/home/nvidia/github/python_environments/soundflux/lib/python3.5/site-packages/librosa/core/pitch.py:159: DeprecationWarning: object of type <class 'numpy.float64'> cannot be safely interpreted as an integer.\n",
      "  bins = np.linspace(-0.5, 0.5, np.ceil(1./resolution), endpoint=False)\n",
      "/home/nvidia/github/python_environments/soundflux/lib/python3.5/site-packages/librosa/core/pitch.py:159: DeprecationWarning: object of type <class 'numpy.float64'> cannot be safely interpreted as an integer.\n",
      "  bins = np.linspace(-0.5, 0.5, np.ceil(1./resolution), endpoint=False)\n",
      "/home/nvidia/github/python_environments/soundflux/lib/python3.5/site-packages/librosa/core/pitch.py:159: DeprecationWarning: object of type <class 'numpy.float64'> cannot be safely interpreted as an integer.\n",
      "  bins = np.linspace(-0.5, 0.5, np.ceil(1./resolution), endpoint=False)\n",
      "/home/nvidia/github/python_environments/soundflux/lib/python3.5/site-packages/librosa/core/pitch.py:159: DeprecationWarning: object of type <class 'numpy.float64'> cannot be safely interpreted as an integer.\n",
      "  bins = np.linspace(-0.5, 0.5, np.ceil(1./resolution), endpoint=False)\n",
      "/home/nvidia/github/python_environments/soundflux/lib/python3.5/site-packages/librosa/core/pitch.py:159: DeprecationWarning: object of type <class 'numpy.float64'> cannot be safely interpreted as an integer.\n",
      "  bins = np.linspace(-0.5, 0.5, np.ceil(1./resolution), endpoint=False)\n",
      "/home/nvidia/github/python_environments/soundflux/lib/python3.5/site-packages/librosa/core/pitch.py:159: DeprecationWarning: object of type <class 'numpy.float64'> cannot be safely interpreted as an integer.\n",
      "  bins = np.linspace(-0.5, 0.5, np.ceil(1./resolution), endpoint=False)\n",
      "/home/nvidia/github/python_environments/soundflux/lib/python3.5/site-packages/librosa/core/pitch.py:159: DeprecationWarning: object of type <class 'numpy.float64'> cannot be safely interpreted as an integer.\n",
      "  bins = np.linspace(-0.5, 0.5, np.ceil(1./resolution), endpoint=False)\n",
      "/home/nvidia/github/python_environments/soundflux/lib/python3.5/site-packages/librosa/core/pitch.py:159: DeprecationWarning: object of type <class 'numpy.float64'> cannot be safely interpreted as an integer.\n",
      "  bins = np.linspace(-0.5, 0.5, np.ceil(1./resolution), endpoint=False)\n",
      "/home/nvidia/github/python_environments/soundflux/lib/python3.5/site-packages/librosa/core/pitch.py:159: DeprecationWarning: object of type <class 'numpy.float64'> cannot be safely interpreted as an integer.\n",
      "  bins = np.linspace(-0.5, 0.5, np.ceil(1./resolution), endpoint=False)\n",
      "/home/nvidia/github/python_environments/soundflux/lib/python3.5/site-packages/librosa/core/pitch.py:159: DeprecationWarning: object of type <class 'numpy.float64'> cannot be safely interpreted as an integer.\n",
      "  bins = np.linspace(-0.5, 0.5, np.ceil(1./resolution), endpoint=False)\n",
      "/home/nvidia/github/python_environments/soundflux/lib/python3.5/site-packages/librosa/core/pitch.py:159: DeprecationWarning: object of type <class 'numpy.float64'> cannot be safely interpreted as an integer.\n",
      "  bins = np.linspace(-0.5, 0.5, np.ceil(1./resolution), endpoint=False)\n",
      "/home/nvidia/github/python_environments/soundflux/lib/python3.5/site-packages/librosa/core/pitch.py:159: DeprecationWarning: object of type <class 'numpy.float64'> cannot be safely interpreted as an integer.\n",
      "  bins = np.linspace(-0.5, 0.5, np.ceil(1./resolution), endpoint=False)\n",
      "/home/nvidia/github/python_environments/soundflux/lib/python3.5/site-packages/librosa/core/pitch.py:159: DeprecationWarning: object of type <class 'numpy.float64'> cannot be safely interpreted as an integer.\n",
      "  bins = np.linspace(-0.5, 0.5, np.ceil(1./resolution), endpoint=False)\n",
      "/home/nvidia/github/python_environments/soundflux/lib/python3.5/site-packages/librosa/core/pitch.py:159: DeprecationWarning: object of type <class 'numpy.float64'> cannot be safely interpreted as an integer.\n",
      "  bins = np.linspace(-0.5, 0.5, np.ceil(1./resolution), endpoint=False)\n",
      "/home/nvidia/github/python_environments/soundflux/lib/python3.5/site-packages/librosa/core/pitch.py:159: DeprecationWarning: object of type <class 'numpy.float64'> cannot be safely interpreted as an integer.\n",
      "  bins = np.linspace(-0.5, 0.5, np.ceil(1./resolution), endpoint=False)\n",
      "/home/nvidia/github/python_environments/soundflux/lib/python3.5/site-packages/librosa/core/pitch.py:159: DeprecationWarning: object of type <class 'numpy.float64'> cannot be safely interpreted as an integer.\n",
      "  bins = np.linspace(-0.5, 0.5, np.ceil(1./resolution), endpoint=False)\n"
     ]
    },
    {
     "name": "stdout",
     "output_type": "stream",
     "text": [
      "\n"
     ]
    },
    {
     "name": "stderr",
     "output_type": "stream",
     "text": [
      "/home/nvidia/github/python_environments/soundflux/lib/python3.5/site-packages/librosa/util/utils.py:828: FutureWarning: Using a non-tuple sequence for multidimensional indexing is deprecated; use `arr[tuple(seq)]` instead of `arr[seq]`. In the future this will be interpreted as an array index, `arr[np.array(seq)]`, which will result either in an error or a different result.\n",
      "  return (x > x_pad[inds1]) & (x >= x_pad[inds2])\n",
      "/home/nvidia/github/python_environments/soundflux/lib/python3.5/site-packages/librosa/core/pitch.py:159: DeprecationWarning: object of type <class 'numpy.float64'> cannot be safely interpreted as an integer.\n",
      "  bins = np.linspace(-0.5, 0.5, np.ceil(1./resolution), endpoint=False)\n",
      "/home/nvidia/github/python_environments/soundflux/lib/python3.5/site-packages/librosa/core/pitch.py:159: DeprecationWarning: object of type <class 'numpy.float64'> cannot be safely interpreted as an integer.\n",
      "  bins = np.linspace(-0.5, 0.5, np.ceil(1./resolution), endpoint=False)\n",
      "/home/nvidia/github/python_environments/soundflux/lib/python3.5/site-packages/librosa/core/pitch.py:159: DeprecationWarning: object of type <class 'numpy.float64'> cannot be safely interpreted as an integer.\n",
      "  bins = np.linspace(-0.5, 0.5, np.ceil(1./resolution), endpoint=False)\n"
     ]
    },
    {
     "name": "stdout",
     "output_type": "stream",
     "text": [
      "\n"
     ]
    },
    {
     "name": "stderr",
     "output_type": "stream",
     "text": [
      "/home/nvidia/github/python_environments/soundflux/lib/python3.5/site-packages/librosa/util/utils.py:828: FutureWarning: Using a non-tuple sequence for multidimensional indexing is deprecated; use `arr[tuple(seq)]` instead of `arr[seq]`. In the future this will be interpreted as an array index, `arr[np.array(seq)]`, which will result either in an error or a different result.\n",
      "  return (x > x_pad[inds1]) & (x >= x_pad[inds2])\n",
      "/home/nvidia/github/python_environments/soundflux/lib/python3.5/site-packages/librosa/core/pitch.py:159: DeprecationWarning: object of type <class 'numpy.float64'> cannot be safely interpreted as an integer.\n",
      "  bins = np.linspace(-0.5, 0.5, np.ceil(1./resolution), endpoint=False)\n",
      "/home/nvidia/github/python_environments/soundflux/lib/python3.5/site-packages/librosa/core/pitch.py:159: DeprecationWarning: object of type <class 'numpy.float64'> cannot be safely interpreted as an integer.\n",
      "  bins = np.linspace(-0.5, 0.5, np.ceil(1./resolution), endpoint=False)\n",
      "/home/nvidia/github/python_environments/soundflux/lib/python3.5/site-packages/librosa/core/pitch.py:159: DeprecationWarning: object of type <class 'numpy.float64'> cannot be safely interpreted as an integer.\n",
      "  bins = np.linspace(-0.5, 0.5, np.ceil(1./resolution), endpoint=False)\n"
     ]
    },
    {
     "name": "stdout",
     "output_type": "stream",
     "text": [
      "\n"
     ]
    },
    {
     "name": "stderr",
     "output_type": "stream",
     "text": [
      "/home/nvidia/github/python_environments/soundflux/lib/python3.5/site-packages/librosa/util/utils.py:828: FutureWarning: Using a non-tuple sequence for multidimensional indexing is deprecated; use `arr[tuple(seq)]` instead of `arr[seq]`. In the future this will be interpreted as an array index, `arr[np.array(seq)]`, which will result either in an error or a different result.\n",
      "  return (x > x_pad[inds1]) & (x >= x_pad[inds2])\n",
      "/home/nvidia/github/python_environments/soundflux/lib/python3.5/site-packages/librosa/core/pitch.py:159: DeprecationWarning: object of type <class 'numpy.float64'> cannot be safely interpreted as an integer.\n",
      "  bins = np.linspace(-0.5, 0.5, np.ceil(1./resolution), endpoint=False)\n",
      "/home/nvidia/github/python_environments/soundflux/lib/python3.5/site-packages/librosa/core/pitch.py:159: DeprecationWarning: object of type <class 'numpy.float64'> cannot be safely interpreted as an integer.\n",
      "  bins = np.linspace(-0.5, 0.5, np.ceil(1./resolution), endpoint=False)\n",
      "/home/nvidia/github/python_environments/soundflux/lib/python3.5/site-packages/librosa/core/pitch.py:159: DeprecationWarning: object of type <class 'numpy.float64'> cannot be safely interpreted as an integer.\n",
      "  bins = np.linspace(-0.5, 0.5, np.ceil(1./resolution), endpoint=False)\n",
      "/home/nvidia/github/python_environments/soundflux/lib/python3.5/site-packages/librosa/core/pitch.py:159: DeprecationWarning: object of type <class 'numpy.float64'> cannot be safely interpreted as an integer.\n",
      "  bins = np.linspace(-0.5, 0.5, np.ceil(1./resolution), endpoint=False)\n",
      "/home/nvidia/github/python_environments/soundflux/lib/python3.5/site-packages/librosa/core/pitch.py:159: DeprecationWarning: object of type <class 'numpy.float64'> cannot be safely interpreted as an integer.\n",
      "  bins = np.linspace(-0.5, 0.5, np.ceil(1./resolution), endpoint=False)\n",
      "/home/nvidia/github/python_environments/soundflux/lib/python3.5/site-packages/librosa/core/pitch.py:159: DeprecationWarning: object of type <class 'numpy.float64'> cannot be safely interpreted as an integer.\n",
      "  bins = np.linspace(-0.5, 0.5, np.ceil(1./resolution), endpoint=False)\n",
      "/home/nvidia/github/python_environments/soundflux/lib/python3.5/site-packages/librosa/core/pitch.py:159: DeprecationWarning: object of type <class 'numpy.float64'> cannot be safely interpreted as an integer.\n",
      "  bins = np.linspace(-0.5, 0.5, np.ceil(1./resolution), endpoint=False)\n"
     ]
    },
    {
     "name": "stdout",
     "output_type": "stream",
     "text": [
      "\n",
      "\n",
      "\n",
      "\n",
      "\n"
     ]
    },
    {
     "name": "stderr",
     "output_type": "stream",
     "text": [
      "/home/nvidia/github/python_environments/soundflux/lib/python3.5/site-packages/librosa/util/utils.py:828: FutureWarning: Using a non-tuple sequence for multidimensional indexing is deprecated; use `arr[tuple(seq)]` instead of `arr[seq]`. In the future this will be interpreted as an array index, `arr[np.array(seq)]`, which will result either in an error or a different result.\n",
      "  return (x > x_pad[inds1]) & (x >= x_pad[inds2])\n",
      "/home/nvidia/github/python_environments/soundflux/lib/python3.5/site-packages/librosa/core/pitch.py:159: DeprecationWarning: object of type <class 'numpy.float64'> cannot be safely interpreted as an integer.\n",
      "  bins = np.linspace(-0.5, 0.5, np.ceil(1./resolution), endpoint=False)\n",
      "/home/nvidia/github/python_environments/soundflux/lib/python3.5/site-packages/librosa/core/pitch.py:159: DeprecationWarning: object of type <class 'numpy.float64'> cannot be safely interpreted as an integer.\n",
      "  bins = np.linspace(-0.5, 0.5, np.ceil(1./resolution), endpoint=False)\n",
      "/home/nvidia/github/python_environments/soundflux/lib/python3.5/site-packages/librosa/core/pitch.py:159: DeprecationWarning: object of type <class 'numpy.float64'> cannot be safely interpreted as an integer.\n",
      "  bins = np.linspace(-0.5, 0.5, np.ceil(1./resolution), endpoint=False)\n",
      "/home/nvidia/github/python_environments/soundflux/lib/python3.5/site-packages/librosa/core/pitch.py:159: DeprecationWarning: object of type <class 'numpy.float64'> cannot be safely interpreted as an integer.\n",
      "  bins = np.linspace(-0.5, 0.5, np.ceil(1./resolution), endpoint=False)\n",
      "/home/nvidia/github/python_environments/soundflux/lib/python3.5/site-packages/librosa/core/pitch.py:159: DeprecationWarning: object of type <class 'numpy.float64'> cannot be safely interpreted as an integer.\n",
      "  bins = np.linspace(-0.5, 0.5, np.ceil(1./resolution), endpoint=False)\n",
      "/home/nvidia/github/python_environments/soundflux/lib/python3.5/site-packages/librosa/core/pitch.py:159: DeprecationWarning: object of type <class 'numpy.float64'> cannot be safely interpreted as an integer.\n",
      "  bins = np.linspace(-0.5, 0.5, np.ceil(1./resolution), endpoint=False)\n",
      "/home/nvidia/github/python_environments/soundflux/lib/python3.5/site-packages/librosa/core/pitch.py:159: DeprecationWarning: object of type <class 'numpy.float64'> cannot be safely interpreted as an integer.\n",
      "  bins = np.linspace(-0.5, 0.5, np.ceil(1./resolution), endpoint=False)\n",
      "/home/nvidia/github/python_environments/soundflux/lib/python3.5/site-packages/librosa/core/pitch.py:159: DeprecationWarning: object of type <class 'numpy.float64'> cannot be safely interpreted as an integer.\n",
      "  bins = np.linspace(-0.5, 0.5, np.ceil(1./resolution), endpoint=False)\n"
     ]
    },
    {
     "name": "stdout",
     "output_type": "stream",
     "text": [
      "\n"
     ]
    },
    {
     "name": "stderr",
     "output_type": "stream",
     "text": [
      "/home/nvidia/github/python_environments/soundflux/lib/python3.5/site-packages/librosa/util/utils.py:828: FutureWarning: Using a non-tuple sequence for multidimensional indexing is deprecated; use `arr[tuple(seq)]` instead of `arr[seq]`. In the future this will be interpreted as an array index, `arr[np.array(seq)]`, which will result either in an error or a different result.\n",
      "  return (x > x_pad[inds1]) & (x >= x_pad[inds2])\n",
      "/home/nvidia/github/python_environments/soundflux/lib/python3.5/site-packages/librosa/core/pitch.py:159: DeprecationWarning: object of type <class 'numpy.float64'> cannot be safely interpreted as an integer.\n",
      "  bins = np.linspace(-0.5, 0.5, np.ceil(1./resolution), endpoint=False)\n"
     ]
    },
    {
     "name": "stdout",
     "output_type": "stream",
     "text": [
      "\n"
     ]
    },
    {
     "name": "stderr",
     "output_type": "stream",
     "text": [
      "/home/nvidia/github/python_environments/soundflux/lib/python3.5/site-packages/librosa/util/utils.py:828: FutureWarning: Using a non-tuple sequence for multidimensional indexing is deprecated; use `arr[tuple(seq)]` instead of `arr[seq]`. In the future this will be interpreted as an array index, `arr[np.array(seq)]`, which will result either in an error or a different result.\n",
      "  return (x > x_pad[inds1]) & (x >= x_pad[inds2])\n",
      "/home/nvidia/github/python_environments/soundflux/lib/python3.5/site-packages/librosa/core/pitch.py:159: DeprecationWarning: object of type <class 'numpy.float64'> cannot be safely interpreted as an integer.\n",
      "  bins = np.linspace(-0.5, 0.5, np.ceil(1./resolution), endpoint=False)\n",
      "/home/nvidia/github/python_environments/soundflux/lib/python3.5/site-packages/librosa/core/pitch.py:159: DeprecationWarning: object of type <class 'numpy.float64'> cannot be safely interpreted as an integer.\n",
      "  bins = np.linspace(-0.5, 0.5, np.ceil(1./resolution), endpoint=False)\n"
     ]
    },
    {
     "name": "stdout",
     "output_type": "stream",
     "text": [
      "\n",
      "\n"
     ]
    },
    {
     "name": "stderr",
     "output_type": "stream",
     "text": [
      "/home/nvidia/github/python_environments/soundflux/lib/python3.5/site-packages/librosa/util/utils.py:828: FutureWarning: Using a non-tuple sequence for multidimensional indexing is deprecated; use `arr[tuple(seq)]` instead of `arr[seq]`. In the future this will be interpreted as an array index, `arr[np.array(seq)]`, which will result either in an error or a different result.\n",
      "  return (x > x_pad[inds1]) & (x >= x_pad[inds2])\n",
      "/home/nvidia/github/python_environments/soundflux/lib/python3.5/site-packages/librosa/core/pitch.py:159: DeprecationWarning: object of type <class 'numpy.float64'> cannot be safely interpreted as an integer.\n",
      "  bins = np.linspace(-0.5, 0.5, np.ceil(1./resolution), endpoint=False)\n"
     ]
    },
    {
     "name": "stdout",
     "output_type": "stream",
     "text": [
      "\n"
     ]
    },
    {
     "name": "stderr",
     "output_type": "stream",
     "text": [
      "/home/nvidia/github/python_environments/soundflux/lib/python3.5/site-packages/librosa/util/utils.py:828: FutureWarning: Using a non-tuple sequence for multidimensional indexing is deprecated; use `arr[tuple(seq)]` instead of `arr[seq]`. In the future this will be interpreted as an array index, `arr[np.array(seq)]`, which will result either in an error or a different result.\n",
      "  return (x > x_pad[inds1]) & (x >= x_pad[inds2])\n",
      "/home/nvidia/github/python_environments/soundflux/lib/python3.5/site-packages/librosa/core/pitch.py:159: DeprecationWarning: object of type <class 'numpy.float64'> cannot be safely interpreted as an integer.\n",
      "  bins = np.linspace(-0.5, 0.5, np.ceil(1./resolution), endpoint=False)\n",
      "/home/nvidia/github/python_environments/soundflux/lib/python3.5/site-packages/librosa/core/pitch.py:159: DeprecationWarning: object of type <class 'numpy.float64'> cannot be safely interpreted as an integer.\n",
      "  bins = np.linspace(-0.5, 0.5, np.ceil(1./resolution), endpoint=False)\n",
      "/home/nvidia/github/python_environments/soundflux/lib/python3.5/site-packages/librosa/core/pitch.py:159: DeprecationWarning: object of type <class 'numpy.float64'> cannot be safely interpreted as an integer.\n",
      "  bins = np.linspace(-0.5, 0.5, np.ceil(1./resolution), endpoint=False)\n",
      "/home/nvidia/github/python_environments/soundflux/lib/python3.5/site-packages/librosa/core/pitch.py:159: DeprecationWarning: object of type <class 'numpy.float64'> cannot be safely interpreted as an integer.\n",
      "  bins = np.linspace(-0.5, 0.5, np.ceil(1./resolution), endpoint=False)\n"
     ]
    },
    {
     "name": "stdout",
     "output_type": "stream",
     "text": [
      "\n"
     ]
    },
    {
     "name": "stderr",
     "output_type": "stream",
     "text": [
      "/home/nvidia/github/python_environments/soundflux/lib/python3.5/site-packages/librosa/util/utils.py:828: FutureWarning: Using a non-tuple sequence for multidimensional indexing is deprecated; use `arr[tuple(seq)]` instead of `arr[seq]`. In the future this will be interpreted as an array index, `arr[np.array(seq)]`, which will result either in an error or a different result.\n",
      "  return (x > x_pad[inds1]) & (x >= x_pad[inds2])\n",
      "/home/nvidia/github/python_environments/soundflux/lib/python3.5/site-packages/librosa/core/pitch.py:159: DeprecationWarning: object of type <class 'numpy.float64'> cannot be safely interpreted as an integer.\n",
      "  bins = np.linspace(-0.5, 0.5, np.ceil(1./resolution), endpoint=False)\n",
      "/home/nvidia/github/python_environments/soundflux/lib/python3.5/site-packages/librosa/core/pitch.py:159: DeprecationWarning: object of type <class 'numpy.float64'> cannot be safely interpreted as an integer.\n",
      "  bins = np.linspace(-0.5, 0.5, np.ceil(1./resolution), endpoint=False)\n",
      "/home/nvidia/github/python_environments/soundflux/lib/python3.5/site-packages/librosa/core/pitch.py:159: DeprecationWarning: object of type <class 'numpy.float64'> cannot be safely interpreted as an integer.\n",
      "  bins = np.linspace(-0.5, 0.5, np.ceil(1./resolution), endpoint=False)\n",
      "/home/nvidia/github/python_environments/soundflux/lib/python3.5/site-packages/librosa/core/pitch.py:159: DeprecationWarning: object of type <class 'numpy.float64'> cannot be safely interpreted as an integer.\n",
      "  bins = np.linspace(-0.5, 0.5, np.ceil(1./resolution), endpoint=False)\n",
      "/home/nvidia/github/python_environments/soundflux/lib/python3.5/site-packages/librosa/core/pitch.py:159: DeprecationWarning: object of type <class 'numpy.float64'> cannot be safely interpreted as an integer.\n",
      "  bins = np.linspace(-0.5, 0.5, np.ceil(1./resolution), endpoint=False)\n",
      "/home/nvidia/github/python_environments/soundflux/lib/python3.5/site-packages/librosa/core/pitch.py:159: DeprecationWarning: object of type <class 'numpy.float64'> cannot be safely interpreted as an integer.\n",
      "  bins = np.linspace(-0.5, 0.5, np.ceil(1./resolution), endpoint=False)\n",
      "/home/nvidia/github/python_environments/soundflux/lib/python3.5/site-packages/librosa/core/pitch.py:159: DeprecationWarning: object of type <class 'numpy.float64'> cannot be safely interpreted as an integer.\n",
      "  bins = np.linspace(-0.5, 0.5, np.ceil(1./resolution), endpoint=False)\n",
      "/home/nvidia/github/python_environments/soundflux/lib/python3.5/site-packages/librosa/core/pitch.py:159: DeprecationWarning: object of type <class 'numpy.float64'> cannot be safely interpreted as an integer.\n",
      "  bins = np.linspace(-0.5, 0.5, np.ceil(1./resolution), endpoint=False)\n"
     ]
    },
    {
     "name": "stdout",
     "output_type": "stream",
     "text": [
      "\n"
     ]
    },
    {
     "name": "stderr",
     "output_type": "stream",
     "text": [
      "/home/nvidia/github/python_environments/soundflux/lib/python3.5/site-packages/librosa/util/utils.py:828: FutureWarning: Using a non-tuple sequence for multidimensional indexing is deprecated; use `arr[tuple(seq)]` instead of `arr[seq]`. In the future this will be interpreted as an array index, `arr[np.array(seq)]`, which will result either in an error or a different result.\n",
      "  return (x > x_pad[inds1]) & (x >= x_pad[inds2])\n",
      "/home/nvidia/github/python_environments/soundflux/lib/python3.5/site-packages/librosa/core/pitch.py:159: DeprecationWarning: object of type <class 'numpy.float64'> cannot be safely interpreted as an integer.\n",
      "  bins = np.linspace(-0.5, 0.5, np.ceil(1./resolution), endpoint=False)\n",
      "/home/nvidia/github/python_environments/soundflux/lib/python3.5/site-packages/librosa/core/pitch.py:159: DeprecationWarning: object of type <class 'numpy.float64'> cannot be safely interpreted as an integer.\n",
      "  bins = np.linspace(-0.5, 0.5, np.ceil(1./resolution), endpoint=False)\n",
      "/home/nvidia/github/python_environments/soundflux/lib/python3.5/site-packages/librosa/core/pitch.py:159: DeprecationWarning: object of type <class 'numpy.float64'> cannot be safely interpreted as an integer.\n",
      "  bins = np.linspace(-0.5, 0.5, np.ceil(1./resolution), endpoint=False)\n",
      "/home/nvidia/github/python_environments/soundflux/lib/python3.5/site-packages/librosa/core/pitch.py:159: DeprecationWarning: object of type <class 'numpy.float64'> cannot be safely interpreted as an integer.\n",
      "  bins = np.linspace(-0.5, 0.5, np.ceil(1./resolution), endpoint=False)\n",
      "/home/nvidia/github/python_environments/soundflux/lib/python3.5/site-packages/librosa/core/pitch.py:159: DeprecationWarning: object of type <class 'numpy.float64'> cannot be safely interpreted as an integer.\n",
      "  bins = np.linspace(-0.5, 0.5, np.ceil(1./resolution), endpoint=False)\n",
      "/home/nvidia/github/python_environments/soundflux/lib/python3.5/site-packages/librosa/core/pitch.py:159: DeprecationWarning: object of type <class 'numpy.float64'> cannot be safely interpreted as an integer.\n",
      "  bins = np.linspace(-0.5, 0.5, np.ceil(1./resolution), endpoint=False)\n"
     ]
    },
    {
     "name": "stdout",
     "output_type": "stream",
     "text": [
      "\n"
     ]
    },
    {
     "name": "stderr",
     "output_type": "stream",
     "text": [
      "/home/nvidia/github/python_environments/soundflux/lib/python3.5/site-packages/librosa/util/utils.py:828: FutureWarning: Using a non-tuple sequence for multidimensional indexing is deprecated; use `arr[tuple(seq)]` instead of `arr[seq]`. In the future this will be interpreted as an array index, `arr[np.array(seq)]`, which will result either in an error or a different result.\n",
      "  return (x > x_pad[inds1]) & (x >= x_pad[inds2])\n",
      "/home/nvidia/github/python_environments/soundflux/lib/python3.5/site-packages/librosa/core/pitch.py:159: DeprecationWarning: object of type <class 'numpy.float64'> cannot be safely interpreted as an integer.\n",
      "  bins = np.linspace(-0.5, 0.5, np.ceil(1./resolution), endpoint=False)\n",
      "/home/nvidia/github/python_environments/soundflux/lib/python3.5/site-packages/librosa/core/pitch.py:159: DeprecationWarning: object of type <class 'numpy.float64'> cannot be safely interpreted as an integer.\n",
      "  bins = np.linspace(-0.5, 0.5, np.ceil(1./resolution), endpoint=False)\n",
      "/home/nvidia/github/python_environments/soundflux/lib/python3.5/site-packages/librosa/core/pitch.py:159: DeprecationWarning: object of type <class 'numpy.float64'> cannot be safely interpreted as an integer.\n",
      "  bins = np.linspace(-0.5, 0.5, np.ceil(1./resolution), endpoint=False)\n"
     ]
    },
    {
     "name": "stdout",
     "output_type": "stream",
     "text": [
      "\n"
     ]
    },
    {
     "name": "stderr",
     "output_type": "stream",
     "text": [
      "/home/nvidia/github/python_environments/soundflux/lib/python3.5/site-packages/librosa/util/utils.py:828: FutureWarning: Using a non-tuple sequence for multidimensional indexing is deprecated; use `arr[tuple(seq)]` instead of `arr[seq]`. In the future this will be interpreted as an array index, `arr[np.array(seq)]`, which will result either in an error or a different result.\n",
      "  return (x > x_pad[inds1]) & (x >= x_pad[inds2])\n",
      "/home/nvidia/github/python_environments/soundflux/lib/python3.5/site-packages/librosa/core/pitch.py:159: DeprecationWarning: object of type <class 'numpy.float64'> cannot be safely interpreted as an integer.\n",
      "  bins = np.linspace(-0.5, 0.5, np.ceil(1./resolution), endpoint=False)\n",
      "/home/nvidia/github/python_environments/soundflux/lib/python3.5/site-packages/librosa/core/pitch.py:159: DeprecationWarning: object of type <class 'numpy.float64'> cannot be safely interpreted as an integer.\n",
      "  bins = np.linspace(-0.5, 0.5, np.ceil(1./resolution), endpoint=False)\n",
      "/home/nvidia/github/python_environments/soundflux/lib/python3.5/site-packages/librosa/core/pitch.py:159: DeprecationWarning: object of type <class 'numpy.float64'> cannot be safely interpreted as an integer.\n",
      "  bins = np.linspace(-0.5, 0.5, np.ceil(1./resolution), endpoint=False)\n",
      "/home/nvidia/github/python_environments/soundflux/lib/python3.5/site-packages/librosa/core/pitch.py:159: DeprecationWarning: object of type <class 'numpy.float64'> cannot be safely interpreted as an integer.\n",
      "  bins = np.linspace(-0.5, 0.5, np.ceil(1./resolution), endpoint=False)\n"
     ]
    },
    {
     "name": "stdout",
     "output_type": "stream",
     "text": [
      "\n"
     ]
    },
    {
     "name": "stderr",
     "output_type": "stream",
     "text": [
      "/home/nvidia/github/python_environments/soundflux/lib/python3.5/site-packages/librosa/util/utils.py:828: FutureWarning: Using a non-tuple sequence for multidimensional indexing is deprecated; use `arr[tuple(seq)]` instead of `arr[seq]`. In the future this will be interpreted as an array index, `arr[np.array(seq)]`, which will result either in an error or a different result.\n",
      "  return (x > x_pad[inds1]) & (x >= x_pad[inds2])\n",
      "/home/nvidia/github/python_environments/soundflux/lib/python3.5/site-packages/librosa/core/pitch.py:159: DeprecationWarning: object of type <class 'numpy.float64'> cannot be safely interpreted as an integer.\n",
      "  bins = np.linspace(-0.5, 0.5, np.ceil(1./resolution), endpoint=False)\n"
     ]
    },
    {
     "name": "stdout",
     "output_type": "stream",
     "text": [
      "\n"
     ]
    },
    {
     "name": "stderr",
     "output_type": "stream",
     "text": [
      "/home/nvidia/github/python_environments/soundflux/lib/python3.5/site-packages/librosa/util/utils.py:828: FutureWarning: Using a non-tuple sequence for multidimensional indexing is deprecated; use `arr[tuple(seq)]` instead of `arr[seq]`. In the future this will be interpreted as an array index, `arr[np.array(seq)]`, which will result either in an error or a different result.\n",
      "  return (x > x_pad[inds1]) & (x >= x_pad[inds2])\n",
      "/home/nvidia/github/python_environments/soundflux/lib/python3.5/site-packages/librosa/core/pitch.py:159: DeprecationWarning: object of type <class 'numpy.float64'> cannot be safely interpreted as an integer.\n",
      "  bins = np.linspace(-0.5, 0.5, np.ceil(1./resolution), endpoint=False)\n",
      "/home/nvidia/github/python_environments/soundflux/lib/python3.5/site-packages/librosa/core/pitch.py:159: DeprecationWarning: object of type <class 'numpy.float64'> cannot be safely interpreted as an integer.\n",
      "  bins = np.linspace(-0.5, 0.5, np.ceil(1./resolution), endpoint=False)\n"
     ]
    },
    {
     "name": "stdout",
     "output_type": "stream",
     "text": [
      "\n"
     ]
    },
    {
     "name": "stderr",
     "output_type": "stream",
     "text": [
      "/home/nvidia/github/python_environments/soundflux/lib/python3.5/site-packages/librosa/util/utils.py:828: FutureWarning: Using a non-tuple sequence for multidimensional indexing is deprecated; use `arr[tuple(seq)]` instead of `arr[seq]`. In the future this will be interpreted as an array index, `arr[np.array(seq)]`, which will result either in an error or a different result.\n",
      "  return (x > x_pad[inds1]) & (x >= x_pad[inds2])\n",
      "/home/nvidia/github/python_environments/soundflux/lib/python3.5/site-packages/librosa/core/pitch.py:159: DeprecationWarning: object of type <class 'numpy.float64'> cannot be safely interpreted as an integer.\n",
      "  bins = np.linspace(-0.5, 0.5, np.ceil(1./resolution), endpoint=False)\n",
      "/home/nvidia/github/python_environments/soundflux/lib/python3.5/site-packages/librosa/core/pitch.py:159: DeprecationWarning: object of type <class 'numpy.float64'> cannot be safely interpreted as an integer.\n",
      "  bins = np.linspace(-0.5, 0.5, np.ceil(1./resolution), endpoint=False)\n",
      "/home/nvidia/github/python_environments/soundflux/lib/python3.5/site-packages/librosa/core/pitch.py:159: DeprecationWarning: object of type <class 'numpy.float64'> cannot be safely interpreted as an integer.\n",
      "  bins = np.linspace(-0.5, 0.5, np.ceil(1./resolution), endpoint=False)\n",
      "/home/nvidia/github/python_environments/soundflux/lib/python3.5/site-packages/librosa/core/pitch.py:159: DeprecationWarning: object of type <class 'numpy.float64'> cannot be safely interpreted as an integer.\n",
      "  bins = np.linspace(-0.5, 0.5, np.ceil(1./resolution), endpoint=False)\n",
      "/home/nvidia/github/python_environments/soundflux/lib/python3.5/site-packages/librosa/core/pitch.py:159: DeprecationWarning: object of type <class 'numpy.float64'> cannot be safely interpreted as an integer.\n",
      "  bins = np.linspace(-0.5, 0.5, np.ceil(1./resolution), endpoint=False)\n",
      "/home/nvidia/github/python_environments/soundflux/lib/python3.5/site-packages/librosa/core/pitch.py:159: DeprecationWarning: object of type <class 'numpy.float64'> cannot be safely interpreted as an integer.\n",
      "  bins = np.linspace(-0.5, 0.5, np.ceil(1./resolution), endpoint=False)\n",
      "/home/nvidia/github/python_environments/soundflux/lib/python3.5/site-packages/librosa/core/pitch.py:159: DeprecationWarning: object of type <class 'numpy.float64'> cannot be safely interpreted as an integer.\n",
      "  bins = np.linspace(-0.5, 0.5, np.ceil(1./resolution), endpoint=False)\n",
      "/home/nvidia/github/python_environments/soundflux/lib/python3.5/site-packages/librosa/core/pitch.py:159: DeprecationWarning: object of type <class 'numpy.float64'> cannot be safely interpreted as an integer.\n",
      "  bins = np.linspace(-0.5, 0.5, np.ceil(1./resolution), endpoint=False)\n",
      "/home/nvidia/github/python_environments/soundflux/lib/python3.5/site-packages/librosa/core/pitch.py:159: DeprecationWarning: object of type <class 'numpy.float64'> cannot be safely interpreted as an integer.\n",
      "  bins = np.linspace(-0.5, 0.5, np.ceil(1./resolution), endpoint=False)\n",
      "/home/nvidia/github/python_environments/soundflux/lib/python3.5/site-packages/librosa/core/pitch.py:159: DeprecationWarning: object of type <class 'numpy.float64'> cannot be safely interpreted as an integer.\n",
      "  bins = np.linspace(-0.5, 0.5, np.ceil(1./resolution), endpoint=False)\n",
      "/home/nvidia/github/python_environments/soundflux/lib/python3.5/site-packages/librosa/core/pitch.py:159: DeprecationWarning: object of type <class 'numpy.float64'> cannot be safely interpreted as an integer.\n",
      "  bins = np.linspace(-0.5, 0.5, np.ceil(1./resolution), endpoint=False)\n",
      "/home/nvidia/github/python_environments/soundflux/lib/python3.5/site-packages/librosa/core/pitch.py:159: DeprecationWarning: object of type <class 'numpy.float64'> cannot be safely interpreted as an integer.\n",
      "  bins = np.linspace(-0.5, 0.5, np.ceil(1./resolution), endpoint=False)\n",
      "/home/nvidia/github/python_environments/soundflux/lib/python3.5/site-packages/librosa/core/pitch.py:159: DeprecationWarning: object of type <class 'numpy.float64'> cannot be safely interpreted as an integer.\n",
      "  bins = np.linspace(-0.5, 0.5, np.ceil(1./resolution), endpoint=False)\n",
      "/home/nvidia/github/python_environments/soundflux/lib/python3.5/site-packages/librosa/core/pitch.py:159: DeprecationWarning: object of type <class 'numpy.float64'> cannot be safely interpreted as an integer.\n",
      "  bins = np.linspace(-0.5, 0.5, np.ceil(1./resolution), endpoint=False)\n",
      "/home/nvidia/github/python_environments/soundflux/lib/python3.5/site-packages/librosa/core/pitch.py:159: DeprecationWarning: object of type <class 'numpy.float64'> cannot be safely interpreted as an integer.\n",
      "  bins = np.linspace(-0.5, 0.5, np.ceil(1./resolution), endpoint=False)\n",
      "/home/nvidia/github/python_environments/soundflux/lib/python3.5/site-packages/librosa/core/pitch.py:159: DeprecationWarning: object of type <class 'numpy.float64'> cannot be safely interpreted as an integer.\n",
      "  bins = np.linspace(-0.5, 0.5, np.ceil(1./resolution), endpoint=False)\n"
     ]
    },
    {
     "name": "stdout",
     "output_type": "stream",
     "text": [
      "\n"
     ]
    },
    {
     "name": "stderr",
     "output_type": "stream",
     "text": [
      "/home/nvidia/github/python_environments/soundflux/lib/python3.5/site-packages/librosa/util/utils.py:828: FutureWarning: Using a non-tuple sequence for multidimensional indexing is deprecated; use `arr[tuple(seq)]` instead of `arr[seq]`. In the future this will be interpreted as an array index, `arr[np.array(seq)]`, which will result either in an error or a different result.\n",
      "  return (x > x_pad[inds1]) & (x >= x_pad[inds2])\n",
      "/home/nvidia/github/python_environments/soundflux/lib/python3.5/site-packages/librosa/core/pitch.py:159: DeprecationWarning: object of type <class 'numpy.float64'> cannot be safely interpreted as an integer.\n",
      "  bins = np.linspace(-0.5, 0.5, np.ceil(1./resolution), endpoint=False)\n",
      "/home/nvidia/github/python_environments/soundflux/lib/python3.5/site-packages/librosa/core/pitch.py:159: DeprecationWarning: object of type <class 'numpy.float64'> cannot be safely interpreted as an integer.\n",
      "  bins = np.linspace(-0.5, 0.5, np.ceil(1./resolution), endpoint=False)\n",
      "/home/nvidia/github/python_environments/soundflux/lib/python3.5/site-packages/librosa/core/pitch.py:159: DeprecationWarning: object of type <class 'numpy.float64'> cannot be safely interpreted as an integer.\n",
      "  bins = np.linspace(-0.5, 0.5, np.ceil(1./resolution), endpoint=False)\n",
      "/home/nvidia/github/python_environments/soundflux/lib/python3.5/site-packages/librosa/core/pitch.py:159: DeprecationWarning: object of type <class 'numpy.float64'> cannot be safely interpreted as an integer.\n",
      "  bins = np.linspace(-0.5, 0.5, np.ceil(1./resolution), endpoint=False)\n"
     ]
    },
    {
     "name": "stdout",
     "output_type": "stream",
     "text": [
      "\n"
     ]
    },
    {
     "name": "stderr",
     "output_type": "stream",
     "text": [
      "/home/nvidia/github/python_environments/soundflux/lib/python3.5/site-packages/librosa/util/utils.py:828: FutureWarning: Using a non-tuple sequence for multidimensional indexing is deprecated; use `arr[tuple(seq)]` instead of `arr[seq]`. In the future this will be interpreted as an array index, `arr[np.array(seq)]`, which will result either in an error or a different result.\n",
      "  return (x > x_pad[inds1]) & (x >= x_pad[inds2])\n",
      "/home/nvidia/github/python_environments/soundflux/lib/python3.5/site-packages/librosa/core/pitch.py:159: DeprecationWarning: object of type <class 'numpy.float64'> cannot be safely interpreted as an integer.\n",
      "  bins = np.linspace(-0.5, 0.5, np.ceil(1./resolution), endpoint=False)\n",
      "/home/nvidia/github/python_environments/soundflux/lib/python3.5/site-packages/librosa/core/pitch.py:159: DeprecationWarning: object of type <class 'numpy.float64'> cannot be safely interpreted as an integer.\n",
      "  bins = np.linspace(-0.5, 0.5, np.ceil(1./resolution), endpoint=False)\n",
      "/home/nvidia/github/python_environments/soundflux/lib/python3.5/site-packages/librosa/core/pitch.py:159: DeprecationWarning: object of type <class 'numpy.float64'> cannot be safely interpreted as an integer.\n",
      "  bins = np.linspace(-0.5, 0.5, np.ceil(1./resolution), endpoint=False)\n",
      "/home/nvidia/github/python_environments/soundflux/lib/python3.5/site-packages/librosa/core/pitch.py:159: DeprecationWarning: object of type <class 'numpy.float64'> cannot be safely interpreted as an integer.\n",
      "  bins = np.linspace(-0.5, 0.5, np.ceil(1./resolution), endpoint=False)\n",
      "/home/nvidia/github/python_environments/soundflux/lib/python3.5/site-packages/librosa/core/pitch.py:159: DeprecationWarning: object of type <class 'numpy.float64'> cannot be safely interpreted as an integer.\n",
      "  bins = np.linspace(-0.5, 0.5, np.ceil(1./resolution), endpoint=False)\n",
      "/home/nvidia/github/python_environments/soundflux/lib/python3.5/site-packages/librosa/core/pitch.py:159: DeprecationWarning: object of type <class 'numpy.float64'> cannot be safely interpreted as an integer.\n",
      "  bins = np.linspace(-0.5, 0.5, np.ceil(1./resolution), endpoint=False)\n",
      "/home/nvidia/github/python_environments/soundflux/lib/python3.5/site-packages/librosa/core/pitch.py:159: DeprecationWarning: object of type <class 'numpy.float64'> cannot be safely interpreted as an integer.\n",
      "  bins = np.linspace(-0.5, 0.5, np.ceil(1./resolution), endpoint=False)\n",
      "/home/nvidia/github/python_environments/soundflux/lib/python3.5/site-packages/librosa/core/pitch.py:159: DeprecationWarning: object of type <class 'numpy.float64'> cannot be safely interpreted as an integer.\n",
      "  bins = np.linspace(-0.5, 0.5, np.ceil(1./resolution), endpoint=False)\n",
      "/home/nvidia/github/python_environments/soundflux/lib/python3.5/site-packages/librosa/core/pitch.py:159: DeprecationWarning: object of type <class 'numpy.float64'> cannot be safely interpreted as an integer.\n",
      "  bins = np.linspace(-0.5, 0.5, np.ceil(1./resolution), endpoint=False)\n",
      "/home/nvidia/github/python_environments/soundflux/lib/python3.5/site-packages/librosa/core/pitch.py:159: DeprecationWarning: object of type <class 'numpy.float64'> cannot be safely interpreted as an integer.\n",
      "  bins = np.linspace(-0.5, 0.5, np.ceil(1./resolution), endpoint=False)\n",
      "/home/nvidia/github/python_environments/soundflux/lib/python3.5/site-packages/librosa/core/pitch.py:159: DeprecationWarning: object of type <class 'numpy.float64'> cannot be safely interpreted as an integer.\n",
      "  bins = np.linspace(-0.5, 0.5, np.ceil(1./resolution), endpoint=False)\n",
      "/home/nvidia/github/python_environments/soundflux/lib/python3.5/site-packages/librosa/core/pitch.py:159: DeprecationWarning: object of type <class 'numpy.float64'> cannot be safely interpreted as an integer.\n",
      "  bins = np.linspace(-0.5, 0.5, np.ceil(1./resolution), endpoint=False)\n",
      "/home/nvidia/github/python_environments/soundflux/lib/python3.5/site-packages/librosa/core/pitch.py:159: DeprecationWarning: object of type <class 'numpy.float64'> cannot be safely interpreted as an integer.\n",
      "  bins = np.linspace(-0.5, 0.5, np.ceil(1./resolution), endpoint=False)\n",
      "/home/nvidia/github/python_environments/soundflux/lib/python3.5/site-packages/librosa/core/pitch.py:159: DeprecationWarning: object of type <class 'numpy.float64'> cannot be safely interpreted as an integer.\n",
      "  bins = np.linspace(-0.5, 0.5, np.ceil(1./resolution), endpoint=False)\n",
      "/home/nvidia/github/python_environments/soundflux/lib/python3.5/site-packages/librosa/core/pitch.py:159: DeprecationWarning: object of type <class 'numpy.float64'> cannot be safely interpreted as an integer.\n",
      "  bins = np.linspace(-0.5, 0.5, np.ceil(1./resolution), endpoint=False)\n",
      "/home/nvidia/github/python_environments/soundflux/lib/python3.5/site-packages/librosa/core/pitch.py:159: DeprecationWarning: object of type <class 'numpy.float64'> cannot be safely interpreted as an integer.\n",
      "  bins = np.linspace(-0.5, 0.5, np.ceil(1./resolution), endpoint=False)\n",
      "/home/nvidia/github/python_environments/soundflux/lib/python3.5/site-packages/librosa/core/pitch.py:159: DeprecationWarning: object of type <class 'numpy.float64'> cannot be safely interpreted as an integer.\n",
      "  bins = np.linspace(-0.5, 0.5, np.ceil(1./resolution), endpoint=False)\n",
      "/home/nvidia/github/python_environments/soundflux/lib/python3.5/site-packages/librosa/core/pitch.py:159: DeprecationWarning: object of type <class 'numpy.float64'> cannot be safely interpreted as an integer.\n",
      "  bins = np.linspace(-0.5, 0.5, np.ceil(1./resolution), endpoint=False)\n",
      "/home/nvidia/github/python_environments/soundflux/lib/python3.5/site-packages/librosa/core/pitch.py:159: DeprecationWarning: object of type <class 'numpy.float64'> cannot be safely interpreted as an integer.\n",
      "  bins = np.linspace(-0.5, 0.5, np.ceil(1./resolution), endpoint=False)\n",
      "/home/nvidia/github/python_environments/soundflux/lib/python3.5/site-packages/librosa/core/pitch.py:159: DeprecationWarning: object of type <class 'numpy.float64'> cannot be safely interpreted as an integer.\n",
      "  bins = np.linspace(-0.5, 0.5, np.ceil(1./resolution), endpoint=False)\n",
      "/home/nvidia/github/python_environments/soundflux/lib/python3.5/site-packages/librosa/core/pitch.py:159: DeprecationWarning: object of type <class 'numpy.float64'> cannot be safely interpreted as an integer.\n",
      "  bins = np.linspace(-0.5, 0.5, np.ceil(1./resolution), endpoint=False)\n",
      "/home/nvidia/github/python_environments/soundflux/lib/python3.5/site-packages/librosa/core/pitch.py:159: DeprecationWarning: object of type <class 'numpy.float64'> cannot be safely interpreted as an integer.\n",
      "  bins = np.linspace(-0.5, 0.5, np.ceil(1./resolution), endpoint=False)\n",
      "/home/nvidia/github/python_environments/soundflux/lib/python3.5/site-packages/librosa/core/pitch.py:159: DeprecationWarning: object of type <class 'numpy.float64'> cannot be safely interpreted as an integer.\n",
      "  bins = np.linspace(-0.5, 0.5, np.ceil(1./resolution), endpoint=False)\n",
      "/home/nvidia/github/python_environments/soundflux/lib/python3.5/site-packages/librosa/core/pitch.py:159: DeprecationWarning: object of type <class 'numpy.float64'> cannot be safely interpreted as an integer.\n",
      "  bins = np.linspace(-0.5, 0.5, np.ceil(1./resolution), endpoint=False)\n",
      "/home/nvidia/github/python_environments/soundflux/lib/python3.5/site-packages/librosa/core/pitch.py:159: DeprecationWarning: object of type <class 'numpy.float64'> cannot be safely interpreted as an integer.\n",
      "  bins = np.linspace(-0.5, 0.5, np.ceil(1./resolution), endpoint=False)\n",
      "/home/nvidia/github/python_environments/soundflux/lib/python3.5/site-packages/librosa/core/pitch.py:159: DeprecationWarning: object of type <class 'numpy.float64'> cannot be safely interpreted as an integer.\n",
      "  bins = np.linspace(-0.5, 0.5, np.ceil(1./resolution), endpoint=False)\n",
      "/home/nvidia/github/python_environments/soundflux/lib/python3.5/site-packages/librosa/core/pitch.py:159: DeprecationWarning: object of type <class 'numpy.float64'> cannot be safely interpreted as an integer.\n",
      "  bins = np.linspace(-0.5, 0.5, np.ceil(1./resolution), endpoint=False)\n",
      "/home/nvidia/github/python_environments/soundflux/lib/python3.5/site-packages/librosa/core/pitch.py:159: DeprecationWarning: object of type <class 'numpy.float64'> cannot be safely interpreted as an integer.\n",
      "  bins = np.linspace(-0.5, 0.5, np.ceil(1./resolution), endpoint=False)\n"
     ]
    },
    {
     "name": "stderr",
     "output_type": "stream",
     "text": [
      "/home/nvidia/github/python_environments/soundflux/lib/python3.5/site-packages/librosa/core/pitch.py:159: DeprecationWarning: object of type <class 'numpy.float64'> cannot be safely interpreted as an integer.\n",
      "  bins = np.linspace(-0.5, 0.5, np.ceil(1./resolution), endpoint=False)\n",
      "/home/nvidia/github/python_environments/soundflux/lib/python3.5/site-packages/librosa/core/pitch.py:159: DeprecationWarning: object of type <class 'numpy.float64'> cannot be safely interpreted as an integer.\n",
      "  bins = np.linspace(-0.5, 0.5, np.ceil(1./resolution), endpoint=False)\n"
     ]
    },
    {
     "name": "stdout",
     "output_type": "stream",
     "text": [
      "\n"
     ]
    },
    {
     "name": "stderr",
     "output_type": "stream",
     "text": [
      "/home/nvidia/github/python_environments/soundflux/lib/python3.5/site-packages/librosa/util/utils.py:828: FutureWarning: Using a non-tuple sequence for multidimensional indexing is deprecated; use `arr[tuple(seq)]` instead of `arr[seq]`. In the future this will be interpreted as an array index, `arr[np.array(seq)]`, which will result either in an error or a different result.\n",
      "  return (x > x_pad[inds1]) & (x >= x_pad[inds2])\n",
      "/home/nvidia/github/python_environments/soundflux/lib/python3.5/site-packages/librosa/core/pitch.py:159: DeprecationWarning: object of type <class 'numpy.float64'> cannot be safely interpreted as an integer.\n",
      "  bins = np.linspace(-0.5, 0.5, np.ceil(1./resolution), endpoint=False)\n",
      "/home/nvidia/github/python_environments/soundflux/lib/python3.5/site-packages/librosa/core/pitch.py:159: DeprecationWarning: object of type <class 'numpy.float64'> cannot be safely interpreted as an integer.\n",
      "  bins = np.linspace(-0.5, 0.5, np.ceil(1./resolution), endpoint=False)\n",
      "/home/nvidia/github/python_environments/soundflux/lib/python3.5/site-packages/librosa/core/pitch.py:159: DeprecationWarning: object of type <class 'numpy.float64'> cannot be safely interpreted as an integer.\n",
      "  bins = np.linspace(-0.5, 0.5, np.ceil(1./resolution), endpoint=False)\n",
      "/home/nvidia/github/python_environments/soundflux/lib/python3.5/site-packages/librosa/core/pitch.py:159: DeprecationWarning: object of type <class 'numpy.float64'> cannot be safely interpreted as an integer.\n",
      "  bins = np.linspace(-0.5, 0.5, np.ceil(1./resolution), endpoint=False)\n",
      "/home/nvidia/github/python_environments/soundflux/lib/python3.5/site-packages/librosa/core/pitch.py:159: DeprecationWarning: object of type <class 'numpy.float64'> cannot be safely interpreted as an integer.\n",
      "  bins = np.linspace(-0.5, 0.5, np.ceil(1./resolution), endpoint=False)\n",
      "/home/nvidia/github/python_environments/soundflux/lib/python3.5/site-packages/librosa/core/pitch.py:159: DeprecationWarning: object of type <class 'numpy.float64'> cannot be safely interpreted as an integer.\n",
      "  bins = np.linspace(-0.5, 0.5, np.ceil(1./resolution), endpoint=False)\n",
      "/home/nvidia/github/python_environments/soundflux/lib/python3.5/site-packages/librosa/core/pitch.py:159: DeprecationWarning: object of type <class 'numpy.float64'> cannot be safely interpreted as an integer.\n",
      "  bins = np.linspace(-0.5, 0.5, np.ceil(1./resolution), endpoint=False)\n",
      "/home/nvidia/github/python_environments/soundflux/lib/python3.5/site-packages/librosa/core/pitch.py:159: DeprecationWarning: object of type <class 'numpy.float64'> cannot be safely interpreted as an integer.\n",
      "  bins = np.linspace(-0.5, 0.5, np.ceil(1./resolution), endpoint=False)\n"
     ]
    },
    {
     "name": "stdout",
     "output_type": "stream",
     "text": [
      "\n"
     ]
    },
    {
     "name": "stderr",
     "output_type": "stream",
     "text": [
      "/home/nvidia/github/python_environments/soundflux/lib/python3.5/site-packages/librosa/util/utils.py:828: FutureWarning: Using a non-tuple sequence for multidimensional indexing is deprecated; use `arr[tuple(seq)]` instead of `arr[seq]`. In the future this will be interpreted as an array index, `arr[np.array(seq)]`, which will result either in an error or a different result.\n",
      "  return (x > x_pad[inds1]) & (x >= x_pad[inds2])\n",
      "/home/nvidia/github/python_environments/soundflux/lib/python3.5/site-packages/librosa/core/pitch.py:159: DeprecationWarning: object of type <class 'numpy.float64'> cannot be safely interpreted as an integer.\n",
      "  bins = np.linspace(-0.5, 0.5, np.ceil(1./resolution), endpoint=False)\n"
     ]
    },
    {
     "name": "stdout",
     "output_type": "stream",
     "text": [
      "\n"
     ]
    },
    {
     "name": "stderr",
     "output_type": "stream",
     "text": [
      "/home/nvidia/github/python_environments/soundflux/lib/python3.5/site-packages/librosa/util/utils.py:828: FutureWarning: Using a non-tuple sequence for multidimensional indexing is deprecated; use `arr[tuple(seq)]` instead of `arr[seq]`. In the future this will be interpreted as an array index, `arr[np.array(seq)]`, which will result either in an error or a different result.\n",
      "  return (x > x_pad[inds1]) & (x >= x_pad[inds2])\n",
      "/home/nvidia/github/python_environments/soundflux/lib/python3.5/site-packages/librosa/core/pitch.py:159: DeprecationWarning: object of type <class 'numpy.float64'> cannot be safely interpreted as an integer.\n",
      "  bins = np.linspace(-0.5, 0.5, np.ceil(1./resolution), endpoint=False)\n",
      "/home/nvidia/github/python_environments/soundflux/lib/python3.5/site-packages/librosa/core/pitch.py:159: DeprecationWarning: object of type <class 'numpy.float64'> cannot be safely interpreted as an integer.\n",
      "  bins = np.linspace(-0.5, 0.5, np.ceil(1./resolution), endpoint=False)\n",
      "/home/nvidia/github/python_environments/soundflux/lib/python3.5/site-packages/librosa/core/pitch.py:159: DeprecationWarning: object of type <class 'numpy.float64'> cannot be safely interpreted as an integer.\n",
      "  bins = np.linspace(-0.5, 0.5, np.ceil(1./resolution), endpoint=False)\n",
      "/home/nvidia/github/python_environments/soundflux/lib/python3.5/site-packages/librosa/core/pitch.py:159: DeprecationWarning: object of type <class 'numpy.float64'> cannot be safely interpreted as an integer.\n",
      "  bins = np.linspace(-0.5, 0.5, np.ceil(1./resolution), endpoint=False)\n"
     ]
    },
    {
     "name": "stdout",
     "output_type": "stream",
     "text": [
      "\n"
     ]
    },
    {
     "name": "stderr",
     "output_type": "stream",
     "text": [
      "/home/nvidia/github/python_environments/soundflux/lib/python3.5/site-packages/librosa/util/utils.py:828: FutureWarning: Using a non-tuple sequence for multidimensional indexing is deprecated; use `arr[tuple(seq)]` instead of `arr[seq]`. In the future this will be interpreted as an array index, `arr[np.array(seq)]`, which will result either in an error or a different result.\n",
      "  return (x > x_pad[inds1]) & (x >= x_pad[inds2])\n",
      "/home/nvidia/github/python_environments/soundflux/lib/python3.5/site-packages/librosa/core/pitch.py:159: DeprecationWarning: object of type <class 'numpy.float64'> cannot be safely interpreted as an integer.\n",
      "  bins = np.linspace(-0.5, 0.5, np.ceil(1./resolution), endpoint=False)\n"
     ]
    },
    {
     "name": "stdout",
     "output_type": "stream",
     "text": [
      "\n"
     ]
    },
    {
     "name": "stderr",
     "output_type": "stream",
     "text": [
      "/home/nvidia/github/python_environments/soundflux/lib/python3.5/site-packages/librosa/util/utils.py:828: FutureWarning: Using a non-tuple sequence for multidimensional indexing is deprecated; use `arr[tuple(seq)]` instead of `arr[seq]`. In the future this will be interpreted as an array index, `arr[np.array(seq)]`, which will result either in an error or a different result.\n",
      "  return (x > x_pad[inds1]) & (x >= x_pad[inds2])\n",
      "/home/nvidia/github/python_environments/soundflux/lib/python3.5/site-packages/librosa/core/pitch.py:159: DeprecationWarning: object of type <class 'numpy.float64'> cannot be safely interpreted as an integer.\n",
      "  bins = np.linspace(-0.5, 0.5, np.ceil(1./resolution), endpoint=False)\n",
      "/home/nvidia/github/python_environments/soundflux/lib/python3.5/site-packages/librosa/core/pitch.py:159: DeprecationWarning: object of type <class 'numpy.float64'> cannot be safely interpreted as an integer.\n",
      "  bins = np.linspace(-0.5, 0.5, np.ceil(1./resolution), endpoint=False)\n",
      "/home/nvidia/github/python_environments/soundflux/lib/python3.5/site-packages/librosa/core/pitch.py:159: DeprecationWarning: object of type <class 'numpy.float64'> cannot be safely interpreted as an integer.\n",
      "  bins = np.linspace(-0.5, 0.5, np.ceil(1./resolution), endpoint=False)\n",
      "/home/nvidia/github/python_environments/soundflux/lib/python3.5/site-packages/librosa/core/pitch.py:159: DeprecationWarning: object of type <class 'numpy.float64'> cannot be safely interpreted as an integer.\n",
      "  bins = np.linspace(-0.5, 0.5, np.ceil(1./resolution), endpoint=False)\n",
      "/home/nvidia/github/python_environments/soundflux/lib/python3.5/site-packages/librosa/core/pitch.py:159: DeprecationWarning: object of type <class 'numpy.float64'> cannot be safely interpreted as an integer.\n",
      "  bins = np.linspace(-0.5, 0.5, np.ceil(1./resolution), endpoint=False)\n",
      "/home/nvidia/github/python_environments/soundflux/lib/python3.5/site-packages/librosa/core/pitch.py:159: DeprecationWarning: object of type <class 'numpy.float64'> cannot be safely interpreted as an integer.\n",
      "  bins = np.linspace(-0.5, 0.5, np.ceil(1./resolution), endpoint=False)\n",
      "/home/nvidia/github/python_environments/soundflux/lib/python3.5/site-packages/librosa/core/pitch.py:159: DeprecationWarning: object of type <class 'numpy.float64'> cannot be safely interpreted as an integer.\n",
      "  bins = np.linspace(-0.5, 0.5, np.ceil(1./resolution), endpoint=False)\n",
      "/home/nvidia/github/python_environments/soundflux/lib/python3.5/site-packages/librosa/core/pitch.py:159: DeprecationWarning: object of type <class 'numpy.float64'> cannot be safely interpreted as an integer.\n",
      "  bins = np.linspace(-0.5, 0.5, np.ceil(1./resolution), endpoint=False)\n",
      "/home/nvidia/github/python_environments/soundflux/lib/python3.5/site-packages/librosa/core/pitch.py:159: DeprecationWarning: object of type <class 'numpy.float64'> cannot be safely interpreted as an integer.\n",
      "  bins = np.linspace(-0.5, 0.5, np.ceil(1./resolution), endpoint=False)\n"
     ]
    },
    {
     "name": "stdout",
     "output_type": "stream",
     "text": [
      "\n"
     ]
    },
    {
     "name": "stderr",
     "output_type": "stream",
     "text": [
      "/home/nvidia/github/python_environments/soundflux/lib/python3.5/site-packages/librosa/util/utils.py:828: FutureWarning: Using a non-tuple sequence for multidimensional indexing is deprecated; use `arr[tuple(seq)]` instead of `arr[seq]`. In the future this will be interpreted as an array index, `arr[np.array(seq)]`, which will result either in an error or a different result.\n",
      "  return (x > x_pad[inds1]) & (x >= x_pad[inds2])\n",
      "/home/nvidia/github/python_environments/soundflux/lib/python3.5/site-packages/librosa/core/pitch.py:159: DeprecationWarning: object of type <class 'numpy.float64'> cannot be safely interpreted as an integer.\n",
      "  bins = np.linspace(-0.5, 0.5, np.ceil(1./resolution), endpoint=False)\n",
      "/home/nvidia/github/python_environments/soundflux/lib/python3.5/site-packages/librosa/core/pitch.py:159: DeprecationWarning: object of type <class 'numpy.float64'> cannot be safely interpreted as an integer.\n",
      "  bins = np.linspace(-0.5, 0.5, np.ceil(1./resolution), endpoint=False)\n",
      "/home/nvidia/github/python_environments/soundflux/lib/python3.5/site-packages/librosa/core/pitch.py:159: DeprecationWarning: object of type <class 'numpy.float64'> cannot be safely interpreted as an integer.\n",
      "  bins = np.linspace(-0.5, 0.5, np.ceil(1./resolution), endpoint=False)\n",
      "/home/nvidia/github/python_environments/soundflux/lib/python3.5/site-packages/librosa/core/pitch.py:159: DeprecationWarning: object of type <class 'numpy.float64'> cannot be safely interpreted as an integer.\n",
      "  bins = np.linspace(-0.5, 0.5, np.ceil(1./resolution), endpoint=False)\n",
      "/home/nvidia/github/python_environments/soundflux/lib/python3.5/site-packages/librosa/core/pitch.py:159: DeprecationWarning: object of type <class 'numpy.float64'> cannot be safely interpreted as an integer.\n",
      "  bins = np.linspace(-0.5, 0.5, np.ceil(1./resolution), endpoint=False)\n",
      "/home/nvidia/github/python_environments/soundflux/lib/python3.5/site-packages/librosa/core/pitch.py:159: DeprecationWarning: object of type <class 'numpy.float64'> cannot be safely interpreted as an integer.\n",
      "  bins = np.linspace(-0.5, 0.5, np.ceil(1./resolution), endpoint=False)\n",
      "/home/nvidia/github/python_environments/soundflux/lib/python3.5/site-packages/librosa/core/pitch.py:159: DeprecationWarning: object of type <class 'numpy.float64'> cannot be safely interpreted as an integer.\n",
      "  bins = np.linspace(-0.5, 0.5, np.ceil(1./resolution), endpoint=False)\n",
      "/home/nvidia/github/python_environments/soundflux/lib/python3.5/site-packages/librosa/core/pitch.py:159: DeprecationWarning: object of type <class 'numpy.float64'> cannot be safely interpreted as an integer.\n",
      "  bins = np.linspace(-0.5, 0.5, np.ceil(1./resolution), endpoint=False)\n",
      "/home/nvidia/github/python_environments/soundflux/lib/python3.5/site-packages/librosa/core/pitch.py:159: DeprecationWarning: object of type <class 'numpy.float64'> cannot be safely interpreted as an integer.\n",
      "  bins = np.linspace(-0.5, 0.5, np.ceil(1./resolution), endpoint=False)\n",
      "/home/nvidia/github/python_environments/soundflux/lib/python3.5/site-packages/librosa/core/pitch.py:159: DeprecationWarning: object of type <class 'numpy.float64'> cannot be safely interpreted as an integer.\n",
      "  bins = np.linspace(-0.5, 0.5, np.ceil(1./resolution), endpoint=False)\n",
      "/home/nvidia/github/python_environments/soundflux/lib/python3.5/site-packages/librosa/core/pitch.py:159: DeprecationWarning: object of type <class 'numpy.float64'> cannot be safely interpreted as an integer.\n",
      "  bins = np.linspace(-0.5, 0.5, np.ceil(1./resolution), endpoint=False)\n",
      "/home/nvidia/github/python_environments/soundflux/lib/python3.5/site-packages/librosa/core/pitch.py:159: DeprecationWarning: object of type <class 'numpy.float64'> cannot be safely interpreted as an integer.\n",
      "  bins = np.linspace(-0.5, 0.5, np.ceil(1./resolution), endpoint=False)\n",
      "/home/nvidia/github/python_environments/soundflux/lib/python3.5/site-packages/librosa/core/pitch.py:159: DeprecationWarning: object of type <class 'numpy.float64'> cannot be safely interpreted as an integer.\n",
      "  bins = np.linspace(-0.5, 0.5, np.ceil(1./resolution), endpoint=False)\n",
      "/home/nvidia/github/python_environments/soundflux/lib/python3.5/site-packages/librosa/core/pitch.py:159: DeprecationWarning: object of type <class 'numpy.float64'> cannot be safely interpreted as an integer.\n",
      "  bins = np.linspace(-0.5, 0.5, np.ceil(1./resolution), endpoint=False)\n",
      "/home/nvidia/github/python_environments/soundflux/lib/python3.5/site-packages/librosa/core/pitch.py:159: DeprecationWarning: object of type <class 'numpy.float64'> cannot be safely interpreted as an integer.\n",
      "  bins = np.linspace(-0.5, 0.5, np.ceil(1./resolution), endpoint=False)\n",
      "/home/nvidia/github/python_environments/soundflux/lib/python3.5/site-packages/librosa/core/pitch.py:159: DeprecationWarning: object of type <class 'numpy.float64'> cannot be safely interpreted as an integer.\n",
      "  bins = np.linspace(-0.5, 0.5, np.ceil(1./resolution), endpoint=False)\n",
      "/home/nvidia/github/python_environments/soundflux/lib/python3.5/site-packages/librosa/core/pitch.py:159: DeprecationWarning: object of type <class 'numpy.float64'> cannot be safely interpreted as an integer.\n",
      "  bins = np.linspace(-0.5, 0.5, np.ceil(1./resolution), endpoint=False)\n",
      "/home/nvidia/github/python_environments/soundflux/lib/python3.5/site-packages/librosa/core/pitch.py:159: DeprecationWarning: object of type <class 'numpy.float64'> cannot be safely interpreted as an integer.\n",
      "  bins = np.linspace(-0.5, 0.5, np.ceil(1./resolution), endpoint=False)\n",
      "/home/nvidia/github/python_environments/soundflux/lib/python3.5/site-packages/librosa/core/pitch.py:159: DeprecationWarning: object of type <class 'numpy.float64'> cannot be safely interpreted as an integer.\n",
      "  bins = np.linspace(-0.5, 0.5, np.ceil(1./resolution), endpoint=False)\n",
      "/home/nvidia/github/python_environments/soundflux/lib/python3.5/site-packages/librosa/core/pitch.py:159: DeprecationWarning: object of type <class 'numpy.float64'> cannot be safely interpreted as an integer.\n",
      "  bins = np.linspace(-0.5, 0.5, np.ceil(1./resolution), endpoint=False)\n",
      "/home/nvidia/github/python_environments/soundflux/lib/python3.5/site-packages/librosa/core/pitch.py:159: DeprecationWarning: object of type <class 'numpy.float64'> cannot be safely interpreted as an integer.\n",
      "  bins = np.linspace(-0.5, 0.5, np.ceil(1./resolution), endpoint=False)\n",
      "/home/nvidia/github/python_environments/soundflux/lib/python3.5/site-packages/librosa/core/pitch.py:159: DeprecationWarning: object of type <class 'numpy.float64'> cannot be safely interpreted as an integer.\n",
      "  bins = np.linspace(-0.5, 0.5, np.ceil(1./resolution), endpoint=False)\n"
     ]
    },
    {
     "name": "stdout",
     "output_type": "stream",
     "text": [
      "\n"
     ]
    },
    {
     "name": "stderr",
     "output_type": "stream",
     "text": [
      "/home/nvidia/github/python_environments/soundflux/lib/python3.5/site-packages/librosa/util/utils.py:828: FutureWarning: Using a non-tuple sequence for multidimensional indexing is deprecated; use `arr[tuple(seq)]` instead of `arr[seq]`. In the future this will be interpreted as an array index, `arr[np.array(seq)]`, which will result either in an error or a different result.\n",
      "  return (x > x_pad[inds1]) & (x >= x_pad[inds2])\n",
      "/home/nvidia/github/python_environments/soundflux/lib/python3.5/site-packages/librosa/core/pitch.py:159: DeprecationWarning: object of type <class 'numpy.float64'> cannot be safely interpreted as an integer.\n",
      "  bins = np.linspace(-0.5, 0.5, np.ceil(1./resolution), endpoint=False)\n"
     ]
    },
    {
     "name": "stdout",
     "output_type": "stream",
     "text": [
      "\n"
     ]
    },
    {
     "name": "stderr",
     "output_type": "stream",
     "text": [
      "/home/nvidia/github/python_environments/soundflux/lib/python3.5/site-packages/librosa/util/utils.py:828: FutureWarning: Using a non-tuple sequence for multidimensional indexing is deprecated; use `arr[tuple(seq)]` instead of `arr[seq]`. In the future this will be interpreted as an array index, `arr[np.array(seq)]`, which will result either in an error or a different result.\n",
      "  return (x > x_pad[inds1]) & (x >= x_pad[inds2])\n",
      "/home/nvidia/github/python_environments/soundflux/lib/python3.5/site-packages/librosa/core/pitch.py:159: DeprecationWarning: object of type <class 'numpy.float64'> cannot be safely interpreted as an integer.\n",
      "  bins = np.linspace(-0.5, 0.5, np.ceil(1./resolution), endpoint=False)\n"
     ]
    },
    {
     "name": "stdout",
     "output_type": "stream",
     "text": [
      "\n"
     ]
    },
    {
     "name": "stderr",
     "output_type": "stream",
     "text": [
      "/home/nvidia/github/python_environments/soundflux/lib/python3.5/site-packages/librosa/util/utils.py:828: FutureWarning: Using a non-tuple sequence for multidimensional indexing is deprecated; use `arr[tuple(seq)]` instead of `arr[seq]`. In the future this will be interpreted as an array index, `arr[np.array(seq)]`, which will result either in an error or a different result.\n",
      "  return (x > x_pad[inds1]) & (x >= x_pad[inds2])\n",
      "/home/nvidia/github/python_environments/soundflux/lib/python3.5/site-packages/librosa/core/pitch.py:159: DeprecationWarning: object of type <class 'numpy.float64'> cannot be safely interpreted as an integer.\n",
      "  bins = np.linspace(-0.5, 0.5, np.ceil(1./resolution), endpoint=False)\n",
      "/home/nvidia/github/python_environments/soundflux/lib/python3.5/site-packages/librosa/core/pitch.py:159: DeprecationWarning: object of type <class 'numpy.float64'> cannot be safely interpreted as an integer.\n",
      "  bins = np.linspace(-0.5, 0.5, np.ceil(1./resolution), endpoint=False)\n",
      "/home/nvidia/github/python_environments/soundflux/lib/python3.5/site-packages/librosa/core/pitch.py:159: DeprecationWarning: object of type <class 'numpy.float64'> cannot be safely interpreted as an integer.\n",
      "  bins = np.linspace(-0.5, 0.5, np.ceil(1./resolution), endpoint=False)\n",
      "/home/nvidia/github/python_environments/soundflux/lib/python3.5/site-packages/librosa/core/pitch.py:159: DeprecationWarning: object of type <class 'numpy.float64'> cannot be safely interpreted as an integer.\n",
      "  bins = np.linspace(-0.5, 0.5, np.ceil(1./resolution), endpoint=False)\n",
      "/home/nvidia/github/python_environments/soundflux/lib/python3.5/site-packages/librosa/core/pitch.py:159: DeprecationWarning: object of type <class 'numpy.float64'> cannot be safely interpreted as an integer.\n",
      "  bins = np.linspace(-0.5, 0.5, np.ceil(1./resolution), endpoint=False)\n",
      "/home/nvidia/github/python_environments/soundflux/lib/python3.5/site-packages/librosa/core/pitch.py:159: DeprecationWarning: object of type <class 'numpy.float64'> cannot be safely interpreted as an integer.\n",
      "  bins = np.linspace(-0.5, 0.5, np.ceil(1./resolution), endpoint=False)\n",
      "/home/nvidia/github/python_environments/soundflux/lib/python3.5/site-packages/librosa/core/pitch.py:159: DeprecationWarning: object of type <class 'numpy.float64'> cannot be safely interpreted as an integer.\n",
      "  bins = np.linspace(-0.5, 0.5, np.ceil(1./resolution), endpoint=False)\n",
      "/home/nvidia/github/python_environments/soundflux/lib/python3.5/site-packages/librosa/core/pitch.py:159: DeprecationWarning: object of type <class 'numpy.float64'> cannot be safely interpreted as an integer.\n",
      "  bins = np.linspace(-0.5, 0.5, np.ceil(1./resolution), endpoint=False)\n",
      "/home/nvidia/github/python_environments/soundflux/lib/python3.5/site-packages/librosa/core/pitch.py:159: DeprecationWarning: object of type <class 'numpy.float64'> cannot be safely interpreted as an integer.\n",
      "  bins = np.linspace(-0.5, 0.5, np.ceil(1./resolution), endpoint=False)\n",
      "/home/nvidia/github/python_environments/soundflux/lib/python3.5/site-packages/librosa/core/pitch.py:159: DeprecationWarning: object of type <class 'numpy.float64'> cannot be safely interpreted as an integer.\n",
      "  bins = np.linspace(-0.5, 0.5, np.ceil(1./resolution), endpoint=False)\n"
     ]
    },
    {
     "name": "stdout",
     "output_type": "stream",
     "text": [
      "\n"
     ]
    },
    {
     "name": "stderr",
     "output_type": "stream",
     "text": [
      "/home/nvidia/github/python_environments/soundflux/lib/python3.5/site-packages/librosa/util/utils.py:828: FutureWarning: Using a non-tuple sequence for multidimensional indexing is deprecated; use `arr[tuple(seq)]` instead of `arr[seq]`. In the future this will be interpreted as an array index, `arr[np.array(seq)]`, which will result either in an error or a different result.\n",
      "  return (x > x_pad[inds1]) & (x >= x_pad[inds2])\n",
      "/home/nvidia/github/python_environments/soundflux/lib/python3.5/site-packages/librosa/core/pitch.py:159: DeprecationWarning: object of type <class 'numpy.float64'> cannot be safely interpreted as an integer.\n",
      "  bins = np.linspace(-0.5, 0.5, np.ceil(1./resolution), endpoint=False)\n",
      "/home/nvidia/github/python_environments/soundflux/lib/python3.5/site-packages/librosa/core/pitch.py:159: DeprecationWarning: object of type <class 'numpy.float64'> cannot be safely interpreted as an integer.\n",
      "  bins = np.linspace(-0.5, 0.5, np.ceil(1./resolution), endpoint=False)\n",
      "/home/nvidia/github/python_environments/soundflux/lib/python3.5/site-packages/librosa/core/pitch.py:159: DeprecationWarning: object of type <class 'numpy.float64'> cannot be safely interpreted as an integer.\n",
      "  bins = np.linspace(-0.5, 0.5, np.ceil(1./resolution), endpoint=False)\n",
      "/home/nvidia/github/python_environments/soundflux/lib/python3.5/site-packages/librosa/core/pitch.py:159: DeprecationWarning: object of type <class 'numpy.float64'> cannot be safely interpreted as an integer.\n",
      "  bins = np.linspace(-0.5, 0.5, np.ceil(1./resolution), endpoint=False)\n",
      "/home/nvidia/github/python_environments/soundflux/lib/python3.5/site-packages/librosa/core/pitch.py:159: DeprecationWarning: object of type <class 'numpy.float64'> cannot be safely interpreted as an integer.\n",
      "  bins = np.linspace(-0.5, 0.5, np.ceil(1./resolution), endpoint=False)\n",
      "/home/nvidia/github/python_environments/soundflux/lib/python3.5/site-packages/librosa/core/pitch.py:159: DeprecationWarning: object of type <class 'numpy.float64'> cannot be safely interpreted as an integer.\n",
      "  bins = np.linspace(-0.5, 0.5, np.ceil(1./resolution), endpoint=False)\n",
      "/home/nvidia/github/python_environments/soundflux/lib/python3.5/site-packages/librosa/core/pitch.py:159: DeprecationWarning: object of type <class 'numpy.float64'> cannot be safely interpreted as an integer.\n",
      "  bins = np.linspace(-0.5, 0.5, np.ceil(1./resolution), endpoint=False)\n",
      "/home/nvidia/github/python_environments/soundflux/lib/python3.5/site-packages/librosa/core/pitch.py:159: DeprecationWarning: object of type <class 'numpy.float64'> cannot be safely interpreted as an integer.\n",
      "  bins = np.linspace(-0.5, 0.5, np.ceil(1./resolution), endpoint=False)\n",
      "/home/nvidia/github/python_environments/soundflux/lib/python3.5/site-packages/librosa/core/pitch.py:159: DeprecationWarning: object of type <class 'numpy.float64'> cannot be safely interpreted as an integer.\n",
      "  bins = np.linspace(-0.5, 0.5, np.ceil(1./resolution), endpoint=False)\n",
      "/home/nvidia/github/python_environments/soundflux/lib/python3.5/site-packages/librosa/core/pitch.py:159: DeprecationWarning: object of type <class 'numpy.float64'> cannot be safely interpreted as an integer.\n",
      "  bins = np.linspace(-0.5, 0.5, np.ceil(1./resolution), endpoint=False)\n",
      "/home/nvidia/github/python_environments/soundflux/lib/python3.5/site-packages/librosa/core/pitch.py:159: DeprecationWarning: object of type <class 'numpy.float64'> cannot be safely interpreted as an integer.\n",
      "  bins = np.linspace(-0.5, 0.5, np.ceil(1./resolution), endpoint=False)\n",
      "/home/nvidia/github/python_environments/soundflux/lib/python3.5/site-packages/librosa/core/pitch.py:159: DeprecationWarning: object of type <class 'numpy.float64'> cannot be safely interpreted as an integer.\n",
      "  bins = np.linspace(-0.5, 0.5, np.ceil(1./resolution), endpoint=False)\n",
      "/home/nvidia/github/python_environments/soundflux/lib/python3.5/site-packages/librosa/core/pitch.py:159: DeprecationWarning: object of type <class 'numpy.float64'> cannot be safely interpreted as an integer.\n",
      "  bins = np.linspace(-0.5, 0.5, np.ceil(1./resolution), endpoint=False)\n",
      "/home/nvidia/github/python_environments/soundflux/lib/python3.5/site-packages/librosa/core/pitch.py:159: DeprecationWarning: object of type <class 'numpy.float64'> cannot be safely interpreted as an integer.\n",
      "  bins = np.linspace(-0.5, 0.5, np.ceil(1./resolution), endpoint=False)\n",
      "/home/nvidia/github/python_environments/soundflux/lib/python3.5/site-packages/librosa/core/pitch.py:159: DeprecationWarning: object of type <class 'numpy.float64'> cannot be safely interpreted as an integer.\n",
      "  bins = np.linspace(-0.5, 0.5, np.ceil(1./resolution), endpoint=False)\n",
      "/home/nvidia/github/python_environments/soundflux/lib/python3.5/site-packages/librosa/core/pitch.py:159: DeprecationWarning: object of type <class 'numpy.float64'> cannot be safely interpreted as an integer.\n",
      "  bins = np.linspace(-0.5, 0.5, np.ceil(1./resolution), endpoint=False)\n"
     ]
    },
    {
     "name": "stdout",
     "output_type": "stream",
     "text": [
      "\n",
      "\n",
      "\n"
     ]
    },
    {
     "name": "stderr",
     "output_type": "stream",
     "text": [
      "/home/nvidia/github/python_environments/soundflux/lib/python3.5/site-packages/librosa/util/utils.py:828: FutureWarning: Using a non-tuple sequence for multidimensional indexing is deprecated; use `arr[tuple(seq)]` instead of `arr[seq]`. In the future this will be interpreted as an array index, `arr[np.array(seq)]`, which will result either in an error or a different result.\n",
      "  return (x > x_pad[inds1]) & (x >= x_pad[inds2])\n",
      "/home/nvidia/github/python_environments/soundflux/lib/python3.5/site-packages/librosa/core/pitch.py:159: DeprecationWarning: object of type <class 'numpy.float64'> cannot be safely interpreted as an integer.\n",
      "  bins = np.linspace(-0.5, 0.5, np.ceil(1./resolution), endpoint=False)\n",
      "/home/nvidia/github/python_environments/soundflux/lib/python3.5/site-packages/librosa/core/pitch.py:159: DeprecationWarning: object of type <class 'numpy.float64'> cannot be safely interpreted as an integer.\n",
      "  bins = np.linspace(-0.5, 0.5, np.ceil(1./resolution), endpoint=False)\n",
      "/home/nvidia/github/python_environments/soundflux/lib/python3.5/site-packages/librosa/core/pitch.py:159: DeprecationWarning: object of type <class 'numpy.float64'> cannot be safely interpreted as an integer.\n",
      "  bins = np.linspace(-0.5, 0.5, np.ceil(1./resolution), endpoint=False)\n",
      "/home/nvidia/github/python_environments/soundflux/lib/python3.5/site-packages/librosa/core/pitch.py:159: DeprecationWarning: object of type <class 'numpy.float64'> cannot be safely interpreted as an integer.\n",
      "  bins = np.linspace(-0.5, 0.5, np.ceil(1./resolution), endpoint=False)\n",
      "/home/nvidia/github/python_environments/soundflux/lib/python3.5/site-packages/librosa/core/pitch.py:159: DeprecationWarning: object of type <class 'numpy.float64'> cannot be safely interpreted as an integer.\n",
      "  bins = np.linspace(-0.5, 0.5, np.ceil(1./resolution), endpoint=False)\n",
      "/home/nvidia/github/python_environments/soundflux/lib/python3.5/site-packages/librosa/core/pitch.py:159: DeprecationWarning: object of type <class 'numpy.float64'> cannot be safely interpreted as an integer.\n",
      "  bins = np.linspace(-0.5, 0.5, np.ceil(1./resolution), endpoint=False)\n",
      "/home/nvidia/github/python_environments/soundflux/lib/python3.5/site-packages/librosa/core/pitch.py:159: DeprecationWarning: object of type <class 'numpy.float64'> cannot be safely interpreted as an integer.\n",
      "  bins = np.linspace(-0.5, 0.5, np.ceil(1./resolution), endpoint=False)\n",
      "/home/nvidia/github/python_environments/soundflux/lib/python3.5/site-packages/librosa/core/pitch.py:159: DeprecationWarning: object of type <class 'numpy.float64'> cannot be safely interpreted as an integer.\n",
      "  bins = np.linspace(-0.5, 0.5, np.ceil(1./resolution), endpoint=False)\n",
      "/home/nvidia/github/python_environments/soundflux/lib/python3.5/site-packages/librosa/core/pitch.py:159: DeprecationWarning: object of type <class 'numpy.float64'> cannot be safely interpreted as an integer.\n",
      "  bins = np.linspace(-0.5, 0.5, np.ceil(1./resolution), endpoint=False)\n",
      "/home/nvidia/github/python_environments/soundflux/lib/python3.5/site-packages/librosa/core/pitch.py:159: DeprecationWarning: object of type <class 'numpy.float64'> cannot be safely interpreted as an integer.\n",
      "  bins = np.linspace(-0.5, 0.5, np.ceil(1./resolution), endpoint=False)\n",
      "/home/nvidia/github/python_environments/soundflux/lib/python3.5/site-packages/librosa/core/pitch.py:159: DeprecationWarning: object of type <class 'numpy.float64'> cannot be safely interpreted as an integer.\n",
      "  bins = np.linspace(-0.5, 0.5, np.ceil(1./resolution), endpoint=False)\n"
     ]
    },
    {
     "name": "stdout",
     "output_type": "stream",
     "text": [
      "\n"
     ]
    },
    {
     "name": "stderr",
     "output_type": "stream",
     "text": [
      "/home/nvidia/github/python_environments/soundflux/lib/python3.5/site-packages/librosa/util/utils.py:828: FutureWarning: Using a non-tuple sequence for multidimensional indexing is deprecated; use `arr[tuple(seq)]` instead of `arr[seq]`. In the future this will be interpreted as an array index, `arr[np.array(seq)]`, which will result either in an error or a different result.\n",
      "  return (x > x_pad[inds1]) & (x >= x_pad[inds2])\n",
      "/home/nvidia/github/python_environments/soundflux/lib/python3.5/site-packages/librosa/core/pitch.py:159: DeprecationWarning: object of type <class 'numpy.float64'> cannot be safely interpreted as an integer.\n",
      "  bins = np.linspace(-0.5, 0.5, np.ceil(1./resolution), endpoint=False)\n",
      "/home/nvidia/github/python_environments/soundflux/lib/python3.5/site-packages/librosa/core/pitch.py:159: DeprecationWarning: object of type <class 'numpy.float64'> cannot be safely interpreted as an integer.\n",
      "  bins = np.linspace(-0.5, 0.5, np.ceil(1./resolution), endpoint=False)\n",
      "/home/nvidia/github/python_environments/soundflux/lib/python3.5/site-packages/librosa/core/pitch.py:159: DeprecationWarning: object of type <class 'numpy.float64'> cannot be safely interpreted as an integer.\n",
      "  bins = np.linspace(-0.5, 0.5, np.ceil(1./resolution), endpoint=False)\n",
      "/home/nvidia/github/python_environments/soundflux/lib/python3.5/site-packages/librosa/core/pitch.py:159: DeprecationWarning: object of type <class 'numpy.float64'> cannot be safely interpreted as an integer.\n",
      "  bins = np.linspace(-0.5, 0.5, np.ceil(1./resolution), endpoint=False)\n",
      "/home/nvidia/github/python_environments/soundflux/lib/python3.5/site-packages/librosa/core/pitch.py:159: DeprecationWarning: object of type <class 'numpy.float64'> cannot be safely interpreted as an integer.\n",
      "  bins = np.linspace(-0.5, 0.5, np.ceil(1./resolution), endpoint=False)\n",
      "/home/nvidia/github/python_environments/soundflux/lib/python3.5/site-packages/librosa/core/pitch.py:159: DeprecationWarning: object of type <class 'numpy.float64'> cannot be safely interpreted as an integer.\n",
      "  bins = np.linspace(-0.5, 0.5, np.ceil(1./resolution), endpoint=False)\n",
      "/home/nvidia/github/python_environments/soundflux/lib/python3.5/site-packages/librosa/core/pitch.py:159: DeprecationWarning: object of type <class 'numpy.float64'> cannot be safely interpreted as an integer.\n",
      "  bins = np.linspace(-0.5, 0.5, np.ceil(1./resolution), endpoint=False)\n",
      "/home/nvidia/github/python_environments/soundflux/lib/python3.5/site-packages/librosa/core/pitch.py:159: DeprecationWarning: object of type <class 'numpy.float64'> cannot be safely interpreted as an integer.\n",
      "  bins = np.linspace(-0.5, 0.5, np.ceil(1./resolution), endpoint=False)\n"
     ]
    },
    {
     "name": "stdout",
     "output_type": "stream",
     "text": [
      "\n"
     ]
    },
    {
     "name": "stderr",
     "output_type": "stream",
     "text": [
      "/home/nvidia/github/python_environments/soundflux/lib/python3.5/site-packages/librosa/util/utils.py:828: FutureWarning: Using a non-tuple sequence for multidimensional indexing is deprecated; use `arr[tuple(seq)]` instead of `arr[seq]`. In the future this will be interpreted as an array index, `arr[np.array(seq)]`, which will result either in an error or a different result.\n",
      "  return (x > x_pad[inds1]) & (x >= x_pad[inds2])\n",
      "/home/nvidia/github/python_environments/soundflux/lib/python3.5/site-packages/librosa/core/pitch.py:159: DeprecationWarning: object of type <class 'numpy.float64'> cannot be safely interpreted as an integer.\n",
      "  bins = np.linspace(-0.5, 0.5, np.ceil(1./resolution), endpoint=False)\n",
      "/home/nvidia/github/python_environments/soundflux/lib/python3.5/site-packages/librosa/core/pitch.py:159: DeprecationWarning: object of type <class 'numpy.float64'> cannot be safely interpreted as an integer.\n",
      "  bins = np.linspace(-0.5, 0.5, np.ceil(1./resolution), endpoint=False)\n",
      "/home/nvidia/github/python_environments/soundflux/lib/python3.5/site-packages/librosa/core/pitch.py:159: DeprecationWarning: object of type <class 'numpy.float64'> cannot be safely interpreted as an integer.\n",
      "  bins = np.linspace(-0.5, 0.5, np.ceil(1./resolution), endpoint=False)\n",
      "/home/nvidia/github/python_environments/soundflux/lib/python3.5/site-packages/librosa/core/pitch.py:159: DeprecationWarning: object of type <class 'numpy.float64'> cannot be safely interpreted as an integer.\n",
      "  bins = np.linspace(-0.5, 0.5, np.ceil(1./resolution), endpoint=False)\n"
     ]
    },
    {
     "name": "stdout",
     "output_type": "stream",
     "text": [
      "\n"
     ]
    },
    {
     "name": "stderr",
     "output_type": "stream",
     "text": [
      "/home/nvidia/github/python_environments/soundflux/lib/python3.5/site-packages/librosa/util/utils.py:828: FutureWarning: Using a non-tuple sequence for multidimensional indexing is deprecated; use `arr[tuple(seq)]` instead of `arr[seq]`. In the future this will be interpreted as an array index, `arr[np.array(seq)]`, which will result either in an error or a different result.\n",
      "  return (x > x_pad[inds1]) & (x >= x_pad[inds2])\n",
      "/home/nvidia/github/python_environments/soundflux/lib/python3.5/site-packages/librosa/core/pitch.py:159: DeprecationWarning: object of type <class 'numpy.float64'> cannot be safely interpreted as an integer.\n",
      "  bins = np.linspace(-0.5, 0.5, np.ceil(1./resolution), endpoint=False)\n",
      "/home/nvidia/github/python_environments/soundflux/lib/python3.5/site-packages/librosa/core/pitch.py:159: DeprecationWarning: object of type <class 'numpy.float64'> cannot be safely interpreted as an integer.\n",
      "  bins = np.linspace(-0.5, 0.5, np.ceil(1./resolution), endpoint=False)\n",
      "/home/nvidia/github/python_environments/soundflux/lib/python3.5/site-packages/librosa/core/pitch.py:159: DeprecationWarning: object of type <class 'numpy.float64'> cannot be safely interpreted as an integer.\n",
      "  bins = np.linspace(-0.5, 0.5, np.ceil(1./resolution), endpoint=False)\n"
     ]
    },
    {
     "name": "stdout",
     "output_type": "stream",
     "text": [
      "\n"
     ]
    },
    {
     "name": "stderr",
     "output_type": "stream",
     "text": [
      "/home/nvidia/github/python_environments/soundflux/lib/python3.5/site-packages/librosa/util/utils.py:828: FutureWarning: Using a non-tuple sequence for multidimensional indexing is deprecated; use `arr[tuple(seq)]` instead of `arr[seq]`. In the future this will be interpreted as an array index, `arr[np.array(seq)]`, which will result either in an error or a different result.\n",
      "  return (x > x_pad[inds1]) & (x >= x_pad[inds2])\n",
      "/home/nvidia/github/python_environments/soundflux/lib/python3.5/site-packages/librosa/core/pitch.py:159: DeprecationWarning: object of type <class 'numpy.float64'> cannot be safely interpreted as an integer.\n",
      "  bins = np.linspace(-0.5, 0.5, np.ceil(1./resolution), endpoint=False)\n",
      "/home/nvidia/github/python_environments/soundflux/lib/python3.5/site-packages/librosa/core/pitch.py:159: DeprecationWarning: object of type <class 'numpy.float64'> cannot be safely interpreted as an integer.\n",
      "  bins = np.linspace(-0.5, 0.5, np.ceil(1./resolution), endpoint=False)\n",
      "/home/nvidia/github/python_environments/soundflux/lib/python3.5/site-packages/librosa/core/pitch.py:159: DeprecationWarning: object of type <class 'numpy.float64'> cannot be safely interpreted as an integer.\n",
      "  bins = np.linspace(-0.5, 0.5, np.ceil(1./resolution), endpoint=False)\n",
      "/home/nvidia/github/python_environments/soundflux/lib/python3.5/site-packages/librosa/core/pitch.py:159: DeprecationWarning: object of type <class 'numpy.float64'> cannot be safely interpreted as an integer.\n",
      "  bins = np.linspace(-0.5, 0.5, np.ceil(1./resolution), endpoint=False)\n",
      "/home/nvidia/github/python_environments/soundflux/lib/python3.5/site-packages/librosa/core/pitch.py:159: DeprecationWarning: object of type <class 'numpy.float64'> cannot be safely interpreted as an integer.\n",
      "  bins = np.linspace(-0.5, 0.5, np.ceil(1./resolution), endpoint=False)\n"
     ]
    },
    {
     "name": "stdout",
     "output_type": "stream",
     "text": [
      "\n"
     ]
    },
    {
     "name": "stderr",
     "output_type": "stream",
     "text": [
      "/home/nvidia/github/python_environments/soundflux/lib/python3.5/site-packages/librosa/util/utils.py:828: FutureWarning: Using a non-tuple sequence for multidimensional indexing is deprecated; use `arr[tuple(seq)]` instead of `arr[seq]`. In the future this will be interpreted as an array index, `arr[np.array(seq)]`, which will result either in an error or a different result.\n",
      "  return (x > x_pad[inds1]) & (x >= x_pad[inds2])\n",
      "/home/nvidia/github/python_environments/soundflux/lib/python3.5/site-packages/librosa/core/pitch.py:159: DeprecationWarning: object of type <class 'numpy.float64'> cannot be safely interpreted as an integer.\n",
      "  bins = np.linspace(-0.5, 0.5, np.ceil(1./resolution), endpoint=False)\n",
      "/home/nvidia/github/python_environments/soundflux/lib/python3.5/site-packages/librosa/core/pitch.py:159: DeprecationWarning: object of type <class 'numpy.float64'> cannot be safely interpreted as an integer.\n",
      "  bins = np.linspace(-0.5, 0.5, np.ceil(1./resolution), endpoint=False)\n",
      "/home/nvidia/github/python_environments/soundflux/lib/python3.5/site-packages/librosa/core/pitch.py:159: DeprecationWarning: object of type <class 'numpy.float64'> cannot be safely interpreted as an integer.\n",
      "  bins = np.linspace(-0.5, 0.5, np.ceil(1./resolution), endpoint=False)\n"
     ]
    },
    {
     "name": "stdout",
     "output_type": "stream",
     "text": [
      "\n",
      "\n"
     ]
    },
    {
     "name": "stderr",
     "output_type": "stream",
     "text": [
      "/home/nvidia/github/python_environments/soundflux/lib/python3.5/site-packages/librosa/util/utils.py:828: FutureWarning: Using a non-tuple sequence for multidimensional indexing is deprecated; use `arr[tuple(seq)]` instead of `arr[seq]`. In the future this will be interpreted as an array index, `arr[np.array(seq)]`, which will result either in an error or a different result.\n",
      "  return (x > x_pad[inds1]) & (x >= x_pad[inds2])\n",
      "/home/nvidia/github/python_environments/soundflux/lib/python3.5/site-packages/librosa/core/pitch.py:159: DeprecationWarning: object of type <class 'numpy.float64'> cannot be safely interpreted as an integer.\n",
      "  bins = np.linspace(-0.5, 0.5, np.ceil(1./resolution), endpoint=False)\n",
      "/home/nvidia/github/python_environments/soundflux/lib/python3.5/site-packages/librosa/core/pitch.py:159: DeprecationWarning: object of type <class 'numpy.float64'> cannot be safely interpreted as an integer.\n",
      "  bins = np.linspace(-0.5, 0.5, np.ceil(1./resolution), endpoint=False)\n",
      "/home/nvidia/github/python_environments/soundflux/lib/python3.5/site-packages/librosa/core/pitch.py:159: DeprecationWarning: object of type <class 'numpy.float64'> cannot be safely interpreted as an integer.\n",
      "  bins = np.linspace(-0.5, 0.5, np.ceil(1./resolution), endpoint=False)\n"
     ]
    },
    {
     "name": "stdout",
     "output_type": "stream",
     "text": [
      "\n"
     ]
    },
    {
     "name": "stderr",
     "output_type": "stream",
     "text": [
      "/home/nvidia/github/python_environments/soundflux/lib/python3.5/site-packages/librosa/util/utils.py:828: FutureWarning: Using a non-tuple sequence for multidimensional indexing is deprecated; use `arr[tuple(seq)]` instead of `arr[seq]`. In the future this will be interpreted as an array index, `arr[np.array(seq)]`, which will result either in an error or a different result.\n",
      "  return (x > x_pad[inds1]) & (x >= x_pad[inds2])\n",
      "/home/nvidia/github/python_environments/soundflux/lib/python3.5/site-packages/librosa/core/pitch.py:159: DeprecationWarning: object of type <class 'numpy.float64'> cannot be safely interpreted as an integer.\n",
      "  bins = np.linspace(-0.5, 0.5, np.ceil(1./resolution), endpoint=False)\n",
      "/home/nvidia/github/python_environments/soundflux/lib/python3.5/site-packages/librosa/core/pitch.py:159: DeprecationWarning: object of type <class 'numpy.float64'> cannot be safely interpreted as an integer.\n",
      "  bins = np.linspace(-0.5, 0.5, np.ceil(1./resolution), endpoint=False)\n",
      "/home/nvidia/github/python_environments/soundflux/lib/python3.5/site-packages/librosa/core/pitch.py:159: DeprecationWarning: object of type <class 'numpy.float64'> cannot be safely interpreted as an integer.\n",
      "  bins = np.linspace(-0.5, 0.5, np.ceil(1./resolution), endpoint=False)\n",
      "/home/nvidia/github/python_environments/soundflux/lib/python3.5/site-packages/librosa/core/pitch.py:159: DeprecationWarning: object of type <class 'numpy.float64'> cannot be safely interpreted as an integer.\n",
      "  bins = np.linspace(-0.5, 0.5, np.ceil(1./resolution), endpoint=False)\n"
     ]
    },
    {
     "name": "stdout",
     "output_type": "stream",
     "text": [
      "\n"
     ]
    },
    {
     "name": "stderr",
     "output_type": "stream",
     "text": [
      "/home/nvidia/github/python_environments/soundflux/lib/python3.5/site-packages/librosa/util/utils.py:828: FutureWarning: Using a non-tuple sequence for multidimensional indexing is deprecated; use `arr[tuple(seq)]` instead of `arr[seq]`. In the future this will be interpreted as an array index, `arr[np.array(seq)]`, which will result either in an error or a different result.\n",
      "  return (x > x_pad[inds1]) & (x >= x_pad[inds2])\n",
      "/home/nvidia/github/python_environments/soundflux/lib/python3.5/site-packages/librosa/core/pitch.py:159: DeprecationWarning: object of type <class 'numpy.float64'> cannot be safely interpreted as an integer.\n",
      "  bins = np.linspace(-0.5, 0.5, np.ceil(1./resolution), endpoint=False)\n",
      "/home/nvidia/github/python_environments/soundflux/lib/python3.5/site-packages/librosa/core/pitch.py:159: DeprecationWarning: object of type <class 'numpy.float64'> cannot be safely interpreted as an integer.\n",
      "  bins = np.linspace(-0.5, 0.5, np.ceil(1./resolution), endpoint=False)\n",
      "/home/nvidia/github/python_environments/soundflux/lib/python3.5/site-packages/librosa/core/pitch.py:159: DeprecationWarning: object of type <class 'numpy.float64'> cannot be safely interpreted as an integer.\n",
      "  bins = np.linspace(-0.5, 0.5, np.ceil(1./resolution), endpoint=False)\n",
      "/home/nvidia/github/python_environments/soundflux/lib/python3.5/site-packages/librosa/core/pitch.py:159: DeprecationWarning: object of type <class 'numpy.float64'> cannot be safely interpreted as an integer.\n",
      "  bins = np.linspace(-0.5, 0.5, np.ceil(1./resolution), endpoint=False)\n",
      "/home/nvidia/github/python_environments/soundflux/lib/python3.5/site-packages/librosa/core/pitch.py:159: DeprecationWarning: object of type <class 'numpy.float64'> cannot be safely interpreted as an integer.\n",
      "  bins = np.linspace(-0.5, 0.5, np.ceil(1./resolution), endpoint=False)\n",
      "/home/nvidia/github/python_environments/soundflux/lib/python3.5/site-packages/librosa/core/pitch.py:159: DeprecationWarning: object of type <class 'numpy.float64'> cannot be safely interpreted as an integer.\n",
      "  bins = np.linspace(-0.5, 0.5, np.ceil(1./resolution), endpoint=False)\n",
      "/home/nvidia/github/python_environments/soundflux/lib/python3.5/site-packages/librosa/core/pitch.py:159: DeprecationWarning: object of type <class 'numpy.float64'> cannot be safely interpreted as an integer.\n",
      "  bins = np.linspace(-0.5, 0.5, np.ceil(1./resolution), endpoint=False)\n",
      "/home/nvidia/github/python_environments/soundflux/lib/python3.5/site-packages/librosa/core/pitch.py:159: DeprecationWarning: object of type <class 'numpy.float64'> cannot be safely interpreted as an integer.\n",
      "  bins = np.linspace(-0.5, 0.5, np.ceil(1./resolution), endpoint=False)\n",
      "/home/nvidia/github/python_environments/soundflux/lib/python3.5/site-packages/librosa/core/pitch.py:159: DeprecationWarning: object of type <class 'numpy.float64'> cannot be safely interpreted as an integer.\n",
      "  bins = np.linspace(-0.5, 0.5, np.ceil(1./resolution), endpoint=False)\n",
      "/home/nvidia/github/python_environments/soundflux/lib/python3.5/site-packages/librosa/core/pitch.py:159: DeprecationWarning: object of type <class 'numpy.float64'> cannot be safely interpreted as an integer.\n",
      "  bins = np.linspace(-0.5, 0.5, np.ceil(1./resolution), endpoint=False)\n",
      "/home/nvidia/github/python_environments/soundflux/lib/python3.5/site-packages/librosa/core/pitch.py:159: DeprecationWarning: object of type <class 'numpy.float64'> cannot be safely interpreted as an integer.\n",
      "  bins = np.linspace(-0.5, 0.5, np.ceil(1./resolution), endpoint=False)\n"
     ]
    },
    {
     "name": "stdout",
     "output_type": "stream",
     "text": [
      "\n"
     ]
    },
    {
     "name": "stderr",
     "output_type": "stream",
     "text": [
      "/home/nvidia/github/python_environments/soundflux/lib/python3.5/site-packages/librosa/util/utils.py:828: FutureWarning: Using a non-tuple sequence for multidimensional indexing is deprecated; use `arr[tuple(seq)]` instead of `arr[seq]`. In the future this will be interpreted as an array index, `arr[np.array(seq)]`, which will result either in an error or a different result.\n",
      "  return (x > x_pad[inds1]) & (x >= x_pad[inds2])\n",
      "/home/nvidia/github/python_environments/soundflux/lib/python3.5/site-packages/librosa/core/pitch.py:159: DeprecationWarning: object of type <class 'numpy.float64'> cannot be safely interpreted as an integer.\n",
      "  bins = np.linspace(-0.5, 0.5, np.ceil(1./resolution), endpoint=False)\n",
      "/home/nvidia/github/python_environments/soundflux/lib/python3.5/site-packages/librosa/core/pitch.py:159: DeprecationWarning: object of type <class 'numpy.float64'> cannot be safely interpreted as an integer.\n",
      "  bins = np.linspace(-0.5, 0.5, np.ceil(1./resolution), endpoint=False)\n",
      "/home/nvidia/github/python_environments/soundflux/lib/python3.5/site-packages/librosa/core/pitch.py:159: DeprecationWarning: object of type <class 'numpy.float64'> cannot be safely interpreted as an integer.\n",
      "  bins = np.linspace(-0.5, 0.5, np.ceil(1./resolution), endpoint=False)\n"
     ]
    },
    {
     "name": "stdout",
     "output_type": "stream",
     "text": [
      "\n"
     ]
    },
    {
     "name": "stderr",
     "output_type": "stream",
     "text": [
      "/home/nvidia/github/python_environments/soundflux/lib/python3.5/site-packages/librosa/util/utils.py:828: FutureWarning: Using a non-tuple sequence for multidimensional indexing is deprecated; use `arr[tuple(seq)]` instead of `arr[seq]`. In the future this will be interpreted as an array index, `arr[np.array(seq)]`, which will result either in an error or a different result.\n",
      "  return (x > x_pad[inds1]) & (x >= x_pad[inds2])\n",
      "/home/nvidia/github/python_environments/soundflux/lib/python3.5/site-packages/librosa/core/pitch.py:159: DeprecationWarning: object of type <class 'numpy.float64'> cannot be safely interpreted as an integer.\n",
      "  bins = np.linspace(-0.5, 0.5, np.ceil(1./resolution), endpoint=False)\n",
      "/home/nvidia/github/python_environments/soundflux/lib/python3.5/site-packages/librosa/core/pitch.py:159: DeprecationWarning: object of type <class 'numpy.float64'> cannot be safely interpreted as an integer.\n",
      "  bins = np.linspace(-0.5, 0.5, np.ceil(1./resolution), endpoint=False)\n"
     ]
    },
    {
     "name": "stdout",
     "output_type": "stream",
     "text": [
      "\n"
     ]
    },
    {
     "name": "stderr",
     "output_type": "stream",
     "text": [
      "/home/nvidia/github/python_environments/soundflux/lib/python3.5/site-packages/librosa/util/utils.py:828: FutureWarning: Using a non-tuple sequence for multidimensional indexing is deprecated; use `arr[tuple(seq)]` instead of `arr[seq]`. In the future this will be interpreted as an array index, `arr[np.array(seq)]`, which will result either in an error or a different result.\n",
      "  return (x > x_pad[inds1]) & (x >= x_pad[inds2])\n",
      "/home/nvidia/github/python_environments/soundflux/lib/python3.5/site-packages/librosa/core/pitch.py:159: DeprecationWarning: object of type <class 'numpy.float64'> cannot be safely interpreted as an integer.\n",
      "  bins = np.linspace(-0.5, 0.5, np.ceil(1./resolution), endpoint=False)\n",
      "/home/nvidia/github/python_environments/soundflux/lib/python3.5/site-packages/librosa/core/pitch.py:159: DeprecationWarning: object of type <class 'numpy.float64'> cannot be safely interpreted as an integer.\n",
      "  bins = np.linspace(-0.5, 0.5, np.ceil(1./resolution), endpoint=False)\n",
      "/home/nvidia/github/python_environments/soundflux/lib/python3.5/site-packages/librosa/core/pitch.py:159: DeprecationWarning: object of type <class 'numpy.float64'> cannot be safely interpreted as an integer.\n",
      "  bins = np.linspace(-0.5, 0.5, np.ceil(1./resolution), endpoint=False)\n",
      "/home/nvidia/github/python_environments/soundflux/lib/python3.5/site-packages/librosa/core/pitch.py:159: DeprecationWarning: object of type <class 'numpy.float64'> cannot be safely interpreted as an integer.\n",
      "  bins = np.linspace(-0.5, 0.5, np.ceil(1./resolution), endpoint=False)\n",
      "/home/nvidia/github/python_environments/soundflux/lib/python3.5/site-packages/librosa/core/pitch.py:159: DeprecationWarning: object of type <class 'numpy.float64'> cannot be safely interpreted as an integer.\n",
      "  bins = np.linspace(-0.5, 0.5, np.ceil(1./resolution), endpoint=False)\n",
      "/home/nvidia/github/python_environments/soundflux/lib/python3.5/site-packages/librosa/core/pitch.py:159: DeprecationWarning: object of type <class 'numpy.float64'> cannot be safely interpreted as an integer.\n",
      "  bins = np.linspace(-0.5, 0.5, np.ceil(1./resolution), endpoint=False)\n",
      "/home/nvidia/github/python_environments/soundflux/lib/python3.5/site-packages/librosa/core/pitch.py:159: DeprecationWarning: object of type <class 'numpy.float64'> cannot be safely interpreted as an integer.\n",
      "  bins = np.linspace(-0.5, 0.5, np.ceil(1./resolution), endpoint=False)\n"
     ]
    },
    {
     "name": "stdout",
     "output_type": "stream",
     "text": [
      "\n"
     ]
    },
    {
     "name": "stderr",
     "output_type": "stream",
     "text": [
      "/home/nvidia/github/python_environments/soundflux/lib/python3.5/site-packages/librosa/util/utils.py:828: FutureWarning: Using a non-tuple sequence for multidimensional indexing is deprecated; use `arr[tuple(seq)]` instead of `arr[seq]`. In the future this will be interpreted as an array index, `arr[np.array(seq)]`, which will result either in an error or a different result.\n",
      "  return (x > x_pad[inds1]) & (x >= x_pad[inds2])\n",
      "/home/nvidia/github/python_environments/soundflux/lib/python3.5/site-packages/librosa/core/pitch.py:159: DeprecationWarning: object of type <class 'numpy.float64'> cannot be safely interpreted as an integer.\n",
      "  bins = np.linspace(-0.5, 0.5, np.ceil(1./resolution), endpoint=False)\n"
     ]
    }
   ],
   "source": [
    "parent_dir = '/media/nvidia/d171b53a-0021-4d77-b891-8d723bedc16d1/soundflux/urbansounds/audio'\n",
    "tr_sub_dirs = [\"fold1\",\"fold2\"]\n",
    "ts_sub_dirs = [\"fold3\"]\n",
    "tr_features, tr_labels = parse_audio_files(parent_dir,tr_sub_dirs)\n",
    "ts_features, ts_labels = parse_audio_files(parent_dir,ts_sub_dirs)\n",
    "\n",
    "tr_labels = one_hot_encode(tr_labels)\n",
    "ts_labels = one_hot_encode(ts_labels)"
   ]
  },
  {
   "cell_type": "code",
   "execution_count": 37,
   "metadata": {},
   "outputs": [],
   "source": [
    "training_epochs = 50\n",
    "n_dim = tr_features.shape[1]\n",
    "n_classes = 10\n",
    "n_hidden_units_one = 280 \n",
    "n_hidden_units_two = 300\n",
    "sd = 1 / np.sqrt(n_dim)\n",
    "learning_rate = 0.01"
   ]
  },
  {
   "cell_type": "code",
   "execution_count": 38,
   "metadata": {},
   "outputs": [
    {
     "name": "stdout",
     "output_type": "stream",
     "text": [
      "WARNING:tensorflow:From /home/nvidia/github/python_environments/soundflux/lib/python3.5/site-packages/tensorflow/python/util/tf_should_use.py:118: initialize_all_variables (from tensorflow.python.ops.variables) is deprecated and will be removed after 2017-03-02.\n",
      "Instructions for updating:\n",
      "Use `tf.global_variables_initializer` instead.\n"
     ]
    }
   ],
   "source": [
    "X = tf.placeholder(tf.float32,[None,n_dim])\n",
    "Y = tf.placeholder(tf.float32,[None,n_classes])\n",
    "\n",
    "W_1 = tf.Variable(tf.random_normal([n_dim,n_hidden_units_one], mean = 0, stddev=sd))\n",
    "b_1 = tf.Variable(tf.random_normal([n_hidden_units_one], mean = 0, stddev=sd))\n",
    "h_1 = tf.nn.tanh(tf.matmul(X,W_1) + b_1)\n",
    "\n",
    "W_2 = tf.Variable(tf.random_normal([n_hidden_units_one,n_hidden_units_two], \n",
    "mean = 0, stddev=sd))\n",
    "b_2 = tf.Variable(tf.random_normal([n_hidden_units_two], mean = 0, stddev=sd))\n",
    "h_2 = tf.nn.sigmoid(tf.matmul(h_1,W_2) + b_2)\n",
    "\n",
    "W = tf.Variable(tf.random_normal([n_hidden_units_two,n_classes], mean = 0, stddev=sd))\n",
    "b = tf.Variable(tf.random_normal([n_classes], mean = 0, stddev=sd))\n",
    "y_ = tf.nn.softmax(tf.matmul(h_2,W) + b)\n",
    "\n",
    "init = tf.initialize_all_variables()"
   ]
  },
  {
   "cell_type": "code",
   "execution_count": 39,
   "metadata": {},
   "outputs": [],
   "source": [
    "cost_function = -tf.reduce_sum(Y * tf.log(y_))\n",
    "optimizer = tf.train.GradientDescentOptimizer(learning_rate).minimize(cost_function)\n",
    "\n",
    "correct_prediction = tf.equal(tf.argmax(y_,1), tf.argmax(Y,1))\n",
    "accuracy = tf.reduce_mean(tf.cast(correct_prediction, tf.float32))"
   ]
  },
  {
   "cell_type": "code",
   "execution_count": 41,
   "metadata": {},
   "outputs": [
    {
     "ename": "ValueError",
     "evalue": "Cannot feed value of shape (0, 0) for Tensor 'Placeholder_1:0', which has shape '(?, 10)'",
     "output_type": "error",
     "traceback": [
      "\u001b[0;31m---------------------------------------------------------------------------\u001b[0m",
      "\u001b[0;31mValueError\u001b[0m                                Traceback (most recent call last)",
      "\u001b[0;32m<ipython-input-41-a35a61c043f7>\u001b[0m in \u001b[0;36m<module>\u001b[0;34m\u001b[0m\n\u001b[1;32m      4\u001b[0m     \u001b[0msess\u001b[0m\u001b[0;34m.\u001b[0m\u001b[0mrun\u001b[0m\u001b[0;34m(\u001b[0m\u001b[0minit\u001b[0m\u001b[0;34m)\u001b[0m\u001b[0;34m\u001b[0m\u001b[0m\n\u001b[1;32m      5\u001b[0m     \u001b[0;32mfor\u001b[0m \u001b[0mepoch\u001b[0m \u001b[0;32min\u001b[0m \u001b[0mrange\u001b[0m\u001b[0;34m(\u001b[0m\u001b[0mtraining_epochs\u001b[0m\u001b[0;34m)\u001b[0m\u001b[0;34m:\u001b[0m\u001b[0;34m\u001b[0m\u001b[0m\n\u001b[0;32m----> 6\u001b[0;31m         \u001b[0m_\u001b[0m\u001b[0;34m,\u001b[0m\u001b[0mcost\u001b[0m \u001b[0;34m=\u001b[0m \u001b[0msess\u001b[0m\u001b[0;34m.\u001b[0m\u001b[0mrun\u001b[0m\u001b[0;34m(\u001b[0m\u001b[0;34m[\u001b[0m\u001b[0moptimizer\u001b[0m\u001b[0;34m,\u001b[0m\u001b[0mcost_function\u001b[0m\u001b[0;34m]\u001b[0m\u001b[0;34m,\u001b[0m\u001b[0mfeed_dict\u001b[0m\u001b[0;34m=\u001b[0m\u001b[0;34m{\u001b[0m\u001b[0mX\u001b[0m\u001b[0;34m:\u001b[0m\u001b[0mtr_features\u001b[0m\u001b[0;34m,\u001b[0m\u001b[0mY\u001b[0m\u001b[0;34m:\u001b[0m\u001b[0mtr_labels\u001b[0m\u001b[0;34m}\u001b[0m\u001b[0;34m)\u001b[0m\u001b[0;34m\u001b[0m\u001b[0m\n\u001b[0m\u001b[1;32m      7\u001b[0m         \u001b[0mcost_history\u001b[0m \u001b[0;34m=\u001b[0m \u001b[0mnp\u001b[0m\u001b[0;34m.\u001b[0m\u001b[0mappend\u001b[0m\u001b[0;34m(\u001b[0m\u001b[0mcost_history\u001b[0m\u001b[0;34m,\u001b[0m\u001b[0mcost\u001b[0m\u001b[0;34m)\u001b[0m\u001b[0;34m\u001b[0m\u001b[0m\n\u001b[1;32m      8\u001b[0m \u001b[0;34m\u001b[0m\u001b[0m\n",
      "\u001b[0;32m~/github/python_environments/soundflux/lib/python3.5/site-packages/tensorflow/python/client/session.py\u001b[0m in \u001b[0;36mrun\u001b[0;34m(self, fetches, feed_dict, options, run_metadata)\u001b[0m\n\u001b[1;32m    898\u001b[0m     \u001b[0;32mtry\u001b[0m\u001b[0;34m:\u001b[0m\u001b[0;34m\u001b[0m\u001b[0m\n\u001b[1;32m    899\u001b[0m       result = self._run(None, fetches, feed_dict, options_ptr,\n\u001b[0;32m--> 900\u001b[0;31m                          run_metadata_ptr)\n\u001b[0m\u001b[1;32m    901\u001b[0m       \u001b[0;32mif\u001b[0m \u001b[0mrun_metadata\u001b[0m\u001b[0;34m:\u001b[0m\u001b[0;34m\u001b[0m\u001b[0m\n\u001b[1;32m    902\u001b[0m         \u001b[0mproto_data\u001b[0m \u001b[0;34m=\u001b[0m \u001b[0mtf_session\u001b[0m\u001b[0;34m.\u001b[0m\u001b[0mTF_GetBuffer\u001b[0m\u001b[0;34m(\u001b[0m\u001b[0mrun_metadata_ptr\u001b[0m\u001b[0;34m)\u001b[0m\u001b[0;34m\u001b[0m\u001b[0m\n",
      "\u001b[0;32m~/github/python_environments/soundflux/lib/python3.5/site-packages/tensorflow/python/client/session.py\u001b[0m in \u001b[0;36m_run\u001b[0;34m(self, handle, fetches, feed_dict, options, run_metadata)\u001b[0m\n\u001b[1;32m   1109\u001b[0m                              \u001b[0;34m'which has shape %r'\u001b[0m \u001b[0;34m%\u001b[0m\u001b[0;34m\u001b[0m\u001b[0m\n\u001b[1;32m   1110\u001b[0m                              (np_val.shape, subfeed_t.name,\n\u001b[0;32m-> 1111\u001b[0;31m                               str(subfeed_t.get_shape())))\n\u001b[0m\u001b[1;32m   1112\u001b[0m           \u001b[0;32mif\u001b[0m \u001b[0;32mnot\u001b[0m \u001b[0mself\u001b[0m\u001b[0;34m.\u001b[0m\u001b[0mgraph\u001b[0m\u001b[0;34m.\u001b[0m\u001b[0mis_feedable\u001b[0m\u001b[0;34m(\u001b[0m\u001b[0msubfeed_t\u001b[0m\u001b[0;34m)\u001b[0m\u001b[0;34m:\u001b[0m\u001b[0;34m\u001b[0m\u001b[0m\n\u001b[1;32m   1113\u001b[0m             \u001b[0;32mraise\u001b[0m \u001b[0mValueError\u001b[0m\u001b[0;34m(\u001b[0m\u001b[0;34m'Tensor %s may not be fed.'\u001b[0m \u001b[0;34m%\u001b[0m \u001b[0msubfeed_t\u001b[0m\u001b[0;34m)\u001b[0m\u001b[0;34m\u001b[0m\u001b[0m\n",
      "\u001b[0;31mValueError\u001b[0m: Cannot feed value of shape (0, 0) for Tensor 'Placeholder_1:0', which has shape '(?, 10)'"
     ]
    }
   ],
   "source": [
    "cost_history = np.empty(shape=[1],dtype=float)\n",
    "y_true, y_pred = None, None\n",
    "with tf.Session() as sess:\n",
    "    sess.run(init)\n",
    "    for epoch in range(training_epochs):            \n",
    "        _,cost = sess.run([optimizer,cost_function],feed_dict={X:tr_features,Y:tr_labels})\n",
    "        cost_history = np.append(cost_history,cost)\n",
    "    \n",
    "    y_pred = sess.run(tf.argmax(y_,1),feed_dict={X: ts_features})\n",
    "    y_true = sess.run(tf.argmax(ts_labels,1))\n",
    "    print(\"Test accuracy: \",round(session.run(accuracy, \n",
    "    \tfeed_dict={X: ts_features,Y: ts_labels}),3))\n",
    "\n",
    "fig = plt.figure(figsize=(10,8))\n",
    "plt.plot(cost_history)\n",
    "plt.axis([0,training_epochs,0,np.max(cost_history)])\n",
    "plt.show()\n",
    "\n",
    "p,r,f,s = precision_recall_fscore_support(y_true, y_pred, average=\"micro\")\n",
    "print(\"F-Score:\", round(f,3))"
   ]
  }
 ],
 "metadata": {
  "kernelspec": {
   "display_name": "Python 3",
   "language": "python",
   "name": "python3"
  },
  "language_info": {
   "codemirror_mode": {
    "name": "ipython",
    "version": 3
   },
   "file_extension": ".py",
   "mimetype": "text/x-python",
   "name": "python",
   "nbconvert_exporter": "python",
   "pygments_lexer": "ipython3",
   "version": "3.5.2"
  }
 },
 "nbformat": 4,
 "nbformat_minor": 2
}
